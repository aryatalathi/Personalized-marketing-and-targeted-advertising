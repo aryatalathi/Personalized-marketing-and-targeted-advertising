{
 "cells": [
  {
   "cell_type": "markdown",
   "id": "0082345d",
   "metadata": {
    "papermill": {
     "duration": 0.079992,
     "end_time": "2022-04-27T06:04:06.488092",
     "exception": false,
     "start_time": "2022-04-27T06:04:06.408100",
     "status": "completed"
    },
    "tags": []
   },
   "source": [
    "# Personalized Marketing and Targeted Advertisng"
   ]
  },
  {
   "cell_type": "markdown",
   "id": "01bde759",
   "metadata": {
    "papermill": {
     "duration": 0.080948,
     "end_time": "2022-04-27T06:04:06.648106",
     "exception": false,
     "start_time": "2022-04-27T06:04:06.567158",
     "status": "completed"
    },
    "tags": []
   },
   "source": [
    "**This notebook is divided into following sections:**\n",
    "1. Importing data and required libraries\n",
    "2. Data Cleaning\n",
    "3. Segmentation\n",
    "4. Data Modelling\n",
    "5. Conclusion"
   ]
  },
  {
   "cell_type": "markdown",
   "id": "4be56987",
   "metadata": {
    "papermill": {
     "duration": 0.075235,
     "end_time": "2022-04-27T06:04:06.798447",
     "exception": false,
     "start_time": "2022-04-27T06:04:06.723212",
     "status": "completed"
    },
    "tags": []
   },
   "source": [
    "# **1. Importing data and required libraries**"
   ]
  },
  {
   "cell_type": "code",
   "execution_count": 1,
   "id": "c7d8e94e",
   "metadata": {
    "_cell_guid": "b1076dfc-b9ad-4769-8c92-a6c4dae69d19",
    "_uuid": "8f2839f25d086af736a60e9eeb907d3b93b6e0e5",
    "execution": {
     "iopub.execute_input": "2022-04-27T06:04:06.960367Z",
     "iopub.status.busy": "2022-04-27T06:04:06.959646Z",
     "iopub.status.idle": "2022-04-27T06:04:06.981558Z",
     "shell.execute_reply": "2022-04-27T06:04:06.982287Z",
     "shell.execute_reply.started": "2022-04-27T05:06:26.63322Z"
    },
    "papermill": {
     "duration": 0.108101,
     "end_time": "2022-04-27T06:04:06.982613",
     "exception": false,
     "start_time": "2022-04-27T06:04:06.874512",
     "status": "completed"
    },
    "tags": []
   },
   "outputs": [
    {
     "name": "stdout",
     "output_type": "stream",
     "text": [
      "/kaggle/input/starbucks-customer-data/transcript.csv\n",
      "/kaggle/input/starbucks-customer-data/profile.csv\n",
      "/kaggle/input/starbucks-customer-data/portfolio.csv\n"
     ]
    }
   ],
   "source": [
    "# This Python 3 environment comes with many helpful analytics libraries installed\n",
    "# It is defined by the kaggle/python Docker image: https://github.com/kaggle/docker-python\n",
    "# For example, here's several helpful packages to load\n",
    "\n",
    "import numpy as np # linear algebra\n",
    "import pandas as pd # data processing, CSV file I/O (e.g. pd.read_csv)\n",
    "\n",
    "# Input data files are available in the read-only \"../input/\" directory\n",
    "# For example, running this (by clicking run or pressing Shift+Enter) will list all files under the input directory\n",
    "\n",
    "import os\n",
    "for dirname, _, filenames in os.walk('/kaggle/input'):\n",
    "    for filename in filenames:\n",
    "        print(os.path.join(dirname, filename))\n",
    "\n",
    "# You can write up to 20GB to the current directory (/kaggle/working/) that gets preserved as output when you create a version using \"Save & Run All\" \n",
    "# You can also write temporary files to /kaggle/temp/, but they won't be saved outside of the current session"
   ]
  },
  {
   "cell_type": "code",
   "execution_count": 2,
   "id": "66f55ead",
   "metadata": {
    "execution": {
     "iopub.execute_input": "2022-04-27T06:04:07.149111Z",
     "iopub.status.busy": "2022-04-27T06:04:07.148337Z",
     "iopub.status.idle": "2022-04-27T06:04:09.860410Z",
     "shell.execute_reply": "2022-04-27T06:04:09.859235Z",
     "shell.execute_reply.started": "2022-04-27T05:06:27.193216Z"
    },
    "papermill": {
     "duration": 2.799519,
     "end_time": "2022-04-27T06:04:09.860770",
     "exception": false,
     "start_time": "2022-04-27T06:04:07.061251",
     "status": "completed"
    },
    "tags": []
   },
   "outputs": [],
   "source": [
    "import matplotlib.pyplot as plt\n",
    "import seaborn as sns\n",
    "from scipy.sparse import csr_matrix\n",
    "from sklearn.neighbors import NearestNeighbors\n",
    "import plotly as py\n",
    "import plotly.express as px\n",
    "import plotly.graph_objs as go\n",
    "from plotly.subplots import make_subplots\n",
    "from plotly.offline import init_notebook_mode, iplot, plot\n",
    "import math\n",
    "from sklearn.metrics import mean_absolute_error\n",
    "from sklearn.metrics import mean_squared_error\n",
    "from sklearn.metrics import r2_score\n",
    "from math import sqrt\n",
    "\n",
    "import warnings \n",
    "warnings.filterwarnings('ignore')\n",
    "%matplotlib inline"
   ]
  },
  {
   "cell_type": "code",
   "execution_count": 3,
   "id": "35540776",
   "metadata": {
    "execution": {
     "iopub.execute_input": "2022-04-27T06:04:10.025807Z",
     "iopub.status.busy": "2022-04-27T06:04:10.024977Z",
     "iopub.status.idle": "2022-04-27T06:04:11.076754Z",
     "shell.execute_reply": "2022-04-27T06:04:11.075793Z",
     "shell.execute_reply.started": "2022-04-27T05:06:27.870496Z"
    },
    "papermill": {
     "duration": 1.138549,
     "end_time": "2022-04-27T06:04:11.076913",
     "exception": false,
     "start_time": "2022-04-27T06:04:09.938364",
     "status": "completed"
    },
    "tags": []
   },
   "outputs": [],
   "source": [
    "portfolio = pd.read_csv('../input/starbucks-customer-data/portfolio.csv')\n",
    "profile = pd.read_csv('../input/starbucks-customer-data/profile.csv')\n",
    "transcript = pd.read_csv('../input/starbucks-customer-data/transcript.csv')"
   ]
  },
  {
   "cell_type": "code",
   "execution_count": 4,
   "id": "733125a8",
   "metadata": {
    "execution": {
     "iopub.execute_input": "2022-04-27T06:04:11.397466Z",
     "iopub.status.busy": "2022-04-27T06:04:11.392667Z",
     "iopub.status.idle": "2022-04-27T06:04:11.516541Z",
     "shell.execute_reply": "2022-04-27T06:04:11.517093Z",
     "shell.execute_reply.started": "2022-04-27T05:06:28.478615Z"
    },
    "papermill": {
     "duration": 0.360213,
     "end_time": "2022-04-27T06:04:11.517304",
     "exception": false,
     "start_time": "2022-04-27T06:04:11.157091",
     "status": "completed"
    },
    "tags": []
   },
   "outputs": [
    {
     "name": "stdout",
     "output_type": "stream",
     "text": [
      "<class 'pandas.core.frame.DataFrame'>\n",
      "RangeIndex: 10 entries, 0 to 9\n",
      "Data columns (total 7 columns):\n",
      " #   Column      Non-Null Count  Dtype \n",
      "---  ------      --------------  ----- \n",
      " 0   Unnamed: 0  10 non-null     int64 \n",
      " 1   reward      10 non-null     int64 \n",
      " 2   channels    10 non-null     object\n",
      " 3   difficulty  10 non-null     int64 \n",
      " 4   duration    10 non-null     int64 \n",
      " 5   offer_type  10 non-null     object\n",
      " 6   id          10 non-null     object\n",
      "dtypes: int64(4), object(3)\n",
      "memory usage: 688.0+ bytes\n",
      "<class 'pandas.core.frame.DataFrame'>\n",
      "RangeIndex: 17000 entries, 0 to 16999\n",
      "Data columns (total 6 columns):\n",
      " #   Column            Non-Null Count  Dtype  \n",
      "---  ------            --------------  -----  \n",
      " 0   Unnamed: 0        17000 non-null  int64  \n",
      " 1   gender            14825 non-null  object \n",
      " 2   age               17000 non-null  int64  \n",
      " 3   id                17000 non-null  object \n",
      " 4   became_member_on  17000 non-null  int64  \n",
      " 5   income            14825 non-null  float64\n",
      "dtypes: float64(1), int64(3), object(2)\n",
      "memory usage: 797.0+ KB\n",
      "<class 'pandas.core.frame.DataFrame'>\n",
      "RangeIndex: 306534 entries, 0 to 306533\n",
      "Data columns (total 5 columns):\n",
      " #   Column      Non-Null Count   Dtype \n",
      "---  ------      --------------   ----- \n",
      " 0   Unnamed: 0  306534 non-null  int64 \n",
      " 1   person      306534 non-null  object\n",
      " 2   event       306534 non-null  object\n",
      " 3   value       306534 non-null  object\n",
      " 4   time        306534 non-null  int64 \n",
      "dtypes: int64(2), object(3)\n",
      "memory usage: 11.7+ MB\n"
     ]
    }
   ],
   "source": [
    "portfolio.info()\n",
    "profile.info()\n",
    "transcript.info()"
   ]
  },
  {
   "cell_type": "markdown",
   "id": "c20eb41a",
   "metadata": {
    "papermill": {
     "duration": 0.077385,
     "end_time": "2022-04-27T06:04:11.670838",
     "exception": false,
     "start_time": "2022-04-27T06:04:11.593453",
     "status": "completed"
    },
    "tags": []
   },
   "source": [
    "# **2. Data Cleaning**"
   ]
  },
  {
   "cell_type": "code",
   "execution_count": 5,
   "id": "d8e968e7",
   "metadata": {
    "execution": {
     "iopub.execute_input": "2022-04-27T06:04:11.827236Z",
     "iopub.status.busy": "2022-04-27T06:04:11.826255Z",
     "iopub.status.idle": "2022-04-27T06:04:11.837348Z",
     "shell.execute_reply": "2022-04-27T06:04:11.837884Z",
     "shell.execute_reply.started": "2022-04-27T05:06:29.175821Z"
    },
    "papermill": {
     "duration": 0.091038,
     "end_time": "2022-04-27T06:04:11.838058",
     "exception": false,
     "start_time": "2022-04-27T06:04:11.747020",
     "status": "completed"
    },
    "tags": []
   },
   "outputs": [
    {
     "data": {
      "text/plain": [
       "Unnamed: 0    0\n",
       "reward        0\n",
       "channels      0\n",
       "difficulty    0\n",
       "duration      0\n",
       "offer_type    0\n",
       "id            0\n",
       "dtype: int64"
      ]
     },
     "execution_count": 5,
     "metadata": {},
     "output_type": "execute_result"
    }
   ],
   "source": [
    "portfolio.isnull().sum()"
   ]
  },
  {
   "cell_type": "code",
   "execution_count": 6,
   "id": "fd7b6f13",
   "metadata": {
    "execution": {
     "iopub.execute_input": "2022-04-27T06:04:12.002583Z",
     "iopub.status.busy": "2022-04-27T06:04:12.001582Z",
     "iopub.status.idle": "2022-04-27T06:04:12.014169Z",
     "shell.execute_reply": "2022-04-27T06:04:12.014816Z",
     "shell.execute_reply.started": "2022-04-27T05:06:29.982403Z"
    },
    "papermill": {
     "duration": 0.097099,
     "end_time": "2022-04-27T06:04:12.014993",
     "exception": false,
     "start_time": "2022-04-27T06:04:11.917894",
     "status": "completed"
    },
    "tags": []
   },
   "outputs": [
    {
     "data": {
      "text/plain": [
       "Unnamed: 0             0\n",
       "gender              2175\n",
       "age                    0\n",
       "id                     0\n",
       "became_member_on       0\n",
       "income              2175\n",
       "dtype: int64"
      ]
     },
     "execution_count": 6,
     "metadata": {},
     "output_type": "execute_result"
    }
   ],
   "source": [
    "profile.isnull().sum()"
   ]
  },
  {
   "cell_type": "code",
   "execution_count": 7,
   "id": "9daf2fd3",
   "metadata": {
    "execution": {
     "iopub.execute_input": "2022-04-27T06:04:12.174548Z",
     "iopub.status.busy": "2022-04-27T06:04:12.173547Z",
     "iopub.status.idle": "2022-04-27T06:04:12.282704Z",
     "shell.execute_reply": "2022-04-27T06:04:12.283214Z",
     "shell.execute_reply.started": "2022-04-27T05:06:30.539476Z"
    },
    "papermill": {
     "duration": 0.190222,
     "end_time": "2022-04-27T06:04:12.283397",
     "exception": false,
     "start_time": "2022-04-27T06:04:12.093175",
     "status": "completed"
    },
    "tags": []
   },
   "outputs": [
    {
     "data": {
      "text/plain": [
       "Unnamed: 0    0\n",
       "person        0\n",
       "event         0\n",
       "value         0\n",
       "time          0\n",
       "dtype: int64"
      ]
     },
     "execution_count": 7,
     "metadata": {},
     "output_type": "execute_result"
    }
   ],
   "source": [
    "transcript.isnull().sum()"
   ]
  },
  {
   "cell_type": "code",
   "execution_count": 8,
   "id": "68160255",
   "metadata": {
    "execution": {
     "iopub.execute_input": "2022-04-27T06:04:12.447292Z",
     "iopub.status.busy": "2022-04-27T06:04:12.446647Z",
     "iopub.status.idle": "2022-04-27T06:04:12.470707Z",
     "shell.execute_reply": "2022-04-27T06:04:12.470156Z",
     "shell.execute_reply.started": "2022-04-27T05:06:31.061227Z"
    },
    "papermill": {
     "duration": 0.106107,
     "end_time": "2022-04-27T06:04:12.470867",
     "exception": false,
     "start_time": "2022-04-27T06:04:12.364760",
     "status": "completed"
    },
    "tags": []
   },
   "outputs": [],
   "source": [
    "profile.drop('Unnamed: 0', axis=1, inplace=True)\n",
    "transcript.drop('Unnamed: 0', axis=1, inplace=True)\n",
    "portfolio.drop('Unnamed: 0', axis=1, inplace=True)"
   ]
  },
  {
   "cell_type": "code",
   "execution_count": 9,
   "id": "500db9aa",
   "metadata": {
    "execution": {
     "iopub.execute_input": "2022-04-27T06:04:12.644066Z",
     "iopub.status.busy": "2022-04-27T06:04:12.643346Z",
     "iopub.status.idle": "2022-04-27T06:04:12.646070Z",
     "shell.execute_reply": "2022-04-27T06:04:12.645433Z",
     "shell.execute_reply.started": "2022-04-27T05:06:31.584226Z"
    },
    "papermill": {
     "duration": 0.095725,
     "end_time": "2022-04-27T06:04:12.646229",
     "exception": false,
     "start_time": "2022-04-27T06:04:12.550504",
     "status": "completed"
    },
    "tags": []
   },
   "outputs": [],
   "source": [
    "profile['gender'].fillna(\"O\", inplace=True)"
   ]
  },
  {
   "cell_type": "code",
   "execution_count": 10,
   "id": "840dfd7d",
   "metadata": {
    "execution": {
     "iopub.execute_input": "2022-04-27T06:04:12.815839Z",
     "iopub.status.busy": "2022-04-27T06:04:12.815142Z",
     "iopub.status.idle": "2022-04-27T06:04:12.821634Z",
     "shell.execute_reply": "2022-04-27T06:04:12.822244Z",
     "shell.execute_reply.started": "2022-04-27T05:06:32.297061Z"
    },
    "papermill": {
     "duration": 0.095767,
     "end_time": "2022-04-27T06:04:12.822427",
     "exception": false,
     "start_time": "2022-04-27T06:04:12.726660",
     "status": "completed"
    },
    "tags": []
   },
   "outputs": [
    {
     "data": {
      "text/plain": [
       "O    2175\n",
       "Name: gender, dtype: int64"
      ]
     },
     "execution_count": 10,
     "metadata": {},
     "output_type": "execute_result"
    }
   ],
   "source": [
    "profile[profile['age']==118]['gender'].value_counts()"
   ]
  },
  {
   "cell_type": "code",
   "execution_count": 11,
   "id": "9b90064f",
   "metadata": {
    "execution": {
     "iopub.execute_input": "2022-04-27T06:04:12.982749Z",
     "iopub.status.busy": "2022-04-27T06:04:12.982053Z",
     "iopub.status.idle": "2022-04-27T06:04:12.996766Z",
     "shell.execute_reply": "2022-04-27T06:04:12.997306Z",
     "shell.execute_reply.started": "2022-04-27T05:06:33.018097Z"
    },
    "papermill": {
     "duration": 0.095256,
     "end_time": "2022-04-27T06:04:12.997482",
     "exception": false,
     "start_time": "2022-04-27T06:04:12.902226",
     "status": "completed"
    },
    "tags": []
   },
   "outputs": [
    {
     "data": {
      "text/plain": [
       "gender              0\n",
       "age                 0\n",
       "id                  0\n",
       "became_member_on    0\n",
       "income              0\n",
       "dtype: int64"
      ]
     },
     "execution_count": 11,
     "metadata": {},
     "output_type": "execute_result"
    }
   ],
   "source": [
    "profile.drop(profile.index[(profile['age'] < 119) & (profile['age'] > 100)], inplace = True)\n",
    "profile.isnull().sum()"
   ]
  },
  {
   "cell_type": "code",
   "execution_count": 12,
   "id": "83a14a0b",
   "metadata": {
    "execution": {
     "iopub.execute_input": "2022-04-27T06:04:13.164862Z",
     "iopub.status.busy": "2022-04-27T06:04:13.164116Z",
     "iopub.status.idle": "2022-04-27T06:04:14.240953Z",
     "shell.execute_reply": "2022-04-27T06:04:14.240405Z",
     "shell.execute_reply.started": "2022-04-27T05:06:33.644351Z"
    },
    "papermill": {
     "duration": 1.164475,
     "end_time": "2022-04-27T06:04:14.241104",
     "exception": false,
     "start_time": "2022-04-27T06:04:13.076629",
     "status": "completed"
    },
    "tags": []
   },
   "outputs": [
    {
     "data": {
      "text/html": [
       "        <script type=\"text/javascript\">\n",
       "        window.PlotlyConfig = {MathJaxConfig: 'local'};\n",
       "        if (window.MathJax) {MathJax.Hub.Config({SVG: {font: \"STIX-Web\"}});}\n",
       "        if (typeof require !== 'undefined') {\n",
       "        require.undef(\"plotly\");\n",
       "        requirejs.config({\n",
       "            paths: {\n",
       "                'plotly': ['https://cdn.plot.ly/plotly-2.9.0.min']\n",
       "            }\n",
       "        });\n",
       "        require(['plotly'], function(Plotly) {\n",
       "            window._Plotly = Plotly;\n",
       "        });\n",
       "        }\n",
       "        </script>\n",
       "        "
      ]
     },
     "metadata": {},
     "output_type": "display_data"
    },
    {
     "data": {
      "text/html": [
       "<div>                            <div id=\"14c69951-1e27-4fd9-8e66-eb481b7fd176\" class=\"plotly-graph-div\" style=\"height:525px; width:100%;\"></div>            <script type=\"text/javascript\">                require([\"plotly\"], function(Plotly) {                    window.PLOTLYENV=window.PLOTLYENV || {};                                    if (document.getElementById(\"14c69951-1e27-4fd9-8e66-eb481b7fd176\")) {                    Plotly.newPlot(                        \"14c69951-1e27-4fd9-8e66-eb481b7fd176\",                        [{\"domain\":{\"x\":[0.0,1.0],\"y\":[0.0,1.0]},\"hovertemplate\":\"gender=%{label}<br>count=%{value}<extra></extra>\",\"labels\":[\"M\",\"F\",\"O\"],\"legendgroup\":\"\",\"name\":\"\",\"showlegend\":true,\"values\":[8484,6124,212],\"type\":\"pie\"}],                        {\"template\":{\"data\":{\"bar\":[{\"error_x\":{\"color\":\"#2a3f5f\"},\"error_y\":{\"color\":\"#2a3f5f\"},\"marker\":{\"line\":{\"color\":\"#E5ECF6\",\"width\":0.5},\"pattern\":{\"fillmode\":\"overlay\",\"size\":10,\"solidity\":0.2}},\"type\":\"bar\"}],\"barpolar\":[{\"marker\":{\"line\":{\"color\":\"#E5ECF6\",\"width\":0.5},\"pattern\":{\"fillmode\":\"overlay\",\"size\":10,\"solidity\":0.2}},\"type\":\"barpolar\"}],\"carpet\":[{\"aaxis\":{\"endlinecolor\":\"#2a3f5f\",\"gridcolor\":\"white\",\"linecolor\":\"white\",\"minorgridcolor\":\"white\",\"startlinecolor\":\"#2a3f5f\"},\"baxis\":{\"endlinecolor\":\"#2a3f5f\",\"gridcolor\":\"white\",\"linecolor\":\"white\",\"minorgridcolor\":\"white\",\"startlinecolor\":\"#2a3f5f\"},\"type\":\"carpet\"}],\"choropleth\":[{\"colorbar\":{\"outlinewidth\":0,\"ticks\":\"\"},\"type\":\"choropleth\"}],\"contour\":[{\"colorbar\":{\"outlinewidth\":0,\"ticks\":\"\"},\"colorscale\":[[0.0,\"#0d0887\"],[0.1111111111111111,\"#46039f\"],[0.2222222222222222,\"#7201a8\"],[0.3333333333333333,\"#9c179e\"],[0.4444444444444444,\"#bd3786\"],[0.5555555555555556,\"#d8576b\"],[0.6666666666666666,\"#ed7953\"],[0.7777777777777778,\"#fb9f3a\"],[0.8888888888888888,\"#fdca26\"],[1.0,\"#f0f921\"]],\"type\":\"contour\"}],\"contourcarpet\":[{\"colorbar\":{\"outlinewidth\":0,\"ticks\":\"\"},\"type\":\"contourcarpet\"}],\"heatmap\":[{\"colorbar\":{\"outlinewidth\":0,\"ticks\":\"\"},\"colorscale\":[[0.0,\"#0d0887\"],[0.1111111111111111,\"#46039f\"],[0.2222222222222222,\"#7201a8\"],[0.3333333333333333,\"#9c179e\"],[0.4444444444444444,\"#bd3786\"],[0.5555555555555556,\"#d8576b\"],[0.6666666666666666,\"#ed7953\"],[0.7777777777777778,\"#fb9f3a\"],[0.8888888888888888,\"#fdca26\"],[1.0,\"#f0f921\"]],\"type\":\"heatmap\"}],\"heatmapgl\":[{\"colorbar\":{\"outlinewidth\":0,\"ticks\":\"\"},\"colorscale\":[[0.0,\"#0d0887\"],[0.1111111111111111,\"#46039f\"],[0.2222222222222222,\"#7201a8\"],[0.3333333333333333,\"#9c179e\"],[0.4444444444444444,\"#bd3786\"],[0.5555555555555556,\"#d8576b\"],[0.6666666666666666,\"#ed7953\"],[0.7777777777777778,\"#fb9f3a\"],[0.8888888888888888,\"#fdca26\"],[1.0,\"#f0f921\"]],\"type\":\"heatmapgl\"}],\"histogram\":[{\"marker\":{\"pattern\":{\"fillmode\":\"overlay\",\"size\":10,\"solidity\":0.2}},\"type\":\"histogram\"}],\"histogram2d\":[{\"colorbar\":{\"outlinewidth\":0,\"ticks\":\"\"},\"colorscale\":[[0.0,\"#0d0887\"],[0.1111111111111111,\"#46039f\"],[0.2222222222222222,\"#7201a8\"],[0.3333333333333333,\"#9c179e\"],[0.4444444444444444,\"#bd3786\"],[0.5555555555555556,\"#d8576b\"],[0.6666666666666666,\"#ed7953\"],[0.7777777777777778,\"#fb9f3a\"],[0.8888888888888888,\"#fdca26\"],[1.0,\"#f0f921\"]],\"type\":\"histogram2d\"}],\"histogram2dcontour\":[{\"colorbar\":{\"outlinewidth\":0,\"ticks\":\"\"},\"colorscale\":[[0.0,\"#0d0887\"],[0.1111111111111111,\"#46039f\"],[0.2222222222222222,\"#7201a8\"],[0.3333333333333333,\"#9c179e\"],[0.4444444444444444,\"#bd3786\"],[0.5555555555555556,\"#d8576b\"],[0.6666666666666666,\"#ed7953\"],[0.7777777777777778,\"#fb9f3a\"],[0.8888888888888888,\"#fdca26\"],[1.0,\"#f0f921\"]],\"type\":\"histogram2dcontour\"}],\"mesh3d\":[{\"colorbar\":{\"outlinewidth\":0,\"ticks\":\"\"},\"type\":\"mesh3d\"}],\"parcoords\":[{\"line\":{\"colorbar\":{\"outlinewidth\":0,\"ticks\":\"\"}},\"type\":\"parcoords\"}],\"pie\":[{\"automargin\":true,\"type\":\"pie\"}],\"scatter\":[{\"marker\":{\"colorbar\":{\"outlinewidth\":0,\"ticks\":\"\"}},\"type\":\"scatter\"}],\"scatter3d\":[{\"line\":{\"colorbar\":{\"outlinewidth\":0,\"ticks\":\"\"}},\"marker\":{\"colorbar\":{\"outlinewidth\":0,\"ticks\":\"\"}},\"type\":\"scatter3d\"}],\"scattercarpet\":[{\"marker\":{\"colorbar\":{\"outlinewidth\":0,\"ticks\":\"\"}},\"type\":\"scattercarpet\"}],\"scattergeo\":[{\"marker\":{\"colorbar\":{\"outlinewidth\":0,\"ticks\":\"\"}},\"type\":\"scattergeo\"}],\"scattergl\":[{\"marker\":{\"colorbar\":{\"outlinewidth\":0,\"ticks\":\"\"}},\"type\":\"scattergl\"}],\"scattermapbox\":[{\"marker\":{\"colorbar\":{\"outlinewidth\":0,\"ticks\":\"\"}},\"type\":\"scattermapbox\"}],\"scatterpolar\":[{\"marker\":{\"colorbar\":{\"outlinewidth\":0,\"ticks\":\"\"}},\"type\":\"scatterpolar\"}],\"scatterpolargl\":[{\"marker\":{\"colorbar\":{\"outlinewidth\":0,\"ticks\":\"\"}},\"type\":\"scatterpolargl\"}],\"scatterternary\":[{\"marker\":{\"colorbar\":{\"outlinewidth\":0,\"ticks\":\"\"}},\"type\":\"scatterternary\"}],\"surface\":[{\"colorbar\":{\"outlinewidth\":0,\"ticks\":\"\"},\"colorscale\":[[0.0,\"#0d0887\"],[0.1111111111111111,\"#46039f\"],[0.2222222222222222,\"#7201a8\"],[0.3333333333333333,\"#9c179e\"],[0.4444444444444444,\"#bd3786\"],[0.5555555555555556,\"#d8576b\"],[0.6666666666666666,\"#ed7953\"],[0.7777777777777778,\"#fb9f3a\"],[0.8888888888888888,\"#fdca26\"],[1.0,\"#f0f921\"]],\"type\":\"surface\"}],\"table\":[{\"cells\":{\"fill\":{\"color\":\"#EBF0F8\"},\"line\":{\"color\":\"white\"}},\"header\":{\"fill\":{\"color\":\"#C8D4E3\"},\"line\":{\"color\":\"white\"}},\"type\":\"table\"}]},\"layout\":{\"annotationdefaults\":{\"arrowcolor\":\"#2a3f5f\",\"arrowhead\":0,\"arrowwidth\":1},\"autotypenumbers\":\"strict\",\"coloraxis\":{\"colorbar\":{\"outlinewidth\":0,\"ticks\":\"\"}},\"colorscale\":{\"diverging\":[[0,\"#8e0152\"],[0.1,\"#c51b7d\"],[0.2,\"#de77ae\"],[0.3,\"#f1b6da\"],[0.4,\"#fde0ef\"],[0.5,\"#f7f7f7\"],[0.6,\"#e6f5d0\"],[0.7,\"#b8e186\"],[0.8,\"#7fbc41\"],[0.9,\"#4d9221\"],[1,\"#276419\"]],\"sequential\":[[0.0,\"#0d0887\"],[0.1111111111111111,\"#46039f\"],[0.2222222222222222,\"#7201a8\"],[0.3333333333333333,\"#9c179e\"],[0.4444444444444444,\"#bd3786\"],[0.5555555555555556,\"#d8576b\"],[0.6666666666666666,\"#ed7953\"],[0.7777777777777778,\"#fb9f3a\"],[0.8888888888888888,\"#fdca26\"],[1.0,\"#f0f921\"]],\"sequentialminus\":[[0.0,\"#0d0887\"],[0.1111111111111111,\"#46039f\"],[0.2222222222222222,\"#7201a8\"],[0.3333333333333333,\"#9c179e\"],[0.4444444444444444,\"#bd3786\"],[0.5555555555555556,\"#d8576b\"],[0.6666666666666666,\"#ed7953\"],[0.7777777777777778,\"#fb9f3a\"],[0.8888888888888888,\"#fdca26\"],[1.0,\"#f0f921\"]]},\"colorway\":[\"#636efa\",\"#EF553B\",\"#00cc96\",\"#ab63fa\",\"#FFA15A\",\"#19d3f3\",\"#FF6692\",\"#B6E880\",\"#FF97FF\",\"#FECB52\"],\"font\":{\"color\":\"#2a3f5f\"},\"geo\":{\"bgcolor\":\"white\",\"lakecolor\":\"white\",\"landcolor\":\"#E5ECF6\",\"showlakes\":true,\"showland\":true,\"subunitcolor\":\"white\"},\"hoverlabel\":{\"align\":\"left\"},\"hovermode\":\"closest\",\"mapbox\":{\"style\":\"light\"},\"paper_bgcolor\":\"white\",\"plot_bgcolor\":\"#E5ECF6\",\"polar\":{\"angularaxis\":{\"gridcolor\":\"white\",\"linecolor\":\"white\",\"ticks\":\"\"},\"bgcolor\":\"#E5ECF6\",\"radialaxis\":{\"gridcolor\":\"white\",\"linecolor\":\"white\",\"ticks\":\"\"}},\"scene\":{\"xaxis\":{\"backgroundcolor\":\"#E5ECF6\",\"gridcolor\":\"white\",\"gridwidth\":2,\"linecolor\":\"white\",\"showbackground\":true,\"ticks\":\"\",\"zerolinecolor\":\"white\"},\"yaxis\":{\"backgroundcolor\":\"#E5ECF6\",\"gridcolor\":\"white\",\"gridwidth\":2,\"linecolor\":\"white\",\"showbackground\":true,\"ticks\":\"\",\"zerolinecolor\":\"white\"},\"zaxis\":{\"backgroundcolor\":\"#E5ECF6\",\"gridcolor\":\"white\",\"gridwidth\":2,\"linecolor\":\"white\",\"showbackground\":true,\"ticks\":\"\",\"zerolinecolor\":\"white\"}},\"shapedefaults\":{\"line\":{\"color\":\"#2a3f5f\"}},\"ternary\":{\"aaxis\":{\"gridcolor\":\"white\",\"linecolor\":\"white\",\"ticks\":\"\"},\"baxis\":{\"gridcolor\":\"white\",\"linecolor\":\"white\",\"ticks\":\"\"},\"bgcolor\":\"#E5ECF6\",\"caxis\":{\"gridcolor\":\"white\",\"linecolor\":\"white\",\"ticks\":\"\"}},\"title\":{\"x\":0.05},\"xaxis\":{\"automargin\":true,\"gridcolor\":\"white\",\"linecolor\":\"white\",\"ticks\":\"\",\"title\":{\"standoff\":15},\"zerolinecolor\":\"white\",\"zerolinewidth\":2},\"yaxis\":{\"automargin\":true,\"gridcolor\":\"white\",\"linecolor\":\"white\",\"ticks\":\"\",\"title\":{\"standoff\":15},\"zerolinecolor\":\"white\",\"zerolinewidth\":2}}},\"legend\":{\"tracegroupgap\":0},\"title\":{\"text\":\"Gender\"},\"piecolorway\":[\"blue\",\"light green\"]},                        {\"responsive\": true}                    ).then(function(){\n",
       "                            \n",
       "var gd = document.getElementById('14c69951-1e27-4fd9-8e66-eb481b7fd176');\n",
       "var x = new MutationObserver(function (mutations, observer) {{\n",
       "        var display = window.getComputedStyle(gd).display;\n",
       "        if (!display || display === 'none') {{\n",
       "            console.log([gd, 'removed!']);\n",
       "            Plotly.purge(gd);\n",
       "            observer.disconnect();\n",
       "        }}\n",
       "}});\n",
       "\n",
       "// Listen for the removal of the full notebook cells\n",
       "var notebookContainer = gd.closest('#notebook-container');\n",
       "if (notebookContainer) {{\n",
       "    x.observe(notebookContainer, {childList: true});\n",
       "}}\n",
       "\n",
       "// Listen for the clearing of the current output cell\n",
       "var outputEl = gd.closest('.output');\n",
       "if (outputEl) {{\n",
       "    x.observe(outputEl, {childList: true});\n",
       "}}\n",
       "\n",
       "                        })                };                });            </script>        </div>"
      ]
     },
     "metadata": {},
     "output_type": "display_data"
    }
   ],
   "source": [
    "gender_profile = profile.gender.value_counts().reset_index()\n",
    "gender_profile.columns = ['gender', 'count']\n",
    "fig = px.pie(gender_profile, values='count', names='gender', title='Gender',\n",
    "             color_discrete_sequence=['blue', 'light green'])\n",
    "fig.show()"
   ]
  },
  {
   "cell_type": "code",
   "execution_count": 13,
   "id": "f0b34612",
   "metadata": {
    "execution": {
     "iopub.execute_input": "2022-04-27T06:04:14.410168Z",
     "iopub.status.busy": "2022-04-27T06:04:14.404875Z",
     "iopub.status.idle": "2022-04-27T06:04:14.554828Z",
     "shell.execute_reply": "2022-04-27T06:04:14.554087Z",
     "shell.execute_reply.started": "2022-04-27T05:06:34.42074Z"
    },
    "papermill": {
     "duration": 0.233903,
     "end_time": "2022-04-27T06:04:14.554989",
     "exception": false,
     "start_time": "2022-04-27T06:04:14.321086",
     "status": "completed"
    },
    "tags": []
   },
   "outputs": [
    {
     "data": {
      "text/plain": [
       "<AxesSubplot:xlabel='income'>"
      ]
     },
     "execution_count": 13,
     "metadata": {},
     "output_type": "execute_result"
    },
    {
     "data": {
      "image/png": "[encoded data removed]",
      "text/plain": [
       "<Figure size 432x288 with 1 Axes>"
      ]
     },
     "metadata": {
      "needs_background": "light"
     },
     "output_type": "display_data"
    }
   ],
   "source": [
    "sns.boxplot(data=profile, x='income')"
   ]
  },
  {
   "cell_type": "code",
   "execution_count": 14,
   "id": "a670fc6d",
   "metadata": {
    "execution": {
     "iopub.execute_input": "2022-04-27T06:04:14.725258Z",
     "iopub.status.busy": "2022-04-27T06:04:14.724263Z",
     "iopub.status.idle": "2022-04-27T06:04:14.769269Z",
     "shell.execute_reply": "2022-04-27T06:04:14.768733Z",
     "shell.execute_reply.started": "2022-04-27T05:06:35.052982Z"
    },
    "papermill": {
     "duration": 0.133358,
     "end_time": "2022-04-27T06:04:14.769427",
     "exception": false,
     "start_time": "2022-04-27T06:04:14.636069",
     "status": "completed"
    },
    "tags": []
   },
   "outputs": [
    {
     "data": {
      "text/plain": [
       "1    2017-07-15\n",
       "3    2017-05-09\n",
       "5    2018-04-26\n",
       "8    2018-02-09\n",
       "12   2017-11-11\n",
       "Name: became_member_on, dtype: datetime64[ns]"
      ]
     },
     "execution_count": 14,
     "metadata": {},
     "output_type": "execute_result"
    }
   ],
   "source": [
    "profile['became_member_on'] = pd.to_datetime(profile['became_member_on'].astype(str), format='%Y%m%d')\n",
    "profile['became_member_on'].head()"
   ]
  },
  {
   "cell_type": "code",
   "execution_count": 15,
   "id": "4f1d8c38",
   "metadata": {
    "execution": {
     "iopub.execute_input": "2022-04-27T06:04:14.940216Z",
     "iopub.status.busy": "2022-04-27T06:04:14.939527Z",
     "iopub.status.idle": "2022-04-27T06:04:14.955695Z",
     "shell.execute_reply": "2022-04-27T06:04:14.956243Z",
     "shell.execute_reply.started": "2022-04-27T05:06:35.554792Z"
    },
    "papermill": {
     "duration": 0.105392,
     "end_time": "2022-04-27T06:04:14.956422",
     "exception": false,
     "start_time": "2022-04-27T06:04:14.851030",
     "status": "completed"
    },
    "tags": []
   },
   "outputs": [],
   "source": [
    "profile['year'] = profile['became_member_on'].dt.year\n",
    "profile['month'] = profile['became_member_on'].dt.month\n",
    "profile['day']=profile['became_member_on'].dt.day_name()\n",
    "profile['membership_days'] = (pd.to_datetime('today') - profile['became_member_on']).astype('timedelta64[D]').astype(int)"
   ]
  },
  {
   "cell_type": "code",
   "execution_count": 16,
   "id": "9f4ea95e",
   "metadata": {
    "execution": {
     "iopub.execute_input": "2022-04-27T06:04:15.129711Z",
     "iopub.status.busy": "2022-04-27T06:04:15.128726Z",
     "iopub.status.idle": "2022-04-27T06:04:15.328264Z",
     "shell.execute_reply": "2022-04-27T06:04:15.327613Z",
     "shell.execute_reply.started": "2022-04-27T05:06:36.134523Z"
    },
    "papermill": {
     "duration": 0.288224,
     "end_time": "2022-04-27T06:04:15.328412",
     "exception": false,
     "start_time": "2022-04-27T06:04:15.040188",
     "status": "completed"
    },
    "tags": []
   },
   "outputs": [
    {
     "data": {
      "text/plain": [
       "Text(0, 0.5, 'income')"
      ]
     },
     "execution_count": 16,
     "metadata": {},
     "output_type": "execute_result"
    },
    {
     "data": {
      "image/png": "[encoded data removed]",
      "text/plain": [
       "<Figure size 432x288 with 1 Axes>"
      ]
     },
     "metadata": {
      "needs_background": "light"
     },
     "output_type": "display_data"
    }
   ],
   "source": [
    "profile.groupby('gender').sum()['income'].plot(kind='bar')\n",
    "plt.title('Total income per gender')\n",
    "plt.ylabel('income')"
   ]
  },
  {
   "cell_type": "code",
   "execution_count": 17,
   "id": "e51750b0",
   "metadata": {
    "execution": {
     "iopub.execute_input": "2022-04-27T06:04:15.501811Z",
     "iopub.status.busy": "2022-04-27T06:04:15.501089Z",
     "iopub.status.idle": "2022-04-27T06:04:15.511527Z",
     "shell.execute_reply": "2022-04-27T06:04:15.512225Z",
     "shell.execute_reply.started": "2022-04-27T05:06:36.691258Z"
    },
    "papermill": {
     "duration": 0.101095,
     "end_time": "2022-04-27T06:04:15.512402",
     "exception": false,
     "start_time": "2022-04-27T06:04:15.411307",
     "status": "completed"
    },
    "tags": []
   },
   "outputs": [
    {
     "data": {
      "text/plain": [
       "1        Middle-age(40-59)\n",
       "3              Old(60-100)\n",
       "5              Old(60-100)\n",
       "8              Old(60-100)\n",
       "12       Middle-age(40-59)\n",
       "               ...        \n",
       "16995    Middle-age(40-59)\n",
       "16996          Old(60-100)\n",
       "16997    Middle-age(40-59)\n",
       "16998          Old(60-100)\n",
       "16999          Old(60-100)\n",
       "Name: age_group, Length: 14820, dtype: category\n",
       "Categories (4, object): ['Teenage(0-19)' < 'Young(20-39)' < 'Middle-age(40-59)' < 'Old(60-100)']"
      ]
     },
     "execution_count": 17,
     "metadata": {},
     "output_type": "execute_result"
    }
   ],
   "source": [
    "profile['age_group'] = pd.cut(x=profile['age'], bins=[18, 20, 40, 60, 101],\n",
    "                    labels=['Teenage(0-19)', 'Young(20-39)','Middle-age(40-59)',\n",
    "                            'Old(60-100)'], include_lowest=True)\n",
    "profile['age_group']"
   ]
  },
  {
   "cell_type": "code",
   "execution_count": 18,
   "id": "bdf10f88",
   "metadata": {
    "execution": {
     "iopub.execute_input": "2022-04-27T06:04:15.685732Z",
     "iopub.status.busy": "2022-04-27T06:04:15.683285Z",
     "iopub.status.idle": "2022-04-27T06:04:15.709270Z",
     "shell.execute_reply": "2022-04-27T06:04:15.709920Z",
     "shell.execute_reply.started": "2022-04-27T05:06:37.289929Z"
    },
    "papermill": {
     "duration": 0.113676,
     "end_time": "2022-04-27T06:04:15.710094",
     "exception": false,
     "start_time": "2022-04-27T06:04:15.596418",
     "status": "completed"
    },
    "tags": []
   },
   "outputs": [
    {
     "data": {
      "text/html": [
       "<div>\n",
       "<style scoped>\n",
       "    .dataframe tbody tr th:only-of-type {\n",
       "        vertical-align: middle;\n",
       "    }\n",
       "\n",
       "    .dataframe tbody tr th {\n",
       "        vertical-align: top;\n",
       "    }\n",
       "\n",
       "    .dataframe thead th {\n",
       "        text-align: right;\n",
       "    }\n",
       "</style>\n",
       "<table border=\"1\" class=\"dataframe\">\n",
       "  <thead>\n",
       "    <tr style=\"text-align: right;\">\n",
       "      <th></th>\n",
       "      <th>gender</th>\n",
       "      <th>age</th>\n",
       "      <th>id</th>\n",
       "      <th>became_member_on</th>\n",
       "      <th>income</th>\n",
       "      <th>year</th>\n",
       "      <th>month</th>\n",
       "      <th>day</th>\n",
       "      <th>membership_days</th>\n",
       "      <th>age_group</th>\n",
       "    </tr>\n",
       "  </thead>\n",
       "  <tbody>\n",
       "    <tr>\n",
       "      <th>1</th>\n",
       "      <td>F</td>\n",
       "      <td>55</td>\n",
       "      <td>0610b486422d4921ae7d2bf64640c50b</td>\n",
       "      <td>2017-07-15</td>\n",
       "      <td>112000.0</td>\n",
       "      <td>2017</td>\n",
       "      <td>7</td>\n",
       "      <td>Saturday</td>\n",
       "      <td>1747</td>\n",
       "      <td>0</td>\n",
       "    </tr>\n",
       "    <tr>\n",
       "      <th>3</th>\n",
       "      <td>F</td>\n",
       "      <td>75</td>\n",
       "      <td>78afa995795e4d85b5d9ceeca43f5fef</td>\n",
       "      <td>2017-05-09</td>\n",
       "      <td>100000.0</td>\n",
       "      <td>2017</td>\n",
       "      <td>5</td>\n",
       "      <td>Tuesday</td>\n",
       "      <td>1814</td>\n",
       "      <td>1</td>\n",
       "    </tr>\n",
       "    <tr>\n",
       "      <th>5</th>\n",
       "      <td>M</td>\n",
       "      <td>68</td>\n",
       "      <td>e2127556f4f64592b11af22de27a7932</td>\n",
       "      <td>2018-04-26</td>\n",
       "      <td>70000.0</td>\n",
       "      <td>2018</td>\n",
       "      <td>4</td>\n",
       "      <td>Thursday</td>\n",
       "      <td>1462</td>\n",
       "      <td>1</td>\n",
       "    </tr>\n",
       "    <tr>\n",
       "      <th>8</th>\n",
       "      <td>M</td>\n",
       "      <td>65</td>\n",
       "      <td>389bc3fa690240e798340f5a15918d5c</td>\n",
       "      <td>2018-02-09</td>\n",
       "      <td>53000.0</td>\n",
       "      <td>2018</td>\n",
       "      <td>2</td>\n",
       "      <td>Friday</td>\n",
       "      <td>1538</td>\n",
       "      <td>1</td>\n",
       "    </tr>\n",
       "    <tr>\n",
       "      <th>12</th>\n",
       "      <td>M</td>\n",
       "      <td>58</td>\n",
       "      <td>2eeac8d8feae4a8cad5a6af0499a211d</td>\n",
       "      <td>2017-11-11</td>\n",
       "      <td>51000.0</td>\n",
       "      <td>2017</td>\n",
       "      <td>11</td>\n",
       "      <td>Saturday</td>\n",
       "      <td>1628</td>\n",
       "      <td>0</td>\n",
       "    </tr>\n",
       "  </tbody>\n",
       "</table>\n",
       "</div>"
      ],
      "text/plain": [
       "   gender  age                                id became_member_on    income  \\\n",
       "1       F   55  0610b486422d4921ae7d2bf64640c50b       2017-07-15  112000.0   \n",
       "3       F   75  78afa995795e4d85b5d9ceeca43f5fef       2017-05-09  100000.0   \n",
       "5       M   68  e2127556f4f64592b11af22de27a7932       2018-04-26   70000.0   \n",
       "8       M   65  389bc3fa690240e798340f5a15918d5c       2018-02-09   53000.0   \n",
       "12      M   58  2eeac8d8feae4a8cad5a6af0499a211d       2017-11-11   51000.0   \n",
       "\n",
       "    year  month       day  membership_days  age_group  \n",
       "1   2017      7  Saturday             1747          0  \n",
       "3   2017      5   Tuesday             1814          1  \n",
       "5   2018      4  Thursday             1462          1  \n",
       "8   2018      2    Friday             1538          1  \n",
       "12  2017     11  Saturday             1628          0  "
      ]
     },
     "execution_count": 18,
     "metadata": {},
     "output_type": "execute_result"
    }
   ],
   "source": [
    "from sklearn.preprocessing import LabelEncoder\n",
    "\n",
    "profile = profile.copy(deep = True)\n",
    "le_age = LabelEncoder()\n",
    "profile['age_group'] = le_age.fit_transform(profile['age_group'])\n",
    "profile.head(5)"
   ]
  },
  {
   "cell_type": "code",
   "execution_count": 19,
   "id": "4580bab7",
   "metadata": {
    "execution": {
     "iopub.execute_input": "2022-04-27T06:04:15.887616Z",
     "iopub.status.busy": "2022-04-27T06:04:15.886546Z",
     "iopub.status.idle": "2022-04-27T06:04:15.896669Z",
     "shell.execute_reply": "2022-04-27T06:04:15.897295Z",
     "shell.execute_reply.started": "2022-04-27T05:06:37.962559Z"
    },
    "papermill": {
     "duration": 0.101366,
     "end_time": "2022-04-27T06:04:15.897465",
     "exception": false,
     "start_time": "2022-04-27T06:04:15.796099",
     "status": "completed"
    },
    "tags": []
   },
   "outputs": [
    {
     "data": {
      "text/plain": [
       "1        more than 1L\n",
       "3              75k-1L\n",
       "5             50k-75k\n",
       "8             50k-75k\n",
       "12            50k-75k\n",
       "             ...     \n",
       "16995         50k-75k\n",
       "16996         50k-75k\n",
       "16997         50k-75k\n",
       "16998         30k-50k\n",
       "16999          75k-1L\n",
       "Name: income_group, Length: 14820, dtype: category\n",
       "Categories (4, object): ['30k-50k' < '50k-75k' < '75k-1L' < 'more than 1L']"
      ]
     },
     "execution_count": 19,
     "metadata": {},
     "output_type": "execute_result"
    }
   ],
   "source": [
    "profile['income_group'] = pd.cut(x=profile['income'], bins=[30000, 50000, 75000, 100000, 120000],\n",
    "                    labels=['30k-50k', '50k-75k','75k-1L',\n",
    "                            'more than 1L'], include_lowest=True)\n",
    "profile['income_group']"
   ]
  },
  {
   "cell_type": "code",
   "execution_count": 20,
   "id": "2c2bc455",
   "metadata": {
    "execution": {
     "iopub.execute_input": "2022-04-27T06:04:16.075470Z",
     "iopub.status.busy": "2022-04-27T06:04:16.074795Z",
     "iopub.status.idle": "2022-04-27T06:04:16.098396Z",
     "shell.execute_reply": "2022-04-27T06:04:16.097684Z",
     "shell.execute_reply.started": "2022-04-27T05:06:38.557171Z"
    },
    "papermill": {
     "duration": 0.116563,
     "end_time": "2022-04-27T06:04:16.098554",
     "exception": false,
     "start_time": "2022-04-27T06:04:15.981991",
     "status": "completed"
    },
    "tags": []
   },
   "outputs": [
    {
     "data": {
      "text/html": [
       "<div>\n",
       "<style scoped>\n",
       "    .dataframe tbody tr th:only-of-type {\n",
       "        vertical-align: middle;\n",
       "    }\n",
       "\n",
       "    .dataframe tbody tr th {\n",
       "        vertical-align: top;\n",
       "    }\n",
       "\n",
       "    .dataframe thead th {\n",
       "        text-align: right;\n",
       "    }\n",
       "</style>\n",
       "<table border=\"1\" class=\"dataframe\">\n",
       "  <thead>\n",
       "    <tr style=\"text-align: right;\">\n",
       "      <th></th>\n",
       "      <th>gender</th>\n",
       "      <th>age</th>\n",
       "      <th>id</th>\n",
       "      <th>became_member_on</th>\n",
       "      <th>income</th>\n",
       "      <th>year</th>\n",
       "      <th>month</th>\n",
       "      <th>day</th>\n",
       "      <th>membership_days</th>\n",
       "      <th>age_group</th>\n",
       "      <th>income_group</th>\n",
       "    </tr>\n",
       "  </thead>\n",
       "  <tbody>\n",
       "    <tr>\n",
       "      <th>1</th>\n",
       "      <td>F</td>\n",
       "      <td>55</td>\n",
       "      <td>0610b486422d4921ae7d2bf64640c50b</td>\n",
       "      <td>2017-07-15</td>\n",
       "      <td>112000.0</td>\n",
       "      <td>2017</td>\n",
       "      <td>7</td>\n",
       "      <td>Saturday</td>\n",
       "      <td>1747</td>\n",
       "      <td>0</td>\n",
       "      <td>3</td>\n",
       "    </tr>\n",
       "    <tr>\n",
       "      <th>3</th>\n",
       "      <td>F</td>\n",
       "      <td>75</td>\n",
       "      <td>78afa995795e4d85b5d9ceeca43f5fef</td>\n",
       "      <td>2017-05-09</td>\n",
       "      <td>100000.0</td>\n",
       "      <td>2017</td>\n",
       "      <td>5</td>\n",
       "      <td>Tuesday</td>\n",
       "      <td>1814</td>\n",
       "      <td>1</td>\n",
       "      <td>2</td>\n",
       "    </tr>\n",
       "    <tr>\n",
       "      <th>5</th>\n",
       "      <td>M</td>\n",
       "      <td>68</td>\n",
       "      <td>e2127556f4f64592b11af22de27a7932</td>\n",
       "      <td>2018-04-26</td>\n",
       "      <td>70000.0</td>\n",
       "      <td>2018</td>\n",
       "      <td>4</td>\n",
       "      <td>Thursday</td>\n",
       "      <td>1462</td>\n",
       "      <td>1</td>\n",
       "      <td>1</td>\n",
       "    </tr>\n",
       "    <tr>\n",
       "      <th>8</th>\n",
       "      <td>M</td>\n",
       "      <td>65</td>\n",
       "      <td>389bc3fa690240e798340f5a15918d5c</td>\n",
       "      <td>2018-02-09</td>\n",
       "      <td>53000.0</td>\n",
       "      <td>2018</td>\n",
       "      <td>2</td>\n",
       "      <td>Friday</td>\n",
       "      <td>1538</td>\n",
       "      <td>1</td>\n",
       "      <td>1</td>\n",
       "    </tr>\n",
       "    <tr>\n",
       "      <th>12</th>\n",
       "      <td>M</td>\n",
       "      <td>58</td>\n",
       "      <td>2eeac8d8feae4a8cad5a6af0499a211d</td>\n",
       "      <td>2017-11-11</td>\n",
       "      <td>51000.0</td>\n",
       "      <td>2017</td>\n",
       "      <td>11</td>\n",
       "      <td>Saturday</td>\n",
       "      <td>1628</td>\n",
       "      <td>0</td>\n",
       "      <td>1</td>\n",
       "    </tr>\n",
       "  </tbody>\n",
       "</table>\n",
       "</div>"
      ],
      "text/plain": [
       "   gender  age                                id became_member_on    income  \\\n",
       "1       F   55  0610b486422d4921ae7d2bf64640c50b       2017-07-15  112000.0   \n",
       "3       F   75  78afa995795e4d85b5d9ceeca43f5fef       2017-05-09  100000.0   \n",
       "5       M   68  e2127556f4f64592b11af22de27a7932       2018-04-26   70000.0   \n",
       "8       M   65  389bc3fa690240e798340f5a15918d5c       2018-02-09   53000.0   \n",
       "12      M   58  2eeac8d8feae4a8cad5a6af0499a211d       2017-11-11   51000.0   \n",
       "\n",
       "    year  month       day  membership_days  age_group  income_group  \n",
       "1   2017      7  Saturday             1747          0             3  \n",
       "3   2017      5   Tuesday             1814          1             2  \n",
       "5   2018      4  Thursday             1462          1             1  \n",
       "8   2018      2    Friday             1538          1             1  \n",
       "12  2017     11  Saturday             1628          0             1  "
      ]
     },
     "execution_count": 20,
     "metadata": {},
     "output_type": "execute_result"
    }
   ],
   "source": [
    "from sklearn.preprocessing import LabelEncoder\n",
    "\n",
    "profile = profile.copy(deep = True)\n",
    "le_in = LabelEncoder()\n",
    "profile['income_group'] = le_in.fit_transform(profile['income_group'])\n",
    "profile.head(5)"
   ]
  },
  {
   "cell_type": "code",
   "execution_count": 21,
   "id": "228d1eff",
   "metadata": {
    "execution": {
     "iopub.execute_input": "2022-04-27T06:04:16.276042Z",
     "iopub.status.busy": "2022-04-27T06:04:16.275271Z",
     "iopub.status.idle": "2022-04-27T06:04:16.279277Z",
     "shell.execute_reply": "2022-04-27T06:04:16.279943Z",
     "shell.execute_reply.started": "2022-04-27T05:06:39.175312Z"
    },
    "papermill": {
     "duration": 0.096579,
     "end_time": "2022-04-27T06:04:16.280119",
     "exception": false,
     "start_time": "2022-04-27T06:04:16.183540",
     "status": "completed"
    },
    "tags": []
   },
   "outputs": [],
   "source": [
    "profile = profile.drop(['age','income'], axis=1)"
   ]
  },
  {
   "cell_type": "code",
   "execution_count": 22,
   "id": "575825c7",
   "metadata": {
    "execution": {
     "iopub.execute_input": "2022-04-27T06:04:16.457373Z",
     "iopub.status.busy": "2022-04-27T06:04:16.456669Z",
     "iopub.status.idle": "2022-04-27T06:04:16.474715Z",
     "shell.execute_reply": "2022-04-27T06:04:16.474024Z",
     "shell.execute_reply.started": "2022-04-27T05:06:39.79764Z"
    },
    "papermill": {
     "duration": 0.108609,
     "end_time": "2022-04-27T06:04:16.474860",
     "exception": false,
     "start_time": "2022-04-27T06:04:16.366251",
     "status": "completed"
    },
    "tags": []
   },
   "outputs": [
    {
     "data": {
      "text/plain": [
       "0           0-100 days\n",
       "1           0-100 days\n",
       "2           0-100 days\n",
       "3           0-100 days\n",
       "4           0-100 days\n",
       "              ...     \n",
       "306529    700-800 days\n",
       "306530    700-800 days\n",
       "306531    700-800 days\n",
       "306532    700-800 days\n",
       "306533    700-800 days\n",
       "Name: time_group, Length: 306534, dtype: category\n",
       "Categories (8, object): ['0-100 days' < '100-200 days' < '200-300 days' < '300-400 days' < '400-500 days' < '500-600 days' < '600-700 days' < '700-800 days']"
      ]
     },
     "execution_count": 22,
     "metadata": {},
     "output_type": "execute_result"
    }
   ],
   "source": [
    "transcript['time_group'] = pd.cut(x=transcript['time'], bins=[0, 100, 200, 300, 400, 500,600,700,800], include_lowest=True,\n",
    "                    labels=['0-100 days', '100-200 days', '200-300 days', '300-400 days', '400-500 days', '500-600 days', '600-700 days', '700-800 days'])\n",
    "transcript['time_group'] "
   ]
  },
  {
   "cell_type": "code",
   "execution_count": 23,
   "id": "9bc985f9",
   "metadata": {
    "execution": {
     "iopub.execute_input": "2022-04-27T06:04:16.675669Z",
     "iopub.status.busy": "2022-04-27T06:04:16.675012Z",
     "iopub.status.idle": "2022-04-27T06:04:16.790913Z",
     "shell.execute_reply": "2022-04-27T06:04:16.791412Z",
     "shell.execute_reply.started": "2022-04-27T05:06:40.499378Z"
    },
    "papermill": {
     "duration": 0.213272,
     "end_time": "2022-04-27T06:04:16.791601",
     "exception": false,
     "start_time": "2022-04-27T06:04:16.578329",
     "status": "completed"
    },
    "tags": []
   },
   "outputs": [
    {
     "data": {
      "text/html": [
       "<div>\n",
       "<style scoped>\n",
       "    .dataframe tbody tr th:only-of-type {\n",
       "        vertical-align: middle;\n",
       "    }\n",
       "\n",
       "    .dataframe tbody tr th {\n",
       "        vertical-align: top;\n",
       "    }\n",
       "\n",
       "    .dataframe thead th {\n",
       "        text-align: right;\n",
       "    }\n",
       "</style>\n",
       "<table border=\"1\" class=\"dataframe\">\n",
       "  <thead>\n",
       "    <tr style=\"text-align: right;\">\n",
       "      <th></th>\n",
       "      <th>person</th>\n",
       "      <th>event</th>\n",
       "      <th>value</th>\n",
       "      <th>time</th>\n",
       "      <th>time_group</th>\n",
       "    </tr>\n",
       "  </thead>\n",
       "  <tbody>\n",
       "    <tr>\n",
       "      <th>0</th>\n",
       "      <td>78afa995795e4d85b5d9ceeca43f5fef</td>\n",
       "      <td>offer received</td>\n",
       "      <td>{'offer id': '9b98b8c7a33c4b65b9aebfe6a799e6d9'}</td>\n",
       "      <td>0</td>\n",
       "      <td>0</td>\n",
       "    </tr>\n",
       "    <tr>\n",
       "      <th>1</th>\n",
       "      <td>a03223e636434f42ac4c3df47e8bac43</td>\n",
       "      <td>offer received</td>\n",
       "      <td>{'offer id': '0b1e1539f2cc45b7b9fa7c272da2e1d7'}</td>\n",
       "      <td>0</td>\n",
       "      <td>0</td>\n",
       "    </tr>\n",
       "    <tr>\n",
       "      <th>2</th>\n",
       "      <td>e2127556f4f64592b11af22de27a7932</td>\n",
       "      <td>offer received</td>\n",
       "      <td>{'offer id': '2906b810c7d4411798c6938adc9daaa5'}</td>\n",
       "      <td>0</td>\n",
       "      <td>0</td>\n",
       "    </tr>\n",
       "    <tr>\n",
       "      <th>3</th>\n",
       "      <td>8ec6ce2a7e7949b1bf142def7d0e0586</td>\n",
       "      <td>offer received</td>\n",
       "      <td>{'offer id': 'fafdcd668e3743c1bb461111dcafc2a4'}</td>\n",
       "      <td>0</td>\n",
       "      <td>0</td>\n",
       "    </tr>\n",
       "    <tr>\n",
       "      <th>4</th>\n",
       "      <td>68617ca6246f4fbc85e91a2a49552598</td>\n",
       "      <td>offer received</td>\n",
       "      <td>{'offer id': '4d5c57ea9a6940dd891ad53e9dbe8da0'}</td>\n",
       "      <td>0</td>\n",
       "      <td>0</td>\n",
       "    </tr>\n",
       "    <tr>\n",
       "      <th>...</th>\n",
       "      <td>...</td>\n",
       "      <td>...</td>\n",
       "      <td>...</td>\n",
       "      <td>...</td>\n",
       "      <td>...</td>\n",
       "    </tr>\n",
       "    <tr>\n",
       "      <th>306529</th>\n",
       "      <td>b3a1272bc9904337b331bf348c3e8c17</td>\n",
       "      <td>transaction</td>\n",
       "      <td>{'amount': 1.5899999999999999}</td>\n",
       "      <td>714</td>\n",
       "      <td>7</td>\n",
       "    </tr>\n",
       "    <tr>\n",
       "      <th>306530</th>\n",
       "      <td>68213b08d99a4ae1b0dcb72aebd9aa35</td>\n",
       "      <td>transaction</td>\n",
       "      <td>{'amount': 9.53}</td>\n",
       "      <td>714</td>\n",
       "      <td>7</td>\n",
       "    </tr>\n",
       "    <tr>\n",
       "      <th>306531</th>\n",
       "      <td>a00058cf10334a308c68e7631c529907</td>\n",
       "      <td>transaction</td>\n",
       "      <td>{'amount': 3.61}</td>\n",
       "      <td>714</td>\n",
       "      <td>7</td>\n",
       "    </tr>\n",
       "    <tr>\n",
       "      <th>306532</th>\n",
       "      <td>76ddbd6576844afe811f1a3c0fbb5bec</td>\n",
       "      <td>transaction</td>\n",
       "      <td>{'amount': 3.5300000000000002}</td>\n",
       "      <td>714</td>\n",
       "      <td>7</td>\n",
       "    </tr>\n",
       "    <tr>\n",
       "      <th>306533</th>\n",
       "      <td>c02b10e8752c4d8e9b73f918558531f7</td>\n",
       "      <td>transaction</td>\n",
       "      <td>{'amount': 4.05}</td>\n",
       "      <td>714</td>\n",
       "      <td>7</td>\n",
       "    </tr>\n",
       "  </tbody>\n",
       "</table>\n",
       "<p>306534 rows × 5 columns</p>\n",
       "</div>"
      ],
      "text/plain": [
       "                                  person           event  \\\n",
       "0       78afa995795e4d85b5d9ceeca43f5fef  offer received   \n",
       "1       a03223e636434f42ac4c3df47e8bac43  offer received   \n",
       "2       e2127556f4f64592b11af22de27a7932  offer received   \n",
       "3       8ec6ce2a7e7949b1bf142def7d0e0586  offer received   \n",
       "4       68617ca6246f4fbc85e91a2a49552598  offer received   \n",
       "...                                  ...             ...   \n",
       "306529  b3a1272bc9904337b331bf348c3e8c17     transaction   \n",
       "306530  68213b08d99a4ae1b0dcb72aebd9aa35     transaction   \n",
       "306531  a00058cf10334a308c68e7631c529907     transaction   \n",
       "306532  76ddbd6576844afe811f1a3c0fbb5bec     transaction   \n",
       "306533  c02b10e8752c4d8e9b73f918558531f7     transaction   \n",
       "\n",
       "                                                   value  time  time_group  \n",
       "0       {'offer id': '9b98b8c7a33c4b65b9aebfe6a799e6d9'}     0           0  \n",
       "1       {'offer id': '0b1e1539f2cc45b7b9fa7c272da2e1d7'}     0           0  \n",
       "2       {'offer id': '2906b810c7d4411798c6938adc9daaa5'}     0           0  \n",
       "3       {'offer id': 'fafdcd668e3743c1bb461111dcafc2a4'}     0           0  \n",
       "4       {'offer id': '4d5c57ea9a6940dd891ad53e9dbe8da0'}     0           0  \n",
       "...                                                  ...   ...         ...  \n",
       "306529                    {'amount': 1.5899999999999999}   714           7  \n",
       "306530                                  {'amount': 9.53}   714           7  \n",
       "306531                                  {'amount': 3.61}   714           7  \n",
       "306532                    {'amount': 3.5300000000000002}   714           7  \n",
       "306533                                  {'amount': 4.05}   714           7  \n",
       "\n",
       "[306534 rows x 5 columns]"
      ]
     },
     "execution_count": 23,
     "metadata": {},
     "output_type": "execute_result"
    }
   ],
   "source": [
    "from sklearn.preprocessing import LabelEncoder\n",
    "\n",
    "transcript = transcript.copy(deep = True)\n",
    "le_id = LabelEncoder()\n",
    "transcript['time_group'] = le_id.fit_transform(transcript['time_group'])\n",
    "transcript.head(5)\n",
    "transcript"
   ]
  },
  {
   "cell_type": "code",
   "execution_count": 24,
   "id": "1d7b0659",
   "metadata": {
    "execution": {
     "iopub.execute_input": "2022-04-27T06:04:16.965748Z",
     "iopub.status.busy": "2022-04-27T06:04:16.965096Z",
     "iopub.status.idle": "2022-04-27T06:04:16.982581Z",
     "shell.execute_reply": "2022-04-27T06:04:16.983108Z",
     "shell.execute_reply.started": "2022-04-27T05:06:41.049988Z"
    },
    "papermill": {
     "duration": 0.105947,
     "end_time": "2022-04-27T06:04:16.983299",
     "exception": false,
     "start_time": "2022-04-27T06:04:16.877352",
     "status": "completed"
    },
    "tags": []
   },
   "outputs": [],
   "source": [
    "transcript = transcript.drop(['time'], axis=1)"
   ]
  },
  {
   "cell_type": "code",
   "execution_count": 25,
   "id": "513991dc",
   "metadata": {
    "execution": {
     "iopub.execute_input": "2022-04-27T06:04:17.161849Z",
     "iopub.status.busy": "2022-04-27T06:04:17.161135Z",
     "iopub.status.idle": "2022-04-27T06:04:17.165337Z",
     "shell.execute_reply": "2022-04-27T06:04:17.165892Z",
     "shell.execute_reply.started": "2022-04-27T05:06:41.668936Z"
    },
    "papermill": {
     "duration": 0.096332,
     "end_time": "2022-04-27T06:04:17.166067",
     "exception": false,
     "start_time": "2022-04-27T06:04:17.069735",
     "status": "completed"
    },
    "tags": []
   },
   "outputs": [],
   "source": [
    "transcript.rename(columns={'person':'id'}, inplace=True)"
   ]
  },
  {
   "cell_type": "code",
   "execution_count": 26,
   "id": "0e22306c",
   "metadata": {
    "execution": {
     "iopub.execute_input": "2022-04-27T06:04:17.345552Z",
     "iopub.status.busy": "2022-04-27T06:04:17.344886Z",
     "iopub.status.idle": "2022-04-27T06:04:17.609625Z",
     "shell.execute_reply": "2022-04-27T06:04:17.609029Z",
     "shell.execute_reply.started": "2022-04-27T05:06:42.239948Z"
    },
    "papermill": {
     "duration": 0.358214,
     "end_time": "2022-04-27T06:04:17.609779",
     "exception": false,
     "start_time": "2022-04-27T06:04:17.251565",
     "status": "completed"
    },
    "tags": []
   },
   "outputs": [
    {
     "data": {
      "text/html": [
       "<div>\n",
       "<style scoped>\n",
       "    .dataframe tbody tr th:only-of-type {\n",
       "        vertical-align: middle;\n",
       "    }\n",
       "\n",
       "    .dataframe tbody tr th {\n",
       "        vertical-align: top;\n",
       "    }\n",
       "\n",
       "    .dataframe thead th {\n",
       "        text-align: right;\n",
       "    }\n",
       "</style>\n",
       "<table border=\"1\" class=\"dataframe\">\n",
       "  <thead>\n",
       "    <tr style=\"text-align: right;\">\n",
       "      <th></th>\n",
       "      <th>gender</th>\n",
       "      <th>id</th>\n",
       "      <th>year</th>\n",
       "      <th>month</th>\n",
       "      <th>day</th>\n",
       "      <th>membership_days</th>\n",
       "      <th>age_group</th>\n",
       "      <th>income_group</th>\n",
       "      <th>event</th>\n",
       "      <th>value</th>\n",
       "      <th>time_group</th>\n",
       "    </tr>\n",
       "  </thead>\n",
       "  <tbody>\n",
       "    <tr>\n",
       "      <th>0</th>\n",
       "      <td>F</td>\n",
       "      <td>0610b486422d4921ae7d2bf64640c50b</td>\n",
       "      <td>2017</td>\n",
       "      <td>7</td>\n",
       "      <td>Saturday</td>\n",
       "      <td>1747</td>\n",
       "      <td>0</td>\n",
       "      <td>3</td>\n",
       "      <td>transaction</td>\n",
       "      <td>{'amount': 21.51}</td>\n",
       "      <td>0</td>\n",
       "    </tr>\n",
       "    <tr>\n",
       "      <th>1</th>\n",
       "      <td>F</td>\n",
       "      <td>0610b486422d4921ae7d2bf64640c50b</td>\n",
       "      <td>2017</td>\n",
       "      <td>7</td>\n",
       "      <td>Saturday</td>\n",
       "      <td>1747</td>\n",
       "      <td>0</td>\n",
       "      <td>3</td>\n",
       "      <td>transaction</td>\n",
       "      <td>{'amount': 32.28}</td>\n",
       "      <td>1</td>\n",
       "    </tr>\n",
       "    <tr>\n",
       "      <th>2</th>\n",
       "      <td>F</td>\n",
       "      <td>0610b486422d4921ae7d2bf64640c50b</td>\n",
       "      <td>2017</td>\n",
       "      <td>7</td>\n",
       "      <td>Saturday</td>\n",
       "      <td>1747</td>\n",
       "      <td>0</td>\n",
       "      <td>3</td>\n",
       "      <td>offer received</td>\n",
       "      <td>{'offer id': '9b98b8c7a33c4b65b9aebfe6a799e6d9'}</td>\n",
       "      <td>4</td>\n",
       "    </tr>\n",
       "    <tr>\n",
       "      <th>3</th>\n",
       "      <td>F</td>\n",
       "      <td>0610b486422d4921ae7d2bf64640c50b</td>\n",
       "      <td>2017</td>\n",
       "      <td>7</td>\n",
       "      <td>Saturday</td>\n",
       "      <td>1747</td>\n",
       "      <td>0</td>\n",
       "      <td>3</td>\n",
       "      <td>offer received</td>\n",
       "      <td>{'offer id': '3f207df678b143eea3cee63160fa8bed'}</td>\n",
       "      <td>5</td>\n",
       "    </tr>\n",
       "    <tr>\n",
       "      <th>4</th>\n",
       "      <td>F</td>\n",
       "      <td>0610b486422d4921ae7d2bf64640c50b</td>\n",
       "      <td>2017</td>\n",
       "      <td>7</td>\n",
       "      <td>Saturday</td>\n",
       "      <td>1747</td>\n",
       "      <td>0</td>\n",
       "      <td>3</td>\n",
       "      <td>transaction</td>\n",
       "      <td>{'amount': 23.22}</td>\n",
       "      <td>5</td>\n",
       "    </tr>\n",
       "    <tr>\n",
       "      <th>...</th>\n",
       "      <td>...</td>\n",
       "      <td>...</td>\n",
       "      <td>...</td>\n",
       "      <td>...</td>\n",
       "      <td>...</td>\n",
       "      <td>...</td>\n",
       "      <td>...</td>\n",
       "      <td>...</td>\n",
       "      <td>...</td>\n",
       "      <td>...</td>\n",
       "      <td>...</td>\n",
       "    </tr>\n",
       "    <tr>\n",
       "      <th>272659</th>\n",
       "      <td>F</td>\n",
       "      <td>e4052622e5ba45a8b96b59aba68cf068</td>\n",
       "      <td>2017</td>\n",
       "      <td>7</td>\n",
       "      <td>Saturday</td>\n",
       "      <td>1740</td>\n",
       "      <td>1</td>\n",
       "      <td>2</td>\n",
       "      <td>offer completed</td>\n",
       "      <td>{'offer_id': 'f19421c1d4aa40978ebb69ca19b0e20d...</td>\n",
       "      <td>4</td>\n",
       "    </tr>\n",
       "    <tr>\n",
       "      <th>272660</th>\n",
       "      <td>F</td>\n",
       "      <td>e4052622e5ba45a8b96b59aba68cf068</td>\n",
       "      <td>2017</td>\n",
       "      <td>7</td>\n",
       "      <td>Saturday</td>\n",
       "      <td>1740</td>\n",
       "      <td>1</td>\n",
       "      <td>2</td>\n",
       "      <td>transaction</td>\n",
       "      <td>{'amount': 19.47}</td>\n",
       "      <td>4</td>\n",
       "    </tr>\n",
       "    <tr>\n",
       "      <th>272661</th>\n",
       "      <td>F</td>\n",
       "      <td>e4052622e5ba45a8b96b59aba68cf068</td>\n",
       "      <td>2017</td>\n",
       "      <td>7</td>\n",
       "      <td>Saturday</td>\n",
       "      <td>1740</td>\n",
       "      <td>1</td>\n",
       "      <td>2</td>\n",
       "      <td>offer viewed</td>\n",
       "      <td>{'offer id': 'f19421c1d4aa40978ebb69ca19b0e20d'}</td>\n",
       "      <td>5</td>\n",
       "    </tr>\n",
       "    <tr>\n",
       "      <th>272662</th>\n",
       "      <td>F</td>\n",
       "      <td>e4052622e5ba45a8b96b59aba68cf068</td>\n",
       "      <td>2017</td>\n",
       "      <td>7</td>\n",
       "      <td>Saturday</td>\n",
       "      <td>1740</td>\n",
       "      <td>1</td>\n",
       "      <td>2</td>\n",
       "      <td>offer received</td>\n",
       "      <td>{'offer id': '3f207df678b143eea3cee63160fa8bed'}</td>\n",
       "      <td>5</td>\n",
       "    </tr>\n",
       "    <tr>\n",
       "      <th>272663</th>\n",
       "      <td>F</td>\n",
       "      <td>e4052622e5ba45a8b96b59aba68cf068</td>\n",
       "      <td>2017</td>\n",
       "      <td>7</td>\n",
       "      <td>Saturday</td>\n",
       "      <td>1740</td>\n",
       "      <td>1</td>\n",
       "      <td>2</td>\n",
       "      <td>transaction</td>\n",
       "      <td>{'amount': 24.71}</td>\n",
       "      <td>6</td>\n",
       "    </tr>\n",
       "  </tbody>\n",
       "</table>\n",
       "<p>272664 rows × 11 columns</p>\n",
       "</div>"
      ],
      "text/plain": [
       "       gender                                id  year  month       day  \\\n",
       "0           F  0610b486422d4921ae7d2bf64640c50b  2017      7  Saturday   \n",
       "1           F  0610b486422d4921ae7d2bf64640c50b  2017      7  Saturday   \n",
       "2           F  0610b486422d4921ae7d2bf64640c50b  2017      7  Saturday   \n",
       "3           F  0610b486422d4921ae7d2bf64640c50b  2017      7  Saturday   \n",
       "4           F  0610b486422d4921ae7d2bf64640c50b  2017      7  Saturday   \n",
       "...       ...                               ...   ...    ...       ...   \n",
       "272659      F  e4052622e5ba45a8b96b59aba68cf068  2017      7  Saturday   \n",
       "272660      F  e4052622e5ba45a8b96b59aba68cf068  2017      7  Saturday   \n",
       "272661      F  e4052622e5ba45a8b96b59aba68cf068  2017      7  Saturday   \n",
       "272662      F  e4052622e5ba45a8b96b59aba68cf068  2017      7  Saturday   \n",
       "272663      F  e4052622e5ba45a8b96b59aba68cf068  2017      7  Saturday   \n",
       "\n",
       "        membership_days  age_group  income_group            event  \\\n",
       "0                  1747          0             3      transaction   \n",
       "1                  1747          0             3      transaction   \n",
       "2                  1747          0             3   offer received   \n",
       "3                  1747          0             3   offer received   \n",
       "4                  1747          0             3      transaction   \n",
       "...                 ...        ...           ...              ...   \n",
       "272659             1740          1             2  offer completed   \n",
       "272660             1740          1             2      transaction   \n",
       "272661             1740          1             2     offer viewed   \n",
       "272662             1740          1             2   offer received   \n",
       "272663             1740          1             2      transaction   \n",
       "\n",
       "                                                    value  time_group  \n",
       "0                                       {'amount': 21.51}           0  \n",
       "1                                       {'amount': 32.28}           1  \n",
       "2        {'offer id': '9b98b8c7a33c4b65b9aebfe6a799e6d9'}           4  \n",
       "3        {'offer id': '3f207df678b143eea3cee63160fa8bed'}           5  \n",
       "4                                       {'amount': 23.22}           5  \n",
       "...                                                   ...         ...  \n",
       "272659  {'offer_id': 'f19421c1d4aa40978ebb69ca19b0e20d...           4  \n",
       "272660                                  {'amount': 19.47}           4  \n",
       "272661   {'offer id': 'f19421c1d4aa40978ebb69ca19b0e20d'}           5  \n",
       "272662   {'offer id': '3f207df678b143eea3cee63160fa8bed'}           5  \n",
       "272663                                  {'amount': 24.71}           6  \n",
       "\n",
       "[272664 rows x 11 columns]"
      ]
     },
     "execution_count": 26,
     "metadata": {},
     "output_type": "execute_result"
    }
   ],
   "source": [
    "df = pd.merge(profile, transcript, on='id')\n",
    "df = df.drop(['became_member_on'], axis=1)\n",
    "df"
   ]
  },
  {
   "cell_type": "code",
   "execution_count": 27,
   "id": "5be25c1e",
   "metadata": {
    "execution": {
     "iopub.execute_input": "2022-04-27T06:04:17.792956Z",
     "iopub.status.busy": "2022-04-27T06:04:17.791947Z",
     "iopub.status.idle": "2022-04-27T06:04:17.801713Z",
     "shell.execute_reply": "2022-04-27T06:04:17.802226Z",
     "shell.execute_reply.started": "2022-04-27T05:06:42.841324Z"
    },
    "papermill": {
     "duration": 0.101939,
     "end_time": "2022-04-27T06:04:17.802400",
     "exception": false,
     "start_time": "2022-04-27T06:04:17.700461",
     "status": "completed"
    },
    "tags": []
   },
   "outputs": [],
   "source": [
    "#map the offer_id from df with id in portfolio\n",
    "\n",
    "#create dict such that offers['offer_id']= offerName_difficulty_duration\n",
    "offers=dict()\n",
    "for offer, i, diff, dur in portfolio[['offer_type', 'id', 'difficulty', 'duration']].values:\n",
    "    offers[i]= f'{offer}_{diff}_{dur}'\n",
    "\n",
    "\n",
    "def value_col(col):\n",
    "    \"\"\"\n",
    "    extract offer_id from value column and mapped it to the offer name\n",
    "    \n",
    "    input- value column\n",
    "    \n",
    "    output-  mapped offer names\n",
    "    \"\"\"\n",
    "    value_type= col.split(':')[0].replace(\"'\", \"\").replace('{', \"\")\n",
    "    \n",
    "    if value_type == 'offer id':\n",
    "        value= col.split(':')[1].replace(\"'\", \"\").replace('}', \"\").strip()\n",
    "        return offers[value]\n",
    "    elif value_type == 'offer_id':\n",
    "        value= col.split(':')[1].split(',')[0].replace(\"'\", \"\").strip()\n",
    "        return offers[value]\n",
    "    else:\n",
    "        return 'None'"
   ]
  },
  {
   "cell_type": "code",
   "execution_count": 28,
   "id": "ed75f8cf",
   "metadata": {
    "execution": {
     "iopub.execute_input": "2022-04-27T06:04:17.981441Z",
     "iopub.status.busy": "2022-04-27T06:04:17.980751Z",
     "iopub.status.idle": "2022-04-27T06:04:18.418741Z",
     "shell.execute_reply": "2022-04-27T06:04:18.418150Z",
     "shell.execute_reply.started": "2022-04-27T05:06:43.394672Z"
    },
    "papermill": {
     "duration": 0.529322,
     "end_time": "2022-04-27T06:04:18.418897",
     "exception": false,
     "start_time": "2022-04-27T06:04:17.889575",
     "status": "completed"
    },
    "tags": []
   },
   "outputs": [],
   "source": [
    "#get offer names\n",
    "df['offer']= df['value'].apply(value_col)"
   ]
  },
  {
   "cell_type": "code",
   "execution_count": 29,
   "id": "817f512f",
   "metadata": {
    "execution": {
     "iopub.execute_input": "2022-04-27T06:04:18.605059Z",
     "iopub.status.busy": "2022-04-27T06:04:18.604362Z",
     "iopub.status.idle": "2022-04-27T06:04:18.605999Z",
     "shell.execute_reply": "2022-04-27T06:04:18.606488Z",
     "shell.execute_reply.started": "2022-04-27T05:06:44.0539Z"
    },
    "papermill": {
     "duration": 0.099207,
     "end_time": "2022-04-27T06:04:18.606675",
     "exception": false,
     "start_time": "2022-04-27T06:04:18.507468",
     "status": "completed"
    },
    "tags": []
   },
   "outputs": [],
   "source": [
    "def value_col_id(col):\n",
    "    \"\"\"\n",
    "    extract offer_id from value column\n",
    "    \n",
    "    input- value column\n",
    "    \n",
    "    output- offer_ids\n",
    "    \"\"\"\n",
    "    value_type= col.split(':')[0].replace(\"'\", \"\").replace('{', \"\")\n",
    "    \n",
    "    if value_type == 'offer id':\n",
    "        value= col.split(':')[1].replace(\"'\", \"\").replace('}', \"\").strip()\n",
    "        return value\n",
    "    elif value_type == 'offer_id':\n",
    "        value= col.split(':')[1].split(',')[0].replace(\"'\", \"\").strip()\n",
    "        return value\n",
    "    else:\n",
    "        return 'None'"
   ]
  },
  {
   "cell_type": "code",
   "execution_count": 30,
   "id": "a434d397",
   "metadata": {
    "execution": {
     "iopub.execute_input": "2022-04-27T06:04:18.788888Z",
     "iopub.status.busy": "2022-04-27T06:04:18.787397Z",
     "iopub.status.idle": "2022-04-27T06:04:19.218960Z",
     "shell.execute_reply": "2022-04-27T06:04:19.218227Z",
     "shell.execute_reply.started": "2022-04-27T05:06:44.658739Z"
    },
    "papermill": {
     "duration": 0.522991,
     "end_time": "2022-04-27T06:04:19.219129",
     "exception": false,
     "start_time": "2022-04-27T06:04:18.696138",
     "status": "completed"
    },
    "tags": []
   },
   "outputs": [],
   "source": [
    "#get offer ids\n",
    "df['offer_id']= df['value'].apply(value_col_id)"
   ]
  },
  {
   "cell_type": "code",
   "execution_count": 31,
   "id": "ce620aff",
   "metadata": {
    "execution": {
     "iopub.execute_input": "2022-04-27T06:04:19.400073Z",
     "iopub.status.busy": "2022-04-27T06:04:19.396024Z",
     "iopub.status.idle": "2022-04-27T06:04:19.402774Z",
     "shell.execute_reply": "2022-04-27T06:04:19.402253Z",
     "shell.execute_reply.started": "2022-04-27T05:06:45.424888Z"
    },
    "papermill": {
     "duration": 0.096103,
     "end_time": "2022-04-27T06:04:19.402914",
     "exception": false,
     "start_time": "2022-04-27T06:04:19.306811",
     "status": "completed"
    },
    "tags": []
   },
   "outputs": [],
   "source": [
    "def value_col_trans(col):\n",
    "    \"\"\"\n",
    "    get transaction amount from value column\n",
    "    \n",
    "    input- value column\n",
    "    \n",
    "    output- transaction amount\n",
    "    \"\"\"\n",
    "    value_type= col.split(':')[0].replace(\"'\", \"\").replace('{', \"\")\n",
    "    \n",
    "    if value_type == 'amount':\n",
    "        value= col.split(':')[1].replace(\"'\", \"\").replace('}', \"\").strip()\n",
    "        return np.round(float(value), 2)\n",
    "    else:\n",
    "        return np.nan"
   ]
  },
  {
   "cell_type": "code",
   "execution_count": 32,
   "id": "bace187c",
   "metadata": {
    "execution": {
     "iopub.execute_input": "2022-04-27T06:04:19.583550Z",
     "iopub.status.busy": "2022-04-27T06:04:19.581701Z",
     "iopub.status.idle": "2022-04-27T06:04:21.706653Z",
     "shell.execute_reply": "2022-04-27T06:04:21.706059Z",
     "shell.execute_reply.started": "2022-04-27T05:06:46.219608Z"
    },
    "papermill": {
     "duration": 2.217325,
     "end_time": "2022-04-27T06:04:21.706801",
     "exception": false,
     "start_time": "2022-04-27T06:04:19.489476",
     "status": "completed"
    },
    "tags": []
   },
   "outputs": [],
   "source": [
    "#get transaction amount\n",
    "df['amount']= df['value'].apply(value_col_trans)"
   ]
  },
  {
   "cell_type": "code",
   "execution_count": 33,
   "id": "4077c156",
   "metadata": {
    "execution": {
     "iopub.execute_input": "2022-04-27T06:04:21.889276Z",
     "iopub.status.busy": "2022-04-27T06:04:21.888550Z",
     "iopub.status.idle": "2022-04-27T06:04:21.972156Z",
     "shell.execute_reply": "2022-04-27T06:04:21.972718Z",
     "shell.execute_reply.started": "2022-04-27T05:06:47.634715Z"
    },
    "papermill": {
     "duration": 0.174947,
     "end_time": "2022-04-27T06:04:21.972911",
     "exception": false,
     "start_time": "2022-04-27T06:04:21.797964",
     "status": "completed"
    },
    "tags": []
   },
   "outputs": [],
   "source": [
    "df = df.drop(['value'], axis=1)"
   ]
  },
  {
   "cell_type": "code",
   "execution_count": 34,
   "id": "5ce826e8",
   "metadata": {
    "execution": {
     "iopub.execute_input": "2022-04-27T06:04:22.155037Z",
     "iopub.status.busy": "2022-04-27T06:04:22.154219Z",
     "iopub.status.idle": "2022-04-27T06:04:22.720163Z",
     "shell.execute_reply": "2022-04-27T06:04:22.720886Z",
     "shell.execute_reply.started": "2022-04-27T05:06:47.739433Z"
    },
    "papermill": {
     "duration": 0.65899,
     "end_time": "2022-04-27T06:04:22.721063",
     "exception": false,
     "start_time": "2022-04-27T06:04:22.062073",
     "status": "completed"
    },
    "tags": []
   },
   "outputs": [
    {
     "data": {
      "text/html": [
       "<div>\n",
       "<style scoped>\n",
       "    .dataframe tbody tr th:only-of-type {\n",
       "        vertical-align: middle;\n",
       "    }\n",
       "\n",
       "    .dataframe tbody tr th {\n",
       "        vertical-align: top;\n",
       "    }\n",
       "\n",
       "    .dataframe thead th {\n",
       "        text-align: right;\n",
       "    }\n",
       "</style>\n",
       "<table border=\"1\" class=\"dataframe\">\n",
       "  <thead>\n",
       "    <tr style=\"text-align: right;\">\n",
       "      <th></th>\n",
       "      <th>gender</th>\n",
       "      <th>id</th>\n",
       "      <th>year</th>\n",
       "      <th>month</th>\n",
       "      <th>day</th>\n",
       "      <th>membership_days</th>\n",
       "      <th>age_group</th>\n",
       "      <th>income_group</th>\n",
       "      <th>event</th>\n",
       "      <th>time_group</th>\n",
       "      <th>offer</th>\n",
       "      <th>offer_id</th>\n",
       "      <th>amount</th>\n",
       "    </tr>\n",
       "  </thead>\n",
       "  <tbody>\n",
       "    <tr>\n",
       "      <th>0</th>\n",
       "      <td>F</td>\n",
       "      <td>0610b486422d4921ae7d2bf64640c50b</td>\n",
       "      <td>2017</td>\n",
       "      <td>7</td>\n",
       "      <td>Saturday</td>\n",
       "      <td>1747</td>\n",
       "      <td>0</td>\n",
       "      <td>3</td>\n",
       "      <td>transaction</td>\n",
       "      <td>0</td>\n",
       "      <td>None</td>\n",
       "      <td>None</td>\n",
       "      <td>21.51</td>\n",
       "    </tr>\n",
       "    <tr>\n",
       "      <th>1</th>\n",
       "      <td>F</td>\n",
       "      <td>0610b486422d4921ae7d2bf64640c50b</td>\n",
       "      <td>2017</td>\n",
       "      <td>7</td>\n",
       "      <td>Saturday</td>\n",
       "      <td>1747</td>\n",
       "      <td>0</td>\n",
       "      <td>3</td>\n",
       "      <td>transaction</td>\n",
       "      <td>1</td>\n",
       "      <td>None</td>\n",
       "      <td>None</td>\n",
       "      <td>32.28</td>\n",
       "    </tr>\n",
       "    <tr>\n",
       "      <th>2</th>\n",
       "      <td>F</td>\n",
       "      <td>0610b486422d4921ae7d2bf64640c50b</td>\n",
       "      <td>2017</td>\n",
       "      <td>7</td>\n",
       "      <td>Saturday</td>\n",
       "      <td>1747</td>\n",
       "      <td>0</td>\n",
       "      <td>3</td>\n",
       "      <td>offer received</td>\n",
       "      <td>4</td>\n",
       "      <td>bogo</td>\n",
       "      <td>9b98b8c7a33c4b65b9aebfe6a799e6d9</td>\n",
       "      <td>NaN</td>\n",
       "    </tr>\n",
       "    <tr>\n",
       "      <th>3</th>\n",
       "      <td>F</td>\n",
       "      <td>0610b486422d4921ae7d2bf64640c50b</td>\n",
       "      <td>2017</td>\n",
       "      <td>7</td>\n",
       "      <td>Saturday</td>\n",
       "      <td>1747</td>\n",
       "      <td>0</td>\n",
       "      <td>3</td>\n",
       "      <td>offer received</td>\n",
       "      <td>5</td>\n",
       "      <td>informational</td>\n",
       "      <td>3f207df678b143eea3cee63160fa8bed</td>\n",
       "      <td>NaN</td>\n",
       "    </tr>\n",
       "    <tr>\n",
       "      <th>4</th>\n",
       "      <td>F</td>\n",
       "      <td>0610b486422d4921ae7d2bf64640c50b</td>\n",
       "      <td>2017</td>\n",
       "      <td>7</td>\n",
       "      <td>Saturday</td>\n",
       "      <td>1747</td>\n",
       "      <td>0</td>\n",
       "      <td>3</td>\n",
       "      <td>transaction</td>\n",
       "      <td>5</td>\n",
       "      <td>None</td>\n",
       "      <td>None</td>\n",
       "      <td>23.22</td>\n",
       "    </tr>\n",
       "    <tr>\n",
       "      <th>...</th>\n",
       "      <td>...</td>\n",
       "      <td>...</td>\n",
       "      <td>...</td>\n",
       "      <td>...</td>\n",
       "      <td>...</td>\n",
       "      <td>...</td>\n",
       "      <td>...</td>\n",
       "      <td>...</td>\n",
       "      <td>...</td>\n",
       "      <td>...</td>\n",
       "      <td>...</td>\n",
       "      <td>...</td>\n",
       "      <td>...</td>\n",
       "    </tr>\n",
       "    <tr>\n",
       "      <th>272659</th>\n",
       "      <td>F</td>\n",
       "      <td>e4052622e5ba45a8b96b59aba68cf068</td>\n",
       "      <td>2017</td>\n",
       "      <td>7</td>\n",
       "      <td>Saturday</td>\n",
       "      <td>1740</td>\n",
       "      <td>1</td>\n",
       "      <td>2</td>\n",
       "      <td>offer completed</td>\n",
       "      <td>4</td>\n",
       "      <td>bogo</td>\n",
       "      <td>f19421c1d4aa40978ebb69ca19b0e20d</td>\n",
       "      <td>NaN</td>\n",
       "    </tr>\n",
       "    <tr>\n",
       "      <th>272660</th>\n",
       "      <td>F</td>\n",
       "      <td>e4052622e5ba45a8b96b59aba68cf068</td>\n",
       "      <td>2017</td>\n",
       "      <td>7</td>\n",
       "      <td>Saturday</td>\n",
       "      <td>1740</td>\n",
       "      <td>1</td>\n",
       "      <td>2</td>\n",
       "      <td>transaction</td>\n",
       "      <td>4</td>\n",
       "      <td>None</td>\n",
       "      <td>None</td>\n",
       "      <td>19.47</td>\n",
       "    </tr>\n",
       "    <tr>\n",
       "      <th>272661</th>\n",
       "      <td>F</td>\n",
       "      <td>e4052622e5ba45a8b96b59aba68cf068</td>\n",
       "      <td>2017</td>\n",
       "      <td>7</td>\n",
       "      <td>Saturday</td>\n",
       "      <td>1740</td>\n",
       "      <td>1</td>\n",
       "      <td>2</td>\n",
       "      <td>offer viewed</td>\n",
       "      <td>5</td>\n",
       "      <td>bogo</td>\n",
       "      <td>f19421c1d4aa40978ebb69ca19b0e20d</td>\n",
       "      <td>NaN</td>\n",
       "    </tr>\n",
       "    <tr>\n",
       "      <th>272662</th>\n",
       "      <td>F</td>\n",
       "      <td>e4052622e5ba45a8b96b59aba68cf068</td>\n",
       "      <td>2017</td>\n",
       "      <td>7</td>\n",
       "      <td>Saturday</td>\n",
       "      <td>1740</td>\n",
       "      <td>1</td>\n",
       "      <td>2</td>\n",
       "      <td>offer received</td>\n",
       "      <td>5</td>\n",
       "      <td>informational</td>\n",
       "      <td>3f207df678b143eea3cee63160fa8bed</td>\n",
       "      <td>NaN</td>\n",
       "    </tr>\n",
       "    <tr>\n",
       "      <th>272663</th>\n",
       "      <td>F</td>\n",
       "      <td>e4052622e5ba45a8b96b59aba68cf068</td>\n",
       "      <td>2017</td>\n",
       "      <td>7</td>\n",
       "      <td>Saturday</td>\n",
       "      <td>1740</td>\n",
       "      <td>1</td>\n",
       "      <td>2</td>\n",
       "      <td>transaction</td>\n",
       "      <td>6</td>\n",
       "      <td>None</td>\n",
       "      <td>None</td>\n",
       "      <td>24.71</td>\n",
       "    </tr>\n",
       "  </tbody>\n",
       "</table>\n",
       "<p>272664 rows × 13 columns</p>\n",
       "</div>"
      ],
      "text/plain": [
       "       gender                                id  year  month       day  \\\n",
       "0           F  0610b486422d4921ae7d2bf64640c50b  2017      7  Saturday   \n",
       "1           F  0610b486422d4921ae7d2bf64640c50b  2017      7  Saturday   \n",
       "2           F  0610b486422d4921ae7d2bf64640c50b  2017      7  Saturday   \n",
       "3           F  0610b486422d4921ae7d2bf64640c50b  2017      7  Saturday   \n",
       "4           F  0610b486422d4921ae7d2bf64640c50b  2017      7  Saturday   \n",
       "...       ...                               ...   ...    ...       ...   \n",
       "272659      F  e4052622e5ba45a8b96b59aba68cf068  2017      7  Saturday   \n",
       "272660      F  e4052622e5ba45a8b96b59aba68cf068  2017      7  Saturday   \n",
       "272661      F  e4052622e5ba45a8b96b59aba68cf068  2017      7  Saturday   \n",
       "272662      F  e4052622e5ba45a8b96b59aba68cf068  2017      7  Saturday   \n",
       "272663      F  e4052622e5ba45a8b96b59aba68cf068  2017      7  Saturday   \n",
       "\n",
       "        membership_days  age_group  income_group            event  time_group  \\\n",
       "0                  1747          0             3      transaction           0   \n",
       "1                  1747          0             3      transaction           1   \n",
       "2                  1747          0             3   offer received           4   \n",
       "3                  1747          0             3   offer received           5   \n",
       "4                  1747          0             3      transaction           5   \n",
       "...                 ...        ...           ...              ...         ...   \n",
       "272659             1740          1             2  offer completed           4   \n",
       "272660             1740          1             2      transaction           4   \n",
       "272661             1740          1             2     offer viewed           5   \n",
       "272662             1740          1             2   offer received           5   \n",
       "272663             1740          1             2      transaction           6   \n",
       "\n",
       "                offer                          offer_id  amount  \n",
       "0                None                              None   21.51  \n",
       "1                None                              None   32.28  \n",
       "2                bogo  9b98b8c7a33c4b65b9aebfe6a799e6d9     NaN  \n",
       "3       informational  3f207df678b143eea3cee63160fa8bed     NaN  \n",
       "4                None                              None   23.22  \n",
       "...               ...                               ...     ...  \n",
       "272659           bogo  f19421c1d4aa40978ebb69ca19b0e20d     NaN  \n",
       "272660           None                              None   19.47  \n",
       "272661           bogo  f19421c1d4aa40978ebb69ca19b0e20d     NaN  \n",
       "272662  informational  3f207df678b143eea3cee63160fa8bed     NaN  \n",
       "272663           None                              None   24.71  \n",
       "\n",
       "[272664 rows x 13 columns]"
      ]
     },
     "execution_count": 34,
     "metadata": {},
     "output_type": "execute_result"
    }
   ],
   "source": [
    "df['offer'] = df['offer'].str.replace('_', '')\n",
    "df['offer'] = df['offer'].str.replace('\\d+', '')\n",
    "df"
   ]
  },
  {
   "cell_type": "code",
   "execution_count": 35,
   "id": "f616a183",
   "metadata": {
    "execution": {
     "iopub.execute_input": "2022-04-27T06:04:22.901094Z",
     "iopub.status.busy": "2022-04-27T06:04:22.900413Z",
     "iopub.status.idle": "2022-04-27T06:04:23.059966Z",
     "shell.execute_reply": "2022-04-27T06:04:23.060442Z",
     "shell.execute_reply.started": "2022-04-27T05:06:48.210204Z"
    },
    "papermill": {
     "duration": 0.251563,
     "end_time": "2022-04-27T06:04:23.060639",
     "exception": false,
     "start_time": "2022-04-27T06:04:22.809076",
     "status": "completed"
    },
    "tags": []
   },
   "outputs": [
    {
     "data": {
      "text/html": [
       "<div>\n",
       "<style scoped>\n",
       "    .dataframe tbody tr th:only-of-type {\n",
       "        vertical-align: middle;\n",
       "    }\n",
       "\n",
       "    .dataframe tbody tr th {\n",
       "        vertical-align: top;\n",
       "    }\n",
       "\n",
       "    .dataframe thead th {\n",
       "        text-align: right;\n",
       "    }\n",
       "</style>\n",
       "<table border=\"1\" class=\"dataframe\">\n",
       "  <thead>\n",
       "    <tr style=\"text-align: right;\">\n",
       "      <th></th>\n",
       "      <th>gender</th>\n",
       "      <th>id</th>\n",
       "      <th>year</th>\n",
       "      <th>month</th>\n",
       "      <th>day</th>\n",
       "      <th>membership_days</th>\n",
       "      <th>age_group</th>\n",
       "      <th>income_group</th>\n",
       "      <th>event</th>\n",
       "      <th>time_group</th>\n",
       "      <th>offer</th>\n",
       "      <th>offer_id</th>\n",
       "      <th>amount</th>\n",
       "    </tr>\n",
       "  </thead>\n",
       "  <tbody>\n",
       "    <tr>\n",
       "      <th>0</th>\n",
       "      <td>F</td>\n",
       "      <td>0610b486422d4921ae7d2bf64640c50b</td>\n",
       "      <td>2017</td>\n",
       "      <td>7</td>\n",
       "      <td>Saturday</td>\n",
       "      <td>1747</td>\n",
       "      <td>0</td>\n",
       "      <td>3</td>\n",
       "      <td>transaction</td>\n",
       "      <td>0</td>\n",
       "      <td>0</td>\n",
       "      <td>None</td>\n",
       "      <td>21.51</td>\n",
       "    </tr>\n",
       "    <tr>\n",
       "      <th>1</th>\n",
       "      <td>F</td>\n",
       "      <td>0610b486422d4921ae7d2bf64640c50b</td>\n",
       "      <td>2017</td>\n",
       "      <td>7</td>\n",
       "      <td>Saturday</td>\n",
       "      <td>1747</td>\n",
       "      <td>0</td>\n",
       "      <td>3</td>\n",
       "      <td>transaction</td>\n",
       "      <td>1</td>\n",
       "      <td>0</td>\n",
       "      <td>None</td>\n",
       "      <td>32.28</td>\n",
       "    </tr>\n",
       "    <tr>\n",
       "      <th>2</th>\n",
       "      <td>F</td>\n",
       "      <td>0610b486422d4921ae7d2bf64640c50b</td>\n",
       "      <td>2017</td>\n",
       "      <td>7</td>\n",
       "      <td>Saturday</td>\n",
       "      <td>1747</td>\n",
       "      <td>0</td>\n",
       "      <td>3</td>\n",
       "      <td>offer received</td>\n",
       "      <td>4</td>\n",
       "      <td>1</td>\n",
       "      <td>9b98b8c7a33c4b65b9aebfe6a799e6d9</td>\n",
       "      <td>NaN</td>\n",
       "    </tr>\n",
       "    <tr>\n",
       "      <th>3</th>\n",
       "      <td>F</td>\n",
       "      <td>0610b486422d4921ae7d2bf64640c50b</td>\n",
       "      <td>2017</td>\n",
       "      <td>7</td>\n",
       "      <td>Saturday</td>\n",
       "      <td>1747</td>\n",
       "      <td>0</td>\n",
       "      <td>3</td>\n",
       "      <td>offer received</td>\n",
       "      <td>5</td>\n",
       "      <td>3</td>\n",
       "      <td>3f207df678b143eea3cee63160fa8bed</td>\n",
       "      <td>NaN</td>\n",
       "    </tr>\n",
       "    <tr>\n",
       "      <th>4</th>\n",
       "      <td>F</td>\n",
       "      <td>0610b486422d4921ae7d2bf64640c50b</td>\n",
       "      <td>2017</td>\n",
       "      <td>7</td>\n",
       "      <td>Saturday</td>\n",
       "      <td>1747</td>\n",
       "      <td>0</td>\n",
       "      <td>3</td>\n",
       "      <td>transaction</td>\n",
       "      <td>5</td>\n",
       "      <td>0</td>\n",
       "      <td>None</td>\n",
       "      <td>23.22</td>\n",
       "    </tr>\n",
       "    <tr>\n",
       "      <th>...</th>\n",
       "      <td>...</td>\n",
       "      <td>...</td>\n",
       "      <td>...</td>\n",
       "      <td>...</td>\n",
       "      <td>...</td>\n",
       "      <td>...</td>\n",
       "      <td>...</td>\n",
       "      <td>...</td>\n",
       "      <td>...</td>\n",
       "      <td>...</td>\n",
       "      <td>...</td>\n",
       "      <td>...</td>\n",
       "      <td>...</td>\n",
       "    </tr>\n",
       "    <tr>\n",
       "      <th>272659</th>\n",
       "      <td>F</td>\n",
       "      <td>e4052622e5ba45a8b96b59aba68cf068</td>\n",
       "      <td>2017</td>\n",
       "      <td>7</td>\n",
       "      <td>Saturday</td>\n",
       "      <td>1740</td>\n",
       "      <td>1</td>\n",
       "      <td>2</td>\n",
       "      <td>offer completed</td>\n",
       "      <td>4</td>\n",
       "      <td>1</td>\n",
       "      <td>f19421c1d4aa40978ebb69ca19b0e20d</td>\n",
       "      <td>NaN</td>\n",
       "    </tr>\n",
       "    <tr>\n",
       "      <th>272660</th>\n",
       "      <td>F</td>\n",
       "      <td>e4052622e5ba45a8b96b59aba68cf068</td>\n",
       "      <td>2017</td>\n",
       "      <td>7</td>\n",
       "      <td>Saturday</td>\n",
       "      <td>1740</td>\n",
       "      <td>1</td>\n",
       "      <td>2</td>\n",
       "      <td>transaction</td>\n",
       "      <td>4</td>\n",
       "      <td>0</td>\n",
       "      <td>None</td>\n",
       "      <td>19.47</td>\n",
       "    </tr>\n",
       "    <tr>\n",
       "      <th>272661</th>\n",
       "      <td>F</td>\n",
       "      <td>e4052622e5ba45a8b96b59aba68cf068</td>\n",
       "      <td>2017</td>\n",
       "      <td>7</td>\n",
       "      <td>Saturday</td>\n",
       "      <td>1740</td>\n",
       "      <td>1</td>\n",
       "      <td>2</td>\n",
       "      <td>offer viewed</td>\n",
       "      <td>5</td>\n",
       "      <td>1</td>\n",
       "      <td>f19421c1d4aa40978ebb69ca19b0e20d</td>\n",
       "      <td>NaN</td>\n",
       "    </tr>\n",
       "    <tr>\n",
       "      <th>272662</th>\n",
       "      <td>F</td>\n",
       "      <td>e4052622e5ba45a8b96b59aba68cf068</td>\n",
       "      <td>2017</td>\n",
       "      <td>7</td>\n",
       "      <td>Saturday</td>\n",
       "      <td>1740</td>\n",
       "      <td>1</td>\n",
       "      <td>2</td>\n",
       "      <td>offer received</td>\n",
       "      <td>5</td>\n",
       "      <td>3</td>\n",
       "      <td>3f207df678b143eea3cee63160fa8bed</td>\n",
       "      <td>NaN</td>\n",
       "    </tr>\n",
       "    <tr>\n",
       "      <th>272663</th>\n",
       "      <td>F</td>\n",
       "      <td>e4052622e5ba45a8b96b59aba68cf068</td>\n",
       "      <td>2017</td>\n",
       "      <td>7</td>\n",
       "      <td>Saturday</td>\n",
       "      <td>1740</td>\n",
       "      <td>1</td>\n",
       "      <td>2</td>\n",
       "      <td>transaction</td>\n",
       "      <td>6</td>\n",
       "      <td>0</td>\n",
       "      <td>None</td>\n",
       "      <td>24.71</td>\n",
       "    </tr>\n",
       "  </tbody>\n",
       "</table>\n",
       "<p>272664 rows × 13 columns</p>\n",
       "</div>"
      ],
      "text/plain": [
       "       gender                                id  year  month       day  \\\n",
       "0           F  0610b486422d4921ae7d2bf64640c50b  2017      7  Saturday   \n",
       "1           F  0610b486422d4921ae7d2bf64640c50b  2017      7  Saturday   \n",
       "2           F  0610b486422d4921ae7d2bf64640c50b  2017      7  Saturday   \n",
       "3           F  0610b486422d4921ae7d2bf64640c50b  2017      7  Saturday   \n",
       "4           F  0610b486422d4921ae7d2bf64640c50b  2017      7  Saturday   \n",
       "...       ...                               ...   ...    ...       ...   \n",
       "272659      F  e4052622e5ba45a8b96b59aba68cf068  2017      7  Saturday   \n",
       "272660      F  e4052622e5ba45a8b96b59aba68cf068  2017      7  Saturday   \n",
       "272661      F  e4052622e5ba45a8b96b59aba68cf068  2017      7  Saturday   \n",
       "272662      F  e4052622e5ba45a8b96b59aba68cf068  2017      7  Saturday   \n",
       "272663      F  e4052622e5ba45a8b96b59aba68cf068  2017      7  Saturday   \n",
       "\n",
       "        membership_days  age_group  income_group            event  time_group  \\\n",
       "0                  1747          0             3      transaction           0   \n",
       "1                  1747          0             3      transaction           1   \n",
       "2                  1747          0             3   offer received           4   \n",
       "3                  1747          0             3   offer received           5   \n",
       "4                  1747          0             3      transaction           5   \n",
       "...                 ...        ...           ...              ...         ...   \n",
       "272659             1740          1             2  offer completed           4   \n",
       "272660             1740          1             2      transaction           4   \n",
       "272661             1740          1             2     offer viewed           5   \n",
       "272662             1740          1             2   offer received           5   \n",
       "272663             1740          1             2      transaction           6   \n",
       "\n",
       "        offer                          offer_id  amount  \n",
       "0           0                              None   21.51  \n",
       "1           0                              None   32.28  \n",
       "2           1  9b98b8c7a33c4b65b9aebfe6a799e6d9     NaN  \n",
       "3           3  3f207df678b143eea3cee63160fa8bed     NaN  \n",
       "4           0                              None   23.22  \n",
       "...       ...                               ...     ...  \n",
       "272659      1  f19421c1d4aa40978ebb69ca19b0e20d     NaN  \n",
       "272660      0                              None   19.47  \n",
       "272661      1  f19421c1d4aa40978ebb69ca19b0e20d     NaN  \n",
       "272662      3  3f207df678b143eea3cee63160fa8bed     NaN  \n",
       "272663      0                              None   24.71  \n",
       "\n",
       "[272664 rows x 13 columns]"
      ]
     },
     "execution_count": 35,
     "metadata": {},
     "output_type": "execute_result"
    }
   ],
   "source": [
    "from sklearn.preprocessing import LabelEncoder\n",
    "\n",
    "df = df.copy(deep = True)\n",
    "le_offer = LabelEncoder()\n",
    "df['offer'] = le_offer.fit_transform(df['offer'])\n",
    "df.head(5)\n",
    "df"
   ]
  },
  {
   "cell_type": "code",
   "execution_count": 36,
   "id": "bd13f88a",
   "metadata": {
    "execution": {
     "iopub.execute_input": "2022-04-27T06:04:23.244835Z",
     "iopub.status.busy": "2022-04-27T06:04:23.244145Z",
     "iopub.status.idle": "2022-04-27T06:04:23.248374Z",
     "shell.execute_reply": "2022-04-27T06:04:23.248902Z",
     "shell.execute_reply.started": "2022-04-27T05:06:48.801006Z"
    },
    "papermill": {
     "duration": 0.09739,
     "end_time": "2022-04-27T06:04:23.249072",
     "exception": false,
     "start_time": "2022-04-27T06:04:23.151682",
     "status": "completed"
    },
    "tags": []
   },
   "outputs": [],
   "source": [
    "df.rename(columns={'id':'customer_id'}, inplace=True)\n"
   ]
  },
  {
   "cell_type": "code",
   "execution_count": 37,
   "id": "903408bb",
   "metadata": {
    "execution": {
     "iopub.execute_input": "2022-04-27T06:04:23.435832Z",
     "iopub.status.busy": "2022-04-27T06:04:23.435086Z",
     "iopub.status.idle": "2022-04-27T06:04:23.439489Z",
     "shell.execute_reply": "2022-04-27T06:04:23.439999Z",
     "shell.execute_reply.started": "2022-04-27T05:06:49.485581Z"
    },
    "papermill": {
     "duration": 0.101679,
     "end_time": "2022-04-27T06:04:23.440169",
     "exception": false,
     "start_time": "2022-04-27T06:04:23.338490",
     "status": "completed"
    },
    "tags": []
   },
   "outputs": [],
   "source": [
    "df.rename(columns={'offer_id':'id'}, inplace=True)\n"
   ]
  },
  {
   "cell_type": "code",
   "execution_count": 38,
   "id": "845573e2",
   "metadata": {
    "execution": {
     "iopub.execute_input": "2022-04-27T06:04:23.625988Z",
     "iopub.status.busy": "2022-04-27T06:04:23.625339Z",
     "iopub.status.idle": "2022-04-27T06:04:23.714940Z",
     "shell.execute_reply": "2022-04-27T06:04:23.715484Z",
     "shell.execute_reply.started": "2022-04-27T05:06:50.090128Z"
    },
    "papermill": {
     "duration": 0.180943,
     "end_time": "2022-04-27T06:04:23.715683",
     "exception": false,
     "start_time": "2022-04-27T06:04:23.534740",
     "status": "completed"
    },
    "tags": []
   },
   "outputs": [
    {
     "data": {
      "text/html": [
       "<div>                            <div id=\"f7662a27-1ca3-4f08-9bd6-1794ea287f4a\" class=\"plotly-graph-div\" style=\"height:525px; width:100%;\"></div>            <script type=\"text/javascript\">                require([\"plotly\"], function(Plotly) {                    window.PLOTLYENV=window.PLOTLYENV || {};                                    if (document.getElementById(\"f7662a27-1ca3-4f08-9bd6-1794ea287f4a\")) {                    Plotly.newPlot(                        \"f7662a27-1ca3-4f08-9bd6-1794ea287f4a\",                        [{\"domain\":{\"x\":[0.0,1.0],\"y\":[0.0,1.0]},\"hovertemplate\":\"event=%{label}<br>count=%{value}<extra></extra>\",\"labels\":[\"transaction\",\"offer received\",\"offer viewed\",\"offer completed\"],\"legendgroup\":\"\",\"name\":\"\",\"showlegend\":true,\"values\":[123910,66478,49844,32432],\"type\":\"pie\"}],                        {\"template\":{\"data\":{\"bar\":[{\"error_x\":{\"color\":\"#2a3f5f\"},\"error_y\":{\"color\":\"#2a3f5f\"},\"marker\":{\"line\":{\"color\":\"#E5ECF6\",\"width\":0.5},\"pattern\":{\"fillmode\":\"overlay\",\"size\":10,\"solidity\":0.2}},\"type\":\"bar\"}],\"barpolar\":[{\"marker\":{\"line\":{\"color\":\"#E5ECF6\",\"width\":0.5},\"pattern\":{\"fillmode\":\"overlay\",\"size\":10,\"solidity\":0.2}},\"type\":\"barpolar\"}],\"carpet\":[{\"aaxis\":{\"endlinecolor\":\"#2a3f5f\",\"gridcolor\":\"white\",\"linecolor\":\"white\",\"minorgridcolor\":\"white\",\"startlinecolor\":\"#2a3f5f\"},\"baxis\":{\"endlinecolor\":\"#2a3f5f\",\"gridcolor\":\"white\",\"linecolor\":\"white\",\"minorgridcolor\":\"white\",\"startlinecolor\":\"#2a3f5f\"},\"type\":\"carpet\"}],\"choropleth\":[{\"colorbar\":{\"outlinewidth\":0,\"ticks\":\"\"},\"type\":\"choropleth\"}],\"contour\":[{\"colorbar\":{\"outlinewidth\":0,\"ticks\":\"\"},\"colorscale\":[[0.0,\"#0d0887\"],[0.1111111111111111,\"#46039f\"],[0.2222222222222222,\"#7201a8\"],[0.3333333333333333,\"#9c179e\"],[0.4444444444444444,\"#bd3786\"],[0.5555555555555556,\"#d8576b\"],[0.6666666666666666,\"#ed7953\"],[0.7777777777777778,\"#fb9f3a\"],[0.8888888888888888,\"#fdca26\"],[1.0,\"#f0f921\"]],\"type\":\"contour\"}],\"contourcarpet\":[{\"colorbar\":{\"outlinewidth\":0,\"ticks\":\"\"},\"type\":\"contourcarpet\"}],\"heatmap\":[{\"colorbar\":{\"outlinewidth\":0,\"ticks\":\"\"},\"colorscale\":[[0.0,\"#0d0887\"],[0.1111111111111111,\"#46039f\"],[0.2222222222222222,\"#7201a8\"],[0.3333333333333333,\"#9c179e\"],[0.4444444444444444,\"#bd3786\"],[0.5555555555555556,\"#d8576b\"],[0.6666666666666666,\"#ed7953\"],[0.7777777777777778,\"#fb9f3a\"],[0.8888888888888888,\"#fdca26\"],[1.0,\"#f0f921\"]],\"type\":\"heatmap\"}],\"heatmapgl\":[{\"colorbar\":{\"outlinewidth\":0,\"ticks\":\"\"},\"colorscale\":[[0.0,\"#0d0887\"],[0.1111111111111111,\"#46039f\"],[0.2222222222222222,\"#7201a8\"],[0.3333333333333333,\"#9c179e\"],[0.4444444444444444,\"#bd3786\"],[0.5555555555555556,\"#d8576b\"],[0.6666666666666666,\"#ed7953\"],[0.7777777777777778,\"#fb9f3a\"],[0.8888888888888888,\"#fdca26\"],[1.0,\"#f0f921\"]],\"type\":\"heatmapgl\"}],\"histogram\":[{\"marker\":{\"pattern\":{\"fillmode\":\"overlay\",\"size\":10,\"solidity\":0.2}},\"type\":\"histogram\"}],\"histogram2d\":[{\"colorbar\":{\"outlinewidth\":0,\"ticks\":\"\"},\"colorscale\":[[0.0,\"#0d0887\"],[0.1111111111111111,\"#46039f\"],[0.2222222222222222,\"#7201a8\"],[0.3333333333333333,\"#9c179e\"],[0.4444444444444444,\"#bd3786\"],[0.5555555555555556,\"#d8576b\"],[0.6666666666666666,\"#ed7953\"],[0.7777777777777778,\"#fb9f3a\"],[0.8888888888888888,\"#fdca26\"],[1.0,\"#f0f921\"]],\"type\":\"histogram2d\"}],\"histogram2dcontour\":[{\"colorbar\":{\"outlinewidth\":0,\"ticks\":\"\"},\"colorscale\":[[0.0,\"#0d0887\"],[0.1111111111111111,\"#46039f\"],[0.2222222222222222,\"#7201a8\"],[0.3333333333333333,\"#9c179e\"],[0.4444444444444444,\"#bd3786\"],[0.5555555555555556,\"#d8576b\"],[0.6666666666666666,\"#ed7953\"],[0.7777777777777778,\"#fb9f3a\"],[0.8888888888888888,\"#fdca26\"],[1.0,\"#f0f921\"]],\"type\":\"histogram2dcontour\"}],\"mesh3d\":[{\"colorbar\":{\"outlinewidth\":0,\"ticks\":\"\"},\"type\":\"mesh3d\"}],\"parcoords\":[{\"line\":{\"colorbar\":{\"outlinewidth\":0,\"ticks\":\"\"}},\"type\":\"parcoords\"}],\"pie\":[{\"automargin\":true,\"type\":\"pie\"}],\"scatter\":[{\"marker\":{\"colorbar\":{\"outlinewidth\":0,\"ticks\":\"\"}},\"type\":\"scatter\"}],\"scatter3d\":[{\"line\":{\"colorbar\":{\"outlinewidth\":0,\"ticks\":\"\"}},\"marker\":{\"colorbar\":{\"outlinewidth\":0,\"ticks\":\"\"}},\"type\":\"scatter3d\"}],\"scattercarpet\":[{\"marker\":{\"colorbar\":{\"outlinewidth\":0,\"ticks\":\"\"}},\"type\":\"scattercarpet\"}],\"scattergeo\":[{\"marker\":{\"colorbar\":{\"outlinewidth\":0,\"ticks\":\"\"}},\"type\":\"scattergeo\"}],\"scattergl\":[{\"marker\":{\"colorbar\":{\"outlinewidth\":0,\"ticks\":\"\"}},\"type\":\"scattergl\"}],\"scattermapbox\":[{\"marker\":{\"colorbar\":{\"outlinewidth\":0,\"ticks\":\"\"}},\"type\":\"scattermapbox\"}],\"scatterpolar\":[{\"marker\":{\"colorbar\":{\"outlinewidth\":0,\"ticks\":\"\"}},\"type\":\"scatterpolar\"}],\"scatterpolargl\":[{\"marker\":{\"colorbar\":{\"outlinewidth\":0,\"ticks\":\"\"}},\"type\":\"scatterpolargl\"}],\"scatterternary\":[{\"marker\":{\"colorbar\":{\"outlinewidth\":0,\"ticks\":\"\"}},\"type\":\"scatterternary\"}],\"surface\":[{\"colorbar\":{\"outlinewidth\":0,\"ticks\":\"\"},\"colorscale\":[[0.0,\"#0d0887\"],[0.1111111111111111,\"#46039f\"],[0.2222222222222222,\"#7201a8\"],[0.3333333333333333,\"#9c179e\"],[0.4444444444444444,\"#bd3786\"],[0.5555555555555556,\"#d8576b\"],[0.6666666666666666,\"#ed7953\"],[0.7777777777777778,\"#fb9f3a\"],[0.8888888888888888,\"#fdca26\"],[1.0,\"#f0f921\"]],\"type\":\"surface\"}],\"table\":[{\"cells\":{\"fill\":{\"color\":\"#EBF0F8\"},\"line\":{\"color\":\"white\"}},\"header\":{\"fill\":{\"color\":\"#C8D4E3\"},\"line\":{\"color\":\"white\"}},\"type\":\"table\"}]},\"layout\":{\"annotationdefaults\":{\"arrowcolor\":\"#2a3f5f\",\"arrowhead\":0,\"arrowwidth\":1},\"autotypenumbers\":\"strict\",\"coloraxis\":{\"colorbar\":{\"outlinewidth\":0,\"ticks\":\"\"}},\"colorscale\":{\"diverging\":[[0,\"#8e0152\"],[0.1,\"#c51b7d\"],[0.2,\"#de77ae\"],[0.3,\"#f1b6da\"],[0.4,\"#fde0ef\"],[0.5,\"#f7f7f7\"],[0.6,\"#e6f5d0\"],[0.7,\"#b8e186\"],[0.8,\"#7fbc41\"],[0.9,\"#4d9221\"],[1,\"#276419\"]],\"sequential\":[[0.0,\"#0d0887\"],[0.1111111111111111,\"#46039f\"],[0.2222222222222222,\"#7201a8\"],[0.3333333333333333,\"#9c179e\"],[0.4444444444444444,\"#bd3786\"],[0.5555555555555556,\"#d8576b\"],[0.6666666666666666,\"#ed7953\"],[0.7777777777777778,\"#fb9f3a\"],[0.8888888888888888,\"#fdca26\"],[1.0,\"#f0f921\"]],\"sequentialminus\":[[0.0,\"#0d0887\"],[0.1111111111111111,\"#46039f\"],[0.2222222222222222,\"#7201a8\"],[0.3333333333333333,\"#9c179e\"],[0.4444444444444444,\"#bd3786\"],[0.5555555555555556,\"#d8576b\"],[0.6666666666666666,\"#ed7953\"],[0.7777777777777778,\"#fb9f3a\"],[0.8888888888888888,\"#fdca26\"],[1.0,\"#f0f921\"]]},\"colorway\":[\"#636efa\",\"#EF553B\",\"#00cc96\",\"#ab63fa\",\"#FFA15A\",\"#19d3f3\",\"#FF6692\",\"#B6E880\",\"#FF97FF\",\"#FECB52\"],\"font\":{\"color\":\"#2a3f5f\"},\"geo\":{\"bgcolor\":\"white\",\"lakecolor\":\"white\",\"landcolor\":\"#E5ECF6\",\"showlakes\":true,\"showland\":true,\"subunitcolor\":\"white\"},\"hoverlabel\":{\"align\":\"left\"},\"hovermode\":\"closest\",\"mapbox\":{\"style\":\"light\"},\"paper_bgcolor\":\"white\",\"plot_bgcolor\":\"#E5ECF6\",\"polar\":{\"angularaxis\":{\"gridcolor\":\"white\",\"linecolor\":\"white\",\"ticks\":\"\"},\"bgcolor\":\"#E5ECF6\",\"radialaxis\":{\"gridcolor\":\"white\",\"linecolor\":\"white\",\"ticks\":\"\"}},\"scene\":{\"xaxis\":{\"backgroundcolor\":\"#E5ECF6\",\"gridcolor\":\"white\",\"gridwidth\":2,\"linecolor\":\"white\",\"showbackground\":true,\"ticks\":\"\",\"zerolinecolor\":\"white\"},\"yaxis\":{\"backgroundcolor\":\"#E5ECF6\",\"gridcolor\":\"white\",\"gridwidth\":2,\"linecolor\":\"white\",\"showbackground\":true,\"ticks\":\"\",\"zerolinecolor\":\"white\"},\"zaxis\":{\"backgroundcolor\":\"#E5ECF6\",\"gridcolor\":\"white\",\"gridwidth\":2,\"linecolor\":\"white\",\"showbackground\":true,\"ticks\":\"\",\"zerolinecolor\":\"white\"}},\"shapedefaults\":{\"line\":{\"color\":\"#2a3f5f\"}},\"ternary\":{\"aaxis\":{\"gridcolor\":\"white\",\"linecolor\":\"white\",\"ticks\":\"\"},\"baxis\":{\"gridcolor\":\"white\",\"linecolor\":\"white\",\"ticks\":\"\"},\"bgcolor\":\"#E5ECF6\",\"caxis\":{\"gridcolor\":\"white\",\"linecolor\":\"white\",\"ticks\":\"\"}},\"title\":{\"x\":0.05},\"xaxis\":{\"automargin\":true,\"gridcolor\":\"white\",\"linecolor\":\"white\",\"ticks\":\"\",\"title\":{\"standoff\":15},\"zerolinecolor\":\"white\",\"zerolinewidth\":2},\"yaxis\":{\"automargin\":true,\"gridcolor\":\"white\",\"linecolor\":\"white\",\"ticks\":\"\",\"title\":{\"standoff\":15},\"zerolinecolor\":\"white\",\"zerolinewidth\":2}}},\"legend\":{\"tracegroupgap\":0},\"title\":{\"text\":\"Event\"},\"piecolorway\":[\"blue\",\"light green\"]},                        {\"responsive\": true}                    ).then(function(){\n",
       "                            \n",
       "var gd = document.getElementById('f7662a27-1ca3-4f08-9bd6-1794ea287f4a');\n",
       "var x = new MutationObserver(function (mutations, observer) {{\n",
       "        var display = window.getComputedStyle(gd).display;\n",
       "        if (!display || display === 'none') {{\n",
       "            console.log([gd, 'removed!']);\n",
       "            Plotly.purge(gd);\n",
       "            observer.disconnect();\n",
       "        }}\n",
       "}});\n",
       "\n",
       "// Listen for the removal of the full notebook cells\n",
       "var notebookContainer = gd.closest('#notebook-container');\n",
       "if (notebookContainer) {{\n",
       "    x.observe(notebookContainer, {childList: true});\n",
       "}}\n",
       "\n",
       "// Listen for the clearing of the current output cell\n",
       "var outputEl = gd.closest('.output');\n",
       "if (outputEl) {{\n",
       "    x.observe(outputEl, {childList: true});\n",
       "}}\n",
       "\n",
       "                        })                };                });            </script>        </div>"
      ]
     },
     "metadata": {},
     "output_type": "display_data"
    }
   ],
   "source": [
    "event = df.event.value_counts().reset_index()\n",
    "event.columns = ['event', 'count']\n",
    "fig = px.pie(event, values='count', names='event', title='Event',\n",
    "             color_discrete_sequence=['blue', 'light green'])\n",
    "fig.show()"
   ]
  },
  {
   "cell_type": "markdown",
   "id": "e36a35db",
   "metadata": {
    "papermill": {
     "duration": 0.090437,
     "end_time": "2022-04-27T06:04:23.897790",
     "exception": false,
     "start_time": "2022-04-27T06:04:23.807353",
     "status": "completed"
    },
    "tags": []
   },
   "source": [
    "# **3. Segmentation**"
   ]
  },
  {
   "cell_type": "code",
   "execution_count": 39,
   "id": "c7d1f4e6",
   "metadata": {
    "execution": {
     "iopub.execute_input": "2022-04-27T06:04:24.084159Z",
     "iopub.status.busy": "2022-04-27T06:04:24.083101Z",
     "iopub.status.idle": "2022-04-27T06:04:24.275616Z",
     "shell.execute_reply": "2022-04-27T06:04:24.276506Z",
     "shell.execute_reply.started": "2022-04-27T05:06:50.509032Z"
    },
    "papermill": {
     "duration": 0.286359,
     "end_time": "2022-04-27T06:04:24.276739",
     "exception": false,
     "start_time": "2022-04-27T06:04:23.990380",
     "status": "completed"
    },
    "tags": []
   },
   "outputs": [
    {
     "data": {
      "text/html": [
       "<div>\n",
       "<style scoped>\n",
       "    .dataframe tbody tr th:only-of-type {\n",
       "        vertical-align: middle;\n",
       "    }\n",
       "\n",
       "    .dataframe tbody tr th {\n",
       "        vertical-align: top;\n",
       "    }\n",
       "\n",
       "    .dataframe thead th {\n",
       "        text-align: right;\n",
       "    }\n",
       "</style>\n",
       "<table border=\"1\" class=\"dataframe\">\n",
       "  <thead>\n",
       "    <tr style=\"text-align: right;\">\n",
       "      <th></th>\n",
       "      <th>gender</th>\n",
       "      <th>customer_id</th>\n",
       "      <th>year</th>\n",
       "      <th>month</th>\n",
       "      <th>day</th>\n",
       "      <th>membership_days</th>\n",
       "      <th>age_group</th>\n",
       "      <th>income_group</th>\n",
       "      <th>event</th>\n",
       "      <th>time_group</th>\n",
       "      <th>offer</th>\n",
       "      <th>id</th>\n",
       "      <th>amount</th>\n",
       "      <th>reward</th>\n",
       "      <th>channels</th>\n",
       "      <th>difficulty</th>\n",
       "      <th>duration</th>\n",
       "      <th>offer_type</th>\n",
       "    </tr>\n",
       "  </thead>\n",
       "  <tbody>\n",
       "    <tr>\n",
       "      <th>0</th>\n",
       "      <td>F</td>\n",
       "      <td>0610b486422d4921ae7d2bf64640c50b</td>\n",
       "      <td>2017</td>\n",
       "      <td>7</td>\n",
       "      <td>Saturday</td>\n",
       "      <td>1747</td>\n",
       "      <td>0</td>\n",
       "      <td>3</td>\n",
       "      <td>offer received</td>\n",
       "      <td>4</td>\n",
       "      <td>1</td>\n",
       "      <td>9b98b8c7a33c4b65b9aebfe6a799e6d9</td>\n",
       "      <td>NaN</td>\n",
       "      <td>5</td>\n",
       "      <td>['web', 'email', 'mobile']</td>\n",
       "      <td>5</td>\n",
       "      <td>7</td>\n",
       "      <td>bogo</td>\n",
       "    </tr>\n",
       "    <tr>\n",
       "      <th>1</th>\n",
       "      <td>F</td>\n",
       "      <td>0610b486422d4921ae7d2bf64640c50b</td>\n",
       "      <td>2017</td>\n",
       "      <td>7</td>\n",
       "      <td>Saturday</td>\n",
       "      <td>1747</td>\n",
       "      <td>0</td>\n",
       "      <td>3</td>\n",
       "      <td>offer completed</td>\n",
       "      <td>5</td>\n",
       "      <td>1</td>\n",
       "      <td>9b98b8c7a33c4b65b9aebfe6a799e6d9</td>\n",
       "      <td>NaN</td>\n",
       "      <td>5</td>\n",
       "      <td>['web', 'email', 'mobile']</td>\n",
       "      <td>5</td>\n",
       "      <td>7</td>\n",
       "      <td>bogo</td>\n",
       "    </tr>\n",
       "  </tbody>\n",
       "</table>\n",
       "</div>"
      ],
      "text/plain": [
       "  gender                       customer_id  year  month       day  \\\n",
       "0      F  0610b486422d4921ae7d2bf64640c50b  2017      7  Saturday   \n",
       "1      F  0610b486422d4921ae7d2bf64640c50b  2017      7  Saturday   \n",
       "\n",
       "   membership_days  age_group  income_group            event  time_group  \\\n",
       "0             1747          0             3   offer received           4   \n",
       "1             1747          0             3  offer completed           5   \n",
       "\n",
       "   offer                                id  amount  reward  \\\n",
       "0      1  9b98b8c7a33c4b65b9aebfe6a799e6d9     NaN       5   \n",
       "1      1  9b98b8c7a33c4b65b9aebfe6a799e6d9     NaN       5   \n",
       "\n",
       "                     channels  difficulty  duration offer_type  \n",
       "0  ['web', 'email', 'mobile']           5         7       bogo  \n",
       "1  ['web', 'email', 'mobile']           5         7       bogo  "
      ]
     },
     "execution_count": 39,
     "metadata": {},
     "output_type": "execute_result"
    }
   ],
   "source": [
    "df1 = pd.merge(df, portfolio, on='id')\n",
    "df1.head(2)"
   ]
  },
  {
   "cell_type": "code",
   "execution_count": 40,
   "id": "5d7ff78e",
   "metadata": {
    "execution": {
     "iopub.execute_input": "2022-04-27T06:04:24.472041Z",
     "iopub.status.busy": "2022-04-27T06:04:24.470888Z",
     "iopub.status.idle": "2022-04-27T06:04:24.591272Z",
     "shell.execute_reply": "2022-04-27T06:04:24.590397Z",
     "shell.execute_reply.started": "2022-04-27T05:06:50.678925Z"
    },
    "papermill": {
     "duration": 0.220518,
     "end_time": "2022-04-27T06:04:24.591442",
     "exception": false,
     "start_time": "2022-04-27T06:04:24.370924",
     "status": "completed"
    },
    "tags": []
   },
   "outputs": [],
   "source": [
    "from sklearn.preprocessing import LabelEncoder\n",
    "\n",
    "df1 = df1.copy(deep = True)\n",
    "le_type = LabelEncoder()\n",
    "df1['offer_type'] = le_type.fit_transform(df1['offer_type'])"
   ]
  },
  {
   "cell_type": "code",
   "execution_count": 41,
   "id": "6d6288ee",
   "metadata": {
    "execution": {
     "iopub.execute_input": "2022-04-27T06:04:24.782424Z",
     "iopub.status.busy": "2022-04-27T06:04:24.781750Z",
     "iopub.status.idle": "2022-04-27T06:04:24.906946Z",
     "shell.execute_reply": "2022-04-27T06:04:24.907528Z",
     "shell.execute_reply.started": "2022-04-27T05:06:50.787068Z"
    },
    "papermill": {
     "duration": 0.221294,
     "end_time": "2022-04-27T06:04:24.907719",
     "exception": false,
     "start_time": "2022-04-27T06:04:24.686425",
     "status": "completed"
    },
    "tags": []
   },
   "outputs": [],
   "source": [
    "from sklearn.preprocessing import LabelEncoder\n",
    "\n",
    "df1 = df1.copy(deep = True)\n",
    "le_id = LabelEncoder()\n",
    "df1['customer_id'] = le_id.fit_transform(df1['customer_id'])\n"
   ]
  },
  {
   "cell_type": "code",
   "execution_count": 42,
   "id": "5683e626",
   "metadata": {
    "execution": {
     "iopub.execute_input": "2022-04-27T06:04:25.095390Z",
     "iopub.status.busy": "2022-04-27T06:04:25.094682Z",
     "iopub.status.idle": "2022-04-27T06:04:25.191664Z",
     "shell.execute_reply": "2022-04-27T06:04:25.191097Z",
     "shell.execute_reply.started": "2022-04-27T05:06:50.938227Z"
    },
    "papermill": {
     "duration": 0.194477,
     "end_time": "2022-04-27T06:04:25.191832",
     "exception": false,
     "start_time": "2022-04-27T06:04:24.997355",
     "status": "completed"
    },
    "tags": []
   },
   "outputs": [],
   "source": [
    "from sklearn.preprocessing import LabelEncoder\n",
    "\n",
    "df1 = df1.copy(deep = True)\n",
    "le_id = LabelEncoder()\n",
    "df1['id'] = le_id.fit_transform(df1['id'])\n"
   ]
  },
  {
   "cell_type": "code",
   "execution_count": 43,
   "id": "4c2f47cb",
   "metadata": {
    "execution": {
     "iopub.execute_input": "2022-04-27T06:04:25.379278Z",
     "iopub.status.busy": "2022-04-27T06:04:25.378504Z",
     "iopub.status.idle": "2022-04-27T06:04:25.453073Z",
     "shell.execute_reply": "2022-04-27T06:04:25.452377Z",
     "shell.execute_reply.started": "2022-04-27T05:06:51.057732Z"
    },
    "papermill": {
     "duration": 0.172283,
     "end_time": "2022-04-27T06:04:25.453222",
     "exception": false,
     "start_time": "2022-04-27T06:04:25.280939",
     "status": "completed"
    },
    "tags": []
   },
   "outputs": [],
   "source": [
    "from sklearn.preprocessing import LabelEncoder\n",
    "\n",
    "df1 = df1.copy(deep = True)\n",
    "le_event = LabelEncoder()\n",
    "df1['event'] = le_event.fit_transform(df1['event'])\n"
   ]
  },
  {
   "cell_type": "code",
   "execution_count": 44,
   "id": "52cc3ee2",
   "metadata": {
    "execution": {
     "iopub.execute_input": "2022-04-27T06:04:25.649487Z",
     "iopub.status.busy": "2022-04-27T06:04:25.646906Z",
     "iopub.status.idle": "2022-04-27T06:04:25.722395Z",
     "shell.execute_reply": "2022-04-27T06:04:25.721804Z",
     "shell.execute_reply.started": "2022-04-27T05:06:51.212065Z"
    },
    "papermill": {
     "duration": 0.170873,
     "end_time": "2022-04-27T06:04:25.722541",
     "exception": false,
     "start_time": "2022-04-27T06:04:25.551668",
     "status": "completed"
    },
    "tags": []
   },
   "outputs": [],
   "source": [
    "from sklearn.preprocessing import LabelEncoder\n",
    "\n",
    "df1 = df1.copy(deep = True)\n",
    "le_gender = LabelEncoder()\n",
    "df1['gender'] = le_gender.fit_transform(df1['gender'])\n"
   ]
  },
  {
   "cell_type": "code",
   "execution_count": 45,
   "id": "6bb5971d",
   "metadata": {
    "execution": {
     "iopub.execute_input": "2022-04-27T06:04:25.913424Z",
     "iopub.status.busy": "2022-04-27T06:04:25.912284Z",
     "iopub.status.idle": "2022-04-27T06:04:25.937958Z",
     "shell.execute_reply": "2022-04-27T06:04:25.938432Z",
     "shell.execute_reply.started": "2022-04-27T05:06:51.360312Z"
    },
    "papermill": {
     "duration": 0.123564,
     "end_time": "2022-04-27T06:04:25.938637",
     "exception": false,
     "start_time": "2022-04-27T06:04:25.815073",
     "status": "completed"
    },
    "tags": []
   },
   "outputs": [],
   "source": [
    "X = np.array(df1[['gender', 'membership_days', 'age_group', 'income_group']]) \n",
    "y = np.array(df1[['event']])"
   ]
  },
  {
   "cell_type": "code",
   "execution_count": 46,
   "id": "7947c5bc",
   "metadata": {
    "execution": {
     "iopub.execute_input": "2022-04-27T06:04:26.128477Z",
     "iopub.status.busy": "2022-04-27T06:04:26.127439Z",
     "iopub.status.idle": "2022-04-27T06:04:26.148635Z",
     "shell.execute_reply": "2022-04-27T06:04:26.149111Z",
     "shell.execute_reply.started": "2022-04-27T05:06:51.527999Z"
    },
    "papermill": {
     "duration": 0.116888,
     "end_time": "2022-04-27T06:04:26.149293",
     "exception": false,
     "start_time": "2022-04-27T06:04:26.032405",
     "status": "completed"
    },
    "tags": []
   },
   "outputs": [],
   "source": [
    "#import train_test_split from sklearn to train and test our data\n",
    "from sklearn.model_selection import train_test_split\n",
    "\n",
    "#define\n",
    "X_train, X_test, y_train, y_test = train_test_split(X, y, test_size = 0.25, random_state = 0)\n",
    "#print\n",
    "#print(X_train[:5],'\\n', '\\n', y_train[:5],'\\n','\\n', X_test[:5],'\\n','\\n', y_test[:5])"
   ]
  },
  {
   "cell_type": "code",
   "execution_count": 47,
   "id": "9d5cd281",
   "metadata": {
    "execution": {
     "iopub.execute_input": "2022-04-27T06:04:26.337384Z",
     "iopub.status.busy": "2022-04-27T06:04:26.336287Z",
     "iopub.status.idle": "2022-04-27T06:04:42.452431Z",
     "shell.execute_reply": "2022-04-27T06:04:42.451825Z",
     "shell.execute_reply.started": "2022-04-27T05:06:51.717323Z"
    },
    "papermill": {
     "duration": 16.214132,
     "end_time": "2022-04-27T06:04:42.452582",
     "exception": false,
     "start_time": "2022-04-27T06:04:26.238450",
     "status": "completed"
    },
    "tags": []
   },
   "outputs": [
    {
     "name": "stdout",
     "output_type": "stream",
     "text": [
      "MAE for Linear Regression: 0.5902577096028646\n",
      "MAE for logistic Regression: 0.5526365323079405\n",
      "MAE for Random Forest: 0.6467905417290747\n",
      "MAE for Decsion Tree: 0.7765737180349028\n",
      "MAE for Naive Bayes: 0.5536314501599936\n"
     ]
    }
   ],
   "source": [
    "from sklearn import linear_model\n",
    "reg = linear_model.LinearRegression()\n",
    "reg.fit(X_train, y_train)\n",
    "y_pred0 = reg.predict(X_test)\n",
    "\n",
    "from sklearn.linear_model import LogisticRegression\n",
    "lg = LogisticRegression()\n",
    "lg.fit(X_train, y_train)\n",
    "y_pred1 = lg.predict(X_test)\n",
    "\n",
    "from sklearn.ensemble import RandomForestRegressor\n",
    "rf = RandomForestRegressor(n_estimators=100,max_features=None)\n",
    "rf.fit(X_train,y_train)\n",
    "y_pred2 = rf.predict(X_test) \n",
    "\n",
    "from sklearn import tree\n",
    "clf = tree.DecisionTreeClassifier()\n",
    "clf.fit(X_train,y_train)\n",
    "y_pred3 = clf.predict(X_test) \n",
    "\n",
    "from sklearn.naive_bayes import GaussianNB\n",
    "gnb = GaussianNB()\n",
    "gnb.fit(X_train,y_train)\n",
    "y_pred4 = gnb.predict(X_test) \n",
    "\n",
    "print(\"MAE for Linear Regression: \" + str(mean_absolute_error(y_test, y_pred0)))\n",
    "print(\"MAE for logistic Regression: \" + str(mean_absolute_error(y_test, y_pred1)))\n",
    "print(\"MAE for Random Forest: \" + str(mean_absolute_error(y_test, y_pred2)))\n",
    "print(\"MAE for Decsion Tree: \" + str(mean_absolute_error(y_test, y_pred3)))\n",
    "print(\"MAE for Naive Bayes: \" + str(mean_absolute_error(y_test, y_pred4)))"
   ]
  },
  {
   "cell_type": "code",
   "execution_count": 48,
   "id": "d0f36cf9",
   "metadata": {
    "execution": {
     "iopub.execute_input": "2022-04-27T06:04:42.681503Z",
     "iopub.status.busy": "2022-04-27T06:04:42.679852Z",
     "iopub.status.idle": "2022-04-27T06:04:42.851684Z",
     "shell.execute_reply": "2022-04-27T06:04:42.851009Z",
     "shell.execute_reply.started": "2022-04-27T05:07:07.325647Z"
    },
    "papermill": {
     "duration": 0.309152,
     "end_time": "2022-04-27T06:04:42.851830",
     "exception": false,
     "start_time": "2022-04-27T06:04:42.542678",
     "status": "completed"
    },
    "tags": []
   },
   "outputs": [],
   "source": [
    "transaction_df = df[df.event == 'transaction']\n",
    "offer_completed_df = df[df.event == 'offer completed']\n",
    "offer_viewed_df = df[df.event == 'offer viewed']\n",
    "offers_received_df = df[df.event == 'offer received']"
   ]
  },
  {
   "cell_type": "code",
   "execution_count": 49,
   "id": "7d305e9d",
   "metadata": {
    "execution": {
     "iopub.execute_input": "2022-04-27T06:04:43.039946Z",
     "iopub.status.busy": "2022-04-27T06:04:43.038513Z",
     "iopub.status.idle": "2022-04-27T06:04:43.096088Z",
     "shell.execute_reply": "2022-04-27T06:04:43.095442Z",
     "shell.execute_reply.started": "2022-04-27T05:07:07.453108Z"
    },
    "papermill": {
     "duration": 0.15437,
     "end_time": "2022-04-27T06:04:43.096234",
     "exception": false,
     "start_time": "2022-04-27T06:04:42.941864",
     "status": "completed"
    },
    "tags": []
   },
   "outputs": [],
   "source": [
    "users = df1.copy(deep = True) \n",
    "offers = df1.copy(deep = True)\n",
    "rewards = df1.copy(deep = True)\n",
    "users = df1.drop(['year','day', 'month', 'amount', 'offer','id', 'event', 'time_group', 'reward', 'channels', 'difficulty', 'duration'],axis=1)\n",
    "offers = df1.drop(['year','day', 'month', 'amount', 'event', 'customer_id', 'gender', 'age_group', 'income_group', 'time_group', 'reward',  'difficulty', 'duration'],axis=1)\n",
    "rewards = df1.drop(['year','day', 'month', 'amount', 'event', 'gender', 'age_group', 'income_group', 'time_group','membership_days',  'difficulty', 'duration'],axis=1)"
   ]
  },
  {
   "cell_type": "code",
   "execution_count": 50,
   "id": "7ecbd06e",
   "metadata": {
    "execution": {
     "iopub.execute_input": "2022-04-27T06:04:43.287057Z",
     "iopub.status.busy": "2022-04-27T06:04:43.286191Z",
     "iopub.status.idle": "2022-04-27T06:04:43.289695Z",
     "shell.execute_reply": "2022-04-27T06:04:43.290268Z",
     "shell.execute_reply.started": "2022-04-27T05:07:07.502569Z"
    },
    "papermill": {
     "duration": 0.104372,
     "end_time": "2022-04-27T06:04:43.290452",
     "exception": false,
     "start_time": "2022-04-27T06:04:43.186080",
     "status": "completed"
    },
    "tags": []
   },
   "outputs": [
    {
     "data": {
      "text/html": [
       "<div>\n",
       "<style scoped>\n",
       "    .dataframe tbody tr th:only-of-type {\n",
       "        vertical-align: middle;\n",
       "    }\n",
       "\n",
       "    .dataframe tbody tr th {\n",
       "        vertical-align: top;\n",
       "    }\n",
       "\n",
       "    .dataframe thead th {\n",
       "        text-align: right;\n",
       "    }\n",
       "</style>\n",
       "<table border=\"1\" class=\"dataframe\">\n",
       "  <thead>\n",
       "    <tr style=\"text-align: right;\">\n",
       "      <th></th>\n",
       "      <th>membership_days</th>\n",
       "      <th>offer</th>\n",
       "      <th>id</th>\n",
       "      <th>channels</th>\n",
       "      <th>offer_type</th>\n",
       "    </tr>\n",
       "  </thead>\n",
       "  <tbody>\n",
       "    <tr>\n",
       "      <th>0</th>\n",
       "      <td>1747</td>\n",
       "      <td>1</td>\n",
       "      <td>6</td>\n",
       "      <td>['web', 'email', 'mobile']</td>\n",
       "      <td>0</td>\n",
       "    </tr>\n",
       "    <tr>\n",
       "      <th>1</th>\n",
       "      <td>1747</td>\n",
       "      <td>1</td>\n",
       "      <td>6</td>\n",
       "      <td>['web', 'email', 'mobile']</td>\n",
       "      <td>0</td>\n",
       "    </tr>\n",
       "  </tbody>\n",
       "</table>\n",
       "</div>"
      ],
      "text/plain": [
       "   membership_days  offer  id                    channels  offer_type\n",
       "0             1747      1   6  ['web', 'email', 'mobile']           0\n",
       "1             1747      1   6  ['web', 'email', 'mobile']           0"
      ]
     },
     "execution_count": 50,
     "metadata": {},
     "output_type": "execute_result"
    }
   ],
   "source": [
    "offers.head(2)"
   ]
  },
  {
   "cell_type": "code",
   "execution_count": 51,
   "id": "c9e1bbb0",
   "metadata": {
    "execution": {
     "iopub.execute_input": "2022-04-27T06:04:43.482304Z",
     "iopub.status.busy": "2022-04-27T06:04:43.481490Z",
     "iopub.status.idle": "2022-04-27T06:04:43.485293Z",
     "shell.execute_reply": "2022-04-27T06:04:43.484758Z",
     "shell.execute_reply.started": "2022-04-27T05:07:07.513888Z"
    },
    "papermill": {
     "duration": 0.103446,
     "end_time": "2022-04-27T06:04:43.485431",
     "exception": false,
     "start_time": "2022-04-27T06:04:43.381985",
     "status": "completed"
    },
    "tags": []
   },
   "outputs": [
    {
     "data": {
      "text/html": [
       "<div>\n",
       "<style scoped>\n",
       "    .dataframe tbody tr th:only-of-type {\n",
       "        vertical-align: middle;\n",
       "    }\n",
       "\n",
       "    .dataframe tbody tr th {\n",
       "        vertical-align: top;\n",
       "    }\n",
       "\n",
       "    .dataframe thead th {\n",
       "        text-align: right;\n",
       "    }\n",
       "</style>\n",
       "<table border=\"1\" class=\"dataframe\">\n",
       "  <thead>\n",
       "    <tr style=\"text-align: right;\">\n",
       "      <th></th>\n",
       "      <th>gender</th>\n",
       "      <th>customer_id</th>\n",
       "      <th>membership_days</th>\n",
       "      <th>age_group</th>\n",
       "      <th>income_group</th>\n",
       "      <th>offer_type</th>\n",
       "    </tr>\n",
       "  </thead>\n",
       "  <tbody>\n",
       "    <tr>\n",
       "      <th>0</th>\n",
       "      <td>0</td>\n",
       "      <td>345</td>\n",
       "      <td>1747</td>\n",
       "      <td>0</td>\n",
       "      <td>3</td>\n",
       "      <td>0</td>\n",
       "    </tr>\n",
       "    <tr>\n",
       "      <th>1</th>\n",
       "      <td>0</td>\n",
       "      <td>345</td>\n",
       "      <td>1747</td>\n",
       "      <td>0</td>\n",
       "      <td>3</td>\n",
       "      <td>0</td>\n",
       "    </tr>\n",
       "  </tbody>\n",
       "</table>\n",
       "</div>"
      ],
      "text/plain": [
       "   gender  customer_id  membership_days  age_group  income_group  offer_type\n",
       "0       0          345             1747          0             3           0\n",
       "1       0          345             1747          0             3           0"
      ]
     },
     "execution_count": 51,
     "metadata": {},
     "output_type": "execute_result"
    }
   ],
   "source": [
    "users.head(2)"
   ]
  },
  {
   "cell_type": "code",
   "execution_count": 52,
   "id": "605e8074",
   "metadata": {
    "execution": {
     "iopub.execute_input": "2022-04-27T06:04:43.683718Z",
     "iopub.status.busy": "2022-04-27T06:04:43.682987Z",
     "iopub.status.idle": "2022-04-27T06:04:43.686321Z",
     "shell.execute_reply": "2022-04-27T06:04:43.685703Z",
     "shell.execute_reply.started": "2022-04-27T05:07:07.531741Z"
    },
    "papermill": {
     "duration": 0.104261,
     "end_time": "2022-04-27T06:04:43.686462",
     "exception": false,
     "start_time": "2022-04-27T06:04:43.582201",
     "status": "completed"
    },
    "tags": []
   },
   "outputs": [
    {
     "data": {
      "text/html": [
       "<div>\n",
       "<style scoped>\n",
       "    .dataframe tbody tr th:only-of-type {\n",
       "        vertical-align: middle;\n",
       "    }\n",
       "\n",
       "    .dataframe tbody tr th {\n",
       "        vertical-align: top;\n",
       "    }\n",
       "\n",
       "    .dataframe thead th {\n",
       "        text-align: right;\n",
       "    }\n",
       "</style>\n",
       "<table border=\"1\" class=\"dataframe\">\n",
       "  <thead>\n",
       "    <tr style=\"text-align: right;\">\n",
       "      <th></th>\n",
       "      <th>customer_id</th>\n",
       "      <th>offer</th>\n",
       "      <th>id</th>\n",
       "      <th>reward</th>\n",
       "      <th>channels</th>\n",
       "      <th>offer_type</th>\n",
       "    </tr>\n",
       "  </thead>\n",
       "  <tbody>\n",
       "    <tr>\n",
       "      <th>0</th>\n",
       "      <td>345</td>\n",
       "      <td>1</td>\n",
       "      <td>6</td>\n",
       "      <td>5</td>\n",
       "      <td>['web', 'email', 'mobile']</td>\n",
       "      <td>0</td>\n",
       "    </tr>\n",
       "    <tr>\n",
       "      <th>1</th>\n",
       "      <td>345</td>\n",
       "      <td>1</td>\n",
       "      <td>6</td>\n",
       "      <td>5</td>\n",
       "      <td>['web', 'email', 'mobile']</td>\n",
       "      <td>0</td>\n",
       "    </tr>\n",
       "  </tbody>\n",
       "</table>\n",
       "</div>"
      ],
      "text/plain": [
       "   customer_id  offer  id  reward                    channels  offer_type\n",
       "0          345      1   6       5  ['web', 'email', 'mobile']           0\n",
       "1          345      1   6       5  ['web', 'email', 'mobile']           0"
      ]
     },
     "execution_count": 52,
     "metadata": {},
     "output_type": "execute_result"
    }
   ],
   "source": [
    "rewards.head(2)"
   ]
  },
  {
   "cell_type": "markdown",
   "id": "0d010e9c",
   "metadata": {
    "papermill": {
     "duration": 0.090796,
     "end_time": "2022-04-27T06:04:43.869764",
     "exception": false,
     "start_time": "2022-04-27T06:04:43.778968",
     "status": "completed"
    },
    "tags": []
   },
   "source": [
    "# **4. Data Modelling**"
   ]
  },
  {
   "cell_type": "code",
   "execution_count": 53,
   "id": "f63a8bfc",
   "metadata": {
    "execution": {
     "iopub.execute_input": "2022-04-27T06:04:44.057478Z",
     "iopub.status.busy": "2022-04-27T06:04:44.056816Z",
     "iopub.status.idle": "2022-04-27T06:04:44.062908Z",
     "shell.execute_reply": "2022-04-27T06:04:44.062262Z",
     "shell.execute_reply.started": "2022-04-27T05:07:07.548759Z"
    },
    "papermill": {
     "duration": 0.102161,
     "end_time": "2022-04-27T06:04:44.063051",
     "exception": false,
     "start_time": "2022-04-27T06:04:43.960890",
     "status": "completed"
    },
    "tags": []
   },
   "outputs": [],
   "source": [
    "n_users = rewards.customer_id.unique().shape[0]\n",
    "n_offers = rewards.offer_type.unique().shape[0]\n",
    "n_items = rewards['offer_type'].max()"
   ]
  },
  {
   "cell_type": "code",
   "execution_count": 54,
   "id": "f8d385a3",
   "metadata": {
    "execution": {
     "iopub.execute_input": "2022-04-27T06:04:44.282540Z",
     "iopub.status.busy": "2022-04-27T06:04:44.248982Z",
     "iopub.status.idle": "2022-04-27T06:04:44.570040Z",
     "shell.execute_reply": "2022-04-27T06:04:44.569463Z",
     "shell.execute_reply.started": "2022-04-27T05:07:07.558898Z"
    },
    "papermill": {
     "duration": 0.414225,
     "end_time": "2022-04-27T06:04:44.570178",
     "exception": false,
     "start_time": "2022-04-27T06:04:44.155953",
     "status": "completed"
    },
    "tags": []
   },
   "outputs": [
    {
     "name": "stdout",
     "output_type": "stream",
     "text": [
      "Original rating matrix :  [[6. 0. 5.]\n",
      " [4. 9. 5.]\n",
      " [8. 1. 5.]\n",
      " ...\n",
      " [8. 0. 5.]\n",
      " [6. 0. 0.]\n",
      " [8. 9. 5.]]\n"
     ]
    }
   ],
   "source": [
    "\n",
    "A = np.zeros((n_users,n_offers))\n",
    "for line in rewards.itertuples():\n",
    "    A[line[1]-1,line[2]-1] = line[3]\n",
    "print(\"Original rating matrix : \",A)"
   ]
  },
  {
   "cell_type": "code",
   "execution_count": 55,
   "id": "d26456ef",
   "metadata": {
    "execution": {
     "iopub.execute_input": "2022-04-27T06:04:44.761958Z",
     "iopub.status.busy": "2022-04-27T06:04:44.760835Z",
     "iopub.status.idle": "2022-04-27T06:04:44.846261Z",
     "shell.execute_reply": "2022-04-27T06:04:44.845718Z",
     "shell.execute_reply.started": "2022-04-27T05:07:07.764408Z"
    },
    "papermill": {
     "duration": 0.18446,
     "end_time": "2022-04-27T06:04:44.846450",
     "exception": false,
     "start_time": "2022-04-27T06:04:44.661990",
     "status": "completed"
    },
    "tags": []
   },
   "outputs": [],
   "source": [
    "for i in range(len(A)):\n",
    "  for j in range(len(A[0])):\n",
    "    if A[i][j]>=3:\n",
    "      A[i][j]=1\n",
    "    else:\n",
    "      A[i][j]=0"
   ]
  },
  {
   "cell_type": "code",
   "execution_count": 56,
   "id": "d35b2c60",
   "metadata": {
    "execution": {
     "iopub.execute_input": "2022-04-27T06:04:45.038781Z",
     "iopub.status.busy": "2022-04-27T06:04:45.038078Z",
     "iopub.status.idle": "2022-04-27T06:04:45.045036Z",
     "shell.execute_reply": "2022-04-27T06:04:45.045526Z",
     "shell.execute_reply.started": "2022-04-27T05:07:07.821817Z"
    },
    "papermill": {
     "duration": 0.103854,
     "end_time": "2022-04-27T06:04:45.045750",
     "exception": false,
     "start_time": "2022-04-27T06:04:44.941896",
     "status": "completed"
    },
    "tags": []
   },
   "outputs": [
    {
     "name": "stdout",
     "output_type": "stream",
     "text": [
      "  (0, 0)\t1.0\n",
      "  (0, 2)\t1.0\n",
      "  (1, 0)\t1.0\n",
      "  (1, 1)\t1.0\n",
      "  (1, 2)\t1.0\n",
      "  (2, 0)\t1.0\n",
      "  (2, 2)\t1.0\n",
      "  (3, 2)\t1.0\n",
      "  (4, 2)\t1.0\n",
      "  (5, 0)\t1.0\n",
      "  (5, 1)\t1.0\n",
      "  (5, 2)\t1.0\n",
      "  (6, 0)\t1.0\n",
      "  (6, 1)\t1.0\n",
      "  (7, 0)\t1.0\n",
      "  (8, 0)\t1.0\n",
      "  (8, 2)\t1.0\n",
      "  (9, 0)\t1.0\n",
      "  (9, 2)\t1.0\n",
      "  (10, 0)\t1.0\n",
      "  (10, 2)\t1.0\n",
      "  (11, 0)\t1.0\n",
      "  (11, 2)\t1.0\n",
      "  (12, 0)\t1.0\n",
      "  (13, 0)\t1.0\n",
      "  :\t:\n",
      "  (14803, 0)\t1.0\n",
      "  (14803, 1)\t1.0\n",
      "  (14804, 0)\t1.0\n",
      "  (14804, 2)\t1.0\n",
      "  (14805, 0)\t1.0\n",
      "  (14805, 2)\t1.0\n",
      "  (14806, 0)\t1.0\n",
      "  (14807, 0)\t1.0\n",
      "  (14807, 2)\t1.0\n",
      "  (14808, 0)\t1.0\n",
      "  (14808, 1)\t1.0\n",
      "  (14809, 0)\t1.0\n",
      "  (14809, 1)\t1.0\n",
      "  (14809, 2)\t1.0\n",
      "  (14810, 0)\t1.0\n",
      "  (14810, 1)\t1.0\n",
      "  (14811, 0)\t1.0\n",
      "  (14811, 1)\t1.0\n",
      "  (14811, 2)\t1.0\n",
      "  (14812, 0)\t1.0\n",
      "  (14812, 2)\t1.0\n",
      "  (14813, 0)\t1.0\n",
      "  (14814, 0)\t1.0\n",
      "  (14814, 1)\t1.0\n",
      "  (14814, 2)\t1.0\n"
     ]
    }
   ],
   "source": [
    "csr_sample = csr_matrix(A)\n",
    "print(csr_sample)"
   ]
  },
  {
   "cell_type": "code",
   "execution_count": 57,
   "id": "540ddf0f",
   "metadata": {
    "execution": {
     "iopub.execute_input": "2022-04-27T06:04:45.239813Z",
     "iopub.status.busy": "2022-04-27T06:04:45.239120Z",
     "iopub.status.idle": "2022-04-27T06:04:45.246633Z",
     "shell.execute_reply": "2022-04-27T06:04:45.247170Z",
     "shell.execute_reply.started": "2022-04-27T05:07:07.830117Z"
    },
    "papermill": {
     "duration": 0.10768,
     "end_time": "2022-04-27T06:04:45.247343",
     "exception": false,
     "start_time": "2022-04-27T06:04:45.139663",
     "status": "completed"
    },
    "tags": []
   },
   "outputs": [
    {
     "data": {
      "text/plain": [
       "NearestNeighbors(algorithm='brute', metric='cosine', n_jobs=-1, n_neighbors=3)"
      ]
     },
     "execution_count": 57,
     "metadata": {},
     "output_type": "execute_result"
    }
   ],
   "source": [
    "knn = NearestNeighbors(metric='cosine', algorithm='brute', n_neighbors=3, n_jobs=-1)\n",
    "knn.fit(csr_sample)"
   ]
  },
  {
   "cell_type": "code",
   "execution_count": 58,
   "id": "09a2ad4b",
   "metadata": {
    "execution": {
     "iopub.execute_input": "2022-04-27T06:04:45.437388Z",
     "iopub.status.busy": "2022-04-27T06:04:45.436350Z",
     "iopub.status.idle": "2022-04-27T06:04:45.467428Z",
     "shell.execute_reply": "2022-04-27T06:04:45.467909Z",
     "shell.execute_reply.started": "2022-04-27T05:07:54.950909Z"
    },
    "papermill": {
     "duration": 0.128022,
     "end_time": "2022-04-27T06:04:45.468111",
     "exception": false,
     "start_time": "2022-04-27T06:04:45.340089",
     "status": "completed"
    },
    "tags": []
   },
   "outputs": [
    {
     "name": "stdout",
     "output_type": "stream",
     "text": [
      "Offers received by user:  [5, 5, 6, 3, 3, 0, 1, 0, 1, 0, 6, 6, 1]\n"
     ]
    }
   ],
   "source": [
    "dataset_sort_des = rewards.sort_values(['customer_id'], ascending=[True])\n",
    "filter1 = dataset_sort_des[dataset_sort_des['customer_id'] == 1].id\n",
    "filter1 = filter1.tolist()\n",
    "filter1 = filter1[:20]\n",
    "print(\"Offers received by user: \",filter1)"
   ]
  },
  {
   "cell_type": "code",
   "execution_count": 59,
   "id": "d07fb851",
   "metadata": {
    "execution": {
     "iopub.execute_input": "2022-04-27T06:04:45.662908Z",
     "iopub.status.busy": "2022-04-27T06:04:45.661950Z",
     "iopub.status.idle": "2022-04-27T06:04:47.024132Z",
     "shell.execute_reply": "2022-04-27T06:04:47.024950Z",
     "shell.execute_reply.started": "2022-04-27T05:07:57.258419Z"
    },
    "papermill": {
     "duration": 1.460238,
     "end_time": "2022-04-27T06:04:47.025340",
     "exception": false,
     "start_time": "2022-04-27T06:04:45.565102",
     "status": "completed"
    },
    "tags": []
   },
   "outputs": [
    {
     "name": "stdout",
     "output_type": "stream",
     "text": [
      "Offers to be recommended:  [5, 23, 5, 23, 22, 27, 4, 31, 4, 31, 2, 8, 5, 23, 2, 8, 5, 23, 2, 8, 22, 27, 22, 27, 5, 23]\n"
     ]
    }
   ],
   "source": [
    "distances1=[]\n",
    "indices1=[]\n",
    "for i in filter1:\n",
    "  distances , indices = knn.kneighbors(csr_sample[i],n_neighbors=3)\n",
    "  indices = indices.flatten()\n",
    "  indices= indices[1:]\n",
    "  indices1.extend(indices)\n",
    "print(\"Offers to be recommended: \",indices1)"
   ]
  },
  {
   "cell_type": "code",
   "execution_count": 60,
   "id": "2de30e1a",
   "metadata": {
    "execution": {
     "iopub.execute_input": "2022-04-27T06:04:47.221744Z",
     "iopub.status.busy": "2022-04-27T06:04:47.220772Z",
     "iopub.status.idle": "2022-04-27T06:04:47.238139Z",
     "shell.execute_reply": "2022-04-27T06:04:47.237389Z",
     "shell.execute_reply.started": "2022-04-27T05:10:23.842338Z"
    },
    "papermill": {
     "duration": 0.114505,
     "end_time": "2022-04-27T06:04:47.238340",
     "exception": false,
     "start_time": "2022-04-27T06:04:47.123835",
     "status": "completed"
    },
    "tags": []
   },
   "outputs": [
    {
     "name": "stdout",
     "output_type": "stream",
     "text": [
      "Types of offers received by user:  [5, 5, 6, 3, 3, 0, 1, 0, 1, 0, 6, 6, 1]\n"
     ]
    }
   ],
   "source": [
    "dataset_sort_des = rewards.sort_values(['offer_type'], ascending=[True])\n",
    "filter2 = dataset_sort_des[dataset_sort_des['customer_id'] == 1].offer_type\n",
    "filter2 = filter2.tolist()\n",
    "filter2 = filter2[:20]\n",
    "print(\"Types of offers received by user: \",filter1)"
   ]
  },
  {
   "cell_type": "code",
   "execution_count": 61,
   "id": "c401f9a1",
   "metadata": {
    "execution": {
     "iopub.execute_input": "2022-04-27T06:04:47.429403Z",
     "iopub.status.busy": "2022-04-27T06:04:47.428367Z",
     "iopub.status.idle": "2022-04-27T06:04:48.783131Z",
     "shell.execute_reply": "2022-04-27T06:04:48.783717Z",
     "shell.execute_reply.started": "2022-04-27T05:10:26.650601Z"
    },
    "papermill": {
     "duration": 1.451016,
     "end_time": "2022-04-27T06:04:48.783909",
     "exception": false,
     "start_time": "2022-04-27T06:04:47.332893",
     "status": "completed"
    },
    "tags": []
   },
   "outputs": [
    {
     "name": "stdout",
     "output_type": "stream",
     "text": [
      "Types of offers to be recommended:  [2, 8, 2, 8, 2, 8, 5, 23, 5, 23, 5, 23, 5, 23, 5, 23, 5, 23, 2, 8, 2, 8, 2, 8, 2, 8]\n"
     ]
    }
   ],
   "source": [
    "distances1=[]\n",
    "indices1=[]\n",
    "for i in filter2:\n",
    "  distances , indices = knn.kneighbors(csr_sample[i],n_neighbors=3)\n",
    "  indices = indices.flatten()\n",
    "  indices= indices[1:]\n",
    "  indices1.extend(indices)\n",
    "print(\"Types of offers to be recommended: \",indices1)"
   ]
  },
  {
   "cell_type": "code",
   "execution_count": null,
   "id": "a5a236b0",
   "metadata": {
    "papermill": {
     "duration": 0.09775,
     "end_time": "2022-04-27T06:04:48.987541",
     "exception": false,
     "start_time": "2022-04-27T06:04:48.889791",
     "status": "completed"
    },
    "tags": []
   },
   "outputs": [],
   "source": []
  },
  {
   "cell_type": "markdown",
   "id": "04e9fe23",
   "metadata": {
    "papermill": {
     "duration": 0.101172,
     "end_time": "2022-04-27T06:04:49.186161",
     "exception": false,
     "start_time": "2022-04-27T06:04:49.084989",
     "status": "completed"
    },
    "tags": []
   },
   "source": [
    "# **5. Conclusion**"
   ]
  },
  {
   "cell_type": "markdown",
   "id": "75134fff",
   "metadata": {
    "papermill": {
     "duration": 0.098262,
     "end_time": "2022-04-27T06:04:49.383737",
     "exception": false,
     "start_time": "2022-04-27T06:04:49.285475",
     "status": "completed"
    },
    "tags": []
   },
   "source": [
    "1. The above datasets can be used for targeted advertising.\n",
    "2. After performing proper filtering the dataset attributes helps in making appropriate recoomendations.\n",
    "3. The customer behavior and similarities between customers helps in making recommendations.\n",
    "4. Knn algorithm works fine for offer based recommendation.\n",
    "5. In personalized marketing item based or user based collborative filtering method is useful."
   ]
  },
  {
   "cell_type": "code",
   "execution_count": 62,
   "id": "29c6d9d6",
   "metadata": {
    "execution": {
     "iopub.execute_input": "2022-04-27T06:04:49.597539Z",
     "iopub.status.busy": "2022-04-27T06:04:49.596465Z",
     "iopub.status.idle": "2022-04-27T06:04:49.601837Z",
     "shell.execute_reply": "2022-04-27T06:04:49.602580Z",
     "shell.execute_reply.started": "2022-04-27T05:07:09.247534Z"
    },
    "papermill": {
     "duration": 0.121643,
     "end_time": "2022-04-27T06:04:49.602837",
     "exception": false,
     "start_time": "2022-04-27T06:04:49.481194",
     "status": "completed"
    },
    "tags": []
   },
   "outputs": [],
   "source": [
    "n_users = rewards.customer_id.unique().shape[0]\n",
    "n_items = rewards.offer_type.unique().shape[0]"
   ]
  },
  {
   "cell_type": "code",
   "execution_count": 63,
   "id": "473e2c0a",
   "metadata": {
    "execution": {
     "iopub.execute_input": "2022-04-27T06:04:49.806776Z",
     "iopub.status.busy": "2022-04-27T06:04:49.806010Z",
     "iopub.status.idle": "2022-04-27T06:04:50.129071Z",
     "shell.execute_reply": "2022-04-27T06:04:50.128432Z",
     "shell.execute_reply.started": "2022-04-27T05:07:09.24899Z"
    },
    "papermill": {
     "duration": 0.423242,
     "end_time": "2022-04-27T06:04:50.129217",
     "exception": false,
     "start_time": "2022-04-27T06:04:49.705975",
     "status": "completed"
    },
    "tags": []
   },
   "outputs": [],
   "source": [
    "data_matrix = np.zeros((n_users, n_items))\n",
    "for line in rewards.itertuples():\n",
    "    data_matrix[line[1]-1, line[2]-1] = line[3]"
   ]
  },
  {
   "cell_type": "code",
   "execution_count": 64,
   "id": "f80f36c0",
   "metadata": {
    "execution": {
     "iopub.execute_input": "2022-04-27T06:04:50.328365Z",
     "iopub.status.busy": "2022-04-27T06:04:50.326659Z",
     "iopub.status.idle": "2022-04-27T06:04:52.379270Z",
     "shell.execute_reply": "2022-04-27T06:04:52.378655Z",
     "shell.execute_reply.started": "2022-04-27T05:07:09.250506Z"
    },
    "papermill": {
     "duration": 2.154088,
     "end_time": "2022-04-27T06:04:52.379444",
     "exception": false,
     "start_time": "2022-04-27T06:04:50.225356",
     "status": "completed"
    },
    "tags": []
   },
   "outputs": [],
   "source": [
    "from sklearn.metrics.pairwise import pairwise_distances \n",
    "user_similarity = pairwise_distances(data_matrix, metric='cosine')\n",
    "item_similarity = pairwise_distances(data_matrix.T, metric='cosine')"
   ]
  },
  {
   "cell_type": "code",
   "execution_count": 65,
   "id": "20ff7461",
   "metadata": {
    "execution": {
     "iopub.execute_input": "2022-04-27T06:04:52.576360Z",
     "iopub.status.busy": "2022-04-27T06:04:52.575708Z",
     "iopub.status.idle": "2022-04-27T06:04:52.577055Z",
     "shell.execute_reply": "2022-04-27T06:04:52.577659Z",
     "shell.execute_reply.started": "2022-04-27T05:07:09.251774Z"
    },
    "papermill": {
     "duration": 0.104665,
     "end_time": "2022-04-27T06:04:52.577829",
     "exception": false,
     "start_time": "2022-04-27T06:04:52.473164",
     "status": "completed"
    },
    "tags": []
   },
   "outputs": [],
   "source": [
    "def predict(rewards, similarity, type='user'):\n",
    "    \n",
    "    if type == 'user':\n",
    "        mean_user_reward = rewards.mean(axis=1).reshape(-1,1)\n",
    "        #We use np.newaxis so that mean_user_rating has same format as ratings\n",
    "        \n",
    "        rewards_diff = (rewards - mean_user_reward)\n",
    "        pred = mean_user_reward + similarity.dot(rewards_diff) / np.array([np.abs(similarity).sum(axis=1)]).T\n",
    "    \n",
    "    elif type == 'item':\n",
    "        pred = rewards.dot(similarity) / np.array([np.abs(similarity).sum(axis=1)])\n",
    "    \n",
    "    return pred"
   ]
  },
  {
   "cell_type": "code",
   "execution_count": 66,
   "id": "e353425f",
   "metadata": {
    "execution": {
     "iopub.execute_input": "2022-04-27T06:04:52.776632Z",
     "iopub.status.busy": "2022-04-27T06:04:52.775946Z",
     "iopub.status.idle": "2022-04-27T06:04:53.953040Z",
     "shell.execute_reply": "2022-04-27T06:04:53.952486Z",
     "shell.execute_reply.started": "2022-04-27T05:07:09.253597Z"
    },
    "papermill": {
     "duration": 1.278432,
     "end_time": "2022-04-27T06:04:53.953186",
     "exception": false,
     "start_time": "2022-04-27T06:04:52.674754",
     "status": "completed"
    },
    "tags": []
   },
   "outputs": [],
   "source": [
    "user_prediction = predict(data_matrix, user_similarity, type='user')\n",
    "item_prediction = predict(data_matrix, item_similarity, type='item')"
   ]
  },
  {
   "cell_type": "code",
   "execution_count": 67,
   "id": "b07d5129",
   "metadata": {
    "execution": {
     "iopub.execute_input": "2022-04-27T06:04:54.149122Z",
     "iopub.status.busy": "2022-04-27T06:04:54.148287Z",
     "iopub.status.idle": "2022-04-27T06:04:54.152177Z",
     "shell.execute_reply": "2022-04-27T06:04:54.151522Z",
     "shell.execute_reply.started": "2022-04-27T05:07:09.254865Z"
    },
    "papermill": {
     "duration": 0.103815,
     "end_time": "2022-04-27T06:04:54.152313",
     "exception": false,
     "start_time": "2022-04-27T06:04:54.048498",
     "status": "completed"
    },
    "tags": []
   },
   "outputs": [
    {
     "data": {
      "text/plain": [
       "array([[4.56238895, 4.25227952, 2.18533153],\n",
       "       [8.52527945, 3.95052362, 5.52419694],\n",
       "       [5.09996423, 5.24753785, 3.65249791],\n",
       "       ...,\n",
       "       [4.71078886, 5.09172784, 3.1974833 ],\n",
       "       [1.90352413, 1.86998339, 2.22649248],\n",
       "       [9.33609765, 5.50363109, 7.16027126]])"
      ]
     },
     "execution_count": 67,
     "metadata": {},
     "output_type": "execute_result"
    }
   ],
   "source": [
    "user_prediction"
   ]
  },
  {
   "cell_type": "code",
   "execution_count": 68,
   "id": "a589c38e",
   "metadata": {
    "execution": {
     "iopub.execute_input": "2022-04-27T06:04:54.349735Z",
     "iopub.status.busy": "2022-04-27T06:04:54.349073Z",
     "iopub.status.idle": "2022-04-27T06:04:54.354573Z",
     "shell.execute_reply": "2022-04-27T06:04:54.354030Z",
     "shell.execute_reply.started": "2022-04-27T05:07:09.256041Z"
    },
    "papermill": {
     "duration": 0.105345,
     "end_time": "2022-04-27T06:04:54.354737",
     "exception": false,
     "start_time": "2022-04-27T06:04:54.249392",
     "status": "completed"
    },
    "tags": []
   },
   "outputs": [
    {
     "data": {
      "text/plain": [
       "array([[1.8867105 , 5.47221523, 2.10948359],\n",
       "       [7.4906316 , 4.52778477, 7.24209701],\n",
       "       [2.5093684 , 6.4166457 , 3.46106419],\n",
       "       ...,\n",
       "       [1.8867105 , 6.4166457 , 2.81264479],\n",
       "       [0.        , 2.83329139, 2.10948359],\n",
       "       [7.4906316 , 6.4166457 , 8.6484194 ]])"
      ]
     },
     "execution_count": 68,
     "metadata": {},
     "output_type": "execute_result"
    }
   ],
   "source": [
    "item_prediction"
   ]
  },
  {
   "cell_type": "code",
   "execution_count": null,
   "id": "cbf4b3b1",
   "metadata": {
    "papermill": {
     "duration": 0.094864,
     "end_time": "2022-04-27T06:04:54.546681",
     "exception": false,
     "start_time": "2022-04-27T06:04:54.451817",
     "status": "completed"
    },
    "tags": []
   },
   "outputs": [],
   "source": []
  },
  {
   "cell_type": "code",
   "execution_count": null,
   "id": "880f30e0",
   "metadata": {
    "papermill": {
     "duration": 0.096505,
     "end_time": "2022-04-27T06:04:54.740060",
     "exception": false,
     "start_time": "2022-04-27T06:04:54.643555",
     "status": "completed"
    },
    "tags": []
   },
   "outputs": [],
   "source": []
  },
  {
   "cell_type": "code",
   "execution_count": null,
   "id": "8fd10678",
   "metadata": {
    "papermill": {
     "duration": 0.094959,
     "end_time": "2022-04-27T06:04:54.929975",
     "exception": false,
     "start_time": "2022-04-27T06:04:54.835016",
     "status": "completed"
    },
    "tags": []
   },
   "outputs": [],
   "source": []
  },
  {
   "cell_type": "code",
   "execution_count": null,
   "id": "c07cbcdd",
   "metadata": {
    "papermill": {
     "duration": 0.09506,
     "end_time": "2022-04-27T06:04:55.121581",
     "exception": false,
     "start_time": "2022-04-27T06:04:55.026521",
     "status": "completed"
    },
    "tags": []
   },
   "outputs": [],
   "source": []
  },
  {
   "cell_type": "code",
   "execution_count": null,
   "id": "03c65414",
   "metadata": {
    "papermill": {
     "duration": 0.093517,
     "end_time": "2022-04-27T06:04:55.309803",
     "exception": false,
     "start_time": "2022-04-27T06:04:55.216286",
     "status": "completed"
    },
    "tags": []
   },
   "outputs": [],
   "source": []
  }
 ],
 "metadata": {
  "kernelspec": {
   "display_name": "Python 3",
   "language": "python",
   "name": "python3"
  },
  "language_info": {
   "codemirror_mode": {
    "name": "ipython",
    "version": 3
   },
   "file_extension": ".py",
   "mimetype": "text/x-python",
   "name": "python",
   "nbconvert_exporter": "python",
   "pygments_lexer": "ipython3",
   "version": "3.7.12"
  },
  "papermill": {
   "default_parameters": {},
   "duration": 60.643381,
   "end_time": "2022-04-27T06:04:56.314802",
   "environment_variables": {},
   "exception": null,
   "input_path": "__notebook__.ipynb",
   "output_path": "__notebook__.ipynb",
   "parameters": {},
   "start_time": "2022-04-27T06:03:55.671421",
   "version": "2.3.3"
  }
 },
 "nbformat": 4,
 "nbformat_minor": 5
}
