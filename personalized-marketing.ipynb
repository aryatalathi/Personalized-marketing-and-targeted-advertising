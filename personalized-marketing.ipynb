{
 "cells": [
  {
   "cell_type": "raw",
   "id": "c1dbe041",
   "metadata": {
    "papermill": {
     "duration": 0.070671,
     "end_time": "2022-04-20T03:45:02.898124",
     "exception": false,
     "start_time": "2022-04-20T03:45:02.827453",
     "status": "completed"
    },
    "tags": []
   },
   "source": []
  },
  {
   "cell_type": "code",
   "execution_count": 1,
   "id": "16f2e8b8",
   "metadata": {
    "_cell_guid": "b1076dfc-b9ad-4769-8c92-a6c4dae69d19",
    "_uuid": "8f2839f25d086af736a60e9eeb907d3b93b6e0e5",
    "execution": {
     "iopub.execute_input": "2022-04-20T03:45:03.040467Z",
     "iopub.status.busy": "2022-04-20T03:45:03.036032Z",
     "iopub.status.idle": "2022-04-20T03:45:03.052915Z",
     "shell.execute_reply": "2022-04-20T03:45:03.053572Z",
     "shell.execute_reply.started": "2022-04-20T03:41:19.843496Z"
    },
    "papermill": {
     "duration": 0.090441,
     "end_time": "2022-04-20T03:45:03.053888",
     "exception": false,
     "start_time": "2022-04-20T03:45:02.963447",
     "status": "completed"
    },
    "tags": []
   },
   "outputs": [
    {
     "name": "stdout",
     "output_type": "stream",
     "text": [
      "/kaggle/input/starbucks-customer-data/transcript.csv\n",
      "/kaggle/input/starbucks-customer-data/profile.csv\n",
      "/kaggle/input/starbucks-customer-data/portfolio.csv\n"
     ]
    }
   ],
   "source": [
    "# This Python 3 environment comes with many helpful analytics libraries installed\n",
    "# It is defined by the kaggle/python Docker image: https://github.com/kaggle/docker-python\n",
    "# For example, here's several helpful packages to load\n",
    "\n",
    "import numpy as np # linear algebra\n",
    "import pandas as pd # data processing, CSV file I/O (e.g. pd.read_csv)\n",
    "\n",
    "# Input data files are available in the read-only \"../input/\" directory\n",
    "# For example, running this (by clicking run or pressing Shift+Enter) will list all files under the input directory\n",
    "\n",
    "import os\n",
    "for dirname, _, filenames in os.walk('/kaggle/input'):\n",
    "    for filename in filenames:\n",
    "        print(os.path.join(dirname, filename))\n",
    "\n",
    "# You can write up to 20GB to the current directory (/kaggle/working/) that gets preserved as output when you create a version using \"Save & Run All\" \n",
    "# You can also write temporary files to /kaggle/temp/, but they won't be saved outside of the current session"
   ]
  },
  {
   "cell_type": "code",
   "execution_count": 2,
   "id": "635a0fff",
   "metadata": {
    "execution": {
     "iopub.execute_input": "2022-04-20T03:45:03.189079Z",
     "iopub.status.busy": "2022-04-20T03:45:03.188314Z",
     "iopub.status.idle": "2022-04-20T03:45:05.682463Z",
     "shell.execute_reply": "2022-04-20T03:45:05.681846Z",
     "shell.execute_reply.started": "2022-04-20T03:41:20.031085Z"
    },
    "papermill": {
     "duration": 2.565271,
     "end_time": "2022-04-20T03:45:05.682647",
     "exception": false,
     "start_time": "2022-04-20T03:45:03.117376",
     "status": "completed"
    },
    "tags": []
   },
   "outputs": [],
   "source": [
    "import matplotlib.pyplot as plt\n",
    "import seaborn as sns\n",
    "from scipy.sparse import csr_matrix\n",
    "from sklearn.neighbors import NearestNeighbors\n",
    "import plotly as py\n",
    "import plotly.express as px\n",
    "import plotly.graph_objs as go\n",
    "from plotly.subplots import make_subplots\n",
    "from plotly.offline import init_notebook_mode, iplot, plot\n",
    "import math\n",
    "from math import sqrt\n",
    "\n",
    "import warnings \n",
    "warnings.filterwarnings('ignore')\n",
    "%matplotlib inline"
   ]
  },
  {
   "cell_type": "code",
   "execution_count": 3,
   "id": "011f4aca",
   "metadata": {
    "execution": {
     "iopub.execute_input": "2022-04-20T03:45:05.812838Z",
     "iopub.status.busy": "2022-04-20T03:45:05.812131Z",
     "iopub.status.idle": "2022-04-20T03:45:06.432538Z",
     "shell.execute_reply": "2022-04-20T03:45:06.430967Z",
     "shell.execute_reply.started": "2022-04-20T03:41:20.268260Z"
    },
    "papermill": {
     "duration": 0.687308,
     "end_time": "2022-04-20T03:45:06.432702",
     "exception": false,
     "start_time": "2022-04-20T03:45:05.745394",
     "status": "completed"
    },
    "tags": []
   },
   "outputs": [],
   "source": [
    "portfolio = pd.read_csv('../input/starbucks-customer-data/portfolio.csv')\n",
    "profile = pd.read_csv('../input/starbucks-customer-data/profile.csv')\n",
    "transcript = pd.read_csv('../input/starbucks-customer-data/transcript.csv')"
   ]
  },
  {
   "cell_type": "code",
   "execution_count": 4,
   "id": "b6f5383b",
   "metadata": {
    "execution": {
     "iopub.execute_input": "2022-04-20T03:45:06.566775Z",
     "iopub.status.busy": "2022-04-20T03:45:06.566081Z",
     "iopub.status.idle": "2022-04-20T03:45:06.831018Z",
     "shell.execute_reply": "2022-04-20T03:45:06.831605Z",
     "shell.execute_reply.started": "2022-04-20T03:41:20.636879Z"
    },
    "papermill": {
     "duration": 0.334324,
     "end_time": "2022-04-20T03:45:06.831826",
     "exception": false,
     "start_time": "2022-04-20T03:45:06.497502",
     "status": "completed"
    },
    "tags": []
   },
   "outputs": [
    {
     "name": "stdout",
     "output_type": "stream",
     "text": [
      "<class 'pandas.core.frame.DataFrame'>\n",
      "RangeIndex: 10 entries, 0 to 9\n",
      "Data columns (total 7 columns):\n",
      " #   Column      Non-Null Count  Dtype \n",
      "---  ------      --------------  ----- \n",
      " 0   Unnamed: 0  10 non-null     int64 \n",
      " 1   reward      10 non-null     int64 \n",
      " 2   channels    10 non-null     object\n",
      " 3   difficulty  10 non-null     int64 \n",
      " 4   duration    10 non-null     int64 \n",
      " 5   offer_type  10 non-null     object\n",
      " 6   id          10 non-null     object\n",
      "dtypes: int64(4), object(3)\n",
      "memory usage: 688.0+ bytes\n",
      "<class 'pandas.core.frame.DataFrame'>\n",
      "RangeIndex: 17000 entries, 0 to 16999\n",
      "Data columns (total 6 columns):\n",
      " #   Column            Non-Null Count  Dtype  \n",
      "---  ------            --------------  -----  \n",
      " 0   Unnamed: 0        17000 non-null  int64  \n",
      " 1   gender            14825 non-null  object \n",
      " 2   age               17000 non-null  int64  \n",
      " 3   id                17000 non-null  object \n",
      " 4   became_member_on  17000 non-null  int64  \n",
      " 5   income            14825 non-null  float64\n",
      "dtypes: float64(1), int64(3), object(2)\n",
      "memory usage: 797.0+ KB\n",
      "<class 'pandas.core.frame.DataFrame'>\n",
      "RangeIndex: 306534 entries, 0 to 306533\n",
      "Data columns (total 5 columns):\n",
      " #   Column      Non-Null Count   Dtype \n",
      "---  ------      --------------   ----- \n",
      " 0   Unnamed: 0  306534 non-null  int64 \n",
      " 1   person      306534 non-null  object\n",
      " 2   event       306534 non-null  object\n",
      " 3   value       306534 non-null  object\n",
      " 4   time        306534 non-null  int64 \n",
      "dtypes: int64(2), object(3)\n",
      "memory usage: 11.7+ MB\n"
     ]
    }
   ],
   "source": [
    "portfolio.info()\n",
    "profile.info()\n",
    "transcript.info()"
   ]
  },
  {
   "cell_type": "code",
   "execution_count": 5,
   "id": "5e75908e",
   "metadata": {
    "execution": {
     "iopub.execute_input": "2022-04-20T03:45:06.980538Z",
     "iopub.status.busy": "2022-04-20T03:45:06.979674Z",
     "iopub.status.idle": "2022-04-20T03:45:06.988341Z",
     "shell.execute_reply": "2022-04-20T03:45:06.988877Z",
     "shell.execute_reply.started": "2022-04-20T03:41:20.768700Z"
    },
    "papermill": {
     "duration": 0.089687,
     "end_time": "2022-04-20T03:45:06.989072",
     "exception": false,
     "start_time": "2022-04-20T03:45:06.899385",
     "status": "completed"
    },
    "tags": []
   },
   "outputs": [
    {
     "data": {
      "text/plain": [
       "Unnamed: 0    0\n",
       "reward        0\n",
       "channels      0\n",
       "difficulty    0\n",
       "duration      0\n",
       "offer_type    0\n",
       "id            0\n",
       "dtype: int64"
      ]
     },
     "execution_count": 5,
     "metadata": {},
     "output_type": "execute_result"
    }
   ],
   "source": [
    "portfolio.isnull().sum()"
   ]
  },
  {
   "cell_type": "code",
   "execution_count": 6,
   "id": "92071587",
   "metadata": {
    "execution": {
     "iopub.execute_input": "2022-04-20T03:45:07.135602Z",
     "iopub.status.busy": "2022-04-20T03:45:07.134838Z",
     "iopub.status.idle": "2022-04-20T03:45:07.140368Z",
     "shell.execute_reply": "2022-04-20T03:45:07.140864Z",
     "shell.execute_reply.started": "2022-04-20T03:41:20.970423Z"
    },
    "papermill": {
     "duration": 0.083023,
     "end_time": "2022-04-20T03:45:07.141065",
     "exception": false,
     "start_time": "2022-04-20T03:45:07.058042",
     "status": "completed"
    },
    "tags": []
   },
   "outputs": [
    {
     "data": {
      "text/plain": [
       "Unnamed: 0             0\n",
       "gender              2175\n",
       "age                    0\n",
       "id                     0\n",
       "became_member_on       0\n",
       "income              2175\n",
       "dtype: int64"
      ]
     },
     "execution_count": 6,
     "metadata": {},
     "output_type": "execute_result"
    }
   ],
   "source": [
    "profile.isnull().sum()"
   ]
  },
  {
   "cell_type": "code",
   "execution_count": 7,
   "id": "aa4495c2",
   "metadata": {
    "execution": {
     "iopub.execute_input": "2022-04-20T03:45:07.290033Z",
     "iopub.status.busy": "2022-04-20T03:45:07.289251Z",
     "iopub.status.idle": "2022-04-20T03:45:07.395100Z",
     "shell.execute_reply": "2022-04-20T03:45:07.395629Z",
     "shell.execute_reply.started": "2022-04-20T03:41:21.218974Z"
    },
    "papermill": {
     "duration": 0.183069,
     "end_time": "2022-04-20T03:45:07.395830",
     "exception": false,
     "start_time": "2022-04-20T03:45:07.212761",
     "status": "completed"
    },
    "tags": []
   },
   "outputs": [
    {
     "data": {
      "text/plain": [
       "Unnamed: 0    0\n",
       "person        0\n",
       "event         0\n",
       "value         0\n",
       "time          0\n",
       "dtype: int64"
      ]
     },
     "execution_count": 7,
     "metadata": {},
     "output_type": "execute_result"
    }
   ],
   "source": [
    "transcript.isnull().sum()"
   ]
  },
  {
   "cell_type": "code",
   "execution_count": 8,
   "id": "679f6055",
   "metadata": {
    "execution": {
     "iopub.execute_input": "2022-04-20T03:45:07.541614Z",
     "iopub.status.busy": "2022-04-20T03:45:07.538417Z",
     "iopub.status.idle": "2022-04-20T03:45:07.561491Z",
     "shell.execute_reply": "2022-04-20T03:45:07.562064Z",
     "shell.execute_reply.started": "2022-04-20T03:41:21.461419Z"
    },
    "papermill": {
     "duration": 0.09884,
     "end_time": "2022-04-20T03:45:07.562285",
     "exception": false,
     "start_time": "2022-04-20T03:45:07.463445",
     "status": "completed"
    },
    "tags": []
   },
   "outputs": [],
   "source": [
    "profile.drop('Unnamed: 0', axis=1, inplace=True)\n",
    "transcript.drop('Unnamed: 0', axis=1, inplace=True)\n",
    "portfolio.drop('Unnamed: 0', axis=1, inplace=True)"
   ]
  },
  {
   "cell_type": "code",
   "execution_count": 9,
   "id": "79d4975b",
   "metadata": {
    "execution": {
     "iopub.execute_input": "2022-04-20T03:45:07.710470Z",
     "iopub.status.busy": "2022-04-20T03:45:07.705490Z",
     "iopub.status.idle": "2022-04-20T03:45:07.713691Z",
     "shell.execute_reply": "2022-04-20T03:45:07.712997Z",
     "shell.execute_reply.started": "2022-04-20T03:41:21.716052Z"
    },
    "papermill": {
     "duration": 0.079867,
     "end_time": "2022-04-20T03:45:07.713861",
     "exception": false,
     "start_time": "2022-04-20T03:45:07.633994",
     "status": "completed"
    },
    "tags": []
   },
   "outputs": [],
   "source": [
    "profile['gender'].fillna(\"O\", inplace=True)"
   ]
  },
  {
   "cell_type": "code",
   "execution_count": 10,
   "id": "7fcc2ebd",
   "metadata": {
    "execution": {
     "iopub.execute_input": "2022-04-20T03:45:07.857168Z",
     "iopub.status.busy": "2022-04-20T03:45:07.856099Z",
     "iopub.status.idle": "2022-04-20T03:45:07.864236Z",
     "shell.execute_reply": "2022-04-20T03:45:07.864747Z",
     "shell.execute_reply.started": "2022-04-20T03:41:21.904950Z"
    },
    "papermill": {
     "duration": 0.082063,
     "end_time": "2022-04-20T03:45:07.864950",
     "exception": false,
     "start_time": "2022-04-20T03:45:07.782887",
     "status": "completed"
    },
    "tags": []
   },
   "outputs": [
    {
     "data": {
      "text/plain": [
       "O    2175\n",
       "Name: gender, dtype: int64"
      ]
     },
     "execution_count": 10,
     "metadata": {},
     "output_type": "execute_result"
    }
   ],
   "source": [
    "profile[profile['age']==118]['gender'].value_counts()"
   ]
  },
  {
   "cell_type": "code",
   "execution_count": 11,
   "id": "ae2c3ba5",
   "metadata": {
    "execution": {
     "iopub.execute_input": "2022-04-20T03:45:08.018902Z",
     "iopub.status.busy": "2022-04-20T03:45:08.014700Z",
     "iopub.status.idle": "2022-04-20T03:45:08.032442Z",
     "shell.execute_reply": "2022-04-20T03:45:08.032954Z",
     "shell.execute_reply.started": "2022-04-20T03:41:22.094076Z"
    },
    "papermill": {
     "duration": 0.095601,
     "end_time": "2022-04-20T03:45:08.033147",
     "exception": false,
     "start_time": "2022-04-20T03:45:07.937546",
     "status": "completed"
    },
    "tags": []
   },
   "outputs": [
    {
     "data": {
      "text/plain": [
       "gender              0\n",
       "age                 0\n",
       "id                  0\n",
       "became_member_on    0\n",
       "income              0\n",
       "dtype: int64"
      ]
     },
     "execution_count": 11,
     "metadata": {},
     "output_type": "execute_result"
    }
   ],
   "source": [
    "profile.drop(profile.index[(profile['age'] < 119) & (profile['age'] > 100)], inplace = True)\n",
    "profile.isnull().sum()"
   ]
  },
  {
   "cell_type": "code",
   "execution_count": 12,
   "id": "649e8678",
   "metadata": {
    "execution": {
     "iopub.execute_input": "2022-04-20T03:45:08.168988Z",
     "iopub.status.busy": "2022-04-20T03:45:08.168043Z",
     "iopub.status.idle": "2022-04-20T03:45:09.205244Z",
     "shell.execute_reply": "2022-04-20T03:45:09.205710Z",
     "shell.execute_reply.started": "2022-04-20T03:41:22.318094Z"
    },
    "papermill": {
     "duration": 1.106256,
     "end_time": "2022-04-20T03:45:09.205917",
     "exception": false,
     "start_time": "2022-04-20T03:45:08.099661",
     "status": "completed"
    },
    "tags": []
   },
   "outputs": [
    {
     "data": {
      "text/html": [
       "        <script type=\"text/javascript\">\n",
       "        window.PlotlyConfig = {MathJaxConfig: 'local'};\n",
       "        if (window.MathJax) {MathJax.Hub.Config({SVG: {font: \"STIX-Web\"}});}\n",
       "        if (typeof require !== 'undefined') {\n",
       "        require.undef(\"plotly\");\n",
       "        requirejs.config({\n",
       "            paths: {\n",
       "                'plotly': ['https://cdn.plot.ly/plotly-2.9.0.min']\n",
       "            }\n",
       "        });\n",
       "        require(['plotly'], function(Plotly) {\n",
       "            window._Plotly = Plotly;\n",
       "        });\n",
       "        }\n",
       "        </script>\n",
       "        "
      ]
     },
     "metadata": {},
     "output_type": "display_data"
    },
    {
     "data": {
      "text/html": [
       "<div>                            <div id=\"04a21199-f42a-4a55-9bc8-294a0503b44e\" class=\"plotly-graph-div\" style=\"height:525px; width:100%;\"></div>            <script type=\"text/javascript\">                require([\"plotly\"], function(Plotly) {                    window.PLOTLYENV=window.PLOTLYENV || {};                                    if (document.getElementById(\"04a21199-f42a-4a55-9bc8-294a0503b44e\")) {                    Plotly.newPlot(                        \"04a21199-f42a-4a55-9bc8-294a0503b44e\",                        [{\"domain\":{\"x\":[0.0,1.0],\"y\":[0.0,1.0]},\"hovertemplate\":\"gender=%{label}<br>count=%{value}<extra></extra>\",\"labels\":[\"M\",\"F\",\"O\"],\"legendgroup\":\"\",\"name\":\"\",\"showlegend\":true,\"values\":[8484,6124,212],\"type\":\"pie\"}],                        {\"template\":{\"data\":{\"bar\":[{\"error_x\":{\"color\":\"#2a3f5f\"},\"error_y\":{\"color\":\"#2a3f5f\"},\"marker\":{\"line\":{\"color\":\"#E5ECF6\",\"width\":0.5},\"pattern\":{\"fillmode\":\"overlay\",\"size\":10,\"solidity\":0.2}},\"type\":\"bar\"}],\"barpolar\":[{\"marker\":{\"line\":{\"color\":\"#E5ECF6\",\"width\":0.5},\"pattern\":{\"fillmode\":\"overlay\",\"size\":10,\"solidity\":0.2}},\"type\":\"barpolar\"}],\"carpet\":[{\"aaxis\":{\"endlinecolor\":\"#2a3f5f\",\"gridcolor\":\"white\",\"linecolor\":\"white\",\"minorgridcolor\":\"white\",\"startlinecolor\":\"#2a3f5f\"},\"baxis\":{\"endlinecolor\":\"#2a3f5f\",\"gridcolor\":\"white\",\"linecolor\":\"white\",\"minorgridcolor\":\"white\",\"startlinecolor\":\"#2a3f5f\"},\"type\":\"carpet\"}],\"choropleth\":[{\"colorbar\":{\"outlinewidth\":0,\"ticks\":\"\"},\"type\":\"choropleth\"}],\"contour\":[{\"colorbar\":{\"outlinewidth\":0,\"ticks\":\"\"},\"colorscale\":[[0.0,\"#0d0887\"],[0.1111111111111111,\"#46039f\"],[0.2222222222222222,\"#7201a8\"],[0.3333333333333333,\"#9c179e\"],[0.4444444444444444,\"#bd3786\"],[0.5555555555555556,\"#d8576b\"],[0.6666666666666666,\"#ed7953\"],[0.7777777777777778,\"#fb9f3a\"],[0.8888888888888888,\"#fdca26\"],[1.0,\"#f0f921\"]],\"type\":\"contour\"}],\"contourcarpet\":[{\"colorbar\":{\"outlinewidth\":0,\"ticks\":\"\"},\"type\":\"contourcarpet\"}],\"heatmap\":[{\"colorbar\":{\"outlinewidth\":0,\"ticks\":\"\"},\"colorscale\":[[0.0,\"#0d0887\"],[0.1111111111111111,\"#46039f\"],[0.2222222222222222,\"#7201a8\"],[0.3333333333333333,\"#9c179e\"],[0.4444444444444444,\"#bd3786\"],[0.5555555555555556,\"#d8576b\"],[0.6666666666666666,\"#ed7953\"],[0.7777777777777778,\"#fb9f3a\"],[0.8888888888888888,\"#fdca26\"],[1.0,\"#f0f921\"]],\"type\":\"heatmap\"}],\"heatmapgl\":[{\"colorbar\":{\"outlinewidth\":0,\"ticks\":\"\"},\"colorscale\":[[0.0,\"#0d0887\"],[0.1111111111111111,\"#46039f\"],[0.2222222222222222,\"#7201a8\"],[0.3333333333333333,\"#9c179e\"],[0.4444444444444444,\"#bd3786\"],[0.5555555555555556,\"#d8576b\"],[0.6666666666666666,\"#ed7953\"],[0.7777777777777778,\"#fb9f3a\"],[0.8888888888888888,\"#fdca26\"],[1.0,\"#f0f921\"]],\"type\":\"heatmapgl\"}],\"histogram\":[{\"marker\":{\"pattern\":{\"fillmode\":\"overlay\",\"size\":10,\"solidity\":0.2}},\"type\":\"histogram\"}],\"histogram2d\":[{\"colorbar\":{\"outlinewidth\":0,\"ticks\":\"\"},\"colorscale\":[[0.0,\"#0d0887\"],[0.1111111111111111,\"#46039f\"],[0.2222222222222222,\"#7201a8\"],[0.3333333333333333,\"#9c179e\"],[0.4444444444444444,\"#bd3786\"],[0.5555555555555556,\"#d8576b\"],[0.6666666666666666,\"#ed7953\"],[0.7777777777777778,\"#fb9f3a\"],[0.8888888888888888,\"#fdca26\"],[1.0,\"#f0f921\"]],\"type\":\"histogram2d\"}],\"histogram2dcontour\":[{\"colorbar\":{\"outlinewidth\":0,\"ticks\":\"\"},\"colorscale\":[[0.0,\"#0d0887\"],[0.1111111111111111,\"#46039f\"],[0.2222222222222222,\"#7201a8\"],[0.3333333333333333,\"#9c179e\"],[0.4444444444444444,\"#bd3786\"],[0.5555555555555556,\"#d8576b\"],[0.6666666666666666,\"#ed7953\"],[0.7777777777777778,\"#fb9f3a\"],[0.8888888888888888,\"#fdca26\"],[1.0,\"#f0f921\"]],\"type\":\"histogram2dcontour\"}],\"mesh3d\":[{\"colorbar\":{\"outlinewidth\":0,\"ticks\":\"\"},\"type\":\"mesh3d\"}],\"parcoords\":[{\"line\":{\"colorbar\":{\"outlinewidth\":0,\"ticks\":\"\"}},\"type\":\"parcoords\"}],\"pie\":[{\"automargin\":true,\"type\":\"pie\"}],\"scatter\":[{\"marker\":{\"colorbar\":{\"outlinewidth\":0,\"ticks\":\"\"}},\"type\":\"scatter\"}],\"scatter3d\":[{\"line\":{\"colorbar\":{\"outlinewidth\":0,\"ticks\":\"\"}},\"marker\":{\"colorbar\":{\"outlinewidth\":0,\"ticks\":\"\"}},\"type\":\"scatter3d\"}],\"scattercarpet\":[{\"marker\":{\"colorbar\":{\"outlinewidth\":0,\"ticks\":\"\"}},\"type\":\"scattercarpet\"}],\"scattergeo\":[{\"marker\":{\"colorbar\":{\"outlinewidth\":0,\"ticks\":\"\"}},\"type\":\"scattergeo\"}],\"scattergl\":[{\"marker\":{\"colorbar\":{\"outlinewidth\":0,\"ticks\":\"\"}},\"type\":\"scattergl\"}],\"scattermapbox\":[{\"marker\":{\"colorbar\":{\"outlinewidth\":0,\"ticks\":\"\"}},\"type\":\"scattermapbox\"}],\"scatterpolar\":[{\"marker\":{\"colorbar\":{\"outlinewidth\":0,\"ticks\":\"\"}},\"type\":\"scatterpolar\"}],\"scatterpolargl\":[{\"marker\":{\"colorbar\":{\"outlinewidth\":0,\"ticks\":\"\"}},\"type\":\"scatterpolargl\"}],\"scatterternary\":[{\"marker\":{\"colorbar\":{\"outlinewidth\":0,\"ticks\":\"\"}},\"type\":\"scatterternary\"}],\"surface\":[{\"colorbar\":{\"outlinewidth\":0,\"ticks\":\"\"},\"colorscale\":[[0.0,\"#0d0887\"],[0.1111111111111111,\"#46039f\"],[0.2222222222222222,\"#7201a8\"],[0.3333333333333333,\"#9c179e\"],[0.4444444444444444,\"#bd3786\"],[0.5555555555555556,\"#d8576b\"],[0.6666666666666666,\"#ed7953\"],[0.7777777777777778,\"#fb9f3a\"],[0.8888888888888888,\"#fdca26\"],[1.0,\"#f0f921\"]],\"type\":\"surface\"}],\"table\":[{\"cells\":{\"fill\":{\"color\":\"#EBF0F8\"},\"line\":{\"color\":\"white\"}},\"header\":{\"fill\":{\"color\":\"#C8D4E3\"},\"line\":{\"color\":\"white\"}},\"type\":\"table\"}]},\"layout\":{\"annotationdefaults\":{\"arrowcolor\":\"#2a3f5f\",\"arrowhead\":0,\"arrowwidth\":1},\"autotypenumbers\":\"strict\",\"coloraxis\":{\"colorbar\":{\"outlinewidth\":0,\"ticks\":\"\"}},\"colorscale\":{\"diverging\":[[0,\"#8e0152\"],[0.1,\"#c51b7d\"],[0.2,\"#de77ae\"],[0.3,\"#f1b6da\"],[0.4,\"#fde0ef\"],[0.5,\"#f7f7f7\"],[0.6,\"#e6f5d0\"],[0.7,\"#b8e186\"],[0.8,\"#7fbc41\"],[0.9,\"#4d9221\"],[1,\"#276419\"]],\"sequential\":[[0.0,\"#0d0887\"],[0.1111111111111111,\"#46039f\"],[0.2222222222222222,\"#7201a8\"],[0.3333333333333333,\"#9c179e\"],[0.4444444444444444,\"#bd3786\"],[0.5555555555555556,\"#d8576b\"],[0.6666666666666666,\"#ed7953\"],[0.7777777777777778,\"#fb9f3a\"],[0.8888888888888888,\"#fdca26\"],[1.0,\"#f0f921\"]],\"sequentialminus\":[[0.0,\"#0d0887\"],[0.1111111111111111,\"#46039f\"],[0.2222222222222222,\"#7201a8\"],[0.3333333333333333,\"#9c179e\"],[0.4444444444444444,\"#bd3786\"],[0.5555555555555556,\"#d8576b\"],[0.6666666666666666,\"#ed7953\"],[0.7777777777777778,\"#fb9f3a\"],[0.8888888888888888,\"#fdca26\"],[1.0,\"#f0f921\"]]},\"colorway\":[\"#636efa\",\"#EF553B\",\"#00cc96\",\"#ab63fa\",\"#FFA15A\",\"#19d3f3\",\"#FF6692\",\"#B6E880\",\"#FF97FF\",\"#FECB52\"],\"font\":{\"color\":\"#2a3f5f\"},\"geo\":{\"bgcolor\":\"white\",\"lakecolor\":\"white\",\"landcolor\":\"#E5ECF6\",\"showlakes\":true,\"showland\":true,\"subunitcolor\":\"white\"},\"hoverlabel\":{\"align\":\"left\"},\"hovermode\":\"closest\",\"mapbox\":{\"style\":\"light\"},\"paper_bgcolor\":\"white\",\"plot_bgcolor\":\"#E5ECF6\",\"polar\":{\"angularaxis\":{\"gridcolor\":\"white\",\"linecolor\":\"white\",\"ticks\":\"\"},\"bgcolor\":\"#E5ECF6\",\"radialaxis\":{\"gridcolor\":\"white\",\"linecolor\":\"white\",\"ticks\":\"\"}},\"scene\":{\"xaxis\":{\"backgroundcolor\":\"#E5ECF6\",\"gridcolor\":\"white\",\"gridwidth\":2,\"linecolor\":\"white\",\"showbackground\":true,\"ticks\":\"\",\"zerolinecolor\":\"white\"},\"yaxis\":{\"backgroundcolor\":\"#E5ECF6\",\"gridcolor\":\"white\",\"gridwidth\":2,\"linecolor\":\"white\",\"showbackground\":true,\"ticks\":\"\",\"zerolinecolor\":\"white\"},\"zaxis\":{\"backgroundcolor\":\"#E5ECF6\",\"gridcolor\":\"white\",\"gridwidth\":2,\"linecolor\":\"white\",\"showbackground\":true,\"ticks\":\"\",\"zerolinecolor\":\"white\"}},\"shapedefaults\":{\"line\":{\"color\":\"#2a3f5f\"}},\"ternary\":{\"aaxis\":{\"gridcolor\":\"white\",\"linecolor\":\"white\",\"ticks\":\"\"},\"baxis\":{\"gridcolor\":\"white\",\"linecolor\":\"white\",\"ticks\":\"\"},\"bgcolor\":\"#E5ECF6\",\"caxis\":{\"gridcolor\":\"white\",\"linecolor\":\"white\",\"ticks\":\"\"}},\"title\":{\"x\":0.05},\"xaxis\":{\"automargin\":true,\"gridcolor\":\"white\",\"linecolor\":\"white\",\"ticks\":\"\",\"title\":{\"standoff\":15},\"zerolinecolor\":\"white\",\"zerolinewidth\":2},\"yaxis\":{\"automargin\":true,\"gridcolor\":\"white\",\"linecolor\":\"white\",\"ticks\":\"\",\"title\":{\"standoff\":15},\"zerolinecolor\":\"white\",\"zerolinewidth\":2}}},\"legend\":{\"tracegroupgap\":0},\"title\":{\"text\":\"Gender\"},\"piecolorway\":[\"blue\",\"light green\"]},                        {\"responsive\": true}                    ).then(function(){\n",
       "                            \n",
       "var gd = document.getElementById('04a21199-f42a-4a55-9bc8-294a0503b44e');\n",
       "var x = new MutationObserver(function (mutations, observer) {{\n",
       "        var display = window.getComputedStyle(gd).display;\n",
       "        if (!display || display === 'none') {{\n",
       "            console.log([gd, 'removed!']);\n",
       "            Plotly.purge(gd);\n",
       "            observer.disconnect();\n",
       "        }}\n",
       "}});\n",
       "\n",
       "// Listen for the removal of the full notebook cells\n",
       "var notebookContainer = gd.closest('#notebook-container');\n",
       "if (notebookContainer) {{\n",
       "    x.observe(notebookContainer, {childList: true});\n",
       "}}\n",
       "\n",
       "// Listen for the clearing of the current output cell\n",
       "var outputEl = gd.closest('.output');\n",
       "if (outputEl) {{\n",
       "    x.observe(outputEl, {childList: true});\n",
       "}}\n",
       "\n",
       "                        })                };                });            </script>        </div>"
      ]
     },
     "metadata": {},
     "output_type": "display_data"
    }
   ],
   "source": [
    "gender_profile = profile.gender.value_counts().reset_index()\n",
    "gender_profile.columns = ['gender', 'count']\n",
    "fig = px.pie(gender_profile, values='count', names='gender', title='Gender',\n",
    "             color_discrete_sequence=['blue', 'light green'])\n",
    "fig.show()"
   ]
  },
  {
   "cell_type": "code",
   "execution_count": 13,
   "id": "856aded3",
   "metadata": {
    "execution": {
     "iopub.execute_input": "2022-04-20T03:45:09.355302Z",
     "iopub.status.busy": "2022-04-20T03:45:09.354618Z",
     "iopub.status.idle": "2022-04-20T03:45:09.554255Z",
     "shell.execute_reply": "2022-04-20T03:45:09.553573Z",
     "shell.execute_reply.started": "2022-04-20T03:41:22.546717Z"
    },
    "papermill": {
     "duration": 0.277639,
     "end_time": "2022-04-20T03:45:09.554412",
     "exception": false,
     "start_time": "2022-04-20T03:45:09.276773",
     "status": "completed"
    },
    "tags": []
   },
   "outputs": [
    {
     "data": {
      "text/plain": [
       "<AxesSubplot:xlabel='income'>"
      ]
     },
     "execution_count": 13,
     "metadata": {},
     "output_type": "execute_result"
    },
    {
     "data": {
      "image/png": "[encoded data removed]",
      "text/plain": [
       "<Figure size 432x288 with 1 Axes>"
      ]
     },
     "metadata": {
      "needs_background": "light"
     },
     "output_type": "display_data"
    }
   ],
   "source": [
    "sns.boxplot(data=profile, x='income')"
   ]
  },
  {
   "cell_type": "code",
   "execution_count": 14,
   "id": "550ac637",
   "metadata": {
    "execution": {
     "iopub.execute_input": "2022-04-20T03:45:09.705767Z",
     "iopub.status.busy": "2022-04-20T03:45:09.704739Z",
     "iopub.status.idle": "2022-04-20T03:45:09.753275Z",
     "shell.execute_reply": "2022-04-20T03:45:09.753796Z",
     "shell.execute_reply.started": "2022-04-20T03:41:22.743006Z"
    },
    "papermill": {
     "duration": 0.127019,
     "end_time": "2022-04-20T03:45:09.753976",
     "exception": false,
     "start_time": "2022-04-20T03:45:09.626957",
     "status": "completed"
    },
    "tags": []
   },
   "outputs": [
    {
     "data": {
      "text/plain": [
       "1    2017-07-15\n",
       "3    2017-05-09\n",
       "5    2018-04-26\n",
       "8    2018-02-09\n",
       "12   2017-11-11\n",
       "Name: became_member_on, dtype: datetime64[ns]"
      ]
     },
     "execution_count": 14,
     "metadata": {},
     "output_type": "execute_result"
    }
   ],
   "source": [
    "profile['became_member_on'] = pd.to_datetime(profile['became_member_on'].astype(str), format='%Y%m%d')\n",
    "profile['became_member_on'].head()"
   ]
  },
  {
   "cell_type": "code",
   "execution_count": 15,
   "id": "32e8e9c5",
   "metadata": {
    "execution": {
     "iopub.execute_input": "2022-04-20T03:45:09.910023Z",
     "iopub.status.busy": "2022-04-20T03:45:09.909310Z",
     "iopub.status.idle": "2022-04-20T03:45:09.925889Z",
     "shell.execute_reply": "2022-04-20T03:45:09.925145Z",
     "shell.execute_reply.started": "2022-04-20T03:41:22.941870Z"
    },
    "papermill": {
     "duration": 0.098783,
     "end_time": "2022-04-20T03:45:09.926050",
     "exception": false,
     "start_time": "2022-04-20T03:45:09.827267",
     "status": "completed"
    },
    "tags": []
   },
   "outputs": [],
   "source": [
    "profile['year'] = profile['became_member_on'].dt.year\n",
    "profile['month'] = profile['became_member_on'].dt.month\n",
    "profile['day']=profile['became_member_on'].dt.day_name()\n",
    "profile['membership_days'] = (pd.to_datetime('today') - profile['became_member_on']).astype('timedelta64[D]').astype(int)"
   ]
  },
  {
   "cell_type": "code",
   "execution_count": 16,
   "id": "06410a04",
   "metadata": {
    "execution": {
     "iopub.execute_input": "2022-04-20T03:45:10.084685Z",
     "iopub.status.busy": "2022-04-20T03:45:10.083444Z",
     "iopub.status.idle": "2022-04-20T03:45:10.293705Z",
     "shell.execute_reply": "2022-04-20T03:45:10.294267Z",
     "shell.execute_reply.started": "2022-04-20T03:41:23.115105Z"
    },
    "papermill": {
     "duration": 0.290152,
     "end_time": "2022-04-20T03:45:10.294473",
     "exception": false,
     "start_time": "2022-04-20T03:45:10.004321",
     "status": "completed"
    },
    "tags": []
   },
   "outputs": [
    {
     "data": {
      "text/plain": [
       "Text(0, 0.5, 'income')"
      ]
     },
     "execution_count": 16,
     "metadata": {},
     "output_type": "execute_result"
    },
    {
     "data": {
      "image/png": "[encoded data removed]",
      "text/plain": [
       "<Figure size 432x288 with 1 Axes>"
      ]
     },
     "metadata": {
      "needs_background": "light"
     },
     "output_type": "display_data"
    }
   ],
   "source": [
    "profile.groupby('gender').sum()['income'].plot(kind='bar')\n",
    "plt.title('Total income per gender')\n",
    "plt.ylabel('income')"
   ]
  },
  {
   "cell_type": "code",
   "execution_count": 17,
   "id": "78ff56b8",
   "metadata": {
    "execution": {
     "iopub.execute_input": "2022-04-20T03:45:10.458383Z",
     "iopub.status.busy": "2022-04-20T03:45:10.452739Z",
     "iopub.status.idle": "2022-04-20T03:45:10.461746Z",
     "shell.execute_reply": "2022-04-20T03:45:10.462392Z",
     "shell.execute_reply.started": "2022-04-20T03:41:23.361509Z"
    },
    "papermill": {
     "duration": 0.092274,
     "end_time": "2022-04-20T03:45:10.462595",
     "exception": false,
     "start_time": "2022-04-20T03:45:10.370321",
     "status": "completed"
    },
    "tags": []
   },
   "outputs": [
    {
     "data": {
      "text/plain": [
       "1        Middle-age(40-59)\n",
       "3              Old(60-100)\n",
       "5              Old(60-100)\n",
       "8              Old(60-100)\n",
       "12       Middle-age(40-59)\n",
       "               ...        \n",
       "16995    Middle-age(40-59)\n",
       "16996          Old(60-100)\n",
       "16997    Middle-age(40-59)\n",
       "16998          Old(60-100)\n",
       "16999          Old(60-100)\n",
       "Name: age_group, Length: 14820, dtype: category\n",
       "Categories (4, object): ['Teenage(0-19)' < 'Young(20-39)' < 'Middle-age(40-59)' < 'Old(60-100)']"
      ]
     },
     "execution_count": 17,
     "metadata": {},
     "output_type": "execute_result"
    }
   ],
   "source": [
    "profile['age_group'] = pd.cut(x=profile['age'], bins=[18, 20, 40, 60, 101],\n",
    "                    labels=['Teenage(0-19)', 'Young(20-39)','Middle-age(40-59)',\n",
    "                            'Old(60-100)'], include_lowest=True)\n",
    "profile['age_group']"
   ]
  },
  {
   "cell_type": "code",
   "execution_count": 18,
   "id": "2e0adadc",
   "metadata": {
    "execution": {
     "iopub.execute_input": "2022-04-20T03:45:10.618128Z",
     "iopub.status.busy": "2022-04-20T03:45:10.617446Z",
     "iopub.status.idle": "2022-04-20T03:45:10.642976Z",
     "shell.execute_reply": "2022-04-20T03:45:10.643649Z",
     "shell.execute_reply.started": "2022-04-20T03:41:23.542955Z"
    },
    "papermill": {
     "duration": 0.107229,
     "end_time": "2022-04-20T03:45:10.643845",
     "exception": false,
     "start_time": "2022-04-20T03:45:10.536616",
     "status": "completed"
    },
    "tags": []
   },
   "outputs": [
    {
     "data": {
      "text/html": [
       "<div>\n",
       "<style scoped>\n",
       "    .dataframe tbody tr th:only-of-type {\n",
       "        vertical-align: middle;\n",
       "    }\n",
       "\n",
       "    .dataframe tbody tr th {\n",
       "        vertical-align: top;\n",
       "    }\n",
       "\n",
       "    .dataframe thead th {\n",
       "        text-align: right;\n",
       "    }\n",
       "</style>\n",
       "<table border=\"1\" class=\"dataframe\">\n",
       "  <thead>\n",
       "    <tr style=\"text-align: right;\">\n",
       "      <th></th>\n",
       "      <th>gender</th>\n",
       "      <th>age</th>\n",
       "      <th>id</th>\n",
       "      <th>became_member_on</th>\n",
       "      <th>income</th>\n",
       "      <th>year</th>\n",
       "      <th>month</th>\n",
       "      <th>day</th>\n",
       "      <th>membership_days</th>\n",
       "      <th>age_group</th>\n",
       "    </tr>\n",
       "  </thead>\n",
       "  <tbody>\n",
       "    <tr>\n",
       "      <th>1</th>\n",
       "      <td>F</td>\n",
       "      <td>55</td>\n",
       "      <td>0610b486422d4921ae7d2bf64640c50b</td>\n",
       "      <td>2017-07-15</td>\n",
       "      <td>112000.0</td>\n",
       "      <td>2017</td>\n",
       "      <td>7</td>\n",
       "      <td>Saturday</td>\n",
       "      <td>1740</td>\n",
       "      <td>0</td>\n",
       "    </tr>\n",
       "    <tr>\n",
       "      <th>3</th>\n",
       "      <td>F</td>\n",
       "      <td>75</td>\n",
       "      <td>78afa995795e4d85b5d9ceeca43f5fef</td>\n",
       "      <td>2017-05-09</td>\n",
       "      <td>100000.0</td>\n",
       "      <td>2017</td>\n",
       "      <td>5</td>\n",
       "      <td>Tuesday</td>\n",
       "      <td>1807</td>\n",
       "      <td>1</td>\n",
       "    </tr>\n",
       "    <tr>\n",
       "      <th>5</th>\n",
       "      <td>M</td>\n",
       "      <td>68</td>\n",
       "      <td>e2127556f4f64592b11af22de27a7932</td>\n",
       "      <td>2018-04-26</td>\n",
       "      <td>70000.0</td>\n",
       "      <td>2018</td>\n",
       "      <td>4</td>\n",
       "      <td>Thursday</td>\n",
       "      <td>1455</td>\n",
       "      <td>1</td>\n",
       "    </tr>\n",
       "    <tr>\n",
       "      <th>8</th>\n",
       "      <td>M</td>\n",
       "      <td>65</td>\n",
       "      <td>389bc3fa690240e798340f5a15918d5c</td>\n",
       "      <td>2018-02-09</td>\n",
       "      <td>53000.0</td>\n",
       "      <td>2018</td>\n",
       "      <td>2</td>\n",
       "      <td>Friday</td>\n",
       "      <td>1531</td>\n",
       "      <td>1</td>\n",
       "    </tr>\n",
       "    <tr>\n",
       "      <th>12</th>\n",
       "      <td>M</td>\n",
       "      <td>58</td>\n",
       "      <td>2eeac8d8feae4a8cad5a6af0499a211d</td>\n",
       "      <td>2017-11-11</td>\n",
       "      <td>51000.0</td>\n",
       "      <td>2017</td>\n",
       "      <td>11</td>\n",
       "      <td>Saturday</td>\n",
       "      <td>1621</td>\n",
       "      <td>0</td>\n",
       "    </tr>\n",
       "  </tbody>\n",
       "</table>\n",
       "</div>"
      ],
      "text/plain": [
       "   gender  age                                id became_member_on    income  \\\n",
       "1       F   55  0610b486422d4921ae7d2bf64640c50b       2017-07-15  112000.0   \n",
       "3       F   75  78afa995795e4d85b5d9ceeca43f5fef       2017-05-09  100000.0   \n",
       "5       M   68  e2127556f4f64592b11af22de27a7932       2018-04-26   70000.0   \n",
       "8       M   65  389bc3fa690240e798340f5a15918d5c       2018-02-09   53000.0   \n",
       "12      M   58  2eeac8d8feae4a8cad5a6af0499a211d       2017-11-11   51000.0   \n",
       "\n",
       "    year  month       day  membership_days  age_group  \n",
       "1   2017      7  Saturday             1740          0  \n",
       "3   2017      5   Tuesday             1807          1  \n",
       "5   2018      4  Thursday             1455          1  \n",
       "8   2018      2    Friday             1531          1  \n",
       "12  2017     11  Saturday             1621          0  "
      ]
     },
     "execution_count": 18,
     "metadata": {},
     "output_type": "execute_result"
    }
   ],
   "source": [
    "from sklearn.preprocessing import LabelEncoder\n",
    "\n",
    "profile = profile.copy(deep = True)\n",
    "le_age = LabelEncoder()\n",
    "profile['age_group'] = le_age.fit_transform(profile['age_group'])\n",
    "profile.head(5)"
   ]
  },
  {
   "cell_type": "code",
   "execution_count": 19,
   "id": "303b45e4",
   "metadata": {
    "execution": {
     "iopub.execute_input": "2022-04-20T03:45:10.794117Z",
     "iopub.status.busy": "2022-04-20T03:45:10.793177Z",
     "iopub.status.idle": "2022-04-20T03:45:10.805157Z",
     "shell.execute_reply": "2022-04-20T03:45:10.805746Z",
     "shell.execute_reply.started": "2022-04-20T03:41:23.731476Z"
    },
    "papermill": {
     "duration": 0.090235,
     "end_time": "2022-04-20T03:45:10.805906",
     "exception": false,
     "start_time": "2022-04-20T03:45:10.715671",
     "status": "completed"
    },
    "tags": []
   },
   "outputs": [
    {
     "data": {
      "text/plain": [
       "1        more than 1L\n",
       "3              75k-1L\n",
       "5             50k-75k\n",
       "8             50k-75k\n",
       "12            50k-75k\n",
       "             ...     \n",
       "16995         50k-75k\n",
       "16996         50k-75k\n",
       "16997         50k-75k\n",
       "16998         30k-50k\n",
       "16999          75k-1L\n",
       "Name: income_group, Length: 14820, dtype: category\n",
       "Categories (4, object): ['30k-50k' < '50k-75k' < '75k-1L' < 'more than 1L']"
      ]
     },
     "execution_count": 19,
     "metadata": {},
     "output_type": "execute_result"
    }
   ],
   "source": [
    "profile['income_group'] = pd.cut(x=profile['income'], bins=[30000, 50000, 75000, 100000, 120000],\n",
    "                    labels=['30k-50k', '50k-75k','75k-1L',\n",
    "                            'more than 1L'], include_lowest=True)\n",
    "profile['income_group']"
   ]
  },
  {
   "cell_type": "code",
   "execution_count": 20,
   "id": "f6af626a",
   "metadata": {
    "execution": {
     "iopub.execute_input": "2022-04-20T03:45:10.953272Z",
     "iopub.status.busy": "2022-04-20T03:45:10.950061Z",
     "iopub.status.idle": "2022-04-20T03:45:10.973706Z",
     "shell.execute_reply": "2022-04-20T03:45:10.974335Z",
     "shell.execute_reply.started": "2022-04-20T03:41:23.993734Z"
    },
    "papermill": {
     "duration": 0.097701,
     "end_time": "2022-04-20T03:45:10.974503",
     "exception": false,
     "start_time": "2022-04-20T03:45:10.876802",
     "status": "completed"
    },
    "tags": []
   },
   "outputs": [
    {
     "data": {
      "text/html": [
       "<div>\n",
       "<style scoped>\n",
       "    .dataframe tbody tr th:only-of-type {\n",
       "        vertical-align: middle;\n",
       "    }\n",
       "\n",
       "    .dataframe tbody tr th {\n",
       "        vertical-align: top;\n",
       "    }\n",
       "\n",
       "    .dataframe thead th {\n",
       "        text-align: right;\n",
       "    }\n",
       "</style>\n",
       "<table border=\"1\" class=\"dataframe\">\n",
       "  <thead>\n",
       "    <tr style=\"text-align: right;\">\n",
       "      <th></th>\n",
       "      <th>gender</th>\n",
       "      <th>age</th>\n",
       "      <th>id</th>\n",
       "      <th>became_member_on</th>\n",
       "      <th>income</th>\n",
       "      <th>year</th>\n",
       "      <th>month</th>\n",
       "      <th>day</th>\n",
       "      <th>membership_days</th>\n",
       "      <th>age_group</th>\n",
       "      <th>income_group</th>\n",
       "    </tr>\n",
       "  </thead>\n",
       "  <tbody>\n",
       "    <tr>\n",
       "      <th>1</th>\n",
       "      <td>F</td>\n",
       "      <td>55</td>\n",
       "      <td>0610b486422d4921ae7d2bf64640c50b</td>\n",
       "      <td>2017-07-15</td>\n",
       "      <td>112000.0</td>\n",
       "      <td>2017</td>\n",
       "      <td>7</td>\n",
       "      <td>Saturday</td>\n",
       "      <td>1740</td>\n",
       "      <td>0</td>\n",
       "      <td>3</td>\n",
       "    </tr>\n",
       "    <tr>\n",
       "      <th>3</th>\n",
       "      <td>F</td>\n",
       "      <td>75</td>\n",
       "      <td>78afa995795e4d85b5d9ceeca43f5fef</td>\n",
       "      <td>2017-05-09</td>\n",
       "      <td>100000.0</td>\n",
       "      <td>2017</td>\n",
       "      <td>5</td>\n",
       "      <td>Tuesday</td>\n",
       "      <td>1807</td>\n",
       "      <td>1</td>\n",
       "      <td>2</td>\n",
       "    </tr>\n",
       "    <tr>\n",
       "      <th>5</th>\n",
       "      <td>M</td>\n",
       "      <td>68</td>\n",
       "      <td>e2127556f4f64592b11af22de27a7932</td>\n",
       "      <td>2018-04-26</td>\n",
       "      <td>70000.0</td>\n",
       "      <td>2018</td>\n",
       "      <td>4</td>\n",
       "      <td>Thursday</td>\n",
       "      <td>1455</td>\n",
       "      <td>1</td>\n",
       "      <td>1</td>\n",
       "    </tr>\n",
       "    <tr>\n",
       "      <th>8</th>\n",
       "      <td>M</td>\n",
       "      <td>65</td>\n",
       "      <td>389bc3fa690240e798340f5a15918d5c</td>\n",
       "      <td>2018-02-09</td>\n",
       "      <td>53000.0</td>\n",
       "      <td>2018</td>\n",
       "      <td>2</td>\n",
       "      <td>Friday</td>\n",
       "      <td>1531</td>\n",
       "      <td>1</td>\n",
       "      <td>1</td>\n",
       "    </tr>\n",
       "    <tr>\n",
       "      <th>12</th>\n",
       "      <td>M</td>\n",
       "      <td>58</td>\n",
       "      <td>2eeac8d8feae4a8cad5a6af0499a211d</td>\n",
       "      <td>2017-11-11</td>\n",
       "      <td>51000.0</td>\n",
       "      <td>2017</td>\n",
       "      <td>11</td>\n",
       "      <td>Saturday</td>\n",
       "      <td>1621</td>\n",
       "      <td>0</td>\n",
       "      <td>1</td>\n",
       "    </tr>\n",
       "  </tbody>\n",
       "</table>\n",
       "</div>"
      ],
      "text/plain": [
       "   gender  age                                id became_member_on    income  \\\n",
       "1       F   55  0610b486422d4921ae7d2bf64640c50b       2017-07-15  112000.0   \n",
       "3       F   75  78afa995795e4d85b5d9ceeca43f5fef       2017-05-09  100000.0   \n",
       "5       M   68  e2127556f4f64592b11af22de27a7932       2018-04-26   70000.0   \n",
       "8       M   65  389bc3fa690240e798340f5a15918d5c       2018-02-09   53000.0   \n",
       "12      M   58  2eeac8d8feae4a8cad5a6af0499a211d       2017-11-11   51000.0   \n",
       "\n",
       "    year  month       day  membership_days  age_group  income_group  \n",
       "1   2017      7  Saturday             1740          0             3  \n",
       "3   2017      5   Tuesday             1807          1             2  \n",
       "5   2018      4  Thursday             1455          1             1  \n",
       "8   2018      2    Friday             1531          1             1  \n",
       "12  2017     11  Saturday             1621          0             1  "
      ]
     },
     "execution_count": 20,
     "metadata": {},
     "output_type": "execute_result"
    }
   ],
   "source": [
    "from sklearn.preprocessing import LabelEncoder\n",
    "\n",
    "profile = profile.copy(deep = True)\n",
    "le_in = LabelEncoder()\n",
    "profile['income_group'] = le_in.fit_transform(profile['income_group'])\n",
    "profile.head(5)"
   ]
  },
  {
   "cell_type": "code",
   "execution_count": 21,
   "id": "ebbf28d8",
   "metadata": {
    "execution": {
     "iopub.execute_input": "2022-04-20T03:45:11.121015Z",
     "iopub.status.busy": "2022-04-20T03:45:11.120391Z",
     "iopub.status.idle": "2022-04-20T03:45:11.127842Z",
     "shell.execute_reply": "2022-04-20T03:45:11.128392Z",
     "shell.execute_reply.started": "2022-04-20T03:41:24.193509Z"
    },
    "papermill": {
     "duration": 0.082226,
     "end_time": "2022-04-20T03:45:11.128605",
     "exception": false,
     "start_time": "2022-04-20T03:45:11.046379",
     "status": "completed"
    },
    "tags": []
   },
   "outputs": [],
   "source": [
    "profile = profile.drop(['age','income'], axis=1)"
   ]
  },
  {
   "cell_type": "code",
   "execution_count": 22,
   "id": "681ceea7",
   "metadata": {
    "execution": {
     "iopub.execute_input": "2022-04-20T03:45:11.274907Z",
     "iopub.status.busy": "2022-04-20T03:45:11.274297Z",
     "iopub.status.idle": "2022-04-20T03:45:11.295753Z",
     "shell.execute_reply": "2022-04-20T03:45:11.296369Z",
     "shell.execute_reply.started": "2022-04-20T03:41:24.431439Z"
    },
    "papermill": {
     "duration": 0.096587,
     "end_time": "2022-04-20T03:45:11.296537",
     "exception": false,
     "start_time": "2022-04-20T03:45:11.199950",
     "status": "completed"
    },
    "tags": []
   },
   "outputs": [
    {
     "data": {
      "text/plain": [
       "0           0-100 days\n",
       "1           0-100 days\n",
       "2           0-100 days\n",
       "3           0-100 days\n",
       "4           0-100 days\n",
       "              ...     \n",
       "306529    700-800 days\n",
       "306530    700-800 days\n",
       "306531    700-800 days\n",
       "306532    700-800 days\n",
       "306533    700-800 days\n",
       "Name: time_group, Length: 306534, dtype: category\n",
       "Categories (8, object): ['0-100 days' < '100-200 days' < '200-300 days' < '300-400 days' < '400-500 days' < '500-600 days' < '600-700 days' < '700-800 days']"
      ]
     },
     "execution_count": 22,
     "metadata": {},
     "output_type": "execute_result"
    }
   ],
   "source": [
    "transcript['time_group'] = pd.cut(x=transcript['time'], bins=[0, 100, 200, 300, 400, 500,600,700,800], include_lowest=True,\n",
    "                    labels=['0-100 days', '100-200 days', '200-300 days', '300-400 days', '400-500 days', '500-600 days', '600-700 days', '700-800 days'])\n",
    "transcript['time_group'] "
   ]
  },
  {
   "cell_type": "code",
   "execution_count": 23,
   "id": "29f3ee38",
   "metadata": {
    "execution": {
     "iopub.execute_input": "2022-04-20T03:45:11.443166Z",
     "iopub.status.busy": "2022-04-20T03:45:11.442545Z",
     "iopub.status.idle": "2022-04-20T03:45:11.567304Z",
     "shell.execute_reply": "2022-04-20T03:45:11.567785Z",
     "shell.execute_reply.started": "2022-04-20T03:41:24.657375Z"
    },
    "papermill": {
     "duration": 0.200019,
     "end_time": "2022-04-20T03:45:11.567947",
     "exception": false,
     "start_time": "2022-04-20T03:45:11.367928",
     "status": "completed"
    },
    "tags": []
   },
   "outputs": [
    {
     "data": {
      "text/html": [
       "<div>\n",
       "<style scoped>\n",
       "    .dataframe tbody tr th:only-of-type {\n",
       "        vertical-align: middle;\n",
       "    }\n",
       "\n",
       "    .dataframe tbody tr th {\n",
       "        vertical-align: top;\n",
       "    }\n",
       "\n",
       "    .dataframe thead th {\n",
       "        text-align: right;\n",
       "    }\n",
       "</style>\n",
       "<table border=\"1\" class=\"dataframe\">\n",
       "  <thead>\n",
       "    <tr style=\"text-align: right;\">\n",
       "      <th></th>\n",
       "      <th>person</th>\n",
       "      <th>event</th>\n",
       "      <th>value</th>\n",
       "      <th>time</th>\n",
       "      <th>time_group</th>\n",
       "    </tr>\n",
       "  </thead>\n",
       "  <tbody>\n",
       "    <tr>\n",
       "      <th>0</th>\n",
       "      <td>78afa995795e4d85b5d9ceeca43f5fef</td>\n",
       "      <td>offer received</td>\n",
       "      <td>{'offer id': '9b98b8c7a33c4b65b9aebfe6a799e6d9'}</td>\n",
       "      <td>0</td>\n",
       "      <td>0</td>\n",
       "    </tr>\n",
       "    <tr>\n",
       "      <th>1</th>\n",
       "      <td>a03223e636434f42ac4c3df47e8bac43</td>\n",
       "      <td>offer received</td>\n",
       "      <td>{'offer id': '0b1e1539f2cc45b7b9fa7c272da2e1d7'}</td>\n",
       "      <td>0</td>\n",
       "      <td>0</td>\n",
       "    </tr>\n",
       "    <tr>\n",
       "      <th>2</th>\n",
       "      <td>e2127556f4f64592b11af22de27a7932</td>\n",
       "      <td>offer received</td>\n",
       "      <td>{'offer id': '2906b810c7d4411798c6938adc9daaa5'}</td>\n",
       "      <td>0</td>\n",
       "      <td>0</td>\n",
       "    </tr>\n",
       "    <tr>\n",
       "      <th>3</th>\n",
       "      <td>8ec6ce2a7e7949b1bf142def7d0e0586</td>\n",
       "      <td>offer received</td>\n",
       "      <td>{'offer id': 'fafdcd668e3743c1bb461111dcafc2a4'}</td>\n",
       "      <td>0</td>\n",
       "      <td>0</td>\n",
       "    </tr>\n",
       "    <tr>\n",
       "      <th>4</th>\n",
       "      <td>68617ca6246f4fbc85e91a2a49552598</td>\n",
       "      <td>offer received</td>\n",
       "      <td>{'offer id': '4d5c57ea9a6940dd891ad53e9dbe8da0'}</td>\n",
       "      <td>0</td>\n",
       "      <td>0</td>\n",
       "    </tr>\n",
       "    <tr>\n",
       "      <th>...</th>\n",
       "      <td>...</td>\n",
       "      <td>...</td>\n",
       "      <td>...</td>\n",
       "      <td>...</td>\n",
       "      <td>...</td>\n",
       "    </tr>\n",
       "    <tr>\n",
       "      <th>306529</th>\n",
       "      <td>b3a1272bc9904337b331bf348c3e8c17</td>\n",
       "      <td>transaction</td>\n",
       "      <td>{'amount': 1.5899999999999999}</td>\n",
       "      <td>714</td>\n",
       "      <td>7</td>\n",
       "    </tr>\n",
       "    <tr>\n",
       "      <th>306530</th>\n",
       "      <td>68213b08d99a4ae1b0dcb72aebd9aa35</td>\n",
       "      <td>transaction</td>\n",
       "      <td>{'amount': 9.53}</td>\n",
       "      <td>714</td>\n",
       "      <td>7</td>\n",
       "    </tr>\n",
       "    <tr>\n",
       "      <th>306531</th>\n",
       "      <td>a00058cf10334a308c68e7631c529907</td>\n",
       "      <td>transaction</td>\n",
       "      <td>{'amount': 3.61}</td>\n",
       "      <td>714</td>\n",
       "      <td>7</td>\n",
       "    </tr>\n",
       "    <tr>\n",
       "      <th>306532</th>\n",
       "      <td>76ddbd6576844afe811f1a3c0fbb5bec</td>\n",
       "      <td>transaction</td>\n",
       "      <td>{'amount': 3.5300000000000002}</td>\n",
       "      <td>714</td>\n",
       "      <td>7</td>\n",
       "    </tr>\n",
       "    <tr>\n",
       "      <th>306533</th>\n",
       "      <td>c02b10e8752c4d8e9b73f918558531f7</td>\n",
       "      <td>transaction</td>\n",
       "      <td>{'amount': 4.05}</td>\n",
       "      <td>714</td>\n",
       "      <td>7</td>\n",
       "    </tr>\n",
       "  </tbody>\n",
       "</table>\n",
       "<p>306534 rows × 5 columns</p>\n",
       "</div>"
      ],
      "text/plain": [
       "                                  person           event  \\\n",
       "0       78afa995795e4d85b5d9ceeca43f5fef  offer received   \n",
       "1       a03223e636434f42ac4c3df47e8bac43  offer received   \n",
       "2       e2127556f4f64592b11af22de27a7932  offer received   \n",
       "3       8ec6ce2a7e7949b1bf142def7d0e0586  offer received   \n",
       "4       68617ca6246f4fbc85e91a2a49552598  offer received   \n",
       "...                                  ...             ...   \n",
       "306529  b3a1272bc9904337b331bf348c3e8c17     transaction   \n",
       "306530  68213b08d99a4ae1b0dcb72aebd9aa35     transaction   \n",
       "306531  a00058cf10334a308c68e7631c529907     transaction   \n",
       "306532  76ddbd6576844afe811f1a3c0fbb5bec     transaction   \n",
       "306533  c02b10e8752c4d8e9b73f918558531f7     transaction   \n",
       "\n",
       "                                                   value  time  time_group  \n",
       "0       {'offer id': '9b98b8c7a33c4b65b9aebfe6a799e6d9'}     0           0  \n",
       "1       {'offer id': '0b1e1539f2cc45b7b9fa7c272da2e1d7'}     0           0  \n",
       "2       {'offer id': '2906b810c7d4411798c6938adc9daaa5'}     0           0  \n",
       "3       {'offer id': 'fafdcd668e3743c1bb461111dcafc2a4'}     0           0  \n",
       "4       {'offer id': '4d5c57ea9a6940dd891ad53e9dbe8da0'}     0           0  \n",
       "...                                                  ...   ...         ...  \n",
       "306529                    {'amount': 1.5899999999999999}   714           7  \n",
       "306530                                  {'amount': 9.53}   714           7  \n",
       "306531                                  {'amount': 3.61}   714           7  \n",
       "306532                    {'amount': 3.5300000000000002}   714           7  \n",
       "306533                                  {'amount': 4.05}   714           7  \n",
       "\n",
       "[306534 rows x 5 columns]"
      ]
     },
     "execution_count": 23,
     "metadata": {},
     "output_type": "execute_result"
    }
   ],
   "source": [
    "from sklearn.preprocessing import LabelEncoder\n",
    "\n",
    "transcript = transcript.copy(deep = True)\n",
    "le_id = LabelEncoder()\n",
    "transcript['time_group'] = le_id.fit_transform(transcript['time_group'])\n",
    "transcript.head(5)\n",
    "transcript"
   ]
  },
  {
   "cell_type": "code",
   "execution_count": 24,
   "id": "583413b0",
   "metadata": {
    "execution": {
     "iopub.execute_input": "2022-04-20T03:45:11.719147Z",
     "iopub.status.busy": "2022-04-20T03:45:11.718504Z",
     "iopub.status.idle": "2022-04-20T03:45:11.741739Z",
     "shell.execute_reply": "2022-04-20T03:45:11.742287Z",
     "shell.execute_reply.started": "2022-04-20T03:41:24.884993Z"
    },
    "papermill": {
     "duration": 0.101293,
     "end_time": "2022-04-20T03:45:11.742461",
     "exception": false,
     "start_time": "2022-04-20T03:45:11.641168",
     "status": "completed"
    },
    "tags": []
   },
   "outputs": [],
   "source": [
    "transcript = transcript.drop(['time'], axis=1)"
   ]
  },
  {
   "cell_type": "code",
   "execution_count": 25,
   "id": "d629065e",
   "metadata": {
    "execution": {
     "iopub.execute_input": "2022-04-20T03:45:11.892596Z",
     "iopub.status.busy": "2022-04-20T03:45:11.891862Z",
     "iopub.status.idle": "2022-04-20T03:45:11.896526Z",
     "shell.execute_reply": "2022-04-20T03:45:11.897091Z",
     "shell.execute_reply.started": "2022-04-20T03:41:25.063889Z"
    },
    "papermill": {
     "duration": 0.082195,
     "end_time": "2022-04-20T03:45:11.897273",
     "exception": false,
     "start_time": "2022-04-20T03:45:11.815078",
     "status": "completed"
    },
    "tags": []
   },
   "outputs": [],
   "source": [
    "transcript.rename(columns={'person':'id'}, inplace=True)"
   ]
  },
  {
   "cell_type": "code",
   "execution_count": 26,
   "id": "1865d1d2",
   "metadata": {
    "execution": {
     "iopub.execute_input": "2022-04-20T03:45:12.047112Z",
     "iopub.status.busy": "2022-04-20T03:45:12.046471Z",
     "iopub.status.idle": "2022-04-20T03:45:12.381691Z",
     "shell.execute_reply": "2022-04-20T03:45:12.381032Z",
     "shell.execute_reply.started": "2022-04-20T03:41:25.263780Z"
    },
    "papermill": {
     "duration": 0.411156,
     "end_time": "2022-04-20T03:45:12.381838",
     "exception": false,
     "start_time": "2022-04-20T03:45:11.970682",
     "status": "completed"
    },
    "tags": []
   },
   "outputs": [
    {
     "data": {
      "text/html": [
       "<div>\n",
       "<style scoped>\n",
       "    .dataframe tbody tr th:only-of-type {\n",
       "        vertical-align: middle;\n",
       "    }\n",
       "\n",
       "    .dataframe tbody tr th {\n",
       "        vertical-align: top;\n",
       "    }\n",
       "\n",
       "    .dataframe thead th {\n",
       "        text-align: right;\n",
       "    }\n",
       "</style>\n",
       "<table border=\"1\" class=\"dataframe\">\n",
       "  <thead>\n",
       "    <tr style=\"text-align: right;\">\n",
       "      <th></th>\n",
       "      <th>gender</th>\n",
       "      <th>id</th>\n",
       "      <th>year</th>\n",
       "      <th>month</th>\n",
       "      <th>day</th>\n",
       "      <th>membership_days</th>\n",
       "      <th>age_group</th>\n",
       "      <th>income_group</th>\n",
       "      <th>event</th>\n",
       "      <th>value</th>\n",
       "      <th>time_group</th>\n",
       "    </tr>\n",
       "  </thead>\n",
       "  <tbody>\n",
       "    <tr>\n",
       "      <th>0</th>\n",
       "      <td>F</td>\n",
       "      <td>0610b486422d4921ae7d2bf64640c50b</td>\n",
       "      <td>2017</td>\n",
       "      <td>7</td>\n",
       "      <td>Saturday</td>\n",
       "      <td>1740</td>\n",
       "      <td>0</td>\n",
       "      <td>3</td>\n",
       "      <td>transaction</td>\n",
       "      <td>{'amount': 21.51}</td>\n",
       "      <td>0</td>\n",
       "    </tr>\n",
       "    <tr>\n",
       "      <th>1</th>\n",
       "      <td>F</td>\n",
       "      <td>0610b486422d4921ae7d2bf64640c50b</td>\n",
       "      <td>2017</td>\n",
       "      <td>7</td>\n",
       "      <td>Saturday</td>\n",
       "      <td>1740</td>\n",
       "      <td>0</td>\n",
       "      <td>3</td>\n",
       "      <td>transaction</td>\n",
       "      <td>{'amount': 32.28}</td>\n",
       "      <td>1</td>\n",
       "    </tr>\n",
       "    <tr>\n",
       "      <th>2</th>\n",
       "      <td>F</td>\n",
       "      <td>0610b486422d4921ae7d2bf64640c50b</td>\n",
       "      <td>2017</td>\n",
       "      <td>7</td>\n",
       "      <td>Saturday</td>\n",
       "      <td>1740</td>\n",
       "      <td>0</td>\n",
       "      <td>3</td>\n",
       "      <td>offer received</td>\n",
       "      <td>{'offer id': '9b98b8c7a33c4b65b9aebfe6a799e6d9'}</td>\n",
       "      <td>4</td>\n",
       "    </tr>\n",
       "    <tr>\n",
       "      <th>3</th>\n",
       "      <td>F</td>\n",
       "      <td>0610b486422d4921ae7d2bf64640c50b</td>\n",
       "      <td>2017</td>\n",
       "      <td>7</td>\n",
       "      <td>Saturday</td>\n",
       "      <td>1740</td>\n",
       "      <td>0</td>\n",
       "      <td>3</td>\n",
       "      <td>offer received</td>\n",
       "      <td>{'offer id': '3f207df678b143eea3cee63160fa8bed'}</td>\n",
       "      <td>5</td>\n",
       "    </tr>\n",
       "    <tr>\n",
       "      <th>4</th>\n",
       "      <td>F</td>\n",
       "      <td>0610b486422d4921ae7d2bf64640c50b</td>\n",
       "      <td>2017</td>\n",
       "      <td>7</td>\n",
       "      <td>Saturday</td>\n",
       "      <td>1740</td>\n",
       "      <td>0</td>\n",
       "      <td>3</td>\n",
       "      <td>transaction</td>\n",
       "      <td>{'amount': 23.22}</td>\n",
       "      <td>5</td>\n",
       "    </tr>\n",
       "    <tr>\n",
       "      <th>...</th>\n",
       "      <td>...</td>\n",
       "      <td>...</td>\n",
       "      <td>...</td>\n",
       "      <td>...</td>\n",
       "      <td>...</td>\n",
       "      <td>...</td>\n",
       "      <td>...</td>\n",
       "      <td>...</td>\n",
       "      <td>...</td>\n",
       "      <td>...</td>\n",
       "      <td>...</td>\n",
       "    </tr>\n",
       "    <tr>\n",
       "      <th>272659</th>\n",
       "      <td>F</td>\n",
       "      <td>e4052622e5ba45a8b96b59aba68cf068</td>\n",
       "      <td>2017</td>\n",
       "      <td>7</td>\n",
       "      <td>Saturday</td>\n",
       "      <td>1733</td>\n",
       "      <td>1</td>\n",
       "      <td>2</td>\n",
       "      <td>offer completed</td>\n",
       "      <td>{'offer_id': 'f19421c1d4aa40978ebb69ca19b0e20d...</td>\n",
       "      <td>4</td>\n",
       "    </tr>\n",
       "    <tr>\n",
       "      <th>272660</th>\n",
       "      <td>F</td>\n",
       "      <td>e4052622e5ba45a8b96b59aba68cf068</td>\n",
       "      <td>2017</td>\n",
       "      <td>7</td>\n",
       "      <td>Saturday</td>\n",
       "      <td>1733</td>\n",
       "      <td>1</td>\n",
       "      <td>2</td>\n",
       "      <td>transaction</td>\n",
       "      <td>{'amount': 19.47}</td>\n",
       "      <td>4</td>\n",
       "    </tr>\n",
       "    <tr>\n",
       "      <th>272661</th>\n",
       "      <td>F</td>\n",
       "      <td>e4052622e5ba45a8b96b59aba68cf068</td>\n",
       "      <td>2017</td>\n",
       "      <td>7</td>\n",
       "      <td>Saturday</td>\n",
       "      <td>1733</td>\n",
       "      <td>1</td>\n",
       "      <td>2</td>\n",
       "      <td>offer viewed</td>\n",
       "      <td>{'offer id': 'f19421c1d4aa40978ebb69ca19b0e20d'}</td>\n",
       "      <td>5</td>\n",
       "    </tr>\n",
       "    <tr>\n",
       "      <th>272662</th>\n",
       "      <td>F</td>\n",
       "      <td>e4052622e5ba45a8b96b59aba68cf068</td>\n",
       "      <td>2017</td>\n",
       "      <td>7</td>\n",
       "      <td>Saturday</td>\n",
       "      <td>1733</td>\n",
       "      <td>1</td>\n",
       "      <td>2</td>\n",
       "      <td>offer received</td>\n",
       "      <td>{'offer id': '3f207df678b143eea3cee63160fa8bed'}</td>\n",
       "      <td>5</td>\n",
       "    </tr>\n",
       "    <tr>\n",
       "      <th>272663</th>\n",
       "      <td>F</td>\n",
       "      <td>e4052622e5ba45a8b96b59aba68cf068</td>\n",
       "      <td>2017</td>\n",
       "      <td>7</td>\n",
       "      <td>Saturday</td>\n",
       "      <td>1733</td>\n",
       "      <td>1</td>\n",
       "      <td>2</td>\n",
       "      <td>transaction</td>\n",
       "      <td>{'amount': 24.71}</td>\n",
       "      <td>6</td>\n",
       "    </tr>\n",
       "  </tbody>\n",
       "</table>\n",
       "<p>272664 rows × 11 columns</p>\n",
       "</div>"
      ],
      "text/plain": [
       "       gender                                id  year  month       day  \\\n",
       "0           F  0610b486422d4921ae7d2bf64640c50b  2017      7  Saturday   \n",
       "1           F  0610b486422d4921ae7d2bf64640c50b  2017      7  Saturday   \n",
       "2           F  0610b486422d4921ae7d2bf64640c50b  2017      7  Saturday   \n",
       "3           F  0610b486422d4921ae7d2bf64640c50b  2017      7  Saturday   \n",
       "4           F  0610b486422d4921ae7d2bf64640c50b  2017      7  Saturday   \n",
       "...       ...                               ...   ...    ...       ...   \n",
       "272659      F  e4052622e5ba45a8b96b59aba68cf068  2017      7  Saturday   \n",
       "272660      F  e4052622e5ba45a8b96b59aba68cf068  2017      7  Saturday   \n",
       "272661      F  e4052622e5ba45a8b96b59aba68cf068  2017      7  Saturday   \n",
       "272662      F  e4052622e5ba45a8b96b59aba68cf068  2017      7  Saturday   \n",
       "272663      F  e4052622e5ba45a8b96b59aba68cf068  2017      7  Saturday   \n",
       "\n",
       "        membership_days  age_group  income_group            event  \\\n",
       "0                  1740          0             3      transaction   \n",
       "1                  1740          0             3      transaction   \n",
       "2                  1740          0             3   offer received   \n",
       "3                  1740          0             3   offer received   \n",
       "4                  1740          0             3      transaction   \n",
       "...                 ...        ...           ...              ...   \n",
       "272659             1733          1             2  offer completed   \n",
       "272660             1733          1             2      transaction   \n",
       "272661             1733          1             2     offer viewed   \n",
       "272662             1733          1             2   offer received   \n",
       "272663             1733          1             2      transaction   \n",
       "\n",
       "                                                    value  time_group  \n",
       "0                                       {'amount': 21.51}           0  \n",
       "1                                       {'amount': 32.28}           1  \n",
       "2        {'offer id': '9b98b8c7a33c4b65b9aebfe6a799e6d9'}           4  \n",
       "3        {'offer id': '3f207df678b143eea3cee63160fa8bed'}           5  \n",
       "4                                       {'amount': 23.22}           5  \n",
       "...                                                   ...         ...  \n",
       "272659  {'offer_id': 'f19421c1d4aa40978ebb69ca19b0e20d...           4  \n",
       "272660                                  {'amount': 19.47}           4  \n",
       "272661   {'offer id': 'f19421c1d4aa40978ebb69ca19b0e20d'}           5  \n",
       "272662   {'offer id': '3f207df678b143eea3cee63160fa8bed'}           5  \n",
       "272663                                  {'amount': 24.71}           6  \n",
       "\n",
       "[272664 rows x 11 columns]"
      ]
     },
     "execution_count": 26,
     "metadata": {},
     "output_type": "execute_result"
    }
   ],
   "source": [
    "df = pd.merge(profile, transcript, on='id')\n",
    "df = df.drop(['became_member_on'], axis=1)\n",
    "df"
   ]
  },
  {
   "cell_type": "code",
   "execution_count": 27,
   "id": "b93b3e98",
   "metadata": {
    "execution": {
     "iopub.execute_input": "2022-04-20T03:45:12.538540Z",
     "iopub.status.busy": "2022-04-20T03:45:12.537770Z",
     "iopub.status.idle": "2022-04-20T03:45:12.542728Z",
     "shell.execute_reply": "2022-04-20T03:45:12.543254Z",
     "shell.execute_reply.started": "2022-04-20T03:41:25.440994Z"
    },
    "papermill": {
     "duration": 0.087667,
     "end_time": "2022-04-20T03:45:12.543432",
     "exception": false,
     "start_time": "2022-04-20T03:45:12.455765",
     "status": "completed"
    },
    "tags": []
   },
   "outputs": [],
   "source": [
    "#map the offer_id from df with id in portfolio\n",
    "\n",
    "#create dict such that offers['offer_id']= offerName_difficulty_duration\n",
    "offers=dict()\n",
    "for offer, i, diff, dur in portfolio[['offer_type', 'id', 'difficulty', 'duration']].values:\n",
    "    offers[i]= f'{offer}_{diff}_{dur}'\n",
    "\n",
    "\n",
    "def value_col(col):\n",
    "    \"\"\"\n",
    "    extract offer_id from value column and mapped it to the offer name\n",
    "    \n",
    "    input- value column\n",
    "    \n",
    "    output-  mapped offer names\n",
    "    \"\"\"\n",
    "    value_type= col.split(':')[0].replace(\"'\", \"\").replace('{', \"\")\n",
    "    \n",
    "    if value_type == 'offer id':\n",
    "        value= col.split(':')[1].replace(\"'\", \"\").replace('}', \"\").strip()\n",
    "        return offers[value]\n",
    "    elif value_type == 'offer_id':\n",
    "        value= col.split(':')[1].split(',')[0].replace(\"'\", \"\").strip()\n",
    "        return offers[value]\n",
    "    else:\n",
    "        return 'None'"
   ]
  },
  {
   "cell_type": "code",
   "execution_count": 28,
   "id": "69801a61",
   "metadata": {
    "execution": {
     "iopub.execute_input": "2022-04-20T03:45:12.695664Z",
     "iopub.status.busy": "2022-04-20T03:45:12.694992Z",
     "iopub.status.idle": "2022-04-20T03:45:13.129220Z",
     "shell.execute_reply": "2022-04-20T03:45:13.128611Z",
     "shell.execute_reply.started": "2022-04-20T03:41:25.603603Z"
    },
    "papermill": {
     "duration": 0.512155,
     "end_time": "2022-04-20T03:45:13.129387",
     "exception": false,
     "start_time": "2022-04-20T03:45:12.617232",
     "status": "completed"
    },
    "tags": []
   },
   "outputs": [],
   "source": [
    "#get offer names\n",
    "df['offer']= df['value'].apply(value_col)"
   ]
  },
  {
   "cell_type": "code",
   "execution_count": 29,
   "id": "e661bc34",
   "metadata": {
    "execution": {
     "iopub.execute_input": "2022-04-20T03:45:13.294661Z",
     "iopub.status.busy": "2022-04-20T03:45:13.293811Z",
     "iopub.status.idle": "2022-04-20T03:45:13.295378Z",
     "shell.execute_reply": "2022-04-20T03:45:13.295872Z",
     "shell.execute_reply.started": "2022-04-20T03:41:26.035239Z"
    },
    "papermill": {
     "duration": 0.089406,
     "end_time": "2022-04-20T03:45:13.296059",
     "exception": false,
     "start_time": "2022-04-20T03:45:13.206653",
     "status": "completed"
    },
    "tags": []
   },
   "outputs": [],
   "source": [
    "def value_col_id(col):\n",
    "    \"\"\"\n",
    "    extract offer_id from value column\n",
    "    \n",
    "    input- value column\n",
    "    \n",
    "    output- offer_ids\n",
    "    \"\"\"\n",
    "    value_type= col.split(':')[0].replace(\"'\", \"\").replace('{', \"\")\n",
    "    \n",
    "    if value_type == 'offer id':\n",
    "        value= col.split(':')[1].replace(\"'\", \"\").replace('}', \"\").strip()\n",
    "        return value\n",
    "    elif value_type == 'offer_id':\n",
    "        value= col.split(':')[1].split(',')[0].replace(\"'\", \"\").strip()\n",
    "        return value\n",
    "    else:\n",
    "        return 'None'"
   ]
  },
  {
   "cell_type": "code",
   "execution_count": 30,
   "id": "df83a864",
   "metadata": {
    "execution": {
     "iopub.execute_input": "2022-04-20T03:45:13.458935Z",
     "iopub.status.busy": "2022-04-20T03:45:13.458138Z",
     "iopub.status.idle": "2022-04-20T03:45:13.905041Z",
     "shell.execute_reply": "2022-04-20T03:45:13.905582Z",
     "shell.execute_reply.started": "2022-04-20T03:41:26.042888Z"
    },
    "papermill": {
     "duration": 0.529813,
     "end_time": "2022-04-20T03:45:13.905816",
     "exception": false,
     "start_time": "2022-04-20T03:45:13.376003",
     "status": "completed"
    },
    "tags": []
   },
   "outputs": [],
   "source": [
    "#get offer ids\n",
    "df['offer_id']= df['value'].apply(value_col_id)"
   ]
  },
  {
   "cell_type": "code",
   "execution_count": 31,
   "id": "4b3b8b99",
   "metadata": {
    "execution": {
     "iopub.execute_input": "2022-04-20T03:45:14.068185Z",
     "iopub.status.busy": "2022-04-20T03:45:14.067516Z",
     "iopub.status.idle": "2022-04-20T03:45:14.068814Z",
     "shell.execute_reply": "2022-04-20T03:45:14.069372Z",
     "shell.execute_reply.started": "2022-04-20T03:41:26.479228Z"
    },
    "papermill": {
     "duration": 0.084601,
     "end_time": "2022-04-20T03:45:14.069575",
     "exception": false,
     "start_time": "2022-04-20T03:45:13.984974",
     "status": "completed"
    },
    "tags": []
   },
   "outputs": [],
   "source": [
    "def value_col_trans(col):\n",
    "    \"\"\"\n",
    "    get transaction amount from value column\n",
    "    \n",
    "    input- value column\n",
    "    \n",
    "    output- transaction amount\n",
    "    \"\"\"\n",
    "    value_type= col.split(':')[0].replace(\"'\", \"\").replace('{', \"\")\n",
    "    \n",
    "    if value_type == 'amount':\n",
    "        value= col.split(':')[1].replace(\"'\", \"\").replace('}', \"\").strip()\n",
    "        return np.round(float(value), 2)\n",
    "    else:\n",
    "        return np.nan"
   ]
  },
  {
   "cell_type": "markdown",
   "id": "b50f7f62",
   "metadata": {
    "papermill": {
     "duration": 0.078092,
     "end_time": "2022-04-20T03:45:14.225350",
     "exception": false,
     "start_time": "2022-04-20T03:45:14.147258",
     "status": "completed"
    },
    "tags": []
   },
   "source": []
  },
  {
   "cell_type": "code",
   "execution_count": 32,
   "id": "a30837c5",
   "metadata": {
    "execution": {
     "iopub.execute_input": "2022-04-20T03:45:14.384023Z",
     "iopub.status.busy": "2022-04-20T03:45:14.383397Z",
     "iopub.status.idle": "2022-04-20T03:45:16.495890Z",
     "shell.execute_reply": "2022-04-20T03:45:16.495290Z",
     "shell.execute_reply.started": "2022-04-20T03:41:26.486329Z"
    },
    "papermill": {
     "duration": 2.193731,
     "end_time": "2022-04-20T03:45:16.496051",
     "exception": false,
     "start_time": "2022-04-20T03:45:14.302320",
     "status": "completed"
    },
    "tags": []
   },
   "outputs": [],
   "source": [
    "#get transaction amount\n",
    "df['amount']= df['value'].apply(value_col_trans)"
   ]
  },
  {
   "cell_type": "code",
   "execution_count": 33,
   "id": "ad1b8aa0",
   "metadata": {
    "execution": {
     "iopub.execute_input": "2022-04-20T03:45:16.649460Z",
     "iopub.status.busy": "2022-04-20T03:45:16.648448Z",
     "iopub.status.idle": "2022-04-20T03:45:16.737698Z",
     "shell.execute_reply": "2022-04-20T03:45:16.737121Z",
     "shell.execute_reply.started": "2022-04-20T03:41:28.509014Z"
    },
    "papermill": {
     "duration": 0.166605,
     "end_time": "2022-04-20T03:45:16.737854",
     "exception": false,
     "start_time": "2022-04-20T03:45:16.571249",
     "status": "completed"
    },
    "tags": []
   },
   "outputs": [],
   "source": [
    "df = df.drop(['value'], axis=1)"
   ]
  },
  {
   "cell_type": "code",
   "execution_count": 34,
   "id": "98420f7d",
   "metadata": {
    "execution": {
     "iopub.execute_input": "2022-04-20T03:45:16.923146Z",
     "iopub.status.busy": "2022-04-20T03:45:16.922113Z",
     "iopub.status.idle": "2022-04-20T03:45:17.448349Z",
     "shell.execute_reply": "2022-04-20T03:45:17.448846Z",
     "shell.execute_reply.started": "2022-04-20T03:41:28.562107Z"
    },
    "papermill": {
     "duration": 0.636882,
     "end_time": "2022-04-20T03:45:17.449022",
     "exception": false,
     "start_time": "2022-04-20T03:45:16.812140",
     "status": "completed"
    },
    "tags": []
   },
   "outputs": [
    {
     "data": {
      "text/html": [
       "<div>\n",
       "<style scoped>\n",
       "    .dataframe tbody tr th:only-of-type {\n",
       "        vertical-align: middle;\n",
       "    }\n",
       "\n",
       "    .dataframe tbody tr th {\n",
       "        vertical-align: top;\n",
       "    }\n",
       "\n",
       "    .dataframe thead th {\n",
       "        text-align: right;\n",
       "    }\n",
       "</style>\n",
       "<table border=\"1\" class=\"dataframe\">\n",
       "  <thead>\n",
       "    <tr style=\"text-align: right;\">\n",
       "      <th></th>\n",
       "      <th>gender</th>\n",
       "      <th>id</th>\n",
       "      <th>year</th>\n",
       "      <th>month</th>\n",
       "      <th>day</th>\n",
       "      <th>membership_days</th>\n",
       "      <th>age_group</th>\n",
       "      <th>income_group</th>\n",
       "      <th>event</th>\n",
       "      <th>time_group</th>\n",
       "      <th>offer</th>\n",
       "      <th>offer_id</th>\n",
       "      <th>amount</th>\n",
       "    </tr>\n",
       "  </thead>\n",
       "  <tbody>\n",
       "    <tr>\n",
       "      <th>0</th>\n",
       "      <td>F</td>\n",
       "      <td>0610b486422d4921ae7d2bf64640c50b</td>\n",
       "      <td>2017</td>\n",
       "      <td>7</td>\n",
       "      <td>Saturday</td>\n",
       "      <td>1740</td>\n",
       "      <td>0</td>\n",
       "      <td>3</td>\n",
       "      <td>transaction</td>\n",
       "      <td>0</td>\n",
       "      <td>None</td>\n",
       "      <td>None</td>\n",
       "      <td>21.51</td>\n",
       "    </tr>\n",
       "    <tr>\n",
       "      <th>1</th>\n",
       "      <td>F</td>\n",
       "      <td>0610b486422d4921ae7d2bf64640c50b</td>\n",
       "      <td>2017</td>\n",
       "      <td>7</td>\n",
       "      <td>Saturday</td>\n",
       "      <td>1740</td>\n",
       "      <td>0</td>\n",
       "      <td>3</td>\n",
       "      <td>transaction</td>\n",
       "      <td>1</td>\n",
       "      <td>None</td>\n",
       "      <td>None</td>\n",
       "      <td>32.28</td>\n",
       "    </tr>\n",
       "    <tr>\n",
       "      <th>2</th>\n",
       "      <td>F</td>\n",
       "      <td>0610b486422d4921ae7d2bf64640c50b</td>\n",
       "      <td>2017</td>\n",
       "      <td>7</td>\n",
       "      <td>Saturday</td>\n",
       "      <td>1740</td>\n",
       "      <td>0</td>\n",
       "      <td>3</td>\n",
       "      <td>offer received</td>\n",
       "      <td>4</td>\n",
       "      <td>bogo</td>\n",
       "      <td>9b98b8c7a33c4b65b9aebfe6a799e6d9</td>\n",
       "      <td>NaN</td>\n",
       "    </tr>\n",
       "    <tr>\n",
       "      <th>3</th>\n",
       "      <td>F</td>\n",
       "      <td>0610b486422d4921ae7d2bf64640c50b</td>\n",
       "      <td>2017</td>\n",
       "      <td>7</td>\n",
       "      <td>Saturday</td>\n",
       "      <td>1740</td>\n",
       "      <td>0</td>\n",
       "      <td>3</td>\n",
       "      <td>offer received</td>\n",
       "      <td>5</td>\n",
       "      <td>informational</td>\n",
       "      <td>3f207df678b143eea3cee63160fa8bed</td>\n",
       "      <td>NaN</td>\n",
       "    </tr>\n",
       "    <tr>\n",
       "      <th>4</th>\n",
       "      <td>F</td>\n",
       "      <td>0610b486422d4921ae7d2bf64640c50b</td>\n",
       "      <td>2017</td>\n",
       "      <td>7</td>\n",
       "      <td>Saturday</td>\n",
       "      <td>1740</td>\n",
       "      <td>0</td>\n",
       "      <td>3</td>\n",
       "      <td>transaction</td>\n",
       "      <td>5</td>\n",
       "      <td>None</td>\n",
       "      <td>None</td>\n",
       "      <td>23.22</td>\n",
       "    </tr>\n",
       "    <tr>\n",
       "      <th>...</th>\n",
       "      <td>...</td>\n",
       "      <td>...</td>\n",
       "      <td>...</td>\n",
       "      <td>...</td>\n",
       "      <td>...</td>\n",
       "      <td>...</td>\n",
       "      <td>...</td>\n",
       "      <td>...</td>\n",
       "      <td>...</td>\n",
       "      <td>...</td>\n",
       "      <td>...</td>\n",
       "      <td>...</td>\n",
       "      <td>...</td>\n",
       "    </tr>\n",
       "    <tr>\n",
       "      <th>272659</th>\n",
       "      <td>F</td>\n",
       "      <td>e4052622e5ba45a8b96b59aba68cf068</td>\n",
       "      <td>2017</td>\n",
       "      <td>7</td>\n",
       "      <td>Saturday</td>\n",
       "      <td>1733</td>\n",
       "      <td>1</td>\n",
       "      <td>2</td>\n",
       "      <td>offer completed</td>\n",
       "      <td>4</td>\n",
       "      <td>bogo</td>\n",
       "      <td>f19421c1d4aa40978ebb69ca19b0e20d</td>\n",
       "      <td>NaN</td>\n",
       "    </tr>\n",
       "    <tr>\n",
       "      <th>272660</th>\n",
       "      <td>F</td>\n",
       "      <td>e4052622e5ba45a8b96b59aba68cf068</td>\n",
       "      <td>2017</td>\n",
       "      <td>7</td>\n",
       "      <td>Saturday</td>\n",
       "      <td>1733</td>\n",
       "      <td>1</td>\n",
       "      <td>2</td>\n",
       "      <td>transaction</td>\n",
       "      <td>4</td>\n",
       "      <td>None</td>\n",
       "      <td>None</td>\n",
       "      <td>19.47</td>\n",
       "    </tr>\n",
       "    <tr>\n",
       "      <th>272661</th>\n",
       "      <td>F</td>\n",
       "      <td>e4052622e5ba45a8b96b59aba68cf068</td>\n",
       "      <td>2017</td>\n",
       "      <td>7</td>\n",
       "      <td>Saturday</td>\n",
       "      <td>1733</td>\n",
       "      <td>1</td>\n",
       "      <td>2</td>\n",
       "      <td>offer viewed</td>\n",
       "      <td>5</td>\n",
       "      <td>bogo</td>\n",
       "      <td>f19421c1d4aa40978ebb69ca19b0e20d</td>\n",
       "      <td>NaN</td>\n",
       "    </tr>\n",
       "    <tr>\n",
       "      <th>272662</th>\n",
       "      <td>F</td>\n",
       "      <td>e4052622e5ba45a8b96b59aba68cf068</td>\n",
       "      <td>2017</td>\n",
       "      <td>7</td>\n",
       "      <td>Saturday</td>\n",
       "      <td>1733</td>\n",
       "      <td>1</td>\n",
       "      <td>2</td>\n",
       "      <td>offer received</td>\n",
       "      <td>5</td>\n",
       "      <td>informational</td>\n",
       "      <td>3f207df678b143eea3cee63160fa8bed</td>\n",
       "      <td>NaN</td>\n",
       "    </tr>\n",
       "    <tr>\n",
       "      <th>272663</th>\n",
       "      <td>F</td>\n",
       "      <td>e4052622e5ba45a8b96b59aba68cf068</td>\n",
       "      <td>2017</td>\n",
       "      <td>7</td>\n",
       "      <td>Saturday</td>\n",
       "      <td>1733</td>\n",
       "      <td>1</td>\n",
       "      <td>2</td>\n",
       "      <td>transaction</td>\n",
       "      <td>6</td>\n",
       "      <td>None</td>\n",
       "      <td>None</td>\n",
       "      <td>24.71</td>\n",
       "    </tr>\n",
       "  </tbody>\n",
       "</table>\n",
       "<p>272664 rows × 13 columns</p>\n",
       "</div>"
      ],
      "text/plain": [
       "       gender                                id  year  month       day  \\\n",
       "0           F  0610b486422d4921ae7d2bf64640c50b  2017      7  Saturday   \n",
       "1           F  0610b486422d4921ae7d2bf64640c50b  2017      7  Saturday   \n",
       "2           F  0610b486422d4921ae7d2bf64640c50b  2017      7  Saturday   \n",
       "3           F  0610b486422d4921ae7d2bf64640c50b  2017      7  Saturday   \n",
       "4           F  0610b486422d4921ae7d2bf64640c50b  2017      7  Saturday   \n",
       "...       ...                               ...   ...    ...       ...   \n",
       "272659      F  e4052622e5ba45a8b96b59aba68cf068  2017      7  Saturday   \n",
       "272660      F  e4052622e5ba45a8b96b59aba68cf068  2017      7  Saturday   \n",
       "272661      F  e4052622e5ba45a8b96b59aba68cf068  2017      7  Saturday   \n",
       "272662      F  e4052622e5ba45a8b96b59aba68cf068  2017      7  Saturday   \n",
       "272663      F  e4052622e5ba45a8b96b59aba68cf068  2017      7  Saturday   \n",
       "\n",
       "        membership_days  age_group  income_group            event  time_group  \\\n",
       "0                  1740          0             3      transaction           0   \n",
       "1                  1740          0             3      transaction           1   \n",
       "2                  1740          0             3   offer received           4   \n",
       "3                  1740          0             3   offer received           5   \n",
       "4                  1740          0             3      transaction           5   \n",
       "...                 ...        ...           ...              ...         ...   \n",
       "272659             1733          1             2  offer completed           4   \n",
       "272660             1733          1             2      transaction           4   \n",
       "272661             1733          1             2     offer viewed           5   \n",
       "272662             1733          1             2   offer received           5   \n",
       "272663             1733          1             2      transaction           6   \n",
       "\n",
       "                offer                          offer_id  amount  \n",
       "0                None                              None   21.51  \n",
       "1                None                              None   32.28  \n",
       "2                bogo  9b98b8c7a33c4b65b9aebfe6a799e6d9     NaN  \n",
       "3       informational  3f207df678b143eea3cee63160fa8bed     NaN  \n",
       "4                None                              None   23.22  \n",
       "...               ...                               ...     ...  \n",
       "272659           bogo  f19421c1d4aa40978ebb69ca19b0e20d     NaN  \n",
       "272660           None                              None   19.47  \n",
       "272661           bogo  f19421c1d4aa40978ebb69ca19b0e20d     NaN  \n",
       "272662  informational  3f207df678b143eea3cee63160fa8bed     NaN  \n",
       "272663           None                              None   24.71  \n",
       "\n",
       "[272664 rows x 13 columns]"
      ]
     },
     "execution_count": 34,
     "metadata": {},
     "output_type": "execute_result"
    }
   ],
   "source": [
    "df['offer'] = df['offer'].str.replace('_', '')\n",
    "df['offer'] = df['offer'].str.replace('\\d+', '')\n",
    "df"
   ]
  },
  {
   "cell_type": "code",
   "execution_count": 35,
   "id": "6b417c89",
   "metadata": {
    "execution": {
     "iopub.execute_input": "2022-04-20T03:45:17.606055Z",
     "iopub.status.busy": "2022-04-20T03:45:17.605418Z",
     "iopub.status.idle": "2022-04-20T03:45:17.781290Z",
     "shell.execute_reply": "2022-04-20T03:45:17.780757Z",
     "shell.execute_reply.started": "2022-04-20T03:41:29.140299Z"
    },
    "papermill": {
     "duration": 0.256733,
     "end_time": "2022-04-20T03:45:17.781431",
     "exception": false,
     "start_time": "2022-04-20T03:45:17.524698",
     "status": "completed"
    },
    "tags": []
   },
   "outputs": [
    {
     "data": {
      "text/html": [
       "<div>\n",
       "<style scoped>\n",
       "    .dataframe tbody tr th:only-of-type {\n",
       "        vertical-align: middle;\n",
       "    }\n",
       "\n",
       "    .dataframe tbody tr th {\n",
       "        vertical-align: top;\n",
       "    }\n",
       "\n",
       "    .dataframe thead th {\n",
       "        text-align: right;\n",
       "    }\n",
       "</style>\n",
       "<table border=\"1\" class=\"dataframe\">\n",
       "  <thead>\n",
       "    <tr style=\"text-align: right;\">\n",
       "      <th></th>\n",
       "      <th>gender</th>\n",
       "      <th>id</th>\n",
       "      <th>year</th>\n",
       "      <th>month</th>\n",
       "      <th>day</th>\n",
       "      <th>membership_days</th>\n",
       "      <th>age_group</th>\n",
       "      <th>income_group</th>\n",
       "      <th>event</th>\n",
       "      <th>time_group</th>\n",
       "      <th>offer</th>\n",
       "      <th>offer_id</th>\n",
       "      <th>amount</th>\n",
       "    </tr>\n",
       "  </thead>\n",
       "  <tbody>\n",
       "    <tr>\n",
       "      <th>0</th>\n",
       "      <td>F</td>\n",
       "      <td>0610b486422d4921ae7d2bf64640c50b</td>\n",
       "      <td>2017</td>\n",
       "      <td>7</td>\n",
       "      <td>Saturday</td>\n",
       "      <td>1740</td>\n",
       "      <td>0</td>\n",
       "      <td>3</td>\n",
       "      <td>transaction</td>\n",
       "      <td>0</td>\n",
       "      <td>0</td>\n",
       "      <td>None</td>\n",
       "      <td>21.51</td>\n",
       "    </tr>\n",
       "    <tr>\n",
       "      <th>1</th>\n",
       "      <td>F</td>\n",
       "      <td>0610b486422d4921ae7d2bf64640c50b</td>\n",
       "      <td>2017</td>\n",
       "      <td>7</td>\n",
       "      <td>Saturday</td>\n",
       "      <td>1740</td>\n",
       "      <td>0</td>\n",
       "      <td>3</td>\n",
       "      <td>transaction</td>\n",
       "      <td>1</td>\n",
       "      <td>0</td>\n",
       "      <td>None</td>\n",
       "      <td>32.28</td>\n",
       "    </tr>\n",
       "    <tr>\n",
       "      <th>2</th>\n",
       "      <td>F</td>\n",
       "      <td>0610b486422d4921ae7d2bf64640c50b</td>\n",
       "      <td>2017</td>\n",
       "      <td>7</td>\n",
       "      <td>Saturday</td>\n",
       "      <td>1740</td>\n",
       "      <td>0</td>\n",
       "      <td>3</td>\n",
       "      <td>offer received</td>\n",
       "      <td>4</td>\n",
       "      <td>1</td>\n",
       "      <td>9b98b8c7a33c4b65b9aebfe6a799e6d9</td>\n",
       "      <td>NaN</td>\n",
       "    </tr>\n",
       "    <tr>\n",
       "      <th>3</th>\n",
       "      <td>F</td>\n",
       "      <td>0610b486422d4921ae7d2bf64640c50b</td>\n",
       "      <td>2017</td>\n",
       "      <td>7</td>\n",
       "      <td>Saturday</td>\n",
       "      <td>1740</td>\n",
       "      <td>0</td>\n",
       "      <td>3</td>\n",
       "      <td>offer received</td>\n",
       "      <td>5</td>\n",
       "      <td>3</td>\n",
       "      <td>3f207df678b143eea3cee63160fa8bed</td>\n",
       "      <td>NaN</td>\n",
       "    </tr>\n",
       "    <tr>\n",
       "      <th>4</th>\n",
       "      <td>F</td>\n",
       "      <td>0610b486422d4921ae7d2bf64640c50b</td>\n",
       "      <td>2017</td>\n",
       "      <td>7</td>\n",
       "      <td>Saturday</td>\n",
       "      <td>1740</td>\n",
       "      <td>0</td>\n",
       "      <td>3</td>\n",
       "      <td>transaction</td>\n",
       "      <td>5</td>\n",
       "      <td>0</td>\n",
       "      <td>None</td>\n",
       "      <td>23.22</td>\n",
       "    </tr>\n",
       "    <tr>\n",
       "      <th>...</th>\n",
       "      <td>...</td>\n",
       "      <td>...</td>\n",
       "      <td>...</td>\n",
       "      <td>...</td>\n",
       "      <td>...</td>\n",
       "      <td>...</td>\n",
       "      <td>...</td>\n",
       "      <td>...</td>\n",
       "      <td>...</td>\n",
       "      <td>...</td>\n",
       "      <td>...</td>\n",
       "      <td>...</td>\n",
       "      <td>...</td>\n",
       "    </tr>\n",
       "    <tr>\n",
       "      <th>272659</th>\n",
       "      <td>F</td>\n",
       "      <td>e4052622e5ba45a8b96b59aba68cf068</td>\n",
       "      <td>2017</td>\n",
       "      <td>7</td>\n",
       "      <td>Saturday</td>\n",
       "      <td>1733</td>\n",
       "      <td>1</td>\n",
       "      <td>2</td>\n",
       "      <td>offer completed</td>\n",
       "      <td>4</td>\n",
       "      <td>1</td>\n",
       "      <td>f19421c1d4aa40978ebb69ca19b0e20d</td>\n",
       "      <td>NaN</td>\n",
       "    </tr>\n",
       "    <tr>\n",
       "      <th>272660</th>\n",
       "      <td>F</td>\n",
       "      <td>e4052622e5ba45a8b96b59aba68cf068</td>\n",
       "      <td>2017</td>\n",
       "      <td>7</td>\n",
       "      <td>Saturday</td>\n",
       "      <td>1733</td>\n",
       "      <td>1</td>\n",
       "      <td>2</td>\n",
       "      <td>transaction</td>\n",
       "      <td>4</td>\n",
       "      <td>0</td>\n",
       "      <td>None</td>\n",
       "      <td>19.47</td>\n",
       "    </tr>\n",
       "    <tr>\n",
       "      <th>272661</th>\n",
       "      <td>F</td>\n",
       "      <td>e4052622e5ba45a8b96b59aba68cf068</td>\n",
       "      <td>2017</td>\n",
       "      <td>7</td>\n",
       "      <td>Saturday</td>\n",
       "      <td>1733</td>\n",
       "      <td>1</td>\n",
       "      <td>2</td>\n",
       "      <td>offer viewed</td>\n",
       "      <td>5</td>\n",
       "      <td>1</td>\n",
       "      <td>f19421c1d4aa40978ebb69ca19b0e20d</td>\n",
       "      <td>NaN</td>\n",
       "    </tr>\n",
       "    <tr>\n",
       "      <th>272662</th>\n",
       "      <td>F</td>\n",
       "      <td>e4052622e5ba45a8b96b59aba68cf068</td>\n",
       "      <td>2017</td>\n",
       "      <td>7</td>\n",
       "      <td>Saturday</td>\n",
       "      <td>1733</td>\n",
       "      <td>1</td>\n",
       "      <td>2</td>\n",
       "      <td>offer received</td>\n",
       "      <td>5</td>\n",
       "      <td>3</td>\n",
       "      <td>3f207df678b143eea3cee63160fa8bed</td>\n",
       "      <td>NaN</td>\n",
       "    </tr>\n",
       "    <tr>\n",
       "      <th>272663</th>\n",
       "      <td>F</td>\n",
       "      <td>e4052622e5ba45a8b96b59aba68cf068</td>\n",
       "      <td>2017</td>\n",
       "      <td>7</td>\n",
       "      <td>Saturday</td>\n",
       "      <td>1733</td>\n",
       "      <td>1</td>\n",
       "      <td>2</td>\n",
       "      <td>transaction</td>\n",
       "      <td>6</td>\n",
       "      <td>0</td>\n",
       "      <td>None</td>\n",
       "      <td>24.71</td>\n",
       "    </tr>\n",
       "  </tbody>\n",
       "</table>\n",
       "<p>272664 rows × 13 columns</p>\n",
       "</div>"
      ],
      "text/plain": [
       "       gender                                id  year  month       day  \\\n",
       "0           F  0610b486422d4921ae7d2bf64640c50b  2017      7  Saturday   \n",
       "1           F  0610b486422d4921ae7d2bf64640c50b  2017      7  Saturday   \n",
       "2           F  0610b486422d4921ae7d2bf64640c50b  2017      7  Saturday   \n",
       "3           F  0610b486422d4921ae7d2bf64640c50b  2017      7  Saturday   \n",
       "4           F  0610b486422d4921ae7d2bf64640c50b  2017      7  Saturday   \n",
       "...       ...                               ...   ...    ...       ...   \n",
       "272659      F  e4052622e5ba45a8b96b59aba68cf068  2017      7  Saturday   \n",
       "272660      F  e4052622e5ba45a8b96b59aba68cf068  2017      7  Saturday   \n",
       "272661      F  e4052622e5ba45a8b96b59aba68cf068  2017      7  Saturday   \n",
       "272662      F  e4052622e5ba45a8b96b59aba68cf068  2017      7  Saturday   \n",
       "272663      F  e4052622e5ba45a8b96b59aba68cf068  2017      7  Saturday   \n",
       "\n",
       "        membership_days  age_group  income_group            event  time_group  \\\n",
       "0                  1740          0             3      transaction           0   \n",
       "1                  1740          0             3      transaction           1   \n",
       "2                  1740          0             3   offer received           4   \n",
       "3                  1740          0             3   offer received           5   \n",
       "4                  1740          0             3      transaction           5   \n",
       "...                 ...        ...           ...              ...         ...   \n",
       "272659             1733          1             2  offer completed           4   \n",
       "272660             1733          1             2      transaction           4   \n",
       "272661             1733          1             2     offer viewed           5   \n",
       "272662             1733          1             2   offer received           5   \n",
       "272663             1733          1             2      transaction           6   \n",
       "\n",
       "        offer                          offer_id  amount  \n",
       "0           0                              None   21.51  \n",
       "1           0                              None   32.28  \n",
       "2           1  9b98b8c7a33c4b65b9aebfe6a799e6d9     NaN  \n",
       "3           3  3f207df678b143eea3cee63160fa8bed     NaN  \n",
       "4           0                              None   23.22  \n",
       "...       ...                               ...     ...  \n",
       "272659      1  f19421c1d4aa40978ebb69ca19b0e20d     NaN  \n",
       "272660      0                              None   19.47  \n",
       "272661      1  f19421c1d4aa40978ebb69ca19b0e20d     NaN  \n",
       "272662      3  3f207df678b143eea3cee63160fa8bed     NaN  \n",
       "272663      0                              None   24.71  \n",
       "\n",
       "[272664 rows x 13 columns]"
      ]
     },
     "execution_count": 35,
     "metadata": {},
     "output_type": "execute_result"
    }
   ],
   "source": [
    "from sklearn.preprocessing import LabelEncoder\n",
    "\n",
    "df = df.copy(deep = True)\n",
    "le_offer = LabelEncoder()\n",
    "df['offer'] = le_offer.fit_transform(df['offer'])\n",
    "df.head(5)\n",
    "df"
   ]
  },
  {
   "cell_type": "code",
   "execution_count": 36,
   "id": "738b57c2",
   "metadata": {
    "execution": {
     "iopub.execute_input": "2022-04-20T03:45:17.941801Z",
     "iopub.status.busy": "2022-04-20T03:45:17.941160Z",
     "iopub.status.idle": "2022-04-20T03:45:17.944102Z",
     "shell.execute_reply": "2022-04-20T03:45:17.943493Z",
     "shell.execute_reply.started": "2022-04-20T03:41:29.294443Z"
    },
    "papermill": {
     "duration": 0.086069,
     "end_time": "2022-04-20T03:45:17.944255",
     "exception": false,
     "start_time": "2022-04-20T03:45:17.858186",
     "status": "completed"
    },
    "tags": []
   },
   "outputs": [],
   "source": [
    "df.rename(columns={'id':'customer_id'}, inplace=True)\n"
   ]
  },
  {
   "cell_type": "code",
   "execution_count": 37,
   "id": "7b3ae029",
   "metadata": {
    "execution": {
     "iopub.execute_input": "2022-04-20T03:45:18.103725Z",
     "iopub.status.busy": "2022-04-20T03:45:18.102993Z",
     "iopub.status.idle": "2022-04-20T03:45:18.106140Z",
     "shell.execute_reply": "2022-04-20T03:45:18.105540Z",
     "shell.execute_reply.started": "2022-04-20T03:41:29.302568Z"
    },
    "papermill": {
     "duration": 0.08504,
     "end_time": "2022-04-20T03:45:18.106296",
     "exception": false,
     "start_time": "2022-04-20T03:45:18.021256",
     "status": "completed"
    },
    "tags": []
   },
   "outputs": [],
   "source": [
    "df.rename(columns={'offer_id':'id'}, inplace=True)\n"
   ]
  },
  {
   "cell_type": "code",
   "execution_count": 38,
   "id": "e4286628",
   "metadata": {
    "execution": {
     "iopub.execute_input": "2022-04-20T03:45:18.327931Z",
     "iopub.status.busy": "2022-04-20T03:45:18.318381Z",
     "iopub.status.idle": "2022-04-20T03:45:18.357792Z",
     "shell.execute_reply": "2022-04-20T03:45:18.357141Z",
     "shell.execute_reply.started": "2022-04-20T03:41:29.314475Z"
    },
    "papermill": {
     "duration": 0.17588,
     "end_time": "2022-04-20T03:45:18.357930",
     "exception": false,
     "start_time": "2022-04-20T03:45:18.182050",
     "status": "completed"
    },
    "tags": []
   },
   "outputs": [
    {
     "data": {
      "text/html": [
       "<div>                            <div id=\"80955fa0-32aa-44b5-9165-6185c66b2ea2\" class=\"plotly-graph-div\" style=\"height:525px; width:100%;\"></div>            <script type=\"text/javascript\">                require([\"plotly\"], function(Plotly) {                    window.PLOTLYENV=window.PLOTLYENV || {};                                    if (document.getElementById(\"80955fa0-32aa-44b5-9165-6185c66b2ea2\")) {                    Plotly.newPlot(                        \"80955fa0-32aa-44b5-9165-6185c66b2ea2\",                        [{\"domain\":{\"x\":[0.0,1.0],\"y\":[0.0,1.0]},\"hovertemplate\":\"event=%{label}<br>count=%{value}<extra></extra>\",\"labels\":[\"transaction\",\"offer received\",\"offer viewed\",\"offer completed\"],\"legendgroup\":\"\",\"name\":\"\",\"showlegend\":true,\"values\":[123910,66478,49844,32432],\"type\":\"pie\"}],                        {\"template\":{\"data\":{\"bar\":[{\"error_x\":{\"color\":\"#2a3f5f\"},\"error_y\":{\"color\":\"#2a3f5f\"},\"marker\":{\"line\":{\"color\":\"#E5ECF6\",\"width\":0.5},\"pattern\":{\"fillmode\":\"overlay\",\"size\":10,\"solidity\":0.2}},\"type\":\"bar\"}],\"barpolar\":[{\"marker\":{\"line\":{\"color\":\"#E5ECF6\",\"width\":0.5},\"pattern\":{\"fillmode\":\"overlay\",\"size\":10,\"solidity\":0.2}},\"type\":\"barpolar\"}],\"carpet\":[{\"aaxis\":{\"endlinecolor\":\"#2a3f5f\",\"gridcolor\":\"white\",\"linecolor\":\"white\",\"minorgridcolor\":\"white\",\"startlinecolor\":\"#2a3f5f\"},\"baxis\":{\"endlinecolor\":\"#2a3f5f\",\"gridcolor\":\"white\",\"linecolor\":\"white\",\"minorgridcolor\":\"white\",\"startlinecolor\":\"#2a3f5f\"},\"type\":\"carpet\"}],\"choropleth\":[{\"colorbar\":{\"outlinewidth\":0,\"ticks\":\"\"},\"type\":\"choropleth\"}],\"contour\":[{\"colorbar\":{\"outlinewidth\":0,\"ticks\":\"\"},\"colorscale\":[[0.0,\"#0d0887\"],[0.1111111111111111,\"#46039f\"],[0.2222222222222222,\"#7201a8\"],[0.3333333333333333,\"#9c179e\"],[0.4444444444444444,\"#bd3786\"],[0.5555555555555556,\"#d8576b\"],[0.6666666666666666,\"#ed7953\"],[0.7777777777777778,\"#fb9f3a\"],[0.8888888888888888,\"#fdca26\"],[1.0,\"#f0f921\"]],\"type\":\"contour\"}],\"contourcarpet\":[{\"colorbar\":{\"outlinewidth\":0,\"ticks\":\"\"},\"type\":\"contourcarpet\"}],\"heatmap\":[{\"colorbar\":{\"outlinewidth\":0,\"ticks\":\"\"},\"colorscale\":[[0.0,\"#0d0887\"],[0.1111111111111111,\"#46039f\"],[0.2222222222222222,\"#7201a8\"],[0.3333333333333333,\"#9c179e\"],[0.4444444444444444,\"#bd3786\"],[0.5555555555555556,\"#d8576b\"],[0.6666666666666666,\"#ed7953\"],[0.7777777777777778,\"#fb9f3a\"],[0.8888888888888888,\"#fdca26\"],[1.0,\"#f0f921\"]],\"type\":\"heatmap\"}],\"heatmapgl\":[{\"colorbar\":{\"outlinewidth\":0,\"ticks\":\"\"},\"colorscale\":[[0.0,\"#0d0887\"],[0.1111111111111111,\"#46039f\"],[0.2222222222222222,\"#7201a8\"],[0.3333333333333333,\"#9c179e\"],[0.4444444444444444,\"#bd3786\"],[0.5555555555555556,\"#d8576b\"],[0.6666666666666666,\"#ed7953\"],[0.7777777777777778,\"#fb9f3a\"],[0.8888888888888888,\"#fdca26\"],[1.0,\"#f0f921\"]],\"type\":\"heatmapgl\"}],\"histogram\":[{\"marker\":{\"pattern\":{\"fillmode\":\"overlay\",\"size\":10,\"solidity\":0.2}},\"type\":\"histogram\"}],\"histogram2d\":[{\"colorbar\":{\"outlinewidth\":0,\"ticks\":\"\"},\"colorscale\":[[0.0,\"#0d0887\"],[0.1111111111111111,\"#46039f\"],[0.2222222222222222,\"#7201a8\"],[0.3333333333333333,\"#9c179e\"],[0.4444444444444444,\"#bd3786\"],[0.5555555555555556,\"#d8576b\"],[0.6666666666666666,\"#ed7953\"],[0.7777777777777778,\"#fb9f3a\"],[0.8888888888888888,\"#fdca26\"],[1.0,\"#f0f921\"]],\"type\":\"histogram2d\"}],\"histogram2dcontour\":[{\"colorbar\":{\"outlinewidth\":0,\"ticks\":\"\"},\"colorscale\":[[0.0,\"#0d0887\"],[0.1111111111111111,\"#46039f\"],[0.2222222222222222,\"#7201a8\"],[0.3333333333333333,\"#9c179e\"],[0.4444444444444444,\"#bd3786\"],[0.5555555555555556,\"#d8576b\"],[0.6666666666666666,\"#ed7953\"],[0.7777777777777778,\"#fb9f3a\"],[0.8888888888888888,\"#fdca26\"],[1.0,\"#f0f921\"]],\"type\":\"histogram2dcontour\"}],\"mesh3d\":[{\"colorbar\":{\"outlinewidth\":0,\"ticks\":\"\"},\"type\":\"mesh3d\"}],\"parcoords\":[{\"line\":{\"colorbar\":{\"outlinewidth\":0,\"ticks\":\"\"}},\"type\":\"parcoords\"}],\"pie\":[{\"automargin\":true,\"type\":\"pie\"}],\"scatter\":[{\"marker\":{\"colorbar\":{\"outlinewidth\":0,\"ticks\":\"\"}},\"type\":\"scatter\"}],\"scatter3d\":[{\"line\":{\"colorbar\":{\"outlinewidth\":0,\"ticks\":\"\"}},\"marker\":{\"colorbar\":{\"outlinewidth\":0,\"ticks\":\"\"}},\"type\":\"scatter3d\"}],\"scattercarpet\":[{\"marker\":{\"colorbar\":{\"outlinewidth\":0,\"ticks\":\"\"}},\"type\":\"scattercarpet\"}],\"scattergeo\":[{\"marker\":{\"colorbar\":{\"outlinewidth\":0,\"ticks\":\"\"}},\"type\":\"scattergeo\"}],\"scattergl\":[{\"marker\":{\"colorbar\":{\"outlinewidth\":0,\"ticks\":\"\"}},\"type\":\"scattergl\"}],\"scattermapbox\":[{\"marker\":{\"colorbar\":{\"outlinewidth\":0,\"ticks\":\"\"}},\"type\":\"scattermapbox\"}],\"scatterpolar\":[{\"marker\":{\"colorbar\":{\"outlinewidth\":0,\"ticks\":\"\"}},\"type\":\"scatterpolar\"}],\"scatterpolargl\":[{\"marker\":{\"colorbar\":{\"outlinewidth\":0,\"ticks\":\"\"}},\"type\":\"scatterpolargl\"}],\"scatterternary\":[{\"marker\":{\"colorbar\":{\"outlinewidth\":0,\"ticks\":\"\"}},\"type\":\"scatterternary\"}],\"surface\":[{\"colorbar\":{\"outlinewidth\":0,\"ticks\":\"\"},\"colorscale\":[[0.0,\"#0d0887\"],[0.1111111111111111,\"#46039f\"],[0.2222222222222222,\"#7201a8\"],[0.3333333333333333,\"#9c179e\"],[0.4444444444444444,\"#bd3786\"],[0.5555555555555556,\"#d8576b\"],[0.6666666666666666,\"#ed7953\"],[0.7777777777777778,\"#fb9f3a\"],[0.8888888888888888,\"#fdca26\"],[1.0,\"#f0f921\"]],\"type\":\"surface\"}],\"table\":[{\"cells\":{\"fill\":{\"color\":\"#EBF0F8\"},\"line\":{\"color\":\"white\"}},\"header\":{\"fill\":{\"color\":\"#C8D4E3\"},\"line\":{\"color\":\"white\"}},\"type\":\"table\"}]},\"layout\":{\"annotationdefaults\":{\"arrowcolor\":\"#2a3f5f\",\"arrowhead\":0,\"arrowwidth\":1},\"autotypenumbers\":\"strict\",\"coloraxis\":{\"colorbar\":{\"outlinewidth\":0,\"ticks\":\"\"}},\"colorscale\":{\"diverging\":[[0,\"#8e0152\"],[0.1,\"#c51b7d\"],[0.2,\"#de77ae\"],[0.3,\"#f1b6da\"],[0.4,\"#fde0ef\"],[0.5,\"#f7f7f7\"],[0.6,\"#e6f5d0\"],[0.7,\"#b8e186\"],[0.8,\"#7fbc41\"],[0.9,\"#4d9221\"],[1,\"#276419\"]],\"sequential\":[[0.0,\"#0d0887\"],[0.1111111111111111,\"#46039f\"],[0.2222222222222222,\"#7201a8\"],[0.3333333333333333,\"#9c179e\"],[0.4444444444444444,\"#bd3786\"],[0.5555555555555556,\"#d8576b\"],[0.6666666666666666,\"#ed7953\"],[0.7777777777777778,\"#fb9f3a\"],[0.8888888888888888,\"#fdca26\"],[1.0,\"#f0f921\"]],\"sequentialminus\":[[0.0,\"#0d0887\"],[0.1111111111111111,\"#46039f\"],[0.2222222222222222,\"#7201a8\"],[0.3333333333333333,\"#9c179e\"],[0.4444444444444444,\"#bd3786\"],[0.5555555555555556,\"#d8576b\"],[0.6666666666666666,\"#ed7953\"],[0.7777777777777778,\"#fb9f3a\"],[0.8888888888888888,\"#fdca26\"],[1.0,\"#f0f921\"]]},\"colorway\":[\"#636efa\",\"#EF553B\",\"#00cc96\",\"#ab63fa\",\"#FFA15A\",\"#19d3f3\",\"#FF6692\",\"#B6E880\",\"#FF97FF\",\"#FECB52\"],\"font\":{\"color\":\"#2a3f5f\"},\"geo\":{\"bgcolor\":\"white\",\"lakecolor\":\"white\",\"landcolor\":\"#E5ECF6\",\"showlakes\":true,\"showland\":true,\"subunitcolor\":\"white\"},\"hoverlabel\":{\"align\":\"left\"},\"hovermode\":\"closest\",\"mapbox\":{\"style\":\"light\"},\"paper_bgcolor\":\"white\",\"plot_bgcolor\":\"#E5ECF6\",\"polar\":{\"angularaxis\":{\"gridcolor\":\"white\",\"linecolor\":\"white\",\"ticks\":\"\"},\"bgcolor\":\"#E5ECF6\",\"radialaxis\":{\"gridcolor\":\"white\",\"linecolor\":\"white\",\"ticks\":\"\"}},\"scene\":{\"xaxis\":{\"backgroundcolor\":\"#E5ECF6\",\"gridcolor\":\"white\",\"gridwidth\":2,\"linecolor\":\"white\",\"showbackground\":true,\"ticks\":\"\",\"zerolinecolor\":\"white\"},\"yaxis\":{\"backgroundcolor\":\"#E5ECF6\",\"gridcolor\":\"white\",\"gridwidth\":2,\"linecolor\":\"white\",\"showbackground\":true,\"ticks\":\"\",\"zerolinecolor\":\"white\"},\"zaxis\":{\"backgroundcolor\":\"#E5ECF6\",\"gridcolor\":\"white\",\"gridwidth\":2,\"linecolor\":\"white\",\"showbackground\":true,\"ticks\":\"\",\"zerolinecolor\":\"white\"}},\"shapedefaults\":{\"line\":{\"color\":\"#2a3f5f\"}},\"ternary\":{\"aaxis\":{\"gridcolor\":\"white\",\"linecolor\":\"white\",\"ticks\":\"\"},\"baxis\":{\"gridcolor\":\"white\",\"linecolor\":\"white\",\"ticks\":\"\"},\"bgcolor\":\"#E5ECF6\",\"caxis\":{\"gridcolor\":\"white\",\"linecolor\":\"white\",\"ticks\":\"\"}},\"title\":{\"x\":0.05},\"xaxis\":{\"automargin\":true,\"gridcolor\":\"white\",\"linecolor\":\"white\",\"ticks\":\"\",\"title\":{\"standoff\":15},\"zerolinecolor\":\"white\",\"zerolinewidth\":2},\"yaxis\":{\"automargin\":true,\"gridcolor\":\"white\",\"linecolor\":\"white\",\"ticks\":\"\",\"title\":{\"standoff\":15},\"zerolinecolor\":\"white\",\"zerolinewidth\":2}}},\"legend\":{\"tracegroupgap\":0},\"title\":{\"text\":\"Event\"},\"piecolorway\":[\"blue\",\"light green\"]},                        {\"responsive\": true}                    ).then(function(){\n",
       "                            \n",
       "var gd = document.getElementById('80955fa0-32aa-44b5-9165-6185c66b2ea2');\n",
       "var x = new MutationObserver(function (mutations, observer) {{\n",
       "        var display = window.getComputedStyle(gd).display;\n",
       "        if (!display || display === 'none') {{\n",
       "            console.log([gd, 'removed!']);\n",
       "            Plotly.purge(gd);\n",
       "            observer.disconnect();\n",
       "        }}\n",
       "}});\n",
       "\n",
       "// Listen for the removal of the full notebook cells\n",
       "var notebookContainer = gd.closest('#notebook-container');\n",
       "if (notebookContainer) {{\n",
       "    x.observe(notebookContainer, {childList: true});\n",
       "}}\n",
       "\n",
       "// Listen for the clearing of the current output cell\n",
       "var outputEl = gd.closest('.output');\n",
       "if (outputEl) {{\n",
       "    x.observe(outputEl, {childList: true});\n",
       "}}\n",
       "\n",
       "                        })                };                });            </script>        </div>"
      ]
     },
     "metadata": {},
     "output_type": "display_data"
    }
   ],
   "source": [
    "event = df.event.value_counts().reset_index()\n",
    "event.columns = ['event', 'count']\n",
    "fig = px.pie(event, values='count', names='event', title='Event',\n",
    "             color_discrete_sequence=['blue', 'light green'])\n",
    "fig.show()"
   ]
  },
  {
   "cell_type": "code",
   "execution_count": 39,
   "id": "2c40bef8",
   "metadata": {
    "execution": {
     "iopub.execute_input": "2022-04-20T03:45:18.563965Z",
     "iopub.status.busy": "2022-04-20T03:45:18.563309Z",
     "iopub.status.idle": "2022-04-20T03:45:18.759772Z",
     "shell.execute_reply": "2022-04-20T03:45:18.759157Z",
     "shell.execute_reply.started": "2022-04-20T03:41:29.412040Z"
    },
    "papermill": {
     "duration": 0.325016,
     "end_time": "2022-04-20T03:45:18.759914",
     "exception": false,
     "start_time": "2022-04-20T03:45:18.434898",
     "status": "completed"
    },
    "tags": []
   },
   "outputs": [],
   "source": [
    "transaction_df = df[df.event == 'transaction']\n",
    "offer_completed_df = df[df.event == 'offer completed']\n",
    "offer_viewed_df = df[df.event == 'offer viewed']\n",
    "offers_received_df = df[df.event == 'offer received']"
   ]
  },
  {
   "cell_type": "code",
   "execution_count": 40,
   "id": "e06d5f76",
   "metadata": {
    "execution": {
     "iopub.execute_input": "2022-04-20T03:45:18.940029Z",
     "iopub.status.busy": "2022-04-20T03:45:18.939089Z",
     "iopub.status.idle": "2022-04-20T03:45:18.942828Z",
     "shell.execute_reply": "2022-04-20T03:45:18.943341Z",
     "shell.execute_reply.started": "2022-04-20T03:41:29.633743Z"
    },
    "papermill": {
     "duration": 0.106386,
     "end_time": "2022-04-20T03:45:18.943510",
     "exception": false,
     "start_time": "2022-04-20T03:45:18.837124",
     "status": "completed"
    },
    "tags": []
   },
   "outputs": [
    {
     "data": {
      "text/html": [
       "<div>\n",
       "<style scoped>\n",
       "    .dataframe tbody tr th:only-of-type {\n",
       "        vertical-align: middle;\n",
       "    }\n",
       "\n",
       "    .dataframe tbody tr th {\n",
       "        vertical-align: top;\n",
       "    }\n",
       "\n",
       "    .dataframe thead th {\n",
       "        text-align: right;\n",
       "    }\n",
       "</style>\n",
       "<table border=\"1\" class=\"dataframe\">\n",
       "  <thead>\n",
       "    <tr style=\"text-align: right;\">\n",
       "      <th></th>\n",
       "      <th>gender</th>\n",
       "      <th>customer_id</th>\n",
       "      <th>year</th>\n",
       "      <th>month</th>\n",
       "      <th>day</th>\n",
       "      <th>membership_days</th>\n",
       "      <th>age_group</th>\n",
       "      <th>income_group</th>\n",
       "      <th>event</th>\n",
       "      <th>time_group</th>\n",
       "      <th>offer</th>\n",
       "      <th>id</th>\n",
       "      <th>amount</th>\n",
       "    </tr>\n",
       "  </thead>\n",
       "  <tbody>\n",
       "    <tr>\n",
       "      <th>2</th>\n",
       "      <td>F</td>\n",
       "      <td>0610b486422d4921ae7d2bf64640c50b</td>\n",
       "      <td>2017</td>\n",
       "      <td>7</td>\n",
       "      <td>Saturday</td>\n",
       "      <td>1740</td>\n",
       "      <td>0</td>\n",
       "      <td>3</td>\n",
       "      <td>offer received</td>\n",
       "      <td>4</td>\n",
       "      <td>1</td>\n",
       "      <td>9b98b8c7a33c4b65b9aebfe6a799e6d9</td>\n",
       "      <td>NaN</td>\n",
       "    </tr>\n",
       "    <tr>\n",
       "      <th>3</th>\n",
       "      <td>F</td>\n",
       "      <td>0610b486422d4921ae7d2bf64640c50b</td>\n",
       "      <td>2017</td>\n",
       "      <td>7</td>\n",
       "      <td>Saturday</td>\n",
       "      <td>1740</td>\n",
       "      <td>0</td>\n",
       "      <td>3</td>\n",
       "      <td>offer received</td>\n",
       "      <td>5</td>\n",
       "      <td>3</td>\n",
       "      <td>3f207df678b143eea3cee63160fa8bed</td>\n",
       "      <td>NaN</td>\n",
       "    </tr>\n",
       "    <tr>\n",
       "      <th>6</th>\n",
       "      <td>F</td>\n",
       "      <td>78afa995795e4d85b5d9ceeca43f5fef</td>\n",
       "      <td>2017</td>\n",
       "      <td>5</td>\n",
       "      <td>Tuesday</td>\n",
       "      <td>1807</td>\n",
       "      <td>1</td>\n",
       "      <td>2</td>\n",
       "      <td>offer received</td>\n",
       "      <td>0</td>\n",
       "      <td>1</td>\n",
       "      <td>9b98b8c7a33c4b65b9aebfe6a799e6d9</td>\n",
       "      <td>NaN</td>\n",
       "    </tr>\n",
       "    <tr>\n",
       "      <th>11</th>\n",
       "      <td>F</td>\n",
       "      <td>78afa995795e4d85b5d9ceeca43f5fef</td>\n",
       "      <td>2017</td>\n",
       "      <td>5</td>\n",
       "      <td>Tuesday</td>\n",
       "      <td>1807</td>\n",
       "      <td>1</td>\n",
       "      <td>2</td>\n",
       "      <td>offer received</td>\n",
       "      <td>1</td>\n",
       "      <td>3</td>\n",
       "      <td>5a8bc65990b245e5a138643cd4eb9837</td>\n",
       "      <td>NaN</td>\n",
       "    </tr>\n",
       "    <tr>\n",
       "      <th>16</th>\n",
       "      <td>F</td>\n",
       "      <td>78afa995795e4d85b5d9ceeca43f5fef</td>\n",
       "      <td>2017</td>\n",
       "      <td>5</td>\n",
       "      <td>Tuesday</td>\n",
       "      <td>1807</td>\n",
       "      <td>1</td>\n",
       "      <td>2</td>\n",
       "      <td>offer received</td>\n",
       "      <td>4</td>\n",
       "      <td>1</td>\n",
       "      <td>ae264e3637204a6fb9bb56bc8210ddfd</td>\n",
       "      <td>NaN</td>\n",
       "    </tr>\n",
       "    <tr>\n",
       "      <th>...</th>\n",
       "      <td>...</td>\n",
       "      <td>...</td>\n",
       "      <td>...</td>\n",
       "      <td>...</td>\n",
       "      <td>...</td>\n",
       "      <td>...</td>\n",
       "      <td>...</td>\n",
       "      <td>...</td>\n",
       "      <td>...</td>\n",
       "      <td>...</td>\n",
       "      <td>...</td>\n",
       "      <td>...</td>\n",
       "      <td>...</td>\n",
       "    </tr>\n",
       "    <tr>\n",
       "      <th>272643</th>\n",
       "      <td>F</td>\n",
       "      <td>9dc1421481194dcd9400aec7c9ae6366</td>\n",
       "      <td>2016</td>\n",
       "      <td>3</td>\n",
       "      <td>Monday</td>\n",
       "      <td>2235</td>\n",
       "      <td>1</td>\n",
       "      <td>0</td>\n",
       "      <td>offer received</td>\n",
       "      <td>5</td>\n",
       "      <td>1</td>\n",
       "      <td>ae264e3637204a6fb9bb56bc8210ddfd</td>\n",
       "      <td>NaN</td>\n",
       "    </tr>\n",
       "    <tr>\n",
       "      <th>272650</th>\n",
       "      <td>F</td>\n",
       "      <td>e4052622e5ba45a8b96b59aba68cf068</td>\n",
       "      <td>2017</td>\n",
       "      <td>7</td>\n",
       "      <td>Saturday</td>\n",
       "      <td>1733</td>\n",
       "      <td>1</td>\n",
       "      <td>2</td>\n",
       "      <td>offer received</td>\n",
       "      <td>0</td>\n",
       "      <td>2</td>\n",
       "      <td>2298d6c36e964ae4a3e7e9706d1fb8c2</td>\n",
       "      <td>NaN</td>\n",
       "    </tr>\n",
       "    <tr>\n",
       "      <th>272656</th>\n",
       "      <td>F</td>\n",
       "      <td>e4052622e5ba45a8b96b59aba68cf068</td>\n",
       "      <td>2017</td>\n",
       "      <td>7</td>\n",
       "      <td>Saturday</td>\n",
       "      <td>1733</td>\n",
       "      <td>1</td>\n",
       "      <td>2</td>\n",
       "      <td>offer received</td>\n",
       "      <td>3</td>\n",
       "      <td>3</td>\n",
       "      <td>3f207df678b143eea3cee63160fa8bed</td>\n",
       "      <td>NaN</td>\n",
       "    </tr>\n",
       "    <tr>\n",
       "      <th>272657</th>\n",
       "      <td>F</td>\n",
       "      <td>e4052622e5ba45a8b96b59aba68cf068</td>\n",
       "      <td>2017</td>\n",
       "      <td>7</td>\n",
       "      <td>Saturday</td>\n",
       "      <td>1733</td>\n",
       "      <td>1</td>\n",
       "      <td>2</td>\n",
       "      <td>offer received</td>\n",
       "      <td>4</td>\n",
       "      <td>1</td>\n",
       "      <td>f19421c1d4aa40978ebb69ca19b0e20d</td>\n",
       "      <td>NaN</td>\n",
       "    </tr>\n",
       "    <tr>\n",
       "      <th>272662</th>\n",
       "      <td>F</td>\n",
       "      <td>e4052622e5ba45a8b96b59aba68cf068</td>\n",
       "      <td>2017</td>\n",
       "      <td>7</td>\n",
       "      <td>Saturday</td>\n",
       "      <td>1733</td>\n",
       "      <td>1</td>\n",
       "      <td>2</td>\n",
       "      <td>offer received</td>\n",
       "      <td>5</td>\n",
       "      <td>3</td>\n",
       "      <td>3f207df678b143eea3cee63160fa8bed</td>\n",
       "      <td>NaN</td>\n",
       "    </tr>\n",
       "  </tbody>\n",
       "</table>\n",
       "<p>66478 rows × 13 columns</p>\n",
       "</div>"
      ],
      "text/plain": [
       "       gender                       customer_id  year  month       day  \\\n",
       "2           F  0610b486422d4921ae7d2bf64640c50b  2017      7  Saturday   \n",
       "3           F  0610b486422d4921ae7d2bf64640c50b  2017      7  Saturday   \n",
       "6           F  78afa995795e4d85b5d9ceeca43f5fef  2017      5   Tuesday   \n",
       "11          F  78afa995795e4d85b5d9ceeca43f5fef  2017      5   Tuesday   \n",
       "16          F  78afa995795e4d85b5d9ceeca43f5fef  2017      5   Tuesday   \n",
       "...       ...                               ...   ...    ...       ...   \n",
       "272643      F  9dc1421481194dcd9400aec7c9ae6366  2016      3    Monday   \n",
       "272650      F  e4052622e5ba45a8b96b59aba68cf068  2017      7  Saturday   \n",
       "272656      F  e4052622e5ba45a8b96b59aba68cf068  2017      7  Saturday   \n",
       "272657      F  e4052622e5ba45a8b96b59aba68cf068  2017      7  Saturday   \n",
       "272662      F  e4052622e5ba45a8b96b59aba68cf068  2017      7  Saturday   \n",
       "\n",
       "        membership_days  age_group  income_group           event  time_group  \\\n",
       "2                  1740          0             3  offer received           4   \n",
       "3                  1740          0             3  offer received           5   \n",
       "6                  1807          1             2  offer received           0   \n",
       "11                 1807          1             2  offer received           1   \n",
       "16                 1807          1             2  offer received           4   \n",
       "...                 ...        ...           ...             ...         ...   \n",
       "272643             2235          1             0  offer received           5   \n",
       "272650             1733          1             2  offer received           0   \n",
       "272656             1733          1             2  offer received           3   \n",
       "272657             1733          1             2  offer received           4   \n",
       "272662             1733          1             2  offer received           5   \n",
       "\n",
       "        offer                                id  amount  \n",
       "2           1  9b98b8c7a33c4b65b9aebfe6a799e6d9     NaN  \n",
       "3           3  3f207df678b143eea3cee63160fa8bed     NaN  \n",
       "6           1  9b98b8c7a33c4b65b9aebfe6a799e6d9     NaN  \n",
       "11          3  5a8bc65990b245e5a138643cd4eb9837     NaN  \n",
       "16          1  ae264e3637204a6fb9bb56bc8210ddfd     NaN  \n",
       "...       ...                               ...     ...  \n",
       "272643      1  ae264e3637204a6fb9bb56bc8210ddfd     NaN  \n",
       "272650      2  2298d6c36e964ae4a3e7e9706d1fb8c2     NaN  \n",
       "272656      3  3f207df678b143eea3cee63160fa8bed     NaN  \n",
       "272657      1  f19421c1d4aa40978ebb69ca19b0e20d     NaN  \n",
       "272662      3  3f207df678b143eea3cee63160fa8bed     NaN  \n",
       "\n",
       "[66478 rows x 13 columns]"
      ]
     },
     "execution_count": 40,
     "metadata": {},
     "output_type": "execute_result"
    }
   ],
   "source": [
    "offers_received_df"
   ]
  },
  {
   "cell_type": "code",
   "execution_count": 41,
   "id": "9169fe31",
   "metadata": {
    "execution": {
     "iopub.execute_input": "2022-04-20T03:45:19.136610Z",
     "iopub.status.busy": "2022-04-20T03:45:19.135660Z",
     "iopub.status.idle": "2022-04-20T03:45:19.288937Z",
     "shell.execute_reply": "2022-04-20T03:45:19.289484Z",
     "shell.execute_reply.started": "2022-04-20T03:41:29.660111Z"
    },
    "papermill": {
     "duration": 0.268565,
     "end_time": "2022-04-20T03:45:19.289649",
     "exception": false,
     "start_time": "2022-04-20T03:45:19.021084",
     "status": "completed"
    },
    "tags": []
   },
   "outputs": [
    {
     "data": {
      "text/html": [
       "<div>\n",
       "<style scoped>\n",
       "    .dataframe tbody tr th:only-of-type {\n",
       "        vertical-align: middle;\n",
       "    }\n",
       "\n",
       "    .dataframe tbody tr th {\n",
       "        vertical-align: top;\n",
       "    }\n",
       "\n",
       "    .dataframe thead th {\n",
       "        text-align: right;\n",
       "    }\n",
       "</style>\n",
       "<table border=\"1\" class=\"dataframe\">\n",
       "  <thead>\n",
       "    <tr style=\"text-align: right;\">\n",
       "      <th></th>\n",
       "      <th>gender</th>\n",
       "      <th>customer_id</th>\n",
       "      <th>year</th>\n",
       "      <th>month</th>\n",
       "      <th>day</th>\n",
       "      <th>membership_days</th>\n",
       "      <th>age_group</th>\n",
       "      <th>income_group</th>\n",
       "      <th>event</th>\n",
       "      <th>time_group</th>\n",
       "      <th>offer</th>\n",
       "      <th>id</th>\n",
       "      <th>amount</th>\n",
       "      <th>reward</th>\n",
       "      <th>channels</th>\n",
       "      <th>difficulty</th>\n",
       "      <th>duration</th>\n",
       "      <th>offer_type</th>\n",
       "    </tr>\n",
       "  </thead>\n",
       "  <tbody>\n",
       "    <tr>\n",
       "      <th>0</th>\n",
       "      <td>F</td>\n",
       "      <td>0610b486422d4921ae7d2bf64640c50b</td>\n",
       "      <td>2017</td>\n",
       "      <td>7</td>\n",
       "      <td>Saturday</td>\n",
       "      <td>1740</td>\n",
       "      <td>0</td>\n",
       "      <td>3</td>\n",
       "      <td>offer received</td>\n",
       "      <td>4</td>\n",
       "      <td>1</td>\n",
       "      <td>9b98b8c7a33c4b65b9aebfe6a799e6d9</td>\n",
       "      <td>NaN</td>\n",
       "      <td>5</td>\n",
       "      <td>['web', 'email', 'mobile']</td>\n",
       "      <td>5</td>\n",
       "      <td>7</td>\n",
       "      <td>bogo</td>\n",
       "    </tr>\n",
       "    <tr>\n",
       "      <th>1</th>\n",
       "      <td>F</td>\n",
       "      <td>0610b486422d4921ae7d2bf64640c50b</td>\n",
       "      <td>2017</td>\n",
       "      <td>7</td>\n",
       "      <td>Saturday</td>\n",
       "      <td>1740</td>\n",
       "      <td>0</td>\n",
       "      <td>3</td>\n",
       "      <td>offer completed</td>\n",
       "      <td>5</td>\n",
       "      <td>1</td>\n",
       "      <td>9b98b8c7a33c4b65b9aebfe6a799e6d9</td>\n",
       "      <td>NaN</td>\n",
       "      <td>5</td>\n",
       "      <td>['web', 'email', 'mobile']</td>\n",
       "      <td>5</td>\n",
       "      <td>7</td>\n",
       "      <td>bogo</td>\n",
       "    </tr>\n",
       "  </tbody>\n",
       "</table>\n",
       "</div>"
      ],
      "text/plain": [
       "  gender                       customer_id  year  month       day  \\\n",
       "0      F  0610b486422d4921ae7d2bf64640c50b  2017      7  Saturday   \n",
       "1      F  0610b486422d4921ae7d2bf64640c50b  2017      7  Saturday   \n",
       "\n",
       "   membership_days  age_group  income_group            event  time_group  \\\n",
       "0             1740          0             3   offer received           4   \n",
       "1             1740          0             3  offer completed           5   \n",
       "\n",
       "   offer                                id  amount  reward  \\\n",
       "0      1  9b98b8c7a33c4b65b9aebfe6a799e6d9     NaN       5   \n",
       "1      1  9b98b8c7a33c4b65b9aebfe6a799e6d9     NaN       5   \n",
       "\n",
       "                     channels  difficulty  duration offer_type  \n",
       "0  ['web', 'email', 'mobile']           5         7       bogo  \n",
       "1  ['web', 'email', 'mobile']           5         7       bogo  "
      ]
     },
     "execution_count": 41,
     "metadata": {},
     "output_type": "execute_result"
    }
   ],
   "source": [
    "df1 = pd.merge(df, portfolio, on='id')\n",
    "df1.head(2)"
   ]
  },
  {
   "cell_type": "code",
   "execution_count": 42,
   "id": "923921a0",
   "metadata": {
    "execution": {
     "iopub.execute_input": "2022-04-20T03:45:19.447684Z",
     "iopub.status.busy": "2022-04-20T03:45:19.446715Z",
     "iopub.status.idle": "2022-04-20T03:45:19.605855Z",
     "shell.execute_reply": "2022-04-20T03:45:19.606413Z",
     "shell.execute_reply.started": "2022-04-20T03:41:29.838878Z"
    },
    "papermill": {
     "duration": 0.239655,
     "end_time": "2022-04-20T03:45:19.606595",
     "exception": false,
     "start_time": "2022-04-20T03:45:19.366940",
     "status": "completed"
    },
    "tags": []
   },
   "outputs": [],
   "source": [
    "from sklearn.preprocessing import LabelEncoder\n",
    "\n",
    "df1 = df1.copy(deep = True)\n",
    "le_id = LabelEncoder()\n",
    "df1['customer_id'] = le_id.fit_transform(df1['customer_id'])\n"
   ]
  },
  {
   "cell_type": "code",
   "execution_count": 43,
   "id": "ca48368a",
   "metadata": {
    "execution": {
     "iopub.execute_input": "2022-04-20T03:45:19.769280Z",
     "iopub.status.busy": "2022-04-20T03:45:19.768545Z",
     "iopub.status.idle": "2022-04-20T03:45:19.866550Z",
     "shell.execute_reply": "2022-04-20T03:45:19.865935Z",
     "shell.execute_reply.started": "2022-04-20T03:41:29.979633Z"
    },
    "papermill": {
     "duration": 0.181441,
     "end_time": "2022-04-20T03:45:19.866695",
     "exception": false,
     "start_time": "2022-04-20T03:45:19.685254",
     "status": "completed"
    },
    "tags": []
   },
   "outputs": [],
   "source": [
    "from sklearn.preprocessing import LabelEncoder\n",
    "\n",
    "df1 = df1.copy(deep = True)\n",
    "le_id = LabelEncoder()\n",
    "df1['id'] = le_id.fit_transform(df1['id'])\n"
   ]
  },
  {
   "cell_type": "code",
   "execution_count": 44,
   "id": "eebbac89",
   "metadata": {
    "execution": {
     "iopub.execute_input": "2022-04-20T03:45:20.031157Z",
     "iopub.status.busy": "2022-04-20T03:45:20.029750Z",
     "iopub.status.idle": "2022-04-20T03:45:20.089193Z",
     "shell.execute_reply": "2022-04-20T03:45:20.088636Z",
     "shell.execute_reply.started": "2022-04-20T03:41:30.088878Z"
    },
    "papermill": {
     "duration": 0.143726,
     "end_time": "2022-04-20T03:45:20.089350",
     "exception": false,
     "start_time": "2022-04-20T03:45:19.945624",
     "status": "completed"
    },
    "tags": []
   },
   "outputs": [],
   "source": [
    "from sklearn.preprocessing import LabelEncoder\n",
    "\n",
    "df1 = df1.copy(deep = True)\n",
    "le_type = LabelEncoder()\n",
    "df1['offer_type'] = le_type.fit_transform(df1['offer_type'])\n"
   ]
  },
  {
   "cell_type": "code",
   "execution_count": 45,
   "id": "3904e0ec",
   "metadata": {
    "execution": {
     "iopub.execute_input": "2022-04-20T03:45:20.257419Z",
     "iopub.status.busy": "2022-04-20T03:45:20.256253Z",
     "iopub.status.idle": "2022-04-20T03:45:20.342319Z",
     "shell.execute_reply": "2022-04-20T03:45:20.342795Z",
     "shell.execute_reply.started": "2022-04-20T03:41:30.155518Z"
    },
    "papermill": {
     "duration": 0.176584,
     "end_time": "2022-04-20T03:45:20.342970",
     "exception": false,
     "start_time": "2022-04-20T03:45:20.166386",
     "status": "completed"
    },
    "tags": []
   },
   "outputs": [],
   "source": [
    "users = df1.copy(deep = True) \n",
    "offers = df1.copy(deep = True)\n",
    "rewards = df1.copy(deep = True)\n",
    "users = df1.drop(['year','day', 'month', 'amount', 'offer','id', 'event', 'time_group', 'offer', 'reward', 'channels', 'difficulty', 'duration'],axis=1)\n",
    "offers = df1.drop(['year','day', 'month', 'amount', 'event', 'customer_id', 'gender', 'age_group', 'income_group', 'time_group', 'reward',  'difficulty', 'duration'],axis=1)\n",
    "rewards = df1.drop(['year','day', 'month', 'amount', 'event', 'gender', 'age_group', 'income_group', 'time_group','membership_days',  'difficulty', 'duration'],axis=1)"
   ]
  },
  {
   "cell_type": "code",
   "execution_count": 46,
   "id": "9d1d0b5d",
   "metadata": {
    "execution": {
     "iopub.execute_input": "2022-04-20T03:45:20.520406Z",
     "iopub.status.busy": "2022-04-20T03:45:20.519331Z",
     "iopub.status.idle": "2022-04-20T03:45:20.529544Z",
     "shell.execute_reply": "2022-04-20T03:45:20.530101Z",
     "shell.execute_reply.started": "2022-04-20T03:41:30.228830Z"
    },
    "papermill": {
     "duration": 0.106449,
     "end_time": "2022-04-20T03:45:20.530321",
     "exception": false,
     "start_time": "2022-04-20T03:45:20.423872",
     "status": "completed"
    },
    "tags": []
   },
   "outputs": [
    {
     "data": {
      "text/html": [
       "<div>\n",
       "<style scoped>\n",
       "    .dataframe tbody tr th:only-of-type {\n",
       "        vertical-align: middle;\n",
       "    }\n",
       "\n",
       "    .dataframe tbody tr th {\n",
       "        vertical-align: top;\n",
       "    }\n",
       "\n",
       "    .dataframe thead th {\n",
       "        text-align: right;\n",
       "    }\n",
       "</style>\n",
       "<table border=\"1\" class=\"dataframe\">\n",
       "  <thead>\n",
       "    <tr style=\"text-align: right;\">\n",
       "      <th></th>\n",
       "      <th>membership_days</th>\n",
       "      <th>offer</th>\n",
       "      <th>id</th>\n",
       "      <th>channels</th>\n",
       "      <th>offer_type</th>\n",
       "    </tr>\n",
       "  </thead>\n",
       "  <tbody>\n",
       "    <tr>\n",
       "      <th>0</th>\n",
       "      <td>1740</td>\n",
       "      <td>1</td>\n",
       "      <td>6</td>\n",
       "      <td>['web', 'email', 'mobile']</td>\n",
       "      <td>0</td>\n",
       "    </tr>\n",
       "    <tr>\n",
       "      <th>1</th>\n",
       "      <td>1740</td>\n",
       "      <td>1</td>\n",
       "      <td>6</td>\n",
       "      <td>['web', 'email', 'mobile']</td>\n",
       "      <td>0</td>\n",
       "    </tr>\n",
       "  </tbody>\n",
       "</table>\n",
       "</div>"
      ],
      "text/plain": [
       "   membership_days  offer  id                    channels  offer_type\n",
       "0             1740      1   6  ['web', 'email', 'mobile']           0\n",
       "1             1740      1   6  ['web', 'email', 'mobile']           0"
      ]
     },
     "execution_count": 46,
     "metadata": {},
     "output_type": "execute_result"
    }
   ],
   "source": [
    "offers.head(2)"
   ]
  },
  {
   "cell_type": "code",
   "execution_count": 47,
   "id": "09f480e3",
   "metadata": {
    "execution": {
     "iopub.execute_input": "2022-04-20T03:45:20.696419Z",
     "iopub.status.busy": "2022-04-20T03:45:20.695406Z",
     "iopub.status.idle": "2022-04-20T03:45:20.706434Z",
     "shell.execute_reply": "2022-04-20T03:45:20.707023Z",
     "shell.execute_reply.started": "2022-04-20T03:41:30.243049Z"
    },
    "papermill": {
     "duration": 0.093689,
     "end_time": "2022-04-20T03:45:20.707193",
     "exception": false,
     "start_time": "2022-04-20T03:45:20.613504",
     "status": "completed"
    },
    "tags": []
   },
   "outputs": [
    {
     "data": {
      "text/html": [
       "<div>\n",
       "<style scoped>\n",
       "    .dataframe tbody tr th:only-of-type {\n",
       "        vertical-align: middle;\n",
       "    }\n",
       "\n",
       "    .dataframe tbody tr th {\n",
       "        vertical-align: top;\n",
       "    }\n",
       "\n",
       "    .dataframe thead th {\n",
       "        text-align: right;\n",
       "    }\n",
       "</style>\n",
       "<table border=\"1\" class=\"dataframe\">\n",
       "  <thead>\n",
       "    <tr style=\"text-align: right;\">\n",
       "      <th></th>\n",
       "      <th>gender</th>\n",
       "      <th>customer_id</th>\n",
       "      <th>membership_days</th>\n",
       "      <th>age_group</th>\n",
       "      <th>income_group</th>\n",
       "      <th>offer_type</th>\n",
       "    </tr>\n",
       "  </thead>\n",
       "  <tbody>\n",
       "    <tr>\n",
       "      <th>0</th>\n",
       "      <td>F</td>\n",
       "      <td>345</td>\n",
       "      <td>1740</td>\n",
       "      <td>0</td>\n",
       "      <td>3</td>\n",
       "      <td>0</td>\n",
       "    </tr>\n",
       "    <tr>\n",
       "      <th>1</th>\n",
       "      <td>F</td>\n",
       "      <td>345</td>\n",
       "      <td>1740</td>\n",
       "      <td>0</td>\n",
       "      <td>3</td>\n",
       "      <td>0</td>\n",
       "    </tr>\n",
       "  </tbody>\n",
       "</table>\n",
       "</div>"
      ],
      "text/plain": [
       "  gender  customer_id  membership_days  age_group  income_group  offer_type\n",
       "0      F          345             1740          0             3           0\n",
       "1      F          345             1740          0             3           0"
      ]
     },
     "execution_count": 47,
     "metadata": {},
     "output_type": "execute_result"
    }
   ],
   "source": [
    "users.head(2)"
   ]
  },
  {
   "cell_type": "code",
   "execution_count": 48,
   "id": "5aef79e7",
   "metadata": {
    "execution": {
     "iopub.execute_input": "2022-04-20T03:45:20.876062Z",
     "iopub.status.busy": "2022-04-20T03:45:20.875158Z",
     "iopub.status.idle": "2022-04-20T03:45:20.885033Z",
     "shell.execute_reply": "2022-04-20T03:45:20.885663Z",
     "shell.execute_reply.started": "2022-04-20T03:41:30.259983Z"
    },
    "papermill": {
     "duration": 0.091718,
     "end_time": "2022-04-20T03:45:20.885824",
     "exception": false,
     "start_time": "2022-04-20T03:45:20.794106",
     "status": "completed"
    },
    "tags": []
   },
   "outputs": [
    {
     "data": {
      "text/html": [
       "<div>\n",
       "<style scoped>\n",
       "    .dataframe tbody tr th:only-of-type {\n",
       "        vertical-align: middle;\n",
       "    }\n",
       "\n",
       "    .dataframe tbody tr th {\n",
       "        vertical-align: top;\n",
       "    }\n",
       "\n",
       "    .dataframe thead th {\n",
       "        text-align: right;\n",
       "    }\n",
       "</style>\n",
       "<table border=\"1\" class=\"dataframe\">\n",
       "  <thead>\n",
       "    <tr style=\"text-align: right;\">\n",
       "      <th></th>\n",
       "      <th>customer_id</th>\n",
       "      <th>offer</th>\n",
       "      <th>id</th>\n",
       "      <th>reward</th>\n",
       "      <th>channels</th>\n",
       "      <th>offer_type</th>\n",
       "    </tr>\n",
       "  </thead>\n",
       "  <tbody>\n",
       "    <tr>\n",
       "      <th>0</th>\n",
       "      <td>345</td>\n",
       "      <td>1</td>\n",
       "      <td>6</td>\n",
       "      <td>5</td>\n",
       "      <td>['web', 'email', 'mobile']</td>\n",
       "      <td>0</td>\n",
       "    </tr>\n",
       "    <tr>\n",
       "      <th>1</th>\n",
       "      <td>345</td>\n",
       "      <td>1</td>\n",
       "      <td>6</td>\n",
       "      <td>5</td>\n",
       "      <td>['web', 'email', 'mobile']</td>\n",
       "      <td>0</td>\n",
       "    </tr>\n",
       "  </tbody>\n",
       "</table>\n",
       "</div>"
      ],
      "text/plain": [
       "   customer_id  offer  id  reward                    channels  offer_type\n",
       "0          345      1   6       5  ['web', 'email', 'mobile']           0\n",
       "1          345      1   6       5  ['web', 'email', 'mobile']           0"
      ]
     },
     "execution_count": 48,
     "metadata": {},
     "output_type": "execute_result"
    }
   ],
   "source": [
    "rewards.head(2)"
   ]
  },
  {
   "cell_type": "code",
   "execution_count": 49,
   "id": "e18a2c57",
   "metadata": {
    "execution": {
     "iopub.execute_input": "2022-04-20T03:45:21.047792Z",
     "iopub.status.busy": "2022-04-20T03:45:21.046834Z",
     "iopub.status.idle": "2022-04-20T03:45:21.054034Z",
     "shell.execute_reply": "2022-04-20T03:45:21.054610Z",
     "shell.execute_reply.started": "2022-04-20T03:41:30.279435Z"
    },
    "papermill": {
     "duration": 0.090155,
     "end_time": "2022-04-20T03:45:21.054779",
     "exception": false,
     "start_time": "2022-04-20T03:45:20.964624",
     "status": "completed"
    },
    "tags": []
   },
   "outputs": [],
   "source": [
    "n_users = users.customer_id.unique().shape[0]\n",
    "n_offers = offers.offer_type.unique().shape[0]"
   ]
  },
  {
   "cell_type": "code",
   "execution_count": 50,
   "id": "869bf6e8",
   "metadata": {
    "execution": {
     "iopub.execute_input": "2022-04-20T03:45:21.221921Z",
     "iopub.status.busy": "2022-04-20T03:45:21.220913Z",
     "iopub.status.idle": "2022-04-20T03:45:21.542948Z",
     "shell.execute_reply": "2022-04-20T03:45:21.543532Z",
     "shell.execute_reply.started": "2022-04-20T03:42:18.141081Z"
    },
    "papermill": {
     "duration": 0.406892,
     "end_time": "2022-04-20T03:45:21.543706",
     "exception": false,
     "start_time": "2022-04-20T03:45:21.136814",
     "status": "completed"
    },
    "tags": []
   },
   "outputs": [
    {
     "name": "stdout",
     "output_type": "stream",
     "text": [
      "Original rating matrix :  [[6. 0. 5.]\n",
      " [4. 9. 5.]\n",
      " [8. 1. 5.]\n",
      " ...\n",
      " [8. 0. 5.]\n",
      " [6. 0. 0.]\n",
      " [8. 9. 5.]]\n"
     ]
    }
   ],
   "source": [
    "\n",
    "A = np.zeros((n_users,n_offers))\n",
    "for line in rewards.itertuples():\n",
    "    A[line[1]-1,line[2]-1] = line[3]\n",
    "print(\"Original rating matrix : \",A)"
   ]
  },
  {
   "cell_type": "code",
   "execution_count": 51,
   "id": "8f8f8c74",
   "metadata": {
    "execution": {
     "iopub.execute_input": "2022-04-20T03:45:21.723870Z",
     "iopub.status.busy": "2022-04-20T03:45:21.723236Z",
     "iopub.status.idle": "2022-04-20T03:45:21.793752Z",
     "shell.execute_reply": "2022-04-20T03:45:21.793160Z",
     "shell.execute_reply.started": "2022-04-20T03:42:24.477894Z"
    },
    "papermill": {
     "duration": 0.170502,
     "end_time": "2022-04-20T03:45:21.793892",
     "exception": false,
     "start_time": "2022-04-20T03:45:21.623390",
     "status": "completed"
    },
    "tags": []
   },
   "outputs": [],
   "source": [
    "for i in range(len(A)):\n",
    "  for j in range(len(A[0])):\n",
    "    if A[i][j]>=3:\n",
    "      A[i][j]=1\n",
    "    else:\n",
    "      A[i][j]=0"
   ]
  },
  {
   "cell_type": "code",
   "execution_count": 52,
   "id": "e070d605",
   "metadata": {
    "execution": {
     "iopub.execute_input": "2022-04-20T03:45:21.956890Z",
     "iopub.status.busy": "2022-04-20T03:45:21.955901Z",
     "iopub.status.idle": "2022-04-20T03:45:21.963485Z",
     "shell.execute_reply": "2022-04-20T03:45:21.963920Z",
     "shell.execute_reply.started": "2022-04-20T03:42:27.695231Z"
    },
    "papermill": {
     "duration": 0.090966,
     "end_time": "2022-04-20T03:45:21.964095",
     "exception": false,
     "start_time": "2022-04-20T03:45:21.873129",
     "status": "completed"
    },
    "tags": []
   },
   "outputs": [
    {
     "name": "stdout",
     "output_type": "stream",
     "text": [
      "  (0, 0)\t1.0\n",
      "  (0, 2)\t1.0\n",
      "  (1, 0)\t1.0\n",
      "  (1, 1)\t1.0\n",
      "  (1, 2)\t1.0\n",
      "  (2, 0)\t1.0\n",
      "  (2, 2)\t1.0\n",
      "  (3, 2)\t1.0\n",
      "  (4, 2)\t1.0\n",
      "  (5, 0)\t1.0\n",
      "  (5, 1)\t1.0\n",
      "  (5, 2)\t1.0\n",
      "  (6, 0)\t1.0\n",
      "  (6, 1)\t1.0\n",
      "  (7, 0)\t1.0\n",
      "  (8, 0)\t1.0\n",
      "  (8, 2)\t1.0\n",
      "  (9, 0)\t1.0\n",
      "  (9, 2)\t1.0\n",
      "  (10, 0)\t1.0\n",
      "  (10, 2)\t1.0\n",
      "  (11, 0)\t1.0\n",
      "  (11, 2)\t1.0\n",
      "  (12, 0)\t1.0\n",
      "  (13, 0)\t1.0\n",
      "  :\t:\n",
      "  (14803, 0)\t1.0\n",
      "  (14803, 1)\t1.0\n",
      "  (14804, 0)\t1.0\n",
      "  (14804, 2)\t1.0\n",
      "  (14805, 0)\t1.0\n",
      "  (14805, 2)\t1.0\n",
      "  (14806, 0)\t1.0\n",
      "  (14807, 0)\t1.0\n",
      "  (14807, 2)\t1.0\n",
      "  (14808, 0)\t1.0\n",
      "  (14808, 1)\t1.0\n",
      "  (14809, 0)\t1.0\n",
      "  (14809, 1)\t1.0\n",
      "  (14809, 2)\t1.0\n",
      "  (14810, 0)\t1.0\n",
      "  (14810, 1)\t1.0\n",
      "  (14811, 0)\t1.0\n",
      "  (14811, 1)\t1.0\n",
      "  (14811, 2)\t1.0\n",
      "  (14812, 0)\t1.0\n",
      "  (14812, 2)\t1.0\n",
      "  (14813, 0)\t1.0\n",
      "  (14814, 0)\t1.0\n",
      "  (14814, 1)\t1.0\n",
      "  (14814, 2)\t1.0\n"
     ]
    }
   ],
   "source": [
    "csr_sample = csr_matrix(A)\n",
    "print(csr_sample)"
   ]
  },
  {
   "cell_type": "code",
   "execution_count": 53,
   "id": "ddde9b98",
   "metadata": {
    "execution": {
     "iopub.execute_input": "2022-04-20T03:45:22.128844Z",
     "iopub.status.busy": "2022-04-20T03:45:22.128163Z",
     "iopub.status.idle": "2022-04-20T03:45:22.135562Z",
     "shell.execute_reply": "2022-04-20T03:45:22.135998Z",
     "shell.execute_reply.started": "2022-04-20T03:42:34.830549Z"
    },
    "papermill": {
     "duration": 0.092467,
     "end_time": "2022-04-20T03:45:22.136172",
     "exception": false,
     "start_time": "2022-04-20T03:45:22.043705",
     "status": "completed"
    },
    "tags": []
   },
   "outputs": [
    {
     "data": {
      "text/plain": [
       "NearestNeighbors(algorithm='brute', metric='cosine', n_jobs=-1, n_neighbors=3)"
      ]
     },
     "execution_count": 53,
     "metadata": {},
     "output_type": "execute_result"
    }
   ],
   "source": [
    "knn = NearestNeighbors(metric='cosine', algorithm='brute', n_neighbors=3, n_jobs=-1)\n",
    "knn.fit(csr_sample)"
   ]
  },
  {
   "cell_type": "code",
   "execution_count": 54,
   "id": "432166f9",
   "metadata": {
    "execution": {
     "iopub.execute_input": "2022-04-20T03:45:22.299535Z",
     "iopub.status.busy": "2022-04-20T03:45:22.298605Z",
     "iopub.status.idle": "2022-04-20T03:45:22.331878Z",
     "shell.execute_reply": "2022-04-20T03:45:22.331374Z",
     "shell.execute_reply.started": "2022-04-20T03:42:54.334490Z"
    },
    "papermill": {
     "duration": 0.11568,
     "end_time": "2022-04-20T03:45:22.332016",
     "exception": false,
     "start_time": "2022-04-20T03:45:22.216336",
     "status": "completed"
    },
    "tags": []
   },
   "outputs": [
    {
     "name": "stdout",
     "output_type": "stream",
     "text": [
      "offers recommended for user:  27433     2\n",
      "27434     2\n",
      "3472      0\n",
      "16792     2\n",
      "16793     2\n",
      "123251    1\n",
      "106768    1\n",
      "123250    1\n",
      "106767    1\n",
      "123252    1\n",
      "3470      0\n",
      "3471      0\n",
      "106769    1\n",
      "Name: offer_type, dtype: int64\n"
     ]
    }
   ],
   "source": [
    "dataset_sort_des = rewards.sort_values(['customer_id'], ascending=[True])\n",
    "filter1 = dataset_sort_des[dataset_sort_des['customer_id'] == 1].offer_type\n",
    "filter1 \n",
    "print(\"offers recommended for user: \",filter1)"
   ]
  },
  {
   "cell_type": "code",
   "execution_count": null,
   "id": "38d59e49",
   "metadata": {
    "execution": {
     "iopub.execute_input": "2022-04-20T03:43:04.757122Z",
     "iopub.status.busy": "2022-04-20T03:43:04.756710Z",
     "iopub.status.idle": "2022-04-20T03:43:04.761897Z",
     "shell.execute_reply": "2022-04-20T03:43:04.761111Z",
     "shell.execute_reply.started": "2022-04-20T03:43:04.757089Z"
    },
    "papermill": {
     "duration": 0.080033,
     "end_time": "2022-04-20T03:45:22.492295",
     "exception": false,
     "start_time": "2022-04-20T03:45:22.412262",
     "status": "completed"
    },
    "tags": []
   },
   "outputs": [],
   "source": []
  },
  {
   "cell_type": "code",
   "execution_count": null,
   "id": "5812cbb0",
   "metadata": {
    "papermill": {
     "duration": 0.080522,
     "end_time": "2022-04-20T03:45:22.655667",
     "exception": false,
     "start_time": "2022-04-20T03:45:22.575145",
     "status": "completed"
    },
    "tags": []
   },
   "outputs": [],
   "source": []
  },
  {
   "cell_type": "code",
   "execution_count": null,
   "id": "91679756",
   "metadata": {
    "papermill": {
     "duration": 0.081294,
     "end_time": "2022-04-20T03:45:22.818599",
     "exception": false,
     "start_time": "2022-04-20T03:45:22.737305",
     "status": "completed"
    },
    "tags": []
   },
   "outputs": [],
   "source": []
  },
  {
   "cell_type": "code",
   "execution_count": null,
   "id": "0b23311d",
   "metadata": {
    "papermill": {
     "duration": 0.081863,
     "end_time": "2022-04-20T03:45:22.980806",
     "exception": false,
     "start_time": "2022-04-20T03:45:22.898943",
     "status": "completed"
    },
    "tags": []
   },
   "outputs": [],
   "source": []
  },
  {
   "cell_type": "code",
   "execution_count": null,
   "id": "a84c4e77",
   "metadata": {
    "papermill": {
     "duration": 0.080319,
     "end_time": "2022-04-20T03:45:23.141508",
     "exception": false,
     "start_time": "2022-04-20T03:45:23.061189",
     "status": "completed"
    },
    "tags": []
   },
   "outputs": [],
   "source": []
  },
  {
   "cell_type": "code",
   "execution_count": null,
   "id": "291f4d3e",
   "metadata": {
    "papermill": {
     "duration": 0.079998,
     "end_time": "2022-04-20T03:45:23.301825",
     "exception": false,
     "start_time": "2022-04-20T03:45:23.221827",
     "status": "completed"
    },
    "tags": []
   },
   "outputs": [],
   "source": []
  },
  {
   "cell_type": "code",
   "execution_count": null,
   "id": "be6eee9a",
   "metadata": {
    "papermill": {
     "duration": 0.079745,
     "end_time": "2022-04-20T03:45:23.463808",
     "exception": false,
     "start_time": "2022-04-20T03:45:23.384063",
     "status": "completed"
    },
    "tags": []
   },
   "outputs": [],
   "source": []
  },
  {
   "cell_type": "code",
   "execution_count": null,
   "id": "65c1808c",
   "metadata": {
    "papermill": {
     "duration": 0.082337,
     "end_time": "2022-04-20T03:45:23.626791",
     "exception": false,
     "start_time": "2022-04-20T03:45:23.544454",
     "status": "completed"
    },
    "tags": []
   },
   "outputs": [],
   "source": []
  },
  {
   "cell_type": "code",
   "execution_count": null,
   "id": "1a9212c4",
   "metadata": {
    "papermill": {
     "duration": 0.081978,
     "end_time": "2022-04-20T03:45:23.790839",
     "exception": false,
     "start_time": "2022-04-20T03:45:23.708861",
     "status": "completed"
    },
    "tags": []
   },
   "outputs": [],
   "source": []
  },
  {
   "cell_type": "code",
   "execution_count": null,
   "id": "1761204f",
   "metadata": {
    "papermill": {
     "duration": 0.080979,
     "end_time": "2022-04-20T03:45:23.952328",
     "exception": false,
     "start_time": "2022-04-20T03:45:23.871349",
     "status": "completed"
    },
    "tags": []
   },
   "outputs": [],
   "source": []
  },
  {
   "cell_type": "code",
   "execution_count": null,
   "id": "2b1c07de",
   "metadata": {
    "papermill": {
     "duration": 0.080352,
     "end_time": "2022-04-20T03:45:24.115030",
     "exception": false,
     "start_time": "2022-04-20T03:45:24.034678",
     "status": "completed"
    },
    "tags": []
   },
   "outputs": [],
   "source": []
  }
 ],
 "metadata": {
  "kernelspec": {
   "display_name": "Python 3",
   "language": "python",
   "name": "python3"
  },
  "language_info": {
   "codemirror_mode": {
    "name": "ipython",
    "version": 3
   },
   "file_extension": ".py",
   "mimetype": "text/x-python",
   "name": "python",
   "nbconvert_exporter": "python",
   "pygments_lexer": "ipython3",
   "version": "3.7.12"
  },
  "papermill": {
   "default_parameters": {},
   "duration": 32.468084,
   "end_time": "2022-04-20T03:45:25.409393",
   "environment_variables": {},
   "exception": null,
   "input_path": "__notebook__.ipynb",
   "output_path": "__notebook__.ipynb",
   "parameters": {},
   "start_time": "2022-04-20T03:44:52.941309",
   "version": "2.3.3"
  }
 },
 "nbformat": 4,
 "nbformat_minor": 5
}
