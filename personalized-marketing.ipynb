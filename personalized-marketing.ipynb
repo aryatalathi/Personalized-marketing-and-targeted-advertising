{
 "cells": [
  {
   "cell_type": "markdown",
   "id": "a8bc7b26",
   "metadata": {
    "papermill": {
     "duration": 0.080303,
     "end_time": "2022-04-27T05:11:48.087832",
     "exception": false,
     "start_time": "2022-04-27T05:11:48.007529",
     "status": "completed"
    },
    "tags": []
   },
   "source": [
    "# Personalized Marketing and Targeted Advertisng"
   ]
  },
  {
   "cell_type": "markdown",
   "id": "94f8dbc7",
   "metadata": {
    "papermill": {
     "duration": 0.075448,
     "end_time": "2022-04-27T05:11:48.241219",
     "exception": false,
     "start_time": "2022-04-27T05:11:48.165771",
     "status": "completed"
    },
    "tags": []
   },
   "source": [
    "**This notebook is divided into following sections:**\n",
    "1. Importing data and required libraries\n",
    "2. Data Cleaning\n",
    "3. Segmentation\n",
    "4. Data Modelling\n",
    "5. Conclusion"
   ]
  },
  {
   "cell_type": "markdown",
   "id": "f8ebe91b",
   "metadata": {
    "papermill": {
     "duration": 0.076465,
     "end_time": "2022-04-27T05:11:48.392794",
     "exception": false,
     "start_time": "2022-04-27T05:11:48.316329",
     "status": "completed"
    },
    "tags": []
   },
   "source": [
    "**1. Importing data and required libraries**"
   ]
  },
  {
   "cell_type": "code",
   "execution_count": 1,
   "id": "231bb4f1",
   "metadata": {
    "_cell_guid": "b1076dfc-b9ad-4769-8c92-a6c4dae69d19",
    "_uuid": "8f2839f25d086af736a60e9eeb907d3b93b6e0e5",
    "execution": {
     "iopub.execute_input": "2022-04-27T05:11:48.548276Z",
     "iopub.status.busy": "2022-04-27T05:11:48.547101Z",
     "iopub.status.idle": "2022-04-27T05:11:48.563644Z",
     "shell.execute_reply": "2022-04-27T05:11:48.564576Z",
     "shell.execute_reply.started": "2022-04-27T05:06:26.633220Z"
    },
    "papermill": {
     "duration": 0.09651,
     "end_time": "2022-04-27T05:11:48.564976",
     "exception": false,
     "start_time": "2022-04-27T05:11:48.468466",
     "status": "completed"
    },
    "tags": []
   },
   "outputs": [
    {
     "name": "stdout",
     "output_type": "stream",
     "text": [
      "/kaggle/input/starbucks-customer-data/transcript.csv\n",
      "/kaggle/input/starbucks-customer-data/profile.csv\n",
      "/kaggle/input/starbucks-customer-data/portfolio.csv\n"
     ]
    }
   ],
   "source": [
    "# This Python 3 environment comes with many helpful analytics libraries installed\n",
    "# It is defined by the kaggle/python Docker image: https://github.com/kaggle/docker-python\n",
    "# For example, here's several helpful packages to load\n",
    "\n",
    "import numpy as np # linear algebra\n",
    "import pandas as pd # data processing, CSV file I/O (e.g. pd.read_csv)\n",
    "\n",
    "# Input data files are available in the read-only \"../input/\" directory\n",
    "# For example, running this (by clicking run or pressing Shift+Enter) will list all files under the input directory\n",
    "\n",
    "import os\n",
    "for dirname, _, filenames in os.walk('/kaggle/input'):\n",
    "    for filename in filenames:\n",
    "        print(os.path.join(dirname, filename))\n",
    "\n",
    "# You can write up to 20GB to the current directory (/kaggle/working/) that gets preserved as output when you create a version using \"Save & Run All\" \n",
    "# You can also write temporary files to /kaggle/temp/, but they won't be saved outside of the current session"
   ]
  },
  {
   "cell_type": "code",
   "execution_count": 2,
   "id": "25b550d0",
   "metadata": {
    "execution": {
     "iopub.execute_input": "2022-04-27T05:11:48.730300Z",
     "iopub.status.busy": "2022-04-27T05:11:48.729511Z",
     "iopub.status.idle": "2022-04-27T05:11:51.474278Z",
     "shell.execute_reply": "2022-04-27T05:11:51.473510Z",
     "shell.execute_reply.started": "2022-04-27T05:06:27.193216Z"
    },
    "papermill": {
     "duration": 2.831045,
     "end_time": "2022-04-27T05:11:51.474422",
     "exception": false,
     "start_time": "2022-04-27T05:11:48.643377",
     "status": "completed"
    },
    "tags": []
   },
   "outputs": [],
   "source": [
    "import matplotlib.pyplot as plt\n",
    "import seaborn as sns\n",
    "from scipy.sparse import csr_matrix\n",
    "from sklearn.neighbors import NearestNeighbors\n",
    "import plotly as py\n",
    "import plotly.express as px\n",
    "import plotly.graph_objs as go\n",
    "from plotly.subplots import make_subplots\n",
    "from plotly.offline import init_notebook_mode, iplot, plot\n",
    "import math\n",
    "from sklearn.metrics import mean_absolute_error\n",
    "from sklearn.metrics import mean_squared_error\n",
    "from sklearn.metrics import r2_score\n",
    "from math import sqrt\n",
    "\n",
    "import warnings \n",
    "warnings.filterwarnings('ignore')\n",
    "%matplotlib inline"
   ]
  },
  {
   "cell_type": "code",
   "execution_count": 3,
   "id": "f8599621",
   "metadata": {
    "execution": {
     "iopub.execute_input": "2022-04-27T05:11:51.631158Z",
     "iopub.status.busy": "2022-04-27T05:11:51.630426Z",
     "iopub.status.idle": "2022-04-27T05:11:52.259637Z",
     "shell.execute_reply": "2022-04-27T05:11:52.258941Z",
     "shell.execute_reply.started": "2022-04-27T05:06:27.870496Z"
    },
    "papermill": {
     "duration": 0.709719,
     "end_time": "2022-04-27T05:11:52.259801",
     "exception": false,
     "start_time": "2022-04-27T05:11:51.550082",
     "status": "completed"
    },
    "tags": []
   },
   "outputs": [],
   "source": [
    "portfolio = pd.read_csv('../input/starbucks-customer-data/portfolio.csv')\n",
    "profile = pd.read_csv('../input/starbucks-customer-data/profile.csv')\n",
    "transcript = pd.read_csv('../input/starbucks-customer-data/transcript.csv')"
   ]
  },
  {
   "cell_type": "code",
   "execution_count": 4,
   "id": "bd49c277",
   "metadata": {
    "execution": {
     "iopub.execute_input": "2022-04-27T05:11:52.581958Z",
     "iopub.status.busy": "2022-04-27T05:11:52.581001Z",
     "iopub.status.idle": "2022-04-27T05:11:52.701230Z",
     "shell.execute_reply": "2022-04-27T05:11:52.700299Z",
     "shell.execute_reply.started": "2022-04-27T05:06:28.478615Z"
    },
    "papermill": {
     "duration": 0.363153,
     "end_time": "2022-04-27T05:11:52.701425",
     "exception": false,
     "start_time": "2022-04-27T05:11:52.338272",
     "status": "completed"
    },
    "tags": []
   },
   "outputs": [
    {
     "name": "stdout",
     "output_type": "stream",
     "text": [
      "<class 'pandas.core.frame.DataFrame'>\n",
      "RangeIndex: 10 entries, 0 to 9\n",
      "Data columns (total 7 columns):\n",
      " #   Column      Non-Null Count  Dtype \n",
      "---  ------      --------------  ----- \n",
      " 0   Unnamed: 0  10 non-null     int64 \n",
      " 1   reward      10 non-null     int64 \n",
      " 2   channels    10 non-null     object\n",
      " 3   difficulty  10 non-null     int64 \n",
      " 4   duration    10 non-null     int64 \n",
      " 5   offer_type  10 non-null     object\n",
      " 6   id          10 non-null     object\n",
      "dtypes: int64(4), object(3)\n",
      "memory usage: 688.0+ bytes\n",
      "<class 'pandas.core.frame.DataFrame'>\n",
      "RangeIndex: 17000 entries, 0 to 16999\n",
      "Data columns (total 6 columns):\n",
      " #   Column            Non-Null Count  Dtype  \n",
      "---  ------            --------------  -----  \n",
      " 0   Unnamed: 0        17000 non-null  int64  \n",
      " 1   gender            14825 non-null  object \n",
      " 2   age               17000 non-null  int64  \n",
      " 3   id                17000 non-null  object \n",
      " 4   became_member_on  17000 non-null  int64  \n",
      " 5   income            14825 non-null  float64\n",
      "dtypes: float64(1), int64(3), object(2)\n",
      "memory usage: 797.0+ KB\n",
      "<class 'pandas.core.frame.DataFrame'>\n",
      "RangeIndex: 306534 entries, 0 to 306533\n",
      "Data columns (total 5 columns):\n",
      " #   Column      Non-Null Count   Dtype \n",
      "---  ------      --------------   ----- \n",
      " 0   Unnamed: 0  306534 non-null  int64 \n",
      " 1   person      306534 non-null  object\n",
      " 2   event       306534 non-null  object\n",
      " 3   value       306534 non-null  object\n",
      " 4   time        306534 non-null  int64 \n",
      "dtypes: int64(2), object(3)\n",
      "memory usage: 11.7+ MB\n"
     ]
    }
   ],
   "source": [
    "portfolio.info()\n",
    "profile.info()\n",
    "transcript.info()"
   ]
  },
  {
   "cell_type": "markdown",
   "id": "05f74bac",
   "metadata": {
    "papermill": {
     "duration": 0.076332,
     "end_time": "2022-04-27T05:11:52.855228",
     "exception": false,
     "start_time": "2022-04-27T05:11:52.778896",
     "status": "completed"
    },
    "tags": []
   },
   "source": [
    "**2. Data Cleaning**"
   ]
  },
  {
   "cell_type": "code",
   "execution_count": 5,
   "id": "1eef8f4e",
   "metadata": {
    "execution": {
     "iopub.execute_input": "2022-04-27T05:11:53.013897Z",
     "iopub.status.busy": "2022-04-27T05:11:53.013162Z",
     "iopub.status.idle": "2022-04-27T05:11:53.024787Z",
     "shell.execute_reply": "2022-04-27T05:11:53.024230Z",
     "shell.execute_reply.started": "2022-04-27T05:06:29.175821Z"
    },
    "papermill": {
     "duration": 0.091547,
     "end_time": "2022-04-27T05:11:53.024936",
     "exception": false,
     "start_time": "2022-04-27T05:11:52.933389",
     "status": "completed"
    },
    "tags": []
   },
   "outputs": [
    {
     "data": {
      "text/plain": [
       "Unnamed: 0    0\n",
       "reward        0\n",
       "channels      0\n",
       "difficulty    0\n",
       "duration      0\n",
       "offer_type    0\n",
       "id            0\n",
       "dtype: int64"
      ]
     },
     "execution_count": 5,
     "metadata": {},
     "output_type": "execute_result"
    }
   ],
   "source": [
    "portfolio.isnull().sum()"
   ]
  },
  {
   "cell_type": "code",
   "execution_count": 6,
   "id": "59c1993f",
   "metadata": {
    "execution": {
     "iopub.execute_input": "2022-04-27T05:11:53.192539Z",
     "iopub.status.busy": "2022-04-27T05:11:53.191446Z",
     "iopub.status.idle": "2022-04-27T05:11:53.198323Z",
     "shell.execute_reply": "2022-04-27T05:11:53.198911Z",
     "shell.execute_reply.started": "2022-04-27T05:06:29.982403Z"
    },
    "papermill": {
     "duration": 0.095056,
     "end_time": "2022-04-27T05:11:53.199084",
     "exception": false,
     "start_time": "2022-04-27T05:11:53.104028",
     "status": "completed"
    },
    "tags": []
   },
   "outputs": [
    {
     "data": {
      "text/plain": [
       "Unnamed: 0             0\n",
       "gender              2175\n",
       "age                    0\n",
       "id                     0\n",
       "became_member_on       0\n",
       "income              2175\n",
       "dtype: int64"
      ]
     },
     "execution_count": 6,
     "metadata": {},
     "output_type": "execute_result"
    }
   ],
   "source": [
    "profile.isnull().sum()"
   ]
  },
  {
   "cell_type": "code",
   "execution_count": 7,
   "id": "0826637d",
   "metadata": {
    "execution": {
     "iopub.execute_input": "2022-04-27T05:11:53.357502Z",
     "iopub.status.busy": "2022-04-27T05:11:53.356525Z",
     "iopub.status.idle": "2022-04-27T05:11:53.465566Z",
     "shell.execute_reply": "2022-04-27T05:11:53.466172Z",
     "shell.execute_reply.started": "2022-04-27T05:06:30.539476Z"
    },
    "papermill": {
     "duration": 0.189595,
     "end_time": "2022-04-27T05:11:53.466356",
     "exception": false,
     "start_time": "2022-04-27T05:11:53.276761",
     "status": "completed"
    },
    "tags": []
   },
   "outputs": [
    {
     "data": {
      "text/plain": [
       "Unnamed: 0    0\n",
       "person        0\n",
       "event         0\n",
       "value         0\n",
       "time          0\n",
       "dtype: int64"
      ]
     },
     "execution_count": 7,
     "metadata": {},
     "output_type": "execute_result"
    }
   ],
   "source": [
    "transcript.isnull().sum()"
   ]
  },
  {
   "cell_type": "code",
   "execution_count": 8,
   "id": "b7d19806",
   "metadata": {
    "execution": {
     "iopub.execute_input": "2022-04-27T05:11:53.627341Z",
     "iopub.status.busy": "2022-04-27T05:11:53.626309Z",
     "iopub.status.idle": "2022-04-27T05:11:53.653258Z",
     "shell.execute_reply": "2022-04-27T05:11:53.652717Z",
     "shell.execute_reply.started": "2022-04-27T05:06:31.061227Z"
    },
    "papermill": {
     "duration": 0.109038,
     "end_time": "2022-04-27T05:11:53.653407",
     "exception": false,
     "start_time": "2022-04-27T05:11:53.544369",
     "status": "completed"
    },
    "tags": []
   },
   "outputs": [],
   "source": [
    "profile.drop('Unnamed: 0', axis=1, inplace=True)\n",
    "transcript.drop('Unnamed: 0', axis=1, inplace=True)\n",
    "portfolio.drop('Unnamed: 0', axis=1, inplace=True)"
   ]
  },
  {
   "cell_type": "code",
   "execution_count": 9,
   "id": "0266aebb",
   "metadata": {
    "execution": {
     "iopub.execute_input": "2022-04-27T05:11:53.817207Z",
     "iopub.status.busy": "2022-04-27T05:11:53.816536Z",
     "iopub.status.idle": "2022-04-27T05:11:53.821301Z",
     "shell.execute_reply": "2022-04-27T05:11:53.820639Z",
     "shell.execute_reply.started": "2022-04-27T05:06:31.584226Z"
    },
    "papermill": {
     "duration": 0.089908,
     "end_time": "2022-04-27T05:11:53.821446",
     "exception": false,
     "start_time": "2022-04-27T05:11:53.731538",
     "status": "completed"
    },
    "tags": []
   },
   "outputs": [],
   "source": [
    "profile['gender'].fillna(\"O\", inplace=True)"
   ]
  },
  {
   "cell_type": "code",
   "execution_count": 10,
   "id": "d316c3de",
   "metadata": {
    "execution": {
     "iopub.execute_input": "2022-04-27T05:11:53.988005Z",
     "iopub.status.busy": "2022-04-27T05:11:53.987252Z",
     "iopub.status.idle": "2022-04-27T05:11:53.994058Z",
     "shell.execute_reply": "2022-04-27T05:11:53.994577Z",
     "shell.execute_reply.started": "2022-04-27T05:06:32.297061Z"
    },
    "papermill": {
     "duration": 0.093112,
     "end_time": "2022-04-27T05:11:53.994768",
     "exception": false,
     "start_time": "2022-04-27T05:11:53.901656",
     "status": "completed"
    },
    "tags": []
   },
   "outputs": [
    {
     "data": {
      "text/plain": [
       "O    2175\n",
       "Name: gender, dtype: int64"
      ]
     },
     "execution_count": 10,
     "metadata": {},
     "output_type": "execute_result"
    }
   ],
   "source": [
    "profile[profile['age']==118]['gender'].value_counts()"
   ]
  },
  {
   "cell_type": "code",
   "execution_count": 11,
   "id": "40577e01",
   "metadata": {
    "execution": {
     "iopub.execute_input": "2022-04-27T05:11:54.159103Z",
     "iopub.status.busy": "2022-04-27T05:11:54.158347Z",
     "iopub.status.idle": "2022-04-27T05:11:54.173945Z",
     "shell.execute_reply": "2022-04-27T05:11:54.174488Z",
     "shell.execute_reply.started": "2022-04-27T05:06:33.018097Z"
    },
    "papermill": {
     "duration": 0.100058,
     "end_time": "2022-04-27T05:11:54.174675",
     "exception": false,
     "start_time": "2022-04-27T05:11:54.074617",
     "status": "completed"
    },
    "tags": []
   },
   "outputs": [
    {
     "data": {
      "text/plain": [
       "gender              0\n",
       "age                 0\n",
       "id                  0\n",
       "became_member_on    0\n",
       "income              0\n",
       "dtype: int64"
      ]
     },
     "execution_count": 11,
     "metadata": {},
     "output_type": "execute_result"
    }
   ],
   "source": [
    "profile.drop(profile.index[(profile['age'] < 119) & (profile['age'] > 100)], inplace = True)\n",
    "profile.isnull().sum()"
   ]
  },
  {
   "cell_type": "code",
   "execution_count": 12,
   "id": "b8207dfe",
   "metadata": {
    "execution": {
     "iopub.execute_input": "2022-04-27T05:11:54.344567Z",
     "iopub.status.busy": "2022-04-27T05:11:54.337770Z",
     "iopub.status.idle": "2022-04-27T05:11:55.446962Z",
     "shell.execute_reply": "2022-04-27T05:11:55.445852Z",
     "shell.execute_reply.started": "2022-04-27T05:06:33.644351Z"
    },
    "papermill": {
     "duration": 1.193695,
     "end_time": "2022-04-27T05:11:55.447124",
     "exception": false,
     "start_time": "2022-04-27T05:11:54.253429",
     "status": "completed"
    },
    "tags": []
   },
   "outputs": [
    {
     "data": {
      "text/html": [
       "        <script type=\"text/javascript\">\n",
       "        window.PlotlyConfig = {MathJaxConfig: 'local'};\n",
       "        if (window.MathJax) {MathJax.Hub.Config({SVG: {font: \"STIX-Web\"}});}\n",
       "        if (typeof require !== 'undefined') {\n",
       "        require.undef(\"plotly\");\n",
       "        requirejs.config({\n",
       "            paths: {\n",
       "                'plotly': ['https://cdn.plot.ly/plotly-2.9.0.min']\n",
       "            }\n",
       "        });\n",
       "        require(['plotly'], function(Plotly) {\n",
       "            window._Plotly = Plotly;\n",
       "        });\n",
       "        }\n",
       "        </script>\n",
       "        "
      ]
     },
     "metadata": {},
     "output_type": "display_data"
    },
    {
     "data": {
      "text/html": [
       "<div>                            <div id=\"f31d0191-4b7c-4c3b-8def-a55e38481bfc\" class=\"plotly-graph-div\" style=\"height:525px; width:100%;\"></div>            <script type=\"text/javascript\">                require([\"plotly\"], function(Plotly) {                    window.PLOTLYENV=window.PLOTLYENV || {};                                    if (document.getElementById(\"f31d0191-4b7c-4c3b-8def-a55e38481bfc\")) {                    Plotly.newPlot(                        \"f31d0191-4b7c-4c3b-8def-a55e38481bfc\",                        [{\"domain\":{\"x\":[0.0,1.0],\"y\":[0.0,1.0]},\"hovertemplate\":\"gender=%{label}<br>count=%{value}<extra></extra>\",\"labels\":[\"M\",\"F\",\"O\"],\"legendgroup\":\"\",\"name\":\"\",\"showlegend\":true,\"values\":[8484,6124,212],\"type\":\"pie\"}],                        {\"template\":{\"data\":{\"bar\":[{\"error_x\":{\"color\":\"#2a3f5f\"},\"error_y\":{\"color\":\"#2a3f5f\"},\"marker\":{\"line\":{\"color\":\"#E5ECF6\",\"width\":0.5},\"pattern\":{\"fillmode\":\"overlay\",\"size\":10,\"solidity\":0.2}},\"type\":\"bar\"}],\"barpolar\":[{\"marker\":{\"line\":{\"color\":\"#E5ECF6\",\"width\":0.5},\"pattern\":{\"fillmode\":\"overlay\",\"size\":10,\"solidity\":0.2}},\"type\":\"barpolar\"}],\"carpet\":[{\"aaxis\":{\"endlinecolor\":\"#2a3f5f\",\"gridcolor\":\"white\",\"linecolor\":\"white\",\"minorgridcolor\":\"white\",\"startlinecolor\":\"#2a3f5f\"},\"baxis\":{\"endlinecolor\":\"#2a3f5f\",\"gridcolor\":\"white\",\"linecolor\":\"white\",\"minorgridcolor\":\"white\",\"startlinecolor\":\"#2a3f5f\"},\"type\":\"carpet\"}],\"choropleth\":[{\"colorbar\":{\"outlinewidth\":0,\"ticks\":\"\"},\"type\":\"choropleth\"}],\"contour\":[{\"colorbar\":{\"outlinewidth\":0,\"ticks\":\"\"},\"colorscale\":[[0.0,\"#0d0887\"],[0.1111111111111111,\"#46039f\"],[0.2222222222222222,\"#7201a8\"],[0.3333333333333333,\"#9c179e\"],[0.4444444444444444,\"#bd3786\"],[0.5555555555555556,\"#d8576b\"],[0.6666666666666666,\"#ed7953\"],[0.7777777777777778,\"#fb9f3a\"],[0.8888888888888888,\"#fdca26\"],[1.0,\"#f0f921\"]],\"type\":\"contour\"}],\"contourcarpet\":[{\"colorbar\":{\"outlinewidth\":0,\"ticks\":\"\"},\"type\":\"contourcarpet\"}],\"heatmap\":[{\"colorbar\":{\"outlinewidth\":0,\"ticks\":\"\"},\"colorscale\":[[0.0,\"#0d0887\"],[0.1111111111111111,\"#46039f\"],[0.2222222222222222,\"#7201a8\"],[0.3333333333333333,\"#9c179e\"],[0.4444444444444444,\"#bd3786\"],[0.5555555555555556,\"#d8576b\"],[0.6666666666666666,\"#ed7953\"],[0.7777777777777778,\"#fb9f3a\"],[0.8888888888888888,\"#fdca26\"],[1.0,\"#f0f921\"]],\"type\":\"heatmap\"}],\"heatmapgl\":[{\"colorbar\":{\"outlinewidth\":0,\"ticks\":\"\"},\"colorscale\":[[0.0,\"#0d0887\"],[0.1111111111111111,\"#46039f\"],[0.2222222222222222,\"#7201a8\"],[0.3333333333333333,\"#9c179e\"],[0.4444444444444444,\"#bd3786\"],[0.5555555555555556,\"#d8576b\"],[0.6666666666666666,\"#ed7953\"],[0.7777777777777778,\"#fb9f3a\"],[0.8888888888888888,\"#fdca26\"],[1.0,\"#f0f921\"]],\"type\":\"heatmapgl\"}],\"histogram\":[{\"marker\":{\"pattern\":{\"fillmode\":\"overlay\",\"size\":10,\"solidity\":0.2}},\"type\":\"histogram\"}],\"histogram2d\":[{\"colorbar\":{\"outlinewidth\":0,\"ticks\":\"\"},\"colorscale\":[[0.0,\"#0d0887\"],[0.1111111111111111,\"#46039f\"],[0.2222222222222222,\"#7201a8\"],[0.3333333333333333,\"#9c179e\"],[0.4444444444444444,\"#bd3786\"],[0.5555555555555556,\"#d8576b\"],[0.6666666666666666,\"#ed7953\"],[0.7777777777777778,\"#fb9f3a\"],[0.8888888888888888,\"#fdca26\"],[1.0,\"#f0f921\"]],\"type\":\"histogram2d\"}],\"histogram2dcontour\":[{\"colorbar\":{\"outlinewidth\":0,\"ticks\":\"\"},\"colorscale\":[[0.0,\"#0d0887\"],[0.1111111111111111,\"#46039f\"],[0.2222222222222222,\"#7201a8\"],[0.3333333333333333,\"#9c179e\"],[0.4444444444444444,\"#bd3786\"],[0.5555555555555556,\"#d8576b\"],[0.6666666666666666,\"#ed7953\"],[0.7777777777777778,\"#fb9f3a\"],[0.8888888888888888,\"#fdca26\"],[1.0,\"#f0f921\"]],\"type\":\"histogram2dcontour\"}],\"mesh3d\":[{\"colorbar\":{\"outlinewidth\":0,\"ticks\":\"\"},\"type\":\"mesh3d\"}],\"parcoords\":[{\"line\":{\"colorbar\":{\"outlinewidth\":0,\"ticks\":\"\"}},\"type\":\"parcoords\"}],\"pie\":[{\"automargin\":true,\"type\":\"pie\"}],\"scatter\":[{\"marker\":{\"colorbar\":{\"outlinewidth\":0,\"ticks\":\"\"}},\"type\":\"scatter\"}],\"scatter3d\":[{\"line\":{\"colorbar\":{\"outlinewidth\":0,\"ticks\":\"\"}},\"marker\":{\"colorbar\":{\"outlinewidth\":0,\"ticks\":\"\"}},\"type\":\"scatter3d\"}],\"scattercarpet\":[{\"marker\":{\"colorbar\":{\"outlinewidth\":0,\"ticks\":\"\"}},\"type\":\"scattercarpet\"}],\"scattergeo\":[{\"marker\":{\"colorbar\":{\"outlinewidth\":0,\"ticks\":\"\"}},\"type\":\"scattergeo\"}],\"scattergl\":[{\"marker\":{\"colorbar\":{\"outlinewidth\":0,\"ticks\":\"\"}},\"type\":\"scattergl\"}],\"scattermapbox\":[{\"marker\":{\"colorbar\":{\"outlinewidth\":0,\"ticks\":\"\"}},\"type\":\"scattermapbox\"}],\"scatterpolar\":[{\"marker\":{\"colorbar\":{\"outlinewidth\":0,\"ticks\":\"\"}},\"type\":\"scatterpolar\"}],\"scatterpolargl\":[{\"marker\":{\"colorbar\":{\"outlinewidth\":0,\"ticks\":\"\"}},\"type\":\"scatterpolargl\"}],\"scatterternary\":[{\"marker\":{\"colorbar\":{\"outlinewidth\":0,\"ticks\":\"\"}},\"type\":\"scatterternary\"}],\"surface\":[{\"colorbar\":{\"outlinewidth\":0,\"ticks\":\"\"},\"colorscale\":[[0.0,\"#0d0887\"],[0.1111111111111111,\"#46039f\"],[0.2222222222222222,\"#7201a8\"],[0.3333333333333333,\"#9c179e\"],[0.4444444444444444,\"#bd3786\"],[0.5555555555555556,\"#d8576b\"],[0.6666666666666666,\"#ed7953\"],[0.7777777777777778,\"#fb9f3a\"],[0.8888888888888888,\"#fdca26\"],[1.0,\"#f0f921\"]],\"type\":\"surface\"}],\"table\":[{\"cells\":{\"fill\":{\"color\":\"#EBF0F8\"},\"line\":{\"color\":\"white\"}},\"header\":{\"fill\":{\"color\":\"#C8D4E3\"},\"line\":{\"color\":\"white\"}},\"type\":\"table\"}]},\"layout\":{\"annotationdefaults\":{\"arrowcolor\":\"#2a3f5f\",\"arrowhead\":0,\"arrowwidth\":1},\"autotypenumbers\":\"strict\",\"coloraxis\":{\"colorbar\":{\"outlinewidth\":0,\"ticks\":\"\"}},\"colorscale\":{\"diverging\":[[0,\"#8e0152\"],[0.1,\"#c51b7d\"],[0.2,\"#de77ae\"],[0.3,\"#f1b6da\"],[0.4,\"#fde0ef\"],[0.5,\"#f7f7f7\"],[0.6,\"#e6f5d0\"],[0.7,\"#b8e186\"],[0.8,\"#7fbc41\"],[0.9,\"#4d9221\"],[1,\"#276419\"]],\"sequential\":[[0.0,\"#0d0887\"],[0.1111111111111111,\"#46039f\"],[0.2222222222222222,\"#7201a8\"],[0.3333333333333333,\"#9c179e\"],[0.4444444444444444,\"#bd3786\"],[0.5555555555555556,\"#d8576b\"],[0.6666666666666666,\"#ed7953\"],[0.7777777777777778,\"#fb9f3a\"],[0.8888888888888888,\"#fdca26\"],[1.0,\"#f0f921\"]],\"sequentialminus\":[[0.0,\"#0d0887\"],[0.1111111111111111,\"#46039f\"],[0.2222222222222222,\"#7201a8\"],[0.3333333333333333,\"#9c179e\"],[0.4444444444444444,\"#bd3786\"],[0.5555555555555556,\"#d8576b\"],[0.6666666666666666,\"#ed7953\"],[0.7777777777777778,\"#fb9f3a\"],[0.8888888888888888,\"#fdca26\"],[1.0,\"#f0f921\"]]},\"colorway\":[\"#636efa\",\"#EF553B\",\"#00cc96\",\"#ab63fa\",\"#FFA15A\",\"#19d3f3\",\"#FF6692\",\"#B6E880\",\"#FF97FF\",\"#FECB52\"],\"font\":{\"color\":\"#2a3f5f\"},\"geo\":{\"bgcolor\":\"white\",\"lakecolor\":\"white\",\"landcolor\":\"#E5ECF6\",\"showlakes\":true,\"showland\":true,\"subunitcolor\":\"white\"},\"hoverlabel\":{\"align\":\"left\"},\"hovermode\":\"closest\",\"mapbox\":{\"style\":\"light\"},\"paper_bgcolor\":\"white\",\"plot_bgcolor\":\"#E5ECF6\",\"polar\":{\"angularaxis\":{\"gridcolor\":\"white\",\"linecolor\":\"white\",\"ticks\":\"\"},\"bgcolor\":\"#E5ECF6\",\"radialaxis\":{\"gridcolor\":\"white\",\"linecolor\":\"white\",\"ticks\":\"\"}},\"scene\":{\"xaxis\":{\"backgroundcolor\":\"#E5ECF6\",\"gridcolor\":\"white\",\"gridwidth\":2,\"linecolor\":\"white\",\"showbackground\":true,\"ticks\":\"\",\"zerolinecolor\":\"white\"},\"yaxis\":{\"backgroundcolor\":\"#E5ECF6\",\"gridcolor\":\"white\",\"gridwidth\":2,\"linecolor\":\"white\",\"showbackground\":true,\"ticks\":\"\",\"zerolinecolor\":\"white\"},\"zaxis\":{\"backgroundcolor\":\"#E5ECF6\",\"gridcolor\":\"white\",\"gridwidth\":2,\"linecolor\":\"white\",\"showbackground\":true,\"ticks\":\"\",\"zerolinecolor\":\"white\"}},\"shapedefaults\":{\"line\":{\"color\":\"#2a3f5f\"}},\"ternary\":{\"aaxis\":{\"gridcolor\":\"white\",\"linecolor\":\"white\",\"ticks\":\"\"},\"baxis\":{\"gridcolor\":\"white\",\"linecolor\":\"white\",\"ticks\":\"\"},\"bgcolor\":\"#E5ECF6\",\"caxis\":{\"gridcolor\":\"white\",\"linecolor\":\"white\",\"ticks\":\"\"}},\"title\":{\"x\":0.05},\"xaxis\":{\"automargin\":true,\"gridcolor\":\"white\",\"linecolor\":\"white\",\"ticks\":\"\",\"title\":{\"standoff\":15},\"zerolinecolor\":\"white\",\"zerolinewidth\":2},\"yaxis\":{\"automargin\":true,\"gridcolor\":\"white\",\"linecolor\":\"white\",\"ticks\":\"\",\"title\":{\"standoff\":15},\"zerolinecolor\":\"white\",\"zerolinewidth\":2}}},\"legend\":{\"tracegroupgap\":0},\"title\":{\"text\":\"Gender\"},\"piecolorway\":[\"blue\",\"light green\"]},                        {\"responsive\": true}                    ).then(function(){\n",
       "                            \n",
       "var gd = document.getElementById('f31d0191-4b7c-4c3b-8def-a55e38481bfc');\n",
       "var x = new MutationObserver(function (mutations, observer) {{\n",
       "        var display = window.getComputedStyle(gd).display;\n",
       "        if (!display || display === 'none') {{\n",
       "            console.log([gd, 'removed!']);\n",
       "            Plotly.purge(gd);\n",
       "            observer.disconnect();\n",
       "        }}\n",
       "}});\n",
       "\n",
       "// Listen for the removal of the full notebook cells\n",
       "var notebookContainer = gd.closest('#notebook-container');\n",
       "if (notebookContainer) {{\n",
       "    x.observe(notebookContainer, {childList: true});\n",
       "}}\n",
       "\n",
       "// Listen for the clearing of the current output cell\n",
       "var outputEl = gd.closest('.output');\n",
       "if (outputEl) {{\n",
       "    x.observe(outputEl, {childList: true});\n",
       "}}\n",
       "\n",
       "                        })                };                });            </script>        </div>"
      ]
     },
     "metadata": {},
     "output_type": "display_data"
    }
   ],
   "source": [
    "gender_profile = profile.gender.value_counts().reset_index()\n",
    "gender_profile.columns = ['gender', 'count']\n",
    "fig = px.pie(gender_profile, values='count', names='gender', title='Gender',\n",
    "             color_discrete_sequence=['blue', 'light green'])\n",
    "fig.show()"
   ]
  },
  {
   "cell_type": "code",
   "execution_count": 13,
   "id": "41d1f2fd",
   "metadata": {
    "execution": {
     "iopub.execute_input": "2022-04-27T05:11:55.617474Z",
     "iopub.status.busy": "2022-04-27T05:11:55.616796Z",
     "iopub.status.idle": "2022-04-27T05:11:55.772367Z",
     "shell.execute_reply": "2022-04-27T05:11:55.771454Z",
     "shell.execute_reply.started": "2022-04-27T05:06:34.420740Z"
    },
    "papermill": {
     "duration": 0.245055,
     "end_time": "2022-04-27T05:11:55.772524",
     "exception": false,
     "start_time": "2022-04-27T05:11:55.527469",
     "status": "completed"
    },
    "tags": []
   },
   "outputs": [
    {
     "data": {
      "text/plain": [
       "<AxesSubplot:xlabel='income'>"
      ]
     },
     "execution_count": 13,
     "metadata": {},
     "output_type": "execute_result"
    },
    {
     "data": {
      "image/png": "[encoded data removed]",
      "text/plain": [
       "<Figure size 432x288 with 1 Axes>"
      ]
     },
     "metadata": {
      "needs_background": "light"
     },
     "output_type": "display_data"
    }
   ],
   "source": [
    "sns.boxplot(data=profile, x='income')"
   ]
  },
  {
   "cell_type": "code",
   "execution_count": 14,
   "id": "5d4c3452",
   "metadata": {
    "execution": {
     "iopub.execute_input": "2022-04-27T05:11:55.978234Z",
     "iopub.status.busy": "2022-04-27T05:11:55.977266Z",
     "iopub.status.idle": "2022-04-27T05:11:55.986675Z",
     "shell.execute_reply": "2022-04-27T05:11:55.985969Z",
     "shell.execute_reply.started": "2022-04-27T05:06:35.052982Z"
    },
    "papermill": {
     "duration": 0.133107,
     "end_time": "2022-04-27T05:11:55.986868",
     "exception": false,
     "start_time": "2022-04-27T05:11:55.853761",
     "status": "completed"
    },
    "tags": []
   },
   "outputs": [
    {
     "data": {
      "text/plain": [
       "1    2017-07-15\n",
       "3    2017-05-09\n",
       "5    2018-04-26\n",
       "8    2018-02-09\n",
       "12   2017-11-11\n",
       "Name: became_member_on, dtype: datetime64[ns]"
      ]
     },
     "execution_count": 14,
     "metadata": {},
     "output_type": "execute_result"
    }
   ],
   "source": [
    "profile['became_member_on'] = pd.to_datetime(profile['became_member_on'].astype(str), format='%Y%m%d')\n",
    "profile['became_member_on'].head()"
   ]
  },
  {
   "cell_type": "code",
   "execution_count": 15,
   "id": "4c777cf4",
   "metadata": {
    "execution": {
     "iopub.execute_input": "2022-04-27T05:11:56.165272Z",
     "iopub.status.busy": "2022-04-27T05:11:56.164385Z",
     "iopub.status.idle": "2022-04-27T05:11:56.178460Z",
     "shell.execute_reply": "2022-04-27T05:11:56.177684Z",
     "shell.execute_reply.started": "2022-04-27T05:06:35.554792Z"
    },
    "papermill": {
     "duration": 0.106193,
     "end_time": "2022-04-27T05:11:56.178610",
     "exception": false,
     "start_time": "2022-04-27T05:11:56.072417",
     "status": "completed"
    },
    "tags": []
   },
   "outputs": [],
   "source": [
    "profile['year'] = profile['became_member_on'].dt.year\n",
    "profile['month'] = profile['became_member_on'].dt.month\n",
    "profile['day']=profile['became_member_on'].dt.day_name()\n",
    "profile['membership_days'] = (pd.to_datetime('today') - profile['became_member_on']).astype('timedelta64[D]').astype(int)"
   ]
  },
  {
   "cell_type": "code",
   "execution_count": 16,
   "id": "c20daf01",
   "metadata": {
    "execution": {
     "iopub.execute_input": "2022-04-27T05:11:56.352842Z",
     "iopub.status.busy": "2022-04-27T05:11:56.352114Z",
     "iopub.status.idle": "2022-04-27T05:11:56.556495Z",
     "shell.execute_reply": "2022-04-27T05:11:56.557199Z",
     "shell.execute_reply.started": "2022-04-27T05:06:36.134523Z"
    },
    "papermill": {
     "duration": 0.294843,
     "end_time": "2022-04-27T05:11:56.557379",
     "exception": false,
     "start_time": "2022-04-27T05:11:56.262536",
     "status": "completed"
    },
    "tags": []
   },
   "outputs": [
    {
     "data": {
      "text/plain": [
       "Text(0, 0.5, 'income')"
      ]
     },
     "execution_count": 16,
     "metadata": {},
     "output_type": "execute_result"
    },
    {
     "data": {
      "image/png": "[encoded data removed]",
      "text/plain": [
       "<Figure size 432x288 with 1 Axes>"
      ]
     },
     "metadata": {
      "needs_background": "light"
     },
     "output_type": "display_data"
    }
   ],
   "source": [
    "profile.groupby('gender').sum()['income'].plot(kind='bar')\n",
    "plt.title('Total income per gender')\n",
    "plt.ylabel('income')"
   ]
  },
  {
   "cell_type": "code",
   "execution_count": 17,
   "id": "4eb4085c",
   "metadata": {
    "execution": {
     "iopub.execute_input": "2022-04-27T05:11:56.767142Z",
     "iopub.status.busy": "2022-04-27T05:11:56.766306Z",
     "iopub.status.idle": "2022-04-27T05:11:56.778595Z",
     "shell.execute_reply": "2022-04-27T05:11:56.777810Z",
     "shell.execute_reply.started": "2022-04-27T05:06:36.691258Z"
    },
    "papermill": {
     "duration": 0.132173,
     "end_time": "2022-04-27T05:11:56.778781",
     "exception": false,
     "start_time": "2022-04-27T05:11:56.646608",
     "status": "completed"
    },
    "tags": []
   },
   "outputs": [
    {
     "data": {
      "text/plain": [
       "1        Middle-age(40-59)\n",
       "3              Old(60-100)\n",
       "5              Old(60-100)\n",
       "8              Old(60-100)\n",
       "12       Middle-age(40-59)\n",
       "               ...        \n",
       "16995    Middle-age(40-59)\n",
       "16996          Old(60-100)\n",
       "16997    Middle-age(40-59)\n",
       "16998          Old(60-100)\n",
       "16999          Old(60-100)\n",
       "Name: age_group, Length: 14820, dtype: category\n",
       "Categories (4, object): ['Teenage(0-19)' < 'Young(20-39)' < 'Middle-age(40-59)' < 'Old(60-100)']"
      ]
     },
     "execution_count": 17,
     "metadata": {},
     "output_type": "execute_result"
    }
   ],
   "source": [
    "profile['age_group'] = pd.cut(x=profile['age'], bins=[18, 20, 40, 60, 101],\n",
    "                    labels=['Teenage(0-19)', 'Young(20-39)','Middle-age(40-59)',\n",
    "                            'Old(60-100)'], include_lowest=True)\n",
    "profile['age_group']"
   ]
  },
  {
   "cell_type": "code",
   "execution_count": 18,
   "id": "580e3a4e",
   "metadata": {
    "execution": {
     "iopub.execute_input": "2022-04-27T05:11:56.955989Z",
     "iopub.status.busy": "2022-04-27T05:11:56.955255Z",
     "iopub.status.idle": "2022-04-27T05:11:56.982319Z",
     "shell.execute_reply": "2022-04-27T05:11:56.982798Z",
     "shell.execute_reply.started": "2022-04-27T05:06:37.289929Z"
    },
    "papermill": {
     "duration": 0.114716,
     "end_time": "2022-04-27T05:11:56.982991",
     "exception": false,
     "start_time": "2022-04-27T05:11:56.868275",
     "status": "completed"
    },
    "tags": []
   },
   "outputs": [
    {
     "data": {
      "text/html": [
       "<div>\n",
       "<style scoped>\n",
       "    .dataframe tbody tr th:only-of-type {\n",
       "        vertical-align: middle;\n",
       "    }\n",
       "\n",
       "    .dataframe tbody tr th {\n",
       "        vertical-align: top;\n",
       "    }\n",
       "\n",
       "    .dataframe thead th {\n",
       "        text-align: right;\n",
       "    }\n",
       "</style>\n",
       "<table border=\"1\" class=\"dataframe\">\n",
       "  <thead>\n",
       "    <tr style=\"text-align: right;\">\n",
       "      <th></th>\n",
       "      <th>gender</th>\n",
       "      <th>age</th>\n",
       "      <th>id</th>\n",
       "      <th>became_member_on</th>\n",
       "      <th>income</th>\n",
       "      <th>year</th>\n",
       "      <th>month</th>\n",
       "      <th>day</th>\n",
       "      <th>membership_days</th>\n",
       "      <th>age_group</th>\n",
       "    </tr>\n",
       "  </thead>\n",
       "  <tbody>\n",
       "    <tr>\n",
       "      <th>1</th>\n",
       "      <td>F</td>\n",
       "      <td>55</td>\n",
       "      <td>0610b486422d4921ae7d2bf64640c50b</td>\n",
       "      <td>2017-07-15</td>\n",
       "      <td>112000.0</td>\n",
       "      <td>2017</td>\n",
       "      <td>7</td>\n",
       "      <td>Saturday</td>\n",
       "      <td>1747</td>\n",
       "      <td>0</td>\n",
       "    </tr>\n",
       "    <tr>\n",
       "      <th>3</th>\n",
       "      <td>F</td>\n",
       "      <td>75</td>\n",
       "      <td>78afa995795e4d85b5d9ceeca43f5fef</td>\n",
       "      <td>2017-05-09</td>\n",
       "      <td>100000.0</td>\n",
       "      <td>2017</td>\n",
       "      <td>5</td>\n",
       "      <td>Tuesday</td>\n",
       "      <td>1814</td>\n",
       "      <td>1</td>\n",
       "    </tr>\n",
       "    <tr>\n",
       "      <th>5</th>\n",
       "      <td>M</td>\n",
       "      <td>68</td>\n",
       "      <td>e2127556f4f64592b11af22de27a7932</td>\n",
       "      <td>2018-04-26</td>\n",
       "      <td>70000.0</td>\n",
       "      <td>2018</td>\n",
       "      <td>4</td>\n",
       "      <td>Thursday</td>\n",
       "      <td>1462</td>\n",
       "      <td>1</td>\n",
       "    </tr>\n",
       "    <tr>\n",
       "      <th>8</th>\n",
       "      <td>M</td>\n",
       "      <td>65</td>\n",
       "      <td>389bc3fa690240e798340f5a15918d5c</td>\n",
       "      <td>2018-02-09</td>\n",
       "      <td>53000.0</td>\n",
       "      <td>2018</td>\n",
       "      <td>2</td>\n",
       "      <td>Friday</td>\n",
       "      <td>1538</td>\n",
       "      <td>1</td>\n",
       "    </tr>\n",
       "    <tr>\n",
       "      <th>12</th>\n",
       "      <td>M</td>\n",
       "      <td>58</td>\n",
       "      <td>2eeac8d8feae4a8cad5a6af0499a211d</td>\n",
       "      <td>2017-11-11</td>\n",
       "      <td>51000.0</td>\n",
       "      <td>2017</td>\n",
       "      <td>11</td>\n",
       "      <td>Saturday</td>\n",
       "      <td>1628</td>\n",
       "      <td>0</td>\n",
       "    </tr>\n",
       "  </tbody>\n",
       "</table>\n",
       "</div>"
      ],
      "text/plain": [
       "   gender  age                                id became_member_on    income  \\\n",
       "1       F   55  0610b486422d4921ae7d2bf64640c50b       2017-07-15  112000.0   \n",
       "3       F   75  78afa995795e4d85b5d9ceeca43f5fef       2017-05-09  100000.0   \n",
       "5       M   68  e2127556f4f64592b11af22de27a7932       2018-04-26   70000.0   \n",
       "8       M   65  389bc3fa690240e798340f5a15918d5c       2018-02-09   53000.0   \n",
       "12      M   58  2eeac8d8feae4a8cad5a6af0499a211d       2017-11-11   51000.0   \n",
       "\n",
       "    year  month       day  membership_days  age_group  \n",
       "1   2017      7  Saturday             1747          0  \n",
       "3   2017      5   Tuesday             1814          1  \n",
       "5   2018      4  Thursday             1462          1  \n",
       "8   2018      2    Friday             1538          1  \n",
       "12  2017     11  Saturday             1628          0  "
      ]
     },
     "execution_count": 18,
     "metadata": {},
     "output_type": "execute_result"
    }
   ],
   "source": [
    "from sklearn.preprocessing import LabelEncoder\n",
    "\n",
    "profile = profile.copy(deep = True)\n",
    "le_age = LabelEncoder()\n",
    "profile['age_group'] = le_age.fit_transform(profile['age_group'])\n",
    "profile.head(5)"
   ]
  },
  {
   "cell_type": "code",
   "execution_count": 19,
   "id": "75e96ed8",
   "metadata": {
    "execution": {
     "iopub.execute_input": "2022-04-27T05:11:57.160094Z",
     "iopub.status.busy": "2022-04-27T05:11:57.159146Z",
     "iopub.status.idle": "2022-04-27T05:11:57.168828Z",
     "shell.execute_reply": "2022-04-27T05:11:57.169413Z",
     "shell.execute_reply.started": "2022-04-27T05:06:37.962559Z"
    },
    "papermill": {
     "duration": 0.101444,
     "end_time": "2022-04-27T05:11:57.169603",
     "exception": false,
     "start_time": "2022-04-27T05:11:57.068159",
     "status": "completed"
    },
    "tags": []
   },
   "outputs": [
    {
     "data": {
      "text/plain": [
       "1        more than 1L\n",
       "3              75k-1L\n",
       "5             50k-75k\n",
       "8             50k-75k\n",
       "12            50k-75k\n",
       "             ...     \n",
       "16995         50k-75k\n",
       "16996         50k-75k\n",
       "16997         50k-75k\n",
       "16998         30k-50k\n",
       "16999          75k-1L\n",
       "Name: income_group, Length: 14820, dtype: category\n",
       "Categories (4, object): ['30k-50k' < '50k-75k' < '75k-1L' < 'more than 1L']"
      ]
     },
     "execution_count": 19,
     "metadata": {},
     "output_type": "execute_result"
    }
   ],
   "source": [
    "profile['income_group'] = pd.cut(x=profile['income'], bins=[30000, 50000, 75000, 100000, 120000],\n",
    "                    labels=['30k-50k', '50k-75k','75k-1L',\n",
    "                            'more than 1L'], include_lowest=True)\n",
    "profile['income_group']"
   ]
  },
  {
   "cell_type": "code",
   "execution_count": 20,
   "id": "a277b5b5",
   "metadata": {
    "execution": {
     "iopub.execute_input": "2022-04-27T05:11:57.344259Z",
     "iopub.status.busy": "2022-04-27T05:11:57.343522Z",
     "iopub.status.idle": "2022-04-27T05:11:57.367826Z",
     "shell.execute_reply": "2022-04-27T05:11:57.367094Z",
     "shell.execute_reply.started": "2022-04-27T05:06:38.557171Z"
    },
    "papermill": {
     "duration": 0.111084,
     "end_time": "2022-04-27T05:11:57.367982",
     "exception": false,
     "start_time": "2022-04-27T05:11:57.256898",
     "status": "completed"
    },
    "tags": []
   },
   "outputs": [
    {
     "data": {
      "text/html": [
       "<div>\n",
       "<style scoped>\n",
       "    .dataframe tbody tr th:only-of-type {\n",
       "        vertical-align: middle;\n",
       "    }\n",
       "\n",
       "    .dataframe tbody tr th {\n",
       "        vertical-align: top;\n",
       "    }\n",
       "\n",
       "    .dataframe thead th {\n",
       "        text-align: right;\n",
       "    }\n",
       "</style>\n",
       "<table border=\"1\" class=\"dataframe\">\n",
       "  <thead>\n",
       "    <tr style=\"text-align: right;\">\n",
       "      <th></th>\n",
       "      <th>gender</th>\n",
       "      <th>age</th>\n",
       "      <th>id</th>\n",
       "      <th>became_member_on</th>\n",
       "      <th>income</th>\n",
       "      <th>year</th>\n",
       "      <th>month</th>\n",
       "      <th>day</th>\n",
       "      <th>membership_days</th>\n",
       "      <th>age_group</th>\n",
       "      <th>income_group</th>\n",
       "    </tr>\n",
       "  </thead>\n",
       "  <tbody>\n",
       "    <tr>\n",
       "      <th>1</th>\n",
       "      <td>F</td>\n",
       "      <td>55</td>\n",
       "      <td>0610b486422d4921ae7d2bf64640c50b</td>\n",
       "      <td>2017-07-15</td>\n",
       "      <td>112000.0</td>\n",
       "      <td>2017</td>\n",
       "      <td>7</td>\n",
       "      <td>Saturday</td>\n",
       "      <td>1747</td>\n",
       "      <td>0</td>\n",
       "      <td>3</td>\n",
       "    </tr>\n",
       "    <tr>\n",
       "      <th>3</th>\n",
       "      <td>F</td>\n",
       "      <td>75</td>\n",
       "      <td>78afa995795e4d85b5d9ceeca43f5fef</td>\n",
       "      <td>2017-05-09</td>\n",
       "      <td>100000.0</td>\n",
       "      <td>2017</td>\n",
       "      <td>5</td>\n",
       "      <td>Tuesday</td>\n",
       "      <td>1814</td>\n",
       "      <td>1</td>\n",
       "      <td>2</td>\n",
       "    </tr>\n",
       "    <tr>\n",
       "      <th>5</th>\n",
       "      <td>M</td>\n",
       "      <td>68</td>\n",
       "      <td>e2127556f4f64592b11af22de27a7932</td>\n",
       "      <td>2018-04-26</td>\n",
       "      <td>70000.0</td>\n",
       "      <td>2018</td>\n",
       "      <td>4</td>\n",
       "      <td>Thursday</td>\n",
       "      <td>1462</td>\n",
       "      <td>1</td>\n",
       "      <td>1</td>\n",
       "    </tr>\n",
       "    <tr>\n",
       "      <th>8</th>\n",
       "      <td>M</td>\n",
       "      <td>65</td>\n",
       "      <td>389bc3fa690240e798340f5a15918d5c</td>\n",
       "      <td>2018-02-09</td>\n",
       "      <td>53000.0</td>\n",
       "      <td>2018</td>\n",
       "      <td>2</td>\n",
       "      <td>Friday</td>\n",
       "      <td>1538</td>\n",
       "      <td>1</td>\n",
       "      <td>1</td>\n",
       "    </tr>\n",
       "    <tr>\n",
       "      <th>12</th>\n",
       "      <td>M</td>\n",
       "      <td>58</td>\n",
       "      <td>2eeac8d8feae4a8cad5a6af0499a211d</td>\n",
       "      <td>2017-11-11</td>\n",
       "      <td>51000.0</td>\n",
       "      <td>2017</td>\n",
       "      <td>11</td>\n",
       "      <td>Saturday</td>\n",
       "      <td>1628</td>\n",
       "      <td>0</td>\n",
       "      <td>1</td>\n",
       "    </tr>\n",
       "  </tbody>\n",
       "</table>\n",
       "</div>"
      ],
      "text/plain": [
       "   gender  age                                id became_member_on    income  \\\n",
       "1       F   55  0610b486422d4921ae7d2bf64640c50b       2017-07-15  112000.0   \n",
       "3       F   75  78afa995795e4d85b5d9ceeca43f5fef       2017-05-09  100000.0   \n",
       "5       M   68  e2127556f4f64592b11af22de27a7932       2018-04-26   70000.0   \n",
       "8       M   65  389bc3fa690240e798340f5a15918d5c       2018-02-09   53000.0   \n",
       "12      M   58  2eeac8d8feae4a8cad5a6af0499a211d       2017-11-11   51000.0   \n",
       "\n",
       "    year  month       day  membership_days  age_group  income_group  \n",
       "1   2017      7  Saturday             1747          0             3  \n",
       "3   2017      5   Tuesday             1814          1             2  \n",
       "5   2018      4  Thursday             1462          1             1  \n",
       "8   2018      2    Friday             1538          1             1  \n",
       "12  2017     11  Saturday             1628          0             1  "
      ]
     },
     "execution_count": 20,
     "metadata": {},
     "output_type": "execute_result"
    }
   ],
   "source": [
    "from sklearn.preprocessing import LabelEncoder\n",
    "\n",
    "profile = profile.copy(deep = True)\n",
    "le_in = LabelEncoder()\n",
    "profile['income_group'] = le_in.fit_transform(profile['income_group'])\n",
    "profile.head(5)"
   ]
  },
  {
   "cell_type": "code",
   "execution_count": 21,
   "id": "17484a7f",
   "metadata": {
    "execution": {
     "iopub.execute_input": "2022-04-27T05:11:57.545363Z",
     "iopub.status.busy": "2022-04-27T05:11:57.544663Z",
     "iopub.status.idle": "2022-04-27T05:11:57.549299Z",
     "shell.execute_reply": "2022-04-27T05:11:57.549837Z",
     "shell.execute_reply.started": "2022-04-27T05:06:39.175312Z"
    },
    "papermill": {
     "duration": 0.09458,
     "end_time": "2022-04-27T05:11:57.550011",
     "exception": false,
     "start_time": "2022-04-27T05:11:57.455431",
     "status": "completed"
    },
    "tags": []
   },
   "outputs": [],
   "source": [
    "profile = profile.drop(['age','income'], axis=1)"
   ]
  },
  {
   "cell_type": "code",
   "execution_count": 22,
   "id": "60d31f5d",
   "metadata": {
    "execution": {
     "iopub.execute_input": "2022-04-27T05:11:57.731497Z",
     "iopub.status.busy": "2022-04-27T05:11:57.730768Z",
     "iopub.status.idle": "2022-04-27T05:11:57.750980Z",
     "shell.execute_reply": "2022-04-27T05:11:57.751516Z",
     "shell.execute_reply.started": "2022-04-27T05:06:39.797640Z"
    },
    "papermill": {
     "duration": 0.111489,
     "end_time": "2022-04-27T05:11:57.751689",
     "exception": false,
     "start_time": "2022-04-27T05:11:57.640200",
     "status": "completed"
    },
    "tags": []
   },
   "outputs": [
    {
     "data": {
      "text/plain": [
       "0           0-100 days\n",
       "1           0-100 days\n",
       "2           0-100 days\n",
       "3           0-100 days\n",
       "4           0-100 days\n",
       "              ...     \n",
       "306529    700-800 days\n",
       "306530    700-800 days\n",
       "306531    700-800 days\n",
       "306532    700-800 days\n",
       "306533    700-800 days\n",
       "Name: time_group, Length: 306534, dtype: category\n",
       "Categories (8, object): ['0-100 days' < '100-200 days' < '200-300 days' < '300-400 days' < '400-500 days' < '500-600 days' < '600-700 days' < '700-800 days']"
      ]
     },
     "execution_count": 22,
     "metadata": {},
     "output_type": "execute_result"
    }
   ],
   "source": [
    "transcript['time_group'] = pd.cut(x=transcript['time'], bins=[0, 100, 200, 300, 400, 500,600,700,800], include_lowest=True,\n",
    "                    labels=['0-100 days', '100-200 days', '200-300 days', '300-400 days', '400-500 days', '500-600 days', '600-700 days', '700-800 days'])\n",
    "transcript['time_group'] "
   ]
  },
  {
   "cell_type": "code",
   "execution_count": 23,
   "id": "b65f6e93",
   "metadata": {
    "execution": {
     "iopub.execute_input": "2022-04-27T05:11:57.925194Z",
     "iopub.status.busy": "2022-04-27T05:11:57.924505Z",
     "iopub.status.idle": "2022-04-27T05:11:58.041531Z",
     "shell.execute_reply": "2022-04-27T05:11:58.042019Z",
     "shell.execute_reply.started": "2022-04-27T05:06:40.499378Z"
    },
    "papermill": {
     "duration": 0.205199,
     "end_time": "2022-04-27T05:11:58.042211",
     "exception": false,
     "start_time": "2022-04-27T05:11:57.837012",
     "status": "completed"
    },
    "tags": []
   },
   "outputs": [
    {
     "data": {
      "text/html": [
       "<div>\n",
       "<style scoped>\n",
       "    .dataframe tbody tr th:only-of-type {\n",
       "        vertical-align: middle;\n",
       "    }\n",
       "\n",
       "    .dataframe tbody tr th {\n",
       "        vertical-align: top;\n",
       "    }\n",
       "\n",
       "    .dataframe thead th {\n",
       "        text-align: right;\n",
       "    }\n",
       "</style>\n",
       "<table border=\"1\" class=\"dataframe\">\n",
       "  <thead>\n",
       "    <tr style=\"text-align: right;\">\n",
       "      <th></th>\n",
       "      <th>person</th>\n",
       "      <th>event</th>\n",
       "      <th>value</th>\n",
       "      <th>time</th>\n",
       "      <th>time_group</th>\n",
       "    </tr>\n",
       "  </thead>\n",
       "  <tbody>\n",
       "    <tr>\n",
       "      <th>0</th>\n",
       "      <td>78afa995795e4d85b5d9ceeca43f5fef</td>\n",
       "      <td>offer received</td>\n",
       "      <td>{'offer id': '9b98b8c7a33c4b65b9aebfe6a799e6d9'}</td>\n",
       "      <td>0</td>\n",
       "      <td>0</td>\n",
       "    </tr>\n",
       "    <tr>\n",
       "      <th>1</th>\n",
       "      <td>a03223e636434f42ac4c3df47e8bac43</td>\n",
       "      <td>offer received</td>\n",
       "      <td>{'offer id': '0b1e1539f2cc45b7b9fa7c272da2e1d7'}</td>\n",
       "      <td>0</td>\n",
       "      <td>0</td>\n",
       "    </tr>\n",
       "    <tr>\n",
       "      <th>2</th>\n",
       "      <td>e2127556f4f64592b11af22de27a7932</td>\n",
       "      <td>offer received</td>\n",
       "      <td>{'offer id': '2906b810c7d4411798c6938adc9daaa5'}</td>\n",
       "      <td>0</td>\n",
       "      <td>0</td>\n",
       "    </tr>\n",
       "    <tr>\n",
       "      <th>3</th>\n",
       "      <td>8ec6ce2a7e7949b1bf142def7d0e0586</td>\n",
       "      <td>offer received</td>\n",
       "      <td>{'offer id': 'fafdcd668e3743c1bb461111dcafc2a4'}</td>\n",
       "      <td>0</td>\n",
       "      <td>0</td>\n",
       "    </tr>\n",
       "    <tr>\n",
       "      <th>4</th>\n",
       "      <td>68617ca6246f4fbc85e91a2a49552598</td>\n",
       "      <td>offer received</td>\n",
       "      <td>{'offer id': '4d5c57ea9a6940dd891ad53e9dbe8da0'}</td>\n",
       "      <td>0</td>\n",
       "      <td>0</td>\n",
       "    </tr>\n",
       "    <tr>\n",
       "      <th>...</th>\n",
       "      <td>...</td>\n",
       "      <td>...</td>\n",
       "      <td>...</td>\n",
       "      <td>...</td>\n",
       "      <td>...</td>\n",
       "    </tr>\n",
       "    <tr>\n",
       "      <th>306529</th>\n",
       "      <td>b3a1272bc9904337b331bf348c3e8c17</td>\n",
       "      <td>transaction</td>\n",
       "      <td>{'amount': 1.5899999999999999}</td>\n",
       "      <td>714</td>\n",
       "      <td>7</td>\n",
       "    </tr>\n",
       "    <tr>\n",
       "      <th>306530</th>\n",
       "      <td>68213b08d99a4ae1b0dcb72aebd9aa35</td>\n",
       "      <td>transaction</td>\n",
       "      <td>{'amount': 9.53}</td>\n",
       "      <td>714</td>\n",
       "      <td>7</td>\n",
       "    </tr>\n",
       "    <tr>\n",
       "      <th>306531</th>\n",
       "      <td>a00058cf10334a308c68e7631c529907</td>\n",
       "      <td>transaction</td>\n",
       "      <td>{'amount': 3.61}</td>\n",
       "      <td>714</td>\n",
       "      <td>7</td>\n",
       "    </tr>\n",
       "    <tr>\n",
       "      <th>306532</th>\n",
       "      <td>76ddbd6576844afe811f1a3c0fbb5bec</td>\n",
       "      <td>transaction</td>\n",
       "      <td>{'amount': 3.5300000000000002}</td>\n",
       "      <td>714</td>\n",
       "      <td>7</td>\n",
       "    </tr>\n",
       "    <tr>\n",
       "      <th>306533</th>\n",
       "      <td>c02b10e8752c4d8e9b73f918558531f7</td>\n",
       "      <td>transaction</td>\n",
       "      <td>{'amount': 4.05}</td>\n",
       "      <td>714</td>\n",
       "      <td>7</td>\n",
       "    </tr>\n",
       "  </tbody>\n",
       "</table>\n",
       "<p>306534 rows × 5 columns</p>\n",
       "</div>"
      ],
      "text/plain": [
       "                                  person           event  \\\n",
       "0       78afa995795e4d85b5d9ceeca43f5fef  offer received   \n",
       "1       a03223e636434f42ac4c3df47e8bac43  offer received   \n",
       "2       e2127556f4f64592b11af22de27a7932  offer received   \n",
       "3       8ec6ce2a7e7949b1bf142def7d0e0586  offer received   \n",
       "4       68617ca6246f4fbc85e91a2a49552598  offer received   \n",
       "...                                  ...             ...   \n",
       "306529  b3a1272bc9904337b331bf348c3e8c17     transaction   \n",
       "306530  68213b08d99a4ae1b0dcb72aebd9aa35     transaction   \n",
       "306531  a00058cf10334a308c68e7631c529907     transaction   \n",
       "306532  76ddbd6576844afe811f1a3c0fbb5bec     transaction   \n",
       "306533  c02b10e8752c4d8e9b73f918558531f7     transaction   \n",
       "\n",
       "                                                   value  time  time_group  \n",
       "0       {'offer id': '9b98b8c7a33c4b65b9aebfe6a799e6d9'}     0           0  \n",
       "1       {'offer id': '0b1e1539f2cc45b7b9fa7c272da2e1d7'}     0           0  \n",
       "2       {'offer id': '2906b810c7d4411798c6938adc9daaa5'}     0           0  \n",
       "3       {'offer id': 'fafdcd668e3743c1bb461111dcafc2a4'}     0           0  \n",
       "4       {'offer id': '4d5c57ea9a6940dd891ad53e9dbe8da0'}     0           0  \n",
       "...                                                  ...   ...         ...  \n",
       "306529                    {'amount': 1.5899999999999999}   714           7  \n",
       "306530                                  {'amount': 9.53}   714           7  \n",
       "306531                                  {'amount': 3.61}   714           7  \n",
       "306532                    {'amount': 3.5300000000000002}   714           7  \n",
       "306533                                  {'amount': 4.05}   714           7  \n",
       "\n",
       "[306534 rows x 5 columns]"
      ]
     },
     "execution_count": 23,
     "metadata": {},
     "output_type": "execute_result"
    }
   ],
   "source": [
    "from sklearn.preprocessing import LabelEncoder\n",
    "\n",
    "transcript = transcript.copy(deep = True)\n",
    "le_id = LabelEncoder()\n",
    "transcript['time_group'] = le_id.fit_transform(transcript['time_group'])\n",
    "transcript.head(5)\n",
    "transcript"
   ]
  },
  {
   "cell_type": "code",
   "execution_count": 24,
   "id": "05283f80",
   "metadata": {
    "execution": {
     "iopub.execute_input": "2022-04-27T05:11:58.222509Z",
     "iopub.status.busy": "2022-04-27T05:11:58.221851Z",
     "iopub.status.idle": "2022-04-27T05:11:58.237762Z",
     "shell.execute_reply": "2022-04-27T05:11:58.238315Z",
     "shell.execute_reply.started": "2022-04-27T05:06:41.049988Z"
    },
    "papermill": {
     "duration": 0.107677,
     "end_time": "2022-04-27T05:11:58.238488",
     "exception": false,
     "start_time": "2022-04-27T05:11:58.130811",
     "status": "completed"
    },
    "tags": []
   },
   "outputs": [],
   "source": [
    "transcript = transcript.drop(['time'], axis=1)"
   ]
  },
  {
   "cell_type": "code",
   "execution_count": 25,
   "id": "a4046e7f",
   "metadata": {
    "execution": {
     "iopub.execute_input": "2022-04-27T05:11:58.419189Z",
     "iopub.status.busy": "2022-04-27T05:11:58.418398Z",
     "iopub.status.idle": "2022-04-27T05:11:58.419922Z",
     "shell.execute_reply": "2022-04-27T05:11:58.420458Z",
     "shell.execute_reply.started": "2022-04-27T05:06:41.668936Z"
    },
    "papermill": {
     "duration": 0.095374,
     "end_time": "2022-04-27T05:11:58.420631",
     "exception": false,
     "start_time": "2022-04-27T05:11:58.325257",
     "status": "completed"
    },
    "tags": []
   },
   "outputs": [],
   "source": [
    "transcript.rename(columns={'person':'id'}, inplace=True)"
   ]
  },
  {
   "cell_type": "code",
   "execution_count": 26,
   "id": "9d553551",
   "metadata": {
    "execution": {
     "iopub.execute_input": "2022-04-27T05:11:58.611879Z",
     "iopub.status.busy": "2022-04-27T05:11:58.611129Z",
     "iopub.status.idle": "2022-04-27T05:11:58.897188Z",
     "shell.execute_reply": "2022-04-27T05:11:58.896587Z",
     "shell.execute_reply.started": "2022-04-27T05:06:42.239948Z"
    },
    "papermill": {
     "duration": 0.384251,
     "end_time": "2022-04-27T05:11:58.897335",
     "exception": false,
     "start_time": "2022-04-27T05:11:58.513084",
     "status": "completed"
    },
    "tags": []
   },
   "outputs": [
    {
     "data": {
      "text/html": [
       "<div>\n",
       "<style scoped>\n",
       "    .dataframe tbody tr th:only-of-type {\n",
       "        vertical-align: middle;\n",
       "    }\n",
       "\n",
       "    .dataframe tbody tr th {\n",
       "        vertical-align: top;\n",
       "    }\n",
       "\n",
       "    .dataframe thead th {\n",
       "        text-align: right;\n",
       "    }\n",
       "</style>\n",
       "<table border=\"1\" class=\"dataframe\">\n",
       "  <thead>\n",
       "    <tr style=\"text-align: right;\">\n",
       "      <th></th>\n",
       "      <th>gender</th>\n",
       "      <th>id</th>\n",
       "      <th>year</th>\n",
       "      <th>month</th>\n",
       "      <th>day</th>\n",
       "      <th>membership_days</th>\n",
       "      <th>age_group</th>\n",
       "      <th>income_group</th>\n",
       "      <th>event</th>\n",
       "      <th>value</th>\n",
       "      <th>time_group</th>\n",
       "    </tr>\n",
       "  </thead>\n",
       "  <tbody>\n",
       "    <tr>\n",
       "      <th>0</th>\n",
       "      <td>F</td>\n",
       "      <td>0610b486422d4921ae7d2bf64640c50b</td>\n",
       "      <td>2017</td>\n",
       "      <td>7</td>\n",
       "      <td>Saturday</td>\n",
       "      <td>1747</td>\n",
       "      <td>0</td>\n",
       "      <td>3</td>\n",
       "      <td>transaction</td>\n",
       "      <td>{'amount': 21.51}</td>\n",
       "      <td>0</td>\n",
       "    </tr>\n",
       "    <tr>\n",
       "      <th>1</th>\n",
       "      <td>F</td>\n",
       "      <td>0610b486422d4921ae7d2bf64640c50b</td>\n",
       "      <td>2017</td>\n",
       "      <td>7</td>\n",
       "      <td>Saturday</td>\n",
       "      <td>1747</td>\n",
       "      <td>0</td>\n",
       "      <td>3</td>\n",
       "      <td>transaction</td>\n",
       "      <td>{'amount': 32.28}</td>\n",
       "      <td>1</td>\n",
       "    </tr>\n",
       "    <tr>\n",
       "      <th>2</th>\n",
       "      <td>F</td>\n",
       "      <td>0610b486422d4921ae7d2bf64640c50b</td>\n",
       "      <td>2017</td>\n",
       "      <td>7</td>\n",
       "      <td>Saturday</td>\n",
       "      <td>1747</td>\n",
       "      <td>0</td>\n",
       "      <td>3</td>\n",
       "      <td>offer received</td>\n",
       "      <td>{'offer id': '9b98b8c7a33c4b65b9aebfe6a799e6d9'}</td>\n",
       "      <td>4</td>\n",
       "    </tr>\n",
       "    <tr>\n",
       "      <th>3</th>\n",
       "      <td>F</td>\n",
       "      <td>0610b486422d4921ae7d2bf64640c50b</td>\n",
       "      <td>2017</td>\n",
       "      <td>7</td>\n",
       "      <td>Saturday</td>\n",
       "      <td>1747</td>\n",
       "      <td>0</td>\n",
       "      <td>3</td>\n",
       "      <td>offer received</td>\n",
       "      <td>{'offer id': '3f207df678b143eea3cee63160fa8bed'}</td>\n",
       "      <td>5</td>\n",
       "    </tr>\n",
       "    <tr>\n",
       "      <th>4</th>\n",
       "      <td>F</td>\n",
       "      <td>0610b486422d4921ae7d2bf64640c50b</td>\n",
       "      <td>2017</td>\n",
       "      <td>7</td>\n",
       "      <td>Saturday</td>\n",
       "      <td>1747</td>\n",
       "      <td>0</td>\n",
       "      <td>3</td>\n",
       "      <td>transaction</td>\n",
       "      <td>{'amount': 23.22}</td>\n",
       "      <td>5</td>\n",
       "    </tr>\n",
       "    <tr>\n",
       "      <th>...</th>\n",
       "      <td>...</td>\n",
       "      <td>...</td>\n",
       "      <td>...</td>\n",
       "      <td>...</td>\n",
       "      <td>...</td>\n",
       "      <td>...</td>\n",
       "      <td>...</td>\n",
       "      <td>...</td>\n",
       "      <td>...</td>\n",
       "      <td>...</td>\n",
       "      <td>...</td>\n",
       "    </tr>\n",
       "    <tr>\n",
       "      <th>272659</th>\n",
       "      <td>F</td>\n",
       "      <td>e4052622e5ba45a8b96b59aba68cf068</td>\n",
       "      <td>2017</td>\n",
       "      <td>7</td>\n",
       "      <td>Saturday</td>\n",
       "      <td>1740</td>\n",
       "      <td>1</td>\n",
       "      <td>2</td>\n",
       "      <td>offer completed</td>\n",
       "      <td>{'offer_id': 'f19421c1d4aa40978ebb69ca19b0e20d...</td>\n",
       "      <td>4</td>\n",
       "    </tr>\n",
       "    <tr>\n",
       "      <th>272660</th>\n",
       "      <td>F</td>\n",
       "      <td>e4052622e5ba45a8b96b59aba68cf068</td>\n",
       "      <td>2017</td>\n",
       "      <td>7</td>\n",
       "      <td>Saturday</td>\n",
       "      <td>1740</td>\n",
       "      <td>1</td>\n",
       "      <td>2</td>\n",
       "      <td>transaction</td>\n",
       "      <td>{'amount': 19.47}</td>\n",
       "      <td>4</td>\n",
       "    </tr>\n",
       "    <tr>\n",
       "      <th>272661</th>\n",
       "      <td>F</td>\n",
       "      <td>e4052622e5ba45a8b96b59aba68cf068</td>\n",
       "      <td>2017</td>\n",
       "      <td>7</td>\n",
       "      <td>Saturday</td>\n",
       "      <td>1740</td>\n",
       "      <td>1</td>\n",
       "      <td>2</td>\n",
       "      <td>offer viewed</td>\n",
       "      <td>{'offer id': 'f19421c1d4aa40978ebb69ca19b0e20d'}</td>\n",
       "      <td>5</td>\n",
       "    </tr>\n",
       "    <tr>\n",
       "      <th>272662</th>\n",
       "      <td>F</td>\n",
       "      <td>e4052622e5ba45a8b96b59aba68cf068</td>\n",
       "      <td>2017</td>\n",
       "      <td>7</td>\n",
       "      <td>Saturday</td>\n",
       "      <td>1740</td>\n",
       "      <td>1</td>\n",
       "      <td>2</td>\n",
       "      <td>offer received</td>\n",
       "      <td>{'offer id': '3f207df678b143eea3cee63160fa8bed'}</td>\n",
       "      <td>5</td>\n",
       "    </tr>\n",
       "    <tr>\n",
       "      <th>272663</th>\n",
       "      <td>F</td>\n",
       "      <td>e4052622e5ba45a8b96b59aba68cf068</td>\n",
       "      <td>2017</td>\n",
       "      <td>7</td>\n",
       "      <td>Saturday</td>\n",
       "      <td>1740</td>\n",
       "      <td>1</td>\n",
       "      <td>2</td>\n",
       "      <td>transaction</td>\n",
       "      <td>{'amount': 24.71}</td>\n",
       "      <td>6</td>\n",
       "    </tr>\n",
       "  </tbody>\n",
       "</table>\n",
       "<p>272664 rows × 11 columns</p>\n",
       "</div>"
      ],
      "text/plain": [
       "       gender                                id  year  month       day  \\\n",
       "0           F  0610b486422d4921ae7d2bf64640c50b  2017      7  Saturday   \n",
       "1           F  0610b486422d4921ae7d2bf64640c50b  2017      7  Saturday   \n",
       "2           F  0610b486422d4921ae7d2bf64640c50b  2017      7  Saturday   \n",
       "3           F  0610b486422d4921ae7d2bf64640c50b  2017      7  Saturday   \n",
       "4           F  0610b486422d4921ae7d2bf64640c50b  2017      7  Saturday   \n",
       "...       ...                               ...   ...    ...       ...   \n",
       "272659      F  e4052622e5ba45a8b96b59aba68cf068  2017      7  Saturday   \n",
       "272660      F  e4052622e5ba45a8b96b59aba68cf068  2017      7  Saturday   \n",
       "272661      F  e4052622e5ba45a8b96b59aba68cf068  2017      7  Saturday   \n",
       "272662      F  e4052622e5ba45a8b96b59aba68cf068  2017      7  Saturday   \n",
       "272663      F  e4052622e5ba45a8b96b59aba68cf068  2017      7  Saturday   \n",
       "\n",
       "        membership_days  age_group  income_group            event  \\\n",
       "0                  1747          0             3      transaction   \n",
       "1                  1747          0             3      transaction   \n",
       "2                  1747          0             3   offer received   \n",
       "3                  1747          0             3   offer received   \n",
       "4                  1747          0             3      transaction   \n",
       "...                 ...        ...           ...              ...   \n",
       "272659             1740          1             2  offer completed   \n",
       "272660             1740          1             2      transaction   \n",
       "272661             1740          1             2     offer viewed   \n",
       "272662             1740          1             2   offer received   \n",
       "272663             1740          1             2      transaction   \n",
       "\n",
       "                                                    value  time_group  \n",
       "0                                       {'amount': 21.51}           0  \n",
       "1                                       {'amount': 32.28}           1  \n",
       "2        {'offer id': '9b98b8c7a33c4b65b9aebfe6a799e6d9'}           4  \n",
       "3        {'offer id': '3f207df678b143eea3cee63160fa8bed'}           5  \n",
       "4                                       {'amount': 23.22}           5  \n",
       "...                                                   ...         ...  \n",
       "272659  {'offer_id': 'f19421c1d4aa40978ebb69ca19b0e20d...           4  \n",
       "272660                                  {'amount': 19.47}           4  \n",
       "272661   {'offer id': 'f19421c1d4aa40978ebb69ca19b0e20d'}           5  \n",
       "272662   {'offer id': '3f207df678b143eea3cee63160fa8bed'}           5  \n",
       "272663                                  {'amount': 24.71}           6  \n",
       "\n",
       "[272664 rows x 11 columns]"
      ]
     },
     "execution_count": 26,
     "metadata": {},
     "output_type": "execute_result"
    }
   ],
   "source": [
    "df = pd.merge(profile, transcript, on='id')\n",
    "df = df.drop(['became_member_on'], axis=1)\n",
    "df"
   ]
  },
  {
   "cell_type": "code",
   "execution_count": 27,
   "id": "d9254934",
   "metadata": {
    "execution": {
     "iopub.execute_input": "2022-04-27T05:11:59.085808Z",
     "iopub.status.busy": "2022-04-27T05:11:59.079475Z",
     "iopub.status.idle": "2022-04-27T05:11:59.089751Z",
     "shell.execute_reply": "2022-04-27T05:11:59.090451Z",
     "shell.execute_reply.started": "2022-04-27T05:06:42.841324Z"
    },
    "papermill": {
     "duration": 0.103161,
     "end_time": "2022-04-27T05:11:59.090632",
     "exception": false,
     "start_time": "2022-04-27T05:11:58.987471",
     "status": "completed"
    },
    "tags": []
   },
   "outputs": [],
   "source": [
    "#map the offer_id from df with id in portfolio\n",
    "\n",
    "#create dict such that offers['offer_id']= offerName_difficulty_duration\n",
    "offers=dict()\n",
    "for offer, i, diff, dur in portfolio[['offer_type', 'id', 'difficulty', 'duration']].values:\n",
    "    offers[i]= f'{offer}_{diff}_{dur}'\n",
    "\n",
    "\n",
    "def value_col(col):\n",
    "    \"\"\"\n",
    "    extract offer_id from value column and mapped it to the offer name\n",
    "    \n",
    "    input- value column\n",
    "    \n",
    "    output-  mapped offer names\n",
    "    \"\"\"\n",
    "    value_type= col.split(':')[0].replace(\"'\", \"\").replace('{', \"\")\n",
    "    \n",
    "    if value_type == 'offer id':\n",
    "        value= col.split(':')[1].replace(\"'\", \"\").replace('}', \"\").strip()\n",
    "        return offers[value]\n",
    "    elif value_type == 'offer_id':\n",
    "        value= col.split(':')[1].split(',')[0].replace(\"'\", \"\").strip()\n",
    "        return offers[value]\n",
    "    else:\n",
    "        return 'None'"
   ]
  },
  {
   "cell_type": "code",
   "execution_count": 28,
   "id": "00993a75",
   "metadata": {
    "execution": {
     "iopub.execute_input": "2022-04-27T05:11:59.272658Z",
     "iopub.status.busy": "2022-04-27T05:11:59.271964Z",
     "iopub.status.idle": "2022-04-27T05:11:59.705043Z",
     "shell.execute_reply": "2022-04-27T05:11:59.705550Z",
     "shell.execute_reply.started": "2022-04-27T05:06:43.394672Z"
    },
    "papermill": {
     "duration": 0.526587,
     "end_time": "2022-04-27T05:11:59.705762",
     "exception": false,
     "start_time": "2022-04-27T05:11:59.179175",
     "status": "completed"
    },
    "tags": []
   },
   "outputs": [],
   "source": [
    "#get offer names\n",
    "df['offer']= df['value'].apply(value_col)"
   ]
  },
  {
   "cell_type": "code",
   "execution_count": 29,
   "id": "278c7c13",
   "metadata": {
    "execution": {
     "iopub.execute_input": "2022-04-27T05:11:59.892597Z",
     "iopub.status.busy": "2022-04-27T05:11:59.888180Z",
     "iopub.status.idle": "2022-04-27T05:11:59.895673Z",
     "shell.execute_reply": "2022-04-27T05:11:59.895115Z",
     "shell.execute_reply.started": "2022-04-27T05:06:44.053900Z"
    },
    "papermill": {
     "duration": 0.099253,
     "end_time": "2022-04-27T05:11:59.895854",
     "exception": false,
     "start_time": "2022-04-27T05:11:59.796601",
     "status": "completed"
    },
    "tags": []
   },
   "outputs": [],
   "source": [
    "def value_col_id(col):\n",
    "    \"\"\"\n",
    "    extract offer_id from value column\n",
    "    \n",
    "    input- value column\n",
    "    \n",
    "    output- offer_ids\n",
    "    \"\"\"\n",
    "    value_type= col.split(':')[0].replace(\"'\", \"\").replace('{', \"\")\n",
    "    \n",
    "    if value_type == 'offer id':\n",
    "        value= col.split(':')[1].replace(\"'\", \"\").replace('}', \"\").strip()\n",
    "        return value\n",
    "    elif value_type == 'offer_id':\n",
    "        value= col.split(':')[1].split(',')[0].replace(\"'\", \"\").strip()\n",
    "        return value\n",
    "    else:\n",
    "        return 'None'"
   ]
  },
  {
   "cell_type": "code",
   "execution_count": 30,
   "id": "827102cb",
   "metadata": {
    "execution": {
     "iopub.execute_input": "2022-04-27T05:12:00.083191Z",
     "iopub.status.busy": "2022-04-27T05:12:00.082432Z",
     "iopub.status.idle": "2022-04-27T05:12:00.514681Z",
     "shell.execute_reply": "2022-04-27T05:12:00.514040Z",
     "shell.execute_reply.started": "2022-04-27T05:06:44.658739Z"
    },
    "papermill": {
     "duration": 0.527746,
     "end_time": "2022-04-27T05:12:00.514897",
     "exception": false,
     "start_time": "2022-04-27T05:11:59.987151",
     "status": "completed"
    },
    "tags": []
   },
   "outputs": [],
   "source": [
    "#get offer ids\n",
    "df['offer_id']= df['value'].apply(value_col_id)"
   ]
  },
  {
   "cell_type": "code",
   "execution_count": 31,
   "id": "3a7d9704",
   "metadata": {
    "execution": {
     "iopub.execute_input": "2022-04-27T05:12:00.708201Z",
     "iopub.status.busy": "2022-04-27T05:12:00.707357Z",
     "iopub.status.idle": "2022-04-27T05:12:00.711195Z",
     "shell.execute_reply": "2022-04-27T05:12:00.710514Z",
     "shell.execute_reply.started": "2022-04-27T05:06:45.424888Z"
    },
    "papermill": {
     "duration": 0.105023,
     "end_time": "2022-04-27T05:12:00.711345",
     "exception": false,
     "start_time": "2022-04-27T05:12:00.606322",
     "status": "completed"
    },
    "tags": []
   },
   "outputs": [],
   "source": [
    "def value_col_trans(col):\n",
    "    \"\"\"\n",
    "    get transaction amount from value column\n",
    "    \n",
    "    input- value column\n",
    "    \n",
    "    output- transaction amount\n",
    "    \"\"\"\n",
    "    value_type= col.split(':')[0].replace(\"'\", \"\").replace('{', \"\")\n",
    "    \n",
    "    if value_type == 'amount':\n",
    "        value= col.split(':')[1].replace(\"'\", \"\").replace('}', \"\").strip()\n",
    "        return np.round(float(value), 2)\n",
    "    else:\n",
    "        return np.nan"
   ]
  },
  {
   "cell_type": "code",
   "execution_count": 32,
   "id": "bb034988",
   "metadata": {
    "execution": {
     "iopub.execute_input": "2022-04-27T05:12:00.892663Z",
     "iopub.status.busy": "2022-04-27T05:12:00.891678Z",
     "iopub.status.idle": "2022-04-27T05:12:02.973452Z",
     "shell.execute_reply": "2022-04-27T05:12:02.972897Z",
     "shell.execute_reply.started": "2022-04-27T05:06:46.219608Z"
    },
    "papermill": {
     "duration": 2.173921,
     "end_time": "2022-04-27T05:12:02.973608",
     "exception": false,
     "start_time": "2022-04-27T05:12:00.799687",
     "status": "completed"
    },
    "tags": []
   },
   "outputs": [],
   "source": [
    "#get transaction amount\n",
    "df['amount']= df['value'].apply(value_col_trans)"
   ]
  },
  {
   "cell_type": "code",
   "execution_count": 33,
   "id": "11f57d16",
   "metadata": {
    "execution": {
     "iopub.execute_input": "2022-04-27T05:12:03.155618Z",
     "iopub.status.busy": "2022-04-27T05:12:03.154956Z",
     "iopub.status.idle": "2022-04-27T05:12:03.240634Z",
     "shell.execute_reply": "2022-04-27T05:12:03.239919Z",
     "shell.execute_reply.started": "2022-04-27T05:06:47.634715Z"
    },
    "papermill": {
     "duration": 0.176692,
     "end_time": "2022-04-27T05:12:03.240799",
     "exception": false,
     "start_time": "2022-04-27T05:12:03.064107",
     "status": "completed"
    },
    "tags": []
   },
   "outputs": [],
   "source": [
    "df = df.drop(['value'], axis=1)"
   ]
  },
  {
   "cell_type": "code",
   "execution_count": 34,
   "id": "1cf414ed",
   "metadata": {
    "execution": {
     "iopub.execute_input": "2022-04-27T05:12:03.451423Z",
     "iopub.status.busy": "2022-04-27T05:12:03.450630Z",
     "iopub.status.idle": "2022-04-27T05:12:03.995197Z",
     "shell.execute_reply": "2022-04-27T05:12:03.994508Z",
     "shell.execute_reply.started": "2022-04-27T05:06:47.739433Z"
    },
    "papermill": {
     "duration": 0.667282,
     "end_time": "2022-04-27T05:12:03.995350",
     "exception": false,
     "start_time": "2022-04-27T05:12:03.328068",
     "status": "completed"
    },
    "tags": []
   },
   "outputs": [
    {
     "data": {
      "text/html": [
       "<div>\n",
       "<style scoped>\n",
       "    .dataframe tbody tr th:only-of-type {\n",
       "        vertical-align: middle;\n",
       "    }\n",
       "\n",
       "    .dataframe tbody tr th {\n",
       "        vertical-align: top;\n",
       "    }\n",
       "\n",
       "    .dataframe thead th {\n",
       "        text-align: right;\n",
       "    }\n",
       "</style>\n",
       "<table border=\"1\" class=\"dataframe\">\n",
       "  <thead>\n",
       "    <tr style=\"text-align: right;\">\n",
       "      <th></th>\n",
       "      <th>gender</th>\n",
       "      <th>id</th>\n",
       "      <th>year</th>\n",
       "      <th>month</th>\n",
       "      <th>day</th>\n",
       "      <th>membership_days</th>\n",
       "      <th>age_group</th>\n",
       "      <th>income_group</th>\n",
       "      <th>event</th>\n",
       "      <th>time_group</th>\n",
       "      <th>offer</th>\n",
       "      <th>offer_id</th>\n",
       "      <th>amount</th>\n",
       "    </tr>\n",
       "  </thead>\n",
       "  <tbody>\n",
       "    <tr>\n",
       "      <th>0</th>\n",
       "      <td>F</td>\n",
       "      <td>0610b486422d4921ae7d2bf64640c50b</td>\n",
       "      <td>2017</td>\n",
       "      <td>7</td>\n",
       "      <td>Saturday</td>\n",
       "      <td>1747</td>\n",
       "      <td>0</td>\n",
       "      <td>3</td>\n",
       "      <td>transaction</td>\n",
       "      <td>0</td>\n",
       "      <td>None</td>\n",
       "      <td>None</td>\n",
       "      <td>21.51</td>\n",
       "    </tr>\n",
       "    <tr>\n",
       "      <th>1</th>\n",
       "      <td>F</td>\n",
       "      <td>0610b486422d4921ae7d2bf64640c50b</td>\n",
       "      <td>2017</td>\n",
       "      <td>7</td>\n",
       "      <td>Saturday</td>\n",
       "      <td>1747</td>\n",
       "      <td>0</td>\n",
       "      <td>3</td>\n",
       "      <td>transaction</td>\n",
       "      <td>1</td>\n",
       "      <td>None</td>\n",
       "      <td>None</td>\n",
       "      <td>32.28</td>\n",
       "    </tr>\n",
       "    <tr>\n",
       "      <th>2</th>\n",
       "      <td>F</td>\n",
       "      <td>0610b486422d4921ae7d2bf64640c50b</td>\n",
       "      <td>2017</td>\n",
       "      <td>7</td>\n",
       "      <td>Saturday</td>\n",
       "      <td>1747</td>\n",
       "      <td>0</td>\n",
       "      <td>3</td>\n",
       "      <td>offer received</td>\n",
       "      <td>4</td>\n",
       "      <td>bogo</td>\n",
       "      <td>9b98b8c7a33c4b65b9aebfe6a799e6d9</td>\n",
       "      <td>NaN</td>\n",
       "    </tr>\n",
       "    <tr>\n",
       "      <th>3</th>\n",
       "      <td>F</td>\n",
       "      <td>0610b486422d4921ae7d2bf64640c50b</td>\n",
       "      <td>2017</td>\n",
       "      <td>7</td>\n",
       "      <td>Saturday</td>\n",
       "      <td>1747</td>\n",
       "      <td>0</td>\n",
       "      <td>3</td>\n",
       "      <td>offer received</td>\n",
       "      <td>5</td>\n",
       "      <td>informational</td>\n",
       "      <td>3f207df678b143eea3cee63160fa8bed</td>\n",
       "      <td>NaN</td>\n",
       "    </tr>\n",
       "    <tr>\n",
       "      <th>4</th>\n",
       "      <td>F</td>\n",
       "      <td>0610b486422d4921ae7d2bf64640c50b</td>\n",
       "      <td>2017</td>\n",
       "      <td>7</td>\n",
       "      <td>Saturday</td>\n",
       "      <td>1747</td>\n",
       "      <td>0</td>\n",
       "      <td>3</td>\n",
       "      <td>transaction</td>\n",
       "      <td>5</td>\n",
       "      <td>None</td>\n",
       "      <td>None</td>\n",
       "      <td>23.22</td>\n",
       "    </tr>\n",
       "    <tr>\n",
       "      <th>...</th>\n",
       "      <td>...</td>\n",
       "      <td>...</td>\n",
       "      <td>...</td>\n",
       "      <td>...</td>\n",
       "      <td>...</td>\n",
       "      <td>...</td>\n",
       "      <td>...</td>\n",
       "      <td>...</td>\n",
       "      <td>...</td>\n",
       "      <td>...</td>\n",
       "      <td>...</td>\n",
       "      <td>...</td>\n",
       "      <td>...</td>\n",
       "    </tr>\n",
       "    <tr>\n",
       "      <th>272659</th>\n",
       "      <td>F</td>\n",
       "      <td>e4052622e5ba45a8b96b59aba68cf068</td>\n",
       "      <td>2017</td>\n",
       "      <td>7</td>\n",
       "      <td>Saturday</td>\n",
       "      <td>1740</td>\n",
       "      <td>1</td>\n",
       "      <td>2</td>\n",
       "      <td>offer completed</td>\n",
       "      <td>4</td>\n",
       "      <td>bogo</td>\n",
       "      <td>f19421c1d4aa40978ebb69ca19b0e20d</td>\n",
       "      <td>NaN</td>\n",
       "    </tr>\n",
       "    <tr>\n",
       "      <th>272660</th>\n",
       "      <td>F</td>\n",
       "      <td>e4052622e5ba45a8b96b59aba68cf068</td>\n",
       "      <td>2017</td>\n",
       "      <td>7</td>\n",
       "      <td>Saturday</td>\n",
       "      <td>1740</td>\n",
       "      <td>1</td>\n",
       "      <td>2</td>\n",
       "      <td>transaction</td>\n",
       "      <td>4</td>\n",
       "      <td>None</td>\n",
       "      <td>None</td>\n",
       "      <td>19.47</td>\n",
       "    </tr>\n",
       "    <tr>\n",
       "      <th>272661</th>\n",
       "      <td>F</td>\n",
       "      <td>e4052622e5ba45a8b96b59aba68cf068</td>\n",
       "      <td>2017</td>\n",
       "      <td>7</td>\n",
       "      <td>Saturday</td>\n",
       "      <td>1740</td>\n",
       "      <td>1</td>\n",
       "      <td>2</td>\n",
       "      <td>offer viewed</td>\n",
       "      <td>5</td>\n",
       "      <td>bogo</td>\n",
       "      <td>f19421c1d4aa40978ebb69ca19b0e20d</td>\n",
       "      <td>NaN</td>\n",
       "    </tr>\n",
       "    <tr>\n",
       "      <th>272662</th>\n",
       "      <td>F</td>\n",
       "      <td>e4052622e5ba45a8b96b59aba68cf068</td>\n",
       "      <td>2017</td>\n",
       "      <td>7</td>\n",
       "      <td>Saturday</td>\n",
       "      <td>1740</td>\n",
       "      <td>1</td>\n",
       "      <td>2</td>\n",
       "      <td>offer received</td>\n",
       "      <td>5</td>\n",
       "      <td>informational</td>\n",
       "      <td>3f207df678b143eea3cee63160fa8bed</td>\n",
       "      <td>NaN</td>\n",
       "    </tr>\n",
       "    <tr>\n",
       "      <th>272663</th>\n",
       "      <td>F</td>\n",
       "      <td>e4052622e5ba45a8b96b59aba68cf068</td>\n",
       "      <td>2017</td>\n",
       "      <td>7</td>\n",
       "      <td>Saturday</td>\n",
       "      <td>1740</td>\n",
       "      <td>1</td>\n",
       "      <td>2</td>\n",
       "      <td>transaction</td>\n",
       "      <td>6</td>\n",
       "      <td>None</td>\n",
       "      <td>None</td>\n",
       "      <td>24.71</td>\n",
       "    </tr>\n",
       "  </tbody>\n",
       "</table>\n",
       "<p>272664 rows × 13 columns</p>\n",
       "</div>"
      ],
      "text/plain": [
       "       gender                                id  year  month       day  \\\n",
       "0           F  0610b486422d4921ae7d2bf64640c50b  2017      7  Saturday   \n",
       "1           F  0610b486422d4921ae7d2bf64640c50b  2017      7  Saturday   \n",
       "2           F  0610b486422d4921ae7d2bf64640c50b  2017      7  Saturday   \n",
       "3           F  0610b486422d4921ae7d2bf64640c50b  2017      7  Saturday   \n",
       "4           F  0610b486422d4921ae7d2bf64640c50b  2017      7  Saturday   \n",
       "...       ...                               ...   ...    ...       ...   \n",
       "272659      F  e4052622e5ba45a8b96b59aba68cf068  2017      7  Saturday   \n",
       "272660      F  e4052622e5ba45a8b96b59aba68cf068  2017      7  Saturday   \n",
       "272661      F  e4052622e5ba45a8b96b59aba68cf068  2017      7  Saturday   \n",
       "272662      F  e4052622e5ba45a8b96b59aba68cf068  2017      7  Saturday   \n",
       "272663      F  e4052622e5ba45a8b96b59aba68cf068  2017      7  Saturday   \n",
       "\n",
       "        membership_days  age_group  income_group            event  time_group  \\\n",
       "0                  1747          0             3      transaction           0   \n",
       "1                  1747          0             3      transaction           1   \n",
       "2                  1747          0             3   offer received           4   \n",
       "3                  1747          0             3   offer received           5   \n",
       "4                  1747          0             3      transaction           5   \n",
       "...                 ...        ...           ...              ...         ...   \n",
       "272659             1740          1             2  offer completed           4   \n",
       "272660             1740          1             2      transaction           4   \n",
       "272661             1740          1             2     offer viewed           5   \n",
       "272662             1740          1             2   offer received           5   \n",
       "272663             1740          1             2      transaction           6   \n",
       "\n",
       "                offer                          offer_id  amount  \n",
       "0                None                              None   21.51  \n",
       "1                None                              None   32.28  \n",
       "2                bogo  9b98b8c7a33c4b65b9aebfe6a799e6d9     NaN  \n",
       "3       informational  3f207df678b143eea3cee63160fa8bed     NaN  \n",
       "4                None                              None   23.22  \n",
       "...               ...                               ...     ...  \n",
       "272659           bogo  f19421c1d4aa40978ebb69ca19b0e20d     NaN  \n",
       "272660           None                              None   19.47  \n",
       "272661           bogo  f19421c1d4aa40978ebb69ca19b0e20d     NaN  \n",
       "272662  informational  3f207df678b143eea3cee63160fa8bed     NaN  \n",
       "272663           None                              None   24.71  \n",
       "\n",
       "[272664 rows x 13 columns]"
      ]
     },
     "execution_count": 34,
     "metadata": {},
     "output_type": "execute_result"
    }
   ],
   "source": [
    "df['offer'] = df['offer'].str.replace('_', '')\n",
    "df['offer'] = df['offer'].str.replace('\\d+', '')\n",
    "df"
   ]
  },
  {
   "cell_type": "code",
   "execution_count": 35,
   "id": "94dc4e60",
   "metadata": {
    "execution": {
     "iopub.execute_input": "2022-04-27T05:12:04.178287Z",
     "iopub.status.busy": "2022-04-27T05:12:04.177492Z",
     "iopub.status.idle": "2022-04-27T05:12:04.336129Z",
     "shell.execute_reply": "2022-04-27T05:12:04.335430Z",
     "shell.execute_reply.started": "2022-04-27T05:06:48.210204Z"
    },
    "papermill": {
     "duration": 0.252801,
     "end_time": "2022-04-27T05:12:04.336277",
     "exception": false,
     "start_time": "2022-04-27T05:12:04.083476",
     "status": "completed"
    },
    "tags": []
   },
   "outputs": [
    {
     "data": {
      "text/html": [
       "<div>\n",
       "<style scoped>\n",
       "    .dataframe tbody tr th:only-of-type {\n",
       "        vertical-align: middle;\n",
       "    }\n",
       "\n",
       "    .dataframe tbody tr th {\n",
       "        vertical-align: top;\n",
       "    }\n",
       "\n",
       "    .dataframe thead th {\n",
       "        text-align: right;\n",
       "    }\n",
       "</style>\n",
       "<table border=\"1\" class=\"dataframe\">\n",
       "  <thead>\n",
       "    <tr style=\"text-align: right;\">\n",
       "      <th></th>\n",
       "      <th>gender</th>\n",
       "      <th>id</th>\n",
       "      <th>year</th>\n",
       "      <th>month</th>\n",
       "      <th>day</th>\n",
       "      <th>membership_days</th>\n",
       "      <th>age_group</th>\n",
       "      <th>income_group</th>\n",
       "      <th>event</th>\n",
       "      <th>time_group</th>\n",
       "      <th>offer</th>\n",
       "      <th>offer_id</th>\n",
       "      <th>amount</th>\n",
       "    </tr>\n",
       "  </thead>\n",
       "  <tbody>\n",
       "    <tr>\n",
       "      <th>0</th>\n",
       "      <td>F</td>\n",
       "      <td>0610b486422d4921ae7d2bf64640c50b</td>\n",
       "      <td>2017</td>\n",
       "      <td>7</td>\n",
       "      <td>Saturday</td>\n",
       "      <td>1747</td>\n",
       "      <td>0</td>\n",
       "      <td>3</td>\n",
       "      <td>transaction</td>\n",
       "      <td>0</td>\n",
       "      <td>0</td>\n",
       "      <td>None</td>\n",
       "      <td>21.51</td>\n",
       "    </tr>\n",
       "    <tr>\n",
       "      <th>1</th>\n",
       "      <td>F</td>\n",
       "      <td>0610b486422d4921ae7d2bf64640c50b</td>\n",
       "      <td>2017</td>\n",
       "      <td>7</td>\n",
       "      <td>Saturday</td>\n",
       "      <td>1747</td>\n",
       "      <td>0</td>\n",
       "      <td>3</td>\n",
       "      <td>transaction</td>\n",
       "      <td>1</td>\n",
       "      <td>0</td>\n",
       "      <td>None</td>\n",
       "      <td>32.28</td>\n",
       "    </tr>\n",
       "    <tr>\n",
       "      <th>2</th>\n",
       "      <td>F</td>\n",
       "      <td>0610b486422d4921ae7d2bf64640c50b</td>\n",
       "      <td>2017</td>\n",
       "      <td>7</td>\n",
       "      <td>Saturday</td>\n",
       "      <td>1747</td>\n",
       "      <td>0</td>\n",
       "      <td>3</td>\n",
       "      <td>offer received</td>\n",
       "      <td>4</td>\n",
       "      <td>1</td>\n",
       "      <td>9b98b8c7a33c4b65b9aebfe6a799e6d9</td>\n",
       "      <td>NaN</td>\n",
       "    </tr>\n",
       "    <tr>\n",
       "      <th>3</th>\n",
       "      <td>F</td>\n",
       "      <td>0610b486422d4921ae7d2bf64640c50b</td>\n",
       "      <td>2017</td>\n",
       "      <td>7</td>\n",
       "      <td>Saturday</td>\n",
       "      <td>1747</td>\n",
       "      <td>0</td>\n",
       "      <td>3</td>\n",
       "      <td>offer received</td>\n",
       "      <td>5</td>\n",
       "      <td>3</td>\n",
       "      <td>3f207df678b143eea3cee63160fa8bed</td>\n",
       "      <td>NaN</td>\n",
       "    </tr>\n",
       "    <tr>\n",
       "      <th>4</th>\n",
       "      <td>F</td>\n",
       "      <td>0610b486422d4921ae7d2bf64640c50b</td>\n",
       "      <td>2017</td>\n",
       "      <td>7</td>\n",
       "      <td>Saturday</td>\n",
       "      <td>1747</td>\n",
       "      <td>0</td>\n",
       "      <td>3</td>\n",
       "      <td>transaction</td>\n",
       "      <td>5</td>\n",
       "      <td>0</td>\n",
       "      <td>None</td>\n",
       "      <td>23.22</td>\n",
       "    </tr>\n",
       "    <tr>\n",
       "      <th>...</th>\n",
       "      <td>...</td>\n",
       "      <td>...</td>\n",
       "      <td>...</td>\n",
       "      <td>...</td>\n",
       "      <td>...</td>\n",
       "      <td>...</td>\n",
       "      <td>...</td>\n",
       "      <td>...</td>\n",
       "      <td>...</td>\n",
       "      <td>...</td>\n",
       "      <td>...</td>\n",
       "      <td>...</td>\n",
       "      <td>...</td>\n",
       "    </tr>\n",
       "    <tr>\n",
       "      <th>272659</th>\n",
       "      <td>F</td>\n",
       "      <td>e4052622e5ba45a8b96b59aba68cf068</td>\n",
       "      <td>2017</td>\n",
       "      <td>7</td>\n",
       "      <td>Saturday</td>\n",
       "      <td>1740</td>\n",
       "      <td>1</td>\n",
       "      <td>2</td>\n",
       "      <td>offer completed</td>\n",
       "      <td>4</td>\n",
       "      <td>1</td>\n",
       "      <td>f19421c1d4aa40978ebb69ca19b0e20d</td>\n",
       "      <td>NaN</td>\n",
       "    </tr>\n",
       "    <tr>\n",
       "      <th>272660</th>\n",
       "      <td>F</td>\n",
       "      <td>e4052622e5ba45a8b96b59aba68cf068</td>\n",
       "      <td>2017</td>\n",
       "      <td>7</td>\n",
       "      <td>Saturday</td>\n",
       "      <td>1740</td>\n",
       "      <td>1</td>\n",
       "      <td>2</td>\n",
       "      <td>transaction</td>\n",
       "      <td>4</td>\n",
       "      <td>0</td>\n",
       "      <td>None</td>\n",
       "      <td>19.47</td>\n",
       "    </tr>\n",
       "    <tr>\n",
       "      <th>272661</th>\n",
       "      <td>F</td>\n",
       "      <td>e4052622e5ba45a8b96b59aba68cf068</td>\n",
       "      <td>2017</td>\n",
       "      <td>7</td>\n",
       "      <td>Saturday</td>\n",
       "      <td>1740</td>\n",
       "      <td>1</td>\n",
       "      <td>2</td>\n",
       "      <td>offer viewed</td>\n",
       "      <td>5</td>\n",
       "      <td>1</td>\n",
       "      <td>f19421c1d4aa40978ebb69ca19b0e20d</td>\n",
       "      <td>NaN</td>\n",
       "    </tr>\n",
       "    <tr>\n",
       "      <th>272662</th>\n",
       "      <td>F</td>\n",
       "      <td>e4052622e5ba45a8b96b59aba68cf068</td>\n",
       "      <td>2017</td>\n",
       "      <td>7</td>\n",
       "      <td>Saturday</td>\n",
       "      <td>1740</td>\n",
       "      <td>1</td>\n",
       "      <td>2</td>\n",
       "      <td>offer received</td>\n",
       "      <td>5</td>\n",
       "      <td>3</td>\n",
       "      <td>3f207df678b143eea3cee63160fa8bed</td>\n",
       "      <td>NaN</td>\n",
       "    </tr>\n",
       "    <tr>\n",
       "      <th>272663</th>\n",
       "      <td>F</td>\n",
       "      <td>e4052622e5ba45a8b96b59aba68cf068</td>\n",
       "      <td>2017</td>\n",
       "      <td>7</td>\n",
       "      <td>Saturday</td>\n",
       "      <td>1740</td>\n",
       "      <td>1</td>\n",
       "      <td>2</td>\n",
       "      <td>transaction</td>\n",
       "      <td>6</td>\n",
       "      <td>0</td>\n",
       "      <td>None</td>\n",
       "      <td>24.71</td>\n",
       "    </tr>\n",
       "  </tbody>\n",
       "</table>\n",
       "<p>272664 rows × 13 columns</p>\n",
       "</div>"
      ],
      "text/plain": [
       "       gender                                id  year  month       day  \\\n",
       "0           F  0610b486422d4921ae7d2bf64640c50b  2017      7  Saturday   \n",
       "1           F  0610b486422d4921ae7d2bf64640c50b  2017      7  Saturday   \n",
       "2           F  0610b486422d4921ae7d2bf64640c50b  2017      7  Saturday   \n",
       "3           F  0610b486422d4921ae7d2bf64640c50b  2017      7  Saturday   \n",
       "4           F  0610b486422d4921ae7d2bf64640c50b  2017      7  Saturday   \n",
       "...       ...                               ...   ...    ...       ...   \n",
       "272659      F  e4052622e5ba45a8b96b59aba68cf068  2017      7  Saturday   \n",
       "272660      F  e4052622e5ba45a8b96b59aba68cf068  2017      7  Saturday   \n",
       "272661      F  e4052622e5ba45a8b96b59aba68cf068  2017      7  Saturday   \n",
       "272662      F  e4052622e5ba45a8b96b59aba68cf068  2017      7  Saturday   \n",
       "272663      F  e4052622e5ba45a8b96b59aba68cf068  2017      7  Saturday   \n",
       "\n",
       "        membership_days  age_group  income_group            event  time_group  \\\n",
       "0                  1747          0             3      transaction           0   \n",
       "1                  1747          0             3      transaction           1   \n",
       "2                  1747          0             3   offer received           4   \n",
       "3                  1747          0             3   offer received           5   \n",
       "4                  1747          0             3      transaction           5   \n",
       "...                 ...        ...           ...              ...         ...   \n",
       "272659             1740          1             2  offer completed           4   \n",
       "272660             1740          1             2      transaction           4   \n",
       "272661             1740          1             2     offer viewed           5   \n",
       "272662             1740          1             2   offer received           5   \n",
       "272663             1740          1             2      transaction           6   \n",
       "\n",
       "        offer                          offer_id  amount  \n",
       "0           0                              None   21.51  \n",
       "1           0                              None   32.28  \n",
       "2           1  9b98b8c7a33c4b65b9aebfe6a799e6d9     NaN  \n",
       "3           3  3f207df678b143eea3cee63160fa8bed     NaN  \n",
       "4           0                              None   23.22  \n",
       "...       ...                               ...     ...  \n",
       "272659      1  f19421c1d4aa40978ebb69ca19b0e20d     NaN  \n",
       "272660      0                              None   19.47  \n",
       "272661      1  f19421c1d4aa40978ebb69ca19b0e20d     NaN  \n",
       "272662      3  3f207df678b143eea3cee63160fa8bed     NaN  \n",
       "272663      0                              None   24.71  \n",
       "\n",
       "[272664 rows x 13 columns]"
      ]
     },
     "execution_count": 35,
     "metadata": {},
     "output_type": "execute_result"
    }
   ],
   "source": [
    "from sklearn.preprocessing import LabelEncoder\n",
    "\n",
    "df = df.copy(deep = True)\n",
    "le_offer = LabelEncoder()\n",
    "df['offer'] = le_offer.fit_transform(df['offer'])\n",
    "df.head(5)\n",
    "df"
   ]
  },
  {
   "cell_type": "code",
   "execution_count": 36,
   "id": "05ab4a2b",
   "metadata": {
    "execution": {
     "iopub.execute_input": "2022-04-27T05:12:04.521098Z",
     "iopub.status.busy": "2022-04-27T05:12:04.518863Z",
     "iopub.status.idle": "2022-04-27T05:12:04.523384Z",
     "shell.execute_reply": "2022-04-27T05:12:04.522801Z",
     "shell.execute_reply.started": "2022-04-27T05:06:48.801006Z"
    },
    "papermill": {
     "duration": 0.096029,
     "end_time": "2022-04-27T05:12:04.523524",
     "exception": false,
     "start_time": "2022-04-27T05:12:04.427495",
     "status": "completed"
    },
    "tags": []
   },
   "outputs": [],
   "source": [
    "df.rename(columns={'id':'customer_id'}, inplace=True)\n"
   ]
  },
  {
   "cell_type": "code",
   "execution_count": 37,
   "id": "76369876",
   "metadata": {
    "execution": {
     "iopub.execute_input": "2022-04-27T05:12:04.704355Z",
     "iopub.status.busy": "2022-04-27T05:12:04.703592Z",
     "iopub.status.idle": "2022-04-27T05:12:04.707691Z",
     "shell.execute_reply": "2022-04-27T05:12:04.708428Z",
     "shell.execute_reply.started": "2022-04-27T05:06:49.485581Z"
    },
    "papermill": {
     "duration": 0.097266,
     "end_time": "2022-04-27T05:12:04.708602",
     "exception": false,
     "start_time": "2022-04-27T05:12:04.611336",
     "status": "completed"
    },
    "tags": []
   },
   "outputs": [],
   "source": [
    "df.rename(columns={'offer_id':'id'}, inplace=True)\n"
   ]
  },
  {
   "cell_type": "code",
   "execution_count": 38,
   "id": "c8ad037d",
   "metadata": {
    "execution": {
     "iopub.execute_input": "2022-04-27T05:12:04.947081Z",
     "iopub.status.busy": "2022-04-27T05:12:04.943205Z",
     "iopub.status.idle": "2022-04-27T05:12:04.980858Z",
     "shell.execute_reply": "2022-04-27T05:12:04.980314Z",
     "shell.execute_reply.started": "2022-04-27T05:06:50.090128Z"
    },
    "papermill": {
     "duration": 0.184436,
     "end_time": "2022-04-27T05:12:04.981010",
     "exception": false,
     "start_time": "2022-04-27T05:12:04.796574",
     "status": "completed"
    },
    "tags": []
   },
   "outputs": [
    {
     "data": {
      "text/html": [
       "<div>                            <div id=\"0f33b825-9879-4daf-aa9c-52d1355100f9\" class=\"plotly-graph-div\" style=\"height:525px; width:100%;\"></div>            <script type=\"text/javascript\">                require([\"plotly\"], function(Plotly) {                    window.PLOTLYENV=window.PLOTLYENV || {};                                    if (document.getElementById(\"0f33b825-9879-4daf-aa9c-52d1355100f9\")) {                    Plotly.newPlot(                        \"0f33b825-9879-4daf-aa9c-52d1355100f9\",                        [{\"domain\":{\"x\":[0.0,1.0],\"y\":[0.0,1.0]},\"hovertemplate\":\"event=%{label}<br>count=%{value}<extra></extra>\",\"labels\":[\"transaction\",\"offer received\",\"offer viewed\",\"offer completed\"],\"legendgroup\":\"\",\"name\":\"\",\"showlegend\":true,\"values\":[123910,66478,49844,32432],\"type\":\"pie\"}],                        {\"template\":{\"data\":{\"bar\":[{\"error_x\":{\"color\":\"#2a3f5f\"},\"error_y\":{\"color\":\"#2a3f5f\"},\"marker\":{\"line\":{\"color\":\"#E5ECF6\",\"width\":0.5},\"pattern\":{\"fillmode\":\"overlay\",\"size\":10,\"solidity\":0.2}},\"type\":\"bar\"}],\"barpolar\":[{\"marker\":{\"line\":{\"color\":\"#E5ECF6\",\"width\":0.5},\"pattern\":{\"fillmode\":\"overlay\",\"size\":10,\"solidity\":0.2}},\"type\":\"barpolar\"}],\"carpet\":[{\"aaxis\":{\"endlinecolor\":\"#2a3f5f\",\"gridcolor\":\"white\",\"linecolor\":\"white\",\"minorgridcolor\":\"white\",\"startlinecolor\":\"#2a3f5f\"},\"baxis\":{\"endlinecolor\":\"#2a3f5f\",\"gridcolor\":\"white\",\"linecolor\":\"white\",\"minorgridcolor\":\"white\",\"startlinecolor\":\"#2a3f5f\"},\"type\":\"carpet\"}],\"choropleth\":[{\"colorbar\":{\"outlinewidth\":0,\"ticks\":\"\"},\"type\":\"choropleth\"}],\"contour\":[{\"colorbar\":{\"outlinewidth\":0,\"ticks\":\"\"},\"colorscale\":[[0.0,\"#0d0887\"],[0.1111111111111111,\"#46039f\"],[0.2222222222222222,\"#7201a8\"],[0.3333333333333333,\"#9c179e\"],[0.4444444444444444,\"#bd3786\"],[0.5555555555555556,\"#d8576b\"],[0.6666666666666666,\"#ed7953\"],[0.7777777777777778,\"#fb9f3a\"],[0.8888888888888888,\"#fdca26\"],[1.0,\"#f0f921\"]],\"type\":\"contour\"}],\"contourcarpet\":[{\"colorbar\":{\"outlinewidth\":0,\"ticks\":\"\"},\"type\":\"contourcarpet\"}],\"heatmap\":[{\"colorbar\":{\"outlinewidth\":0,\"ticks\":\"\"},\"colorscale\":[[0.0,\"#0d0887\"],[0.1111111111111111,\"#46039f\"],[0.2222222222222222,\"#7201a8\"],[0.3333333333333333,\"#9c179e\"],[0.4444444444444444,\"#bd3786\"],[0.5555555555555556,\"#d8576b\"],[0.6666666666666666,\"#ed7953\"],[0.7777777777777778,\"#fb9f3a\"],[0.8888888888888888,\"#fdca26\"],[1.0,\"#f0f921\"]],\"type\":\"heatmap\"}],\"heatmapgl\":[{\"colorbar\":{\"outlinewidth\":0,\"ticks\":\"\"},\"colorscale\":[[0.0,\"#0d0887\"],[0.1111111111111111,\"#46039f\"],[0.2222222222222222,\"#7201a8\"],[0.3333333333333333,\"#9c179e\"],[0.4444444444444444,\"#bd3786\"],[0.5555555555555556,\"#d8576b\"],[0.6666666666666666,\"#ed7953\"],[0.7777777777777778,\"#fb9f3a\"],[0.8888888888888888,\"#fdca26\"],[1.0,\"#f0f921\"]],\"type\":\"heatmapgl\"}],\"histogram\":[{\"marker\":{\"pattern\":{\"fillmode\":\"overlay\",\"size\":10,\"solidity\":0.2}},\"type\":\"histogram\"}],\"histogram2d\":[{\"colorbar\":{\"outlinewidth\":0,\"ticks\":\"\"},\"colorscale\":[[0.0,\"#0d0887\"],[0.1111111111111111,\"#46039f\"],[0.2222222222222222,\"#7201a8\"],[0.3333333333333333,\"#9c179e\"],[0.4444444444444444,\"#bd3786\"],[0.5555555555555556,\"#d8576b\"],[0.6666666666666666,\"#ed7953\"],[0.7777777777777778,\"#fb9f3a\"],[0.8888888888888888,\"#fdca26\"],[1.0,\"#f0f921\"]],\"type\":\"histogram2d\"}],\"histogram2dcontour\":[{\"colorbar\":{\"outlinewidth\":0,\"ticks\":\"\"},\"colorscale\":[[0.0,\"#0d0887\"],[0.1111111111111111,\"#46039f\"],[0.2222222222222222,\"#7201a8\"],[0.3333333333333333,\"#9c179e\"],[0.4444444444444444,\"#bd3786\"],[0.5555555555555556,\"#d8576b\"],[0.6666666666666666,\"#ed7953\"],[0.7777777777777778,\"#fb9f3a\"],[0.8888888888888888,\"#fdca26\"],[1.0,\"#f0f921\"]],\"type\":\"histogram2dcontour\"}],\"mesh3d\":[{\"colorbar\":{\"outlinewidth\":0,\"ticks\":\"\"},\"type\":\"mesh3d\"}],\"parcoords\":[{\"line\":{\"colorbar\":{\"outlinewidth\":0,\"ticks\":\"\"}},\"type\":\"parcoords\"}],\"pie\":[{\"automargin\":true,\"type\":\"pie\"}],\"scatter\":[{\"marker\":{\"colorbar\":{\"outlinewidth\":0,\"ticks\":\"\"}},\"type\":\"scatter\"}],\"scatter3d\":[{\"line\":{\"colorbar\":{\"outlinewidth\":0,\"ticks\":\"\"}},\"marker\":{\"colorbar\":{\"outlinewidth\":0,\"ticks\":\"\"}},\"type\":\"scatter3d\"}],\"scattercarpet\":[{\"marker\":{\"colorbar\":{\"outlinewidth\":0,\"ticks\":\"\"}},\"type\":\"scattercarpet\"}],\"scattergeo\":[{\"marker\":{\"colorbar\":{\"outlinewidth\":0,\"ticks\":\"\"}},\"type\":\"scattergeo\"}],\"scattergl\":[{\"marker\":{\"colorbar\":{\"outlinewidth\":0,\"ticks\":\"\"}},\"type\":\"scattergl\"}],\"scattermapbox\":[{\"marker\":{\"colorbar\":{\"outlinewidth\":0,\"ticks\":\"\"}},\"type\":\"scattermapbox\"}],\"scatterpolar\":[{\"marker\":{\"colorbar\":{\"outlinewidth\":0,\"ticks\":\"\"}},\"type\":\"scatterpolar\"}],\"scatterpolargl\":[{\"marker\":{\"colorbar\":{\"outlinewidth\":0,\"ticks\":\"\"}},\"type\":\"scatterpolargl\"}],\"scatterternary\":[{\"marker\":{\"colorbar\":{\"outlinewidth\":0,\"ticks\":\"\"}},\"type\":\"scatterternary\"}],\"surface\":[{\"colorbar\":{\"outlinewidth\":0,\"ticks\":\"\"},\"colorscale\":[[0.0,\"#0d0887\"],[0.1111111111111111,\"#46039f\"],[0.2222222222222222,\"#7201a8\"],[0.3333333333333333,\"#9c179e\"],[0.4444444444444444,\"#bd3786\"],[0.5555555555555556,\"#d8576b\"],[0.6666666666666666,\"#ed7953\"],[0.7777777777777778,\"#fb9f3a\"],[0.8888888888888888,\"#fdca26\"],[1.0,\"#f0f921\"]],\"type\":\"surface\"}],\"table\":[{\"cells\":{\"fill\":{\"color\":\"#EBF0F8\"},\"line\":{\"color\":\"white\"}},\"header\":{\"fill\":{\"color\":\"#C8D4E3\"},\"line\":{\"color\":\"white\"}},\"type\":\"table\"}]},\"layout\":{\"annotationdefaults\":{\"arrowcolor\":\"#2a3f5f\",\"arrowhead\":0,\"arrowwidth\":1},\"autotypenumbers\":\"strict\",\"coloraxis\":{\"colorbar\":{\"outlinewidth\":0,\"ticks\":\"\"}},\"colorscale\":{\"diverging\":[[0,\"#8e0152\"],[0.1,\"#c51b7d\"],[0.2,\"#de77ae\"],[0.3,\"#f1b6da\"],[0.4,\"#fde0ef\"],[0.5,\"#f7f7f7\"],[0.6,\"#e6f5d0\"],[0.7,\"#b8e186\"],[0.8,\"#7fbc41\"],[0.9,\"#4d9221\"],[1,\"#276419\"]],\"sequential\":[[0.0,\"#0d0887\"],[0.1111111111111111,\"#46039f\"],[0.2222222222222222,\"#7201a8\"],[0.3333333333333333,\"#9c179e\"],[0.4444444444444444,\"#bd3786\"],[0.5555555555555556,\"#d8576b\"],[0.6666666666666666,\"#ed7953\"],[0.7777777777777778,\"#fb9f3a\"],[0.8888888888888888,\"#fdca26\"],[1.0,\"#f0f921\"]],\"sequentialminus\":[[0.0,\"#0d0887\"],[0.1111111111111111,\"#46039f\"],[0.2222222222222222,\"#7201a8\"],[0.3333333333333333,\"#9c179e\"],[0.4444444444444444,\"#bd3786\"],[0.5555555555555556,\"#d8576b\"],[0.6666666666666666,\"#ed7953\"],[0.7777777777777778,\"#fb9f3a\"],[0.8888888888888888,\"#fdca26\"],[1.0,\"#f0f921\"]]},\"colorway\":[\"#636efa\",\"#EF553B\",\"#00cc96\",\"#ab63fa\",\"#FFA15A\",\"#19d3f3\",\"#FF6692\",\"#B6E880\",\"#FF97FF\",\"#FECB52\"],\"font\":{\"color\":\"#2a3f5f\"},\"geo\":{\"bgcolor\":\"white\",\"lakecolor\":\"white\",\"landcolor\":\"#E5ECF6\",\"showlakes\":true,\"showland\":true,\"subunitcolor\":\"white\"},\"hoverlabel\":{\"align\":\"left\"},\"hovermode\":\"closest\",\"mapbox\":{\"style\":\"light\"},\"paper_bgcolor\":\"white\",\"plot_bgcolor\":\"#E5ECF6\",\"polar\":{\"angularaxis\":{\"gridcolor\":\"white\",\"linecolor\":\"white\",\"ticks\":\"\"},\"bgcolor\":\"#E5ECF6\",\"radialaxis\":{\"gridcolor\":\"white\",\"linecolor\":\"white\",\"ticks\":\"\"}},\"scene\":{\"xaxis\":{\"backgroundcolor\":\"#E5ECF6\",\"gridcolor\":\"white\",\"gridwidth\":2,\"linecolor\":\"white\",\"showbackground\":true,\"ticks\":\"\",\"zerolinecolor\":\"white\"},\"yaxis\":{\"backgroundcolor\":\"#E5ECF6\",\"gridcolor\":\"white\",\"gridwidth\":2,\"linecolor\":\"white\",\"showbackground\":true,\"ticks\":\"\",\"zerolinecolor\":\"white\"},\"zaxis\":{\"backgroundcolor\":\"#E5ECF6\",\"gridcolor\":\"white\",\"gridwidth\":2,\"linecolor\":\"white\",\"showbackground\":true,\"ticks\":\"\",\"zerolinecolor\":\"white\"}},\"shapedefaults\":{\"line\":{\"color\":\"#2a3f5f\"}},\"ternary\":{\"aaxis\":{\"gridcolor\":\"white\",\"linecolor\":\"white\",\"ticks\":\"\"},\"baxis\":{\"gridcolor\":\"white\",\"linecolor\":\"white\",\"ticks\":\"\"},\"bgcolor\":\"#E5ECF6\",\"caxis\":{\"gridcolor\":\"white\",\"linecolor\":\"white\",\"ticks\":\"\"}},\"title\":{\"x\":0.05},\"xaxis\":{\"automargin\":true,\"gridcolor\":\"white\",\"linecolor\":\"white\",\"ticks\":\"\",\"title\":{\"standoff\":15},\"zerolinecolor\":\"white\",\"zerolinewidth\":2},\"yaxis\":{\"automargin\":true,\"gridcolor\":\"white\",\"linecolor\":\"white\",\"ticks\":\"\",\"title\":{\"standoff\":15},\"zerolinecolor\":\"white\",\"zerolinewidth\":2}}},\"legend\":{\"tracegroupgap\":0},\"title\":{\"text\":\"Event\"},\"piecolorway\":[\"blue\",\"light green\"]},                        {\"responsive\": true}                    ).then(function(){\n",
       "                            \n",
       "var gd = document.getElementById('0f33b825-9879-4daf-aa9c-52d1355100f9');\n",
       "var x = new MutationObserver(function (mutations, observer) {{\n",
       "        var display = window.getComputedStyle(gd).display;\n",
       "        if (!display || display === 'none') {{\n",
       "            console.log([gd, 'removed!']);\n",
       "            Plotly.purge(gd);\n",
       "            observer.disconnect();\n",
       "        }}\n",
       "}});\n",
       "\n",
       "// Listen for the removal of the full notebook cells\n",
       "var notebookContainer = gd.closest('#notebook-container');\n",
       "if (notebookContainer) {{\n",
       "    x.observe(notebookContainer, {childList: true});\n",
       "}}\n",
       "\n",
       "// Listen for the clearing of the current output cell\n",
       "var outputEl = gd.closest('.output');\n",
       "if (outputEl) {{\n",
       "    x.observe(outputEl, {childList: true});\n",
       "}}\n",
       "\n",
       "                        })                };                });            </script>        </div>"
      ]
     },
     "metadata": {},
     "output_type": "display_data"
    }
   ],
   "source": [
    "event = df.event.value_counts().reset_index()\n",
    "event.columns = ['event', 'count']\n",
    "fig = px.pie(event, values='count', names='event', title='Event',\n",
    "             color_discrete_sequence=['blue', 'light green'])\n",
    "fig.show()"
   ]
  },
  {
   "cell_type": "markdown",
   "id": "4e88ee55",
   "metadata": {
    "papermill": {
     "duration": 0.088749,
     "end_time": "2022-04-27T05:12:05.160480",
     "exception": false,
     "start_time": "2022-04-27T05:12:05.071731",
     "status": "completed"
    },
    "tags": []
   },
   "source": [
    "**3. Segmentation**"
   ]
  },
  {
   "cell_type": "code",
   "execution_count": 39,
   "id": "4e0c63fe",
   "metadata": {
    "execution": {
     "iopub.execute_input": "2022-04-27T05:12:05.345497Z",
     "iopub.status.busy": "2022-04-27T05:12:05.344403Z",
     "iopub.status.idle": "2022-04-27T05:12:05.538774Z",
     "shell.execute_reply": "2022-04-27T05:12:05.539268Z",
     "shell.execute_reply.started": "2022-04-27T05:06:50.509032Z"
    },
    "papermill": {
     "duration": 0.288144,
     "end_time": "2022-04-27T05:12:05.539435",
     "exception": false,
     "start_time": "2022-04-27T05:12:05.251291",
     "status": "completed"
    },
    "tags": []
   },
   "outputs": [
    {
     "data": {
      "text/html": [
       "<div>\n",
       "<style scoped>\n",
       "    .dataframe tbody tr th:only-of-type {\n",
       "        vertical-align: middle;\n",
       "    }\n",
       "\n",
       "    .dataframe tbody tr th {\n",
       "        vertical-align: top;\n",
       "    }\n",
       "\n",
       "    .dataframe thead th {\n",
       "        text-align: right;\n",
       "    }\n",
       "</style>\n",
       "<table border=\"1\" class=\"dataframe\">\n",
       "  <thead>\n",
       "    <tr style=\"text-align: right;\">\n",
       "      <th></th>\n",
       "      <th>gender</th>\n",
       "      <th>customer_id</th>\n",
       "      <th>year</th>\n",
       "      <th>month</th>\n",
       "      <th>day</th>\n",
       "      <th>membership_days</th>\n",
       "      <th>age_group</th>\n",
       "      <th>income_group</th>\n",
       "      <th>event</th>\n",
       "      <th>time_group</th>\n",
       "      <th>offer</th>\n",
       "      <th>id</th>\n",
       "      <th>amount</th>\n",
       "      <th>reward</th>\n",
       "      <th>channels</th>\n",
       "      <th>difficulty</th>\n",
       "      <th>duration</th>\n",
       "      <th>offer_type</th>\n",
       "    </tr>\n",
       "  </thead>\n",
       "  <tbody>\n",
       "    <tr>\n",
       "      <th>0</th>\n",
       "      <td>F</td>\n",
       "      <td>0610b486422d4921ae7d2bf64640c50b</td>\n",
       "      <td>2017</td>\n",
       "      <td>7</td>\n",
       "      <td>Saturday</td>\n",
       "      <td>1747</td>\n",
       "      <td>0</td>\n",
       "      <td>3</td>\n",
       "      <td>offer received</td>\n",
       "      <td>4</td>\n",
       "      <td>1</td>\n",
       "      <td>9b98b8c7a33c4b65b9aebfe6a799e6d9</td>\n",
       "      <td>NaN</td>\n",
       "      <td>5</td>\n",
       "      <td>['web', 'email', 'mobile']</td>\n",
       "      <td>5</td>\n",
       "      <td>7</td>\n",
       "      <td>bogo</td>\n",
       "    </tr>\n",
       "    <tr>\n",
       "      <th>1</th>\n",
       "      <td>F</td>\n",
       "      <td>0610b486422d4921ae7d2bf64640c50b</td>\n",
       "      <td>2017</td>\n",
       "      <td>7</td>\n",
       "      <td>Saturday</td>\n",
       "      <td>1747</td>\n",
       "      <td>0</td>\n",
       "      <td>3</td>\n",
       "      <td>offer completed</td>\n",
       "      <td>5</td>\n",
       "      <td>1</td>\n",
       "      <td>9b98b8c7a33c4b65b9aebfe6a799e6d9</td>\n",
       "      <td>NaN</td>\n",
       "      <td>5</td>\n",
       "      <td>['web', 'email', 'mobile']</td>\n",
       "      <td>5</td>\n",
       "      <td>7</td>\n",
       "      <td>bogo</td>\n",
       "    </tr>\n",
       "  </tbody>\n",
       "</table>\n",
       "</div>"
      ],
      "text/plain": [
       "  gender                       customer_id  year  month       day  \\\n",
       "0      F  0610b486422d4921ae7d2bf64640c50b  2017      7  Saturday   \n",
       "1      F  0610b486422d4921ae7d2bf64640c50b  2017      7  Saturday   \n",
       "\n",
       "   membership_days  age_group  income_group            event  time_group  \\\n",
       "0             1747          0             3   offer received           4   \n",
       "1             1747          0             3  offer completed           5   \n",
       "\n",
       "   offer                                id  amount  reward  \\\n",
       "0      1  9b98b8c7a33c4b65b9aebfe6a799e6d9     NaN       5   \n",
       "1      1  9b98b8c7a33c4b65b9aebfe6a799e6d9     NaN       5   \n",
       "\n",
       "                     channels  difficulty  duration offer_type  \n",
       "0  ['web', 'email', 'mobile']           5         7       bogo  \n",
       "1  ['web', 'email', 'mobile']           5         7       bogo  "
      ]
     },
     "execution_count": 39,
     "metadata": {},
     "output_type": "execute_result"
    }
   ],
   "source": [
    "df1 = pd.merge(df, portfolio, on='id')\n",
    "df1.head(2)"
   ]
  },
  {
   "cell_type": "code",
   "execution_count": 40,
   "id": "abf2e4a8",
   "metadata": {
    "execution": {
     "iopub.execute_input": "2022-04-27T05:12:05.725450Z",
     "iopub.status.busy": "2022-04-27T05:12:05.724433Z",
     "iopub.status.idle": "2022-04-27T05:12:05.845353Z",
     "shell.execute_reply": "2022-04-27T05:12:05.844809Z",
     "shell.execute_reply.started": "2022-04-27T05:06:50.678925Z"
    },
    "papermill": {
     "duration": 0.215948,
     "end_time": "2022-04-27T05:12:05.845502",
     "exception": false,
     "start_time": "2022-04-27T05:12:05.629554",
     "status": "completed"
    },
    "tags": []
   },
   "outputs": [],
   "source": [
    "from sklearn.preprocessing import LabelEncoder\n",
    "\n",
    "df1 = df1.copy(deep = True)\n",
    "le_type = LabelEncoder()\n",
    "df1['offer_type'] = le_type.fit_transform(df1['offer_type'])"
   ]
  },
  {
   "cell_type": "code",
   "execution_count": 41,
   "id": "7d1f8cbf",
   "metadata": {
    "execution": {
     "iopub.execute_input": "2022-04-27T05:12:06.029456Z",
     "iopub.status.busy": "2022-04-27T05:12:06.028449Z",
     "iopub.status.idle": "2022-04-27T05:12:06.159263Z",
     "shell.execute_reply": "2022-04-27T05:12:06.159806Z",
     "shell.execute_reply.started": "2022-04-27T05:06:50.787068Z"
    },
    "papermill": {
     "duration": 0.225083,
     "end_time": "2022-04-27T05:12:06.159982",
     "exception": false,
     "start_time": "2022-04-27T05:12:05.934899",
     "status": "completed"
    },
    "tags": []
   },
   "outputs": [],
   "source": [
    "from sklearn.preprocessing import LabelEncoder\n",
    "\n",
    "df1 = df1.copy(deep = True)\n",
    "le_id = LabelEncoder()\n",
    "df1['customer_id'] = le_id.fit_transform(df1['customer_id'])\n"
   ]
  },
  {
   "cell_type": "code",
   "execution_count": 42,
   "id": "0e13e2a5",
   "metadata": {
    "execution": {
     "iopub.execute_input": "2022-04-27T05:12:06.344481Z",
     "iopub.status.busy": "2022-04-27T05:12:06.343431Z",
     "iopub.status.idle": "2022-04-27T05:12:06.442643Z",
     "shell.execute_reply": "2022-04-27T05:12:06.443197Z",
     "shell.execute_reply.started": "2022-04-27T05:06:50.938227Z"
    },
    "papermill": {
     "duration": 0.192436,
     "end_time": "2022-04-27T05:12:06.443372",
     "exception": false,
     "start_time": "2022-04-27T05:12:06.250936",
     "status": "completed"
    },
    "tags": []
   },
   "outputs": [],
   "source": [
    "from sklearn.preprocessing import LabelEncoder\n",
    "\n",
    "df1 = df1.copy(deep = True)\n",
    "le_id = LabelEncoder()\n",
    "df1['id'] = le_id.fit_transform(df1['id'])\n"
   ]
  },
  {
   "cell_type": "code",
   "execution_count": 43,
   "id": "8ca5f580",
   "metadata": {
    "execution": {
     "iopub.execute_input": "2022-04-27T05:12:06.625884Z",
     "iopub.status.busy": "2022-04-27T05:12:06.624791Z",
     "iopub.status.idle": "2022-04-27T05:12:06.701403Z",
     "shell.execute_reply": "2022-04-27T05:12:06.700642Z",
     "shell.execute_reply.started": "2022-04-27T05:06:51.057732Z"
    },
    "papermill": {
     "duration": 0.169245,
     "end_time": "2022-04-27T05:12:06.701548",
     "exception": false,
     "start_time": "2022-04-27T05:12:06.532303",
     "status": "completed"
    },
    "tags": []
   },
   "outputs": [],
   "source": [
    "from sklearn.preprocessing import LabelEncoder\n",
    "\n",
    "df1 = df1.copy(deep = True)\n",
    "le_event = LabelEncoder()\n",
    "df1['event'] = le_event.fit_transform(df1['event'])\n"
   ]
  },
  {
   "cell_type": "code",
   "execution_count": 44,
   "id": "67a6e0fe",
   "metadata": {
    "execution": {
     "iopub.execute_input": "2022-04-27T05:12:06.888511Z",
     "iopub.status.busy": "2022-04-27T05:12:06.886948Z",
     "iopub.status.idle": "2022-04-27T05:12:06.958399Z",
     "shell.execute_reply": "2022-04-27T05:12:06.958935Z",
     "shell.execute_reply.started": "2022-04-27T05:06:51.212065Z"
    },
    "papermill": {
     "duration": 0.167134,
     "end_time": "2022-04-27T05:12:06.959108",
     "exception": false,
     "start_time": "2022-04-27T05:12:06.791974",
     "status": "completed"
    },
    "tags": []
   },
   "outputs": [],
   "source": [
    "from sklearn.preprocessing import LabelEncoder\n",
    "\n",
    "df1 = df1.copy(deep = True)\n",
    "le_gender = LabelEncoder()\n",
    "df1['gender'] = le_gender.fit_transform(df1['gender'])\n"
   ]
  },
  {
   "cell_type": "code",
   "execution_count": 45,
   "id": "e6fe9254",
   "metadata": {
    "execution": {
     "iopub.execute_input": "2022-04-27T05:12:07.146426Z",
     "iopub.status.busy": "2022-04-27T05:12:07.145377Z",
     "iopub.status.idle": "2022-04-27T05:12:07.169133Z",
     "shell.execute_reply": "2022-04-27T05:12:07.169651Z",
     "shell.execute_reply.started": "2022-04-27T05:06:51.360312Z"
    },
    "papermill": {
     "duration": 0.119273,
     "end_time": "2022-04-27T05:12:07.169843",
     "exception": false,
     "start_time": "2022-04-27T05:12:07.050570",
     "status": "completed"
    },
    "tags": []
   },
   "outputs": [],
   "source": [
    "X = np.array(df1[['gender', 'membership_days', 'age_group', 'income_group']]) \n",
    "y = np.array(df1[['event']])"
   ]
  },
  {
   "cell_type": "code",
   "execution_count": 46,
   "id": "ab9702b9",
   "metadata": {
    "execution": {
     "iopub.execute_input": "2022-04-27T05:12:07.358716Z",
     "iopub.status.busy": "2022-04-27T05:12:07.357742Z",
     "iopub.status.idle": "2022-04-27T05:12:07.377523Z",
     "shell.execute_reply": "2022-04-27T05:12:07.378215Z",
     "shell.execute_reply.started": "2022-04-27T05:06:51.527999Z"
    },
    "papermill": {
     "duration": 0.118525,
     "end_time": "2022-04-27T05:12:07.378402",
     "exception": false,
     "start_time": "2022-04-27T05:12:07.259877",
     "status": "completed"
    },
    "tags": []
   },
   "outputs": [],
   "source": [
    "#import train_test_split from sklearn to train and test our data\n",
    "from sklearn.model_selection import train_test_split\n",
    "\n",
    "#define\n",
    "X_train, X_test, y_train, y_test = train_test_split(X, y, test_size = 0.25, random_state = 0)\n",
    "#print\n",
    "#print(X_train[:5],'\\n', '\\n', y_train[:5],'\\n','\\n', X_test[:5],'\\n','\\n', y_test[:5])"
   ]
  },
  {
   "cell_type": "code",
   "execution_count": 47,
   "id": "039836ff",
   "metadata": {
    "execution": {
     "iopub.execute_input": "2022-04-27T05:12:07.571992Z",
     "iopub.status.busy": "2022-04-27T05:12:07.568528Z",
     "iopub.status.idle": "2022-04-27T05:12:24.066805Z",
     "shell.execute_reply": "2022-04-27T05:12:24.067622Z",
     "shell.execute_reply.started": "2022-04-27T05:06:51.717323Z"
    },
    "papermill": {
     "duration": 16.59948,
     "end_time": "2022-04-27T05:12:24.067886",
     "exception": false,
     "start_time": "2022-04-27T05:12:07.468406",
     "status": "completed"
    },
    "tags": []
   },
   "outputs": [
    {
     "name": "stdout",
     "output_type": "stream",
     "text": [
      "MAE for Linear Regression: 0.5902577096028646\n",
      "MAE for logistic Regression: 0.5526365323079405\n",
      "MAE for Random Forest: 0.6467452212348\n",
      "MAE for Decsion Tree: 0.7765737180349028\n",
      "MAE for Naive Bayes: 0.5536314501599936\n"
     ]
    }
   ],
   "source": [
    "from sklearn import linear_model\n",
    "reg = linear_model.LinearRegression()\n",
    "reg.fit(X_train, y_train)\n",
    "y_pred0 = reg.predict(X_test)\n",
    "\n",
    "from sklearn.linear_model import LogisticRegression\n",
    "lg = LogisticRegression()\n",
    "lg.fit(X_train, y_train)\n",
    "y_pred1 = lg.predict(X_test)\n",
    "\n",
    "from sklearn.ensemble import RandomForestRegressor\n",
    "rf = RandomForestRegressor(n_estimators=100,max_features=None)\n",
    "rf.fit(X_train,y_train)\n",
    "y_pred2 = rf.predict(X_test) \n",
    "\n",
    "from sklearn import tree\n",
    "clf = tree.DecisionTreeClassifier()\n",
    "clf.fit(X_train,y_train)\n",
    "y_pred3 = clf.predict(X_test) \n",
    "\n",
    "from sklearn.naive_bayes import GaussianNB\n",
    "gnb = GaussianNB()\n",
    "gnb.fit(X_train,y_train)\n",
    "y_pred4 = gnb.predict(X_test) \n",
    "\n",
    "print(\"MAE for Linear Regression: \" + str(mean_absolute_error(y_test, y_pred0)))\n",
    "print(\"MAE for logistic Regression: \" + str(mean_absolute_error(y_test, y_pred1)))\n",
    "print(\"MAE for Random Forest: \" + str(mean_absolute_error(y_test, y_pred2)))\n",
    "print(\"MAE for Decsion Tree: \" + str(mean_absolute_error(y_test, y_pred3)))\n",
    "print(\"MAE for Naive Bayes: \" + str(mean_absolute_error(y_test, y_pred4)))"
   ]
  },
  {
   "cell_type": "code",
   "execution_count": 48,
   "id": "beb63404",
   "metadata": {
    "execution": {
     "iopub.execute_input": "2022-04-27T05:12:24.261128Z",
     "iopub.status.busy": "2022-04-27T05:12:24.260429Z",
     "iopub.status.idle": "2022-04-27T05:12:24.478212Z",
     "shell.execute_reply": "2022-04-27T05:12:24.477511Z",
     "shell.execute_reply.started": "2022-04-27T05:07:07.325647Z"
    },
    "papermill": {
     "duration": 0.314765,
     "end_time": "2022-04-27T05:12:24.478374",
     "exception": false,
     "start_time": "2022-04-27T05:12:24.163609",
     "status": "completed"
    },
    "tags": []
   },
   "outputs": [],
   "source": [
    "transaction_df = df[df.event == 'transaction']\n",
    "offer_completed_df = df[df.event == 'offer completed']\n",
    "offer_viewed_df = df[df.event == 'offer viewed']\n",
    "offers_received_df = df[df.event == 'offer received']"
   ]
  },
  {
   "cell_type": "code",
   "execution_count": 49,
   "id": "27bdf8cd",
   "metadata": {
    "execution": {
     "iopub.execute_input": "2022-04-27T05:12:24.669773Z",
     "iopub.status.busy": "2022-04-27T05:12:24.668839Z",
     "iopub.status.idle": "2022-04-27T05:12:24.732075Z",
     "shell.execute_reply": "2022-04-27T05:12:24.731385Z",
     "shell.execute_reply.started": "2022-04-27T05:07:07.453108Z"
    },
    "papermill": {
     "duration": 0.161341,
     "end_time": "2022-04-27T05:12:24.732263",
     "exception": false,
     "start_time": "2022-04-27T05:12:24.570922",
     "status": "completed"
    },
    "tags": []
   },
   "outputs": [],
   "source": [
    "users = df1.copy(deep = True) \n",
    "offers = df1.copy(deep = True)\n",
    "rewards = df1.copy(deep = True)\n",
    "users = df1.drop(['year','day', 'month', 'amount', 'offer','id', 'event', 'time_group', 'reward', 'channels', 'difficulty', 'duration'],axis=1)\n",
    "offers = df1.drop(['year','day', 'month', 'amount', 'event', 'customer_id', 'gender', 'age_group', 'income_group', 'time_group', 'reward',  'difficulty', 'duration'],axis=1)\n",
    "rewards = df1.drop(['year','day', 'month', 'amount', 'event', 'gender', 'age_group', 'income_group', 'time_group','membership_days',  'difficulty', 'duration'],axis=1)"
   ]
  },
  {
   "cell_type": "code",
   "execution_count": 50,
   "id": "d30e6e47",
   "metadata": {
    "execution": {
     "iopub.execute_input": "2022-04-27T05:12:24.928153Z",
     "iopub.status.busy": "2022-04-27T05:12:24.927418Z",
     "iopub.status.idle": "2022-04-27T05:12:24.931309Z",
     "shell.execute_reply": "2022-04-27T05:12:24.931788Z",
     "shell.execute_reply.started": "2022-04-27T05:07:07.502569Z"
    },
    "papermill": {
     "duration": 0.107216,
     "end_time": "2022-04-27T05:12:24.931972",
     "exception": false,
     "start_time": "2022-04-27T05:12:24.824756",
     "status": "completed"
    },
    "tags": []
   },
   "outputs": [
    {
     "data": {
      "text/html": [
       "<div>\n",
       "<style scoped>\n",
       "    .dataframe tbody tr th:only-of-type {\n",
       "        vertical-align: middle;\n",
       "    }\n",
       "\n",
       "    .dataframe tbody tr th {\n",
       "        vertical-align: top;\n",
       "    }\n",
       "\n",
       "    .dataframe thead th {\n",
       "        text-align: right;\n",
       "    }\n",
       "</style>\n",
       "<table border=\"1\" class=\"dataframe\">\n",
       "  <thead>\n",
       "    <tr style=\"text-align: right;\">\n",
       "      <th></th>\n",
       "      <th>membership_days</th>\n",
       "      <th>offer</th>\n",
       "      <th>id</th>\n",
       "      <th>channels</th>\n",
       "      <th>offer_type</th>\n",
       "    </tr>\n",
       "  </thead>\n",
       "  <tbody>\n",
       "    <tr>\n",
       "      <th>0</th>\n",
       "      <td>1747</td>\n",
       "      <td>1</td>\n",
       "      <td>6</td>\n",
       "      <td>['web', 'email', 'mobile']</td>\n",
       "      <td>0</td>\n",
       "    </tr>\n",
       "    <tr>\n",
       "      <th>1</th>\n",
       "      <td>1747</td>\n",
       "      <td>1</td>\n",
       "      <td>6</td>\n",
       "      <td>['web', 'email', 'mobile']</td>\n",
       "      <td>0</td>\n",
       "    </tr>\n",
       "  </tbody>\n",
       "</table>\n",
       "</div>"
      ],
      "text/plain": [
       "   membership_days  offer  id                    channels  offer_type\n",
       "0             1747      1   6  ['web', 'email', 'mobile']           0\n",
       "1             1747      1   6  ['web', 'email', 'mobile']           0"
      ]
     },
     "execution_count": 50,
     "metadata": {},
     "output_type": "execute_result"
    }
   ],
   "source": [
    "offers.head(2)"
   ]
  },
  {
   "cell_type": "code",
   "execution_count": 51,
   "id": "6c03bca7",
   "metadata": {
    "execution": {
     "iopub.execute_input": "2022-04-27T05:12:25.126171Z",
     "iopub.status.busy": "2022-04-27T05:12:25.125392Z",
     "iopub.status.idle": "2022-04-27T05:12:25.129652Z",
     "shell.execute_reply": "2022-04-27T05:12:25.129139Z",
     "shell.execute_reply.started": "2022-04-27T05:07:07.513888Z"
    },
    "papermill": {
     "duration": 0.106153,
     "end_time": "2022-04-27T05:12:25.129892",
     "exception": false,
     "start_time": "2022-04-27T05:12:25.023739",
     "status": "completed"
    },
    "tags": []
   },
   "outputs": [
    {
     "data": {
      "text/html": [
       "<div>\n",
       "<style scoped>\n",
       "    .dataframe tbody tr th:only-of-type {\n",
       "        vertical-align: middle;\n",
       "    }\n",
       "\n",
       "    .dataframe tbody tr th {\n",
       "        vertical-align: top;\n",
       "    }\n",
       "\n",
       "    .dataframe thead th {\n",
       "        text-align: right;\n",
       "    }\n",
       "</style>\n",
       "<table border=\"1\" class=\"dataframe\">\n",
       "  <thead>\n",
       "    <tr style=\"text-align: right;\">\n",
       "      <th></th>\n",
       "      <th>gender</th>\n",
       "      <th>customer_id</th>\n",
       "      <th>membership_days</th>\n",
       "      <th>age_group</th>\n",
       "      <th>income_group</th>\n",
       "      <th>offer_type</th>\n",
       "    </tr>\n",
       "  </thead>\n",
       "  <tbody>\n",
       "    <tr>\n",
       "      <th>0</th>\n",
       "      <td>0</td>\n",
       "      <td>345</td>\n",
       "      <td>1747</td>\n",
       "      <td>0</td>\n",
       "      <td>3</td>\n",
       "      <td>0</td>\n",
       "    </tr>\n",
       "    <tr>\n",
       "      <th>1</th>\n",
       "      <td>0</td>\n",
       "      <td>345</td>\n",
       "      <td>1747</td>\n",
       "      <td>0</td>\n",
       "      <td>3</td>\n",
       "      <td>0</td>\n",
       "    </tr>\n",
       "  </tbody>\n",
       "</table>\n",
       "</div>"
      ],
      "text/plain": [
       "   gender  customer_id  membership_days  age_group  income_group  offer_type\n",
       "0       0          345             1747          0             3           0\n",
       "1       0          345             1747          0             3           0"
      ]
     },
     "execution_count": 51,
     "metadata": {},
     "output_type": "execute_result"
    }
   ],
   "source": [
    "users.head(2)"
   ]
  },
  {
   "cell_type": "code",
   "execution_count": 52,
   "id": "5f381224",
   "metadata": {
    "execution": {
     "iopub.execute_input": "2022-04-27T05:12:25.326951Z",
     "iopub.status.busy": "2022-04-27T05:12:25.319434Z",
     "iopub.status.idle": "2022-04-27T05:12:25.331356Z",
     "shell.execute_reply": "2022-04-27T05:12:25.330804Z",
     "shell.execute_reply.started": "2022-04-27T05:07:07.531741Z"
    },
    "papermill": {
     "duration": 0.107138,
     "end_time": "2022-04-27T05:12:25.331505",
     "exception": false,
     "start_time": "2022-04-27T05:12:25.224367",
     "status": "completed"
    },
    "tags": []
   },
   "outputs": [
    {
     "data": {
      "text/html": [
       "<div>\n",
       "<style scoped>\n",
       "    .dataframe tbody tr th:only-of-type {\n",
       "        vertical-align: middle;\n",
       "    }\n",
       "\n",
       "    .dataframe tbody tr th {\n",
       "        vertical-align: top;\n",
       "    }\n",
       "\n",
       "    .dataframe thead th {\n",
       "        text-align: right;\n",
       "    }\n",
       "</style>\n",
       "<table border=\"1\" class=\"dataframe\">\n",
       "  <thead>\n",
       "    <tr style=\"text-align: right;\">\n",
       "      <th></th>\n",
       "      <th>customer_id</th>\n",
       "      <th>offer</th>\n",
       "      <th>id</th>\n",
       "      <th>reward</th>\n",
       "      <th>channels</th>\n",
       "      <th>offer_type</th>\n",
       "    </tr>\n",
       "  </thead>\n",
       "  <tbody>\n",
       "    <tr>\n",
       "      <th>0</th>\n",
       "      <td>345</td>\n",
       "      <td>1</td>\n",
       "      <td>6</td>\n",
       "      <td>5</td>\n",
       "      <td>['web', 'email', 'mobile']</td>\n",
       "      <td>0</td>\n",
       "    </tr>\n",
       "    <tr>\n",
       "      <th>1</th>\n",
       "      <td>345</td>\n",
       "      <td>1</td>\n",
       "      <td>6</td>\n",
       "      <td>5</td>\n",
       "      <td>['web', 'email', 'mobile']</td>\n",
       "      <td>0</td>\n",
       "    </tr>\n",
       "  </tbody>\n",
       "</table>\n",
       "</div>"
      ],
      "text/plain": [
       "   customer_id  offer  id  reward                    channels  offer_type\n",
       "0          345      1   6       5  ['web', 'email', 'mobile']           0\n",
       "1          345      1   6       5  ['web', 'email', 'mobile']           0"
      ]
     },
     "execution_count": 52,
     "metadata": {},
     "output_type": "execute_result"
    }
   ],
   "source": [
    "rewards.head(2)"
   ]
  },
  {
   "cell_type": "markdown",
   "id": "e55652db",
   "metadata": {
    "papermill": {
     "duration": 0.091776,
     "end_time": "2022-04-27T05:12:25.521415",
     "exception": false,
     "start_time": "2022-04-27T05:12:25.429639",
     "status": "completed"
    },
    "tags": []
   },
   "source": [
    "**4. Data Modelling**"
   ]
  },
  {
   "cell_type": "code",
   "execution_count": 53,
   "id": "979db273",
   "metadata": {
    "execution": {
     "iopub.execute_input": "2022-04-27T05:12:25.713775Z",
     "iopub.status.busy": "2022-04-27T05:12:25.713116Z",
     "iopub.status.idle": "2022-04-27T05:12:25.718478Z",
     "shell.execute_reply": "2022-04-27T05:12:25.719118Z",
     "shell.execute_reply.started": "2022-04-27T05:07:07.548759Z"
    },
    "papermill": {
     "duration": 0.104446,
     "end_time": "2022-04-27T05:12:25.719291",
     "exception": false,
     "start_time": "2022-04-27T05:12:25.614845",
     "status": "completed"
    },
    "tags": []
   },
   "outputs": [],
   "source": [
    "n_users = rewards.customer_id.unique().shape[0]\n",
    "n_offers = rewards.offer_type.unique().shape[0]\n",
    "n_items = rewards['offer_type'].max()"
   ]
  },
  {
   "cell_type": "code",
   "execution_count": 54,
   "id": "4069c99e",
   "metadata": {
    "execution": {
     "iopub.execute_input": "2022-04-27T05:12:25.913960Z",
     "iopub.status.busy": "2022-04-27T05:12:25.913244Z",
     "iopub.status.idle": "2022-04-27T05:12:26.228878Z",
     "shell.execute_reply": "2022-04-27T05:12:26.229566Z",
     "shell.execute_reply.started": "2022-04-27T05:07:07.558898Z"
    },
    "papermill": {
     "duration": 0.414753,
     "end_time": "2022-04-27T05:12:26.229830",
     "exception": false,
     "start_time": "2022-04-27T05:12:25.815077",
     "status": "completed"
    },
    "tags": []
   },
   "outputs": [
    {
     "name": "stdout",
     "output_type": "stream",
     "text": [
      "Original rating matrix :  [[6. 0. 5.]\n",
      " [4. 9. 5.]\n",
      " [8. 1. 5.]\n",
      " ...\n",
      " [8. 0. 5.]\n",
      " [6. 0. 0.]\n",
      " [8. 9. 5.]]\n"
     ]
    }
   ],
   "source": [
    "\n",
    "A = np.zeros((n_users,n_offers))\n",
    "for line in rewards.itertuples():\n",
    "    A[line[1]-1,line[2]-1] = line[3]\n",
    "print(\"Original rating matrix : \",A)"
   ]
  },
  {
   "cell_type": "code",
   "execution_count": 55,
   "id": "702fe436",
   "metadata": {
    "execution": {
     "iopub.execute_input": "2022-04-27T05:12:26.423886Z",
     "iopub.status.busy": "2022-04-27T05:12:26.423176Z",
     "iopub.status.idle": "2022-04-27T05:12:26.504249Z",
     "shell.execute_reply": "2022-04-27T05:12:26.504835Z",
     "shell.execute_reply.started": "2022-04-27T05:07:07.764408Z"
    },
    "papermill": {
     "duration": 0.182109,
     "end_time": "2022-04-27T05:12:26.505017",
     "exception": false,
     "start_time": "2022-04-27T05:12:26.322908",
     "status": "completed"
    },
    "tags": []
   },
   "outputs": [],
   "source": [
    "for i in range(len(A)):\n",
    "  for j in range(len(A[0])):\n",
    "    if A[i][j]>=3:\n",
    "      A[i][j]=1\n",
    "    else:\n",
    "      A[i][j]=0"
   ]
  },
  {
   "cell_type": "code",
   "execution_count": 56,
   "id": "8a65be28",
   "metadata": {
    "execution": {
     "iopub.execute_input": "2022-04-27T05:12:26.692120Z",
     "iopub.status.busy": "2022-04-27T05:12:26.691378Z",
     "iopub.status.idle": "2022-04-27T05:12:26.700727Z",
     "shell.execute_reply": "2022-04-27T05:12:26.702072Z",
     "shell.execute_reply.started": "2022-04-27T05:07:07.821817Z"
    },
    "papermill": {
     "duration": 0.105293,
     "end_time": "2022-04-27T05:12:26.702326",
     "exception": false,
     "start_time": "2022-04-27T05:12:26.597033",
     "status": "completed"
    },
    "tags": []
   },
   "outputs": [
    {
     "name": "stdout",
     "output_type": "stream",
     "text": [
      "  (0, 0)\t1.0\n",
      "  (0, 2)\t1.0\n",
      "  (1, 0)\t1.0\n",
      "  (1, 1)\t1.0\n",
      "  (1, 2)\t1.0\n",
      "  (2, 0)\t1.0\n",
      "  (2, 2)\t1.0\n",
      "  (3, 2)\t1.0\n",
      "  (4, 2)\t1.0\n",
      "  (5, 0)\t1.0\n",
      "  (5, 1)\t1.0\n",
      "  (5, 2)\t1.0\n",
      "  (6, 0)\t1.0\n",
      "  (6, 1)\t1.0\n",
      "  (7, 0)\t1.0\n",
      "  (8, 0)\t1.0\n",
      "  (8, 2)\t1.0\n",
      "  (9, 0)\t1.0\n",
      "  (9, 2)\t1.0\n",
      "  (10, 0)\t1.0\n",
      "  (10, 2)\t1.0\n",
      "  (11, 0)\t1.0\n",
      "  (11, 2)\t1.0\n",
      "  (12, 0)\t1.0\n",
      "  (13, 0)\t1.0\n",
      "  :\t:\n",
      "  (14803, 0)\t1.0\n",
      "  (14803, 1)\t1.0\n",
      "  (14804, 0)\t1.0\n",
      "  (14804, 2)\t1.0\n",
      "  (14805, 0)\t1.0\n",
      "  (14805, 2)\t1.0\n",
      "  (14806, 0)\t1.0\n",
      "  (14807, 0)\t1.0\n",
      "  (14807, 2)\t1.0\n",
      "  (14808, 0)\t1.0\n",
      "  (14808, 1)\t1.0\n",
      "  (14809, 0)\t1.0\n",
      "  (14809, 1)\t1.0\n",
      "  (14809, 2)\t1.0\n",
      "  (14810, 0)\t1.0\n",
      "  (14810, 1)\t1.0\n",
      "  (14811, 0)\t1.0\n",
      "  (14811, 1)\t1.0\n",
      "  (14811, 2)\t1.0\n",
      "  (14812, 0)\t1.0\n",
      "  (14812, 2)\t1.0\n",
      "  (14813, 0)\t1.0\n",
      "  (14814, 0)\t1.0\n",
      "  (14814, 1)\t1.0\n",
      "  (14814, 2)\t1.0\n"
     ]
    }
   ],
   "source": [
    "csr_sample = csr_matrix(A)\n",
    "print(csr_sample)"
   ]
  },
  {
   "cell_type": "code",
   "execution_count": 57,
   "id": "a22ab8cd",
   "metadata": {
    "execution": {
     "iopub.execute_input": "2022-04-27T05:12:26.893560Z",
     "iopub.status.busy": "2022-04-27T05:12:26.892892Z",
     "iopub.status.idle": "2022-04-27T05:12:26.900558Z",
     "shell.execute_reply": "2022-04-27T05:12:26.901082Z",
     "shell.execute_reply.started": "2022-04-27T05:07:07.830117Z"
    },
    "papermill": {
     "duration": 0.103443,
     "end_time": "2022-04-27T05:12:26.901255",
     "exception": false,
     "start_time": "2022-04-27T05:12:26.797812",
     "status": "completed"
    },
    "tags": []
   },
   "outputs": [
    {
     "data": {
      "text/plain": [
       "NearestNeighbors(algorithm='brute', metric='cosine', n_jobs=-1, n_neighbors=3)"
      ]
     },
     "execution_count": 57,
     "metadata": {},
     "output_type": "execute_result"
    }
   ],
   "source": [
    "knn = NearestNeighbors(metric='cosine', algorithm='brute', n_neighbors=3, n_jobs=-1)\n",
    "knn.fit(csr_sample)"
   ]
  },
  {
   "cell_type": "code",
   "execution_count": 58,
   "id": "3e1d0d6a",
   "metadata": {
    "execution": {
     "iopub.execute_input": "2022-04-27T05:12:27.096309Z",
     "iopub.status.busy": "2022-04-27T05:12:27.095554Z",
     "iopub.status.idle": "2022-04-27T05:12:27.124965Z",
     "shell.execute_reply": "2022-04-27T05:12:27.125580Z",
     "shell.execute_reply.started": "2022-04-27T05:07:54.950909Z"
    },
    "papermill": {
     "duration": 0.129377,
     "end_time": "2022-04-27T05:12:27.125768",
     "exception": false,
     "start_time": "2022-04-27T05:12:26.996391",
     "status": "completed"
    },
    "tags": []
   },
   "outputs": [
    {
     "name": "stdout",
     "output_type": "stream",
     "text": [
      "Offers received by user:  [5, 5, 6, 3, 3, 0, 1, 0, 1, 0, 6, 6, 1]\n"
     ]
    }
   ],
   "source": [
    "dataset_sort_des = rewards.sort_values(['customer_id'], ascending=[True])\n",
    "filter1 = dataset_sort_des[dataset_sort_des['customer_id'] == 1].id\n",
    "filter1 = filter1.tolist()\n",
    "filter1 = filter1[:20]\n",
    "print(\"Offers received by user: \",filter1)"
   ]
  },
  {
   "cell_type": "code",
   "execution_count": 59,
   "id": "e6b21030",
   "metadata": {
    "execution": {
     "iopub.execute_input": "2022-04-27T05:12:27.319960Z",
     "iopub.status.busy": "2022-04-27T05:12:27.318947Z",
     "iopub.status.idle": "2022-04-27T05:12:28.676933Z",
     "shell.execute_reply": "2022-04-27T05:12:28.677481Z",
     "shell.execute_reply.started": "2022-04-27T05:07:57.258419Z"
    },
    "papermill": {
     "duration": 1.458259,
     "end_time": "2022-04-27T05:12:28.677675",
     "exception": false,
     "start_time": "2022-04-27T05:12:27.219416",
     "status": "completed"
    },
    "tags": []
   },
   "outputs": [
    {
     "name": "stdout",
     "output_type": "stream",
     "text": [
      "Offers to be recommended:  [5, 23, 5, 23, 22, 27, 4, 31, 4, 31, 2, 8, 5, 23, 2, 8, 5, 23, 2, 8, 22, 27, 22, 27, 5, 23]\n"
     ]
    }
   ],
   "source": [
    "distances1=[]\n",
    "indices1=[]\n",
    "for i in filter1:\n",
    "  distances , indices = knn.kneighbors(csr_sample[i],n_neighbors=3)\n",
    "  indices = indices.flatten()\n",
    "  indices= indices[1:]\n",
    "  indices1.extend(indices)\n",
    "print(\"Offers to be recommended: \",indices1)"
   ]
  },
  {
   "cell_type": "code",
   "execution_count": 60,
   "id": "4205030c",
   "metadata": {
    "execution": {
     "iopub.execute_input": "2022-04-27T05:12:28.876225Z",
     "iopub.status.busy": "2022-04-27T05:12:28.875562Z",
     "iopub.status.idle": "2022-04-27T05:12:28.891894Z",
     "shell.execute_reply": "2022-04-27T05:12:28.890684Z",
     "shell.execute_reply.started": "2022-04-27T05:10:23.842338Z"
    },
    "papermill": {
     "duration": 0.117033,
     "end_time": "2022-04-27T05:12:28.892177",
     "exception": false,
     "start_time": "2022-04-27T05:12:28.775144",
     "status": "completed"
    },
    "tags": []
   },
   "outputs": [
    {
     "name": "stdout",
     "output_type": "stream",
     "text": [
      "Types of offers received by user:  [5, 5, 6, 3, 3, 0, 1, 0, 1, 0, 6, 6, 1]\n"
     ]
    }
   ],
   "source": [
    "dataset_sort_des = rewards.sort_values(['offer_type'], ascending=[True])\n",
    "filter2 = dataset_sort_des[dataset_sort_des['customer_id'] == 1].offer_type\n",
    "filter2 = filter2.tolist()\n",
    "filter2 = filter2[:20]\n",
    "print(\"Types of offers received by user: \",filter1)"
   ]
  },
  {
   "cell_type": "code",
   "execution_count": 61,
   "id": "1945ba7d",
   "metadata": {
    "execution": {
     "iopub.execute_input": "2022-04-27T05:12:29.089985Z",
     "iopub.status.busy": "2022-04-27T05:12:29.089311Z",
     "iopub.status.idle": "2022-04-27T05:12:30.456475Z",
     "shell.execute_reply": "2022-04-27T05:12:30.455507Z",
     "shell.execute_reply.started": "2022-04-27T05:10:26.650601Z"
    },
    "papermill": {
     "duration": 1.466103,
     "end_time": "2022-04-27T05:12:30.456681",
     "exception": false,
     "start_time": "2022-04-27T05:12:28.990578",
     "status": "completed"
    },
    "tags": []
   },
   "outputs": [
    {
     "name": "stdout",
     "output_type": "stream",
     "text": [
      "Types of offers to be recommended:  [2, 8, 2, 8, 2, 8, 5, 23, 5, 23, 5, 23, 5, 23, 5, 23, 5, 23, 2, 8, 2, 8, 2, 8, 2, 8]\n"
     ]
    }
   ],
   "source": [
    "distances1=[]\n",
    "indices1=[]\n",
    "for i in filter2:\n",
    "  distances , indices = knn.kneighbors(csr_sample[i],n_neighbors=3)\n",
    "  indices = indices.flatten()\n",
    "  indices= indices[1:]\n",
    "  indices1.extend(indices)\n",
    "print(\"Types of offers to be recommended: \",indices1)"
   ]
  },
  {
   "cell_type": "code",
   "execution_count": null,
   "id": "119eba64",
   "metadata": {
    "papermill": {
     "duration": 0.095445,
     "end_time": "2022-04-27T05:12:30.647119",
     "exception": false,
     "start_time": "2022-04-27T05:12:30.551674",
     "status": "completed"
    },
    "tags": []
   },
   "outputs": [],
   "source": []
  },
  {
   "cell_type": "markdown",
   "id": "44b8f839",
   "metadata": {
    "papermill": {
     "duration": 0.098052,
     "end_time": "2022-04-27T05:12:30.841598",
     "exception": false,
     "start_time": "2022-04-27T05:12:30.743546",
     "status": "completed"
    },
    "tags": []
   },
   "source": [
    "**5. Conclusion**"
   ]
  },
  {
   "cell_type": "markdown",
   "id": "869fcfab",
   "metadata": {
    "papermill": {
     "duration": 0.095292,
     "end_time": "2022-04-27T05:12:31.032310",
     "exception": false,
     "start_time": "2022-04-27T05:12:30.937018",
     "status": "completed"
    },
    "tags": []
   },
   "source": [
    "1. The above datasets can be used for targeted advertising.\n",
    "2. After performing proper filtering the dataset attributes helps in making appropriate recoomendations.\n",
    "3. The customer behavior and similarities between customers helps in making recommendations.\n",
    "4. Knn algorithm works fine for offer based recommendation.\n",
    "5. In personalized marketing item based or user based collborative filtering method is useful."
   ]
  },
  {
   "cell_type": "code",
   "execution_count": 62,
   "id": "1701227e",
   "metadata": {
    "execution": {
     "iopub.execute_input": "2022-04-27T05:12:31.226891Z",
     "iopub.status.busy": "2022-04-27T05:12:31.225854Z",
     "iopub.status.idle": "2022-04-27T05:12:31.233153Z",
     "shell.execute_reply": "2022-04-27T05:12:31.233644Z",
     "shell.execute_reply.started": "2022-04-27T05:07:09.247534Z"
    },
    "papermill": {
     "duration": 0.105569,
     "end_time": "2022-04-27T05:12:31.233859",
     "exception": false,
     "start_time": "2022-04-27T05:12:31.128290",
     "status": "completed"
    },
    "tags": []
   },
   "outputs": [],
   "source": [
    "n_users = rewards.customer_id.unique().shape[0]\n",
    "n_items = rewards.offer_type.unique().shape[0]"
   ]
  },
  {
   "cell_type": "code",
   "execution_count": 63,
   "id": "1e50597e",
   "metadata": {
    "execution": {
     "iopub.execute_input": "2022-04-27T05:12:31.443061Z",
     "iopub.status.busy": "2022-04-27T05:12:31.427409Z",
     "iopub.status.idle": "2022-04-27T05:12:31.743113Z",
     "shell.execute_reply": "2022-04-27T05:12:31.743631Z",
     "shell.execute_reply.started": "2022-04-27T05:07:09.248990Z"
    },
    "papermill": {
     "duration": 0.415896,
     "end_time": "2022-04-27T05:12:31.743857",
     "exception": false,
     "start_time": "2022-04-27T05:12:31.327961",
     "status": "completed"
    },
    "tags": []
   },
   "outputs": [],
   "source": [
    "data_matrix = np.zeros((n_users, n_items))\n",
    "for line in rewards.itertuples():\n",
    "    data_matrix[line[1]-1, line[2]-1] = line[3]"
   ]
  },
  {
   "cell_type": "code",
   "execution_count": 64,
   "id": "2bbc464e",
   "metadata": {
    "execution": {
     "iopub.execute_input": "2022-04-27T05:12:31.951157Z",
     "iopub.status.busy": "2022-04-27T05:12:31.939620Z",
     "iopub.status.idle": "2022-04-27T05:12:34.021809Z",
     "shell.execute_reply": "2022-04-27T05:12:34.021082Z",
     "shell.execute_reply.started": "2022-04-27T05:07:09.250506Z"
    },
    "papermill": {
     "duration": 2.182403,
     "end_time": "2022-04-27T05:12:34.021966",
     "exception": false,
     "start_time": "2022-04-27T05:12:31.839563",
     "status": "completed"
    },
    "tags": []
   },
   "outputs": [],
   "source": [
    "from sklearn.metrics.pairwise import pairwise_distances \n",
    "user_similarity = pairwise_distances(data_matrix, metric='cosine')\n",
    "item_similarity = pairwise_distances(data_matrix.T, metric='cosine')"
   ]
  },
  {
   "cell_type": "code",
   "execution_count": 65,
   "id": "c9c695b5",
   "metadata": {
    "execution": {
     "iopub.execute_input": "2022-04-27T05:12:34.217837Z",
     "iopub.status.busy": "2022-04-27T05:12:34.217126Z",
     "iopub.status.idle": "2022-04-27T05:12:34.218917Z",
     "shell.execute_reply": "2022-04-27T05:12:34.219396Z",
     "shell.execute_reply.started": "2022-04-27T05:07:09.251774Z"
    },
    "papermill": {
     "duration": 0.103399,
     "end_time": "2022-04-27T05:12:34.219561",
     "exception": false,
     "start_time": "2022-04-27T05:12:34.116162",
     "status": "completed"
    },
    "tags": []
   },
   "outputs": [],
   "source": [
    "def predict(rewards, similarity, type='user'):\n",
    "    \n",
    "    if type == 'user':\n",
    "        mean_user_reward = rewards.mean(axis=1).reshape(-1,1)\n",
    "        #We use np.newaxis so that mean_user_rating has same format as ratings\n",
    "        \n",
    "        rewards_diff = (rewards - mean_user_reward)\n",
    "        pred = mean_user_reward + similarity.dot(rewards_diff) / np.array([np.abs(similarity).sum(axis=1)]).T\n",
    "    \n",
    "    elif type == 'item':\n",
    "        pred = rewards.dot(similarity) / np.array([np.abs(similarity).sum(axis=1)])\n",
    "    \n",
    "    return pred"
   ]
  },
  {
   "cell_type": "code",
   "execution_count": 66,
   "id": "e00e4364",
   "metadata": {
    "execution": {
     "iopub.execute_input": "2022-04-27T05:12:34.412914Z",
     "iopub.status.busy": "2022-04-27T05:12:34.411913Z",
     "iopub.status.idle": "2022-04-27T05:12:35.608142Z",
     "shell.execute_reply": "2022-04-27T05:12:35.608623Z",
     "shell.execute_reply.started": "2022-04-27T05:07:09.253597Z"
    },
    "papermill": {
     "duration": 1.29449,
     "end_time": "2022-04-27T05:12:35.608833",
     "exception": false,
     "start_time": "2022-04-27T05:12:34.314343",
     "status": "completed"
    },
    "tags": []
   },
   "outputs": [],
   "source": [
    "user_prediction = predict(data_matrix, user_similarity, type='user')\n",
    "item_prediction = predict(data_matrix, item_similarity, type='item')"
   ]
  },
  {
   "cell_type": "code",
   "execution_count": 67,
   "id": "4dc9146a",
   "metadata": {
    "execution": {
     "iopub.execute_input": "2022-04-27T05:12:35.803520Z",
     "iopub.status.busy": "2022-04-27T05:12:35.802463Z",
     "iopub.status.idle": "2022-04-27T05:12:35.808946Z",
     "shell.execute_reply": "2022-04-27T05:12:35.809558Z",
     "shell.execute_reply.started": "2022-04-27T05:07:09.254865Z"
    },
    "papermill": {
     "duration": 0.10576,
     "end_time": "2022-04-27T05:12:35.809746",
     "exception": false,
     "start_time": "2022-04-27T05:12:35.703986",
     "status": "completed"
    },
    "tags": []
   },
   "outputs": [
    {
     "data": {
      "text/plain": [
       "array([[4.56238895, 4.25227952, 2.18533153],\n",
       "       [8.52527945, 3.95052362, 5.52419694],\n",
       "       [5.09996423, 5.24753785, 3.65249791],\n",
       "       ...,\n",
       "       [4.71078886, 5.09172784, 3.1974833 ],\n",
       "       [1.90352413, 1.86998339, 2.22649248],\n",
       "       [9.33609765, 5.50363109, 7.16027126]])"
      ]
     },
     "execution_count": 67,
     "metadata": {},
     "output_type": "execute_result"
    }
   ],
   "source": [
    "user_prediction"
   ]
  },
  {
   "cell_type": "code",
   "execution_count": 68,
   "id": "1b5de85c",
   "metadata": {
    "execution": {
     "iopub.execute_input": "2022-04-27T05:12:36.006194Z",
     "iopub.status.busy": "2022-04-27T05:12:36.005144Z",
     "iopub.status.idle": "2022-04-27T05:12:36.010883Z",
     "shell.execute_reply": "2022-04-27T05:12:36.011442Z",
     "shell.execute_reply.started": "2022-04-27T05:07:09.256041Z"
    },
    "papermill": {
     "duration": 0.105576,
     "end_time": "2022-04-27T05:12:36.011616",
     "exception": false,
     "start_time": "2022-04-27T05:12:35.906040",
     "status": "completed"
    },
    "tags": []
   },
   "outputs": [
    {
     "data": {
      "text/plain": [
       "array([[1.8867105 , 5.47221523, 2.10948359],\n",
       "       [7.4906316 , 4.52778477, 7.24209701],\n",
       "       [2.5093684 , 6.4166457 , 3.46106419],\n",
       "       ...,\n",
       "       [1.8867105 , 6.4166457 , 2.81264479],\n",
       "       [0.        , 2.83329139, 2.10948359],\n",
       "       [7.4906316 , 6.4166457 , 8.6484194 ]])"
      ]
     },
     "execution_count": 68,
     "metadata": {},
     "output_type": "execute_result"
    }
   ],
   "source": [
    "item_prediction"
   ]
  },
  {
   "cell_type": "code",
   "execution_count": null,
   "id": "c903afb1",
   "metadata": {
    "papermill": {
     "duration": 0.095647,
     "end_time": "2022-04-27T05:12:36.205641",
     "exception": false,
     "start_time": "2022-04-27T05:12:36.109994",
     "status": "completed"
    },
    "tags": []
   },
   "outputs": [],
   "source": []
  },
  {
   "cell_type": "code",
   "execution_count": null,
   "id": "5a091db8",
   "metadata": {
    "papermill": {
     "duration": 0.096318,
     "end_time": "2022-04-27T05:12:36.397465",
     "exception": false,
     "start_time": "2022-04-27T05:12:36.301147",
     "status": "completed"
    },
    "tags": []
   },
   "outputs": [],
   "source": []
  },
  {
   "cell_type": "code",
   "execution_count": null,
   "id": "7ac94a76",
   "metadata": {
    "papermill": {
     "duration": 0.096548,
     "end_time": "2022-04-27T05:12:36.592298",
     "exception": false,
     "start_time": "2022-04-27T05:12:36.495750",
     "status": "completed"
    },
    "tags": []
   },
   "outputs": [],
   "source": []
  },
  {
   "cell_type": "code",
   "execution_count": null,
   "id": "8100c527",
   "metadata": {
    "papermill": {
     "duration": 0.096975,
     "end_time": "2022-04-27T05:12:36.784872",
     "exception": false,
     "start_time": "2022-04-27T05:12:36.687897",
     "status": "completed"
    },
    "tags": []
   },
   "outputs": [],
   "source": []
  },
  {
   "cell_type": "code",
   "execution_count": null,
   "id": "6c5e39e6",
   "metadata": {
    "papermill": {
     "duration": 0.095138,
     "end_time": "2022-04-27T05:12:36.977779",
     "exception": false,
     "start_time": "2022-04-27T05:12:36.882641",
     "status": "completed"
    },
    "tags": []
   },
   "outputs": [],
   "source": []
  }
 ],
 "metadata": {
  "kernelspec": {
   "display_name": "Python 3",
   "language": "python",
   "name": "python3"
  },
  "language_info": {
   "codemirror_mode": {
    "name": "ipython",
    "version": 3
   },
   "file_extension": ".py",
   "mimetype": "text/x-python",
   "name": "python",
   "nbconvert_exporter": "python",
   "pygments_lexer": "ipython3",
   "version": "3.7.12"
  },
  "papermill": {
   "default_parameters": {},
   "duration": 61.141035,
   "end_time": "2022-04-27T05:12:37.986256",
   "environment_variables": {},
   "exception": null,
   "input_path": "__notebook__.ipynb",
   "output_path": "__notebook__.ipynb",
   "parameters": {},
   "start_time": "2022-04-27T05:11:36.845221",
   "version": "2.3.3"
  }
 },
 "nbformat": 4,
 "nbformat_minor": 5
}
