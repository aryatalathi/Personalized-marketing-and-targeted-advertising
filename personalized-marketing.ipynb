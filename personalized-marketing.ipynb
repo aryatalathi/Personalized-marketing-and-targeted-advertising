{
 "cells": [
  {
   "cell_type": "raw",
   "id": "dc5d85d1",
   "metadata": {
    "papermill": {
     "duration": 0.065174,
     "end_time": "2022-04-22T12:11:05.532623",
     "exception": false,
     "start_time": "2022-04-22T12:11:05.467449",
     "status": "completed"
    },
    "tags": []
   },
   "source": []
  },
  {
   "cell_type": "code",
   "execution_count": 1,
   "id": "3465144a",
   "metadata": {
    "_cell_guid": "b1076dfc-b9ad-4769-8c92-a6c4dae69d19",
    "_uuid": "8f2839f25d086af736a60e9eeb907d3b93b6e0e5",
    "execution": {
     "iopub.execute_input": "2022-04-22T12:11:05.662411Z",
     "iopub.status.busy": "2022-04-22T12:11:05.660579Z",
     "iopub.status.idle": "2022-04-22T12:11:05.680587Z",
     "shell.execute_reply": "2022-04-22T12:11:05.681189Z",
     "shell.execute_reply.started": "2022-04-22T12:06:56.583419Z"
    },
    "papermill": {
     "duration": 0.084892,
     "end_time": "2022-04-22T12:11:05.681489",
     "exception": false,
     "start_time": "2022-04-22T12:11:05.596597",
     "status": "completed"
    },
    "tags": []
   },
   "outputs": [
    {
     "name": "stdout",
     "output_type": "stream",
     "text": [
      "/kaggle/input/starbucks-customer-data/transcript.csv\n",
      "/kaggle/input/starbucks-customer-data/profile.csv\n",
      "/kaggle/input/starbucks-customer-data/portfolio.csv\n"
     ]
    }
   ],
   "source": [
    "# This Python 3 environment comes with many helpful analytics libraries installed\n",
    "# It is defined by the kaggle/python Docker image: https://github.com/kaggle/docker-python\n",
    "# For example, here's several helpful packages to load\n",
    "\n",
    "import numpy as np # linear algebra\n",
    "import pandas as pd # data processing, CSV file I/O (e.g. pd.read_csv)\n",
    "\n",
    "# Input data files are available in the read-only \"../input/\" directory\n",
    "# For example, running this (by clicking run or pressing Shift+Enter) will list all files under the input directory\n",
    "\n",
    "import os\n",
    "for dirname, _, filenames in os.walk('/kaggle/input'):\n",
    "    for filename in filenames:\n",
    "        print(os.path.join(dirname, filename))\n",
    "\n",
    "# You can write up to 20GB to the current directory (/kaggle/working/) that gets preserved as output when you create a version using \"Save & Run All\" \n",
    "# You can also write temporary files to /kaggle/temp/, but they won't be saved outside of the current session"
   ]
  },
  {
   "cell_type": "code",
   "execution_count": 2,
   "id": "50fe51f6",
   "metadata": {
    "execution": {
     "iopub.execute_input": "2022-04-22T12:11:05.815936Z",
     "iopub.status.busy": "2022-04-22T12:11:05.815170Z",
     "iopub.status.idle": "2022-04-22T12:11:08.638341Z",
     "shell.execute_reply": "2022-04-22T12:11:08.637751Z",
     "shell.execute_reply.started": "2022-04-22T12:06:56.968607Z"
    },
    "papermill": {
     "duration": 2.893819,
     "end_time": "2022-04-22T12:11:08.638499",
     "exception": false,
     "start_time": "2022-04-22T12:11:05.744680",
     "status": "completed"
    },
    "tags": []
   },
   "outputs": [],
   "source": [
    "import matplotlib.pyplot as plt\n",
    "import seaborn as sns\n",
    "from scipy.sparse import csr_matrix\n",
    "from sklearn.neighbors import NearestNeighbors\n",
    "import plotly as py\n",
    "import plotly.express as px\n",
    "import plotly.graph_objs as go\n",
    "from plotly.subplots import make_subplots\n",
    "from plotly.offline import init_notebook_mode, iplot, plot\n",
    "import math\n",
    "from math import sqrt\n",
    "\n",
    "import warnings \n",
    "warnings.filterwarnings('ignore')\n",
    "%matplotlib inline"
   ]
  },
  {
   "cell_type": "code",
   "execution_count": 3,
   "id": "067a62b9",
   "metadata": {
    "execution": {
     "iopub.execute_input": "2022-04-22T12:11:08.765657Z",
     "iopub.status.busy": "2022-04-22T12:11:08.764874Z",
     "iopub.status.idle": "2022-04-22T12:11:09.454926Z",
     "shell.execute_reply": "2022-04-22T12:11:09.455442Z",
     "shell.execute_reply.started": "2022-04-22T12:06:57.377541Z"
    },
    "papermill": {
     "duration": 0.756722,
     "end_time": "2022-04-22T12:11:09.455635",
     "exception": false,
     "start_time": "2022-04-22T12:11:08.698913",
     "status": "completed"
    },
    "tags": []
   },
   "outputs": [],
   "source": [
    "portfolio = pd.read_csv('../input/starbucks-customer-data/portfolio.csv')\n",
    "profile = pd.read_csv('../input/starbucks-customer-data/profile.csv')\n",
    "transcript = pd.read_csv('../input/starbucks-customer-data/transcript.csv')"
   ]
  },
  {
   "cell_type": "code",
   "execution_count": 4,
   "id": "ac779bf4",
   "metadata": {
    "execution": {
     "iopub.execute_input": "2022-04-22T12:11:09.580876Z",
     "iopub.status.busy": "2022-04-22T12:11:09.580168Z",
     "iopub.status.idle": "2022-04-22T12:11:09.858115Z",
     "shell.execute_reply": "2022-04-22T12:11:09.857420Z",
     "shell.execute_reply.started": "2022-04-22T12:06:57.775283Z"
    },
    "papermill": {
     "duration": 0.341865,
     "end_time": "2022-04-22T12:11:09.858280",
     "exception": false,
     "start_time": "2022-04-22T12:11:09.516415",
     "status": "completed"
    },
    "tags": []
   },
   "outputs": [
    {
     "name": "stdout",
     "output_type": "stream",
     "text": [
      "<class 'pandas.core.frame.DataFrame'>\n",
      "RangeIndex: 10 entries, 0 to 9\n",
      "Data columns (total 7 columns):\n",
      " #   Column      Non-Null Count  Dtype \n",
      "---  ------      --------------  ----- \n",
      " 0   Unnamed: 0  10 non-null     int64 \n",
      " 1   reward      10 non-null     int64 \n",
      " 2   channels    10 non-null     object\n",
      " 3   difficulty  10 non-null     int64 \n",
      " 4   duration    10 non-null     int64 \n",
      " 5   offer_type  10 non-null     object\n",
      " 6   id          10 non-null     object\n",
      "dtypes: int64(4), object(3)\n",
      "memory usage: 688.0+ bytes\n",
      "<class 'pandas.core.frame.DataFrame'>\n",
      "RangeIndex: 17000 entries, 0 to 16999\n",
      "Data columns (total 6 columns):\n",
      " #   Column            Non-Null Count  Dtype  \n",
      "---  ------            --------------  -----  \n",
      " 0   Unnamed: 0        17000 non-null  int64  \n",
      " 1   gender            14825 non-null  object \n",
      " 2   age               17000 non-null  int64  \n",
      " 3   id                17000 non-null  object \n",
      " 4   became_member_on  17000 non-null  int64  \n",
      " 5   income            14825 non-null  float64\n",
      "dtypes: float64(1), int64(3), object(2)\n",
      "memory usage: 797.0+ KB\n",
      "<class 'pandas.core.frame.DataFrame'>\n",
      "RangeIndex: 306534 entries, 0 to 306533\n",
      "Data columns (total 5 columns):\n",
      " #   Column      Non-Null Count   Dtype \n",
      "---  ------      --------------   ----- \n",
      " 0   Unnamed: 0  306534 non-null  int64 \n",
      " 1   person      306534 non-null  object\n",
      " 2   event       306534 non-null  object\n",
      " 3   value       306534 non-null  object\n",
      " 4   time        306534 non-null  int64 \n",
      "dtypes: int64(2), object(3)\n",
      "memory usage: 11.7+ MB\n"
     ]
    }
   ],
   "source": [
    "portfolio.info()\n",
    "profile.info()\n",
    "transcript.info()"
   ]
  },
  {
   "cell_type": "code",
   "execution_count": 5,
   "id": "02e13276",
   "metadata": {
    "execution": {
     "iopub.execute_input": "2022-04-22T12:11:09.991748Z",
     "iopub.status.busy": "2022-04-22T12:11:09.990794Z",
     "iopub.status.idle": "2022-04-22T12:11:09.994625Z",
     "shell.execute_reply": "2022-04-22T12:11:09.995194Z",
     "shell.execute_reply.started": "2022-04-22T12:06:57.926074Z"
    },
    "papermill": {
     "duration": 0.076207,
     "end_time": "2022-04-22T12:11:09.995384",
     "exception": false,
     "start_time": "2022-04-22T12:11:09.919177",
     "status": "completed"
    },
    "tags": []
   },
   "outputs": [
    {
     "data": {
      "text/plain": [
       "Unnamed: 0    0\n",
       "reward        0\n",
       "channels      0\n",
       "difficulty    0\n",
       "duration      0\n",
       "offer_type    0\n",
       "id            0\n",
       "dtype: int64"
      ]
     },
     "execution_count": 5,
     "metadata": {},
     "output_type": "execute_result"
    }
   ],
   "source": [
    "portfolio.isnull().sum()"
   ]
  },
  {
   "cell_type": "code",
   "execution_count": 6,
   "id": "a996fc62",
   "metadata": {
    "execution": {
     "iopub.execute_input": "2022-04-22T12:11:10.131540Z",
     "iopub.status.busy": "2022-04-22T12:11:10.130737Z",
     "iopub.status.idle": "2022-04-22T12:11:10.133971Z",
     "shell.execute_reply": "2022-04-22T12:11:10.134461Z",
     "shell.execute_reply.started": "2022-04-22T12:06:58.195353Z"
    },
    "papermill": {
     "duration": 0.077438,
     "end_time": "2022-04-22T12:11:10.134632",
     "exception": false,
     "start_time": "2022-04-22T12:11:10.057194",
     "status": "completed"
    },
    "tags": []
   },
   "outputs": [
    {
     "data": {
      "text/plain": [
       "Unnamed: 0             0\n",
       "gender              2175\n",
       "age                    0\n",
       "id                     0\n",
       "became_member_on       0\n",
       "income              2175\n",
       "dtype: int64"
      ]
     },
     "execution_count": 6,
     "metadata": {},
     "output_type": "execute_result"
    }
   ],
   "source": [
    "profile.isnull().sum()"
   ]
  },
  {
   "cell_type": "code",
   "execution_count": 7,
   "id": "ee7dc317",
   "metadata": {
    "execution": {
     "iopub.execute_input": "2022-04-22T12:11:10.361895Z",
     "iopub.status.busy": "2022-04-22T12:11:10.360899Z",
     "iopub.status.idle": "2022-04-22T12:11:10.370006Z",
     "shell.execute_reply": "2022-04-22T12:11:10.369401Z",
     "shell.execute_reply.started": "2022-04-22T12:06:58.453929Z"
    },
    "papermill": {
     "duration": 0.173533,
     "end_time": "2022-04-22T12:11:10.370156",
     "exception": false,
     "start_time": "2022-04-22T12:11:10.196623",
     "status": "completed"
    },
    "tags": []
   },
   "outputs": [
    {
     "data": {
      "text/plain": [
       "Unnamed: 0    0\n",
       "person        0\n",
       "event         0\n",
       "value         0\n",
       "time          0\n",
       "dtype: int64"
      ]
     },
     "execution_count": 7,
     "metadata": {},
     "output_type": "execute_result"
    }
   ],
   "source": [
    "transcript.isnull().sum()"
   ]
  },
  {
   "cell_type": "code",
   "execution_count": 8,
   "id": "115bf69d",
   "metadata": {
    "execution": {
     "iopub.execute_input": "2022-04-22T12:11:10.505655Z",
     "iopub.status.busy": "2022-04-22T12:11:10.504963Z",
     "iopub.status.idle": "2022-04-22T12:11:10.521591Z",
     "shell.execute_reply": "2022-04-22T12:11:10.522097Z",
     "shell.execute_reply.started": "2022-04-22T12:06:58.773480Z"
    },
    "papermill": {
     "duration": 0.08901,
     "end_time": "2022-04-22T12:11:10.522299",
     "exception": false,
     "start_time": "2022-04-22T12:11:10.433289",
     "status": "completed"
    },
    "tags": []
   },
   "outputs": [],
   "source": [
    "profile.drop('Unnamed: 0', axis=1, inplace=True)\n",
    "transcript.drop('Unnamed: 0', axis=1, inplace=True)\n",
    "portfolio.drop('Unnamed: 0', axis=1, inplace=True)"
   ]
  },
  {
   "cell_type": "code",
   "execution_count": 9,
   "id": "50eec616",
   "metadata": {
    "execution": {
     "iopub.execute_input": "2022-04-22T12:11:10.652767Z",
     "iopub.status.busy": "2022-04-22T12:11:10.652072Z",
     "iopub.status.idle": "2022-04-22T12:11:10.658549Z",
     "shell.execute_reply": "2022-04-22T12:11:10.659077Z",
     "shell.execute_reply.started": "2022-04-22T12:06:59.057230Z"
    },
    "papermill": {
     "duration": 0.072371,
     "end_time": "2022-04-22T12:11:10.659248",
     "exception": false,
     "start_time": "2022-04-22T12:11:10.586877",
     "status": "completed"
    },
    "tags": []
   },
   "outputs": [],
   "source": [
    "profile['gender'].fillna(\"O\", inplace=True)"
   ]
  },
  {
   "cell_type": "code",
   "execution_count": 10,
   "id": "82ce5dbd",
   "metadata": {
    "execution": {
     "iopub.execute_input": "2022-04-22T12:11:10.786861Z",
     "iopub.status.busy": "2022-04-22T12:11:10.786154Z",
     "iopub.status.idle": "2022-04-22T12:11:10.795738Z",
     "shell.execute_reply": "2022-04-22T12:11:10.796244Z",
     "shell.execute_reply.started": "2022-04-22T12:06:59.289382Z"
    },
    "papermill": {
     "duration": 0.075011,
     "end_time": "2022-04-22T12:11:10.796418",
     "exception": false,
     "start_time": "2022-04-22T12:11:10.721407",
     "status": "completed"
    },
    "tags": []
   },
   "outputs": [
    {
     "data": {
      "text/plain": [
       "O    2175\n",
       "Name: gender, dtype: int64"
      ]
     },
     "execution_count": 10,
     "metadata": {},
     "output_type": "execute_result"
    }
   ],
   "source": [
    "profile[profile['age']==118]['gender'].value_counts()"
   ]
  },
  {
   "cell_type": "code",
   "execution_count": 11,
   "id": "25e0e06a",
   "metadata": {
    "execution": {
     "iopub.execute_input": "2022-04-22T12:11:10.929380Z",
     "iopub.status.busy": "2022-04-22T12:11:10.924938Z",
     "iopub.status.idle": "2022-04-22T12:11:10.942488Z",
     "shell.execute_reply": "2022-04-22T12:11:10.941766Z",
     "shell.execute_reply.started": "2022-04-22T12:06:59.539748Z"
    },
    "papermill": {
     "duration": 0.083156,
     "end_time": "2022-04-22T12:11:10.942636",
     "exception": false,
     "start_time": "2022-04-22T12:11:10.859480",
     "status": "completed"
    },
    "tags": []
   },
   "outputs": [
    {
     "data": {
      "text/plain": [
       "gender              0\n",
       "age                 0\n",
       "id                  0\n",
       "became_member_on    0\n",
       "income              0\n",
       "dtype: int64"
      ]
     },
     "execution_count": 11,
     "metadata": {},
     "output_type": "execute_result"
    }
   ],
   "source": [
    "profile.drop(profile.index[(profile['age'] < 119) & (profile['age'] > 100)], inplace = True)\n",
    "profile.isnull().sum()"
   ]
  },
  {
   "cell_type": "code",
   "execution_count": 12,
   "id": "2db97b47",
   "metadata": {
    "execution": {
     "iopub.execute_input": "2022-04-22T12:11:11.083824Z",
     "iopub.status.busy": "2022-04-22T12:11:11.082425Z",
     "iopub.status.idle": "2022-04-22T12:11:12.237792Z",
     "shell.execute_reply": "2022-04-22T12:11:12.238295Z",
     "shell.execute_reply.started": "2022-04-22T12:06:59.843848Z"
    },
    "papermill": {
     "duration": 1.231998,
     "end_time": "2022-04-22T12:11:12.238475",
     "exception": false,
     "start_time": "2022-04-22T12:11:11.006477",
     "status": "completed"
    },
    "tags": []
   },
   "outputs": [
    {
     "data": {
      "text/html": [
       "        <script type=\"text/javascript\">\n",
       "        window.PlotlyConfig = {MathJaxConfig: 'local'};\n",
       "        if (window.MathJax) {MathJax.Hub.Config({SVG: {font: \"STIX-Web\"}});}\n",
       "        if (typeof require !== 'undefined') {\n",
       "        require.undef(\"plotly\");\n",
       "        requirejs.config({\n",
       "            paths: {\n",
       "                'plotly': ['https://cdn.plot.ly/plotly-2.9.0.min']\n",
       "            }\n",
       "        });\n",
       "        require(['plotly'], function(Plotly) {\n",
       "            window._Plotly = Plotly;\n",
       "        });\n",
       "        }\n",
       "        </script>\n",
       "        "
      ]
     },
     "metadata": {},
     "output_type": "display_data"
    },
    {
     "data": {
      "text/html": [
       "<div>                            <div id=\"eb4cae94-0990-4673-9800-b6e4e9cd9349\" class=\"plotly-graph-div\" style=\"height:525px; width:100%;\"></div>            <script type=\"text/javascript\">                require([\"plotly\"], function(Plotly) {                    window.PLOTLYENV=window.PLOTLYENV || {};                                    if (document.getElementById(\"eb4cae94-0990-4673-9800-b6e4e9cd9349\")) {                    Plotly.newPlot(                        \"eb4cae94-0990-4673-9800-b6e4e9cd9349\",                        [{\"domain\":{\"x\":[0.0,1.0],\"y\":[0.0,1.0]},\"hovertemplate\":\"gender=%{label}<br>count=%{value}<extra></extra>\",\"labels\":[\"M\",\"F\",\"O\"],\"legendgroup\":\"\",\"name\":\"\",\"showlegend\":true,\"values\":[8484,6124,212],\"type\":\"pie\"}],                        {\"template\":{\"data\":{\"bar\":[{\"error_x\":{\"color\":\"#2a3f5f\"},\"error_y\":{\"color\":\"#2a3f5f\"},\"marker\":{\"line\":{\"color\":\"#E5ECF6\",\"width\":0.5},\"pattern\":{\"fillmode\":\"overlay\",\"size\":10,\"solidity\":0.2}},\"type\":\"bar\"}],\"barpolar\":[{\"marker\":{\"line\":{\"color\":\"#E5ECF6\",\"width\":0.5},\"pattern\":{\"fillmode\":\"overlay\",\"size\":10,\"solidity\":0.2}},\"type\":\"barpolar\"}],\"carpet\":[{\"aaxis\":{\"endlinecolor\":\"#2a3f5f\",\"gridcolor\":\"white\",\"linecolor\":\"white\",\"minorgridcolor\":\"white\",\"startlinecolor\":\"#2a3f5f\"},\"baxis\":{\"endlinecolor\":\"#2a3f5f\",\"gridcolor\":\"white\",\"linecolor\":\"white\",\"minorgridcolor\":\"white\",\"startlinecolor\":\"#2a3f5f\"},\"type\":\"carpet\"}],\"choropleth\":[{\"colorbar\":{\"outlinewidth\":0,\"ticks\":\"\"},\"type\":\"choropleth\"}],\"contour\":[{\"colorbar\":{\"outlinewidth\":0,\"ticks\":\"\"},\"colorscale\":[[0.0,\"#0d0887\"],[0.1111111111111111,\"#46039f\"],[0.2222222222222222,\"#7201a8\"],[0.3333333333333333,\"#9c179e\"],[0.4444444444444444,\"#bd3786\"],[0.5555555555555556,\"#d8576b\"],[0.6666666666666666,\"#ed7953\"],[0.7777777777777778,\"#fb9f3a\"],[0.8888888888888888,\"#fdca26\"],[1.0,\"#f0f921\"]],\"type\":\"contour\"}],\"contourcarpet\":[{\"colorbar\":{\"outlinewidth\":0,\"ticks\":\"\"},\"type\":\"contourcarpet\"}],\"heatmap\":[{\"colorbar\":{\"outlinewidth\":0,\"ticks\":\"\"},\"colorscale\":[[0.0,\"#0d0887\"],[0.1111111111111111,\"#46039f\"],[0.2222222222222222,\"#7201a8\"],[0.3333333333333333,\"#9c179e\"],[0.4444444444444444,\"#bd3786\"],[0.5555555555555556,\"#d8576b\"],[0.6666666666666666,\"#ed7953\"],[0.7777777777777778,\"#fb9f3a\"],[0.8888888888888888,\"#fdca26\"],[1.0,\"#f0f921\"]],\"type\":\"heatmap\"}],\"heatmapgl\":[{\"colorbar\":{\"outlinewidth\":0,\"ticks\":\"\"},\"colorscale\":[[0.0,\"#0d0887\"],[0.1111111111111111,\"#46039f\"],[0.2222222222222222,\"#7201a8\"],[0.3333333333333333,\"#9c179e\"],[0.4444444444444444,\"#bd3786\"],[0.5555555555555556,\"#d8576b\"],[0.6666666666666666,\"#ed7953\"],[0.7777777777777778,\"#fb9f3a\"],[0.8888888888888888,\"#fdca26\"],[1.0,\"#f0f921\"]],\"type\":\"heatmapgl\"}],\"histogram\":[{\"marker\":{\"pattern\":{\"fillmode\":\"overlay\",\"size\":10,\"solidity\":0.2}},\"type\":\"histogram\"}],\"histogram2d\":[{\"colorbar\":{\"outlinewidth\":0,\"ticks\":\"\"},\"colorscale\":[[0.0,\"#0d0887\"],[0.1111111111111111,\"#46039f\"],[0.2222222222222222,\"#7201a8\"],[0.3333333333333333,\"#9c179e\"],[0.4444444444444444,\"#bd3786\"],[0.5555555555555556,\"#d8576b\"],[0.6666666666666666,\"#ed7953\"],[0.7777777777777778,\"#fb9f3a\"],[0.8888888888888888,\"#fdca26\"],[1.0,\"#f0f921\"]],\"type\":\"histogram2d\"}],\"histogram2dcontour\":[{\"colorbar\":{\"outlinewidth\":0,\"ticks\":\"\"},\"colorscale\":[[0.0,\"#0d0887\"],[0.1111111111111111,\"#46039f\"],[0.2222222222222222,\"#7201a8\"],[0.3333333333333333,\"#9c179e\"],[0.4444444444444444,\"#bd3786\"],[0.5555555555555556,\"#d8576b\"],[0.6666666666666666,\"#ed7953\"],[0.7777777777777778,\"#fb9f3a\"],[0.8888888888888888,\"#fdca26\"],[1.0,\"#f0f921\"]],\"type\":\"histogram2dcontour\"}],\"mesh3d\":[{\"colorbar\":{\"outlinewidth\":0,\"ticks\":\"\"},\"type\":\"mesh3d\"}],\"parcoords\":[{\"line\":{\"colorbar\":{\"outlinewidth\":0,\"ticks\":\"\"}},\"type\":\"parcoords\"}],\"pie\":[{\"automargin\":true,\"type\":\"pie\"}],\"scatter\":[{\"marker\":{\"colorbar\":{\"outlinewidth\":0,\"ticks\":\"\"}},\"type\":\"scatter\"}],\"scatter3d\":[{\"line\":{\"colorbar\":{\"outlinewidth\":0,\"ticks\":\"\"}},\"marker\":{\"colorbar\":{\"outlinewidth\":0,\"ticks\":\"\"}},\"type\":\"scatter3d\"}],\"scattercarpet\":[{\"marker\":{\"colorbar\":{\"outlinewidth\":0,\"ticks\":\"\"}},\"type\":\"scattercarpet\"}],\"scattergeo\":[{\"marker\":{\"colorbar\":{\"outlinewidth\":0,\"ticks\":\"\"}},\"type\":\"scattergeo\"}],\"scattergl\":[{\"marker\":{\"colorbar\":{\"outlinewidth\":0,\"ticks\":\"\"}},\"type\":\"scattergl\"}],\"scattermapbox\":[{\"marker\":{\"colorbar\":{\"outlinewidth\":0,\"ticks\":\"\"}},\"type\":\"scattermapbox\"}],\"scatterpolar\":[{\"marker\":{\"colorbar\":{\"outlinewidth\":0,\"ticks\":\"\"}},\"type\":\"scatterpolar\"}],\"scatterpolargl\":[{\"marker\":{\"colorbar\":{\"outlinewidth\":0,\"ticks\":\"\"}},\"type\":\"scatterpolargl\"}],\"scatterternary\":[{\"marker\":{\"colorbar\":{\"outlinewidth\":0,\"ticks\":\"\"}},\"type\":\"scatterternary\"}],\"surface\":[{\"colorbar\":{\"outlinewidth\":0,\"ticks\":\"\"},\"colorscale\":[[0.0,\"#0d0887\"],[0.1111111111111111,\"#46039f\"],[0.2222222222222222,\"#7201a8\"],[0.3333333333333333,\"#9c179e\"],[0.4444444444444444,\"#bd3786\"],[0.5555555555555556,\"#d8576b\"],[0.6666666666666666,\"#ed7953\"],[0.7777777777777778,\"#fb9f3a\"],[0.8888888888888888,\"#fdca26\"],[1.0,\"#f0f921\"]],\"type\":\"surface\"}],\"table\":[{\"cells\":{\"fill\":{\"color\":\"#EBF0F8\"},\"line\":{\"color\":\"white\"}},\"header\":{\"fill\":{\"color\":\"#C8D4E3\"},\"line\":{\"color\":\"white\"}},\"type\":\"table\"}]},\"layout\":{\"annotationdefaults\":{\"arrowcolor\":\"#2a3f5f\",\"arrowhead\":0,\"arrowwidth\":1},\"autotypenumbers\":\"strict\",\"coloraxis\":{\"colorbar\":{\"outlinewidth\":0,\"ticks\":\"\"}},\"colorscale\":{\"diverging\":[[0,\"#8e0152\"],[0.1,\"#c51b7d\"],[0.2,\"#de77ae\"],[0.3,\"#f1b6da\"],[0.4,\"#fde0ef\"],[0.5,\"#f7f7f7\"],[0.6,\"#e6f5d0\"],[0.7,\"#b8e186\"],[0.8,\"#7fbc41\"],[0.9,\"#4d9221\"],[1,\"#276419\"]],\"sequential\":[[0.0,\"#0d0887\"],[0.1111111111111111,\"#46039f\"],[0.2222222222222222,\"#7201a8\"],[0.3333333333333333,\"#9c179e\"],[0.4444444444444444,\"#bd3786\"],[0.5555555555555556,\"#d8576b\"],[0.6666666666666666,\"#ed7953\"],[0.7777777777777778,\"#fb9f3a\"],[0.8888888888888888,\"#fdca26\"],[1.0,\"#f0f921\"]],\"sequentialminus\":[[0.0,\"#0d0887\"],[0.1111111111111111,\"#46039f\"],[0.2222222222222222,\"#7201a8\"],[0.3333333333333333,\"#9c179e\"],[0.4444444444444444,\"#bd3786\"],[0.5555555555555556,\"#d8576b\"],[0.6666666666666666,\"#ed7953\"],[0.7777777777777778,\"#fb9f3a\"],[0.8888888888888888,\"#fdca26\"],[1.0,\"#f0f921\"]]},\"colorway\":[\"#636efa\",\"#EF553B\",\"#00cc96\",\"#ab63fa\",\"#FFA15A\",\"#19d3f3\",\"#FF6692\",\"#B6E880\",\"#FF97FF\",\"#FECB52\"],\"font\":{\"color\":\"#2a3f5f\"},\"geo\":{\"bgcolor\":\"white\",\"lakecolor\":\"white\",\"landcolor\":\"#E5ECF6\",\"showlakes\":true,\"showland\":true,\"subunitcolor\":\"white\"},\"hoverlabel\":{\"align\":\"left\"},\"hovermode\":\"closest\",\"mapbox\":{\"style\":\"light\"},\"paper_bgcolor\":\"white\",\"plot_bgcolor\":\"#E5ECF6\",\"polar\":{\"angularaxis\":{\"gridcolor\":\"white\",\"linecolor\":\"white\",\"ticks\":\"\"},\"bgcolor\":\"#E5ECF6\",\"radialaxis\":{\"gridcolor\":\"white\",\"linecolor\":\"white\",\"ticks\":\"\"}},\"scene\":{\"xaxis\":{\"backgroundcolor\":\"#E5ECF6\",\"gridcolor\":\"white\",\"gridwidth\":2,\"linecolor\":\"white\",\"showbackground\":true,\"ticks\":\"\",\"zerolinecolor\":\"white\"},\"yaxis\":{\"backgroundcolor\":\"#E5ECF6\",\"gridcolor\":\"white\",\"gridwidth\":2,\"linecolor\":\"white\",\"showbackground\":true,\"ticks\":\"\",\"zerolinecolor\":\"white\"},\"zaxis\":{\"backgroundcolor\":\"#E5ECF6\",\"gridcolor\":\"white\",\"gridwidth\":2,\"linecolor\":\"white\",\"showbackground\":true,\"ticks\":\"\",\"zerolinecolor\":\"white\"}},\"shapedefaults\":{\"line\":{\"color\":\"#2a3f5f\"}},\"ternary\":{\"aaxis\":{\"gridcolor\":\"white\",\"linecolor\":\"white\",\"ticks\":\"\"},\"baxis\":{\"gridcolor\":\"white\",\"linecolor\":\"white\",\"ticks\":\"\"},\"bgcolor\":\"#E5ECF6\",\"caxis\":{\"gridcolor\":\"white\",\"linecolor\":\"white\",\"ticks\":\"\"}},\"title\":{\"x\":0.05},\"xaxis\":{\"automargin\":true,\"gridcolor\":\"white\",\"linecolor\":\"white\",\"ticks\":\"\",\"title\":{\"standoff\":15},\"zerolinecolor\":\"white\",\"zerolinewidth\":2},\"yaxis\":{\"automargin\":true,\"gridcolor\":\"white\",\"linecolor\":\"white\",\"ticks\":\"\",\"title\":{\"standoff\":15},\"zerolinecolor\":\"white\",\"zerolinewidth\":2}}},\"legend\":{\"tracegroupgap\":0},\"title\":{\"text\":\"Gender\"},\"piecolorway\":[\"blue\",\"light green\"]},                        {\"responsive\": true}                    ).then(function(){\n",
       "                            \n",
       "var gd = document.getElementById('eb4cae94-0990-4673-9800-b6e4e9cd9349');\n",
       "var x = new MutationObserver(function (mutations, observer) {{\n",
       "        var display = window.getComputedStyle(gd).display;\n",
       "        if (!display || display === 'none') {{\n",
       "            console.log([gd, 'removed!']);\n",
       "            Plotly.purge(gd);\n",
       "            observer.disconnect();\n",
       "        }}\n",
       "}});\n",
       "\n",
       "// Listen for the removal of the full notebook cells\n",
       "var notebookContainer = gd.closest('#notebook-container');\n",
       "if (notebookContainer) {{\n",
       "    x.observe(notebookContainer, {childList: true});\n",
       "}}\n",
       "\n",
       "// Listen for the clearing of the current output cell\n",
       "var outputEl = gd.closest('.output');\n",
       "if (outputEl) {{\n",
       "    x.observe(outputEl, {childList: true});\n",
       "}}\n",
       "\n",
       "                        })                };                });            </script>        </div>"
      ]
     },
     "metadata": {},
     "output_type": "display_data"
    }
   ],
   "source": [
    "gender_profile = profile.gender.value_counts().reset_index()\n",
    "gender_profile.columns = ['gender', 'count']\n",
    "fig = px.pie(gender_profile, values='count', names='gender', title='Gender',\n",
    "             color_discrete_sequence=['blue', 'light green'])\n",
    "fig.show()"
   ]
  },
  {
   "cell_type": "code",
   "execution_count": 13,
   "id": "20e38ce1",
   "metadata": {
    "execution": {
     "iopub.execute_input": "2022-04-22T12:11:12.371942Z",
     "iopub.status.busy": "2022-04-22T12:11:12.371236Z",
     "iopub.status.idle": "2022-04-22T12:11:12.519450Z",
     "shell.execute_reply": "2022-04-22T12:11:12.520108Z",
     "shell.execute_reply.started": "2022-04-22T12:07:00.155081Z"
    },
    "papermill": {
     "duration": 0.216471,
     "end_time": "2022-04-22T12:11:12.520304",
     "exception": false,
     "start_time": "2022-04-22T12:11:12.303833",
     "status": "completed"
    },
    "tags": []
   },
   "outputs": [
    {
     "data": {
      "text/plain": [
       "<AxesSubplot:xlabel='income'>"
      ]
     },
     "execution_count": 13,
     "metadata": {},
     "output_type": "execute_result"
    },
    {
     "data": {
      "image/png": "[encoded data removed]",
      "text/plain": [
       "<Figure size 432x288 with 1 Axes>"
      ]
     },
     "metadata": {
      "needs_background": "light"
     },
     "output_type": "display_data"
    }
   ],
   "source": [
    "sns.boxplot(data=profile, x='income')"
   ]
  },
  {
   "cell_type": "code",
   "execution_count": 14,
   "id": "0e8f002e",
   "metadata": {
    "execution": {
     "iopub.execute_input": "2022-04-22T12:11:12.657963Z",
     "iopub.status.busy": "2022-04-22T12:11:12.656987Z",
     "iopub.status.idle": "2022-04-22T12:11:12.702381Z",
     "shell.execute_reply": "2022-04-22T12:11:12.702936Z",
     "shell.execute_reply.started": "2022-04-22T12:07:00.430848Z"
    },
    "papermill": {
     "duration": 0.116867,
     "end_time": "2022-04-22T12:11:12.703133",
     "exception": false,
     "start_time": "2022-04-22T12:11:12.586266",
     "status": "completed"
    },
    "tags": []
   },
   "outputs": [
    {
     "data": {
      "text/plain": [
       "1    2017-07-15\n",
       "3    2017-05-09\n",
       "5    2018-04-26\n",
       "8    2018-02-09\n",
       "12   2017-11-11\n",
       "Name: became_member_on, dtype: datetime64[ns]"
      ]
     },
     "execution_count": 14,
     "metadata": {},
     "output_type": "execute_result"
    }
   ],
   "source": [
    "profile['became_member_on'] = pd.to_datetime(profile['became_member_on'].astype(str), format='%Y%m%d')\n",
    "profile['became_member_on'].head()"
   ]
  },
  {
   "cell_type": "code",
   "execution_count": 15,
   "id": "fedbf1f0",
   "metadata": {
    "execution": {
     "iopub.execute_input": "2022-04-22T12:11:12.843443Z",
     "iopub.status.busy": "2022-04-22T12:11:12.842694Z",
     "iopub.status.idle": "2022-04-22T12:11:12.859617Z",
     "shell.execute_reply": "2022-04-22T12:11:12.859063Z",
     "shell.execute_reply.started": "2022-04-22T12:07:00.708099Z"
    },
    "papermill": {
     "duration": 0.089999,
     "end_time": "2022-04-22T12:11:12.859790",
     "exception": false,
     "start_time": "2022-04-22T12:11:12.769791",
     "status": "completed"
    },
    "tags": []
   },
   "outputs": [],
   "source": [
    "profile['year'] = profile['became_member_on'].dt.year\n",
    "profile['month'] = profile['became_member_on'].dt.month\n",
    "profile['day']=profile['became_member_on'].dt.day_name()\n",
    "profile['membership_days'] = (pd.to_datetime('today') - profile['became_member_on']).astype('timedelta64[D]').astype(int)"
   ]
  },
  {
   "cell_type": "code",
   "execution_count": 16,
   "id": "a11ca362",
   "metadata": {
    "execution": {
     "iopub.execute_input": "2022-04-22T12:11:13.001244Z",
     "iopub.status.busy": "2022-04-22T12:11:13.000451Z",
     "iopub.status.idle": "2022-04-22T12:11:13.193880Z",
     "shell.execute_reply": "2022-04-22T12:11:13.194440Z",
     "shell.execute_reply.started": "2022-04-22T12:07:01.061007Z"
    },
    "papermill": {
     "duration": 0.268096,
     "end_time": "2022-04-22T12:11:13.194617",
     "exception": false,
     "start_time": "2022-04-22T12:11:12.926521",
     "status": "completed"
    },
    "tags": []
   },
   "outputs": [
    {
     "data": {
      "text/plain": [
       "Text(0, 0.5, 'income')"
      ]
     },
     "execution_count": 16,
     "metadata": {},
     "output_type": "execute_result"
    },
    {
     "data": {
      "image/png": "[encoded data removed]",
      "text/plain": [
       "<Figure size 432x288 with 1 Axes>"
      ]
     },
     "metadata": {
      "needs_background": "light"
     },
     "output_type": "display_data"
    }
   ],
   "source": [
    "profile.groupby('gender').sum()['income'].plot(kind='bar')\n",
    "plt.title('Total income per gender')\n",
    "plt.ylabel('income')"
   ]
  },
  {
   "cell_type": "code",
   "execution_count": 17,
   "id": "68f293fc",
   "metadata": {
    "execution": {
     "iopub.execute_input": "2022-04-22T12:11:13.332604Z",
     "iopub.status.busy": "2022-04-22T12:11:13.331974Z",
     "iopub.status.idle": "2022-04-22T12:11:13.346937Z",
     "shell.execute_reply": "2022-04-22T12:11:13.347476Z",
     "shell.execute_reply.started": "2022-04-22T12:07:01.962262Z"
    },
    "papermill": {
     "duration": 0.085692,
     "end_time": "2022-04-22T12:11:13.347670",
     "exception": false,
     "start_time": "2022-04-22T12:11:13.261978",
     "status": "completed"
    },
    "tags": []
   },
   "outputs": [
    {
     "data": {
      "text/plain": [
       "1        Middle-age(40-59)\n",
       "3              Old(60-100)\n",
       "5              Old(60-100)\n",
       "8              Old(60-100)\n",
       "12       Middle-age(40-59)\n",
       "               ...        \n",
       "16995    Middle-age(40-59)\n",
       "16996          Old(60-100)\n",
       "16997    Middle-age(40-59)\n",
       "16998          Old(60-100)\n",
       "16999          Old(60-100)\n",
       "Name: age_group, Length: 14820, dtype: category\n",
       "Categories (4, object): ['Teenage(0-19)' < 'Young(20-39)' < 'Middle-age(40-59)' < 'Old(60-100)']"
      ]
     },
     "execution_count": 17,
     "metadata": {},
     "output_type": "execute_result"
    }
   ],
   "source": [
    "profile['age_group'] = pd.cut(x=profile['age'], bins=[18, 20, 40, 60, 101],\n",
    "                    labels=['Teenage(0-19)', 'Young(20-39)','Middle-age(40-59)',\n",
    "                            'Old(60-100)'], include_lowest=True)\n",
    "profile['age_group']"
   ]
  },
  {
   "cell_type": "code",
   "execution_count": 18,
   "id": "e9ff8b32",
   "metadata": {
    "execution": {
     "iopub.execute_input": "2022-04-22T12:11:13.487065Z",
     "iopub.status.busy": "2022-04-22T12:11:13.486430Z",
     "iopub.status.idle": "2022-04-22T12:11:13.513106Z",
     "shell.execute_reply": "2022-04-22T12:11:13.513698Z",
     "shell.execute_reply.started": "2022-04-22T12:07:01.976704Z"
    },
    "papermill": {
     "duration": 0.09804,
     "end_time": "2022-04-22T12:11:13.513889",
     "exception": false,
     "start_time": "2022-04-22T12:11:13.415849",
     "status": "completed"
    },
    "tags": []
   },
   "outputs": [
    {
     "data": {
      "text/html": [
       "<div>\n",
       "<style scoped>\n",
       "    .dataframe tbody tr th:only-of-type {\n",
       "        vertical-align: middle;\n",
       "    }\n",
       "\n",
       "    .dataframe tbody tr th {\n",
       "        vertical-align: top;\n",
       "    }\n",
       "\n",
       "    .dataframe thead th {\n",
       "        text-align: right;\n",
       "    }\n",
       "</style>\n",
       "<table border=\"1\" class=\"dataframe\">\n",
       "  <thead>\n",
       "    <tr style=\"text-align: right;\">\n",
       "      <th></th>\n",
       "      <th>gender</th>\n",
       "      <th>age</th>\n",
       "      <th>id</th>\n",
       "      <th>became_member_on</th>\n",
       "      <th>income</th>\n",
       "      <th>year</th>\n",
       "      <th>month</th>\n",
       "      <th>day</th>\n",
       "      <th>membership_days</th>\n",
       "      <th>age_group</th>\n",
       "    </tr>\n",
       "  </thead>\n",
       "  <tbody>\n",
       "    <tr>\n",
       "      <th>1</th>\n",
       "      <td>F</td>\n",
       "      <td>55</td>\n",
       "      <td>0610b486422d4921ae7d2bf64640c50b</td>\n",
       "      <td>2017-07-15</td>\n",
       "      <td>112000.0</td>\n",
       "      <td>2017</td>\n",
       "      <td>7</td>\n",
       "      <td>Saturday</td>\n",
       "      <td>1742</td>\n",
       "      <td>0</td>\n",
       "    </tr>\n",
       "    <tr>\n",
       "      <th>3</th>\n",
       "      <td>F</td>\n",
       "      <td>75</td>\n",
       "      <td>78afa995795e4d85b5d9ceeca43f5fef</td>\n",
       "      <td>2017-05-09</td>\n",
       "      <td>100000.0</td>\n",
       "      <td>2017</td>\n",
       "      <td>5</td>\n",
       "      <td>Tuesday</td>\n",
       "      <td>1809</td>\n",
       "      <td>1</td>\n",
       "    </tr>\n",
       "    <tr>\n",
       "      <th>5</th>\n",
       "      <td>M</td>\n",
       "      <td>68</td>\n",
       "      <td>e2127556f4f64592b11af22de27a7932</td>\n",
       "      <td>2018-04-26</td>\n",
       "      <td>70000.0</td>\n",
       "      <td>2018</td>\n",
       "      <td>4</td>\n",
       "      <td>Thursday</td>\n",
       "      <td>1457</td>\n",
       "      <td>1</td>\n",
       "    </tr>\n",
       "    <tr>\n",
       "      <th>8</th>\n",
       "      <td>M</td>\n",
       "      <td>65</td>\n",
       "      <td>389bc3fa690240e798340f5a15918d5c</td>\n",
       "      <td>2018-02-09</td>\n",
       "      <td>53000.0</td>\n",
       "      <td>2018</td>\n",
       "      <td>2</td>\n",
       "      <td>Friday</td>\n",
       "      <td>1533</td>\n",
       "      <td>1</td>\n",
       "    </tr>\n",
       "    <tr>\n",
       "      <th>12</th>\n",
       "      <td>M</td>\n",
       "      <td>58</td>\n",
       "      <td>2eeac8d8feae4a8cad5a6af0499a211d</td>\n",
       "      <td>2017-11-11</td>\n",
       "      <td>51000.0</td>\n",
       "      <td>2017</td>\n",
       "      <td>11</td>\n",
       "      <td>Saturday</td>\n",
       "      <td>1623</td>\n",
       "      <td>0</td>\n",
       "    </tr>\n",
       "  </tbody>\n",
       "</table>\n",
       "</div>"
      ],
      "text/plain": [
       "   gender  age                                id became_member_on    income  \\\n",
       "1       F   55  0610b486422d4921ae7d2bf64640c50b       2017-07-15  112000.0   \n",
       "3       F   75  78afa995795e4d85b5d9ceeca43f5fef       2017-05-09  100000.0   \n",
       "5       M   68  e2127556f4f64592b11af22de27a7932       2018-04-26   70000.0   \n",
       "8       M   65  389bc3fa690240e798340f5a15918d5c       2018-02-09   53000.0   \n",
       "12      M   58  2eeac8d8feae4a8cad5a6af0499a211d       2017-11-11   51000.0   \n",
       "\n",
       "    year  month       day  membership_days  age_group  \n",
       "1   2017      7  Saturday             1742          0  \n",
       "3   2017      5   Tuesday             1809          1  \n",
       "5   2018      4  Thursday             1457          1  \n",
       "8   2018      2    Friday             1533          1  \n",
       "12  2017     11  Saturday             1623          0  "
      ]
     },
     "execution_count": 18,
     "metadata": {},
     "output_type": "execute_result"
    }
   ],
   "source": [
    "from sklearn.preprocessing import LabelEncoder\n",
    "\n",
    "profile = profile.copy(deep = True)\n",
    "le_age = LabelEncoder()\n",
    "profile['age_group'] = le_age.fit_transform(profile['age_group'])\n",
    "profile.head(5)"
   ]
  },
  {
   "cell_type": "code",
   "execution_count": 19,
   "id": "d3627acd",
   "metadata": {
    "execution": {
     "iopub.execute_input": "2022-04-22T12:11:13.659673Z",
     "iopub.status.busy": "2022-04-22T12:11:13.658962Z",
     "iopub.status.idle": "2022-04-22T12:11:13.667872Z",
     "shell.execute_reply": "2022-04-22T12:11:13.668557Z",
     "shell.execute_reply.started": "2022-04-22T12:07:02.404722Z"
    },
    "papermill": {
     "duration": 0.085196,
     "end_time": "2022-04-22T12:11:13.668772",
     "exception": false,
     "start_time": "2022-04-22T12:11:13.583576",
     "status": "completed"
    },
    "tags": []
   },
   "outputs": [
    {
     "data": {
      "text/plain": [
       "1        more than 1L\n",
       "3              75k-1L\n",
       "5             50k-75k\n",
       "8             50k-75k\n",
       "12            50k-75k\n",
       "             ...     \n",
       "16995         50k-75k\n",
       "16996         50k-75k\n",
       "16997         50k-75k\n",
       "16998         30k-50k\n",
       "16999          75k-1L\n",
       "Name: income_group, Length: 14820, dtype: category\n",
       "Categories (4, object): ['30k-50k' < '50k-75k' < '75k-1L' < 'more than 1L']"
      ]
     },
     "execution_count": 19,
     "metadata": {},
     "output_type": "execute_result"
    }
   ],
   "source": [
    "profile['income_group'] = pd.cut(x=profile['income'], bins=[30000, 50000, 75000, 100000, 120000],\n",
    "                    labels=['30k-50k', '50k-75k','75k-1L',\n",
    "                            'more than 1L'], include_lowest=True)\n",
    "profile['income_group']"
   ]
  },
  {
   "cell_type": "code",
   "execution_count": 20,
   "id": "39fc07ab",
   "metadata": {
    "execution": {
     "iopub.execute_input": "2022-04-22T12:11:13.813117Z",
     "iopub.status.busy": "2022-04-22T12:11:13.812345Z",
     "iopub.status.idle": "2022-04-22T12:11:13.833752Z",
     "shell.execute_reply": "2022-04-22T12:11:13.834265Z",
     "shell.execute_reply.started": "2022-04-22T12:07:02.533726Z"
    },
    "papermill": {
     "duration": 0.095981,
     "end_time": "2022-04-22T12:11:13.834456",
     "exception": false,
     "start_time": "2022-04-22T12:11:13.738475",
     "status": "completed"
    },
    "tags": []
   },
   "outputs": [
    {
     "data": {
      "text/html": [
       "<div>\n",
       "<style scoped>\n",
       "    .dataframe tbody tr th:only-of-type {\n",
       "        vertical-align: middle;\n",
       "    }\n",
       "\n",
       "    .dataframe tbody tr th {\n",
       "        vertical-align: top;\n",
       "    }\n",
       "\n",
       "    .dataframe thead th {\n",
       "        text-align: right;\n",
       "    }\n",
       "</style>\n",
       "<table border=\"1\" class=\"dataframe\">\n",
       "  <thead>\n",
       "    <tr style=\"text-align: right;\">\n",
       "      <th></th>\n",
       "      <th>gender</th>\n",
       "      <th>age</th>\n",
       "      <th>id</th>\n",
       "      <th>became_member_on</th>\n",
       "      <th>income</th>\n",
       "      <th>year</th>\n",
       "      <th>month</th>\n",
       "      <th>day</th>\n",
       "      <th>membership_days</th>\n",
       "      <th>age_group</th>\n",
       "      <th>income_group</th>\n",
       "    </tr>\n",
       "  </thead>\n",
       "  <tbody>\n",
       "    <tr>\n",
       "      <th>1</th>\n",
       "      <td>F</td>\n",
       "      <td>55</td>\n",
       "      <td>0610b486422d4921ae7d2bf64640c50b</td>\n",
       "      <td>2017-07-15</td>\n",
       "      <td>112000.0</td>\n",
       "      <td>2017</td>\n",
       "      <td>7</td>\n",
       "      <td>Saturday</td>\n",
       "      <td>1742</td>\n",
       "      <td>0</td>\n",
       "      <td>3</td>\n",
       "    </tr>\n",
       "    <tr>\n",
       "      <th>3</th>\n",
       "      <td>F</td>\n",
       "      <td>75</td>\n",
       "      <td>78afa995795e4d85b5d9ceeca43f5fef</td>\n",
       "      <td>2017-05-09</td>\n",
       "      <td>100000.0</td>\n",
       "      <td>2017</td>\n",
       "      <td>5</td>\n",
       "      <td>Tuesday</td>\n",
       "      <td>1809</td>\n",
       "      <td>1</td>\n",
       "      <td>2</td>\n",
       "    </tr>\n",
       "    <tr>\n",
       "      <th>5</th>\n",
       "      <td>M</td>\n",
       "      <td>68</td>\n",
       "      <td>e2127556f4f64592b11af22de27a7932</td>\n",
       "      <td>2018-04-26</td>\n",
       "      <td>70000.0</td>\n",
       "      <td>2018</td>\n",
       "      <td>4</td>\n",
       "      <td>Thursday</td>\n",
       "      <td>1457</td>\n",
       "      <td>1</td>\n",
       "      <td>1</td>\n",
       "    </tr>\n",
       "    <tr>\n",
       "      <th>8</th>\n",
       "      <td>M</td>\n",
       "      <td>65</td>\n",
       "      <td>389bc3fa690240e798340f5a15918d5c</td>\n",
       "      <td>2018-02-09</td>\n",
       "      <td>53000.0</td>\n",
       "      <td>2018</td>\n",
       "      <td>2</td>\n",
       "      <td>Friday</td>\n",
       "      <td>1533</td>\n",
       "      <td>1</td>\n",
       "      <td>1</td>\n",
       "    </tr>\n",
       "    <tr>\n",
       "      <th>12</th>\n",
       "      <td>M</td>\n",
       "      <td>58</td>\n",
       "      <td>2eeac8d8feae4a8cad5a6af0499a211d</td>\n",
       "      <td>2017-11-11</td>\n",
       "      <td>51000.0</td>\n",
       "      <td>2017</td>\n",
       "      <td>11</td>\n",
       "      <td>Saturday</td>\n",
       "      <td>1623</td>\n",
       "      <td>0</td>\n",
       "      <td>1</td>\n",
       "    </tr>\n",
       "  </tbody>\n",
       "</table>\n",
       "</div>"
      ],
      "text/plain": [
       "   gender  age                                id became_member_on    income  \\\n",
       "1       F   55  0610b486422d4921ae7d2bf64640c50b       2017-07-15  112000.0   \n",
       "3       F   75  78afa995795e4d85b5d9ceeca43f5fef       2017-05-09  100000.0   \n",
       "5       M   68  e2127556f4f64592b11af22de27a7932       2018-04-26   70000.0   \n",
       "8       M   65  389bc3fa690240e798340f5a15918d5c       2018-02-09   53000.0   \n",
       "12      M   58  2eeac8d8feae4a8cad5a6af0499a211d       2017-11-11   51000.0   \n",
       "\n",
       "    year  month       day  membership_days  age_group  income_group  \n",
       "1   2017      7  Saturday             1742          0             3  \n",
       "3   2017      5   Tuesday             1809          1             2  \n",
       "5   2018      4  Thursday             1457          1             1  \n",
       "8   2018      2    Friday             1533          1             1  \n",
       "12  2017     11  Saturday             1623          0             1  "
      ]
     },
     "execution_count": 20,
     "metadata": {},
     "output_type": "execute_result"
    }
   ],
   "source": [
    "from sklearn.preprocessing import LabelEncoder\n",
    "\n",
    "profile = profile.copy(deep = True)\n",
    "le_in = LabelEncoder()\n",
    "profile['income_group'] = le_in.fit_transform(profile['income_group'])\n",
    "profile.head(5)"
   ]
  },
  {
   "cell_type": "code",
   "execution_count": 21,
   "id": "c9966397",
   "metadata": {
    "execution": {
     "iopub.execute_input": "2022-04-22T12:11:13.980833Z",
     "iopub.status.busy": "2022-04-22T12:11:13.978289Z",
     "iopub.status.idle": "2022-04-22T12:11:13.986760Z",
     "shell.execute_reply": "2022-04-22T12:11:13.986012Z",
     "shell.execute_reply.started": "2022-04-22T12:07:02.890338Z"
    },
    "papermill": {
     "duration": 0.082058,
     "end_time": "2022-04-22T12:11:13.986910",
     "exception": false,
     "start_time": "2022-04-22T12:11:13.904852",
     "status": "completed"
    },
    "tags": []
   },
   "outputs": [],
   "source": [
    "profile = profile.drop(['age','income'], axis=1)"
   ]
  },
  {
   "cell_type": "code",
   "execution_count": 22,
   "id": "5e5ee4a9",
   "metadata": {
    "execution": {
     "iopub.execute_input": "2022-04-22T12:11:14.133320Z",
     "iopub.status.busy": "2022-04-22T12:11:14.132641Z",
     "iopub.status.idle": "2022-04-22T12:11:14.150287Z",
     "shell.execute_reply": "2022-04-22T12:11:14.149644Z",
     "shell.execute_reply.started": "2022-04-22T12:07:03.182780Z"
    },
    "papermill": {
     "duration": 0.093227,
     "end_time": "2022-04-22T12:11:14.150426",
     "exception": false,
     "start_time": "2022-04-22T12:11:14.057199",
     "status": "completed"
    },
    "tags": []
   },
   "outputs": [
    {
     "data": {
      "text/plain": [
       "0           0-100 days\n",
       "1           0-100 days\n",
       "2           0-100 days\n",
       "3           0-100 days\n",
       "4           0-100 days\n",
       "              ...     \n",
       "306529    700-800 days\n",
       "306530    700-800 days\n",
       "306531    700-800 days\n",
       "306532    700-800 days\n",
       "306533    700-800 days\n",
       "Name: time_group, Length: 306534, dtype: category\n",
       "Categories (8, object): ['0-100 days' < '100-200 days' < '200-300 days' < '300-400 days' < '400-500 days' < '500-600 days' < '600-700 days' < '700-800 days']"
      ]
     },
     "execution_count": 22,
     "metadata": {},
     "output_type": "execute_result"
    }
   ],
   "source": [
    "transcript['time_group'] = pd.cut(x=transcript['time'], bins=[0, 100, 200, 300, 400, 500,600,700,800], include_lowest=True,\n",
    "                    labels=['0-100 days', '100-200 days', '200-300 days', '300-400 days', '400-500 days', '500-600 days', '600-700 days', '700-800 days'])\n",
    "transcript['time_group'] "
   ]
  },
  {
   "cell_type": "code",
   "execution_count": 23,
   "id": "d1a48401",
   "metadata": {
    "execution": {
     "iopub.execute_input": "2022-04-22T12:11:14.295731Z",
     "iopub.status.busy": "2022-04-22T12:11:14.294992Z",
     "iopub.status.idle": "2022-04-22T12:11:14.423954Z",
     "shell.execute_reply": "2022-04-22T12:11:14.423114Z",
     "shell.execute_reply.started": "2022-04-22T12:07:03.613696Z"
    },
    "papermill": {
     "duration": 0.204139,
     "end_time": "2022-04-22T12:11:14.424170",
     "exception": false,
     "start_time": "2022-04-22T12:11:14.220031",
     "status": "completed"
    },
    "tags": []
   },
   "outputs": [
    {
     "data": {
      "text/html": [
       "<div>\n",
       "<style scoped>\n",
       "    .dataframe tbody tr th:only-of-type {\n",
       "        vertical-align: middle;\n",
       "    }\n",
       "\n",
       "    .dataframe tbody tr th {\n",
       "        vertical-align: top;\n",
       "    }\n",
       "\n",
       "    .dataframe thead th {\n",
       "        text-align: right;\n",
       "    }\n",
       "</style>\n",
       "<table border=\"1\" class=\"dataframe\">\n",
       "  <thead>\n",
       "    <tr style=\"text-align: right;\">\n",
       "      <th></th>\n",
       "      <th>person</th>\n",
       "      <th>event</th>\n",
       "      <th>value</th>\n",
       "      <th>time</th>\n",
       "      <th>time_group</th>\n",
       "    </tr>\n",
       "  </thead>\n",
       "  <tbody>\n",
       "    <tr>\n",
       "      <th>0</th>\n",
       "      <td>78afa995795e4d85b5d9ceeca43f5fef</td>\n",
       "      <td>offer received</td>\n",
       "      <td>{'offer id': '9b98b8c7a33c4b65b9aebfe6a799e6d9'}</td>\n",
       "      <td>0</td>\n",
       "      <td>0</td>\n",
       "    </tr>\n",
       "    <tr>\n",
       "      <th>1</th>\n",
       "      <td>a03223e636434f42ac4c3df47e8bac43</td>\n",
       "      <td>offer received</td>\n",
       "      <td>{'offer id': '0b1e1539f2cc45b7b9fa7c272da2e1d7'}</td>\n",
       "      <td>0</td>\n",
       "      <td>0</td>\n",
       "    </tr>\n",
       "    <tr>\n",
       "      <th>2</th>\n",
       "      <td>e2127556f4f64592b11af22de27a7932</td>\n",
       "      <td>offer received</td>\n",
       "      <td>{'offer id': '2906b810c7d4411798c6938adc9daaa5'}</td>\n",
       "      <td>0</td>\n",
       "      <td>0</td>\n",
       "    </tr>\n",
       "    <tr>\n",
       "      <th>3</th>\n",
       "      <td>8ec6ce2a7e7949b1bf142def7d0e0586</td>\n",
       "      <td>offer received</td>\n",
       "      <td>{'offer id': 'fafdcd668e3743c1bb461111dcafc2a4'}</td>\n",
       "      <td>0</td>\n",
       "      <td>0</td>\n",
       "    </tr>\n",
       "    <tr>\n",
       "      <th>4</th>\n",
       "      <td>68617ca6246f4fbc85e91a2a49552598</td>\n",
       "      <td>offer received</td>\n",
       "      <td>{'offer id': '4d5c57ea9a6940dd891ad53e9dbe8da0'}</td>\n",
       "      <td>0</td>\n",
       "      <td>0</td>\n",
       "    </tr>\n",
       "    <tr>\n",
       "      <th>...</th>\n",
       "      <td>...</td>\n",
       "      <td>...</td>\n",
       "      <td>...</td>\n",
       "      <td>...</td>\n",
       "      <td>...</td>\n",
       "    </tr>\n",
       "    <tr>\n",
       "      <th>306529</th>\n",
       "      <td>b3a1272bc9904337b331bf348c3e8c17</td>\n",
       "      <td>transaction</td>\n",
       "      <td>{'amount': 1.5899999999999999}</td>\n",
       "      <td>714</td>\n",
       "      <td>7</td>\n",
       "    </tr>\n",
       "    <tr>\n",
       "      <th>306530</th>\n",
       "      <td>68213b08d99a4ae1b0dcb72aebd9aa35</td>\n",
       "      <td>transaction</td>\n",
       "      <td>{'amount': 9.53}</td>\n",
       "      <td>714</td>\n",
       "      <td>7</td>\n",
       "    </tr>\n",
       "    <tr>\n",
       "      <th>306531</th>\n",
       "      <td>a00058cf10334a308c68e7631c529907</td>\n",
       "      <td>transaction</td>\n",
       "      <td>{'amount': 3.61}</td>\n",
       "      <td>714</td>\n",
       "      <td>7</td>\n",
       "    </tr>\n",
       "    <tr>\n",
       "      <th>306532</th>\n",
       "      <td>76ddbd6576844afe811f1a3c0fbb5bec</td>\n",
       "      <td>transaction</td>\n",
       "      <td>{'amount': 3.5300000000000002}</td>\n",
       "      <td>714</td>\n",
       "      <td>7</td>\n",
       "    </tr>\n",
       "    <tr>\n",
       "      <th>306533</th>\n",
       "      <td>c02b10e8752c4d8e9b73f918558531f7</td>\n",
       "      <td>transaction</td>\n",
       "      <td>{'amount': 4.05}</td>\n",
       "      <td>714</td>\n",
       "      <td>7</td>\n",
       "    </tr>\n",
       "  </tbody>\n",
       "</table>\n",
       "<p>306534 rows × 5 columns</p>\n",
       "</div>"
      ],
      "text/plain": [
       "                                  person           event  \\\n",
       "0       78afa995795e4d85b5d9ceeca43f5fef  offer received   \n",
       "1       a03223e636434f42ac4c3df47e8bac43  offer received   \n",
       "2       e2127556f4f64592b11af22de27a7932  offer received   \n",
       "3       8ec6ce2a7e7949b1bf142def7d0e0586  offer received   \n",
       "4       68617ca6246f4fbc85e91a2a49552598  offer received   \n",
       "...                                  ...             ...   \n",
       "306529  b3a1272bc9904337b331bf348c3e8c17     transaction   \n",
       "306530  68213b08d99a4ae1b0dcb72aebd9aa35     transaction   \n",
       "306531  a00058cf10334a308c68e7631c529907     transaction   \n",
       "306532  76ddbd6576844afe811f1a3c0fbb5bec     transaction   \n",
       "306533  c02b10e8752c4d8e9b73f918558531f7     transaction   \n",
       "\n",
       "                                                   value  time  time_group  \n",
       "0       {'offer id': '9b98b8c7a33c4b65b9aebfe6a799e6d9'}     0           0  \n",
       "1       {'offer id': '0b1e1539f2cc45b7b9fa7c272da2e1d7'}     0           0  \n",
       "2       {'offer id': '2906b810c7d4411798c6938adc9daaa5'}     0           0  \n",
       "3       {'offer id': 'fafdcd668e3743c1bb461111dcafc2a4'}     0           0  \n",
       "4       {'offer id': '4d5c57ea9a6940dd891ad53e9dbe8da0'}     0           0  \n",
       "...                                                  ...   ...         ...  \n",
       "306529                    {'amount': 1.5899999999999999}   714           7  \n",
       "306530                                  {'amount': 9.53}   714           7  \n",
       "306531                                  {'amount': 3.61}   714           7  \n",
       "306532                    {'amount': 3.5300000000000002}   714           7  \n",
       "306533                                  {'amount': 4.05}   714           7  \n",
       "\n",
       "[306534 rows x 5 columns]"
      ]
     },
     "execution_count": 23,
     "metadata": {},
     "output_type": "execute_result"
    }
   ],
   "source": [
    "from sklearn.preprocessing import LabelEncoder\n",
    "\n",
    "transcript = transcript.copy(deep = True)\n",
    "le_id = LabelEncoder()\n",
    "transcript['time_group'] = le_id.fit_transform(transcript['time_group'])\n",
    "transcript.head(5)\n",
    "transcript"
   ]
  },
  {
   "cell_type": "code",
   "execution_count": 24,
   "id": "a813ad91",
   "metadata": {
    "execution": {
     "iopub.execute_input": "2022-04-22T12:11:14.582784Z",
     "iopub.status.busy": "2022-04-22T12:11:14.582072Z",
     "iopub.status.idle": "2022-04-22T12:11:14.598026Z",
     "shell.execute_reply": "2022-04-22T12:11:14.597416Z",
     "shell.execute_reply.started": "2022-04-22T12:07:04.320573Z"
    },
    "papermill": {
     "duration": 0.092567,
     "end_time": "2022-04-22T12:11:14.598185",
     "exception": false,
     "start_time": "2022-04-22T12:11:14.505618",
     "status": "completed"
    },
    "tags": []
   },
   "outputs": [],
   "source": [
    "transcript = transcript.drop(['time'], axis=1)"
   ]
  },
  {
   "cell_type": "code",
   "execution_count": 25,
   "id": "cd21453a",
   "metadata": {
    "execution": {
     "iopub.execute_input": "2022-04-22T12:11:14.747263Z",
     "iopub.status.busy": "2022-04-22T12:11:14.746537Z",
     "iopub.status.idle": "2022-04-22T12:11:14.749173Z",
     "shell.execute_reply": "2022-04-22T12:11:14.749652Z",
     "shell.execute_reply.started": "2022-04-22T12:07:04.337859Z"
    },
    "papermill": {
     "duration": 0.080302,
     "end_time": "2022-04-22T12:11:14.749878",
     "exception": false,
     "start_time": "2022-04-22T12:11:14.669576",
     "status": "completed"
    },
    "tags": []
   },
   "outputs": [],
   "source": [
    "transcript.rename(columns={'person':'id'}, inplace=True)"
   ]
  },
  {
   "cell_type": "code",
   "execution_count": 26,
   "id": "e93b49be",
   "metadata": {
    "execution": {
     "iopub.execute_input": "2022-04-22T12:11:14.910878Z",
     "iopub.status.busy": "2022-04-22T12:11:14.897792Z",
     "iopub.status.idle": "2022-04-22T12:11:15.153688Z",
     "shell.execute_reply": "2022-04-22T12:11:15.152943Z",
     "shell.execute_reply.started": "2022-04-22T12:07:04.651213Z"
    },
    "papermill": {
     "duration": 0.332506,
     "end_time": "2022-04-22T12:11:15.153877",
     "exception": false,
     "start_time": "2022-04-22T12:11:14.821371",
     "status": "completed"
    },
    "tags": []
   },
   "outputs": [
    {
     "data": {
      "text/html": [
       "<div>\n",
       "<style scoped>\n",
       "    .dataframe tbody tr th:only-of-type {\n",
       "        vertical-align: middle;\n",
       "    }\n",
       "\n",
       "    .dataframe tbody tr th {\n",
       "        vertical-align: top;\n",
       "    }\n",
       "\n",
       "    .dataframe thead th {\n",
       "        text-align: right;\n",
       "    }\n",
       "</style>\n",
       "<table border=\"1\" class=\"dataframe\">\n",
       "  <thead>\n",
       "    <tr style=\"text-align: right;\">\n",
       "      <th></th>\n",
       "      <th>gender</th>\n",
       "      <th>id</th>\n",
       "      <th>year</th>\n",
       "      <th>month</th>\n",
       "      <th>day</th>\n",
       "      <th>membership_days</th>\n",
       "      <th>age_group</th>\n",
       "      <th>income_group</th>\n",
       "      <th>event</th>\n",
       "      <th>value</th>\n",
       "      <th>time_group</th>\n",
       "    </tr>\n",
       "  </thead>\n",
       "  <tbody>\n",
       "    <tr>\n",
       "      <th>0</th>\n",
       "      <td>F</td>\n",
       "      <td>0610b486422d4921ae7d2bf64640c50b</td>\n",
       "      <td>2017</td>\n",
       "      <td>7</td>\n",
       "      <td>Saturday</td>\n",
       "      <td>1742</td>\n",
       "      <td>0</td>\n",
       "      <td>3</td>\n",
       "      <td>transaction</td>\n",
       "      <td>{'amount': 21.51}</td>\n",
       "      <td>0</td>\n",
       "    </tr>\n",
       "    <tr>\n",
       "      <th>1</th>\n",
       "      <td>F</td>\n",
       "      <td>0610b486422d4921ae7d2bf64640c50b</td>\n",
       "      <td>2017</td>\n",
       "      <td>7</td>\n",
       "      <td>Saturday</td>\n",
       "      <td>1742</td>\n",
       "      <td>0</td>\n",
       "      <td>3</td>\n",
       "      <td>transaction</td>\n",
       "      <td>{'amount': 32.28}</td>\n",
       "      <td>1</td>\n",
       "    </tr>\n",
       "    <tr>\n",
       "      <th>2</th>\n",
       "      <td>F</td>\n",
       "      <td>0610b486422d4921ae7d2bf64640c50b</td>\n",
       "      <td>2017</td>\n",
       "      <td>7</td>\n",
       "      <td>Saturday</td>\n",
       "      <td>1742</td>\n",
       "      <td>0</td>\n",
       "      <td>3</td>\n",
       "      <td>offer received</td>\n",
       "      <td>{'offer id': '9b98b8c7a33c4b65b9aebfe6a799e6d9'}</td>\n",
       "      <td>4</td>\n",
       "    </tr>\n",
       "    <tr>\n",
       "      <th>3</th>\n",
       "      <td>F</td>\n",
       "      <td>0610b486422d4921ae7d2bf64640c50b</td>\n",
       "      <td>2017</td>\n",
       "      <td>7</td>\n",
       "      <td>Saturday</td>\n",
       "      <td>1742</td>\n",
       "      <td>0</td>\n",
       "      <td>3</td>\n",
       "      <td>offer received</td>\n",
       "      <td>{'offer id': '3f207df678b143eea3cee63160fa8bed'}</td>\n",
       "      <td>5</td>\n",
       "    </tr>\n",
       "    <tr>\n",
       "      <th>4</th>\n",
       "      <td>F</td>\n",
       "      <td>0610b486422d4921ae7d2bf64640c50b</td>\n",
       "      <td>2017</td>\n",
       "      <td>7</td>\n",
       "      <td>Saturday</td>\n",
       "      <td>1742</td>\n",
       "      <td>0</td>\n",
       "      <td>3</td>\n",
       "      <td>transaction</td>\n",
       "      <td>{'amount': 23.22}</td>\n",
       "      <td>5</td>\n",
       "    </tr>\n",
       "    <tr>\n",
       "      <th>...</th>\n",
       "      <td>...</td>\n",
       "      <td>...</td>\n",
       "      <td>...</td>\n",
       "      <td>...</td>\n",
       "      <td>...</td>\n",
       "      <td>...</td>\n",
       "      <td>...</td>\n",
       "      <td>...</td>\n",
       "      <td>...</td>\n",
       "      <td>...</td>\n",
       "      <td>...</td>\n",
       "    </tr>\n",
       "    <tr>\n",
       "      <th>272659</th>\n",
       "      <td>F</td>\n",
       "      <td>e4052622e5ba45a8b96b59aba68cf068</td>\n",
       "      <td>2017</td>\n",
       "      <td>7</td>\n",
       "      <td>Saturday</td>\n",
       "      <td>1735</td>\n",
       "      <td>1</td>\n",
       "      <td>2</td>\n",
       "      <td>offer completed</td>\n",
       "      <td>{'offer_id': 'f19421c1d4aa40978ebb69ca19b0e20d...</td>\n",
       "      <td>4</td>\n",
       "    </tr>\n",
       "    <tr>\n",
       "      <th>272660</th>\n",
       "      <td>F</td>\n",
       "      <td>e4052622e5ba45a8b96b59aba68cf068</td>\n",
       "      <td>2017</td>\n",
       "      <td>7</td>\n",
       "      <td>Saturday</td>\n",
       "      <td>1735</td>\n",
       "      <td>1</td>\n",
       "      <td>2</td>\n",
       "      <td>transaction</td>\n",
       "      <td>{'amount': 19.47}</td>\n",
       "      <td>4</td>\n",
       "    </tr>\n",
       "    <tr>\n",
       "      <th>272661</th>\n",
       "      <td>F</td>\n",
       "      <td>e4052622e5ba45a8b96b59aba68cf068</td>\n",
       "      <td>2017</td>\n",
       "      <td>7</td>\n",
       "      <td>Saturday</td>\n",
       "      <td>1735</td>\n",
       "      <td>1</td>\n",
       "      <td>2</td>\n",
       "      <td>offer viewed</td>\n",
       "      <td>{'offer id': 'f19421c1d4aa40978ebb69ca19b0e20d'}</td>\n",
       "      <td>5</td>\n",
       "    </tr>\n",
       "    <tr>\n",
       "      <th>272662</th>\n",
       "      <td>F</td>\n",
       "      <td>e4052622e5ba45a8b96b59aba68cf068</td>\n",
       "      <td>2017</td>\n",
       "      <td>7</td>\n",
       "      <td>Saturday</td>\n",
       "      <td>1735</td>\n",
       "      <td>1</td>\n",
       "      <td>2</td>\n",
       "      <td>offer received</td>\n",
       "      <td>{'offer id': '3f207df678b143eea3cee63160fa8bed'}</td>\n",
       "      <td>5</td>\n",
       "    </tr>\n",
       "    <tr>\n",
       "      <th>272663</th>\n",
       "      <td>F</td>\n",
       "      <td>e4052622e5ba45a8b96b59aba68cf068</td>\n",
       "      <td>2017</td>\n",
       "      <td>7</td>\n",
       "      <td>Saturday</td>\n",
       "      <td>1735</td>\n",
       "      <td>1</td>\n",
       "      <td>2</td>\n",
       "      <td>transaction</td>\n",
       "      <td>{'amount': 24.71}</td>\n",
       "      <td>6</td>\n",
       "    </tr>\n",
       "  </tbody>\n",
       "</table>\n",
       "<p>272664 rows × 11 columns</p>\n",
       "</div>"
      ],
      "text/plain": [
       "       gender                                id  year  month       day  \\\n",
       "0           F  0610b486422d4921ae7d2bf64640c50b  2017      7  Saturday   \n",
       "1           F  0610b486422d4921ae7d2bf64640c50b  2017      7  Saturday   \n",
       "2           F  0610b486422d4921ae7d2bf64640c50b  2017      7  Saturday   \n",
       "3           F  0610b486422d4921ae7d2bf64640c50b  2017      7  Saturday   \n",
       "4           F  0610b486422d4921ae7d2bf64640c50b  2017      7  Saturday   \n",
       "...       ...                               ...   ...    ...       ...   \n",
       "272659      F  e4052622e5ba45a8b96b59aba68cf068  2017      7  Saturday   \n",
       "272660      F  e4052622e5ba45a8b96b59aba68cf068  2017      7  Saturday   \n",
       "272661      F  e4052622e5ba45a8b96b59aba68cf068  2017      7  Saturday   \n",
       "272662      F  e4052622e5ba45a8b96b59aba68cf068  2017      7  Saturday   \n",
       "272663      F  e4052622e5ba45a8b96b59aba68cf068  2017      7  Saturday   \n",
       "\n",
       "        membership_days  age_group  income_group            event  \\\n",
       "0                  1742          0             3      transaction   \n",
       "1                  1742          0             3      transaction   \n",
       "2                  1742          0             3   offer received   \n",
       "3                  1742          0             3   offer received   \n",
       "4                  1742          0             3      transaction   \n",
       "...                 ...        ...           ...              ...   \n",
       "272659             1735          1             2  offer completed   \n",
       "272660             1735          1             2      transaction   \n",
       "272661             1735          1             2     offer viewed   \n",
       "272662             1735          1             2   offer received   \n",
       "272663             1735          1             2      transaction   \n",
       "\n",
       "                                                    value  time_group  \n",
       "0                                       {'amount': 21.51}           0  \n",
       "1                                       {'amount': 32.28}           1  \n",
       "2        {'offer id': '9b98b8c7a33c4b65b9aebfe6a799e6d9'}           4  \n",
       "3        {'offer id': '3f207df678b143eea3cee63160fa8bed'}           5  \n",
       "4                                       {'amount': 23.22}           5  \n",
       "...                                                   ...         ...  \n",
       "272659  {'offer_id': 'f19421c1d4aa40978ebb69ca19b0e20d...           4  \n",
       "272660                                  {'amount': 19.47}           4  \n",
       "272661   {'offer id': 'f19421c1d4aa40978ebb69ca19b0e20d'}           5  \n",
       "272662   {'offer id': '3f207df678b143eea3cee63160fa8bed'}           5  \n",
       "272663                                  {'amount': 24.71}           6  \n",
       "\n",
       "[272664 rows x 11 columns]"
      ]
     },
     "execution_count": 26,
     "metadata": {},
     "output_type": "execute_result"
    }
   ],
   "source": [
    "df = pd.merge(profile, transcript, on='id')\n",
    "df = df.drop(['became_member_on'], axis=1)\n",
    "df"
   ]
  },
  {
   "cell_type": "code",
   "execution_count": 27,
   "id": "8087c924",
   "metadata": {
    "execution": {
     "iopub.execute_input": "2022-04-22T12:11:15.310164Z",
     "iopub.status.busy": "2022-04-22T12:11:15.309059Z",
     "iopub.status.idle": "2022-04-22T12:11:15.312027Z",
     "shell.execute_reply": "2022-04-22T12:11:15.311444Z",
     "shell.execute_reply.started": "2022-04-22T12:07:05.178249Z"
    },
    "papermill": {
     "duration": 0.085947,
     "end_time": "2022-04-22T12:11:15.312188",
     "exception": false,
     "start_time": "2022-04-22T12:11:15.226241",
     "status": "completed"
    },
    "tags": []
   },
   "outputs": [],
   "source": [
    "#map the offer_id from df with id in portfolio\n",
    "\n",
    "#create dict such that offers['offer_id']= offerName_difficulty_duration\n",
    "offers=dict()\n",
    "for offer, i, diff, dur in portfolio[['offer_type', 'id', 'difficulty', 'duration']].values:\n",
    "    offers[i]= f'{offer}_{diff}_{dur}'\n",
    "\n",
    "\n",
    "def value_col(col):\n",
    "    \"\"\"\n",
    "    extract offer_id from value column and mapped it to the offer name\n",
    "    \n",
    "    input- value column\n",
    "    \n",
    "    output-  mapped offer names\n",
    "    \"\"\"\n",
    "    value_type= col.split(':')[0].replace(\"'\", \"\").replace('{', \"\")\n",
    "    \n",
    "    if value_type == 'offer id':\n",
    "        value= col.split(':')[1].replace(\"'\", \"\").replace('}', \"\").strip()\n",
    "        return offers[value]\n",
    "    elif value_type == 'offer_id':\n",
    "        value= col.split(':')[1].split(',')[0].replace(\"'\", \"\").strip()\n",
    "        return offers[value]\n",
    "    else:\n",
    "        return 'None'"
   ]
  },
  {
   "cell_type": "code",
   "execution_count": 28,
   "id": "9fec6dec",
   "metadata": {
    "execution": {
     "iopub.execute_input": "2022-04-22T12:11:15.461270Z",
     "iopub.status.busy": "2022-04-22T12:11:15.460225Z",
     "iopub.status.idle": "2022-04-22T12:11:15.896729Z",
     "shell.execute_reply": "2022-04-22T12:11:15.895973Z",
     "shell.execute_reply.started": "2022-04-22T12:07:05.463608Z"
    },
    "papermill": {
     "duration": 0.513242,
     "end_time": "2022-04-22T12:11:15.896879",
     "exception": false,
     "start_time": "2022-04-22T12:11:15.383637",
     "status": "completed"
    },
    "tags": []
   },
   "outputs": [],
   "source": [
    "#get offer names\n",
    "df['offer']= df['value'].apply(value_col)"
   ]
  },
  {
   "cell_type": "code",
   "execution_count": 29,
   "id": "19494ffc",
   "metadata": {
    "execution": {
     "iopub.execute_input": "2022-04-22T12:11:16.044860Z",
     "iopub.status.busy": "2022-04-22T12:11:16.044121Z",
     "iopub.status.idle": "2022-04-22T12:11:16.050770Z",
     "shell.execute_reply": "2022-04-22T12:11:16.051260Z",
     "shell.execute_reply.started": "2022-04-22T12:07:06.273600Z"
    },
    "papermill": {
     "duration": 0.082886,
     "end_time": "2022-04-22T12:11:16.051441",
     "exception": false,
     "start_time": "2022-04-22T12:11:15.968555",
     "status": "completed"
    },
    "tags": []
   },
   "outputs": [],
   "source": [
    "def value_col_id(col):\n",
    "    \"\"\"\n",
    "    extract offer_id from value column\n",
    "    \n",
    "    input- value column\n",
    "    \n",
    "    output- offer_ids\n",
    "    \"\"\"\n",
    "    value_type= col.split(':')[0].replace(\"'\", \"\").replace('{', \"\")\n",
    "    \n",
    "    if value_type == 'offer id':\n",
    "        value= col.split(':')[1].replace(\"'\", \"\").replace('}', \"\").strip()\n",
    "        return value\n",
    "    elif value_type == 'offer_id':\n",
    "        value= col.split(':')[1].split(',')[0].replace(\"'\", \"\").strip()\n",
    "        return value\n",
    "    else:\n",
    "        return 'None'"
   ]
  },
  {
   "cell_type": "code",
   "execution_count": 30,
   "id": "12ef5b26",
   "metadata": {
    "execution": {
     "iopub.execute_input": "2022-04-22T12:11:16.200002Z",
     "iopub.status.busy": "2022-04-22T12:11:16.199275Z",
     "iopub.status.idle": "2022-04-22T12:11:16.627886Z",
     "shell.execute_reply": "2022-04-22T12:11:16.628377Z",
     "shell.execute_reply.started": "2022-04-22T12:07:06.283238Z"
    },
    "papermill": {
     "duration": 0.503947,
     "end_time": "2022-04-22T12:11:16.628562",
     "exception": false,
     "start_time": "2022-04-22T12:11:16.124615",
     "status": "completed"
    },
    "tags": []
   },
   "outputs": [],
   "source": [
    "#get offer ids\n",
    "df['offer_id']= df['value'].apply(value_col_id)"
   ]
  },
  {
   "cell_type": "code",
   "execution_count": 31,
   "id": "b1a3a70d",
   "metadata": {
    "execution": {
     "iopub.execute_input": "2022-04-22T12:11:16.777185Z",
     "iopub.status.busy": "2022-04-22T12:11:16.776479Z",
     "iopub.status.idle": "2022-04-22T12:11:16.781832Z",
     "shell.execute_reply": "2022-04-22T12:11:16.782337Z",
     "shell.execute_reply.started": "2022-04-22T12:07:06.714289Z"
    },
    "papermill": {
     "duration": 0.081683,
     "end_time": "2022-04-22T12:11:16.782517",
     "exception": false,
     "start_time": "2022-04-22T12:11:16.700834",
     "status": "completed"
    },
    "tags": []
   },
   "outputs": [],
   "source": [
    "def value_col_trans(col):\n",
    "    \"\"\"\n",
    "    get transaction amount from value column\n",
    "    \n",
    "    input- value column\n",
    "    \n",
    "    output- transaction amount\n",
    "    \"\"\"\n",
    "    value_type= col.split(':')[0].replace(\"'\", \"\").replace('{', \"\")\n",
    "    \n",
    "    if value_type == 'amount':\n",
    "        value= col.split(':')[1].replace(\"'\", \"\").replace('}', \"\").strip()\n",
    "        return np.round(float(value), 2)\n",
    "    else:\n",
    "        return np.nan"
   ]
  },
  {
   "cell_type": "markdown",
   "id": "b09f8317",
   "metadata": {
    "papermill": {
     "duration": 0.070306,
     "end_time": "2022-04-22T12:11:16.924551",
     "exception": false,
     "start_time": "2022-04-22T12:11:16.854245",
     "status": "completed"
    },
    "tags": []
   },
   "source": []
  },
  {
   "cell_type": "code",
   "execution_count": 32,
   "id": "c8953999",
   "metadata": {
    "execution": {
     "iopub.execute_input": "2022-04-22T12:11:17.073483Z",
     "iopub.status.busy": "2022-04-22T12:11:17.072799Z",
     "iopub.status.idle": "2022-04-22T12:11:19.136003Z",
     "shell.execute_reply": "2022-04-22T12:11:19.135395Z",
     "shell.execute_reply.started": "2022-04-22T12:07:07.411825Z"
    },
    "papermill": {
     "duration": 2.139766,
     "end_time": "2022-04-22T12:11:19.136163",
     "exception": false,
     "start_time": "2022-04-22T12:11:16.996397",
     "status": "completed"
    },
    "tags": []
   },
   "outputs": [],
   "source": [
    "#get transaction amount\n",
    "df['amount']= df['value'].apply(value_col_trans)"
   ]
  },
  {
   "cell_type": "code",
   "execution_count": 33,
   "id": "1b373fe6",
   "metadata": {
    "execution": {
     "iopub.execute_input": "2022-04-22T12:11:19.284141Z",
     "iopub.status.busy": "2022-04-22T12:11:19.283456Z",
     "iopub.status.idle": "2022-04-22T12:11:19.367033Z",
     "shell.execute_reply": "2022-04-22T12:11:19.367527Z",
     "shell.execute_reply.started": "2022-04-22T12:07:09.501370Z"
    },
    "papermill": {
     "duration": 0.158547,
     "end_time": "2022-04-22T12:11:19.367740",
     "exception": false,
     "start_time": "2022-04-22T12:11:19.209193",
     "status": "completed"
    },
    "tags": []
   },
   "outputs": [],
   "source": [
    "df = df.drop(['value'], axis=1)"
   ]
  },
  {
   "cell_type": "code",
   "execution_count": 34,
   "id": "26803c3f",
   "metadata": {
    "execution": {
     "iopub.execute_input": "2022-04-22T12:11:19.546960Z",
     "iopub.status.busy": "2022-04-22T12:11:19.546243Z",
     "iopub.status.idle": "2022-04-22T12:11:20.085722Z",
     "shell.execute_reply": "2022-04-22T12:11:20.085022Z",
     "shell.execute_reply.started": "2022-04-22T12:07:09.570908Z"
    },
    "papermill": {
     "duration": 0.645711,
     "end_time": "2022-04-22T12:11:20.085867",
     "exception": false,
     "start_time": "2022-04-22T12:11:19.440156",
     "status": "completed"
    },
    "tags": []
   },
   "outputs": [
    {
     "data": {
      "text/html": [
       "<div>\n",
       "<style scoped>\n",
       "    .dataframe tbody tr th:only-of-type {\n",
       "        vertical-align: middle;\n",
       "    }\n",
       "\n",
       "    .dataframe tbody tr th {\n",
       "        vertical-align: top;\n",
       "    }\n",
       "\n",
       "    .dataframe thead th {\n",
       "        text-align: right;\n",
       "    }\n",
       "</style>\n",
       "<table border=\"1\" class=\"dataframe\">\n",
       "  <thead>\n",
       "    <tr style=\"text-align: right;\">\n",
       "      <th></th>\n",
       "      <th>gender</th>\n",
       "      <th>id</th>\n",
       "      <th>year</th>\n",
       "      <th>month</th>\n",
       "      <th>day</th>\n",
       "      <th>membership_days</th>\n",
       "      <th>age_group</th>\n",
       "      <th>income_group</th>\n",
       "      <th>event</th>\n",
       "      <th>time_group</th>\n",
       "      <th>offer</th>\n",
       "      <th>offer_id</th>\n",
       "      <th>amount</th>\n",
       "    </tr>\n",
       "  </thead>\n",
       "  <tbody>\n",
       "    <tr>\n",
       "      <th>0</th>\n",
       "      <td>F</td>\n",
       "      <td>0610b486422d4921ae7d2bf64640c50b</td>\n",
       "      <td>2017</td>\n",
       "      <td>7</td>\n",
       "      <td>Saturday</td>\n",
       "      <td>1742</td>\n",
       "      <td>0</td>\n",
       "      <td>3</td>\n",
       "      <td>transaction</td>\n",
       "      <td>0</td>\n",
       "      <td>None</td>\n",
       "      <td>None</td>\n",
       "      <td>21.51</td>\n",
       "    </tr>\n",
       "    <tr>\n",
       "      <th>1</th>\n",
       "      <td>F</td>\n",
       "      <td>0610b486422d4921ae7d2bf64640c50b</td>\n",
       "      <td>2017</td>\n",
       "      <td>7</td>\n",
       "      <td>Saturday</td>\n",
       "      <td>1742</td>\n",
       "      <td>0</td>\n",
       "      <td>3</td>\n",
       "      <td>transaction</td>\n",
       "      <td>1</td>\n",
       "      <td>None</td>\n",
       "      <td>None</td>\n",
       "      <td>32.28</td>\n",
       "    </tr>\n",
       "    <tr>\n",
       "      <th>2</th>\n",
       "      <td>F</td>\n",
       "      <td>0610b486422d4921ae7d2bf64640c50b</td>\n",
       "      <td>2017</td>\n",
       "      <td>7</td>\n",
       "      <td>Saturday</td>\n",
       "      <td>1742</td>\n",
       "      <td>0</td>\n",
       "      <td>3</td>\n",
       "      <td>offer received</td>\n",
       "      <td>4</td>\n",
       "      <td>bogo</td>\n",
       "      <td>9b98b8c7a33c4b65b9aebfe6a799e6d9</td>\n",
       "      <td>NaN</td>\n",
       "    </tr>\n",
       "    <tr>\n",
       "      <th>3</th>\n",
       "      <td>F</td>\n",
       "      <td>0610b486422d4921ae7d2bf64640c50b</td>\n",
       "      <td>2017</td>\n",
       "      <td>7</td>\n",
       "      <td>Saturday</td>\n",
       "      <td>1742</td>\n",
       "      <td>0</td>\n",
       "      <td>3</td>\n",
       "      <td>offer received</td>\n",
       "      <td>5</td>\n",
       "      <td>informational</td>\n",
       "      <td>3f207df678b143eea3cee63160fa8bed</td>\n",
       "      <td>NaN</td>\n",
       "    </tr>\n",
       "    <tr>\n",
       "      <th>4</th>\n",
       "      <td>F</td>\n",
       "      <td>0610b486422d4921ae7d2bf64640c50b</td>\n",
       "      <td>2017</td>\n",
       "      <td>7</td>\n",
       "      <td>Saturday</td>\n",
       "      <td>1742</td>\n",
       "      <td>0</td>\n",
       "      <td>3</td>\n",
       "      <td>transaction</td>\n",
       "      <td>5</td>\n",
       "      <td>None</td>\n",
       "      <td>None</td>\n",
       "      <td>23.22</td>\n",
       "    </tr>\n",
       "    <tr>\n",
       "      <th>...</th>\n",
       "      <td>...</td>\n",
       "      <td>...</td>\n",
       "      <td>...</td>\n",
       "      <td>...</td>\n",
       "      <td>...</td>\n",
       "      <td>...</td>\n",
       "      <td>...</td>\n",
       "      <td>...</td>\n",
       "      <td>...</td>\n",
       "      <td>...</td>\n",
       "      <td>...</td>\n",
       "      <td>...</td>\n",
       "      <td>...</td>\n",
       "    </tr>\n",
       "    <tr>\n",
       "      <th>272659</th>\n",
       "      <td>F</td>\n",
       "      <td>e4052622e5ba45a8b96b59aba68cf068</td>\n",
       "      <td>2017</td>\n",
       "      <td>7</td>\n",
       "      <td>Saturday</td>\n",
       "      <td>1735</td>\n",
       "      <td>1</td>\n",
       "      <td>2</td>\n",
       "      <td>offer completed</td>\n",
       "      <td>4</td>\n",
       "      <td>bogo</td>\n",
       "      <td>f19421c1d4aa40978ebb69ca19b0e20d</td>\n",
       "      <td>NaN</td>\n",
       "    </tr>\n",
       "    <tr>\n",
       "      <th>272660</th>\n",
       "      <td>F</td>\n",
       "      <td>e4052622e5ba45a8b96b59aba68cf068</td>\n",
       "      <td>2017</td>\n",
       "      <td>7</td>\n",
       "      <td>Saturday</td>\n",
       "      <td>1735</td>\n",
       "      <td>1</td>\n",
       "      <td>2</td>\n",
       "      <td>transaction</td>\n",
       "      <td>4</td>\n",
       "      <td>None</td>\n",
       "      <td>None</td>\n",
       "      <td>19.47</td>\n",
       "    </tr>\n",
       "    <tr>\n",
       "      <th>272661</th>\n",
       "      <td>F</td>\n",
       "      <td>e4052622e5ba45a8b96b59aba68cf068</td>\n",
       "      <td>2017</td>\n",
       "      <td>7</td>\n",
       "      <td>Saturday</td>\n",
       "      <td>1735</td>\n",
       "      <td>1</td>\n",
       "      <td>2</td>\n",
       "      <td>offer viewed</td>\n",
       "      <td>5</td>\n",
       "      <td>bogo</td>\n",
       "      <td>f19421c1d4aa40978ebb69ca19b0e20d</td>\n",
       "      <td>NaN</td>\n",
       "    </tr>\n",
       "    <tr>\n",
       "      <th>272662</th>\n",
       "      <td>F</td>\n",
       "      <td>e4052622e5ba45a8b96b59aba68cf068</td>\n",
       "      <td>2017</td>\n",
       "      <td>7</td>\n",
       "      <td>Saturday</td>\n",
       "      <td>1735</td>\n",
       "      <td>1</td>\n",
       "      <td>2</td>\n",
       "      <td>offer received</td>\n",
       "      <td>5</td>\n",
       "      <td>informational</td>\n",
       "      <td>3f207df678b143eea3cee63160fa8bed</td>\n",
       "      <td>NaN</td>\n",
       "    </tr>\n",
       "    <tr>\n",
       "      <th>272663</th>\n",
       "      <td>F</td>\n",
       "      <td>e4052622e5ba45a8b96b59aba68cf068</td>\n",
       "      <td>2017</td>\n",
       "      <td>7</td>\n",
       "      <td>Saturday</td>\n",
       "      <td>1735</td>\n",
       "      <td>1</td>\n",
       "      <td>2</td>\n",
       "      <td>transaction</td>\n",
       "      <td>6</td>\n",
       "      <td>None</td>\n",
       "      <td>None</td>\n",
       "      <td>24.71</td>\n",
       "    </tr>\n",
       "  </tbody>\n",
       "</table>\n",
       "<p>272664 rows × 13 columns</p>\n",
       "</div>"
      ],
      "text/plain": [
       "       gender                                id  year  month       day  \\\n",
       "0           F  0610b486422d4921ae7d2bf64640c50b  2017      7  Saturday   \n",
       "1           F  0610b486422d4921ae7d2bf64640c50b  2017      7  Saturday   \n",
       "2           F  0610b486422d4921ae7d2bf64640c50b  2017      7  Saturday   \n",
       "3           F  0610b486422d4921ae7d2bf64640c50b  2017      7  Saturday   \n",
       "4           F  0610b486422d4921ae7d2bf64640c50b  2017      7  Saturday   \n",
       "...       ...                               ...   ...    ...       ...   \n",
       "272659      F  e4052622e5ba45a8b96b59aba68cf068  2017      7  Saturday   \n",
       "272660      F  e4052622e5ba45a8b96b59aba68cf068  2017      7  Saturday   \n",
       "272661      F  e4052622e5ba45a8b96b59aba68cf068  2017      7  Saturday   \n",
       "272662      F  e4052622e5ba45a8b96b59aba68cf068  2017      7  Saturday   \n",
       "272663      F  e4052622e5ba45a8b96b59aba68cf068  2017      7  Saturday   \n",
       "\n",
       "        membership_days  age_group  income_group            event  time_group  \\\n",
       "0                  1742          0             3      transaction           0   \n",
       "1                  1742          0             3      transaction           1   \n",
       "2                  1742          0             3   offer received           4   \n",
       "3                  1742          0             3   offer received           5   \n",
       "4                  1742          0             3      transaction           5   \n",
       "...                 ...        ...           ...              ...         ...   \n",
       "272659             1735          1             2  offer completed           4   \n",
       "272660             1735          1             2      transaction           4   \n",
       "272661             1735          1             2     offer viewed           5   \n",
       "272662             1735          1             2   offer received           5   \n",
       "272663             1735          1             2      transaction           6   \n",
       "\n",
       "                offer                          offer_id  amount  \n",
       "0                None                              None   21.51  \n",
       "1                None                              None   32.28  \n",
       "2                bogo  9b98b8c7a33c4b65b9aebfe6a799e6d9     NaN  \n",
       "3       informational  3f207df678b143eea3cee63160fa8bed     NaN  \n",
       "4                None                              None   23.22  \n",
       "...               ...                               ...     ...  \n",
       "272659           bogo  f19421c1d4aa40978ebb69ca19b0e20d     NaN  \n",
       "272660           None                              None   19.47  \n",
       "272661           bogo  f19421c1d4aa40978ebb69ca19b0e20d     NaN  \n",
       "272662  informational  3f207df678b143eea3cee63160fa8bed     NaN  \n",
       "272663           None                              None   24.71  \n",
       "\n",
       "[272664 rows x 13 columns]"
      ]
     },
     "execution_count": 34,
     "metadata": {},
     "output_type": "execute_result"
    }
   ],
   "source": [
    "df['offer'] = df['offer'].str.replace('_', '')\n",
    "df['offer'] = df['offer'].str.replace('\\d+', '')\n",
    "df"
   ]
  },
  {
   "cell_type": "code",
   "execution_count": 35,
   "id": "e85532ad",
   "metadata": {
    "execution": {
     "iopub.execute_input": "2022-04-22T12:11:20.238412Z",
     "iopub.status.busy": "2022-04-22T12:11:20.237685Z",
     "iopub.status.idle": "2022-04-22T12:11:20.392244Z",
     "shell.execute_reply": "2022-04-22T12:11:20.391598Z",
     "shell.execute_reply.started": "2022-04-22T12:07:10.149747Z"
    },
    "papermill": {
     "duration": 0.232464,
     "end_time": "2022-04-22T12:11:20.392386",
     "exception": false,
     "start_time": "2022-04-22T12:11:20.159922",
     "status": "completed"
    },
    "tags": []
   },
   "outputs": [
    {
     "data": {
      "text/html": [
       "<div>\n",
       "<style scoped>\n",
       "    .dataframe tbody tr th:only-of-type {\n",
       "        vertical-align: middle;\n",
       "    }\n",
       "\n",
       "    .dataframe tbody tr th {\n",
       "        vertical-align: top;\n",
       "    }\n",
       "\n",
       "    .dataframe thead th {\n",
       "        text-align: right;\n",
       "    }\n",
       "</style>\n",
       "<table border=\"1\" class=\"dataframe\">\n",
       "  <thead>\n",
       "    <tr style=\"text-align: right;\">\n",
       "      <th></th>\n",
       "      <th>gender</th>\n",
       "      <th>id</th>\n",
       "      <th>year</th>\n",
       "      <th>month</th>\n",
       "      <th>day</th>\n",
       "      <th>membership_days</th>\n",
       "      <th>age_group</th>\n",
       "      <th>income_group</th>\n",
       "      <th>event</th>\n",
       "      <th>time_group</th>\n",
       "      <th>offer</th>\n",
       "      <th>offer_id</th>\n",
       "      <th>amount</th>\n",
       "    </tr>\n",
       "  </thead>\n",
       "  <tbody>\n",
       "    <tr>\n",
       "      <th>0</th>\n",
       "      <td>F</td>\n",
       "      <td>0610b486422d4921ae7d2bf64640c50b</td>\n",
       "      <td>2017</td>\n",
       "      <td>7</td>\n",
       "      <td>Saturday</td>\n",
       "      <td>1742</td>\n",
       "      <td>0</td>\n",
       "      <td>3</td>\n",
       "      <td>transaction</td>\n",
       "      <td>0</td>\n",
       "      <td>0</td>\n",
       "      <td>None</td>\n",
       "      <td>21.51</td>\n",
       "    </tr>\n",
       "    <tr>\n",
       "      <th>1</th>\n",
       "      <td>F</td>\n",
       "      <td>0610b486422d4921ae7d2bf64640c50b</td>\n",
       "      <td>2017</td>\n",
       "      <td>7</td>\n",
       "      <td>Saturday</td>\n",
       "      <td>1742</td>\n",
       "      <td>0</td>\n",
       "      <td>3</td>\n",
       "      <td>transaction</td>\n",
       "      <td>1</td>\n",
       "      <td>0</td>\n",
       "      <td>None</td>\n",
       "      <td>32.28</td>\n",
       "    </tr>\n",
       "    <tr>\n",
       "      <th>2</th>\n",
       "      <td>F</td>\n",
       "      <td>0610b486422d4921ae7d2bf64640c50b</td>\n",
       "      <td>2017</td>\n",
       "      <td>7</td>\n",
       "      <td>Saturday</td>\n",
       "      <td>1742</td>\n",
       "      <td>0</td>\n",
       "      <td>3</td>\n",
       "      <td>offer received</td>\n",
       "      <td>4</td>\n",
       "      <td>1</td>\n",
       "      <td>9b98b8c7a33c4b65b9aebfe6a799e6d9</td>\n",
       "      <td>NaN</td>\n",
       "    </tr>\n",
       "    <tr>\n",
       "      <th>3</th>\n",
       "      <td>F</td>\n",
       "      <td>0610b486422d4921ae7d2bf64640c50b</td>\n",
       "      <td>2017</td>\n",
       "      <td>7</td>\n",
       "      <td>Saturday</td>\n",
       "      <td>1742</td>\n",
       "      <td>0</td>\n",
       "      <td>3</td>\n",
       "      <td>offer received</td>\n",
       "      <td>5</td>\n",
       "      <td>3</td>\n",
       "      <td>3f207df678b143eea3cee63160fa8bed</td>\n",
       "      <td>NaN</td>\n",
       "    </tr>\n",
       "    <tr>\n",
       "      <th>4</th>\n",
       "      <td>F</td>\n",
       "      <td>0610b486422d4921ae7d2bf64640c50b</td>\n",
       "      <td>2017</td>\n",
       "      <td>7</td>\n",
       "      <td>Saturday</td>\n",
       "      <td>1742</td>\n",
       "      <td>0</td>\n",
       "      <td>3</td>\n",
       "      <td>transaction</td>\n",
       "      <td>5</td>\n",
       "      <td>0</td>\n",
       "      <td>None</td>\n",
       "      <td>23.22</td>\n",
       "    </tr>\n",
       "    <tr>\n",
       "      <th>...</th>\n",
       "      <td>...</td>\n",
       "      <td>...</td>\n",
       "      <td>...</td>\n",
       "      <td>...</td>\n",
       "      <td>...</td>\n",
       "      <td>...</td>\n",
       "      <td>...</td>\n",
       "      <td>...</td>\n",
       "      <td>...</td>\n",
       "      <td>...</td>\n",
       "      <td>...</td>\n",
       "      <td>...</td>\n",
       "      <td>...</td>\n",
       "    </tr>\n",
       "    <tr>\n",
       "      <th>272659</th>\n",
       "      <td>F</td>\n",
       "      <td>e4052622e5ba45a8b96b59aba68cf068</td>\n",
       "      <td>2017</td>\n",
       "      <td>7</td>\n",
       "      <td>Saturday</td>\n",
       "      <td>1735</td>\n",
       "      <td>1</td>\n",
       "      <td>2</td>\n",
       "      <td>offer completed</td>\n",
       "      <td>4</td>\n",
       "      <td>1</td>\n",
       "      <td>f19421c1d4aa40978ebb69ca19b0e20d</td>\n",
       "      <td>NaN</td>\n",
       "    </tr>\n",
       "    <tr>\n",
       "      <th>272660</th>\n",
       "      <td>F</td>\n",
       "      <td>e4052622e5ba45a8b96b59aba68cf068</td>\n",
       "      <td>2017</td>\n",
       "      <td>7</td>\n",
       "      <td>Saturday</td>\n",
       "      <td>1735</td>\n",
       "      <td>1</td>\n",
       "      <td>2</td>\n",
       "      <td>transaction</td>\n",
       "      <td>4</td>\n",
       "      <td>0</td>\n",
       "      <td>None</td>\n",
       "      <td>19.47</td>\n",
       "    </tr>\n",
       "    <tr>\n",
       "      <th>272661</th>\n",
       "      <td>F</td>\n",
       "      <td>e4052622e5ba45a8b96b59aba68cf068</td>\n",
       "      <td>2017</td>\n",
       "      <td>7</td>\n",
       "      <td>Saturday</td>\n",
       "      <td>1735</td>\n",
       "      <td>1</td>\n",
       "      <td>2</td>\n",
       "      <td>offer viewed</td>\n",
       "      <td>5</td>\n",
       "      <td>1</td>\n",
       "      <td>f19421c1d4aa40978ebb69ca19b0e20d</td>\n",
       "      <td>NaN</td>\n",
       "    </tr>\n",
       "    <tr>\n",
       "      <th>272662</th>\n",
       "      <td>F</td>\n",
       "      <td>e4052622e5ba45a8b96b59aba68cf068</td>\n",
       "      <td>2017</td>\n",
       "      <td>7</td>\n",
       "      <td>Saturday</td>\n",
       "      <td>1735</td>\n",
       "      <td>1</td>\n",
       "      <td>2</td>\n",
       "      <td>offer received</td>\n",
       "      <td>5</td>\n",
       "      <td>3</td>\n",
       "      <td>3f207df678b143eea3cee63160fa8bed</td>\n",
       "      <td>NaN</td>\n",
       "    </tr>\n",
       "    <tr>\n",
       "      <th>272663</th>\n",
       "      <td>F</td>\n",
       "      <td>e4052622e5ba45a8b96b59aba68cf068</td>\n",
       "      <td>2017</td>\n",
       "      <td>7</td>\n",
       "      <td>Saturday</td>\n",
       "      <td>1735</td>\n",
       "      <td>1</td>\n",
       "      <td>2</td>\n",
       "      <td>transaction</td>\n",
       "      <td>6</td>\n",
       "      <td>0</td>\n",
       "      <td>None</td>\n",
       "      <td>24.71</td>\n",
       "    </tr>\n",
       "  </tbody>\n",
       "</table>\n",
       "<p>272664 rows × 13 columns</p>\n",
       "</div>"
      ],
      "text/plain": [
       "       gender                                id  year  month       day  \\\n",
       "0           F  0610b486422d4921ae7d2bf64640c50b  2017      7  Saturday   \n",
       "1           F  0610b486422d4921ae7d2bf64640c50b  2017      7  Saturday   \n",
       "2           F  0610b486422d4921ae7d2bf64640c50b  2017      7  Saturday   \n",
       "3           F  0610b486422d4921ae7d2bf64640c50b  2017      7  Saturday   \n",
       "4           F  0610b486422d4921ae7d2bf64640c50b  2017      7  Saturday   \n",
       "...       ...                               ...   ...    ...       ...   \n",
       "272659      F  e4052622e5ba45a8b96b59aba68cf068  2017      7  Saturday   \n",
       "272660      F  e4052622e5ba45a8b96b59aba68cf068  2017      7  Saturday   \n",
       "272661      F  e4052622e5ba45a8b96b59aba68cf068  2017      7  Saturday   \n",
       "272662      F  e4052622e5ba45a8b96b59aba68cf068  2017      7  Saturday   \n",
       "272663      F  e4052622e5ba45a8b96b59aba68cf068  2017      7  Saturday   \n",
       "\n",
       "        membership_days  age_group  income_group            event  time_group  \\\n",
       "0                  1742          0             3      transaction           0   \n",
       "1                  1742          0             3      transaction           1   \n",
       "2                  1742          0             3   offer received           4   \n",
       "3                  1742          0             3   offer received           5   \n",
       "4                  1742          0             3      transaction           5   \n",
       "...                 ...        ...           ...              ...         ...   \n",
       "272659             1735          1             2  offer completed           4   \n",
       "272660             1735          1             2      transaction           4   \n",
       "272661             1735          1             2     offer viewed           5   \n",
       "272662             1735          1             2   offer received           5   \n",
       "272663             1735          1             2      transaction           6   \n",
       "\n",
       "        offer                          offer_id  amount  \n",
       "0           0                              None   21.51  \n",
       "1           0                              None   32.28  \n",
       "2           1  9b98b8c7a33c4b65b9aebfe6a799e6d9     NaN  \n",
       "3           3  3f207df678b143eea3cee63160fa8bed     NaN  \n",
       "4           0                              None   23.22  \n",
       "...       ...                               ...     ...  \n",
       "272659      1  f19421c1d4aa40978ebb69ca19b0e20d     NaN  \n",
       "272660      0                              None   19.47  \n",
       "272661      1  f19421c1d4aa40978ebb69ca19b0e20d     NaN  \n",
       "272662      3  3f207df678b143eea3cee63160fa8bed     NaN  \n",
       "272663      0                              None   24.71  \n",
       "\n",
       "[272664 rows x 13 columns]"
      ]
     },
     "execution_count": 35,
     "metadata": {},
     "output_type": "execute_result"
    }
   ],
   "source": [
    "from sklearn.preprocessing import LabelEncoder\n",
    "\n",
    "df = df.copy(deep = True)\n",
    "le_offer = LabelEncoder()\n",
    "df['offer'] = le_offer.fit_transform(df['offer'])\n",
    "df.head(5)\n",
    "df"
   ]
  },
  {
   "cell_type": "code",
   "execution_count": 36,
   "id": "dd49f30d",
   "metadata": {
    "execution": {
     "iopub.execute_input": "2022-04-22T12:11:20.552926Z",
     "iopub.status.busy": "2022-04-22T12:11:20.552108Z",
     "iopub.status.idle": "2022-04-22T12:11:20.557638Z",
     "shell.execute_reply": "2022-04-22T12:11:20.558295Z",
     "shell.execute_reply.started": "2022-04-22T12:07:10.312636Z"
    },
    "papermill": {
     "duration": 0.092419,
     "end_time": "2022-04-22T12:11:20.558483",
     "exception": false,
     "start_time": "2022-04-22T12:11:20.466064",
     "status": "completed"
    },
    "tags": []
   },
   "outputs": [],
   "source": [
    "df.rename(columns={'id':'customer_id'}, inplace=True)\n"
   ]
  },
  {
   "cell_type": "code",
   "execution_count": 37,
   "id": "507f69fe",
   "metadata": {
    "execution": {
     "iopub.execute_input": "2022-04-22T12:11:20.749789Z",
     "iopub.status.busy": "2022-04-22T12:11:20.748797Z",
     "iopub.status.idle": "2022-04-22T12:11:20.753325Z",
     "shell.execute_reply": "2022-04-22T12:11:20.754306Z",
     "shell.execute_reply.started": "2022-04-22T12:07:10.319339Z"
    },
    "papermill": {
     "duration": 0.119003,
     "end_time": "2022-04-22T12:11:20.754550",
     "exception": false,
     "start_time": "2022-04-22T12:11:20.635547",
     "status": "completed"
    },
    "tags": []
   },
   "outputs": [],
   "source": [
    "df.rename(columns={'offer_id':'id'}, inplace=True)\n"
   ]
  },
  {
   "cell_type": "code",
   "execution_count": 38,
   "id": "07d1912c",
   "metadata": {
    "execution": {
     "iopub.execute_input": "2022-04-22T12:11:20.954363Z",
     "iopub.status.busy": "2022-04-22T12:11:20.953353Z",
     "iopub.status.idle": "2022-04-22T12:11:21.047853Z",
     "shell.execute_reply": "2022-04-22T12:11:21.048577Z",
     "shell.execute_reply.started": "2022-04-22T12:07:10.334980Z"
    },
    "papermill": {
     "duration": 0.199717,
     "end_time": "2022-04-22T12:11:21.048834",
     "exception": false,
     "start_time": "2022-04-22T12:11:20.849117",
     "status": "completed"
    },
    "tags": []
   },
   "outputs": [
    {
     "data": {
      "text/html": [
       "<div>                            <div id=\"99414e33-a8af-4d63-8196-ab81746dea8f\" class=\"plotly-graph-div\" style=\"height:525px; width:100%;\"></div>            <script type=\"text/javascript\">                require([\"plotly\"], function(Plotly) {                    window.PLOTLYENV=window.PLOTLYENV || {};                                    if (document.getElementById(\"99414e33-a8af-4d63-8196-ab81746dea8f\")) {                    Plotly.newPlot(                        \"99414e33-a8af-4d63-8196-ab81746dea8f\",                        [{\"domain\":{\"x\":[0.0,1.0],\"y\":[0.0,1.0]},\"hovertemplate\":\"event=%{label}<br>count=%{value}<extra></extra>\",\"labels\":[\"transaction\",\"offer received\",\"offer viewed\",\"offer completed\"],\"legendgroup\":\"\",\"name\":\"\",\"showlegend\":true,\"values\":[123910,66478,49844,32432],\"type\":\"pie\"}],                        {\"template\":{\"data\":{\"bar\":[{\"error_x\":{\"color\":\"#2a3f5f\"},\"error_y\":{\"color\":\"#2a3f5f\"},\"marker\":{\"line\":{\"color\":\"#E5ECF6\",\"width\":0.5},\"pattern\":{\"fillmode\":\"overlay\",\"size\":10,\"solidity\":0.2}},\"type\":\"bar\"}],\"barpolar\":[{\"marker\":{\"line\":{\"color\":\"#E5ECF6\",\"width\":0.5},\"pattern\":{\"fillmode\":\"overlay\",\"size\":10,\"solidity\":0.2}},\"type\":\"barpolar\"}],\"carpet\":[{\"aaxis\":{\"endlinecolor\":\"#2a3f5f\",\"gridcolor\":\"white\",\"linecolor\":\"white\",\"minorgridcolor\":\"white\",\"startlinecolor\":\"#2a3f5f\"},\"baxis\":{\"endlinecolor\":\"#2a3f5f\",\"gridcolor\":\"white\",\"linecolor\":\"white\",\"minorgridcolor\":\"white\",\"startlinecolor\":\"#2a3f5f\"},\"type\":\"carpet\"}],\"choropleth\":[{\"colorbar\":{\"outlinewidth\":0,\"ticks\":\"\"},\"type\":\"choropleth\"}],\"contour\":[{\"colorbar\":{\"outlinewidth\":0,\"ticks\":\"\"},\"colorscale\":[[0.0,\"#0d0887\"],[0.1111111111111111,\"#46039f\"],[0.2222222222222222,\"#7201a8\"],[0.3333333333333333,\"#9c179e\"],[0.4444444444444444,\"#bd3786\"],[0.5555555555555556,\"#d8576b\"],[0.6666666666666666,\"#ed7953\"],[0.7777777777777778,\"#fb9f3a\"],[0.8888888888888888,\"#fdca26\"],[1.0,\"#f0f921\"]],\"type\":\"contour\"}],\"contourcarpet\":[{\"colorbar\":{\"outlinewidth\":0,\"ticks\":\"\"},\"type\":\"contourcarpet\"}],\"heatmap\":[{\"colorbar\":{\"outlinewidth\":0,\"ticks\":\"\"},\"colorscale\":[[0.0,\"#0d0887\"],[0.1111111111111111,\"#46039f\"],[0.2222222222222222,\"#7201a8\"],[0.3333333333333333,\"#9c179e\"],[0.4444444444444444,\"#bd3786\"],[0.5555555555555556,\"#d8576b\"],[0.6666666666666666,\"#ed7953\"],[0.7777777777777778,\"#fb9f3a\"],[0.8888888888888888,\"#fdca26\"],[1.0,\"#f0f921\"]],\"type\":\"heatmap\"}],\"heatmapgl\":[{\"colorbar\":{\"outlinewidth\":0,\"ticks\":\"\"},\"colorscale\":[[0.0,\"#0d0887\"],[0.1111111111111111,\"#46039f\"],[0.2222222222222222,\"#7201a8\"],[0.3333333333333333,\"#9c179e\"],[0.4444444444444444,\"#bd3786\"],[0.5555555555555556,\"#d8576b\"],[0.6666666666666666,\"#ed7953\"],[0.7777777777777778,\"#fb9f3a\"],[0.8888888888888888,\"#fdca26\"],[1.0,\"#f0f921\"]],\"type\":\"heatmapgl\"}],\"histogram\":[{\"marker\":{\"pattern\":{\"fillmode\":\"overlay\",\"size\":10,\"solidity\":0.2}},\"type\":\"histogram\"}],\"histogram2d\":[{\"colorbar\":{\"outlinewidth\":0,\"ticks\":\"\"},\"colorscale\":[[0.0,\"#0d0887\"],[0.1111111111111111,\"#46039f\"],[0.2222222222222222,\"#7201a8\"],[0.3333333333333333,\"#9c179e\"],[0.4444444444444444,\"#bd3786\"],[0.5555555555555556,\"#d8576b\"],[0.6666666666666666,\"#ed7953\"],[0.7777777777777778,\"#fb9f3a\"],[0.8888888888888888,\"#fdca26\"],[1.0,\"#f0f921\"]],\"type\":\"histogram2d\"}],\"histogram2dcontour\":[{\"colorbar\":{\"outlinewidth\":0,\"ticks\":\"\"},\"colorscale\":[[0.0,\"#0d0887\"],[0.1111111111111111,\"#46039f\"],[0.2222222222222222,\"#7201a8\"],[0.3333333333333333,\"#9c179e\"],[0.4444444444444444,\"#bd3786\"],[0.5555555555555556,\"#d8576b\"],[0.6666666666666666,\"#ed7953\"],[0.7777777777777778,\"#fb9f3a\"],[0.8888888888888888,\"#fdca26\"],[1.0,\"#f0f921\"]],\"type\":\"histogram2dcontour\"}],\"mesh3d\":[{\"colorbar\":{\"outlinewidth\":0,\"ticks\":\"\"},\"type\":\"mesh3d\"}],\"parcoords\":[{\"line\":{\"colorbar\":{\"outlinewidth\":0,\"ticks\":\"\"}},\"type\":\"parcoords\"}],\"pie\":[{\"automargin\":true,\"type\":\"pie\"}],\"scatter\":[{\"marker\":{\"colorbar\":{\"outlinewidth\":0,\"ticks\":\"\"}},\"type\":\"scatter\"}],\"scatter3d\":[{\"line\":{\"colorbar\":{\"outlinewidth\":0,\"ticks\":\"\"}},\"marker\":{\"colorbar\":{\"outlinewidth\":0,\"ticks\":\"\"}},\"type\":\"scatter3d\"}],\"scattercarpet\":[{\"marker\":{\"colorbar\":{\"outlinewidth\":0,\"ticks\":\"\"}},\"type\":\"scattercarpet\"}],\"scattergeo\":[{\"marker\":{\"colorbar\":{\"outlinewidth\":0,\"ticks\":\"\"}},\"type\":\"scattergeo\"}],\"scattergl\":[{\"marker\":{\"colorbar\":{\"outlinewidth\":0,\"ticks\":\"\"}},\"type\":\"scattergl\"}],\"scattermapbox\":[{\"marker\":{\"colorbar\":{\"outlinewidth\":0,\"ticks\":\"\"}},\"type\":\"scattermapbox\"}],\"scatterpolar\":[{\"marker\":{\"colorbar\":{\"outlinewidth\":0,\"ticks\":\"\"}},\"type\":\"scatterpolar\"}],\"scatterpolargl\":[{\"marker\":{\"colorbar\":{\"outlinewidth\":0,\"ticks\":\"\"}},\"type\":\"scatterpolargl\"}],\"scatterternary\":[{\"marker\":{\"colorbar\":{\"outlinewidth\":0,\"ticks\":\"\"}},\"type\":\"scatterternary\"}],\"surface\":[{\"colorbar\":{\"outlinewidth\":0,\"ticks\":\"\"},\"colorscale\":[[0.0,\"#0d0887\"],[0.1111111111111111,\"#46039f\"],[0.2222222222222222,\"#7201a8\"],[0.3333333333333333,\"#9c179e\"],[0.4444444444444444,\"#bd3786\"],[0.5555555555555556,\"#d8576b\"],[0.6666666666666666,\"#ed7953\"],[0.7777777777777778,\"#fb9f3a\"],[0.8888888888888888,\"#fdca26\"],[1.0,\"#f0f921\"]],\"type\":\"surface\"}],\"table\":[{\"cells\":{\"fill\":{\"color\":\"#EBF0F8\"},\"line\":{\"color\":\"white\"}},\"header\":{\"fill\":{\"color\":\"#C8D4E3\"},\"line\":{\"color\":\"white\"}},\"type\":\"table\"}]},\"layout\":{\"annotationdefaults\":{\"arrowcolor\":\"#2a3f5f\",\"arrowhead\":0,\"arrowwidth\":1},\"autotypenumbers\":\"strict\",\"coloraxis\":{\"colorbar\":{\"outlinewidth\":0,\"ticks\":\"\"}},\"colorscale\":{\"diverging\":[[0,\"#8e0152\"],[0.1,\"#c51b7d\"],[0.2,\"#de77ae\"],[0.3,\"#f1b6da\"],[0.4,\"#fde0ef\"],[0.5,\"#f7f7f7\"],[0.6,\"#e6f5d0\"],[0.7,\"#b8e186\"],[0.8,\"#7fbc41\"],[0.9,\"#4d9221\"],[1,\"#276419\"]],\"sequential\":[[0.0,\"#0d0887\"],[0.1111111111111111,\"#46039f\"],[0.2222222222222222,\"#7201a8\"],[0.3333333333333333,\"#9c179e\"],[0.4444444444444444,\"#bd3786\"],[0.5555555555555556,\"#d8576b\"],[0.6666666666666666,\"#ed7953\"],[0.7777777777777778,\"#fb9f3a\"],[0.8888888888888888,\"#fdca26\"],[1.0,\"#f0f921\"]],\"sequentialminus\":[[0.0,\"#0d0887\"],[0.1111111111111111,\"#46039f\"],[0.2222222222222222,\"#7201a8\"],[0.3333333333333333,\"#9c179e\"],[0.4444444444444444,\"#bd3786\"],[0.5555555555555556,\"#d8576b\"],[0.6666666666666666,\"#ed7953\"],[0.7777777777777778,\"#fb9f3a\"],[0.8888888888888888,\"#fdca26\"],[1.0,\"#f0f921\"]]},\"colorway\":[\"#636efa\",\"#EF553B\",\"#00cc96\",\"#ab63fa\",\"#FFA15A\",\"#19d3f3\",\"#FF6692\",\"#B6E880\",\"#FF97FF\",\"#FECB52\"],\"font\":{\"color\":\"#2a3f5f\"},\"geo\":{\"bgcolor\":\"white\",\"lakecolor\":\"white\",\"landcolor\":\"#E5ECF6\",\"showlakes\":true,\"showland\":true,\"subunitcolor\":\"white\"},\"hoverlabel\":{\"align\":\"left\"},\"hovermode\":\"closest\",\"mapbox\":{\"style\":\"light\"},\"paper_bgcolor\":\"white\",\"plot_bgcolor\":\"#E5ECF6\",\"polar\":{\"angularaxis\":{\"gridcolor\":\"white\",\"linecolor\":\"white\",\"ticks\":\"\"},\"bgcolor\":\"#E5ECF6\",\"radialaxis\":{\"gridcolor\":\"white\",\"linecolor\":\"white\",\"ticks\":\"\"}},\"scene\":{\"xaxis\":{\"backgroundcolor\":\"#E5ECF6\",\"gridcolor\":\"white\",\"gridwidth\":2,\"linecolor\":\"white\",\"showbackground\":true,\"ticks\":\"\",\"zerolinecolor\":\"white\"},\"yaxis\":{\"backgroundcolor\":\"#E5ECF6\",\"gridcolor\":\"white\",\"gridwidth\":2,\"linecolor\":\"white\",\"showbackground\":true,\"ticks\":\"\",\"zerolinecolor\":\"white\"},\"zaxis\":{\"backgroundcolor\":\"#E5ECF6\",\"gridcolor\":\"white\",\"gridwidth\":2,\"linecolor\":\"white\",\"showbackground\":true,\"ticks\":\"\",\"zerolinecolor\":\"white\"}},\"shapedefaults\":{\"line\":{\"color\":\"#2a3f5f\"}},\"ternary\":{\"aaxis\":{\"gridcolor\":\"white\",\"linecolor\":\"white\",\"ticks\":\"\"},\"baxis\":{\"gridcolor\":\"white\",\"linecolor\":\"white\",\"ticks\":\"\"},\"bgcolor\":\"#E5ECF6\",\"caxis\":{\"gridcolor\":\"white\",\"linecolor\":\"white\",\"ticks\":\"\"}},\"title\":{\"x\":0.05},\"xaxis\":{\"automargin\":true,\"gridcolor\":\"white\",\"linecolor\":\"white\",\"ticks\":\"\",\"title\":{\"standoff\":15},\"zerolinecolor\":\"white\",\"zerolinewidth\":2},\"yaxis\":{\"automargin\":true,\"gridcolor\":\"white\",\"linecolor\":\"white\",\"ticks\":\"\",\"title\":{\"standoff\":15},\"zerolinecolor\":\"white\",\"zerolinewidth\":2}}},\"legend\":{\"tracegroupgap\":0},\"title\":{\"text\":\"Event\"},\"piecolorway\":[\"blue\",\"light green\"]},                        {\"responsive\": true}                    ).then(function(){\n",
       "                            \n",
       "var gd = document.getElementById('99414e33-a8af-4d63-8196-ab81746dea8f');\n",
       "var x = new MutationObserver(function (mutations, observer) {{\n",
       "        var display = window.getComputedStyle(gd).display;\n",
       "        if (!display || display === 'none') {{\n",
       "            console.log([gd, 'removed!']);\n",
       "            Plotly.purge(gd);\n",
       "            observer.disconnect();\n",
       "        }}\n",
       "}});\n",
       "\n",
       "// Listen for the removal of the full notebook cells\n",
       "var notebookContainer = gd.closest('#notebook-container');\n",
       "if (notebookContainer) {{\n",
       "    x.observe(notebookContainer, {childList: true});\n",
       "}}\n",
       "\n",
       "// Listen for the clearing of the current output cell\n",
       "var outputEl = gd.closest('.output');\n",
       "if (outputEl) {{\n",
       "    x.observe(outputEl, {childList: true});\n",
       "}}\n",
       "\n",
       "                        })                };                });            </script>        </div>"
      ]
     },
     "metadata": {},
     "output_type": "display_data"
    }
   ],
   "source": [
    "event = df.event.value_counts().reset_index()\n",
    "event.columns = ['event', 'count']\n",
    "fig = px.pie(event, values='count', names='event', title='Event',\n",
    "             color_discrete_sequence=['blue', 'light green'])\n",
    "fig.show()"
   ]
  },
  {
   "cell_type": "code",
   "execution_count": 39,
   "id": "33fb501f",
   "metadata": {
    "execution": {
     "iopub.execute_input": "2022-04-22T12:11:21.204989Z",
     "iopub.status.busy": "2022-04-22T12:11:21.204240Z",
     "iopub.status.idle": "2022-04-22T12:11:21.429141Z",
     "shell.execute_reply": "2022-04-22T12:11:21.428432Z",
     "shell.execute_reply.started": "2022-04-22T12:07:10.438714Z"
    },
    "papermill": {
     "duration": 0.303083,
     "end_time": "2022-04-22T12:11:21.429310",
     "exception": false,
     "start_time": "2022-04-22T12:11:21.126227",
     "status": "completed"
    },
    "tags": []
   },
   "outputs": [],
   "source": [
    "transaction_df = df[df.event == 'transaction']\n",
    "offer_completed_df = df[df.event == 'offer completed']\n",
    "offer_viewed_df = df[df.event == 'offer viewed']\n",
    "offers_received_df = df[df.event == 'offer received']"
   ]
  },
  {
   "cell_type": "code",
   "execution_count": 40,
   "id": "e6ef1794",
   "metadata": {
    "execution": {
     "iopub.execute_input": "2022-04-22T12:11:21.601992Z",
     "iopub.status.busy": "2022-04-22T12:11:21.601119Z",
     "iopub.status.idle": "2022-04-22T12:11:21.604839Z",
     "shell.execute_reply": "2022-04-22T12:11:21.605357Z",
     "shell.execute_reply.started": "2022-04-22T12:07:10.661140Z"
    },
    "papermill": {
     "duration": 0.100621,
     "end_time": "2022-04-22T12:11:21.605529",
     "exception": false,
     "start_time": "2022-04-22T12:11:21.504908",
     "status": "completed"
    },
    "tags": []
   },
   "outputs": [
    {
     "data": {
      "text/html": [
       "<div>\n",
       "<style scoped>\n",
       "    .dataframe tbody tr th:only-of-type {\n",
       "        vertical-align: middle;\n",
       "    }\n",
       "\n",
       "    .dataframe tbody tr th {\n",
       "        vertical-align: top;\n",
       "    }\n",
       "\n",
       "    .dataframe thead th {\n",
       "        text-align: right;\n",
       "    }\n",
       "</style>\n",
       "<table border=\"1\" class=\"dataframe\">\n",
       "  <thead>\n",
       "    <tr style=\"text-align: right;\">\n",
       "      <th></th>\n",
       "      <th>gender</th>\n",
       "      <th>customer_id</th>\n",
       "      <th>year</th>\n",
       "      <th>month</th>\n",
       "      <th>day</th>\n",
       "      <th>membership_days</th>\n",
       "      <th>age_group</th>\n",
       "      <th>income_group</th>\n",
       "      <th>event</th>\n",
       "      <th>time_group</th>\n",
       "      <th>offer</th>\n",
       "      <th>id</th>\n",
       "      <th>amount</th>\n",
       "    </tr>\n",
       "  </thead>\n",
       "  <tbody>\n",
       "    <tr>\n",
       "      <th>2</th>\n",
       "      <td>F</td>\n",
       "      <td>0610b486422d4921ae7d2bf64640c50b</td>\n",
       "      <td>2017</td>\n",
       "      <td>7</td>\n",
       "      <td>Saturday</td>\n",
       "      <td>1742</td>\n",
       "      <td>0</td>\n",
       "      <td>3</td>\n",
       "      <td>offer received</td>\n",
       "      <td>4</td>\n",
       "      <td>1</td>\n",
       "      <td>9b98b8c7a33c4b65b9aebfe6a799e6d9</td>\n",
       "      <td>NaN</td>\n",
       "    </tr>\n",
       "    <tr>\n",
       "      <th>3</th>\n",
       "      <td>F</td>\n",
       "      <td>0610b486422d4921ae7d2bf64640c50b</td>\n",
       "      <td>2017</td>\n",
       "      <td>7</td>\n",
       "      <td>Saturday</td>\n",
       "      <td>1742</td>\n",
       "      <td>0</td>\n",
       "      <td>3</td>\n",
       "      <td>offer received</td>\n",
       "      <td>5</td>\n",
       "      <td>3</td>\n",
       "      <td>3f207df678b143eea3cee63160fa8bed</td>\n",
       "      <td>NaN</td>\n",
       "    </tr>\n",
       "    <tr>\n",
       "      <th>6</th>\n",
       "      <td>F</td>\n",
       "      <td>78afa995795e4d85b5d9ceeca43f5fef</td>\n",
       "      <td>2017</td>\n",
       "      <td>5</td>\n",
       "      <td>Tuesday</td>\n",
       "      <td>1809</td>\n",
       "      <td>1</td>\n",
       "      <td>2</td>\n",
       "      <td>offer received</td>\n",
       "      <td>0</td>\n",
       "      <td>1</td>\n",
       "      <td>9b98b8c7a33c4b65b9aebfe6a799e6d9</td>\n",
       "      <td>NaN</td>\n",
       "    </tr>\n",
       "    <tr>\n",
       "      <th>11</th>\n",
       "      <td>F</td>\n",
       "      <td>78afa995795e4d85b5d9ceeca43f5fef</td>\n",
       "      <td>2017</td>\n",
       "      <td>5</td>\n",
       "      <td>Tuesday</td>\n",
       "      <td>1809</td>\n",
       "      <td>1</td>\n",
       "      <td>2</td>\n",
       "      <td>offer received</td>\n",
       "      <td>1</td>\n",
       "      <td>3</td>\n",
       "      <td>5a8bc65990b245e5a138643cd4eb9837</td>\n",
       "      <td>NaN</td>\n",
       "    </tr>\n",
       "    <tr>\n",
       "      <th>16</th>\n",
       "      <td>F</td>\n",
       "      <td>78afa995795e4d85b5d9ceeca43f5fef</td>\n",
       "      <td>2017</td>\n",
       "      <td>5</td>\n",
       "      <td>Tuesday</td>\n",
       "      <td>1809</td>\n",
       "      <td>1</td>\n",
       "      <td>2</td>\n",
       "      <td>offer received</td>\n",
       "      <td>4</td>\n",
       "      <td>1</td>\n",
       "      <td>ae264e3637204a6fb9bb56bc8210ddfd</td>\n",
       "      <td>NaN</td>\n",
       "    </tr>\n",
       "    <tr>\n",
       "      <th>...</th>\n",
       "      <td>...</td>\n",
       "      <td>...</td>\n",
       "      <td>...</td>\n",
       "      <td>...</td>\n",
       "      <td>...</td>\n",
       "      <td>...</td>\n",
       "      <td>...</td>\n",
       "      <td>...</td>\n",
       "      <td>...</td>\n",
       "      <td>...</td>\n",
       "      <td>...</td>\n",
       "      <td>...</td>\n",
       "      <td>...</td>\n",
       "    </tr>\n",
       "    <tr>\n",
       "      <th>272643</th>\n",
       "      <td>F</td>\n",
       "      <td>9dc1421481194dcd9400aec7c9ae6366</td>\n",
       "      <td>2016</td>\n",
       "      <td>3</td>\n",
       "      <td>Monday</td>\n",
       "      <td>2237</td>\n",
       "      <td>1</td>\n",
       "      <td>0</td>\n",
       "      <td>offer received</td>\n",
       "      <td>5</td>\n",
       "      <td>1</td>\n",
       "      <td>ae264e3637204a6fb9bb56bc8210ddfd</td>\n",
       "      <td>NaN</td>\n",
       "    </tr>\n",
       "    <tr>\n",
       "      <th>272650</th>\n",
       "      <td>F</td>\n",
       "      <td>e4052622e5ba45a8b96b59aba68cf068</td>\n",
       "      <td>2017</td>\n",
       "      <td>7</td>\n",
       "      <td>Saturday</td>\n",
       "      <td>1735</td>\n",
       "      <td>1</td>\n",
       "      <td>2</td>\n",
       "      <td>offer received</td>\n",
       "      <td>0</td>\n",
       "      <td>2</td>\n",
       "      <td>2298d6c36e964ae4a3e7e9706d1fb8c2</td>\n",
       "      <td>NaN</td>\n",
       "    </tr>\n",
       "    <tr>\n",
       "      <th>272656</th>\n",
       "      <td>F</td>\n",
       "      <td>e4052622e5ba45a8b96b59aba68cf068</td>\n",
       "      <td>2017</td>\n",
       "      <td>7</td>\n",
       "      <td>Saturday</td>\n",
       "      <td>1735</td>\n",
       "      <td>1</td>\n",
       "      <td>2</td>\n",
       "      <td>offer received</td>\n",
       "      <td>3</td>\n",
       "      <td>3</td>\n",
       "      <td>3f207df678b143eea3cee63160fa8bed</td>\n",
       "      <td>NaN</td>\n",
       "    </tr>\n",
       "    <tr>\n",
       "      <th>272657</th>\n",
       "      <td>F</td>\n",
       "      <td>e4052622e5ba45a8b96b59aba68cf068</td>\n",
       "      <td>2017</td>\n",
       "      <td>7</td>\n",
       "      <td>Saturday</td>\n",
       "      <td>1735</td>\n",
       "      <td>1</td>\n",
       "      <td>2</td>\n",
       "      <td>offer received</td>\n",
       "      <td>4</td>\n",
       "      <td>1</td>\n",
       "      <td>f19421c1d4aa40978ebb69ca19b0e20d</td>\n",
       "      <td>NaN</td>\n",
       "    </tr>\n",
       "    <tr>\n",
       "      <th>272662</th>\n",
       "      <td>F</td>\n",
       "      <td>e4052622e5ba45a8b96b59aba68cf068</td>\n",
       "      <td>2017</td>\n",
       "      <td>7</td>\n",
       "      <td>Saturday</td>\n",
       "      <td>1735</td>\n",
       "      <td>1</td>\n",
       "      <td>2</td>\n",
       "      <td>offer received</td>\n",
       "      <td>5</td>\n",
       "      <td>3</td>\n",
       "      <td>3f207df678b143eea3cee63160fa8bed</td>\n",
       "      <td>NaN</td>\n",
       "    </tr>\n",
       "  </tbody>\n",
       "</table>\n",
       "<p>66478 rows × 13 columns</p>\n",
       "</div>"
      ],
      "text/plain": [
       "       gender                       customer_id  year  month       day  \\\n",
       "2           F  0610b486422d4921ae7d2bf64640c50b  2017      7  Saturday   \n",
       "3           F  0610b486422d4921ae7d2bf64640c50b  2017      7  Saturday   \n",
       "6           F  78afa995795e4d85b5d9ceeca43f5fef  2017      5   Tuesday   \n",
       "11          F  78afa995795e4d85b5d9ceeca43f5fef  2017      5   Tuesday   \n",
       "16          F  78afa995795e4d85b5d9ceeca43f5fef  2017      5   Tuesday   \n",
       "...       ...                               ...   ...    ...       ...   \n",
       "272643      F  9dc1421481194dcd9400aec7c9ae6366  2016      3    Monday   \n",
       "272650      F  e4052622e5ba45a8b96b59aba68cf068  2017      7  Saturday   \n",
       "272656      F  e4052622e5ba45a8b96b59aba68cf068  2017      7  Saturday   \n",
       "272657      F  e4052622e5ba45a8b96b59aba68cf068  2017      7  Saturday   \n",
       "272662      F  e4052622e5ba45a8b96b59aba68cf068  2017      7  Saturday   \n",
       "\n",
       "        membership_days  age_group  income_group           event  time_group  \\\n",
       "2                  1742          0             3  offer received           4   \n",
       "3                  1742          0             3  offer received           5   \n",
       "6                  1809          1             2  offer received           0   \n",
       "11                 1809          1             2  offer received           1   \n",
       "16                 1809          1             2  offer received           4   \n",
       "...                 ...        ...           ...             ...         ...   \n",
       "272643             2237          1             0  offer received           5   \n",
       "272650             1735          1             2  offer received           0   \n",
       "272656             1735          1             2  offer received           3   \n",
       "272657             1735          1             2  offer received           4   \n",
       "272662             1735          1             2  offer received           5   \n",
       "\n",
       "        offer                                id  amount  \n",
       "2           1  9b98b8c7a33c4b65b9aebfe6a799e6d9     NaN  \n",
       "3           3  3f207df678b143eea3cee63160fa8bed     NaN  \n",
       "6           1  9b98b8c7a33c4b65b9aebfe6a799e6d9     NaN  \n",
       "11          3  5a8bc65990b245e5a138643cd4eb9837     NaN  \n",
       "16          1  ae264e3637204a6fb9bb56bc8210ddfd     NaN  \n",
       "...       ...                               ...     ...  \n",
       "272643      1  ae264e3637204a6fb9bb56bc8210ddfd     NaN  \n",
       "272650      2  2298d6c36e964ae4a3e7e9706d1fb8c2     NaN  \n",
       "272656      3  3f207df678b143eea3cee63160fa8bed     NaN  \n",
       "272657      1  f19421c1d4aa40978ebb69ca19b0e20d     NaN  \n",
       "272662      3  3f207df678b143eea3cee63160fa8bed     NaN  \n",
       "\n",
       "[66478 rows x 13 columns]"
      ]
     },
     "execution_count": 40,
     "metadata": {},
     "output_type": "execute_result"
    }
   ],
   "source": [
    "offers_received_df"
   ]
  },
  {
   "cell_type": "code",
   "execution_count": 41,
   "id": "ce4aa95b",
   "metadata": {
    "execution": {
     "iopub.execute_input": "2022-04-22T12:11:21.794231Z",
     "iopub.status.busy": "2022-04-22T12:11:21.793161Z",
     "iopub.status.idle": "2022-04-22T12:11:21.954153Z",
     "shell.execute_reply": "2022-04-22T12:11:21.953153Z",
     "shell.execute_reply.started": "2022-04-22T12:07:10.686453Z"
    },
    "papermill": {
     "duration": 0.272578,
     "end_time": "2022-04-22T12:11:21.954322",
     "exception": false,
     "start_time": "2022-04-22T12:11:21.681744",
     "status": "completed"
    },
    "tags": []
   },
   "outputs": [
    {
     "data": {
      "text/html": [
       "<div>\n",
       "<style scoped>\n",
       "    .dataframe tbody tr th:only-of-type {\n",
       "        vertical-align: middle;\n",
       "    }\n",
       "\n",
       "    .dataframe tbody tr th {\n",
       "        vertical-align: top;\n",
       "    }\n",
       "\n",
       "    .dataframe thead th {\n",
       "        text-align: right;\n",
       "    }\n",
       "</style>\n",
       "<table border=\"1\" class=\"dataframe\">\n",
       "  <thead>\n",
       "    <tr style=\"text-align: right;\">\n",
       "      <th></th>\n",
       "      <th>gender</th>\n",
       "      <th>customer_id</th>\n",
       "      <th>year</th>\n",
       "      <th>month</th>\n",
       "      <th>day</th>\n",
       "      <th>membership_days</th>\n",
       "      <th>age_group</th>\n",
       "      <th>income_group</th>\n",
       "      <th>event</th>\n",
       "      <th>time_group</th>\n",
       "      <th>offer</th>\n",
       "      <th>id</th>\n",
       "      <th>amount</th>\n",
       "      <th>reward</th>\n",
       "      <th>channels</th>\n",
       "      <th>difficulty</th>\n",
       "      <th>duration</th>\n",
       "      <th>offer_type</th>\n",
       "    </tr>\n",
       "  </thead>\n",
       "  <tbody>\n",
       "    <tr>\n",
       "      <th>0</th>\n",
       "      <td>F</td>\n",
       "      <td>0610b486422d4921ae7d2bf64640c50b</td>\n",
       "      <td>2017</td>\n",
       "      <td>7</td>\n",
       "      <td>Saturday</td>\n",
       "      <td>1742</td>\n",
       "      <td>0</td>\n",
       "      <td>3</td>\n",
       "      <td>offer received</td>\n",
       "      <td>4</td>\n",
       "      <td>1</td>\n",
       "      <td>9b98b8c7a33c4b65b9aebfe6a799e6d9</td>\n",
       "      <td>NaN</td>\n",
       "      <td>5</td>\n",
       "      <td>['web', 'email', 'mobile']</td>\n",
       "      <td>5</td>\n",
       "      <td>7</td>\n",
       "      <td>bogo</td>\n",
       "    </tr>\n",
       "    <tr>\n",
       "      <th>1</th>\n",
       "      <td>F</td>\n",
       "      <td>0610b486422d4921ae7d2bf64640c50b</td>\n",
       "      <td>2017</td>\n",
       "      <td>7</td>\n",
       "      <td>Saturday</td>\n",
       "      <td>1742</td>\n",
       "      <td>0</td>\n",
       "      <td>3</td>\n",
       "      <td>offer completed</td>\n",
       "      <td>5</td>\n",
       "      <td>1</td>\n",
       "      <td>9b98b8c7a33c4b65b9aebfe6a799e6d9</td>\n",
       "      <td>NaN</td>\n",
       "      <td>5</td>\n",
       "      <td>['web', 'email', 'mobile']</td>\n",
       "      <td>5</td>\n",
       "      <td>7</td>\n",
       "      <td>bogo</td>\n",
       "    </tr>\n",
       "  </tbody>\n",
       "</table>\n",
       "</div>"
      ],
      "text/plain": [
       "  gender                       customer_id  year  month       day  \\\n",
       "0      F  0610b486422d4921ae7d2bf64640c50b  2017      7  Saturday   \n",
       "1      F  0610b486422d4921ae7d2bf64640c50b  2017      7  Saturday   \n",
       "\n",
       "   membership_days  age_group  income_group            event  time_group  \\\n",
       "0             1742          0             3   offer received           4   \n",
       "1             1742          0             3  offer completed           5   \n",
       "\n",
       "   offer                                id  amount  reward  \\\n",
       "0      1  9b98b8c7a33c4b65b9aebfe6a799e6d9     NaN       5   \n",
       "1      1  9b98b8c7a33c4b65b9aebfe6a799e6d9     NaN       5   \n",
       "\n",
       "                     channels  difficulty  duration offer_type  \n",
       "0  ['web', 'email', 'mobile']           5         7       bogo  \n",
       "1  ['web', 'email', 'mobile']           5         7       bogo  "
      ]
     },
     "execution_count": 41,
     "metadata": {},
     "output_type": "execute_result"
    }
   ],
   "source": [
    "df1 = pd.merge(df, portfolio, on='id')\n",
    "df1.head(2)"
   ]
  },
  {
   "cell_type": "code",
   "execution_count": 42,
   "id": "ebcca8fe",
   "metadata": {
    "execution": {
     "iopub.execute_input": "2022-04-22T12:11:22.114436Z",
     "iopub.status.busy": "2022-04-22T12:11:22.113671Z",
     "iopub.status.idle": "2022-04-22T12:11:22.277668Z",
     "shell.execute_reply": "2022-04-22T12:11:22.278291Z",
     "shell.execute_reply.started": "2022-04-22T12:07:10.876685Z"
    },
    "papermill": {
     "duration": 0.246166,
     "end_time": "2022-04-22T12:11:22.278470",
     "exception": false,
     "start_time": "2022-04-22T12:11:22.032304",
     "status": "completed"
    },
    "tags": []
   },
   "outputs": [],
   "source": [
    "from sklearn.preprocessing import LabelEncoder\n",
    "\n",
    "df1 = df1.copy(deep = True)\n",
    "le_id = LabelEncoder()\n",
    "df1['customer_id'] = le_id.fit_transform(df1['customer_id'])\n"
   ]
  },
  {
   "cell_type": "code",
   "execution_count": 43,
   "id": "3c8a8542",
   "metadata": {
    "execution": {
     "iopub.execute_input": "2022-04-22T12:11:22.436491Z",
     "iopub.status.busy": "2022-04-22T12:11:22.435774Z",
     "iopub.status.idle": "2022-04-22T12:11:22.539792Z",
     "shell.execute_reply": "2022-04-22T12:11:22.539183Z",
     "shell.execute_reply.started": "2022-04-22T12:07:11.028275Z"
    },
    "papermill": {
     "duration": 0.185948,
     "end_time": "2022-04-22T12:11:22.539936",
     "exception": false,
     "start_time": "2022-04-22T12:11:22.353988",
     "status": "completed"
    },
    "tags": []
   },
   "outputs": [],
   "source": [
    "from sklearn.preprocessing import LabelEncoder\n",
    "\n",
    "df1 = df1.copy(deep = True)\n",
    "le_id = LabelEncoder()\n",
    "df1['id'] = le_id.fit_transform(df1['id'])\n"
   ]
  },
  {
   "cell_type": "code",
   "execution_count": 44,
   "id": "1d7bf874",
   "metadata": {
    "execution": {
     "iopub.execute_input": "2022-04-22T12:11:22.695243Z",
     "iopub.status.busy": "2022-04-22T12:11:22.694211Z",
     "iopub.status.idle": "2022-04-22T12:11:22.757158Z",
     "shell.execute_reply": "2022-04-22T12:11:22.757647Z",
     "shell.execute_reply.started": "2022-04-22T12:07:11.137500Z"
    },
    "papermill": {
     "duration": 0.143007,
     "end_time": "2022-04-22T12:11:22.757856",
     "exception": false,
     "start_time": "2022-04-22T12:11:22.614849",
     "status": "completed"
    },
    "tags": []
   },
   "outputs": [],
   "source": [
    "from sklearn.preprocessing import LabelEncoder\n",
    "\n",
    "df1 = df1.copy(deep = True)\n",
    "le_type = LabelEncoder()\n",
    "df1['offer_type'] = le_type.fit_transform(df1['offer_type'])\n"
   ]
  },
  {
   "cell_type": "code",
   "execution_count": 45,
   "id": "f603415f",
   "metadata": {
    "execution": {
     "iopub.execute_input": "2022-04-22T12:11:22.912777Z",
     "iopub.status.busy": "2022-04-22T12:11:22.911639Z",
     "iopub.status.idle": "2022-04-22T12:11:22.987584Z",
     "shell.execute_reply": "2022-04-22T12:11:22.988091Z",
     "shell.execute_reply.started": "2022-04-22T12:07:11.210170Z"
    },
    "papermill": {
     "duration": 0.155257,
     "end_time": "2022-04-22T12:11:22.988289",
     "exception": false,
     "start_time": "2022-04-22T12:11:22.833032",
     "status": "completed"
    },
    "tags": []
   },
   "outputs": [],
   "source": [
    "users = df1.copy(deep = True) \n",
    "offers = df1.copy(deep = True)\n",
    "rewards = df1.copy(deep = True)\n",
    "users = df1.drop(['year','day', 'month', 'amount', 'offer','id', 'event', 'time_group', 'reward', 'channels', 'difficulty', 'duration'],axis=1)\n",
    "offers = df1.drop(['year','day', 'month', 'amount', 'event', 'customer_id', 'gender', 'age_group', 'income_group', 'time_group', 'reward',  'difficulty', 'duration'],axis=1)\n",
    "rewards = df1.drop(['year','day', 'month', 'amount', 'event', 'gender', 'age_group', 'income_group', 'time_group','membership_days',  'difficulty', 'duration'],axis=1)"
   ]
  },
  {
   "cell_type": "code",
   "execution_count": 46,
   "id": "69bd104a",
   "metadata": {
    "execution": {
     "iopub.execute_input": "2022-04-22T12:11:23.151606Z",
     "iopub.status.busy": "2022-04-22T12:11:23.150950Z",
     "iopub.status.idle": "2022-04-22T12:11:23.153832Z",
     "shell.execute_reply": "2022-04-22T12:11:23.154327Z",
     "shell.execute_reply.started": "2022-04-22T12:07:11.287320Z"
    },
    "papermill": {
     "duration": 0.088897,
     "end_time": "2022-04-22T12:11:23.154500",
     "exception": false,
     "start_time": "2022-04-22T12:11:23.065603",
     "status": "completed"
    },
    "tags": []
   },
   "outputs": [
    {
     "data": {
      "text/html": [
       "<div>\n",
       "<style scoped>\n",
       "    .dataframe tbody tr th:only-of-type {\n",
       "        vertical-align: middle;\n",
       "    }\n",
       "\n",
       "    .dataframe tbody tr th {\n",
       "        vertical-align: top;\n",
       "    }\n",
       "\n",
       "    .dataframe thead th {\n",
       "        text-align: right;\n",
       "    }\n",
       "</style>\n",
       "<table border=\"1\" class=\"dataframe\">\n",
       "  <thead>\n",
       "    <tr style=\"text-align: right;\">\n",
       "      <th></th>\n",
       "      <th>membership_days</th>\n",
       "      <th>offer</th>\n",
       "      <th>id</th>\n",
       "      <th>channels</th>\n",
       "      <th>offer_type</th>\n",
       "    </tr>\n",
       "  </thead>\n",
       "  <tbody>\n",
       "    <tr>\n",
       "      <th>0</th>\n",
       "      <td>1742</td>\n",
       "      <td>1</td>\n",
       "      <td>6</td>\n",
       "      <td>['web', 'email', 'mobile']</td>\n",
       "      <td>0</td>\n",
       "    </tr>\n",
       "    <tr>\n",
       "      <th>1</th>\n",
       "      <td>1742</td>\n",
       "      <td>1</td>\n",
       "      <td>6</td>\n",
       "      <td>['web', 'email', 'mobile']</td>\n",
       "      <td>0</td>\n",
       "    </tr>\n",
       "  </tbody>\n",
       "</table>\n",
       "</div>"
      ],
      "text/plain": [
       "   membership_days  offer  id                    channels  offer_type\n",
       "0             1742      1   6  ['web', 'email', 'mobile']           0\n",
       "1             1742      1   6  ['web', 'email', 'mobile']           0"
      ]
     },
     "execution_count": 46,
     "metadata": {},
     "output_type": "execute_result"
    }
   ],
   "source": [
    "offers.head(2)"
   ]
  },
  {
   "cell_type": "code",
   "execution_count": 47,
   "id": "648c0b64",
   "metadata": {
    "execution": {
     "iopub.execute_input": "2022-04-22T12:11:23.309683Z",
     "iopub.status.busy": "2022-04-22T12:11:23.309032Z",
     "iopub.status.idle": "2022-04-22T12:11:23.319254Z",
     "shell.execute_reply": "2022-04-22T12:11:23.319808Z",
     "shell.execute_reply.started": "2022-04-22T12:07:11.300055Z"
    },
    "papermill": {
     "duration": 0.089801,
     "end_time": "2022-04-22T12:11:23.319999",
     "exception": false,
     "start_time": "2022-04-22T12:11:23.230198",
     "status": "completed"
    },
    "tags": []
   },
   "outputs": [
    {
     "data": {
      "text/html": [
       "<div>\n",
       "<style scoped>\n",
       "    .dataframe tbody tr th:only-of-type {\n",
       "        vertical-align: middle;\n",
       "    }\n",
       "\n",
       "    .dataframe tbody tr th {\n",
       "        vertical-align: top;\n",
       "    }\n",
       "\n",
       "    .dataframe thead th {\n",
       "        text-align: right;\n",
       "    }\n",
       "</style>\n",
       "<table border=\"1\" class=\"dataframe\">\n",
       "  <thead>\n",
       "    <tr style=\"text-align: right;\">\n",
       "      <th></th>\n",
       "      <th>gender</th>\n",
       "      <th>customer_id</th>\n",
       "      <th>membership_days</th>\n",
       "      <th>age_group</th>\n",
       "      <th>income_group</th>\n",
       "      <th>offer_type</th>\n",
       "    </tr>\n",
       "  </thead>\n",
       "  <tbody>\n",
       "    <tr>\n",
       "      <th>0</th>\n",
       "      <td>F</td>\n",
       "      <td>345</td>\n",
       "      <td>1742</td>\n",
       "      <td>0</td>\n",
       "      <td>3</td>\n",
       "      <td>0</td>\n",
       "    </tr>\n",
       "    <tr>\n",
       "      <th>1</th>\n",
       "      <td>F</td>\n",
       "      <td>345</td>\n",
       "      <td>1742</td>\n",
       "      <td>0</td>\n",
       "      <td>3</td>\n",
       "      <td>0</td>\n",
       "    </tr>\n",
       "  </tbody>\n",
       "</table>\n",
       "</div>"
      ],
      "text/plain": [
       "  gender  customer_id  membership_days  age_group  income_group  offer_type\n",
       "0      F          345             1742          0             3           0\n",
       "1      F          345             1742          0             3           0"
      ]
     },
     "execution_count": 47,
     "metadata": {},
     "output_type": "execute_result"
    }
   ],
   "source": [
    "users.head(2)"
   ]
  },
  {
   "cell_type": "code",
   "execution_count": 48,
   "id": "3194b6d1",
   "metadata": {
    "execution": {
     "iopub.execute_input": "2022-04-22T12:11:23.479056Z",
     "iopub.status.busy": "2022-04-22T12:11:23.478282Z",
     "iopub.status.idle": "2022-04-22T12:11:23.488363Z",
     "shell.execute_reply": "2022-04-22T12:11:23.489064Z",
     "shell.execute_reply.started": "2022-04-22T12:07:11.315645Z"
    },
    "papermill": {
     "duration": 0.090387,
     "end_time": "2022-04-22T12:11:23.489259",
     "exception": false,
     "start_time": "2022-04-22T12:11:23.398872",
     "status": "completed"
    },
    "tags": []
   },
   "outputs": [
    {
     "data": {
      "text/html": [
       "<div>\n",
       "<style scoped>\n",
       "    .dataframe tbody tr th:only-of-type {\n",
       "        vertical-align: middle;\n",
       "    }\n",
       "\n",
       "    .dataframe tbody tr th {\n",
       "        vertical-align: top;\n",
       "    }\n",
       "\n",
       "    .dataframe thead th {\n",
       "        text-align: right;\n",
       "    }\n",
       "</style>\n",
       "<table border=\"1\" class=\"dataframe\">\n",
       "  <thead>\n",
       "    <tr style=\"text-align: right;\">\n",
       "      <th></th>\n",
       "      <th>customer_id</th>\n",
       "      <th>offer</th>\n",
       "      <th>id</th>\n",
       "      <th>reward</th>\n",
       "      <th>channels</th>\n",
       "      <th>offer_type</th>\n",
       "    </tr>\n",
       "  </thead>\n",
       "  <tbody>\n",
       "    <tr>\n",
       "      <th>0</th>\n",
       "      <td>345</td>\n",
       "      <td>1</td>\n",
       "      <td>6</td>\n",
       "      <td>5</td>\n",
       "      <td>['web', 'email', 'mobile']</td>\n",
       "      <td>0</td>\n",
       "    </tr>\n",
       "    <tr>\n",
       "      <th>1</th>\n",
       "      <td>345</td>\n",
       "      <td>1</td>\n",
       "      <td>6</td>\n",
       "      <td>5</td>\n",
       "      <td>['web', 'email', 'mobile']</td>\n",
       "      <td>0</td>\n",
       "    </tr>\n",
       "  </tbody>\n",
       "</table>\n",
       "</div>"
      ],
      "text/plain": [
       "   customer_id  offer  id  reward                    channels  offer_type\n",
       "0          345      1   6       5  ['web', 'email', 'mobile']           0\n",
       "1          345      1   6       5  ['web', 'email', 'mobile']           0"
      ]
     },
     "execution_count": 48,
     "metadata": {},
     "output_type": "execute_result"
    }
   ],
   "source": [
    "rewards.head(2)"
   ]
  },
  {
   "cell_type": "code",
   "execution_count": 49,
   "id": "d33badca",
   "metadata": {
    "execution": {
     "iopub.execute_input": "2022-04-22T12:11:23.647032Z",
     "iopub.status.busy": "2022-04-22T12:11:23.646378Z",
     "iopub.status.idle": "2022-04-22T12:11:23.653594Z",
     "shell.execute_reply": "2022-04-22T12:11:23.654226Z",
     "shell.execute_reply.started": "2022-04-22T12:07:11.328369Z"
    },
    "papermill": {
     "duration": 0.087657,
     "end_time": "2022-04-22T12:11:23.654409",
     "exception": false,
     "start_time": "2022-04-22T12:11:23.566752",
     "status": "completed"
    },
    "tags": []
   },
   "outputs": [],
   "source": [
    "n_users = users.customer_id.unique().shape[0]\n",
    "n_offers = offers.offer_type.unique().shape[0]"
   ]
  },
  {
   "cell_type": "code",
   "execution_count": 50,
   "id": "7942ecda",
   "metadata": {
    "execution": {
     "iopub.execute_input": "2022-04-22T12:11:23.816117Z",
     "iopub.status.busy": "2022-04-22T12:11:23.815463Z",
     "iopub.status.idle": "2022-04-22T12:11:24.142335Z",
     "shell.execute_reply": "2022-04-22T12:11:24.142873Z",
     "shell.execute_reply.started": "2022-04-22T12:07:11.435069Z"
    },
    "papermill": {
     "duration": 0.408071,
     "end_time": "2022-04-22T12:11:24.143078",
     "exception": false,
     "start_time": "2022-04-22T12:11:23.735007",
     "status": "completed"
    },
    "tags": []
   },
   "outputs": [
    {
     "name": "stdout",
     "output_type": "stream",
     "text": [
      "Original rating matrix :  [[6. 0. 5.]\n",
      " [4. 9. 5.]\n",
      " [8. 1. 5.]\n",
      " ...\n",
      " [8. 0. 5.]\n",
      " [6. 0. 0.]\n",
      " [8. 9. 5.]]\n"
     ]
    }
   ],
   "source": [
    "\n",
    "A = np.zeros((n_users,n_offers))\n",
    "for line in rewards.itertuples():\n",
    "    A[line[1]-1,line[2]-1] = line[3]\n",
    "print(\"Original rating matrix : \",A)"
   ]
  },
  {
   "cell_type": "code",
   "execution_count": 51,
   "id": "ff3e9d74",
   "metadata": {
    "execution": {
     "iopub.execute_input": "2022-04-22T12:11:24.304251Z",
     "iopub.status.busy": "2022-04-22T12:11:24.303556Z",
     "iopub.status.idle": "2022-04-22T12:11:24.389446Z",
     "shell.execute_reply": "2022-04-22T12:11:24.389965Z",
     "shell.execute_reply.started": "2022-04-22T12:07:11.765724Z"
    },
    "papermill": {
     "duration": 0.16862,
     "end_time": "2022-04-22T12:11:24.390174",
     "exception": false,
     "start_time": "2022-04-22T12:11:24.221554",
     "status": "completed"
    },
    "tags": []
   },
   "outputs": [],
   "source": [
    "for i in range(len(A)):\n",
    "  for j in range(len(A[0])):\n",
    "    if A[i][j]>=3:\n",
    "      A[i][j]=1\n",
    "    else:\n",
    "      A[i][j]=0"
   ]
  },
  {
   "cell_type": "code",
   "execution_count": 52,
   "id": "0f471070",
   "metadata": {
    "execution": {
     "iopub.execute_input": "2022-04-22T12:11:24.549747Z",
     "iopub.status.busy": "2022-04-22T12:11:24.548803Z",
     "iopub.status.idle": "2022-04-22T12:11:24.555411Z",
     "shell.execute_reply": "2022-04-22T12:11:24.556283Z",
     "shell.execute_reply.started": "2022-04-22T12:07:12.004307Z"
    },
    "papermill": {
     "duration": 0.088697,
     "end_time": "2022-04-22T12:11:24.556526",
     "exception": false,
     "start_time": "2022-04-22T12:11:24.467829",
     "status": "completed"
    },
    "tags": []
   },
   "outputs": [
    {
     "name": "stdout",
     "output_type": "stream",
     "text": [
      "  (0, 0)\t1.0\n",
      "  (0, 2)\t1.0\n",
      "  (1, 0)\t1.0\n",
      "  (1, 1)\t1.0\n",
      "  (1, 2)\t1.0\n",
      "  (2, 0)\t1.0\n",
      "  (2, 2)\t1.0\n",
      "  (3, 2)\t1.0\n",
      "  (4, 2)\t1.0\n",
      "  (5, 0)\t1.0\n",
      "  (5, 1)\t1.0\n",
      "  (5, 2)\t1.0\n",
      "  (6, 0)\t1.0\n",
      "  (6, 1)\t1.0\n",
      "  (7, 0)\t1.0\n",
      "  (8, 0)\t1.0\n",
      "  (8, 2)\t1.0\n",
      "  (9, 0)\t1.0\n",
      "  (9, 2)\t1.0\n",
      "  (10, 0)\t1.0\n",
      "  (10, 2)\t1.0\n",
      "  (11, 0)\t1.0\n",
      "  (11, 2)\t1.0\n",
      "  (12, 0)\t1.0\n",
      "  (13, 0)\t1.0\n",
      "  :\t:\n",
      "  (14803, 0)\t1.0\n",
      "  (14803, 1)\t1.0\n",
      "  (14804, 0)\t1.0\n",
      "  (14804, 2)\t1.0\n",
      "  (14805, 0)\t1.0\n",
      "  (14805, 2)\t1.0\n",
      "  (14806, 0)\t1.0\n",
      "  (14807, 0)\t1.0\n",
      "  (14807, 2)\t1.0\n",
      "  (14808, 0)\t1.0\n",
      "  (14808, 1)\t1.0\n",
      "  (14809, 0)\t1.0\n",
      "  (14809, 1)\t1.0\n",
      "  (14809, 2)\t1.0\n",
      "  (14810, 0)\t1.0\n",
      "  (14810, 1)\t1.0\n",
      "  (14811, 0)\t1.0\n",
      "  (14811, 1)\t1.0\n",
      "  (14811, 2)\t1.0\n",
      "  (14812, 0)\t1.0\n",
      "  (14812, 2)\t1.0\n",
      "  (14813, 0)\t1.0\n",
      "  (14814, 0)\t1.0\n",
      "  (14814, 1)\t1.0\n",
      "  (14814, 2)\t1.0\n"
     ]
    }
   ],
   "source": [
    "csr_sample = csr_matrix(A)\n",
    "print(csr_sample)"
   ]
  },
  {
   "cell_type": "code",
   "execution_count": 53,
   "id": "11604621",
   "metadata": {
    "execution": {
     "iopub.execute_input": "2022-04-22T12:11:24.718287Z",
     "iopub.status.busy": "2022-04-22T12:11:24.717576Z",
     "iopub.status.idle": "2022-04-22T12:11:24.726306Z",
     "shell.execute_reply": "2022-04-22T12:11:24.726838Z",
     "shell.execute_reply.started": "2022-04-22T12:07:12.259644Z"
    },
    "papermill": {
     "duration": 0.091381,
     "end_time": "2022-04-22T12:11:24.727014",
     "exception": false,
     "start_time": "2022-04-22T12:11:24.635633",
     "status": "completed"
    },
    "tags": []
   },
   "outputs": [
    {
     "data": {
      "text/plain": [
       "NearestNeighbors(algorithm='brute', metric='cosine', n_jobs=-1, n_neighbors=3)"
      ]
     },
     "execution_count": 53,
     "metadata": {},
     "output_type": "execute_result"
    }
   ],
   "source": [
    "knn = NearestNeighbors(metric='cosine', algorithm='brute', n_neighbors=3, n_jobs=-1)\n",
    "knn.fit(csr_sample)"
   ]
  },
  {
   "cell_type": "code",
   "execution_count": 54,
   "id": "5f66802d",
   "metadata": {
    "execution": {
     "iopub.execute_input": "2022-04-22T12:11:24.887306Z",
     "iopub.status.busy": "2022-04-22T12:11:24.886544Z",
     "iopub.status.idle": "2022-04-22T12:11:24.919278Z",
     "shell.execute_reply": "2022-04-22T12:11:24.919958Z",
     "shell.execute_reply.started": "2022-04-22T12:07:12.709396Z"
    },
    "papermill": {
     "duration": 0.114756,
     "end_time": "2022-04-22T12:11:24.920151",
     "exception": false,
     "start_time": "2022-04-22T12:11:24.805395",
     "status": "completed"
    },
    "tags": []
   },
   "outputs": [
    {
     "name": "stdout",
     "output_type": "stream",
     "text": [
      "offers recommended for user:  27433     2\n",
      "27434     2\n",
      "3472      0\n",
      "16792     2\n",
      "16793     2\n",
      "123251    1\n",
      "106768    1\n",
      "123250    1\n",
      "106767    1\n",
      "123252    1\n",
      "3470      0\n",
      "3471      0\n",
      "106769    1\n",
      "Name: offer_type, dtype: int64\n"
     ]
    }
   ],
   "source": [
    "dataset_sort_des = rewards.sort_values(['customer_id'], ascending=[True])\n",
    "filter1 = dataset_sort_des[dataset_sort_des['customer_id'] == 1].offer_type\n",
    "filter1 \n",
    "print(\"offers recommended for user: \",filter1)"
   ]
  },
  {
   "cell_type": "code",
   "execution_count": null,
   "id": "0afd374b",
   "metadata": {
    "papermill": {
     "duration": 0.079264,
     "end_time": "2022-04-22T12:11:25.078313",
     "exception": false,
     "start_time": "2022-04-22T12:11:24.999049",
     "status": "completed"
    },
    "tags": []
   },
   "outputs": [],
   "source": []
  },
  {
   "cell_type": "code",
   "execution_count": null,
   "id": "8eddf8c3",
   "metadata": {
    "papermill": {
     "duration": 0.078084,
     "end_time": "2022-04-22T12:11:25.237458",
     "exception": false,
     "start_time": "2022-04-22T12:11:25.159374",
     "status": "completed"
    },
    "tags": []
   },
   "outputs": [],
   "source": []
  },
  {
   "cell_type": "code",
   "execution_count": null,
   "id": "fbb1e0aa",
   "metadata": {
    "papermill": {
     "duration": 0.093052,
     "end_time": "2022-04-22T12:11:25.409135",
     "exception": false,
     "start_time": "2022-04-22T12:11:25.316083",
     "status": "completed"
    },
    "tags": []
   },
   "outputs": [],
   "source": []
  },
  {
   "cell_type": "code",
   "execution_count": null,
   "id": "1f51805c",
   "metadata": {
    "papermill": {
     "duration": 0.07827,
     "end_time": "2022-04-22T12:11:25.577448",
     "exception": false,
     "start_time": "2022-04-22T12:11:25.499178",
     "status": "completed"
    },
    "tags": []
   },
   "outputs": [],
   "source": []
  },
  {
   "cell_type": "code",
   "execution_count": null,
   "id": "72796482",
   "metadata": {
    "papermill": {
     "duration": 0.080076,
     "end_time": "2022-04-22T12:11:25.735545",
     "exception": false,
     "start_time": "2022-04-22T12:11:25.655469",
     "status": "completed"
    },
    "tags": []
   },
   "outputs": [],
   "source": []
  },
  {
   "cell_type": "code",
   "execution_count": null,
   "id": "8d17bf84",
   "metadata": {
    "papermill": {
     "duration": 0.078125,
     "end_time": "2022-04-22T12:11:25.892995",
     "exception": false,
     "start_time": "2022-04-22T12:11:25.814870",
     "status": "completed"
    },
    "tags": []
   },
   "outputs": [],
   "source": []
  },
  {
   "cell_type": "code",
   "execution_count": null,
   "id": "77deb875",
   "metadata": {
    "papermill": {
     "duration": 0.079954,
     "end_time": "2022-04-22T12:11:26.052502",
     "exception": false,
     "start_time": "2022-04-22T12:11:25.972548",
     "status": "completed"
    },
    "tags": []
   },
   "outputs": [],
   "source": []
  },
  {
   "cell_type": "code",
   "execution_count": null,
   "id": "6a9d7ba9",
   "metadata": {
    "papermill": {
     "duration": 0.081632,
     "end_time": "2022-04-22T12:11:26.224638",
     "exception": false,
     "start_time": "2022-04-22T12:11:26.143006",
     "status": "completed"
    },
    "tags": []
   },
   "outputs": [],
   "source": []
  }
 ],
 "metadata": {
  "kernelspec": {
   "display_name": "Python 3",
   "language": "python",
   "name": "python3"
  },
  "language_info": {
   "codemirror_mode": {
    "name": "ipython",
    "version": 3
   },
   "file_extension": ".py",
   "mimetype": "text/x-python",
   "name": "python",
   "nbconvert_exporter": "python",
   "pygments_lexer": "ipython3",
   "version": "3.7.12"
  },
  "papermill": {
   "default_parameters": {},
   "duration": 32.449432,
   "end_time": "2022-04-22T12:11:27.216113",
   "environment_variables": {},
   "exception": null,
   "input_path": "__notebook__.ipynb",
   "output_path": "__notebook__.ipynb",
   "parameters": {},
   "start_time": "2022-04-22T12:10:54.766681",
   "version": "2.3.3"
  }
 },
 "nbformat": 4,
 "nbformat_minor": 5
}
