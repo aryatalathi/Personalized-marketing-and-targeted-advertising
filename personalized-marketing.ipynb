{
 "cells": [
  {
   "cell_type": "markdown",
   "id": "2ef5bf1e",
   "metadata": {
    "papermill": {
     "duration": 0.069161,
     "end_time": "2022-04-27T06:46:46.323931",
     "exception": false,
     "start_time": "2022-04-27T06:46:46.254770",
     "status": "completed"
    },
    "tags": []
   },
   "source": [
    "# Personalized Marketing and Targeted Advertisng"
   ]
  },
  {
   "cell_type": "markdown",
   "id": "d6fc6cc6",
   "metadata": {
    "papermill": {
     "duration": 0.068647,
     "end_time": "2022-04-27T06:46:46.459515",
     "exception": false,
     "start_time": "2022-04-27T06:46:46.390868",
     "status": "completed"
    },
    "tags": []
   },
   "source": [
    "**This notebook is divided into following sections:**\n",
    "1. Importing data and required libraries\n",
    "2. Data Cleaning\n",
    "3. Segmentation\n",
    "4. Data Modelling\n",
    "5. Conclusion"
   ]
  },
  {
   "cell_type": "markdown",
   "id": "d68411eb",
   "metadata": {
    "papermill": {
     "duration": 0.066598,
     "end_time": "2022-04-27T06:46:46.593042",
     "exception": false,
     "start_time": "2022-04-27T06:46:46.526444",
     "status": "completed"
    },
    "tags": []
   },
   "source": [
    "# **1. Importing data and required libraries**"
   ]
  },
  {
   "cell_type": "code",
   "execution_count": 1,
   "id": "e896c73f",
   "metadata": {
    "_cell_guid": "b1076dfc-b9ad-4769-8c92-a6c4dae69d19",
    "_uuid": "8f2839f25d086af736a60e9eeb907d3b93b6e0e5",
    "execution": {
     "iopub.execute_input": "2022-04-27T06:46:46.734363Z",
     "iopub.status.busy": "2022-04-27T06:46:46.733209Z",
     "iopub.status.idle": "2022-04-27T06:46:46.752453Z",
     "shell.execute_reply": "2022-04-27T06:46:46.753161Z",
     "shell.execute_reply.started": "2022-04-27T06:34:45.346853Z"
    },
    "papermill": {
     "duration": 0.091328,
     "end_time": "2022-04-27T06:46:46.753533",
     "exception": false,
     "start_time": "2022-04-27T06:46:46.662205",
     "status": "completed"
    },
    "tags": []
   },
   "outputs": [
    {
     "name": "stdout",
     "output_type": "stream",
     "text": [
      "/kaggle/input/starbucks-customer-data/transcript.csv\n",
      "/kaggle/input/starbucks-customer-data/profile.csv\n",
      "/kaggle/input/starbucks-customer-data/portfolio.csv\n"
     ]
    }
   ],
   "source": [
    "# This Python 3 environment comes with many helpful analytics libraries installed\n",
    "# It is defined by the kaggle/python Docker image: https://github.com/kaggle/docker-python\n",
    "# For example, here's several helpful packages to load\n",
    "\n",
    "import numpy as np # linear algebra\n",
    "import pandas as pd # data processing, CSV file I/O (e.g. pd.read_csv)\n",
    "\n",
    "# Input data files are available in the read-only \"../input/\" directory\n",
    "# For example, running this (by clicking run or pressing Shift+Enter) will list all files under the input directory\n",
    "\n",
    "import os\n",
    "for dirname, _, filenames in os.walk('/kaggle/input'):\n",
    "    for filename in filenames:\n",
    "        print(os.path.join(dirname, filename))\n",
    "\n",
    "# You can write up to 20GB to the current directory (/kaggle/working/) that gets preserved as output when you create a version using \"Save & Run All\" \n",
    "# You can also write temporary files to /kaggle/temp/, but they won't be saved outside of the current session"
   ]
  },
  {
   "cell_type": "code",
   "execution_count": 2,
   "id": "6d8edb99",
   "metadata": {
    "execution": {
     "iopub.execute_input": "2022-04-27T06:46:46.897193Z",
     "iopub.status.busy": "2022-04-27T06:46:46.896168Z",
     "iopub.status.idle": "2022-04-27T06:46:49.509586Z",
     "shell.execute_reply": "2022-04-27T06:46:49.510082Z",
     "shell.execute_reply.started": "2022-04-27T06:34:45.443780Z"
    },
    "papermill": {
     "duration": 2.687024,
     "end_time": "2022-04-27T06:46:49.510263",
     "exception": false,
     "start_time": "2022-04-27T06:46:46.823239",
     "status": "completed"
    },
    "tags": []
   },
   "outputs": [],
   "source": [
    "import matplotlib.pyplot as plt\n",
    "import seaborn as sns\n",
    "from scipy.sparse import csr_matrix\n",
    "from sklearn.neighbors import NearestNeighbors\n",
    "import plotly as py\n",
    "import plotly.express as px\n",
    "import plotly.graph_objs as go\n",
    "from plotly.subplots import make_subplots\n",
    "from plotly.offline import init_notebook_mode, iplot, plot\n",
    "import math\n",
    "from sklearn.metrics import mean_absolute_error\n",
    "from sklearn.metrics import mean_squared_error\n",
    "from sklearn.metrics import r2_score\n",
    "from math import sqrt\n",
    "\n",
    "import warnings \n",
    "warnings.filterwarnings('ignore')\n",
    "%matplotlib inline"
   ]
  },
  {
   "cell_type": "code",
   "execution_count": 3,
   "id": "d57397c0",
   "metadata": {
    "execution": {
     "iopub.execute_input": "2022-04-27T06:46:49.649490Z",
     "iopub.status.busy": "2022-04-27T06:46:49.648845Z",
     "iopub.status.idle": "2022-04-27T06:46:50.339643Z",
     "shell.execute_reply": "2022-04-27T06:46:50.340205Z",
     "shell.execute_reply.started": "2022-04-27T06:34:45.549526Z"
    },
    "papermill": {
     "duration": 0.762786,
     "end_time": "2022-04-27T06:46:50.340381",
     "exception": false,
     "start_time": "2022-04-27T06:46:49.577595",
     "status": "completed"
    },
    "tags": []
   },
   "outputs": [],
   "source": [
    "portfolio = pd.read_csv('../input/starbucks-customer-data/portfolio.csv')\n",
    "profile = pd.read_csv('../input/starbucks-customer-data/profile.csv')\n",
    "transcript = pd.read_csv('../input/starbucks-customer-data/transcript.csv')"
   ]
  },
  {
   "cell_type": "code",
   "execution_count": 4,
   "id": "27e73172",
   "metadata": {
    "execution": {
     "iopub.execute_input": "2022-04-27T06:46:50.479302Z",
     "iopub.status.busy": "2022-04-27T06:46:50.478527Z",
     "iopub.status.idle": "2022-04-27T06:46:50.752928Z",
     "shell.execute_reply": "2022-04-27T06:46:50.752176Z",
     "shell.execute_reply.started": "2022-04-27T06:34:45.948602Z"
    },
    "papermill": {
     "duration": 0.344798,
     "end_time": "2022-04-27T06:46:50.753156",
     "exception": false,
     "start_time": "2022-04-27T06:46:50.408358",
     "status": "completed"
    },
    "tags": []
   },
   "outputs": [
    {
     "name": "stdout",
     "output_type": "stream",
     "text": [
      "<class 'pandas.core.frame.DataFrame'>\n",
      "RangeIndex: 10 entries, 0 to 9\n",
      "Data columns (total 7 columns):\n",
      " #   Column      Non-Null Count  Dtype \n",
      "---  ------      --------------  ----- \n",
      " 0   Unnamed: 0  10 non-null     int64 \n",
      " 1   reward      10 non-null     int64 \n",
      " 2   channels    10 non-null     object\n",
      " 3   difficulty  10 non-null     int64 \n",
      " 4   duration    10 non-null     int64 \n",
      " 5   offer_type  10 non-null     object\n",
      " 6   id          10 non-null     object\n",
      "dtypes: int64(4), object(3)\n",
      "memory usage: 688.0+ bytes\n",
      "<class 'pandas.core.frame.DataFrame'>\n",
      "RangeIndex: 17000 entries, 0 to 16999\n",
      "Data columns (total 6 columns):\n",
      " #   Column            Non-Null Count  Dtype  \n",
      "---  ------            --------------  -----  \n",
      " 0   Unnamed: 0        17000 non-null  int64  \n",
      " 1   gender            14825 non-null  object \n",
      " 2   age               17000 non-null  int64  \n",
      " 3   id                17000 non-null  object \n",
      " 4   became_member_on  17000 non-null  int64  \n",
      " 5   income            14825 non-null  float64\n",
      "dtypes: float64(1), int64(3), object(2)\n",
      "memory usage: 797.0+ KB\n",
      "<class 'pandas.core.frame.DataFrame'>\n",
      "RangeIndex: 306534 entries, 0 to 306533\n",
      "Data columns (total 5 columns):\n",
      " #   Column      Non-Null Count   Dtype \n",
      "---  ------      --------------   ----- \n",
      " 0   Unnamed: 0  306534 non-null  int64 \n",
      " 1   person      306534 non-null  object\n",
      " 2   event       306534 non-null  object\n",
      " 3   value       306534 non-null  object\n",
      " 4   time        306534 non-null  int64 \n",
      "dtypes: int64(2), object(3)\n",
      "memory usage: 11.7+ MB\n"
     ]
    }
   ],
   "source": [
    "portfolio.info()\n",
    "profile.info()\n",
    "transcript.info()"
   ]
  },
  {
   "cell_type": "markdown",
   "id": "e51bef55",
   "metadata": {
    "papermill": {
     "duration": 0.068113,
     "end_time": "2022-04-27T06:46:50.890524",
     "exception": false,
     "start_time": "2022-04-27T06:46:50.822411",
     "status": "completed"
    },
    "tags": []
   },
   "source": [
    "# **2. Data Cleaning**"
   ]
  },
  {
   "cell_type": "code",
   "execution_count": 5,
   "id": "1d523af9",
   "metadata": {
    "execution": {
     "iopub.execute_input": "2022-04-27T06:46:51.038491Z",
     "iopub.status.busy": "2022-04-27T06:46:51.037689Z",
     "iopub.status.idle": "2022-04-27T06:46:51.041368Z",
     "shell.execute_reply": "2022-04-27T06:46:51.041856Z",
     "shell.execute_reply.started": "2022-04-27T06:34:46.083605Z"
    },
    "papermill": {
     "duration": 0.082131,
     "end_time": "2022-04-27T06:46:51.042023",
     "exception": false,
     "start_time": "2022-04-27T06:46:50.959892",
     "status": "completed"
    },
    "tags": []
   },
   "outputs": [
    {
     "data": {
      "text/plain": [
       "Unnamed: 0    0\n",
       "reward        0\n",
       "channels      0\n",
       "difficulty    0\n",
       "duration      0\n",
       "offer_type    0\n",
       "id            0\n",
       "dtype: int64"
      ]
     },
     "execution_count": 5,
     "metadata": {},
     "output_type": "execute_result"
    }
   ],
   "source": [
    "portfolio.isnull().sum()"
   ]
  },
  {
   "cell_type": "code",
   "execution_count": 6,
   "id": "9d212316",
   "metadata": {
    "execution": {
     "iopub.execute_input": "2022-04-27T06:46:51.189319Z",
     "iopub.status.busy": "2022-04-27T06:46:51.185004Z",
     "iopub.status.idle": "2022-04-27T06:46:51.195152Z",
     "shell.execute_reply": "2022-04-27T06:46:51.195648Z",
     "shell.execute_reply.started": "2022-04-27T06:34:46.097006Z"
    },
    "papermill": {
     "duration": 0.084373,
     "end_time": "2022-04-27T06:46:51.195831",
     "exception": false,
     "start_time": "2022-04-27T06:46:51.111458",
     "status": "completed"
    },
    "tags": []
   },
   "outputs": [
    {
     "data": {
      "text/plain": [
       "Unnamed: 0             0\n",
       "gender              2175\n",
       "age                    0\n",
       "id                     0\n",
       "became_member_on       0\n",
       "income              2175\n",
       "dtype: int64"
      ]
     },
     "execution_count": 6,
     "metadata": {},
     "output_type": "execute_result"
    }
   ],
   "source": [
    "profile.isnull().sum()"
   ]
  },
  {
   "cell_type": "code",
   "execution_count": 7,
   "id": "d3bbc100",
   "metadata": {
    "execution": {
     "iopub.execute_input": "2022-04-27T06:46:51.338354Z",
     "iopub.status.busy": "2022-04-27T06:46:51.336601Z",
     "iopub.status.idle": "2022-04-27T06:46:51.443145Z",
     "shell.execute_reply": "2022-04-27T06:46:51.443691Z",
     "shell.execute_reply.started": "2022-04-27T06:34:46.123742Z"
    },
    "papermill": {
     "duration": 0.179318,
     "end_time": "2022-04-27T06:46:51.443875",
     "exception": false,
     "start_time": "2022-04-27T06:46:51.264557",
     "status": "completed"
    },
    "tags": []
   },
   "outputs": [
    {
     "data": {
      "text/plain": [
       "Unnamed: 0    0\n",
       "person        0\n",
       "event         0\n",
       "value         0\n",
       "time          0\n",
       "dtype: int64"
      ]
     },
     "execution_count": 7,
     "metadata": {},
     "output_type": "execute_result"
    }
   ],
   "source": [
    "transcript.isnull().sum()"
   ]
  },
  {
   "cell_type": "code",
   "execution_count": 8,
   "id": "a9d5f2fd",
   "metadata": {
    "execution": {
     "iopub.execute_input": "2022-04-27T06:46:51.586258Z",
     "iopub.status.busy": "2022-04-27T06:46:51.585210Z",
     "iopub.status.idle": "2022-04-27T06:46:51.608569Z",
     "shell.execute_reply": "2022-04-27T06:46:51.609107Z",
     "shell.execute_reply.started": "2022-04-27T06:34:46.239173Z"
    },
    "papermill": {
     "duration": 0.096425,
     "end_time": "2022-04-27T06:46:51.609288",
     "exception": false,
     "start_time": "2022-04-27T06:46:51.512863",
     "status": "completed"
    },
    "tags": []
   },
   "outputs": [],
   "source": [
    "profile.drop('Unnamed: 0', axis=1, inplace=True)\n",
    "transcript.drop('Unnamed: 0', axis=1, inplace=True)\n",
    "portfolio.drop('Unnamed: 0', axis=1, inplace=True)"
   ]
  },
  {
   "cell_type": "code",
   "execution_count": 9,
   "id": "fbdb2667",
   "metadata": {
    "execution": {
     "iopub.execute_input": "2022-04-27T06:46:51.753056Z",
     "iopub.status.busy": "2022-04-27T06:46:51.752009Z",
     "iopub.status.idle": "2022-04-27T06:46:51.759243Z",
     "shell.execute_reply": "2022-04-27T06:46:51.759759Z",
     "shell.execute_reply.started": "2022-04-27T06:34:46.261204Z"
    },
    "papermill": {
     "duration": 0.080533,
     "end_time": "2022-04-27T06:46:51.759976",
     "exception": false,
     "start_time": "2022-04-27T06:46:51.679443",
     "status": "completed"
    },
    "tags": []
   },
   "outputs": [],
   "source": [
    "profile['gender'].fillna(\"O\", inplace=True)"
   ]
  },
  {
   "cell_type": "code",
   "execution_count": 10,
   "id": "a8b25b42",
   "metadata": {
    "execution": {
     "iopub.execute_input": "2022-04-27T06:46:51.904737Z",
     "iopub.status.busy": "2022-04-27T06:46:51.903752Z",
     "iopub.status.idle": "2022-04-27T06:46:51.913701Z",
     "shell.execute_reply": "2022-04-27T06:46:51.913180Z",
     "shell.execute_reply.started": "2022-04-27T06:34:46.272859Z"
    },
    "papermill": {
     "duration": 0.082912,
     "end_time": "2022-04-27T06:46:51.913858",
     "exception": false,
     "start_time": "2022-04-27T06:46:51.830946",
     "status": "completed"
    },
    "tags": []
   },
   "outputs": [
    {
     "data": {
      "text/plain": [
       "O    2175\n",
       "Name: gender, dtype: int64"
      ]
     },
     "execution_count": 10,
     "metadata": {},
     "output_type": "execute_result"
    }
   ],
   "source": [
    "profile[profile['age']==118]['gender'].value_counts()"
   ]
  },
  {
   "cell_type": "code",
   "execution_count": 11,
   "id": "0eb45cd0",
   "metadata": {
    "execution": {
     "iopub.execute_input": "2022-04-27T06:46:52.061621Z",
     "iopub.status.busy": "2022-04-27T06:46:52.060614Z",
     "iopub.status.idle": "2022-04-27T06:46:52.074942Z",
     "shell.execute_reply": "2022-04-27T06:46:52.075405Z",
     "shell.execute_reply.started": "2022-04-27T06:34:46.294528Z"
    },
    "papermill": {
     "duration": 0.090467,
     "end_time": "2022-04-27T06:46:52.075580",
     "exception": false,
     "start_time": "2022-04-27T06:46:51.985113",
     "status": "completed"
    },
    "tags": []
   },
   "outputs": [
    {
     "data": {
      "text/plain": [
       "gender              0\n",
       "age                 0\n",
       "id                  0\n",
       "became_member_on    0\n",
       "income              0\n",
       "dtype: int64"
      ]
     },
     "execution_count": 11,
     "metadata": {},
     "output_type": "execute_result"
    }
   ],
   "source": [
    "profile.drop(profile.index[(profile['age'] < 119) & (profile['age'] > 100)], inplace = True)\n",
    "profile.isnull().sum()"
   ]
  },
  {
   "cell_type": "code",
   "execution_count": 12,
   "id": "771ff888",
   "metadata": {
    "execution": {
     "iopub.execute_input": "2022-04-27T06:46:52.226958Z",
     "iopub.status.busy": "2022-04-27T06:46:52.226242Z",
     "iopub.status.idle": "2022-04-27T06:46:53.252382Z",
     "shell.execute_reply": "2022-04-27T06:46:53.251750Z",
     "shell.execute_reply.started": "2022-04-27T06:34:46.376222Z"
    },
    "papermill": {
     "duration": 1.106286,
     "end_time": "2022-04-27T06:46:53.252522",
     "exception": false,
     "start_time": "2022-04-27T06:46:52.146236",
     "status": "completed"
    },
    "tags": []
   },
   "outputs": [
    {
     "data": {
      "text/html": [
       "        <script type=\"text/javascript\">\n",
       "        window.PlotlyConfig = {MathJaxConfig: 'local'};\n",
       "        if (window.MathJax) {MathJax.Hub.Config({SVG: {font: \"STIX-Web\"}});}\n",
       "        if (typeof require !== 'undefined') {\n",
       "        require.undef(\"plotly\");\n",
       "        requirejs.config({\n",
       "            paths: {\n",
       "                'plotly': ['https://cdn.plot.ly/plotly-2.9.0.min']\n",
       "            }\n",
       "        });\n",
       "        require(['plotly'], function(Plotly) {\n",
       "            window._Plotly = Plotly;\n",
       "        });\n",
       "        }\n",
       "        </script>\n",
       "        "
      ]
     },
     "metadata": {},
     "output_type": "display_data"
    },
    {
     "data": {
      "text/html": [
       "<div>                            <div id=\"d9f51db1-ce51-4e93-aebc-d446b187dd95\" class=\"plotly-graph-div\" style=\"height:525px; width:100%;\"></div>            <script type=\"text/javascript\">                require([\"plotly\"], function(Plotly) {                    window.PLOTLYENV=window.PLOTLYENV || {};                                    if (document.getElementById(\"d9f51db1-ce51-4e93-aebc-d446b187dd95\")) {                    Plotly.newPlot(                        \"d9f51db1-ce51-4e93-aebc-d446b187dd95\",                        [{\"domain\":{\"x\":[0.0,1.0],\"y\":[0.0,1.0]},\"hovertemplate\":\"gender=%{label}<br>count=%{value}<extra></extra>\",\"labels\":[\"M\",\"F\",\"O\"],\"legendgroup\":\"\",\"name\":\"\",\"showlegend\":true,\"values\":[8484,6124,212],\"type\":\"pie\"}],                        {\"template\":{\"data\":{\"bar\":[{\"error_x\":{\"color\":\"#2a3f5f\"},\"error_y\":{\"color\":\"#2a3f5f\"},\"marker\":{\"line\":{\"color\":\"#E5ECF6\",\"width\":0.5},\"pattern\":{\"fillmode\":\"overlay\",\"size\":10,\"solidity\":0.2}},\"type\":\"bar\"}],\"barpolar\":[{\"marker\":{\"line\":{\"color\":\"#E5ECF6\",\"width\":0.5},\"pattern\":{\"fillmode\":\"overlay\",\"size\":10,\"solidity\":0.2}},\"type\":\"barpolar\"}],\"carpet\":[{\"aaxis\":{\"endlinecolor\":\"#2a3f5f\",\"gridcolor\":\"white\",\"linecolor\":\"white\",\"minorgridcolor\":\"white\",\"startlinecolor\":\"#2a3f5f\"},\"baxis\":{\"endlinecolor\":\"#2a3f5f\",\"gridcolor\":\"white\",\"linecolor\":\"white\",\"minorgridcolor\":\"white\",\"startlinecolor\":\"#2a3f5f\"},\"type\":\"carpet\"}],\"choropleth\":[{\"colorbar\":{\"outlinewidth\":0,\"ticks\":\"\"},\"type\":\"choropleth\"}],\"contour\":[{\"colorbar\":{\"outlinewidth\":0,\"ticks\":\"\"},\"colorscale\":[[0.0,\"#0d0887\"],[0.1111111111111111,\"#46039f\"],[0.2222222222222222,\"#7201a8\"],[0.3333333333333333,\"#9c179e\"],[0.4444444444444444,\"#bd3786\"],[0.5555555555555556,\"#d8576b\"],[0.6666666666666666,\"#ed7953\"],[0.7777777777777778,\"#fb9f3a\"],[0.8888888888888888,\"#fdca26\"],[1.0,\"#f0f921\"]],\"type\":\"contour\"}],\"contourcarpet\":[{\"colorbar\":{\"outlinewidth\":0,\"ticks\":\"\"},\"type\":\"contourcarpet\"}],\"heatmap\":[{\"colorbar\":{\"outlinewidth\":0,\"ticks\":\"\"},\"colorscale\":[[0.0,\"#0d0887\"],[0.1111111111111111,\"#46039f\"],[0.2222222222222222,\"#7201a8\"],[0.3333333333333333,\"#9c179e\"],[0.4444444444444444,\"#bd3786\"],[0.5555555555555556,\"#d8576b\"],[0.6666666666666666,\"#ed7953\"],[0.7777777777777778,\"#fb9f3a\"],[0.8888888888888888,\"#fdca26\"],[1.0,\"#f0f921\"]],\"type\":\"heatmap\"}],\"heatmapgl\":[{\"colorbar\":{\"outlinewidth\":0,\"ticks\":\"\"},\"colorscale\":[[0.0,\"#0d0887\"],[0.1111111111111111,\"#46039f\"],[0.2222222222222222,\"#7201a8\"],[0.3333333333333333,\"#9c179e\"],[0.4444444444444444,\"#bd3786\"],[0.5555555555555556,\"#d8576b\"],[0.6666666666666666,\"#ed7953\"],[0.7777777777777778,\"#fb9f3a\"],[0.8888888888888888,\"#fdca26\"],[1.0,\"#f0f921\"]],\"type\":\"heatmapgl\"}],\"histogram\":[{\"marker\":{\"pattern\":{\"fillmode\":\"overlay\",\"size\":10,\"solidity\":0.2}},\"type\":\"histogram\"}],\"histogram2d\":[{\"colorbar\":{\"outlinewidth\":0,\"ticks\":\"\"},\"colorscale\":[[0.0,\"#0d0887\"],[0.1111111111111111,\"#46039f\"],[0.2222222222222222,\"#7201a8\"],[0.3333333333333333,\"#9c179e\"],[0.4444444444444444,\"#bd3786\"],[0.5555555555555556,\"#d8576b\"],[0.6666666666666666,\"#ed7953\"],[0.7777777777777778,\"#fb9f3a\"],[0.8888888888888888,\"#fdca26\"],[1.0,\"#f0f921\"]],\"type\":\"histogram2d\"}],\"histogram2dcontour\":[{\"colorbar\":{\"outlinewidth\":0,\"ticks\":\"\"},\"colorscale\":[[0.0,\"#0d0887\"],[0.1111111111111111,\"#46039f\"],[0.2222222222222222,\"#7201a8\"],[0.3333333333333333,\"#9c179e\"],[0.4444444444444444,\"#bd3786\"],[0.5555555555555556,\"#d8576b\"],[0.6666666666666666,\"#ed7953\"],[0.7777777777777778,\"#fb9f3a\"],[0.8888888888888888,\"#fdca26\"],[1.0,\"#f0f921\"]],\"type\":\"histogram2dcontour\"}],\"mesh3d\":[{\"colorbar\":{\"outlinewidth\":0,\"ticks\":\"\"},\"type\":\"mesh3d\"}],\"parcoords\":[{\"line\":{\"colorbar\":{\"outlinewidth\":0,\"ticks\":\"\"}},\"type\":\"parcoords\"}],\"pie\":[{\"automargin\":true,\"type\":\"pie\"}],\"scatter\":[{\"marker\":{\"colorbar\":{\"outlinewidth\":0,\"ticks\":\"\"}},\"type\":\"scatter\"}],\"scatter3d\":[{\"line\":{\"colorbar\":{\"outlinewidth\":0,\"ticks\":\"\"}},\"marker\":{\"colorbar\":{\"outlinewidth\":0,\"ticks\":\"\"}},\"type\":\"scatter3d\"}],\"scattercarpet\":[{\"marker\":{\"colorbar\":{\"outlinewidth\":0,\"ticks\":\"\"}},\"type\":\"scattercarpet\"}],\"scattergeo\":[{\"marker\":{\"colorbar\":{\"outlinewidth\":0,\"ticks\":\"\"}},\"type\":\"scattergeo\"}],\"scattergl\":[{\"marker\":{\"colorbar\":{\"outlinewidth\":0,\"ticks\":\"\"}},\"type\":\"scattergl\"}],\"scattermapbox\":[{\"marker\":{\"colorbar\":{\"outlinewidth\":0,\"ticks\":\"\"}},\"type\":\"scattermapbox\"}],\"scatterpolar\":[{\"marker\":{\"colorbar\":{\"outlinewidth\":0,\"ticks\":\"\"}},\"type\":\"scatterpolar\"}],\"scatterpolargl\":[{\"marker\":{\"colorbar\":{\"outlinewidth\":0,\"ticks\":\"\"}},\"type\":\"scatterpolargl\"}],\"scatterternary\":[{\"marker\":{\"colorbar\":{\"outlinewidth\":0,\"ticks\":\"\"}},\"type\":\"scatterternary\"}],\"surface\":[{\"colorbar\":{\"outlinewidth\":0,\"ticks\":\"\"},\"colorscale\":[[0.0,\"#0d0887\"],[0.1111111111111111,\"#46039f\"],[0.2222222222222222,\"#7201a8\"],[0.3333333333333333,\"#9c179e\"],[0.4444444444444444,\"#bd3786\"],[0.5555555555555556,\"#d8576b\"],[0.6666666666666666,\"#ed7953\"],[0.7777777777777778,\"#fb9f3a\"],[0.8888888888888888,\"#fdca26\"],[1.0,\"#f0f921\"]],\"type\":\"surface\"}],\"table\":[{\"cells\":{\"fill\":{\"color\":\"#EBF0F8\"},\"line\":{\"color\":\"white\"}},\"header\":{\"fill\":{\"color\":\"#C8D4E3\"},\"line\":{\"color\":\"white\"}},\"type\":\"table\"}]},\"layout\":{\"annotationdefaults\":{\"arrowcolor\":\"#2a3f5f\",\"arrowhead\":0,\"arrowwidth\":1},\"autotypenumbers\":\"strict\",\"coloraxis\":{\"colorbar\":{\"outlinewidth\":0,\"ticks\":\"\"}},\"colorscale\":{\"diverging\":[[0,\"#8e0152\"],[0.1,\"#c51b7d\"],[0.2,\"#de77ae\"],[0.3,\"#f1b6da\"],[0.4,\"#fde0ef\"],[0.5,\"#f7f7f7\"],[0.6,\"#e6f5d0\"],[0.7,\"#b8e186\"],[0.8,\"#7fbc41\"],[0.9,\"#4d9221\"],[1,\"#276419\"]],\"sequential\":[[0.0,\"#0d0887\"],[0.1111111111111111,\"#46039f\"],[0.2222222222222222,\"#7201a8\"],[0.3333333333333333,\"#9c179e\"],[0.4444444444444444,\"#bd3786\"],[0.5555555555555556,\"#d8576b\"],[0.6666666666666666,\"#ed7953\"],[0.7777777777777778,\"#fb9f3a\"],[0.8888888888888888,\"#fdca26\"],[1.0,\"#f0f921\"]],\"sequentialminus\":[[0.0,\"#0d0887\"],[0.1111111111111111,\"#46039f\"],[0.2222222222222222,\"#7201a8\"],[0.3333333333333333,\"#9c179e\"],[0.4444444444444444,\"#bd3786\"],[0.5555555555555556,\"#d8576b\"],[0.6666666666666666,\"#ed7953\"],[0.7777777777777778,\"#fb9f3a\"],[0.8888888888888888,\"#fdca26\"],[1.0,\"#f0f921\"]]},\"colorway\":[\"#636efa\",\"#EF553B\",\"#00cc96\",\"#ab63fa\",\"#FFA15A\",\"#19d3f3\",\"#FF6692\",\"#B6E880\",\"#FF97FF\",\"#FECB52\"],\"font\":{\"color\":\"#2a3f5f\"},\"geo\":{\"bgcolor\":\"white\",\"lakecolor\":\"white\",\"landcolor\":\"#E5ECF6\",\"showlakes\":true,\"showland\":true,\"subunitcolor\":\"white\"},\"hoverlabel\":{\"align\":\"left\"},\"hovermode\":\"closest\",\"mapbox\":{\"style\":\"light\"},\"paper_bgcolor\":\"white\",\"plot_bgcolor\":\"#E5ECF6\",\"polar\":{\"angularaxis\":{\"gridcolor\":\"white\",\"linecolor\":\"white\",\"ticks\":\"\"},\"bgcolor\":\"#E5ECF6\",\"radialaxis\":{\"gridcolor\":\"white\",\"linecolor\":\"white\",\"ticks\":\"\"}},\"scene\":{\"xaxis\":{\"backgroundcolor\":\"#E5ECF6\",\"gridcolor\":\"white\",\"gridwidth\":2,\"linecolor\":\"white\",\"showbackground\":true,\"ticks\":\"\",\"zerolinecolor\":\"white\"},\"yaxis\":{\"backgroundcolor\":\"#E5ECF6\",\"gridcolor\":\"white\",\"gridwidth\":2,\"linecolor\":\"white\",\"showbackground\":true,\"ticks\":\"\",\"zerolinecolor\":\"white\"},\"zaxis\":{\"backgroundcolor\":\"#E5ECF6\",\"gridcolor\":\"white\",\"gridwidth\":2,\"linecolor\":\"white\",\"showbackground\":true,\"ticks\":\"\",\"zerolinecolor\":\"white\"}},\"shapedefaults\":{\"line\":{\"color\":\"#2a3f5f\"}},\"ternary\":{\"aaxis\":{\"gridcolor\":\"white\",\"linecolor\":\"white\",\"ticks\":\"\"},\"baxis\":{\"gridcolor\":\"white\",\"linecolor\":\"white\",\"ticks\":\"\"},\"bgcolor\":\"#E5ECF6\",\"caxis\":{\"gridcolor\":\"white\",\"linecolor\":\"white\",\"ticks\":\"\"}},\"title\":{\"x\":0.05},\"xaxis\":{\"automargin\":true,\"gridcolor\":\"white\",\"linecolor\":\"white\",\"ticks\":\"\",\"title\":{\"standoff\":15},\"zerolinecolor\":\"white\",\"zerolinewidth\":2},\"yaxis\":{\"automargin\":true,\"gridcolor\":\"white\",\"linecolor\":\"white\",\"ticks\":\"\",\"title\":{\"standoff\":15},\"zerolinecolor\":\"white\",\"zerolinewidth\":2}}},\"legend\":{\"tracegroupgap\":0},\"title\":{\"text\":\"Gender\"},\"piecolorway\":[\"blue\",\"light green\"]},                        {\"responsive\": true}                    ).then(function(){\n",
       "                            \n",
       "var gd = document.getElementById('d9f51db1-ce51-4e93-aebc-d446b187dd95');\n",
       "var x = new MutationObserver(function (mutations, observer) {{\n",
       "        var display = window.getComputedStyle(gd).display;\n",
       "        if (!display || display === 'none') {{\n",
       "            console.log([gd, 'removed!']);\n",
       "            Plotly.purge(gd);\n",
       "            observer.disconnect();\n",
       "        }}\n",
       "}});\n",
       "\n",
       "// Listen for the removal of the full notebook cells\n",
       "var notebookContainer = gd.closest('#notebook-container');\n",
       "if (notebookContainer) {{\n",
       "    x.observe(notebookContainer, {childList: true});\n",
       "}}\n",
       "\n",
       "// Listen for the clearing of the current output cell\n",
       "var outputEl = gd.closest('.output');\n",
       "if (outputEl) {{\n",
       "    x.observe(outputEl, {childList: true});\n",
       "}}\n",
       "\n",
       "                        })                };                });            </script>        </div>"
      ]
     },
     "metadata": {},
     "output_type": "display_data"
    }
   ],
   "source": [
    "gender_profile = profile.gender.value_counts().reset_index()\n",
    "gender_profile.columns = ['gender', 'count']\n",
    "fig = px.pie(gender_profile, values='count', names='gender', title='Gender',\n",
    "             color_discrete_sequence=['blue', 'light green'])\n",
    "fig.show()"
   ]
  },
  {
   "cell_type": "code",
   "execution_count": 13,
   "id": "03c0d526",
   "metadata": {
    "execution": {
     "iopub.execute_input": "2022-04-27T06:46:53.401500Z",
     "iopub.status.busy": "2022-04-27T06:46:53.399213Z",
     "iopub.status.idle": "2022-04-27T06:46:53.547270Z",
     "shell.execute_reply": "2022-04-27T06:46:53.548324Z",
     "shell.execute_reply.started": "2022-04-27T06:34:46.472097Z"
    },
    "papermill": {
     "duration": 0.223688,
     "end_time": "2022-04-27T06:46:53.548602",
     "exception": false,
     "start_time": "2022-04-27T06:46:53.324914",
     "status": "completed"
    },
    "tags": []
   },
   "outputs": [
    {
     "data": {
      "text/plain": [
       "<AxesSubplot:xlabel='income'>"
      ]
     },
     "execution_count": 13,
     "metadata": {},
     "output_type": "execute_result"
    },
    {
     "data": {
      "image/png": "[encoded data removed]",
      "text/plain": [
       "<Figure size 432x288 with 1 Axes>"
      ]
     },
     "metadata": {
      "needs_background": "light"
     },
     "output_type": "display_data"
    }
   ],
   "source": [
    "sns.boxplot(data=profile, x='income')"
   ]
  },
  {
   "cell_type": "code",
   "execution_count": 14,
   "id": "bfd3e37b",
   "metadata": {
    "execution": {
     "iopub.execute_input": "2022-04-27T06:46:53.706214Z",
     "iopub.status.busy": "2022-04-27T06:46:53.705550Z",
     "iopub.status.idle": "2022-04-27T06:46:53.751687Z",
     "shell.execute_reply": "2022-04-27T06:46:53.751167Z",
     "shell.execute_reply.started": "2022-04-27T06:34:46.652525Z"
    },
    "papermill": {
     "duration": 0.121948,
     "end_time": "2022-04-27T06:46:53.751868",
     "exception": false,
     "start_time": "2022-04-27T06:46:53.629920",
     "status": "completed"
    },
    "tags": []
   },
   "outputs": [
    {
     "data": {
      "text/plain": [
       "1    2017-07-15\n",
       "3    2017-05-09\n",
       "5    2018-04-26\n",
       "8    2018-02-09\n",
       "12   2017-11-11\n",
       "Name: became_member_on, dtype: datetime64[ns]"
      ]
     },
     "execution_count": 14,
     "metadata": {},
     "output_type": "execute_result"
    }
   ],
   "source": [
    "profile['became_member_on'] = pd.to_datetime(profile['became_member_on'].astype(str), format='%Y%m%d')\n",
    "profile['became_member_on'].head()"
   ]
  },
  {
   "cell_type": "code",
   "execution_count": 15,
   "id": "47a75c1c",
   "metadata": {
    "execution": {
     "iopub.execute_input": "2022-04-27T06:46:53.903031Z",
     "iopub.status.busy": "2022-04-27T06:46:53.902317Z",
     "iopub.status.idle": "2022-04-27T06:46:53.921881Z",
     "shell.execute_reply": "2022-04-27T06:46:53.922426Z",
     "shell.execute_reply.started": "2022-04-27T06:34:46.704914Z"
    },
    "papermill": {
     "duration": 0.096781,
     "end_time": "2022-04-27T06:46:53.922609",
     "exception": false,
     "start_time": "2022-04-27T06:46:53.825828",
     "status": "completed"
    },
    "tags": []
   },
   "outputs": [],
   "source": [
    "profile['year'] = profile['became_member_on'].dt.year\n",
    "profile['month'] = profile['became_member_on'].dt.month\n",
    "profile['day']=profile['became_member_on'].dt.day_name()\n",
    "profile['membership_days'] = (pd.to_datetime('today') - profile['became_member_on']).astype('timedelta64[D]').astype(int)"
   ]
  },
  {
   "cell_type": "code",
   "execution_count": 16,
   "id": "d6472026",
   "metadata": {
    "execution": {
     "iopub.execute_input": "2022-04-27T06:46:54.090414Z",
     "iopub.status.busy": "2022-04-27T06:46:54.089390Z",
     "iopub.status.idle": "2022-04-27T06:46:54.286227Z",
     "shell.execute_reply": "2022-04-27T06:46:54.286657Z",
     "shell.execute_reply.started": "2022-04-27T06:34:46.732082Z"
    },
    "papermill": {
     "duration": 0.289424,
     "end_time": "2022-04-27T06:46:54.286843",
     "exception": false,
     "start_time": "2022-04-27T06:46:53.997419",
     "status": "completed"
    },
    "tags": []
   },
   "outputs": [
    {
     "data": {
      "text/plain": [
       "Text(0, 0.5, 'income')"
      ]
     },
     "execution_count": 16,
     "metadata": {},
     "output_type": "execute_result"
    },
    {
     "data": {
      "image/png": "[encoded data removed]",
      "text/plain": [
       "<Figure size 432x288 with 1 Axes>"
      ]
     },
     "metadata": {
      "needs_background": "light"
     },
     "output_type": "display_data"
    }
   ],
   "source": [
    "profile.groupby('gender').sum()['income'].plot(kind='bar')\n",
    "plt.title('Total income per gender')\n",
    "plt.ylabel('income')"
   ]
  },
  {
   "cell_type": "code",
   "execution_count": 17,
   "id": "027e2f69",
   "metadata": {
    "execution": {
     "iopub.execute_input": "2022-04-27T06:46:54.439202Z",
     "iopub.status.busy": "2022-04-27T06:46:54.438517Z",
     "iopub.status.idle": "2022-04-27T06:46:54.451478Z",
     "shell.execute_reply": "2022-04-27T06:46:54.452068Z",
     "shell.execute_reply.started": "2022-04-27T06:34:46.945674Z"
    },
    "papermill": {
     "duration": 0.091057,
     "end_time": "2022-04-27T06:46:54.452245",
     "exception": false,
     "start_time": "2022-04-27T06:46:54.361188",
     "status": "completed"
    },
    "tags": []
   },
   "outputs": [
    {
     "data": {
      "text/plain": [
       "1        Middle-age(40-59)\n",
       "3              Old(60-100)\n",
       "5              Old(60-100)\n",
       "8              Old(60-100)\n",
       "12       Middle-age(40-59)\n",
       "               ...        \n",
       "16995    Middle-age(40-59)\n",
       "16996          Old(60-100)\n",
       "16997    Middle-age(40-59)\n",
       "16998          Old(60-100)\n",
       "16999          Old(60-100)\n",
       "Name: age_group, Length: 14820, dtype: category\n",
       "Categories (4, object): ['Teenage(0-19)' < 'Young(20-39)' < 'Middle-age(40-59)' < 'Old(60-100)']"
      ]
     },
     "execution_count": 17,
     "metadata": {},
     "output_type": "execute_result"
    }
   ],
   "source": [
    "profile['age_group'] = pd.cut(x=profile['age'], bins=[18, 20, 40, 60, 101],\n",
    "                    labels=['Teenage(0-19)', 'Young(20-39)','Middle-age(40-59)',\n",
    "                            'Old(60-100)'], include_lowest=True)\n",
    "profile['age_group']"
   ]
  },
  {
   "cell_type": "code",
   "execution_count": 18,
   "id": "dac71d49",
   "metadata": {
    "execution": {
     "iopub.execute_input": "2022-04-27T06:46:54.606739Z",
     "iopub.status.busy": "2022-04-27T06:46:54.606022Z",
     "iopub.status.idle": "2022-04-27T06:46:54.631520Z",
     "shell.execute_reply": "2022-04-27T06:46:54.632114Z",
     "shell.execute_reply.started": "2022-04-27T06:34:46.963336Z"
    },
    "papermill": {
     "duration": 0.105072,
     "end_time": "2022-04-27T06:46:54.632285",
     "exception": false,
     "start_time": "2022-04-27T06:46:54.527213",
     "status": "completed"
    },
    "tags": []
   },
   "outputs": [
    {
     "data": {
      "text/html": [
       "<div>\n",
       "<style scoped>\n",
       "    .dataframe tbody tr th:only-of-type {\n",
       "        vertical-align: middle;\n",
       "    }\n",
       "\n",
       "    .dataframe tbody tr th {\n",
       "        vertical-align: top;\n",
       "    }\n",
       "\n",
       "    .dataframe thead th {\n",
       "        text-align: right;\n",
       "    }\n",
       "</style>\n",
       "<table border=\"1\" class=\"dataframe\">\n",
       "  <thead>\n",
       "    <tr style=\"text-align: right;\">\n",
       "      <th></th>\n",
       "      <th>gender</th>\n",
       "      <th>age</th>\n",
       "      <th>id</th>\n",
       "      <th>became_member_on</th>\n",
       "      <th>income</th>\n",
       "      <th>year</th>\n",
       "      <th>month</th>\n",
       "      <th>day</th>\n",
       "      <th>membership_days</th>\n",
       "      <th>age_group</th>\n",
       "    </tr>\n",
       "  </thead>\n",
       "  <tbody>\n",
       "    <tr>\n",
       "      <th>1</th>\n",
       "      <td>F</td>\n",
       "      <td>55</td>\n",
       "      <td>0610b486422d4921ae7d2bf64640c50b</td>\n",
       "      <td>2017-07-15</td>\n",
       "      <td>112000.0</td>\n",
       "      <td>2017</td>\n",
       "      <td>7</td>\n",
       "      <td>Saturday</td>\n",
       "      <td>1747</td>\n",
       "      <td>0</td>\n",
       "    </tr>\n",
       "    <tr>\n",
       "      <th>3</th>\n",
       "      <td>F</td>\n",
       "      <td>75</td>\n",
       "      <td>78afa995795e4d85b5d9ceeca43f5fef</td>\n",
       "      <td>2017-05-09</td>\n",
       "      <td>100000.0</td>\n",
       "      <td>2017</td>\n",
       "      <td>5</td>\n",
       "      <td>Tuesday</td>\n",
       "      <td>1814</td>\n",
       "      <td>1</td>\n",
       "    </tr>\n",
       "    <tr>\n",
       "      <th>5</th>\n",
       "      <td>M</td>\n",
       "      <td>68</td>\n",
       "      <td>e2127556f4f64592b11af22de27a7932</td>\n",
       "      <td>2018-04-26</td>\n",
       "      <td>70000.0</td>\n",
       "      <td>2018</td>\n",
       "      <td>4</td>\n",
       "      <td>Thursday</td>\n",
       "      <td>1462</td>\n",
       "      <td>1</td>\n",
       "    </tr>\n",
       "    <tr>\n",
       "      <th>8</th>\n",
       "      <td>M</td>\n",
       "      <td>65</td>\n",
       "      <td>389bc3fa690240e798340f5a15918d5c</td>\n",
       "      <td>2018-02-09</td>\n",
       "      <td>53000.0</td>\n",
       "      <td>2018</td>\n",
       "      <td>2</td>\n",
       "      <td>Friday</td>\n",
       "      <td>1538</td>\n",
       "      <td>1</td>\n",
       "    </tr>\n",
       "    <tr>\n",
       "      <th>12</th>\n",
       "      <td>M</td>\n",
       "      <td>58</td>\n",
       "      <td>2eeac8d8feae4a8cad5a6af0499a211d</td>\n",
       "      <td>2017-11-11</td>\n",
       "      <td>51000.0</td>\n",
       "      <td>2017</td>\n",
       "      <td>11</td>\n",
       "      <td>Saturday</td>\n",
       "      <td>1628</td>\n",
       "      <td>0</td>\n",
       "    </tr>\n",
       "  </tbody>\n",
       "</table>\n",
       "</div>"
      ],
      "text/plain": [
       "   gender  age                                id became_member_on    income  \\\n",
       "1       F   55  0610b486422d4921ae7d2bf64640c50b       2017-07-15  112000.0   \n",
       "3       F   75  78afa995795e4d85b5d9ceeca43f5fef       2017-05-09  100000.0   \n",
       "5       M   68  e2127556f4f64592b11af22de27a7932       2018-04-26   70000.0   \n",
       "8       M   65  389bc3fa690240e798340f5a15918d5c       2018-02-09   53000.0   \n",
       "12      M   58  2eeac8d8feae4a8cad5a6af0499a211d       2017-11-11   51000.0   \n",
       "\n",
       "    year  month       day  membership_days  age_group  \n",
       "1   2017      7  Saturday             1747          0  \n",
       "3   2017      5   Tuesday             1814          1  \n",
       "5   2018      4  Thursday             1462          1  \n",
       "8   2018      2    Friday             1538          1  \n",
       "12  2017     11  Saturday             1628          0  "
      ]
     },
     "execution_count": 18,
     "metadata": {},
     "output_type": "execute_result"
    }
   ],
   "source": [
    "from sklearn.preprocessing import LabelEncoder\n",
    "\n",
    "profile = profile.copy(deep = True)\n",
    "le_age = LabelEncoder()\n",
    "profile['age_group'] = le_age.fit_transform(profile['age_group'])\n",
    "profile.head(5)"
   ]
  },
  {
   "cell_type": "code",
   "execution_count": 19,
   "id": "f9c3e6b3",
   "metadata": {
    "execution": {
     "iopub.execute_input": "2022-04-27T06:46:54.787164Z",
     "iopub.status.busy": "2022-04-27T06:46:54.786507Z",
     "iopub.status.idle": "2022-04-27T06:46:54.799218Z",
     "shell.execute_reply": "2022-04-27T06:46:54.799678Z",
     "shell.execute_reply.started": "2022-04-27T06:34:46.993896Z"
    },
    "papermill": {
     "duration": 0.091795,
     "end_time": "2022-04-27T06:46:54.799889",
     "exception": false,
     "start_time": "2022-04-27T06:46:54.708094",
     "status": "completed"
    },
    "tags": []
   },
   "outputs": [
    {
     "data": {
      "text/plain": [
       "1        more than 1L\n",
       "3              75k-1L\n",
       "5             50k-75k\n",
       "8             50k-75k\n",
       "12            50k-75k\n",
       "             ...     \n",
       "16995         50k-75k\n",
       "16996         50k-75k\n",
       "16997         50k-75k\n",
       "16998         30k-50k\n",
       "16999          75k-1L\n",
       "Name: income_group, Length: 14820, dtype: category\n",
       "Categories (4, object): ['30k-50k' < '50k-75k' < '75k-1L' < 'more than 1L']"
      ]
     },
     "execution_count": 19,
     "metadata": {},
     "output_type": "execute_result"
    }
   ],
   "source": [
    "profile['income_group'] = pd.cut(x=profile['income'], bins=[30000, 50000, 75000, 100000, 120000],\n",
    "                    labels=['30k-50k', '50k-75k','75k-1L',\n",
    "                            'more than 1L'], include_lowest=True)\n",
    "profile['income_group']"
   ]
  },
  {
   "cell_type": "code",
   "execution_count": 20,
   "id": "92006461",
   "metadata": {
    "execution": {
     "iopub.execute_input": "2022-04-27T06:46:54.959480Z",
     "iopub.status.busy": "2022-04-27T06:46:54.958397Z",
     "iopub.status.idle": "2022-04-27T06:46:54.979420Z",
     "shell.execute_reply": "2022-04-27T06:46:54.979977Z",
     "shell.execute_reply.started": "2022-04-27T06:34:47.141685Z"
    },
    "papermill": {
     "duration": 0.103861,
     "end_time": "2022-04-27T06:46:54.980163",
     "exception": false,
     "start_time": "2022-04-27T06:46:54.876302",
     "status": "completed"
    },
    "tags": []
   },
   "outputs": [
    {
     "data": {
      "text/html": [
       "<div>\n",
       "<style scoped>\n",
       "    .dataframe tbody tr th:only-of-type {\n",
       "        vertical-align: middle;\n",
       "    }\n",
       "\n",
       "    .dataframe tbody tr th {\n",
       "        vertical-align: top;\n",
       "    }\n",
       "\n",
       "    .dataframe thead th {\n",
       "        text-align: right;\n",
       "    }\n",
       "</style>\n",
       "<table border=\"1\" class=\"dataframe\">\n",
       "  <thead>\n",
       "    <tr style=\"text-align: right;\">\n",
       "      <th></th>\n",
       "      <th>gender</th>\n",
       "      <th>age</th>\n",
       "      <th>id</th>\n",
       "      <th>became_member_on</th>\n",
       "      <th>income</th>\n",
       "      <th>year</th>\n",
       "      <th>month</th>\n",
       "      <th>day</th>\n",
       "      <th>membership_days</th>\n",
       "      <th>age_group</th>\n",
       "      <th>income_group</th>\n",
       "    </tr>\n",
       "  </thead>\n",
       "  <tbody>\n",
       "    <tr>\n",
       "      <th>1</th>\n",
       "      <td>F</td>\n",
       "      <td>55</td>\n",
       "      <td>0610b486422d4921ae7d2bf64640c50b</td>\n",
       "      <td>2017-07-15</td>\n",
       "      <td>112000.0</td>\n",
       "      <td>2017</td>\n",
       "      <td>7</td>\n",
       "      <td>Saturday</td>\n",
       "      <td>1747</td>\n",
       "      <td>0</td>\n",
       "      <td>3</td>\n",
       "    </tr>\n",
       "    <tr>\n",
       "      <th>3</th>\n",
       "      <td>F</td>\n",
       "      <td>75</td>\n",
       "      <td>78afa995795e4d85b5d9ceeca43f5fef</td>\n",
       "      <td>2017-05-09</td>\n",
       "      <td>100000.0</td>\n",
       "      <td>2017</td>\n",
       "      <td>5</td>\n",
       "      <td>Tuesday</td>\n",
       "      <td>1814</td>\n",
       "      <td>1</td>\n",
       "      <td>2</td>\n",
       "    </tr>\n",
       "    <tr>\n",
       "      <th>5</th>\n",
       "      <td>M</td>\n",
       "      <td>68</td>\n",
       "      <td>e2127556f4f64592b11af22de27a7932</td>\n",
       "      <td>2018-04-26</td>\n",
       "      <td>70000.0</td>\n",
       "      <td>2018</td>\n",
       "      <td>4</td>\n",
       "      <td>Thursday</td>\n",
       "      <td>1462</td>\n",
       "      <td>1</td>\n",
       "      <td>1</td>\n",
       "    </tr>\n",
       "    <tr>\n",
       "      <th>8</th>\n",
       "      <td>M</td>\n",
       "      <td>65</td>\n",
       "      <td>389bc3fa690240e798340f5a15918d5c</td>\n",
       "      <td>2018-02-09</td>\n",
       "      <td>53000.0</td>\n",
       "      <td>2018</td>\n",
       "      <td>2</td>\n",
       "      <td>Friday</td>\n",
       "      <td>1538</td>\n",
       "      <td>1</td>\n",
       "      <td>1</td>\n",
       "    </tr>\n",
       "    <tr>\n",
       "      <th>12</th>\n",
       "      <td>M</td>\n",
       "      <td>58</td>\n",
       "      <td>2eeac8d8feae4a8cad5a6af0499a211d</td>\n",
       "      <td>2017-11-11</td>\n",
       "      <td>51000.0</td>\n",
       "      <td>2017</td>\n",
       "      <td>11</td>\n",
       "      <td>Saturday</td>\n",
       "      <td>1628</td>\n",
       "      <td>0</td>\n",
       "      <td>1</td>\n",
       "    </tr>\n",
       "  </tbody>\n",
       "</table>\n",
       "</div>"
      ],
      "text/plain": [
       "   gender  age                                id became_member_on    income  \\\n",
       "1       F   55  0610b486422d4921ae7d2bf64640c50b       2017-07-15  112000.0   \n",
       "3       F   75  78afa995795e4d85b5d9ceeca43f5fef       2017-05-09  100000.0   \n",
       "5       M   68  e2127556f4f64592b11af22de27a7932       2018-04-26   70000.0   \n",
       "8       M   65  389bc3fa690240e798340f5a15918d5c       2018-02-09   53000.0   \n",
       "12      M   58  2eeac8d8feae4a8cad5a6af0499a211d       2017-11-11   51000.0   \n",
       "\n",
       "    year  month       day  membership_days  age_group  income_group  \n",
       "1   2017      7  Saturday             1747          0             3  \n",
       "3   2017      5   Tuesday             1814          1             2  \n",
       "5   2018      4  Thursday             1462          1             1  \n",
       "8   2018      2    Friday             1538          1             1  \n",
       "12  2017     11  Saturday             1628          0             1  "
      ]
     },
     "execution_count": 20,
     "metadata": {},
     "output_type": "execute_result"
    }
   ],
   "source": [
    "from sklearn.preprocessing import LabelEncoder\n",
    "\n",
    "profile = profile.copy(deep = True)\n",
    "le_in = LabelEncoder()\n",
    "profile['income_group'] = le_in.fit_transform(profile['income_group'])\n",
    "profile.head(5)"
   ]
  },
  {
   "cell_type": "code",
   "execution_count": 21,
   "id": "37b85310",
   "metadata": {
    "execution": {
     "iopub.execute_input": "2022-04-27T06:46:55.139509Z",
     "iopub.status.busy": "2022-04-27T06:46:55.138472Z",
     "iopub.status.idle": "2022-04-27T06:46:55.146430Z",
     "shell.execute_reply": "2022-04-27T06:46:55.147033Z",
     "shell.execute_reply.started": "2022-04-27T06:34:47.200987Z"
    },
    "papermill": {
     "duration": 0.088604,
     "end_time": "2022-04-27T06:46:55.147214",
     "exception": false,
     "start_time": "2022-04-27T06:46:55.058610",
     "status": "completed"
    },
    "tags": []
   },
   "outputs": [],
   "source": [
    "profile = profile.drop(['age','income'], axis=1)"
   ]
  },
  {
   "cell_type": "code",
   "execution_count": 22,
   "id": "d5b8916f",
   "metadata": {
    "execution": {
     "iopub.execute_input": "2022-04-27T06:46:55.309065Z",
     "iopub.status.busy": "2022-04-27T06:46:55.308003Z",
     "iopub.status.idle": "2022-04-27T06:46:55.326414Z",
     "shell.execute_reply": "2022-04-27T06:46:55.326920Z",
     "shell.execute_reply.started": "2022-04-27T06:34:47.278382Z"
    },
    "papermill": {
     "duration": 0.101549,
     "end_time": "2022-04-27T06:46:55.327092",
     "exception": false,
     "start_time": "2022-04-27T06:46:55.225543",
     "status": "completed"
    },
    "tags": []
   },
   "outputs": [
    {
     "data": {
      "text/plain": [
       "0           0-100 days\n",
       "1           0-100 days\n",
       "2           0-100 days\n",
       "3           0-100 days\n",
       "4           0-100 days\n",
       "              ...     \n",
       "306529    700-800 days\n",
       "306530    700-800 days\n",
       "306531    700-800 days\n",
       "306532    700-800 days\n",
       "306533    700-800 days\n",
       "Name: time_group, Length: 306534, dtype: category\n",
       "Categories (8, object): ['0-100 days' < '100-200 days' < '200-300 days' < '300-400 days' < '400-500 days' < '500-600 days' < '600-700 days' < '700-800 days']"
      ]
     },
     "execution_count": 22,
     "metadata": {},
     "output_type": "execute_result"
    }
   ],
   "source": [
    "transcript['time_group'] = pd.cut(x=transcript['time'], bins=[0, 100, 200, 300, 400, 500,600,700,800], include_lowest=True,\n",
    "                    labels=['0-100 days', '100-200 days', '200-300 days', '300-400 days', '400-500 days', '500-600 days', '600-700 days', '700-800 days'])\n",
    "transcript['time_group'] "
   ]
  },
  {
   "cell_type": "code",
   "execution_count": 23,
   "id": "15def6e2",
   "metadata": {
    "execution": {
     "iopub.execute_input": "2022-04-27T06:46:55.487243Z",
     "iopub.status.busy": "2022-04-27T06:46:55.484417Z",
     "iopub.status.idle": "2022-04-27T06:46:55.600907Z",
     "shell.execute_reply": "2022-04-27T06:46:55.600187Z",
     "shell.execute_reply.started": "2022-04-27T06:34:47.348308Z"
    },
    "papermill": {
     "duration": 0.196614,
     "end_time": "2022-04-27T06:46:55.601048",
     "exception": false,
     "start_time": "2022-04-27T06:46:55.404434",
     "status": "completed"
    },
    "tags": []
   },
   "outputs": [
    {
     "data": {
      "text/html": [
       "<div>\n",
       "<style scoped>\n",
       "    .dataframe tbody tr th:only-of-type {\n",
       "        vertical-align: middle;\n",
       "    }\n",
       "\n",
       "    .dataframe tbody tr th {\n",
       "        vertical-align: top;\n",
       "    }\n",
       "\n",
       "    .dataframe thead th {\n",
       "        text-align: right;\n",
       "    }\n",
       "</style>\n",
       "<table border=\"1\" class=\"dataframe\">\n",
       "  <thead>\n",
       "    <tr style=\"text-align: right;\">\n",
       "      <th></th>\n",
       "      <th>person</th>\n",
       "      <th>event</th>\n",
       "      <th>value</th>\n",
       "      <th>time</th>\n",
       "      <th>time_group</th>\n",
       "    </tr>\n",
       "  </thead>\n",
       "  <tbody>\n",
       "    <tr>\n",
       "      <th>0</th>\n",
       "      <td>78afa995795e4d85b5d9ceeca43f5fef</td>\n",
       "      <td>offer received</td>\n",
       "      <td>{'offer id': '9b98b8c7a33c4b65b9aebfe6a799e6d9'}</td>\n",
       "      <td>0</td>\n",
       "      <td>0</td>\n",
       "    </tr>\n",
       "    <tr>\n",
       "      <th>1</th>\n",
       "      <td>a03223e636434f42ac4c3df47e8bac43</td>\n",
       "      <td>offer received</td>\n",
       "      <td>{'offer id': '0b1e1539f2cc45b7b9fa7c272da2e1d7'}</td>\n",
       "      <td>0</td>\n",
       "      <td>0</td>\n",
       "    </tr>\n",
       "    <tr>\n",
       "      <th>2</th>\n",
       "      <td>e2127556f4f64592b11af22de27a7932</td>\n",
       "      <td>offer received</td>\n",
       "      <td>{'offer id': '2906b810c7d4411798c6938adc9daaa5'}</td>\n",
       "      <td>0</td>\n",
       "      <td>0</td>\n",
       "    </tr>\n",
       "    <tr>\n",
       "      <th>3</th>\n",
       "      <td>8ec6ce2a7e7949b1bf142def7d0e0586</td>\n",
       "      <td>offer received</td>\n",
       "      <td>{'offer id': 'fafdcd668e3743c1bb461111dcafc2a4'}</td>\n",
       "      <td>0</td>\n",
       "      <td>0</td>\n",
       "    </tr>\n",
       "    <tr>\n",
       "      <th>4</th>\n",
       "      <td>68617ca6246f4fbc85e91a2a49552598</td>\n",
       "      <td>offer received</td>\n",
       "      <td>{'offer id': '4d5c57ea9a6940dd891ad53e9dbe8da0'}</td>\n",
       "      <td>0</td>\n",
       "      <td>0</td>\n",
       "    </tr>\n",
       "    <tr>\n",
       "      <th>...</th>\n",
       "      <td>...</td>\n",
       "      <td>...</td>\n",
       "      <td>...</td>\n",
       "      <td>...</td>\n",
       "      <td>...</td>\n",
       "    </tr>\n",
       "    <tr>\n",
       "      <th>306529</th>\n",
       "      <td>b3a1272bc9904337b331bf348c3e8c17</td>\n",
       "      <td>transaction</td>\n",
       "      <td>{'amount': 1.5899999999999999}</td>\n",
       "      <td>714</td>\n",
       "      <td>7</td>\n",
       "    </tr>\n",
       "    <tr>\n",
       "      <th>306530</th>\n",
       "      <td>68213b08d99a4ae1b0dcb72aebd9aa35</td>\n",
       "      <td>transaction</td>\n",
       "      <td>{'amount': 9.53}</td>\n",
       "      <td>714</td>\n",
       "      <td>7</td>\n",
       "    </tr>\n",
       "    <tr>\n",
       "      <th>306531</th>\n",
       "      <td>a00058cf10334a308c68e7631c529907</td>\n",
       "      <td>transaction</td>\n",
       "      <td>{'amount': 3.61}</td>\n",
       "      <td>714</td>\n",
       "      <td>7</td>\n",
       "    </tr>\n",
       "    <tr>\n",
       "      <th>306532</th>\n",
       "      <td>76ddbd6576844afe811f1a3c0fbb5bec</td>\n",
       "      <td>transaction</td>\n",
       "      <td>{'amount': 3.5300000000000002}</td>\n",
       "      <td>714</td>\n",
       "      <td>7</td>\n",
       "    </tr>\n",
       "    <tr>\n",
       "      <th>306533</th>\n",
       "      <td>c02b10e8752c4d8e9b73f918558531f7</td>\n",
       "      <td>transaction</td>\n",
       "      <td>{'amount': 4.05}</td>\n",
       "      <td>714</td>\n",
       "      <td>7</td>\n",
       "    </tr>\n",
       "  </tbody>\n",
       "</table>\n",
       "<p>306534 rows × 5 columns</p>\n",
       "</div>"
      ],
      "text/plain": [
       "                                  person           event  \\\n",
       "0       78afa995795e4d85b5d9ceeca43f5fef  offer received   \n",
       "1       a03223e636434f42ac4c3df47e8bac43  offer received   \n",
       "2       e2127556f4f64592b11af22de27a7932  offer received   \n",
       "3       8ec6ce2a7e7949b1bf142def7d0e0586  offer received   \n",
       "4       68617ca6246f4fbc85e91a2a49552598  offer received   \n",
       "...                                  ...             ...   \n",
       "306529  b3a1272bc9904337b331bf348c3e8c17     transaction   \n",
       "306530  68213b08d99a4ae1b0dcb72aebd9aa35     transaction   \n",
       "306531  a00058cf10334a308c68e7631c529907     transaction   \n",
       "306532  76ddbd6576844afe811f1a3c0fbb5bec     transaction   \n",
       "306533  c02b10e8752c4d8e9b73f918558531f7     transaction   \n",
       "\n",
       "                                                   value  time  time_group  \n",
       "0       {'offer id': '9b98b8c7a33c4b65b9aebfe6a799e6d9'}     0           0  \n",
       "1       {'offer id': '0b1e1539f2cc45b7b9fa7c272da2e1d7'}     0           0  \n",
       "2       {'offer id': '2906b810c7d4411798c6938adc9daaa5'}     0           0  \n",
       "3       {'offer id': 'fafdcd668e3743c1bb461111dcafc2a4'}     0           0  \n",
       "4       {'offer id': '4d5c57ea9a6940dd891ad53e9dbe8da0'}     0           0  \n",
       "...                                                  ...   ...         ...  \n",
       "306529                    {'amount': 1.5899999999999999}   714           7  \n",
       "306530                                  {'amount': 9.53}   714           7  \n",
       "306531                                  {'amount': 3.61}   714           7  \n",
       "306532                    {'amount': 3.5300000000000002}   714           7  \n",
       "306533                                  {'amount': 4.05}   714           7  \n",
       "\n",
       "[306534 rows x 5 columns]"
      ]
     },
     "execution_count": 23,
     "metadata": {},
     "output_type": "execute_result"
    }
   ],
   "source": [
    "from sklearn.preprocessing import LabelEncoder\n",
    "\n",
    "transcript = transcript.copy(deep = True)\n",
    "le_id = LabelEncoder()\n",
    "transcript['time_group'] = le_id.fit_transform(transcript['time_group'])\n",
    "transcript.head(5)\n",
    "transcript"
   ]
  },
  {
   "cell_type": "code",
   "execution_count": 24,
   "id": "8a6790ad",
   "metadata": {
    "execution": {
     "iopub.execute_input": "2022-04-27T06:46:55.760553Z",
     "iopub.status.busy": "2022-04-27T06:46:55.759892Z",
     "iopub.status.idle": "2022-04-27T06:46:55.778799Z",
     "shell.execute_reply": "2022-04-27T06:46:55.779343Z",
     "shell.execute_reply.started": "2022-04-27T06:34:47.472307Z"
    },
    "papermill": {
     "duration": 0.09981,
     "end_time": "2022-04-27T06:46:55.779519",
     "exception": false,
     "start_time": "2022-04-27T06:46:55.679709",
     "status": "completed"
    },
    "tags": []
   },
   "outputs": [],
   "source": [
    "transcript = transcript.drop(['time'], axis=1)"
   ]
  },
  {
   "cell_type": "code",
   "execution_count": 25,
   "id": "39a35325",
   "metadata": {
    "execution": {
     "iopub.execute_input": "2022-04-27T06:46:55.957532Z",
     "iopub.status.busy": "2022-04-27T06:46:55.956827Z",
     "iopub.status.idle": "2022-04-27T06:46:55.963539Z",
     "shell.execute_reply": "2022-04-27T06:46:55.964407Z",
     "shell.execute_reply.started": "2022-04-27T06:34:47.495783Z"
    },
    "papermill": {
     "duration": 0.107205,
     "end_time": "2022-04-27T06:46:55.964684",
     "exception": false,
     "start_time": "2022-04-27T06:46:55.857479",
     "status": "completed"
    },
    "tags": []
   },
   "outputs": [],
   "source": [
    "transcript.rename(columns={'person':'id'}, inplace=True)"
   ]
  },
  {
   "cell_type": "code",
   "execution_count": 26,
   "id": "65a4b41c",
   "metadata": {
    "execution": {
     "iopub.execute_input": "2022-04-27T06:46:56.143264Z",
     "iopub.status.busy": "2022-04-27T06:46:56.142251Z",
     "iopub.status.idle": "2022-04-27T06:46:56.408548Z",
     "shell.execute_reply": "2022-04-27T06:46:56.408036Z",
     "shell.execute_reply.started": "2022-04-27T06:34:47.581956Z"
    },
    "papermill": {
     "duration": 0.356077,
     "end_time": "2022-04-27T06:46:56.408688",
     "exception": false,
     "start_time": "2022-04-27T06:46:56.052611",
     "status": "completed"
    },
    "tags": []
   },
   "outputs": [
    {
     "data": {
      "text/html": [
       "<div>\n",
       "<style scoped>\n",
       "    .dataframe tbody tr th:only-of-type {\n",
       "        vertical-align: middle;\n",
       "    }\n",
       "\n",
       "    .dataframe tbody tr th {\n",
       "        vertical-align: top;\n",
       "    }\n",
       "\n",
       "    .dataframe thead th {\n",
       "        text-align: right;\n",
       "    }\n",
       "</style>\n",
       "<table border=\"1\" class=\"dataframe\">\n",
       "  <thead>\n",
       "    <tr style=\"text-align: right;\">\n",
       "      <th></th>\n",
       "      <th>gender</th>\n",
       "      <th>id</th>\n",
       "      <th>year</th>\n",
       "      <th>month</th>\n",
       "      <th>day</th>\n",
       "      <th>membership_days</th>\n",
       "      <th>age_group</th>\n",
       "      <th>income_group</th>\n",
       "      <th>event</th>\n",
       "      <th>value</th>\n",
       "      <th>time_group</th>\n",
       "    </tr>\n",
       "  </thead>\n",
       "  <tbody>\n",
       "    <tr>\n",
       "      <th>0</th>\n",
       "      <td>F</td>\n",
       "      <td>0610b486422d4921ae7d2bf64640c50b</td>\n",
       "      <td>2017</td>\n",
       "      <td>7</td>\n",
       "      <td>Saturday</td>\n",
       "      <td>1747</td>\n",
       "      <td>0</td>\n",
       "      <td>3</td>\n",
       "      <td>transaction</td>\n",
       "      <td>{'amount': 21.51}</td>\n",
       "      <td>0</td>\n",
       "    </tr>\n",
       "    <tr>\n",
       "      <th>1</th>\n",
       "      <td>F</td>\n",
       "      <td>0610b486422d4921ae7d2bf64640c50b</td>\n",
       "      <td>2017</td>\n",
       "      <td>7</td>\n",
       "      <td>Saturday</td>\n",
       "      <td>1747</td>\n",
       "      <td>0</td>\n",
       "      <td>3</td>\n",
       "      <td>transaction</td>\n",
       "      <td>{'amount': 32.28}</td>\n",
       "      <td>1</td>\n",
       "    </tr>\n",
       "    <tr>\n",
       "      <th>2</th>\n",
       "      <td>F</td>\n",
       "      <td>0610b486422d4921ae7d2bf64640c50b</td>\n",
       "      <td>2017</td>\n",
       "      <td>7</td>\n",
       "      <td>Saturday</td>\n",
       "      <td>1747</td>\n",
       "      <td>0</td>\n",
       "      <td>3</td>\n",
       "      <td>offer received</td>\n",
       "      <td>{'offer id': '9b98b8c7a33c4b65b9aebfe6a799e6d9'}</td>\n",
       "      <td>4</td>\n",
       "    </tr>\n",
       "    <tr>\n",
       "      <th>3</th>\n",
       "      <td>F</td>\n",
       "      <td>0610b486422d4921ae7d2bf64640c50b</td>\n",
       "      <td>2017</td>\n",
       "      <td>7</td>\n",
       "      <td>Saturday</td>\n",
       "      <td>1747</td>\n",
       "      <td>0</td>\n",
       "      <td>3</td>\n",
       "      <td>offer received</td>\n",
       "      <td>{'offer id': '3f207df678b143eea3cee63160fa8bed'}</td>\n",
       "      <td>5</td>\n",
       "    </tr>\n",
       "    <tr>\n",
       "      <th>4</th>\n",
       "      <td>F</td>\n",
       "      <td>0610b486422d4921ae7d2bf64640c50b</td>\n",
       "      <td>2017</td>\n",
       "      <td>7</td>\n",
       "      <td>Saturday</td>\n",
       "      <td>1747</td>\n",
       "      <td>0</td>\n",
       "      <td>3</td>\n",
       "      <td>transaction</td>\n",
       "      <td>{'amount': 23.22}</td>\n",
       "      <td>5</td>\n",
       "    </tr>\n",
       "    <tr>\n",
       "      <th>...</th>\n",
       "      <td>...</td>\n",
       "      <td>...</td>\n",
       "      <td>...</td>\n",
       "      <td>...</td>\n",
       "      <td>...</td>\n",
       "      <td>...</td>\n",
       "      <td>...</td>\n",
       "      <td>...</td>\n",
       "      <td>...</td>\n",
       "      <td>...</td>\n",
       "      <td>...</td>\n",
       "    </tr>\n",
       "    <tr>\n",
       "      <th>272659</th>\n",
       "      <td>F</td>\n",
       "      <td>e4052622e5ba45a8b96b59aba68cf068</td>\n",
       "      <td>2017</td>\n",
       "      <td>7</td>\n",
       "      <td>Saturday</td>\n",
       "      <td>1740</td>\n",
       "      <td>1</td>\n",
       "      <td>2</td>\n",
       "      <td>offer completed</td>\n",
       "      <td>{'offer_id': 'f19421c1d4aa40978ebb69ca19b0e20d...</td>\n",
       "      <td>4</td>\n",
       "    </tr>\n",
       "    <tr>\n",
       "      <th>272660</th>\n",
       "      <td>F</td>\n",
       "      <td>e4052622e5ba45a8b96b59aba68cf068</td>\n",
       "      <td>2017</td>\n",
       "      <td>7</td>\n",
       "      <td>Saturday</td>\n",
       "      <td>1740</td>\n",
       "      <td>1</td>\n",
       "      <td>2</td>\n",
       "      <td>transaction</td>\n",
       "      <td>{'amount': 19.47}</td>\n",
       "      <td>4</td>\n",
       "    </tr>\n",
       "    <tr>\n",
       "      <th>272661</th>\n",
       "      <td>F</td>\n",
       "      <td>e4052622e5ba45a8b96b59aba68cf068</td>\n",
       "      <td>2017</td>\n",
       "      <td>7</td>\n",
       "      <td>Saturday</td>\n",
       "      <td>1740</td>\n",
       "      <td>1</td>\n",
       "      <td>2</td>\n",
       "      <td>offer viewed</td>\n",
       "      <td>{'offer id': 'f19421c1d4aa40978ebb69ca19b0e20d'}</td>\n",
       "      <td>5</td>\n",
       "    </tr>\n",
       "    <tr>\n",
       "      <th>272662</th>\n",
       "      <td>F</td>\n",
       "      <td>e4052622e5ba45a8b96b59aba68cf068</td>\n",
       "      <td>2017</td>\n",
       "      <td>7</td>\n",
       "      <td>Saturday</td>\n",
       "      <td>1740</td>\n",
       "      <td>1</td>\n",
       "      <td>2</td>\n",
       "      <td>offer received</td>\n",
       "      <td>{'offer id': '3f207df678b143eea3cee63160fa8bed'}</td>\n",
       "      <td>5</td>\n",
       "    </tr>\n",
       "    <tr>\n",
       "      <th>272663</th>\n",
       "      <td>F</td>\n",
       "      <td>e4052622e5ba45a8b96b59aba68cf068</td>\n",
       "      <td>2017</td>\n",
       "      <td>7</td>\n",
       "      <td>Saturday</td>\n",
       "      <td>1740</td>\n",
       "      <td>1</td>\n",
       "      <td>2</td>\n",
       "      <td>transaction</td>\n",
       "      <td>{'amount': 24.71}</td>\n",
       "      <td>6</td>\n",
       "    </tr>\n",
       "  </tbody>\n",
       "</table>\n",
       "<p>272664 rows × 11 columns</p>\n",
       "</div>"
      ],
      "text/plain": [
       "       gender                                id  year  month       day  \\\n",
       "0           F  0610b486422d4921ae7d2bf64640c50b  2017      7  Saturday   \n",
       "1           F  0610b486422d4921ae7d2bf64640c50b  2017      7  Saturday   \n",
       "2           F  0610b486422d4921ae7d2bf64640c50b  2017      7  Saturday   \n",
       "3           F  0610b486422d4921ae7d2bf64640c50b  2017      7  Saturday   \n",
       "4           F  0610b486422d4921ae7d2bf64640c50b  2017      7  Saturday   \n",
       "...       ...                               ...   ...    ...       ...   \n",
       "272659      F  e4052622e5ba45a8b96b59aba68cf068  2017      7  Saturday   \n",
       "272660      F  e4052622e5ba45a8b96b59aba68cf068  2017      7  Saturday   \n",
       "272661      F  e4052622e5ba45a8b96b59aba68cf068  2017      7  Saturday   \n",
       "272662      F  e4052622e5ba45a8b96b59aba68cf068  2017      7  Saturday   \n",
       "272663      F  e4052622e5ba45a8b96b59aba68cf068  2017      7  Saturday   \n",
       "\n",
       "        membership_days  age_group  income_group            event  \\\n",
       "0                  1747          0             3      transaction   \n",
       "1                  1747          0             3      transaction   \n",
       "2                  1747          0             3   offer received   \n",
       "3                  1747          0             3   offer received   \n",
       "4                  1747          0             3      transaction   \n",
       "...                 ...        ...           ...              ...   \n",
       "272659             1740          1             2  offer completed   \n",
       "272660             1740          1             2      transaction   \n",
       "272661             1740          1             2     offer viewed   \n",
       "272662             1740          1             2   offer received   \n",
       "272663             1740          1             2      transaction   \n",
       "\n",
       "                                                    value  time_group  \n",
       "0                                       {'amount': 21.51}           0  \n",
       "1                                       {'amount': 32.28}           1  \n",
       "2        {'offer id': '9b98b8c7a33c4b65b9aebfe6a799e6d9'}           4  \n",
       "3        {'offer id': '3f207df678b143eea3cee63160fa8bed'}           5  \n",
       "4                                       {'amount': 23.22}           5  \n",
       "...                                                   ...         ...  \n",
       "272659  {'offer_id': 'f19421c1d4aa40978ebb69ca19b0e20d...           4  \n",
       "272660                                  {'amount': 19.47}           4  \n",
       "272661   {'offer id': 'f19421c1d4aa40978ebb69ca19b0e20d'}           5  \n",
       "272662   {'offer id': '3f207df678b143eea3cee63160fa8bed'}           5  \n",
       "272663                                  {'amount': 24.71}           6  \n",
       "\n",
       "[272664 rows x 11 columns]"
      ]
     },
     "execution_count": 26,
     "metadata": {},
     "output_type": "execute_result"
    }
   ],
   "source": [
    "df = pd.merge(profile, transcript, on='id')\n",
    "df = df.drop(['became_member_on'], axis=1)\n",
    "df"
   ]
  },
  {
   "cell_type": "code",
   "execution_count": 27,
   "id": "0d14b222",
   "metadata": {
    "execution": {
     "iopub.execute_input": "2022-04-27T06:46:56.570022Z",
     "iopub.status.busy": "2022-04-27T06:46:56.568982Z",
     "iopub.status.idle": "2022-04-27T06:46:56.578661Z",
     "shell.execute_reply": "2022-04-27T06:46:56.579209Z",
     "shell.execute_reply.started": "2022-04-27T06:34:48.102028Z"
    },
    "papermill": {
     "duration": 0.092819,
     "end_time": "2022-04-27T06:46:56.579384",
     "exception": false,
     "start_time": "2022-04-27T06:46:56.486565",
     "status": "completed"
    },
    "tags": []
   },
   "outputs": [],
   "source": [
    "#map the offer_id from df with id in portfolio\n",
    "\n",
    "#create dict such that offers['offer_id']= offerName_difficulty_duration\n",
    "offers=dict()\n",
    "for offer, i, diff, dur in portfolio[['offer_type', 'id', 'difficulty', 'duration']].values:\n",
    "    offers[i]= f'{offer}_{diff}_{dur}'\n",
    "\n",
    "\n",
    "def value_col(col):\n",
    "    \"\"\"\n",
    "    extract offer_id from value column and mapped it to the offer name\n",
    "    \n",
    "    input- value column\n",
    "    \n",
    "    output-  mapped offer names\n",
    "    \"\"\"\n",
    "    value_type= col.split(':')[0].replace(\"'\", \"\").replace('{', \"\")\n",
    "    \n",
    "    if value_type == 'offer id':\n",
    "        value= col.split(':')[1].replace(\"'\", \"\").replace('}', \"\").strip()\n",
    "        return offers[value]\n",
    "    elif value_type == 'offer_id':\n",
    "        value= col.split(':')[1].split(',')[0].replace(\"'\", \"\").strip()\n",
    "        return offers[value]\n",
    "    else:\n",
    "        return 'None'"
   ]
  },
  {
   "cell_type": "code",
   "execution_count": 28,
   "id": "4ae27937",
   "metadata": {
    "execution": {
     "iopub.execute_input": "2022-04-27T06:46:56.741375Z",
     "iopub.status.busy": "2022-04-27T06:46:56.740402Z",
     "iopub.status.idle": "2022-04-27T06:46:57.163155Z",
     "shell.execute_reply": "2022-04-27T06:46:57.163702Z",
     "shell.execute_reply.started": "2022-04-27T06:34:48.115022Z"
    },
    "papermill": {
     "duration": 0.505008,
     "end_time": "2022-04-27T06:46:57.163906",
     "exception": false,
     "start_time": "2022-04-27T06:46:56.658898",
     "status": "completed"
    },
    "tags": []
   },
   "outputs": [],
   "source": [
    "#get offer names\n",
    "df['offer']= df['value'].apply(value_col)"
   ]
  },
  {
   "cell_type": "code",
   "execution_count": 29,
   "id": "ac3323d3",
   "metadata": {
    "execution": {
     "iopub.execute_input": "2022-04-27T06:46:57.331281Z",
     "iopub.status.busy": "2022-04-27T06:46:57.330207Z",
     "iopub.status.idle": "2022-04-27T06:46:57.332138Z",
     "shell.execute_reply": "2022-04-27T06:46:57.332745Z",
     "shell.execute_reply.started": "2022-04-27T06:34:48.563374Z"
    },
    "papermill": {
     "duration": 0.088361,
     "end_time": "2022-04-27T06:46:57.332942",
     "exception": false,
     "start_time": "2022-04-27T06:46:57.244581",
     "status": "completed"
    },
    "tags": []
   },
   "outputs": [],
   "source": [
    "def value_col_id(col):\n",
    "    \"\"\"\n",
    "    extract offer_id from value column\n",
    "    \n",
    "    input- value column\n",
    "    \n",
    "    output- offer_ids\n",
    "    \"\"\"\n",
    "    value_type= col.split(':')[0].replace(\"'\", \"\").replace('{', \"\")\n",
    "    \n",
    "    if value_type == 'offer id':\n",
    "        value= col.split(':')[1].replace(\"'\", \"\").replace('}', \"\").strip()\n",
    "        return value\n",
    "    elif value_type == 'offer_id':\n",
    "        value= col.split(':')[1].split(',')[0].replace(\"'\", \"\").strip()\n",
    "        return value\n",
    "    else:\n",
    "        return 'None'"
   ]
  },
  {
   "cell_type": "code",
   "execution_count": 30,
   "id": "7e93c576",
   "metadata": {
    "execution": {
     "iopub.execute_input": "2022-04-27T06:46:57.492738Z",
     "iopub.status.busy": "2022-04-27T06:46:57.491639Z",
     "iopub.status.idle": "2022-04-27T06:46:57.908810Z",
     "shell.execute_reply": "2022-04-27T06:46:57.909320Z",
     "shell.execute_reply.started": "2022-04-27T06:34:48.572726Z"
    },
    "papermill": {
     "duration": 0.498533,
     "end_time": "2022-04-27T06:46:57.909510",
     "exception": false,
     "start_time": "2022-04-27T06:46:57.410977",
     "status": "completed"
    },
    "tags": []
   },
   "outputs": [],
   "source": [
    "#get offer ids\n",
    "df['offer_id']= df['value'].apply(value_col_id)"
   ]
  },
  {
   "cell_type": "code",
   "execution_count": 31,
   "id": "1f3690c3",
   "metadata": {
    "execution": {
     "iopub.execute_input": "2022-04-27T06:46:58.070994Z",
     "iopub.status.busy": "2022-04-27T06:46:58.069928Z",
     "iopub.status.idle": "2022-04-27T06:46:58.076245Z",
     "shell.execute_reply": "2022-04-27T06:46:58.076726Z",
     "shell.execute_reply.started": "2022-04-27T06:34:49.051986Z"
    },
    "papermill": {
     "duration": 0.088369,
     "end_time": "2022-04-27T06:46:58.076927",
     "exception": false,
     "start_time": "2022-04-27T06:46:57.988558",
     "status": "completed"
    },
    "tags": []
   },
   "outputs": [],
   "source": [
    "def value_col_trans(col):\n",
    "    \"\"\"\n",
    "    get transaction amount from value column\n",
    "    \n",
    "    input- value column\n",
    "    \n",
    "    output- transaction amount\n",
    "    \"\"\"\n",
    "    value_type= col.split(':')[0].replace(\"'\", \"\").replace('{', \"\")\n",
    "    \n",
    "    if value_type == 'amount':\n",
    "        value= col.split(':')[1].replace(\"'\", \"\").replace('}', \"\").strip()\n",
    "        return np.round(float(value), 2)\n",
    "    else:\n",
    "        return np.nan"
   ]
  },
  {
   "cell_type": "code",
   "execution_count": 32,
   "id": "85bf7c28",
   "metadata": {
    "execution": {
     "iopub.execute_input": "2022-04-27T06:46:58.238489Z",
     "iopub.status.busy": "2022-04-27T06:46:58.237830Z",
     "iopub.status.idle": "2022-04-27T06:47:00.286321Z",
     "shell.execute_reply": "2022-04-27T06:47:00.286913Z",
     "shell.execute_reply.started": "2022-04-27T06:34:49.061718Z"
    },
    "papermill": {
     "duration": 2.132015,
     "end_time": "2022-04-27T06:47:00.287107",
     "exception": false,
     "start_time": "2022-04-27T06:46:58.155092",
     "status": "completed"
    },
    "tags": []
   },
   "outputs": [],
   "source": [
    "#get transaction amount\n",
    "df['amount']= df['value'].apply(value_col_trans)"
   ]
  },
  {
   "cell_type": "code",
   "execution_count": 33,
   "id": "61190d76",
   "metadata": {
    "execution": {
     "iopub.execute_input": "2022-04-27T06:47:00.451097Z",
     "iopub.status.busy": "2022-04-27T06:47:00.450446Z",
     "iopub.status.idle": "2022-04-27T06:47:00.533235Z",
     "shell.execute_reply": "2022-04-27T06:47:00.532594Z",
     "shell.execute_reply.started": "2022-04-27T06:34:51.201893Z"
    },
    "papermill": {
     "duration": 0.167221,
     "end_time": "2022-04-27T06:47:00.533396",
     "exception": false,
     "start_time": "2022-04-27T06:47:00.366175",
     "status": "completed"
    },
    "tags": []
   },
   "outputs": [],
   "source": [
    "df = df.drop(['value'], axis=1)"
   ]
  },
  {
   "cell_type": "code",
   "execution_count": 34,
   "id": "dac1a666",
   "metadata": {
    "execution": {
     "iopub.execute_input": "2022-04-27T06:47:00.708762Z",
     "iopub.status.busy": "2022-04-27T06:47:00.708068Z",
     "iopub.status.idle": "2022-04-27T06:47:01.271899Z",
     "shell.execute_reply": "2022-04-27T06:47:01.272352Z",
     "shell.execute_reply.started": "2022-04-27T06:34:51.251858Z"
    },
    "papermill": {
     "duration": 0.659265,
     "end_time": "2022-04-27T06:47:01.272530",
     "exception": false,
     "start_time": "2022-04-27T06:47:00.613265",
     "status": "completed"
    },
    "tags": []
   },
   "outputs": [
    {
     "data": {
      "text/html": [
       "<div>\n",
       "<style scoped>\n",
       "    .dataframe tbody tr th:only-of-type {\n",
       "        vertical-align: middle;\n",
       "    }\n",
       "\n",
       "    .dataframe tbody tr th {\n",
       "        vertical-align: top;\n",
       "    }\n",
       "\n",
       "    .dataframe thead th {\n",
       "        text-align: right;\n",
       "    }\n",
       "</style>\n",
       "<table border=\"1\" class=\"dataframe\">\n",
       "  <thead>\n",
       "    <tr style=\"text-align: right;\">\n",
       "      <th></th>\n",
       "      <th>gender</th>\n",
       "      <th>id</th>\n",
       "      <th>year</th>\n",
       "      <th>month</th>\n",
       "      <th>day</th>\n",
       "      <th>membership_days</th>\n",
       "      <th>age_group</th>\n",
       "      <th>income_group</th>\n",
       "      <th>event</th>\n",
       "      <th>time_group</th>\n",
       "      <th>offer</th>\n",
       "      <th>offer_id</th>\n",
       "      <th>amount</th>\n",
       "    </tr>\n",
       "  </thead>\n",
       "  <tbody>\n",
       "    <tr>\n",
       "      <th>0</th>\n",
       "      <td>F</td>\n",
       "      <td>0610b486422d4921ae7d2bf64640c50b</td>\n",
       "      <td>2017</td>\n",
       "      <td>7</td>\n",
       "      <td>Saturday</td>\n",
       "      <td>1747</td>\n",
       "      <td>0</td>\n",
       "      <td>3</td>\n",
       "      <td>transaction</td>\n",
       "      <td>0</td>\n",
       "      <td>None</td>\n",
       "      <td>None</td>\n",
       "      <td>21.51</td>\n",
       "    </tr>\n",
       "    <tr>\n",
       "      <th>1</th>\n",
       "      <td>F</td>\n",
       "      <td>0610b486422d4921ae7d2bf64640c50b</td>\n",
       "      <td>2017</td>\n",
       "      <td>7</td>\n",
       "      <td>Saturday</td>\n",
       "      <td>1747</td>\n",
       "      <td>0</td>\n",
       "      <td>3</td>\n",
       "      <td>transaction</td>\n",
       "      <td>1</td>\n",
       "      <td>None</td>\n",
       "      <td>None</td>\n",
       "      <td>32.28</td>\n",
       "    </tr>\n",
       "    <tr>\n",
       "      <th>2</th>\n",
       "      <td>F</td>\n",
       "      <td>0610b486422d4921ae7d2bf64640c50b</td>\n",
       "      <td>2017</td>\n",
       "      <td>7</td>\n",
       "      <td>Saturday</td>\n",
       "      <td>1747</td>\n",
       "      <td>0</td>\n",
       "      <td>3</td>\n",
       "      <td>offer received</td>\n",
       "      <td>4</td>\n",
       "      <td>bogo</td>\n",
       "      <td>9b98b8c7a33c4b65b9aebfe6a799e6d9</td>\n",
       "      <td>NaN</td>\n",
       "    </tr>\n",
       "    <tr>\n",
       "      <th>3</th>\n",
       "      <td>F</td>\n",
       "      <td>0610b486422d4921ae7d2bf64640c50b</td>\n",
       "      <td>2017</td>\n",
       "      <td>7</td>\n",
       "      <td>Saturday</td>\n",
       "      <td>1747</td>\n",
       "      <td>0</td>\n",
       "      <td>3</td>\n",
       "      <td>offer received</td>\n",
       "      <td>5</td>\n",
       "      <td>informational</td>\n",
       "      <td>3f207df678b143eea3cee63160fa8bed</td>\n",
       "      <td>NaN</td>\n",
       "    </tr>\n",
       "    <tr>\n",
       "      <th>4</th>\n",
       "      <td>F</td>\n",
       "      <td>0610b486422d4921ae7d2bf64640c50b</td>\n",
       "      <td>2017</td>\n",
       "      <td>7</td>\n",
       "      <td>Saturday</td>\n",
       "      <td>1747</td>\n",
       "      <td>0</td>\n",
       "      <td>3</td>\n",
       "      <td>transaction</td>\n",
       "      <td>5</td>\n",
       "      <td>None</td>\n",
       "      <td>None</td>\n",
       "      <td>23.22</td>\n",
       "    </tr>\n",
       "    <tr>\n",
       "      <th>...</th>\n",
       "      <td>...</td>\n",
       "      <td>...</td>\n",
       "      <td>...</td>\n",
       "      <td>...</td>\n",
       "      <td>...</td>\n",
       "      <td>...</td>\n",
       "      <td>...</td>\n",
       "      <td>...</td>\n",
       "      <td>...</td>\n",
       "      <td>...</td>\n",
       "      <td>...</td>\n",
       "      <td>...</td>\n",
       "      <td>...</td>\n",
       "    </tr>\n",
       "    <tr>\n",
       "      <th>272659</th>\n",
       "      <td>F</td>\n",
       "      <td>e4052622e5ba45a8b96b59aba68cf068</td>\n",
       "      <td>2017</td>\n",
       "      <td>7</td>\n",
       "      <td>Saturday</td>\n",
       "      <td>1740</td>\n",
       "      <td>1</td>\n",
       "      <td>2</td>\n",
       "      <td>offer completed</td>\n",
       "      <td>4</td>\n",
       "      <td>bogo</td>\n",
       "      <td>f19421c1d4aa40978ebb69ca19b0e20d</td>\n",
       "      <td>NaN</td>\n",
       "    </tr>\n",
       "    <tr>\n",
       "      <th>272660</th>\n",
       "      <td>F</td>\n",
       "      <td>e4052622e5ba45a8b96b59aba68cf068</td>\n",
       "      <td>2017</td>\n",
       "      <td>7</td>\n",
       "      <td>Saturday</td>\n",
       "      <td>1740</td>\n",
       "      <td>1</td>\n",
       "      <td>2</td>\n",
       "      <td>transaction</td>\n",
       "      <td>4</td>\n",
       "      <td>None</td>\n",
       "      <td>None</td>\n",
       "      <td>19.47</td>\n",
       "    </tr>\n",
       "    <tr>\n",
       "      <th>272661</th>\n",
       "      <td>F</td>\n",
       "      <td>e4052622e5ba45a8b96b59aba68cf068</td>\n",
       "      <td>2017</td>\n",
       "      <td>7</td>\n",
       "      <td>Saturday</td>\n",
       "      <td>1740</td>\n",
       "      <td>1</td>\n",
       "      <td>2</td>\n",
       "      <td>offer viewed</td>\n",
       "      <td>5</td>\n",
       "      <td>bogo</td>\n",
       "      <td>f19421c1d4aa40978ebb69ca19b0e20d</td>\n",
       "      <td>NaN</td>\n",
       "    </tr>\n",
       "    <tr>\n",
       "      <th>272662</th>\n",
       "      <td>F</td>\n",
       "      <td>e4052622e5ba45a8b96b59aba68cf068</td>\n",
       "      <td>2017</td>\n",
       "      <td>7</td>\n",
       "      <td>Saturday</td>\n",
       "      <td>1740</td>\n",
       "      <td>1</td>\n",
       "      <td>2</td>\n",
       "      <td>offer received</td>\n",
       "      <td>5</td>\n",
       "      <td>informational</td>\n",
       "      <td>3f207df678b143eea3cee63160fa8bed</td>\n",
       "      <td>NaN</td>\n",
       "    </tr>\n",
       "    <tr>\n",
       "      <th>272663</th>\n",
       "      <td>F</td>\n",
       "      <td>e4052622e5ba45a8b96b59aba68cf068</td>\n",
       "      <td>2017</td>\n",
       "      <td>7</td>\n",
       "      <td>Saturday</td>\n",
       "      <td>1740</td>\n",
       "      <td>1</td>\n",
       "      <td>2</td>\n",
       "      <td>transaction</td>\n",
       "      <td>6</td>\n",
       "      <td>None</td>\n",
       "      <td>None</td>\n",
       "      <td>24.71</td>\n",
       "    </tr>\n",
       "  </tbody>\n",
       "</table>\n",
       "<p>272664 rows × 13 columns</p>\n",
       "</div>"
      ],
      "text/plain": [
       "       gender                                id  year  month       day  \\\n",
       "0           F  0610b486422d4921ae7d2bf64640c50b  2017      7  Saturday   \n",
       "1           F  0610b486422d4921ae7d2bf64640c50b  2017      7  Saturday   \n",
       "2           F  0610b486422d4921ae7d2bf64640c50b  2017      7  Saturday   \n",
       "3           F  0610b486422d4921ae7d2bf64640c50b  2017      7  Saturday   \n",
       "4           F  0610b486422d4921ae7d2bf64640c50b  2017      7  Saturday   \n",
       "...       ...                               ...   ...    ...       ...   \n",
       "272659      F  e4052622e5ba45a8b96b59aba68cf068  2017      7  Saturday   \n",
       "272660      F  e4052622e5ba45a8b96b59aba68cf068  2017      7  Saturday   \n",
       "272661      F  e4052622e5ba45a8b96b59aba68cf068  2017      7  Saturday   \n",
       "272662      F  e4052622e5ba45a8b96b59aba68cf068  2017      7  Saturday   \n",
       "272663      F  e4052622e5ba45a8b96b59aba68cf068  2017      7  Saturday   \n",
       "\n",
       "        membership_days  age_group  income_group            event  time_group  \\\n",
       "0                  1747          0             3      transaction           0   \n",
       "1                  1747          0             3      transaction           1   \n",
       "2                  1747          0             3   offer received           4   \n",
       "3                  1747          0             3   offer received           5   \n",
       "4                  1747          0             3      transaction           5   \n",
       "...                 ...        ...           ...              ...         ...   \n",
       "272659             1740          1             2  offer completed           4   \n",
       "272660             1740          1             2      transaction           4   \n",
       "272661             1740          1             2     offer viewed           5   \n",
       "272662             1740          1             2   offer received           5   \n",
       "272663             1740          1             2      transaction           6   \n",
       "\n",
       "                offer                          offer_id  amount  \n",
       "0                None                              None   21.51  \n",
       "1                None                              None   32.28  \n",
       "2                bogo  9b98b8c7a33c4b65b9aebfe6a799e6d9     NaN  \n",
       "3       informational  3f207df678b143eea3cee63160fa8bed     NaN  \n",
       "4                None                              None   23.22  \n",
       "...               ...                               ...     ...  \n",
       "272659           bogo  f19421c1d4aa40978ebb69ca19b0e20d     NaN  \n",
       "272660           None                              None   19.47  \n",
       "272661           bogo  f19421c1d4aa40978ebb69ca19b0e20d     NaN  \n",
       "272662  informational  3f207df678b143eea3cee63160fa8bed     NaN  \n",
       "272663           None                              None   24.71  \n",
       "\n",
       "[272664 rows x 13 columns]"
      ]
     },
     "execution_count": 34,
     "metadata": {},
     "output_type": "execute_result"
    }
   ],
   "source": [
    "df['offer'] = df['offer'].str.replace('_', '')\n",
    "df['offer'] = df['offer'].str.replace('\\d+', '')\n",
    "df"
   ]
  },
  {
   "cell_type": "code",
   "execution_count": 35,
   "id": "a0519700",
   "metadata": {
    "execution": {
     "iopub.execute_input": "2022-04-27T06:47:01.440222Z",
     "iopub.status.busy": "2022-04-27T06:47:01.439479Z",
     "iopub.status.idle": "2022-04-27T06:47:01.595515Z",
     "shell.execute_reply": "2022-04-27T06:47:01.596045Z",
     "shell.execute_reply.started": "2022-04-27T06:34:51.811304Z"
    },
    "papermill": {
     "duration": 0.24192,
     "end_time": "2022-04-27T06:47:01.596245",
     "exception": false,
     "start_time": "2022-04-27T06:47:01.354325",
     "status": "completed"
    },
    "tags": []
   },
   "outputs": [
    {
     "data": {
      "text/html": [
       "<div>\n",
       "<style scoped>\n",
       "    .dataframe tbody tr th:only-of-type {\n",
       "        vertical-align: middle;\n",
       "    }\n",
       "\n",
       "    .dataframe tbody tr th {\n",
       "        vertical-align: top;\n",
       "    }\n",
       "\n",
       "    .dataframe thead th {\n",
       "        text-align: right;\n",
       "    }\n",
       "</style>\n",
       "<table border=\"1\" class=\"dataframe\">\n",
       "  <thead>\n",
       "    <tr style=\"text-align: right;\">\n",
       "      <th></th>\n",
       "      <th>gender</th>\n",
       "      <th>id</th>\n",
       "      <th>year</th>\n",
       "      <th>month</th>\n",
       "      <th>day</th>\n",
       "      <th>membership_days</th>\n",
       "      <th>age_group</th>\n",
       "      <th>income_group</th>\n",
       "      <th>event</th>\n",
       "      <th>time_group</th>\n",
       "      <th>offer</th>\n",
       "      <th>offer_id</th>\n",
       "      <th>amount</th>\n",
       "    </tr>\n",
       "  </thead>\n",
       "  <tbody>\n",
       "    <tr>\n",
       "      <th>0</th>\n",
       "      <td>F</td>\n",
       "      <td>0610b486422d4921ae7d2bf64640c50b</td>\n",
       "      <td>2017</td>\n",
       "      <td>7</td>\n",
       "      <td>Saturday</td>\n",
       "      <td>1747</td>\n",
       "      <td>0</td>\n",
       "      <td>3</td>\n",
       "      <td>transaction</td>\n",
       "      <td>0</td>\n",
       "      <td>0</td>\n",
       "      <td>None</td>\n",
       "      <td>21.51</td>\n",
       "    </tr>\n",
       "    <tr>\n",
       "      <th>1</th>\n",
       "      <td>F</td>\n",
       "      <td>0610b486422d4921ae7d2bf64640c50b</td>\n",
       "      <td>2017</td>\n",
       "      <td>7</td>\n",
       "      <td>Saturday</td>\n",
       "      <td>1747</td>\n",
       "      <td>0</td>\n",
       "      <td>3</td>\n",
       "      <td>transaction</td>\n",
       "      <td>1</td>\n",
       "      <td>0</td>\n",
       "      <td>None</td>\n",
       "      <td>32.28</td>\n",
       "    </tr>\n",
       "    <tr>\n",
       "      <th>2</th>\n",
       "      <td>F</td>\n",
       "      <td>0610b486422d4921ae7d2bf64640c50b</td>\n",
       "      <td>2017</td>\n",
       "      <td>7</td>\n",
       "      <td>Saturday</td>\n",
       "      <td>1747</td>\n",
       "      <td>0</td>\n",
       "      <td>3</td>\n",
       "      <td>offer received</td>\n",
       "      <td>4</td>\n",
       "      <td>1</td>\n",
       "      <td>9b98b8c7a33c4b65b9aebfe6a799e6d9</td>\n",
       "      <td>NaN</td>\n",
       "    </tr>\n",
       "    <tr>\n",
       "      <th>3</th>\n",
       "      <td>F</td>\n",
       "      <td>0610b486422d4921ae7d2bf64640c50b</td>\n",
       "      <td>2017</td>\n",
       "      <td>7</td>\n",
       "      <td>Saturday</td>\n",
       "      <td>1747</td>\n",
       "      <td>0</td>\n",
       "      <td>3</td>\n",
       "      <td>offer received</td>\n",
       "      <td>5</td>\n",
       "      <td>3</td>\n",
       "      <td>3f207df678b143eea3cee63160fa8bed</td>\n",
       "      <td>NaN</td>\n",
       "    </tr>\n",
       "    <tr>\n",
       "      <th>4</th>\n",
       "      <td>F</td>\n",
       "      <td>0610b486422d4921ae7d2bf64640c50b</td>\n",
       "      <td>2017</td>\n",
       "      <td>7</td>\n",
       "      <td>Saturday</td>\n",
       "      <td>1747</td>\n",
       "      <td>0</td>\n",
       "      <td>3</td>\n",
       "      <td>transaction</td>\n",
       "      <td>5</td>\n",
       "      <td>0</td>\n",
       "      <td>None</td>\n",
       "      <td>23.22</td>\n",
       "    </tr>\n",
       "    <tr>\n",
       "      <th>...</th>\n",
       "      <td>...</td>\n",
       "      <td>...</td>\n",
       "      <td>...</td>\n",
       "      <td>...</td>\n",
       "      <td>...</td>\n",
       "      <td>...</td>\n",
       "      <td>...</td>\n",
       "      <td>...</td>\n",
       "      <td>...</td>\n",
       "      <td>...</td>\n",
       "      <td>...</td>\n",
       "      <td>...</td>\n",
       "      <td>...</td>\n",
       "    </tr>\n",
       "    <tr>\n",
       "      <th>272659</th>\n",
       "      <td>F</td>\n",
       "      <td>e4052622e5ba45a8b96b59aba68cf068</td>\n",
       "      <td>2017</td>\n",
       "      <td>7</td>\n",
       "      <td>Saturday</td>\n",
       "      <td>1740</td>\n",
       "      <td>1</td>\n",
       "      <td>2</td>\n",
       "      <td>offer completed</td>\n",
       "      <td>4</td>\n",
       "      <td>1</td>\n",
       "      <td>f19421c1d4aa40978ebb69ca19b0e20d</td>\n",
       "      <td>NaN</td>\n",
       "    </tr>\n",
       "    <tr>\n",
       "      <th>272660</th>\n",
       "      <td>F</td>\n",
       "      <td>e4052622e5ba45a8b96b59aba68cf068</td>\n",
       "      <td>2017</td>\n",
       "      <td>7</td>\n",
       "      <td>Saturday</td>\n",
       "      <td>1740</td>\n",
       "      <td>1</td>\n",
       "      <td>2</td>\n",
       "      <td>transaction</td>\n",
       "      <td>4</td>\n",
       "      <td>0</td>\n",
       "      <td>None</td>\n",
       "      <td>19.47</td>\n",
       "    </tr>\n",
       "    <tr>\n",
       "      <th>272661</th>\n",
       "      <td>F</td>\n",
       "      <td>e4052622e5ba45a8b96b59aba68cf068</td>\n",
       "      <td>2017</td>\n",
       "      <td>7</td>\n",
       "      <td>Saturday</td>\n",
       "      <td>1740</td>\n",
       "      <td>1</td>\n",
       "      <td>2</td>\n",
       "      <td>offer viewed</td>\n",
       "      <td>5</td>\n",
       "      <td>1</td>\n",
       "      <td>f19421c1d4aa40978ebb69ca19b0e20d</td>\n",
       "      <td>NaN</td>\n",
       "    </tr>\n",
       "    <tr>\n",
       "      <th>272662</th>\n",
       "      <td>F</td>\n",
       "      <td>e4052622e5ba45a8b96b59aba68cf068</td>\n",
       "      <td>2017</td>\n",
       "      <td>7</td>\n",
       "      <td>Saturday</td>\n",
       "      <td>1740</td>\n",
       "      <td>1</td>\n",
       "      <td>2</td>\n",
       "      <td>offer received</td>\n",
       "      <td>5</td>\n",
       "      <td>3</td>\n",
       "      <td>3f207df678b143eea3cee63160fa8bed</td>\n",
       "      <td>NaN</td>\n",
       "    </tr>\n",
       "    <tr>\n",
       "      <th>272663</th>\n",
       "      <td>F</td>\n",
       "      <td>e4052622e5ba45a8b96b59aba68cf068</td>\n",
       "      <td>2017</td>\n",
       "      <td>7</td>\n",
       "      <td>Saturday</td>\n",
       "      <td>1740</td>\n",
       "      <td>1</td>\n",
       "      <td>2</td>\n",
       "      <td>transaction</td>\n",
       "      <td>6</td>\n",
       "      <td>0</td>\n",
       "      <td>None</td>\n",
       "      <td>24.71</td>\n",
       "    </tr>\n",
       "  </tbody>\n",
       "</table>\n",
       "<p>272664 rows × 13 columns</p>\n",
       "</div>"
      ],
      "text/plain": [
       "       gender                                id  year  month       day  \\\n",
       "0           F  0610b486422d4921ae7d2bf64640c50b  2017      7  Saturday   \n",
       "1           F  0610b486422d4921ae7d2bf64640c50b  2017      7  Saturday   \n",
       "2           F  0610b486422d4921ae7d2bf64640c50b  2017      7  Saturday   \n",
       "3           F  0610b486422d4921ae7d2bf64640c50b  2017      7  Saturday   \n",
       "4           F  0610b486422d4921ae7d2bf64640c50b  2017      7  Saturday   \n",
       "...       ...                               ...   ...    ...       ...   \n",
       "272659      F  e4052622e5ba45a8b96b59aba68cf068  2017      7  Saturday   \n",
       "272660      F  e4052622e5ba45a8b96b59aba68cf068  2017      7  Saturday   \n",
       "272661      F  e4052622e5ba45a8b96b59aba68cf068  2017      7  Saturday   \n",
       "272662      F  e4052622e5ba45a8b96b59aba68cf068  2017      7  Saturday   \n",
       "272663      F  e4052622e5ba45a8b96b59aba68cf068  2017      7  Saturday   \n",
       "\n",
       "        membership_days  age_group  income_group            event  time_group  \\\n",
       "0                  1747          0             3      transaction           0   \n",
       "1                  1747          0             3      transaction           1   \n",
       "2                  1747          0             3   offer received           4   \n",
       "3                  1747          0             3   offer received           5   \n",
       "4                  1747          0             3      transaction           5   \n",
       "...                 ...        ...           ...              ...         ...   \n",
       "272659             1740          1             2  offer completed           4   \n",
       "272660             1740          1             2      transaction           4   \n",
       "272661             1740          1             2     offer viewed           5   \n",
       "272662             1740          1             2   offer received           5   \n",
       "272663             1740          1             2      transaction           6   \n",
       "\n",
       "        offer                          offer_id  amount  \n",
       "0           0                              None   21.51  \n",
       "1           0                              None   32.28  \n",
       "2           1  9b98b8c7a33c4b65b9aebfe6a799e6d9     NaN  \n",
       "3           3  3f207df678b143eea3cee63160fa8bed     NaN  \n",
       "4           0                              None   23.22  \n",
       "...       ...                               ...     ...  \n",
       "272659      1  f19421c1d4aa40978ebb69ca19b0e20d     NaN  \n",
       "272660      0                              None   19.47  \n",
       "272661      1  f19421c1d4aa40978ebb69ca19b0e20d     NaN  \n",
       "272662      3  3f207df678b143eea3cee63160fa8bed     NaN  \n",
       "272663      0                              None   24.71  \n",
       "\n",
       "[272664 rows x 13 columns]"
      ]
     },
     "execution_count": 35,
     "metadata": {},
     "output_type": "execute_result"
    }
   ],
   "source": [
    "from sklearn.preprocessing import LabelEncoder\n",
    "\n",
    "df = df.copy(deep = True)\n",
    "le_offer = LabelEncoder()\n",
    "df['offer'] = le_offer.fit_transform(df['offer'])\n",
    "df.head(5)\n",
    "df"
   ]
  },
  {
   "cell_type": "code",
   "execution_count": 36,
   "id": "d0720de3",
   "metadata": {
    "execution": {
     "iopub.execute_input": "2022-04-27T06:47:01.768299Z",
     "iopub.status.busy": "2022-04-27T06:47:01.767244Z",
     "iopub.status.idle": "2022-04-27T06:47:01.771673Z",
     "shell.execute_reply": "2022-04-27T06:47:01.772236Z",
     "shell.execute_reply.started": "2022-04-27T06:34:51.956713Z"
    },
    "papermill": {
     "duration": 0.091714,
     "end_time": "2022-04-27T06:47:01.772409",
     "exception": false,
     "start_time": "2022-04-27T06:47:01.680695",
     "status": "completed"
    },
    "tags": []
   },
   "outputs": [],
   "source": [
    "df.rename(columns={'id':'customer_id'}, inplace=True)\n"
   ]
  },
  {
   "cell_type": "code",
   "execution_count": 37,
   "id": "bb88ac13",
   "metadata": {
    "execution": {
     "iopub.execute_input": "2022-04-27T06:47:01.936618Z",
     "iopub.status.busy": "2022-04-27T06:47:01.935622Z",
     "iopub.status.idle": "2022-04-27T06:47:01.940090Z",
     "shell.execute_reply": "2022-04-27T06:47:01.940536Z",
     "shell.execute_reply.started": "2022-04-27T06:34:51.963158Z"
    },
    "papermill": {
     "duration": 0.088602,
     "end_time": "2022-04-27T06:47:01.940726",
     "exception": false,
     "start_time": "2022-04-27T06:47:01.852124",
     "status": "completed"
    },
    "tags": []
   },
   "outputs": [],
   "source": [
    "df.rename(columns={'offer_id':'id'}, inplace=True)\n"
   ]
  },
  {
   "cell_type": "code",
   "execution_count": 38,
   "id": "4efe7cad",
   "metadata": {
    "execution": {
     "iopub.execute_input": "2022-04-27T06:47:02.105622Z",
     "iopub.status.busy": "2022-04-27T06:47:02.104985Z",
     "iopub.status.idle": "2022-04-27T06:47:02.195150Z",
     "shell.execute_reply": "2022-04-27T06:47:02.194460Z",
     "shell.execute_reply.started": "2022-04-27T06:34:51.977428Z"
    },
    "papermill": {
     "duration": 0.173955,
     "end_time": "2022-04-27T06:47:02.195292",
     "exception": false,
     "start_time": "2022-04-27T06:47:02.021337",
     "status": "completed"
    },
    "tags": []
   },
   "outputs": [
    {
     "data": {
      "text/html": [
       "<div>                            <div id=\"bf3f83c5-b02d-45aa-a82a-d192f0a00c3c\" class=\"plotly-graph-div\" style=\"height:525px; width:100%;\"></div>            <script type=\"text/javascript\">                require([\"plotly\"], function(Plotly) {                    window.PLOTLYENV=window.PLOTLYENV || {};                                    if (document.getElementById(\"bf3f83c5-b02d-45aa-a82a-d192f0a00c3c\")) {                    Plotly.newPlot(                        \"bf3f83c5-b02d-45aa-a82a-d192f0a00c3c\",                        [{\"domain\":{\"x\":[0.0,1.0],\"y\":[0.0,1.0]},\"hovertemplate\":\"event=%{label}<br>count=%{value}<extra></extra>\",\"labels\":[\"transaction\",\"offer received\",\"offer viewed\",\"offer completed\"],\"legendgroup\":\"\",\"name\":\"\",\"showlegend\":true,\"values\":[123910,66478,49844,32432],\"type\":\"pie\"}],                        {\"template\":{\"data\":{\"bar\":[{\"error_x\":{\"color\":\"#2a3f5f\"},\"error_y\":{\"color\":\"#2a3f5f\"},\"marker\":{\"line\":{\"color\":\"#E5ECF6\",\"width\":0.5},\"pattern\":{\"fillmode\":\"overlay\",\"size\":10,\"solidity\":0.2}},\"type\":\"bar\"}],\"barpolar\":[{\"marker\":{\"line\":{\"color\":\"#E5ECF6\",\"width\":0.5},\"pattern\":{\"fillmode\":\"overlay\",\"size\":10,\"solidity\":0.2}},\"type\":\"barpolar\"}],\"carpet\":[{\"aaxis\":{\"endlinecolor\":\"#2a3f5f\",\"gridcolor\":\"white\",\"linecolor\":\"white\",\"minorgridcolor\":\"white\",\"startlinecolor\":\"#2a3f5f\"},\"baxis\":{\"endlinecolor\":\"#2a3f5f\",\"gridcolor\":\"white\",\"linecolor\":\"white\",\"minorgridcolor\":\"white\",\"startlinecolor\":\"#2a3f5f\"},\"type\":\"carpet\"}],\"choropleth\":[{\"colorbar\":{\"outlinewidth\":0,\"ticks\":\"\"},\"type\":\"choropleth\"}],\"contour\":[{\"colorbar\":{\"outlinewidth\":0,\"ticks\":\"\"},\"colorscale\":[[0.0,\"#0d0887\"],[0.1111111111111111,\"#46039f\"],[0.2222222222222222,\"#7201a8\"],[0.3333333333333333,\"#9c179e\"],[0.4444444444444444,\"#bd3786\"],[0.5555555555555556,\"#d8576b\"],[0.6666666666666666,\"#ed7953\"],[0.7777777777777778,\"#fb9f3a\"],[0.8888888888888888,\"#fdca26\"],[1.0,\"#f0f921\"]],\"type\":\"contour\"}],\"contourcarpet\":[{\"colorbar\":{\"outlinewidth\":0,\"ticks\":\"\"},\"type\":\"contourcarpet\"}],\"heatmap\":[{\"colorbar\":{\"outlinewidth\":0,\"ticks\":\"\"},\"colorscale\":[[0.0,\"#0d0887\"],[0.1111111111111111,\"#46039f\"],[0.2222222222222222,\"#7201a8\"],[0.3333333333333333,\"#9c179e\"],[0.4444444444444444,\"#bd3786\"],[0.5555555555555556,\"#d8576b\"],[0.6666666666666666,\"#ed7953\"],[0.7777777777777778,\"#fb9f3a\"],[0.8888888888888888,\"#fdca26\"],[1.0,\"#f0f921\"]],\"type\":\"heatmap\"}],\"heatmapgl\":[{\"colorbar\":{\"outlinewidth\":0,\"ticks\":\"\"},\"colorscale\":[[0.0,\"#0d0887\"],[0.1111111111111111,\"#46039f\"],[0.2222222222222222,\"#7201a8\"],[0.3333333333333333,\"#9c179e\"],[0.4444444444444444,\"#bd3786\"],[0.5555555555555556,\"#d8576b\"],[0.6666666666666666,\"#ed7953\"],[0.7777777777777778,\"#fb9f3a\"],[0.8888888888888888,\"#fdca26\"],[1.0,\"#f0f921\"]],\"type\":\"heatmapgl\"}],\"histogram\":[{\"marker\":{\"pattern\":{\"fillmode\":\"overlay\",\"size\":10,\"solidity\":0.2}},\"type\":\"histogram\"}],\"histogram2d\":[{\"colorbar\":{\"outlinewidth\":0,\"ticks\":\"\"},\"colorscale\":[[0.0,\"#0d0887\"],[0.1111111111111111,\"#46039f\"],[0.2222222222222222,\"#7201a8\"],[0.3333333333333333,\"#9c179e\"],[0.4444444444444444,\"#bd3786\"],[0.5555555555555556,\"#d8576b\"],[0.6666666666666666,\"#ed7953\"],[0.7777777777777778,\"#fb9f3a\"],[0.8888888888888888,\"#fdca26\"],[1.0,\"#f0f921\"]],\"type\":\"histogram2d\"}],\"histogram2dcontour\":[{\"colorbar\":{\"outlinewidth\":0,\"ticks\":\"\"},\"colorscale\":[[0.0,\"#0d0887\"],[0.1111111111111111,\"#46039f\"],[0.2222222222222222,\"#7201a8\"],[0.3333333333333333,\"#9c179e\"],[0.4444444444444444,\"#bd3786\"],[0.5555555555555556,\"#d8576b\"],[0.6666666666666666,\"#ed7953\"],[0.7777777777777778,\"#fb9f3a\"],[0.8888888888888888,\"#fdca26\"],[1.0,\"#f0f921\"]],\"type\":\"histogram2dcontour\"}],\"mesh3d\":[{\"colorbar\":{\"outlinewidth\":0,\"ticks\":\"\"},\"type\":\"mesh3d\"}],\"parcoords\":[{\"line\":{\"colorbar\":{\"outlinewidth\":0,\"ticks\":\"\"}},\"type\":\"parcoords\"}],\"pie\":[{\"automargin\":true,\"type\":\"pie\"}],\"scatter\":[{\"marker\":{\"colorbar\":{\"outlinewidth\":0,\"ticks\":\"\"}},\"type\":\"scatter\"}],\"scatter3d\":[{\"line\":{\"colorbar\":{\"outlinewidth\":0,\"ticks\":\"\"}},\"marker\":{\"colorbar\":{\"outlinewidth\":0,\"ticks\":\"\"}},\"type\":\"scatter3d\"}],\"scattercarpet\":[{\"marker\":{\"colorbar\":{\"outlinewidth\":0,\"ticks\":\"\"}},\"type\":\"scattercarpet\"}],\"scattergeo\":[{\"marker\":{\"colorbar\":{\"outlinewidth\":0,\"ticks\":\"\"}},\"type\":\"scattergeo\"}],\"scattergl\":[{\"marker\":{\"colorbar\":{\"outlinewidth\":0,\"ticks\":\"\"}},\"type\":\"scattergl\"}],\"scattermapbox\":[{\"marker\":{\"colorbar\":{\"outlinewidth\":0,\"ticks\":\"\"}},\"type\":\"scattermapbox\"}],\"scatterpolar\":[{\"marker\":{\"colorbar\":{\"outlinewidth\":0,\"ticks\":\"\"}},\"type\":\"scatterpolar\"}],\"scatterpolargl\":[{\"marker\":{\"colorbar\":{\"outlinewidth\":0,\"ticks\":\"\"}},\"type\":\"scatterpolargl\"}],\"scatterternary\":[{\"marker\":{\"colorbar\":{\"outlinewidth\":0,\"ticks\":\"\"}},\"type\":\"scatterternary\"}],\"surface\":[{\"colorbar\":{\"outlinewidth\":0,\"ticks\":\"\"},\"colorscale\":[[0.0,\"#0d0887\"],[0.1111111111111111,\"#46039f\"],[0.2222222222222222,\"#7201a8\"],[0.3333333333333333,\"#9c179e\"],[0.4444444444444444,\"#bd3786\"],[0.5555555555555556,\"#d8576b\"],[0.6666666666666666,\"#ed7953\"],[0.7777777777777778,\"#fb9f3a\"],[0.8888888888888888,\"#fdca26\"],[1.0,\"#f0f921\"]],\"type\":\"surface\"}],\"table\":[{\"cells\":{\"fill\":{\"color\":\"#EBF0F8\"},\"line\":{\"color\":\"white\"}},\"header\":{\"fill\":{\"color\":\"#C8D4E3\"},\"line\":{\"color\":\"white\"}},\"type\":\"table\"}]},\"layout\":{\"annotationdefaults\":{\"arrowcolor\":\"#2a3f5f\",\"arrowhead\":0,\"arrowwidth\":1},\"autotypenumbers\":\"strict\",\"coloraxis\":{\"colorbar\":{\"outlinewidth\":0,\"ticks\":\"\"}},\"colorscale\":{\"diverging\":[[0,\"#8e0152\"],[0.1,\"#c51b7d\"],[0.2,\"#de77ae\"],[0.3,\"#f1b6da\"],[0.4,\"#fde0ef\"],[0.5,\"#f7f7f7\"],[0.6,\"#e6f5d0\"],[0.7,\"#b8e186\"],[0.8,\"#7fbc41\"],[0.9,\"#4d9221\"],[1,\"#276419\"]],\"sequential\":[[0.0,\"#0d0887\"],[0.1111111111111111,\"#46039f\"],[0.2222222222222222,\"#7201a8\"],[0.3333333333333333,\"#9c179e\"],[0.4444444444444444,\"#bd3786\"],[0.5555555555555556,\"#d8576b\"],[0.6666666666666666,\"#ed7953\"],[0.7777777777777778,\"#fb9f3a\"],[0.8888888888888888,\"#fdca26\"],[1.0,\"#f0f921\"]],\"sequentialminus\":[[0.0,\"#0d0887\"],[0.1111111111111111,\"#46039f\"],[0.2222222222222222,\"#7201a8\"],[0.3333333333333333,\"#9c179e\"],[0.4444444444444444,\"#bd3786\"],[0.5555555555555556,\"#d8576b\"],[0.6666666666666666,\"#ed7953\"],[0.7777777777777778,\"#fb9f3a\"],[0.8888888888888888,\"#fdca26\"],[1.0,\"#f0f921\"]]},\"colorway\":[\"#636efa\",\"#EF553B\",\"#00cc96\",\"#ab63fa\",\"#FFA15A\",\"#19d3f3\",\"#FF6692\",\"#B6E880\",\"#FF97FF\",\"#FECB52\"],\"font\":{\"color\":\"#2a3f5f\"},\"geo\":{\"bgcolor\":\"white\",\"lakecolor\":\"white\",\"landcolor\":\"#E5ECF6\",\"showlakes\":true,\"showland\":true,\"subunitcolor\":\"white\"},\"hoverlabel\":{\"align\":\"left\"},\"hovermode\":\"closest\",\"mapbox\":{\"style\":\"light\"},\"paper_bgcolor\":\"white\",\"plot_bgcolor\":\"#E5ECF6\",\"polar\":{\"angularaxis\":{\"gridcolor\":\"white\",\"linecolor\":\"white\",\"ticks\":\"\"},\"bgcolor\":\"#E5ECF6\",\"radialaxis\":{\"gridcolor\":\"white\",\"linecolor\":\"white\",\"ticks\":\"\"}},\"scene\":{\"xaxis\":{\"backgroundcolor\":\"#E5ECF6\",\"gridcolor\":\"white\",\"gridwidth\":2,\"linecolor\":\"white\",\"showbackground\":true,\"ticks\":\"\",\"zerolinecolor\":\"white\"},\"yaxis\":{\"backgroundcolor\":\"#E5ECF6\",\"gridcolor\":\"white\",\"gridwidth\":2,\"linecolor\":\"white\",\"showbackground\":true,\"ticks\":\"\",\"zerolinecolor\":\"white\"},\"zaxis\":{\"backgroundcolor\":\"#E5ECF6\",\"gridcolor\":\"white\",\"gridwidth\":2,\"linecolor\":\"white\",\"showbackground\":true,\"ticks\":\"\",\"zerolinecolor\":\"white\"}},\"shapedefaults\":{\"line\":{\"color\":\"#2a3f5f\"}},\"ternary\":{\"aaxis\":{\"gridcolor\":\"white\",\"linecolor\":\"white\",\"ticks\":\"\"},\"baxis\":{\"gridcolor\":\"white\",\"linecolor\":\"white\",\"ticks\":\"\"},\"bgcolor\":\"#E5ECF6\",\"caxis\":{\"gridcolor\":\"white\",\"linecolor\":\"white\",\"ticks\":\"\"}},\"title\":{\"x\":0.05},\"xaxis\":{\"automargin\":true,\"gridcolor\":\"white\",\"linecolor\":\"white\",\"ticks\":\"\",\"title\":{\"standoff\":15},\"zerolinecolor\":\"white\",\"zerolinewidth\":2},\"yaxis\":{\"automargin\":true,\"gridcolor\":\"white\",\"linecolor\":\"white\",\"ticks\":\"\",\"title\":{\"standoff\":15},\"zerolinecolor\":\"white\",\"zerolinewidth\":2}}},\"legend\":{\"tracegroupgap\":0},\"title\":{\"text\":\"Event\"},\"piecolorway\":[\"blue\",\"light green\"]},                        {\"responsive\": true}                    ).then(function(){\n",
       "                            \n",
       "var gd = document.getElementById('bf3f83c5-b02d-45aa-a82a-d192f0a00c3c');\n",
       "var x = new MutationObserver(function (mutations, observer) {{\n",
       "        var display = window.getComputedStyle(gd).display;\n",
       "        if (!display || display === 'none') {{\n",
       "            console.log([gd, 'removed!']);\n",
       "            Plotly.purge(gd);\n",
       "            observer.disconnect();\n",
       "        }}\n",
       "}});\n",
       "\n",
       "// Listen for the removal of the full notebook cells\n",
       "var notebookContainer = gd.closest('#notebook-container');\n",
       "if (notebookContainer) {{\n",
       "    x.observe(notebookContainer, {childList: true});\n",
       "}}\n",
       "\n",
       "// Listen for the clearing of the current output cell\n",
       "var outputEl = gd.closest('.output');\n",
       "if (outputEl) {{\n",
       "    x.observe(outputEl, {childList: true});\n",
       "}}\n",
       "\n",
       "                        })                };                });            </script>        </div>"
      ]
     },
     "metadata": {},
     "output_type": "display_data"
    }
   ],
   "source": [
    "event = df.event.value_counts().reset_index()\n",
    "event.columns = ['event', 'count']\n",
    "fig = px.pie(event, values='count', names='event', title='Event',\n",
    "             color_discrete_sequence=['blue', 'light green'])\n",
    "fig.show()"
   ]
  },
  {
   "cell_type": "markdown",
   "id": "3c8a1075",
   "metadata": {
    "papermill": {
     "duration": 0.082177,
     "end_time": "2022-04-27T06:47:02.361497",
     "exception": false,
     "start_time": "2022-04-27T06:47:02.279320",
     "status": "completed"
    },
    "tags": []
   },
   "source": [
    "# **3. Segmentation**"
   ]
  },
  {
   "cell_type": "code",
   "execution_count": 39,
   "id": "c1505516",
   "metadata": {
    "execution": {
     "iopub.execute_input": "2022-04-27T06:47:02.545934Z",
     "iopub.status.busy": "2022-04-27T06:47:02.544960Z",
     "iopub.status.idle": "2022-04-27T06:47:02.738182Z",
     "shell.execute_reply": "2022-04-27T06:47:02.737474Z",
     "shell.execute_reply.started": "2022-04-27T06:34:52.079161Z"
    },
    "papermill": {
     "duration": 0.277087,
     "end_time": "2022-04-27T06:47:02.738338",
     "exception": false,
     "start_time": "2022-04-27T06:47:02.461251",
     "status": "completed"
    },
    "tags": []
   },
   "outputs": [
    {
     "data": {
      "text/html": [
       "<div>\n",
       "<style scoped>\n",
       "    .dataframe tbody tr th:only-of-type {\n",
       "        vertical-align: middle;\n",
       "    }\n",
       "\n",
       "    .dataframe tbody tr th {\n",
       "        vertical-align: top;\n",
       "    }\n",
       "\n",
       "    .dataframe thead th {\n",
       "        text-align: right;\n",
       "    }\n",
       "</style>\n",
       "<table border=\"1\" class=\"dataframe\">\n",
       "  <thead>\n",
       "    <tr style=\"text-align: right;\">\n",
       "      <th></th>\n",
       "      <th>gender</th>\n",
       "      <th>customer_id</th>\n",
       "      <th>year</th>\n",
       "      <th>month</th>\n",
       "      <th>day</th>\n",
       "      <th>membership_days</th>\n",
       "      <th>age_group</th>\n",
       "      <th>income_group</th>\n",
       "      <th>event</th>\n",
       "      <th>time_group</th>\n",
       "      <th>offer</th>\n",
       "      <th>id</th>\n",
       "      <th>amount</th>\n",
       "      <th>reward</th>\n",
       "      <th>channels</th>\n",
       "      <th>difficulty</th>\n",
       "      <th>duration</th>\n",
       "      <th>offer_type</th>\n",
       "    </tr>\n",
       "  </thead>\n",
       "  <tbody>\n",
       "    <tr>\n",
       "      <th>0</th>\n",
       "      <td>F</td>\n",
       "      <td>0610b486422d4921ae7d2bf64640c50b</td>\n",
       "      <td>2017</td>\n",
       "      <td>7</td>\n",
       "      <td>Saturday</td>\n",
       "      <td>1747</td>\n",
       "      <td>0</td>\n",
       "      <td>3</td>\n",
       "      <td>offer received</td>\n",
       "      <td>4</td>\n",
       "      <td>1</td>\n",
       "      <td>9b98b8c7a33c4b65b9aebfe6a799e6d9</td>\n",
       "      <td>NaN</td>\n",
       "      <td>5</td>\n",
       "      <td>['web', 'email', 'mobile']</td>\n",
       "      <td>5</td>\n",
       "      <td>7</td>\n",
       "      <td>bogo</td>\n",
       "    </tr>\n",
       "    <tr>\n",
       "      <th>1</th>\n",
       "      <td>F</td>\n",
       "      <td>0610b486422d4921ae7d2bf64640c50b</td>\n",
       "      <td>2017</td>\n",
       "      <td>7</td>\n",
       "      <td>Saturday</td>\n",
       "      <td>1747</td>\n",
       "      <td>0</td>\n",
       "      <td>3</td>\n",
       "      <td>offer completed</td>\n",
       "      <td>5</td>\n",
       "      <td>1</td>\n",
       "      <td>9b98b8c7a33c4b65b9aebfe6a799e6d9</td>\n",
       "      <td>NaN</td>\n",
       "      <td>5</td>\n",
       "      <td>['web', 'email', 'mobile']</td>\n",
       "      <td>5</td>\n",
       "      <td>7</td>\n",
       "      <td>bogo</td>\n",
       "    </tr>\n",
       "  </tbody>\n",
       "</table>\n",
       "</div>"
      ],
      "text/plain": [
       "  gender                       customer_id  year  month       day  \\\n",
       "0      F  0610b486422d4921ae7d2bf64640c50b  2017      7  Saturday   \n",
       "1      F  0610b486422d4921ae7d2bf64640c50b  2017      7  Saturday   \n",
       "\n",
       "   membership_days  age_group  income_group            event  time_group  \\\n",
       "0             1747          0             3   offer received           4   \n",
       "1             1747          0             3  offer completed           5   \n",
       "\n",
       "   offer                                id  amount  reward  \\\n",
       "0      1  9b98b8c7a33c4b65b9aebfe6a799e6d9     NaN       5   \n",
       "1      1  9b98b8c7a33c4b65b9aebfe6a799e6d9     NaN       5   \n",
       "\n",
       "                     channels  difficulty  duration offer_type  \n",
       "0  ['web', 'email', 'mobile']           5         7       bogo  \n",
       "1  ['web', 'email', 'mobile']           5         7       bogo  "
      ]
     },
     "execution_count": 39,
     "metadata": {},
     "output_type": "execute_result"
    }
   ],
   "source": [
    "df1 = pd.merge(df, portfolio, on='id')\n",
    "df1.head(2)"
   ]
  },
  {
   "cell_type": "code",
   "execution_count": 40,
   "id": "3dedb4ab",
   "metadata": {
    "execution": {
     "iopub.execute_input": "2022-04-27T06:47:02.911120Z",
     "iopub.status.busy": "2022-04-27T06:47:02.910397Z",
     "iopub.status.idle": "2022-04-27T06:47:03.032262Z",
     "shell.execute_reply": "2022-04-27T06:47:03.031675Z",
     "shell.execute_reply.started": "2022-04-27T06:34:52.286378Z"
    },
    "papermill": {
     "duration": 0.211971,
     "end_time": "2022-04-27T06:47:03.032418",
     "exception": false,
     "start_time": "2022-04-27T06:47:02.820447",
     "status": "completed"
    },
    "tags": []
   },
   "outputs": [],
   "source": [
    "from sklearn.preprocessing import LabelEncoder\n",
    "\n",
    "df1 = df1.copy(deep = True)\n",
    "le_type = LabelEncoder()\n",
    "df1['offer_type'] = le_type.fit_transform(df1['offer_type'])"
   ]
  },
  {
   "cell_type": "code",
   "execution_count": 41,
   "id": "c4d7be2b",
   "metadata": {
    "execution": {
     "iopub.execute_input": "2022-04-27T06:47:03.198478Z",
     "iopub.status.busy": "2022-04-27T06:47:03.197457Z",
     "iopub.status.idle": "2022-04-27T06:47:03.326086Z",
     "shell.execute_reply": "2022-04-27T06:47:03.325504Z",
     "shell.execute_reply.started": "2022-04-27T06:34:52.393410Z"
    },
    "papermill": {
     "duration": 0.212562,
     "end_time": "2022-04-27T06:47:03.326250",
     "exception": false,
     "start_time": "2022-04-27T06:47:03.113688",
     "status": "completed"
    },
    "tags": []
   },
   "outputs": [],
   "source": [
    "from sklearn.preprocessing import LabelEncoder\n",
    "\n",
    "df1 = df1.copy(deep = True)\n",
    "le_id = LabelEncoder()\n",
    "df1['customer_id'] = le_id.fit_transform(df1['customer_id'])\n"
   ]
  },
  {
   "cell_type": "code",
   "execution_count": 42,
   "id": "39e9a802",
   "metadata": {
    "execution": {
     "iopub.execute_input": "2022-04-27T06:47:03.495143Z",
     "iopub.status.busy": "2022-04-27T06:47:03.494098Z",
     "iopub.status.idle": "2022-04-27T06:47:03.596010Z",
     "shell.execute_reply": "2022-04-27T06:47:03.596626Z",
     "shell.execute_reply.started": "2022-04-27T06:34:52.522581Z"
    },
    "papermill": {
     "duration": 0.186958,
     "end_time": "2022-04-27T06:47:03.596818",
     "exception": false,
     "start_time": "2022-04-27T06:47:03.409860",
     "status": "completed"
    },
    "tags": []
   },
   "outputs": [],
   "source": [
    "from sklearn.preprocessing import LabelEncoder\n",
    "\n",
    "df1 = df1.copy(deep = True)\n",
    "le_id = LabelEncoder()\n",
    "df1['id'] = le_id.fit_transform(df1['id'])\n"
   ]
  },
  {
   "cell_type": "code",
   "execution_count": 43,
   "id": "1b4756bd",
   "metadata": {
    "execution": {
     "iopub.execute_input": "2022-04-27T06:47:03.768949Z",
     "iopub.status.busy": "2022-04-27T06:47:03.768210Z",
     "iopub.status.idle": "2022-04-27T06:47:03.840522Z",
     "shell.execute_reply": "2022-04-27T06:47:03.839956Z",
     "shell.execute_reply.started": "2022-04-27T06:34:52.628525Z"
    },
    "papermill": {
     "duration": 0.161572,
     "end_time": "2022-04-27T06:47:03.840687",
     "exception": false,
     "start_time": "2022-04-27T06:47:03.679115",
     "status": "completed"
    },
    "tags": []
   },
   "outputs": [],
   "source": [
    "from sklearn.preprocessing import LabelEncoder\n",
    "\n",
    "df1 = df1.copy(deep = True)\n",
    "le_event = LabelEncoder()\n",
    "df1['event'] = le_event.fit_transform(df1['event'])\n"
   ]
  },
  {
   "cell_type": "code",
   "execution_count": 44,
   "id": "a9e58c63",
   "metadata": {
    "execution": {
     "iopub.execute_input": "2022-04-27T06:47:04.012827Z",
     "iopub.status.busy": "2022-04-27T06:47:04.012141Z",
     "iopub.status.idle": "2022-04-27T06:47:04.084807Z",
     "shell.execute_reply": "2022-04-27T06:47:04.085293Z",
     "shell.execute_reply.started": "2022-04-27T06:34:52.699136Z"
    },
    "papermill": {
     "duration": 0.160709,
     "end_time": "2022-04-27T06:47:04.085474",
     "exception": false,
     "start_time": "2022-04-27T06:47:03.924765",
     "status": "completed"
    },
    "tags": []
   },
   "outputs": [],
   "source": [
    "from sklearn.preprocessing import LabelEncoder\n",
    "\n",
    "df1 = df1.copy(deep = True)\n",
    "le_gender = LabelEncoder()\n",
    "df1['gender'] = le_gender.fit_transform(df1['gender'])\n"
   ]
  },
  {
   "cell_type": "code",
   "execution_count": 45,
   "id": "90abcfc0",
   "metadata": {
    "execution": {
     "iopub.execute_input": "2022-04-27T06:47:04.254900Z",
     "iopub.status.busy": "2022-04-27T06:47:04.254153Z",
     "iopub.status.idle": "2022-04-27T06:47:04.274765Z",
     "shell.execute_reply": "2022-04-27T06:47:04.275326Z",
     "shell.execute_reply.started": "2022-04-27T06:34:52.763879Z"
    },
    "papermill": {
     "duration": 0.108234,
     "end_time": "2022-04-27T06:47:04.275499",
     "exception": false,
     "start_time": "2022-04-27T06:47:04.167265",
     "status": "completed"
    },
    "tags": []
   },
   "outputs": [],
   "source": [
    "X = np.array(df1[['gender', 'membership_days', 'age_group', 'income_group']]) \n",
    "y = np.array(df1[['event']])"
   ]
  },
  {
   "cell_type": "code",
   "execution_count": 46,
   "id": "6c6cee5f",
   "metadata": {
    "execution": {
     "iopub.execute_input": "2022-04-27T06:47:04.443938Z",
     "iopub.status.busy": "2022-04-27T06:47:04.443270Z",
     "iopub.status.idle": "2022-04-27T06:47:04.462340Z",
     "shell.execute_reply": "2022-04-27T06:47:04.462961Z",
     "shell.execute_reply.started": "2022-04-27T06:34:52.782546Z"
    },
    "papermill": {
     "duration": 0.105991,
     "end_time": "2022-04-27T06:47:04.463147",
     "exception": false,
     "start_time": "2022-04-27T06:47:04.357156",
     "status": "completed"
    },
    "tags": []
   },
   "outputs": [],
   "source": [
    "#import train_test_split from sklearn to train and test our data\n",
    "from sklearn.model_selection import train_test_split\n",
    "\n",
    "#define\n",
    "X_train, X_test, y_train, y_test = train_test_split(X, y, test_size = 0.25, random_state = 0)\n",
    "#print\n",
    "#print(X_train[:5],'\\n', '\\n', y_train[:5],'\\n','\\n', X_test[:5],'\\n','\\n', y_test[:5])"
   ]
  },
  {
   "cell_type": "code",
   "execution_count": 47,
   "id": "da06ecbd",
   "metadata": {
    "execution": {
     "iopub.execute_input": "2022-04-27T06:47:04.631147Z",
     "iopub.status.busy": "2022-04-27T06:47:04.630391Z",
     "iopub.status.idle": "2022-04-27T06:47:20.737328Z",
     "shell.execute_reply": "2022-04-27T06:47:20.736372Z",
     "shell.execute_reply.started": "2022-04-27T06:34:52.805856Z"
    },
    "papermill": {
     "duration": 16.191487,
     "end_time": "2022-04-27T06:47:20.737527",
     "exception": false,
     "start_time": "2022-04-27T06:47:04.546040",
     "status": "completed"
    },
    "tags": []
   },
   "outputs": [
    {
     "name": "stdout",
     "output_type": "stream",
     "text": [
      "MAE for Linear Regression: 0.5902577096028646\n",
      "MAE for logistic Regression: 0.5526365323079405\n",
      "MAE for Random Forest: 0.6467022257487396\n",
      "MAE for Decsion Tree: 0.7765737180349028\n",
      "MAE for Naive Bayes: 0.5536314501599936\n"
     ]
    }
   ],
   "source": [
    "from sklearn import linear_model\n",
    "reg = linear_model.LinearRegression()\n",
    "reg.fit(X_train, y_train)\n",
    "y_pred0 = reg.predict(X_test)\n",
    "\n",
    "from sklearn.linear_model import LogisticRegression\n",
    "lg = LogisticRegression()\n",
    "lg.fit(X_train, y_train)\n",
    "y_pred1 = lg.predict(X_test)\n",
    "\n",
    "from sklearn.ensemble import RandomForestRegressor\n",
    "rf = RandomForestRegressor(n_estimators=100,max_features=None)\n",
    "rf.fit(X_train,y_train)\n",
    "y_pred2 = rf.predict(X_test) \n",
    "\n",
    "from sklearn import tree\n",
    "clf = tree.DecisionTreeClassifier()\n",
    "clf.fit(X_train,y_train)\n",
    "y_pred3 = clf.predict(X_test) \n",
    "\n",
    "from sklearn.naive_bayes import GaussianNB\n",
    "gnb = GaussianNB()\n",
    "gnb.fit(X_train,y_train)\n",
    "y_pred4 = gnb.predict(X_test) \n",
    "\n",
    "print(\"MAE for Linear Regression: \" + str(mean_absolute_error(y_test, y_pred0)))\n",
    "print(\"MAE for logistic Regression: \" + str(mean_absolute_error(y_test, y_pred1)))\n",
    "print(\"MAE for Random Forest: \" + str(mean_absolute_error(y_test, y_pred2)))\n",
    "print(\"MAE for Decsion Tree: \" + str(mean_absolute_error(y_test, y_pred3)))\n",
    "print(\"MAE for Naive Bayes: \" + str(mean_absolute_error(y_test, y_pred4)))"
   ]
  },
  {
   "cell_type": "code",
   "execution_count": 48,
   "id": "c6a27bde",
   "metadata": {
    "execution": {
     "iopub.execute_input": "2022-04-27T06:47:20.994388Z",
     "iopub.status.busy": "2022-04-27T06:47:20.993623Z",
     "iopub.status.idle": "2022-04-27T06:47:21.190855Z",
     "shell.execute_reply": "2022-04-27T06:47:21.190265Z",
     "shell.execute_reply.started": "2022-04-27T06:35:08.667345Z"
    },
    "papermill": {
     "duration": 0.356042,
     "end_time": "2022-04-27T06:47:21.190994",
     "exception": false,
     "start_time": "2022-04-27T06:47:20.834952",
     "status": "completed"
    },
    "tags": []
   },
   "outputs": [],
   "source": [
    "transaction_df = df[df.event == 'transaction']\n",
    "offer_completed_df = df[df.event == 'offer completed']\n",
    "offer_viewed_df = df[df.event == 'offer viewed']\n",
    "offers_received_df = df[df.event == 'offer received']"
   ]
  },
  {
   "cell_type": "code",
   "execution_count": 49,
   "id": "a3f8de8f",
   "metadata": {
    "execution": {
     "iopub.execute_input": "2022-04-27T06:47:21.370839Z",
     "iopub.status.busy": "2022-04-27T06:47:21.370180Z",
     "iopub.status.idle": "2022-04-27T06:47:21.432551Z",
     "shell.execute_reply": "2022-04-27T06:47:21.432020Z",
     "shell.execute_reply.started": "2022-04-27T06:35:08.910779Z"
    },
    "papermill": {
     "duration": 0.152012,
     "end_time": "2022-04-27T06:47:21.432697",
     "exception": false,
     "start_time": "2022-04-27T06:47:21.280685",
     "status": "completed"
    },
    "tags": []
   },
   "outputs": [],
   "source": [
    "users = df1.copy(deep = True) \n",
    "offers = df1.copy(deep = True)\n",
    "rewards = df1.copy(deep = True)\n",
    "users = df1.drop(['year','day', 'month', 'amount', 'offer','id', 'event', 'time_group', 'reward', 'channels', 'difficulty', 'duration'],axis=1)\n",
    "offers = df1.drop(['year','day', 'month', 'amount', 'event', 'customer_id', 'gender', 'age_group', 'income_group', 'time_group', 'reward',  'difficulty', 'duration'],axis=1)\n",
    "rewards = df1.drop(['year','day', 'month', 'amount', 'offer','event', 'gender', 'age_group', 'income_group', 'time_group','membership_days',  'difficulty', 'duration'],axis=1)"
   ]
  },
  {
   "cell_type": "code",
   "execution_count": 50,
   "id": "fc93b3d4",
   "metadata": {
    "execution": {
     "iopub.execute_input": "2022-04-27T06:47:21.625802Z",
     "iopub.status.busy": "2022-04-27T06:47:21.625146Z",
     "iopub.status.idle": "2022-04-27T06:47:21.627981Z",
     "shell.execute_reply": "2022-04-27T06:47:21.628562Z",
     "shell.execute_reply.started": "2022-04-27T06:35:08.971674Z"
    },
    "papermill": {
     "duration": 0.104804,
     "end_time": "2022-04-27T06:47:21.628727",
     "exception": false,
     "start_time": "2022-04-27T06:47:21.523923",
     "status": "completed"
    },
    "tags": []
   },
   "outputs": [
    {
     "data": {
      "text/html": [
       "<div>\n",
       "<style scoped>\n",
       "    .dataframe tbody tr th:only-of-type {\n",
       "        vertical-align: middle;\n",
       "    }\n",
       "\n",
       "    .dataframe tbody tr th {\n",
       "        vertical-align: top;\n",
       "    }\n",
       "\n",
       "    .dataframe thead th {\n",
       "        text-align: right;\n",
       "    }\n",
       "</style>\n",
       "<table border=\"1\" class=\"dataframe\">\n",
       "  <thead>\n",
       "    <tr style=\"text-align: right;\">\n",
       "      <th></th>\n",
       "      <th>membership_days</th>\n",
       "      <th>offer</th>\n",
       "      <th>id</th>\n",
       "      <th>channels</th>\n",
       "      <th>offer_type</th>\n",
       "    </tr>\n",
       "  </thead>\n",
       "  <tbody>\n",
       "    <tr>\n",
       "      <th>0</th>\n",
       "      <td>1747</td>\n",
       "      <td>1</td>\n",
       "      <td>6</td>\n",
       "      <td>['web', 'email', 'mobile']</td>\n",
       "      <td>0</td>\n",
       "    </tr>\n",
       "    <tr>\n",
       "      <th>1</th>\n",
       "      <td>1747</td>\n",
       "      <td>1</td>\n",
       "      <td>6</td>\n",
       "      <td>['web', 'email', 'mobile']</td>\n",
       "      <td>0</td>\n",
       "    </tr>\n",
       "  </tbody>\n",
       "</table>\n",
       "</div>"
      ],
      "text/plain": [
       "   membership_days  offer  id                    channels  offer_type\n",
       "0             1747      1   6  ['web', 'email', 'mobile']           0\n",
       "1             1747      1   6  ['web', 'email', 'mobile']           0"
      ]
     },
     "execution_count": 50,
     "metadata": {},
     "output_type": "execute_result"
    }
   ],
   "source": [
    "offers.head(2)"
   ]
  },
  {
   "cell_type": "code",
   "execution_count": 51,
   "id": "8533223f",
   "metadata": {
    "execution": {
     "iopub.execute_input": "2022-04-27T06:47:21.809525Z",
     "iopub.status.busy": "2022-04-27T06:47:21.808494Z",
     "iopub.status.idle": "2022-04-27T06:47:21.820344Z",
     "shell.execute_reply": "2022-04-27T06:47:21.821010Z",
     "shell.execute_reply.started": "2022-04-27T06:35:08.986482Z"
    },
    "papermill": {
     "duration": 0.09964,
     "end_time": "2022-04-27T06:47:21.821251",
     "exception": false,
     "start_time": "2022-04-27T06:47:21.721611",
     "status": "completed"
    },
    "tags": []
   },
   "outputs": [
    {
     "data": {
      "text/html": [
       "<div>\n",
       "<style scoped>\n",
       "    .dataframe tbody tr th:only-of-type {\n",
       "        vertical-align: middle;\n",
       "    }\n",
       "\n",
       "    .dataframe tbody tr th {\n",
       "        vertical-align: top;\n",
       "    }\n",
       "\n",
       "    .dataframe thead th {\n",
       "        text-align: right;\n",
       "    }\n",
       "</style>\n",
       "<table border=\"1\" class=\"dataframe\">\n",
       "  <thead>\n",
       "    <tr style=\"text-align: right;\">\n",
       "      <th></th>\n",
       "      <th>gender</th>\n",
       "      <th>customer_id</th>\n",
       "      <th>membership_days</th>\n",
       "      <th>age_group</th>\n",
       "      <th>income_group</th>\n",
       "      <th>offer_type</th>\n",
       "    </tr>\n",
       "  </thead>\n",
       "  <tbody>\n",
       "    <tr>\n",
       "      <th>0</th>\n",
       "      <td>0</td>\n",
       "      <td>345</td>\n",
       "      <td>1747</td>\n",
       "      <td>0</td>\n",
       "      <td>3</td>\n",
       "      <td>0</td>\n",
       "    </tr>\n",
       "    <tr>\n",
       "      <th>1</th>\n",
       "      <td>0</td>\n",
       "      <td>345</td>\n",
       "      <td>1747</td>\n",
       "      <td>0</td>\n",
       "      <td>3</td>\n",
       "      <td>0</td>\n",
       "    </tr>\n",
       "  </tbody>\n",
       "</table>\n",
       "</div>"
      ],
      "text/plain": [
       "   gender  customer_id  membership_days  age_group  income_group  offer_type\n",
       "0       0          345             1747          0             3           0\n",
       "1       0          345             1747          0             3           0"
      ]
     },
     "execution_count": 51,
     "metadata": {},
     "output_type": "execute_result"
    }
   ],
   "source": [
    "users.head(2)"
   ]
  },
  {
   "cell_type": "code",
   "execution_count": 52,
   "id": "25ea67f8",
   "metadata": {
    "execution": {
     "iopub.execute_input": "2022-04-27T06:47:22.008035Z",
     "iopub.status.busy": "2022-04-27T06:47:22.007337Z",
     "iopub.status.idle": "2022-04-27T06:47:22.010102Z",
     "shell.execute_reply": "2022-04-27T06:47:22.010602Z",
     "shell.execute_reply.started": "2022-04-27T06:35:09.007350Z"
    },
    "papermill": {
     "duration": 0.100523,
     "end_time": "2022-04-27T06:47:22.010815",
     "exception": false,
     "start_time": "2022-04-27T06:47:21.910292",
     "status": "completed"
    },
    "tags": []
   },
   "outputs": [
    {
     "data": {
      "text/html": [
       "<div>\n",
       "<style scoped>\n",
       "    .dataframe tbody tr th:only-of-type {\n",
       "        vertical-align: middle;\n",
       "    }\n",
       "\n",
       "    .dataframe tbody tr th {\n",
       "        vertical-align: top;\n",
       "    }\n",
       "\n",
       "    .dataframe thead th {\n",
       "        text-align: right;\n",
       "    }\n",
       "</style>\n",
       "<table border=\"1\" class=\"dataframe\">\n",
       "  <thead>\n",
       "    <tr style=\"text-align: right;\">\n",
       "      <th></th>\n",
       "      <th>customer_id</th>\n",
       "      <th>id</th>\n",
       "      <th>reward</th>\n",
       "      <th>channels</th>\n",
       "      <th>offer_type</th>\n",
       "    </tr>\n",
       "  </thead>\n",
       "  <tbody>\n",
       "    <tr>\n",
       "      <th>0</th>\n",
       "      <td>345</td>\n",
       "      <td>6</td>\n",
       "      <td>5</td>\n",
       "      <td>['web', 'email', 'mobile']</td>\n",
       "      <td>0</td>\n",
       "    </tr>\n",
       "    <tr>\n",
       "      <th>1</th>\n",
       "      <td>345</td>\n",
       "      <td>6</td>\n",
       "      <td>5</td>\n",
       "      <td>['web', 'email', 'mobile']</td>\n",
       "      <td>0</td>\n",
       "    </tr>\n",
       "  </tbody>\n",
       "</table>\n",
       "</div>"
      ],
      "text/plain": [
       "   customer_id  id  reward                    channels  offer_type\n",
       "0          345   6       5  ['web', 'email', 'mobile']           0\n",
       "1          345   6       5  ['web', 'email', 'mobile']           0"
      ]
     },
     "execution_count": 52,
     "metadata": {},
     "output_type": "execute_result"
    }
   ],
   "source": [
    "rewards.head(2)"
   ]
  },
  {
   "cell_type": "code",
   "execution_count": 53,
   "id": "47623bf7",
   "metadata": {
    "execution": {
     "iopub.execute_input": "2022-04-27T06:47:22.194468Z",
     "iopub.status.busy": "2022-04-27T06:47:22.193699Z",
     "iopub.status.idle": "2022-04-27T06:47:22.206950Z",
     "shell.execute_reply": "2022-04-27T06:47:22.206380Z",
     "shell.execute_reply.started": "2022-04-27T06:35:09.026212Z"
    },
    "papermill": {
     "duration": 0.109203,
     "end_time": "2022-04-27T06:47:22.207130",
     "exception": false,
     "start_time": "2022-04-27T06:47:22.097927",
     "status": "completed"
    },
    "tags": []
   },
   "outputs": [
    {
     "data": {
      "text/html": [
       "<div>\n",
       "<style scoped>\n",
       "    .dataframe tbody tr th:only-of-type {\n",
       "        vertical-align: middle;\n",
       "    }\n",
       "\n",
       "    .dataframe tbody tr th {\n",
       "        vertical-align: top;\n",
       "    }\n",
       "\n",
       "    .dataframe thead th {\n",
       "        text-align: right;\n",
       "    }\n",
       "</style>\n",
       "<table border=\"1\" class=\"dataframe\">\n",
       "  <thead>\n",
       "    <tr style=\"text-align: right;\">\n",
       "      <th></th>\n",
       "      <th>customer_id</th>\n",
       "      <th>id</th>\n",
       "      <th>reward</th>\n",
       "      <th>channels</th>\n",
       "      <th>offer_type</th>\n",
       "      <th>offer</th>\n",
       "    </tr>\n",
       "  </thead>\n",
       "  <tbody>\n",
       "    <tr>\n",
       "      <th>0</th>\n",
       "      <td>345</td>\n",
       "      <td>6</td>\n",
       "      <td>5</td>\n",
       "      <td>['web', 'email', 'mobile']</td>\n",
       "      <td>0</td>\n",
       "      <td>1</td>\n",
       "    </tr>\n",
       "    <tr>\n",
       "      <th>1</th>\n",
       "      <td>345</td>\n",
       "      <td>6</td>\n",
       "      <td>5</td>\n",
       "      <td>['web', 'email', 'mobile']</td>\n",
       "      <td>0</td>\n",
       "      <td>1</td>\n",
       "    </tr>\n",
       "  </tbody>\n",
       "</table>\n",
       "</div>"
      ],
      "text/plain": [
       "   customer_id  id  reward                    channels  offer_type  offer\n",
       "0          345   6       5  ['web', 'email', 'mobile']           0      1\n",
       "1          345   6       5  ['web', 'email', 'mobile']           0      1"
      ]
     },
     "execution_count": 53,
     "metadata": {},
     "output_type": "execute_result"
    }
   ],
   "source": [
    "rewards['offer']=df1['offer']\n",
    "rewards.head(2)"
   ]
  },
  {
   "cell_type": "markdown",
   "id": "304ca311",
   "metadata": {
    "papermill": {
     "duration": 0.093492,
     "end_time": "2022-04-27T06:47:22.389046",
     "exception": false,
     "start_time": "2022-04-27T06:47:22.295554",
     "status": "completed"
    },
    "tags": []
   },
   "source": [
    "# **4. Data Modelling**"
   ]
  },
  {
   "cell_type": "code",
   "execution_count": 54,
   "id": "cb657b4d",
   "metadata": {
    "execution": {
     "iopub.execute_input": "2022-04-27T06:47:22.575522Z",
     "iopub.status.busy": "2022-04-27T06:47:22.574711Z",
     "iopub.status.idle": "2022-04-27T06:47:22.580115Z",
     "shell.execute_reply": "2022-04-27T06:47:22.580634Z",
     "shell.execute_reply.started": "2022-04-27T06:36:54.265893Z"
    },
    "papermill": {
     "duration": 0.102253,
     "end_time": "2022-04-27T06:47:22.580867",
     "exception": false,
     "start_time": "2022-04-27T06:47:22.478614",
     "status": "completed"
    },
    "tags": []
   },
   "outputs": [],
   "source": [
    "n_users = rewards.customer_id.unique().shape[0]\n",
    "n_offers = rewards.id.unique().shape[0]\n",
    "n_offers = rewards['id'].max()"
   ]
  },
  {
   "cell_type": "code",
   "execution_count": 55,
   "id": "7f89ec57",
   "metadata": {
    "execution": {
     "iopub.execute_input": "2022-04-27T06:47:22.757564Z",
     "iopub.status.busy": "2022-04-27T06:47:22.756872Z",
     "iopub.status.idle": "2022-04-27T06:47:23.096926Z",
     "shell.execute_reply": "2022-04-27T06:47:23.095480Z",
     "shell.execute_reply.started": "2022-04-27T06:37:06.592524Z"
    },
    "papermill": {
     "duration": 0.430828,
     "end_time": "2022-04-27T06:47:23.097244",
     "exception": false,
     "start_time": "2022-04-27T06:47:22.666416",
     "status": "completed"
    },
    "tags": []
   },
   "outputs": [
    {
     "name": "stdout",
     "output_type": "stream",
     "text": [
      "Original rating matrix :  [[ 3.  0.  0. ...  0.  0.  5.]\n",
      " [ 0.  0.  0. ... 10.  0.  2.]\n",
      " [ 3.  0.  0. ...  0.  5.  0.]\n",
      " ...\n",
      " [ 0.  0.  0. ...  0.  5.  0.]\n",
      " [ 0.  2.  0. ...  0.  0.  5.]\n",
      " [ 0.  2.  0. ...  0.  5.  2.]]\n"
     ]
    }
   ],
   "source": [
    "\n",
    "A = np.zeros((n_users,n_offers))\n",
    "for line in rewards.itertuples():\n",
    "    A[line[1]-1,line[2]-1] = line[3]\n",
    "print(\"Original rating matrix : \",A)"
   ]
  },
  {
   "cell_type": "code",
   "execution_count": 56,
   "id": "23734a19",
   "metadata": {
    "execution": {
     "iopub.execute_input": "2022-04-27T06:47:23.294760Z",
     "iopub.status.busy": "2022-04-27T06:47:23.294090Z",
     "iopub.status.idle": "2022-04-27T06:47:23.523926Z",
     "shell.execute_reply": "2022-04-27T06:47:23.523363Z",
     "shell.execute_reply.started": "2022-04-27T06:37:11.745346Z"
    },
    "papermill": {
     "duration": 0.328738,
     "end_time": "2022-04-27T06:47:23.524079",
     "exception": false,
     "start_time": "2022-04-27T06:47:23.195341",
     "status": "completed"
    },
    "tags": []
   },
   "outputs": [],
   "source": [
    "for i in range(len(A)):\n",
    "  for j in range(len(A[0])):\n",
    "    if A[i][j]>=3:\n",
    "      A[i][j]=1\n",
    "    else:\n",
    "      A[i][j]=0"
   ]
  },
  {
   "cell_type": "code",
   "execution_count": 57,
   "id": "0fcb2662",
   "metadata": {
    "execution": {
     "iopub.execute_input": "2022-04-27T06:47:23.711231Z",
     "iopub.status.busy": "2022-04-27T06:47:23.710506Z",
     "iopub.status.idle": "2022-04-27T06:47:23.720333Z",
     "shell.execute_reply": "2022-04-27T06:47:23.720806Z",
     "shell.execute_reply.started": "2022-04-27T06:37:35.987936Z"
    },
    "papermill": {
     "duration": 0.103395,
     "end_time": "2022-04-27T06:47:23.721018",
     "exception": false,
     "start_time": "2022-04-27T06:47:23.617623",
     "status": "completed"
    },
    "tags": []
   },
   "outputs": [
    {
     "name": "stdout",
     "output_type": "stream",
     "text": [
      "  (0, 0)\t1.0\n",
      "  (0, 5)\t1.0\n",
      "  (0, 8)\t1.0\n",
      "  (1, 3)\t1.0\n",
      "  (1, 6)\t1.0\n",
      "  (2, 0)\t1.0\n",
      "  (2, 5)\t1.0\n",
      "  (2, 7)\t1.0\n",
      "  (3, 8)\t1.0\n",
      "  (4, 8)\t1.0\n",
      "  (5, 7)\t1.0\n",
      "  (6, 6)\t1.0\n",
      "  (6, 7)\t1.0\n",
      "  (7, 5)\t1.0\n",
      "  (7, 6)\t1.0\n",
      "  (8, 0)\t1.0\n",
      "  (8, 5)\t1.0\n",
      "  (8, 8)\t1.0\n",
      "  (9, 3)\t1.0\n",
      "  (9, 6)\t1.0\n",
      "  (9, 8)\t1.0\n",
      "  (10, 5)\t1.0\n",
      "  (11, 5)\t1.0\n",
      "  (11, 8)\t1.0\n",
      "  (12, 3)\t1.0\n",
      "  :\t:\n",
      "  (14802, 3)\t1.0\n",
      "  (14802, 7)\t1.0\n",
      "  (14802, 8)\t1.0\n",
      "  (14803, 3)\t1.0\n",
      "  (14803, 5)\t1.0\n",
      "  (14804, 5)\t1.0\n",
      "  (14804, 7)\t1.0\n",
      "  (14804, 8)\t1.0\n",
      "  (14805, 6)\t1.0\n",
      "  (14806, 3)\t1.0\n",
      "  (14806, 6)\t1.0\n",
      "  (14807, 3)\t1.0\n",
      "  (14808, 3)\t1.0\n",
      "  (14808, 6)\t1.0\n",
      "  (14808, 7)\t1.0\n",
      "  (14809, 5)\t1.0\n",
      "  (14810, 3)\t1.0\n",
      "  (14810, 5)\t1.0\n",
      "  (14810, 6)\t1.0\n",
      "  (14811, 3)\t1.0\n",
      "  (14812, 5)\t1.0\n",
      "  (14812, 7)\t1.0\n",
      "  (14813, 5)\t1.0\n",
      "  (14813, 8)\t1.0\n",
      "  (14814, 7)\t1.0\n"
     ]
    }
   ],
   "source": [
    "csr_sample = csr_matrix(A)\n",
    "print(csr_sample)"
   ]
  },
  {
   "cell_type": "code",
   "execution_count": 58,
   "id": "1c8dbd9a",
   "metadata": {
    "execution": {
     "iopub.execute_input": "2022-04-27T06:47:23.900765Z",
     "iopub.status.busy": "2022-04-27T06:47:23.899772Z",
     "iopub.status.idle": "2022-04-27T06:47:23.904595Z",
     "shell.execute_reply": "2022-04-27T06:47:23.905137Z",
     "shell.execute_reply.started": "2022-04-27T06:37:43.152895Z"
    },
    "papermill": {
     "duration": 0.097722,
     "end_time": "2022-04-27T06:47:23.905332",
     "exception": false,
     "start_time": "2022-04-27T06:47:23.807610",
     "status": "completed"
    },
    "tags": []
   },
   "outputs": [
    {
     "data": {
      "text/plain": [
       "NearestNeighbors(algorithm='brute', metric='cosine', n_jobs=-1, n_neighbors=3)"
      ]
     },
     "execution_count": 58,
     "metadata": {},
     "output_type": "execute_result"
    }
   ],
   "source": [
    "knn = NearestNeighbors(metric='cosine', algorithm='brute', n_neighbors=3, n_jobs=-1)\n",
    "knn.fit(csr_sample)"
   ]
  },
  {
   "cell_type": "code",
   "execution_count": 59,
   "id": "80e74a09",
   "metadata": {
    "execution": {
     "iopub.execute_input": "2022-04-27T06:47:24.086510Z",
     "iopub.status.busy": "2022-04-27T06:47:24.085596Z",
     "iopub.status.idle": "2022-04-27T06:47:24.120727Z",
     "shell.execute_reply": "2022-04-27T06:47:24.119945Z",
     "shell.execute_reply.started": "2022-04-27T06:37:46.468321Z"
    },
    "papermill": {
     "duration": 0.12651,
     "end_time": "2022-04-27T06:47:24.120932",
     "exception": false,
     "start_time": "2022-04-27T06:47:23.994422",
     "status": "completed"
    },
    "tags": []
   },
   "outputs": [
    {
     "name": "stdout",
     "output_type": "stream",
     "text": [
      "Offers received by user:  [5, 5, 6, 3, 3, 0, 1, 0, 1, 0, 6, 6, 1]\n"
     ]
    }
   ],
   "source": [
    "dataset_sort_des = rewards.sort_values(['customer_id'], ascending=[True])\n",
    "filter1 = dataset_sort_des[dataset_sort_des['customer_id'] == 1].id\n",
    "filter1 = filter1.tolist()\n",
    "filter1 = filter1[:20]\n",
    "print(\"Offers received by user: \",filter1)"
   ]
  },
  {
   "cell_type": "code",
   "execution_count": 60,
   "id": "87a7ccd1",
   "metadata": {
    "execution": {
     "iopub.execute_input": "2022-04-27T06:47:24.299485Z",
     "iopub.status.busy": "2022-04-27T06:47:24.298849Z",
     "iopub.status.idle": "2022-04-27T06:47:25.661866Z",
     "shell.execute_reply": "2022-04-27T06:47:25.661339Z",
     "shell.execute_reply.started": "2022-04-27T06:37:53.066356Z"
    },
    "papermill": {
     "duration": 1.454254,
     "end_time": "2022-04-27T06:47:25.662014",
     "exception": false,
     "start_time": "2022-04-27T06:47:24.207760",
     "status": "completed"
    },
    "tags": []
   },
   "outputs": [
    {
     "name": "stdout",
     "output_type": "stream",
     "text": [
      "Offers to be recommended:  [87, 119, 87, 119, 18, 72, 4, 52, 4, 52, 8, 126, 96, 139, 8, 126, 96, 139, 8, 126, 18, 72, 18, 72, 96, 139]\n"
     ]
    }
   ],
   "source": [
    "distances1=[]\n",
    "indices1=[]\n",
    "for i in filter1:\n",
    "  distances , indices = knn.kneighbors(csr_sample[i],n_neighbors=3)\n",
    "  indices = indices.flatten()\n",
    "  indices= indices[1:]\n",
    "  indices1.extend(indices)\n",
    "print(\"Offers to be recommended: \",indices1)"
   ]
  },
  {
   "cell_type": "markdown",
   "id": "98ccd5f6",
   "metadata": {
    "papermill": {
     "duration": 0.088685,
     "end_time": "2022-04-27T06:47:25.839215",
     "exception": false,
     "start_time": "2022-04-27T06:47:25.750530",
     "status": "completed"
    },
    "tags": []
   },
   "source": [
    "# **5. Conclusion**"
   ]
  },
  {
   "cell_type": "markdown",
   "id": "0a7396c9",
   "metadata": {
    "papermill": {
     "duration": 0.086346,
     "end_time": "2022-04-27T06:47:26.013541",
     "exception": false,
     "start_time": "2022-04-27T06:47:25.927195",
     "status": "completed"
    },
    "tags": []
   },
   "source": [
    "1. The above datasets can be used for targeted advertising.\n",
    "2. After performing proper filtering the dataset attributes helps in making appropriate recoomendations.\n",
    "3. The customer behavior and similarities between customers helps in making recommendations.\n",
    "4. Knn algorithm works fine for offer based recommendation.\n",
    "5. In personalized marketing item based or user based collborative filtering method is useful."
   ]
  },
  {
   "cell_type": "code",
   "execution_count": null,
   "id": "7f2ae39a",
   "metadata": {
    "papermill": {
     "duration": 0.086634,
     "end_time": "2022-04-27T06:47:26.187043",
     "exception": false,
     "start_time": "2022-04-27T06:47:26.100409",
     "status": "completed"
    },
    "tags": []
   },
   "outputs": [],
   "source": []
  },
  {
   "cell_type": "code",
   "execution_count": null,
   "id": "2087e0fd",
   "metadata": {
    "papermill": {
     "duration": 0.085905,
     "end_time": "2022-04-27T06:47:26.364032",
     "exception": false,
     "start_time": "2022-04-27T06:47:26.278127",
     "status": "completed"
    },
    "tags": []
   },
   "outputs": [],
   "source": []
  },
  {
   "cell_type": "code",
   "execution_count": null,
   "id": "0ef22bfd",
   "metadata": {
    "papermill": {
     "duration": 0.085739,
     "end_time": "2022-04-27T06:47:26.535837",
     "exception": false,
     "start_time": "2022-04-27T06:47:26.450098",
     "status": "completed"
    },
    "tags": []
   },
   "outputs": [],
   "source": []
  },
  {
   "cell_type": "code",
   "execution_count": null,
   "id": "c8192a5f",
   "metadata": {
    "papermill": {
     "duration": 0.085633,
     "end_time": "2022-04-27T06:47:26.707488",
     "exception": false,
     "start_time": "2022-04-27T06:47:26.621855",
     "status": "completed"
    },
    "tags": []
   },
   "outputs": [],
   "source": []
  },
  {
   "cell_type": "code",
   "execution_count": null,
   "id": "28505f3b",
   "metadata": {
    "papermill": {
     "duration": 0.087068,
     "end_time": "2022-04-27T06:47:26.883841",
     "exception": false,
     "start_time": "2022-04-27T06:47:26.796773",
     "status": "completed"
    },
    "tags": []
   },
   "outputs": [],
   "source": []
  }
 ],
 "metadata": {
  "kernelspec": {
   "display_name": "Python 3",
   "language": "python",
   "name": "python3"
  },
  "language_info": {
   "codemirror_mode": {
    "name": "ipython",
    "version": 3
   },
   "file_extension": ".py",
   "mimetype": "text/x-python",
   "name": "python",
   "nbconvert_exporter": "python",
   "pygments_lexer": "ipython3",
   "version": "3.7.12"
  },
  "papermill": {
   "default_parameters": {},
   "duration": 51.991697,
   "end_time": "2022-04-27T06:47:27.882347",
   "environment_variables": {},
   "exception": null,
   "input_path": "__notebook__.ipynb",
   "output_path": "__notebook__.ipynb",
   "parameters": {},
   "start_time": "2022-04-27T06:46:35.890650",
   "version": "2.3.3"
  }
 },
 "nbformat": 4,
 "nbformat_minor": 5
}
